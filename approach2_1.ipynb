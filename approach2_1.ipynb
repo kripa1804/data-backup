{
 "cells": [
  {
   "cell_type": "code",
   "execution_count": 1,
   "metadata": {
    "_cell_guid": "b1076dfc-b9ad-4769-8c92-a6c4dae69d19",
    "_uuid": "8f2839f25d086af736a60e9eeb907d3b93b6e0e5",
    "execution": {
     "iopub.execute_input": "2022-06-02T10:25:42.035618Z",
     "iopub.status.busy": "2022-06-02T10:25:42.035269Z",
     "iopub.status.idle": "2022-06-02T10:25:42.04945Z",
     "shell.execute_reply": "2022-06-02T10:25:42.048234Z",
     "shell.execute_reply.started": "2022-06-02T10:25:42.035582Z"
    }
   },
   "outputs": [],
   "source": [
    "# This Python 3 environment comes with many helpful analytics libraries installed\n",
    "# It is defined by the kaggle/python Docker image: https://github.com/kaggle/docker-python\n",
    "# For example, here's several helpful packages to load\n",
    "\n",
    "import numpy as np # linear algebra\n",
    "import pandas as pd # data processing, CSV file I/O (e.g. pd.read_csv)\n",
    "\n",
    "# Input data files are available in the read-only \"../input/\" directory\n",
    "# For example, running this (by clicking run or pressing Shift+Enter) will list all files under the input directory\n",
    "\n",
    "import os\n",
    "for dirname, _, filenames in os.walk('/kaggle/input'):\n",
    "    for filename in filenames:\n",
    "        print(os.path.join(dirname, filename))\n",
    "\n",
    "# You can write up to 5GB to the current directory (/kaggle/working/) that gets preserved as output when you create a version using \"Save & Run All\" \n",
    "# You can also write temporary files to /kaggle/temp/, but they won't be saved outside of the current session"
   ]
  },
  {
   "cell_type": "code",
   "execution_count": 2,
   "metadata": {},
   "outputs": [
    {
     "name": "stdout",
     "output_type": "stream",
     "text": [
      "Collecting lime\n",
      "  Downloading lime-0.2.0.1.tar.gz (275 kB)\n",
      "     -------------------------------------- 275.7/275.7 kB 2.1 MB/s eta 0:00:00\n",
      "  Preparing metadata (setup.py): started\n",
      "  Preparing metadata (setup.py): finished with status 'done'\n",
      "Requirement already satisfied: matplotlib in c:\\users\\302201\\anaconda3\\lib\\site-packages (from lime) (3.4.3)\n",
      "Requirement already satisfied: numpy in c:\\users\\302201\\anaconda3\\lib\\site-packages (from lime) (1.20.3)\n",
      "Requirement already satisfied: scipy in c:\\users\\302201\\anaconda3\\lib\\site-packages (from lime) (1.7.1)\n",
      "Requirement already satisfied: tqdm in c:\\users\\302201\\anaconda3\\lib\\site-packages (from lime) (4.62.3)\n",
      "Requirement already satisfied: scikit-learn>=0.18 in c:\\users\\302201\\anaconda3\\lib\\site-packages (from lime) (1.1.1)\n",
      "Requirement already satisfied: scikit-image>=0.12 in c:\\users\\302201\\anaconda3\\lib\\site-packages (from lime) (0.18.3)\n",
      "Requirement already satisfied: networkx>=2.0 in c:\\users\\302201\\anaconda3\\lib\\site-packages (from scikit-image>=0.12->lime) (2.6.3)\n",
      "Requirement already satisfied: pillow!=7.1.0,!=7.1.1,>=4.3.0 in c:\\users\\302201\\anaconda3\\lib\\site-packages (from scikit-image>=0.12->lime) (8.4.0)\n",
      "Requirement already satisfied: imageio>=2.3.0 in c:\\users\\302201\\anaconda3\\lib\\site-packages (from scikit-image>=0.12->lime) (2.9.0)\n",
      "Requirement already satisfied: tifffile>=2019.7.26 in c:\\users\\302201\\anaconda3\\lib\\site-packages (from scikit-image>=0.12->lime) (2021.7.2)\n",
      "Requirement already satisfied: PyWavelets>=1.1.1 in c:\\users\\302201\\anaconda3\\lib\\site-packages (from scikit-image>=0.12->lime) (1.1.1)\n",
      "Requirement already satisfied: python-dateutil>=2.7 in c:\\users\\302201\\anaconda3\\lib\\site-packages (from matplotlib->lime) (2.8.2)\n",
      "Requirement already satisfied: pyparsing>=2.2.1 in c:\\users\\302201\\anaconda3\\lib\\site-packages (from matplotlib->lime) (3.0.4)\n",
      "Requirement already satisfied: cycler>=0.10 in c:\\users\\302201\\anaconda3\\lib\\site-packages (from matplotlib->lime) (0.10.0)\n",
      "Requirement already satisfied: kiwisolver>=1.0.1 in c:\\users\\302201\\anaconda3\\lib\\site-packages (from matplotlib->lime) (1.3.1)\n",
      "Requirement already satisfied: joblib>=1.0.0 in c:\\users\\302201\\anaconda3\\lib\\site-packages (from scikit-learn>=0.18->lime) (1.1.0)\n",
      "Requirement already satisfied: threadpoolctl>=2.0.0 in c:\\users\\302201\\anaconda3\\lib\\site-packages (from scikit-learn>=0.18->lime) (2.2.0)\n",
      "Requirement already satisfied: colorama in c:\\users\\302201\\anaconda3\\lib\\site-packages (from tqdm->lime) (0.4.4)\n",
      "Requirement already satisfied: six in c:\\users\\302201\\anaconda3\\lib\\site-packages (from cycler>=0.10->matplotlib->lime) (1.16.0)\n",
      "Building wheels for collected packages: lime\n",
      "  Building wheel for lime (setup.py): started\n",
      "  Building wheel for lime (setup.py): finished with status 'done'\n",
      "  Created wheel for lime: filename=lime-0.2.0.1-py3-none-any.whl size=283857 sha256=9b34744b6d680f01b5671a36f2e022d68ec335c038c57d8366b4d4576c820330\n",
      "  Stored in directory: c:\\users\\302201\\appdata\\local\\pip\\cache\\wheels\\ed\\d7\\c9\\5a0130d06d6310bc6cbe55220e6e72dcb8c4eff9a478717066\n",
      "Successfully built lime\n",
      "Installing collected packages: lime\n",
      "Successfully installed lime-0.2.0.1\n",
      "Note: you may need to restart the kernel to use updated packages.\n"
     ]
    }
   ],
   "source": [
    "pip install lime"
   ]
  },
  {
   "cell_type": "code",
   "execution_count": 3,
   "metadata": {
    "_cell_guid": "79c7e3d0-c299-4dcb-8224-4455121ee9b0",
    "_uuid": "d629ff2d2480ee46fbb7e2d37f6b5fab8052498a",
    "execution": {
     "iopub.execute_input": "2022-06-02T10:28:31.462805Z",
     "iopub.status.busy": "2022-06-02T10:28:31.46245Z",
     "iopub.status.idle": "2022-06-02T10:28:31.482397Z",
     "shell.execute_reply": "2022-06-02T10:28:31.481463Z",
     "shell.execute_reply.started": "2022-06-02T10:28:31.462775Z"
    }
   },
   "outputs": [],
   "source": [
    "train = pd.read_csv('Train-1542865627584.csv');"
   ]
  },
  {
   "cell_type": "code",
   "execution_count": 4,
   "metadata": {
    "execution": {
     "iopub.execute_input": "2022-06-02T10:28:32.545665Z",
     "iopub.status.busy": "2022-06-02T10:28:32.545208Z",
     "iopub.status.idle": "2022-06-02T10:28:32.562036Z",
     "shell.execute_reply": "2022-06-02T10:28:32.560548Z",
     "shell.execute_reply.started": "2022-06-02T10:28:32.545627Z"
    }
   },
   "outputs": [
    {
     "data": {
      "text/html": [
       "<div>\n",
       "<style scoped>\n",
       "    .dataframe tbody tr th:only-of-type {\n",
       "        vertical-align: middle;\n",
       "    }\n",
       "\n",
       "    .dataframe tbody tr th {\n",
       "        vertical-align: top;\n",
       "    }\n",
       "\n",
       "    .dataframe thead th {\n",
       "        text-align: right;\n",
       "    }\n",
       "</style>\n",
       "<table border=\"1\" class=\"dataframe\">\n",
       "  <thead>\n",
       "    <tr style=\"text-align: right;\">\n",
       "      <th></th>\n",
       "      <th>Provider</th>\n",
       "      <th>PotentialFraud</th>\n",
       "    </tr>\n",
       "  </thead>\n",
       "  <tbody>\n",
       "    <tr>\n",
       "      <th>0</th>\n",
       "      <td>PRV51001</td>\n",
       "      <td>No</td>\n",
       "    </tr>\n",
       "    <tr>\n",
       "      <th>1</th>\n",
       "      <td>PRV51003</td>\n",
       "      <td>Yes</td>\n",
       "    </tr>\n",
       "    <tr>\n",
       "      <th>2</th>\n",
       "      <td>PRV51004</td>\n",
       "      <td>No</td>\n",
       "    </tr>\n",
       "    <tr>\n",
       "      <th>3</th>\n",
       "      <td>PRV51005</td>\n",
       "      <td>Yes</td>\n",
       "    </tr>\n",
       "    <tr>\n",
       "      <th>4</th>\n",
       "      <td>PRV51007</td>\n",
       "      <td>No</td>\n",
       "    </tr>\n",
       "  </tbody>\n",
       "</table>\n",
       "</div>"
      ],
      "text/plain": [
       "   Provider PotentialFraud\n",
       "0  PRV51001             No\n",
       "1  PRV51003            Yes\n",
       "2  PRV51004             No\n",
       "3  PRV51005            Yes\n",
       "4  PRV51007             No"
      ]
     },
     "execution_count": 4,
     "metadata": {},
     "output_type": "execute_result"
    }
   ],
   "source": [
    "train.head()"
   ]
  },
  {
   "cell_type": "code",
   "execution_count": 5,
   "metadata": {},
   "outputs": [],
   "source": [
    "col= \"Provider\""
   ]
  },
  {
   "cell_type": "code",
   "execution_count": 6,
   "metadata": {
    "execution": {
     "iopub.execute_input": "2022-06-02T10:28:37.380275Z",
     "iopub.status.busy": "2022-06-02T10:28:37.379949Z",
     "iopub.status.idle": "2022-06-02T10:28:37.387275Z",
     "shell.execute_reply": "2022-06-02T10:28:37.386363Z",
     "shell.execute_reply.started": "2022-06-02T10:28:37.38024Z"
    }
   },
   "outputs": [],
   "source": [
    "v=train.groupby(\"PotentialFraud\")\n"
   ]
  },
  {
   "cell_type": "code",
   "execution_count": 7,
   "metadata": {
    "execution": {
     "iopub.execute_input": "2022-06-02T10:28:38.535441Z",
     "iopub.status.busy": "2022-06-02T10:28:38.535057Z",
     "iopub.status.idle": "2022-06-02T10:28:41.166642Z",
     "shell.execute_reply": "2022-06-02T10:28:41.165837Z",
     "shell.execute_reply.started": "2022-06-02T10:28:38.535406Z"
    }
   },
   "outputs": [
    {
     "data": {
      "text/html": [
       "<div>\n",
       "<style scoped>\n",
       "    .dataframe tbody tr th:only-of-type {\n",
       "        vertical-align: middle;\n",
       "    }\n",
       "\n",
       "    .dataframe tbody tr th {\n",
       "        vertical-align: top;\n",
       "    }\n",
       "\n",
       "    .dataframe thead th {\n",
       "        text-align: right;\n",
       "    }\n",
       "</style>\n",
       "<table border=\"1\" class=\"dataframe\">\n",
       "  <thead>\n",
       "    <tr style=\"text-align: right;\">\n",
       "      <th></th>\n",
       "      <th>BeneID</th>\n",
       "      <th>ClaimID</th>\n",
       "      <th>ClaimStartDt</th>\n",
       "      <th>ClaimEndDt</th>\n",
       "      <th>Provider</th>\n",
       "      <th>InscClaimAmtReimbursed</th>\n",
       "      <th>AttendingPhysician</th>\n",
       "      <th>OperatingPhysician</th>\n",
       "      <th>OtherPhysician</th>\n",
       "      <th>ClmDiagnosisCode_1</th>\n",
       "      <th>...</th>\n",
       "      <th>ClmDiagnosisCode_9</th>\n",
       "      <th>ClmDiagnosisCode_10</th>\n",
       "      <th>ClmProcedureCode_1</th>\n",
       "      <th>ClmProcedureCode_2</th>\n",
       "      <th>ClmProcedureCode_3</th>\n",
       "      <th>ClmProcedureCode_4</th>\n",
       "      <th>ClmProcedureCode_5</th>\n",
       "      <th>ClmProcedureCode_6</th>\n",
       "      <th>DeductibleAmtPaid</th>\n",
       "      <th>ClmAdmitDiagnosisCode</th>\n",
       "    </tr>\n",
       "  </thead>\n",
       "  <tbody>\n",
       "    <tr>\n",
       "      <th>0</th>\n",
       "      <td>BENE11002</td>\n",
       "      <td>CLM624349</td>\n",
       "      <td>2009-10-11</td>\n",
       "      <td>2009-10-11</td>\n",
       "      <td>PRV56011</td>\n",
       "      <td>30</td>\n",
       "      <td>PHY326117</td>\n",
       "      <td>NaN</td>\n",
       "      <td>NaN</td>\n",
       "      <td>78943</td>\n",
       "      <td>...</td>\n",
       "      <td>NaN</td>\n",
       "      <td>NaN</td>\n",
       "      <td>NaN</td>\n",
       "      <td>NaN</td>\n",
       "      <td>NaN</td>\n",
       "      <td>NaN</td>\n",
       "      <td>NaN</td>\n",
       "      <td>NaN</td>\n",
       "      <td>0</td>\n",
       "      <td>56409</td>\n",
       "    </tr>\n",
       "    <tr>\n",
       "      <th>1</th>\n",
       "      <td>BENE11003</td>\n",
       "      <td>CLM189947</td>\n",
       "      <td>2009-02-12</td>\n",
       "      <td>2009-02-12</td>\n",
       "      <td>PRV57610</td>\n",
       "      <td>80</td>\n",
       "      <td>PHY362868</td>\n",
       "      <td>NaN</td>\n",
       "      <td>NaN</td>\n",
       "      <td>6115</td>\n",
       "      <td>...</td>\n",
       "      <td>NaN</td>\n",
       "      <td>NaN</td>\n",
       "      <td>NaN</td>\n",
       "      <td>NaN</td>\n",
       "      <td>NaN</td>\n",
       "      <td>NaN</td>\n",
       "      <td>NaN</td>\n",
       "      <td>NaN</td>\n",
       "      <td>0</td>\n",
       "      <td>79380</td>\n",
       "    </tr>\n",
       "    <tr>\n",
       "      <th>2</th>\n",
       "      <td>BENE11003</td>\n",
       "      <td>CLM438021</td>\n",
       "      <td>2009-06-27</td>\n",
       "      <td>2009-06-27</td>\n",
       "      <td>PRV57595</td>\n",
       "      <td>10</td>\n",
       "      <td>PHY328821</td>\n",
       "      <td>NaN</td>\n",
       "      <td>NaN</td>\n",
       "      <td>2723</td>\n",
       "      <td>...</td>\n",
       "      <td>NaN</td>\n",
       "      <td>NaN</td>\n",
       "      <td>NaN</td>\n",
       "      <td>NaN</td>\n",
       "      <td>NaN</td>\n",
       "      <td>NaN</td>\n",
       "      <td>NaN</td>\n",
       "      <td>NaN</td>\n",
       "      <td>0</td>\n",
       "      <td>NaN</td>\n",
       "    </tr>\n",
       "    <tr>\n",
       "      <th>3</th>\n",
       "      <td>BENE11004</td>\n",
       "      <td>CLM121801</td>\n",
       "      <td>2009-01-06</td>\n",
       "      <td>2009-01-06</td>\n",
       "      <td>PRV56011</td>\n",
       "      <td>40</td>\n",
       "      <td>PHY334319</td>\n",
       "      <td>NaN</td>\n",
       "      <td>NaN</td>\n",
       "      <td>71988</td>\n",
       "      <td>...</td>\n",
       "      <td>NaN</td>\n",
       "      <td>NaN</td>\n",
       "      <td>NaN</td>\n",
       "      <td>NaN</td>\n",
       "      <td>NaN</td>\n",
       "      <td>NaN</td>\n",
       "      <td>NaN</td>\n",
       "      <td>NaN</td>\n",
       "      <td>0</td>\n",
       "      <td>NaN</td>\n",
       "    </tr>\n",
       "    <tr>\n",
       "      <th>4</th>\n",
       "      <td>BENE11004</td>\n",
       "      <td>CLM150998</td>\n",
       "      <td>2009-01-22</td>\n",
       "      <td>2009-01-22</td>\n",
       "      <td>PRV56011</td>\n",
       "      <td>200</td>\n",
       "      <td>PHY403831</td>\n",
       "      <td>NaN</td>\n",
       "      <td>NaN</td>\n",
       "      <td>82382</td>\n",
       "      <td>...</td>\n",
       "      <td>NaN</td>\n",
       "      <td>NaN</td>\n",
       "      <td>NaN</td>\n",
       "      <td>NaN</td>\n",
       "      <td>NaN</td>\n",
       "      <td>NaN</td>\n",
       "      <td>NaN</td>\n",
       "      <td>NaN</td>\n",
       "      <td>0</td>\n",
       "      <td>71947</td>\n",
       "    </tr>\n",
       "  </tbody>\n",
       "</table>\n",
       "<p>5 rows × 27 columns</p>\n",
       "</div>"
      ],
      "text/plain": [
       "      BeneID    ClaimID ClaimStartDt  ClaimEndDt  Provider  \\\n",
       "0  BENE11002  CLM624349   2009-10-11  2009-10-11  PRV56011   \n",
       "1  BENE11003  CLM189947   2009-02-12  2009-02-12  PRV57610   \n",
       "2  BENE11003  CLM438021   2009-06-27  2009-06-27  PRV57595   \n",
       "3  BENE11004  CLM121801   2009-01-06  2009-01-06  PRV56011   \n",
       "4  BENE11004  CLM150998   2009-01-22  2009-01-22  PRV56011   \n",
       "\n",
       "   InscClaimAmtReimbursed AttendingPhysician OperatingPhysician  \\\n",
       "0                      30          PHY326117                NaN   \n",
       "1                      80          PHY362868                NaN   \n",
       "2                      10          PHY328821                NaN   \n",
       "3                      40          PHY334319                NaN   \n",
       "4                     200          PHY403831                NaN   \n",
       "\n",
       "  OtherPhysician ClmDiagnosisCode_1  ... ClmDiagnosisCode_9  \\\n",
       "0            NaN              78943  ...                NaN   \n",
       "1            NaN               6115  ...                NaN   \n",
       "2            NaN               2723  ...                NaN   \n",
       "3            NaN              71988  ...                NaN   \n",
       "4            NaN              82382  ...                NaN   \n",
       "\n",
       "  ClmDiagnosisCode_10 ClmProcedureCode_1 ClmProcedureCode_2  \\\n",
       "0                 NaN                NaN                NaN   \n",
       "1                 NaN                NaN                NaN   \n",
       "2                 NaN                NaN                NaN   \n",
       "3                 NaN                NaN                NaN   \n",
       "4                 NaN                NaN                NaN   \n",
       "\n",
       "  ClmProcedureCode_3 ClmProcedureCode_4 ClmProcedureCode_5 ClmProcedureCode_6  \\\n",
       "0                NaN                NaN                NaN                NaN   \n",
       "1                NaN                NaN                NaN                NaN   \n",
       "2                NaN                NaN                NaN                NaN   \n",
       "3                NaN                NaN                NaN                NaN   \n",
       "4                NaN                NaN                NaN                NaN   \n",
       "\n",
       "  DeductibleAmtPaid  ClmAdmitDiagnosisCode  \n",
       "0                 0                  56409  \n",
       "1                 0                  79380  \n",
       "2                 0                    NaN  \n",
       "3                 0                    NaN  \n",
       "4                 0                  71947  \n",
       "\n",
       "[5 rows x 27 columns]"
      ]
     },
     "execution_count": 7,
     "metadata": {},
     "output_type": "execute_result"
    }
   ],
   "source": [
    "outpatient= pd.read_csv(\"Train_Outpatientdata-1542865627584.csv\")\n",
    "outpatient.head()"
   ]
  },
  {
   "cell_type": "code",
   "execution_count": 8,
   "metadata": {
    "execution": {
     "iopub.execute_input": "2022-06-02T10:28:43.935471Z",
     "iopub.status.busy": "2022-06-02T10:28:43.935148Z",
     "iopub.status.idle": "2022-06-02T10:28:43.941284Z",
     "shell.execute_reply": "2022-06-02T10:28:43.940329Z",
     "shell.execute_reply.started": "2022-06-02T10:28:43.935441Z"
    }
   },
   "outputs": [
    {
     "data": {
      "text/html": [
       "<div>\n",
       "<style scoped>\n",
       "    .dataframe tbody tr th:only-of-type {\n",
       "        vertical-align: middle;\n",
       "    }\n",
       "\n",
       "    .dataframe tbody tr th {\n",
       "        vertical-align: top;\n",
       "    }\n",
       "\n",
       "    .dataframe thead th {\n",
       "        text-align: right;\n",
       "    }\n",
       "</style>\n",
       "<table border=\"1\" class=\"dataframe\">\n",
       "  <thead>\n",
       "    <tr style=\"text-align: right;\">\n",
       "      <th></th>\n",
       "      <th>InscClaimAmtReimbursed</th>\n",
       "      <th>ClmProcedureCode_1</th>\n",
       "      <th>ClmProcedureCode_2</th>\n",
       "      <th>ClmProcedureCode_3</th>\n",
       "      <th>ClmProcedureCode_4</th>\n",
       "      <th>ClmProcedureCode_5</th>\n",
       "      <th>ClmProcedureCode_6</th>\n",
       "      <th>DeductibleAmtPaid</th>\n",
       "    </tr>\n",
       "  </thead>\n",
       "  <tbody>\n",
       "    <tr>\n",
       "      <th>count</th>\n",
       "      <td>517737.000000</td>\n",
       "      <td>162.000000</td>\n",
       "      <td>36.000000</td>\n",
       "      <td>4.000000</td>\n",
       "      <td>2.000000</td>\n",
       "      <td>0.0</td>\n",
       "      <td>0.0</td>\n",
       "      <td>517737.000000</td>\n",
       "    </tr>\n",
       "    <tr>\n",
       "      <th>mean</th>\n",
       "      <td>286.334799</td>\n",
       "      <td>6116.611111</td>\n",
       "      <td>4503.277778</td>\n",
       "      <td>2959.000000</td>\n",
       "      <td>4075.500000</td>\n",
       "      <td>NaN</td>\n",
       "      <td>NaN</td>\n",
       "      <td>2.779233</td>\n",
       "    </tr>\n",
       "    <tr>\n",
       "      <th>std</th>\n",
       "      <td>694.034343</td>\n",
       "      <td>3217.719258</td>\n",
       "      <td>2504.015000</td>\n",
       "      <td>1863.455393</td>\n",
       "      <td>5323.806956</td>\n",
       "      <td>NaN</td>\n",
       "      <td>NaN</td>\n",
       "      <td>15.785839</td>\n",
       "    </tr>\n",
       "    <tr>\n",
       "      <th>min</th>\n",
       "      <td>0.000000</td>\n",
       "      <td>51.000000</td>\n",
       "      <td>412.000000</td>\n",
       "      <td>412.000000</td>\n",
       "      <td>311.000000</td>\n",
       "      <td>NaN</td>\n",
       "      <td>NaN</td>\n",
       "      <td>0.000000</td>\n",
       "    </tr>\n",
       "    <tr>\n",
       "      <th>25%</th>\n",
       "      <td>40.000000</td>\n",
       "      <td>3893.000000</td>\n",
       "      <td>2724.000000</td>\n",
       "      <td>2146.000000</td>\n",
       "      <td>2193.250000</td>\n",
       "      <td>NaN</td>\n",
       "      <td>NaN</td>\n",
       "      <td>0.000000</td>\n",
       "    </tr>\n",
       "    <tr>\n",
       "      <th>50%</th>\n",
       "      <td>80.000000</td>\n",
       "      <td>5244.500000</td>\n",
       "      <td>4019.000000</td>\n",
       "      <td>3511.500000</td>\n",
       "      <td>4075.500000</td>\n",
       "      <td>NaN</td>\n",
       "      <td>NaN</td>\n",
       "      <td>0.000000</td>\n",
       "    </tr>\n",
       "    <tr>\n",
       "      <th>75%</th>\n",
       "      <td>200.000000</td>\n",
       "      <td>9421.500000</td>\n",
       "      <td>5849.000000</td>\n",
       "      <td>4324.500000</td>\n",
       "      <td>5957.750000</td>\n",
       "      <td>NaN</td>\n",
       "      <td>NaN</td>\n",
       "      <td>0.000000</td>\n",
       "    </tr>\n",
       "    <tr>\n",
       "      <th>max</th>\n",
       "      <td>102500.000000</td>\n",
       "      <td>9999.000000</td>\n",
       "      <td>9982.000000</td>\n",
       "      <td>4401.000000</td>\n",
       "      <td>7840.000000</td>\n",
       "      <td>NaN</td>\n",
       "      <td>NaN</td>\n",
       "      <td>897.000000</td>\n",
       "    </tr>\n",
       "  </tbody>\n",
       "</table>\n",
       "</div>"
      ],
      "text/plain": [
       "       InscClaimAmtReimbursed  ClmProcedureCode_1  ClmProcedureCode_2  \\\n",
       "count           517737.000000          162.000000           36.000000   \n",
       "mean               286.334799         6116.611111         4503.277778   \n",
       "std                694.034343         3217.719258         2504.015000   \n",
       "min                  0.000000           51.000000          412.000000   \n",
       "25%                 40.000000         3893.000000         2724.000000   \n",
       "50%                 80.000000         5244.500000         4019.000000   \n",
       "75%                200.000000         9421.500000         5849.000000   \n",
       "max             102500.000000         9999.000000         9982.000000   \n",
       "\n",
       "       ClmProcedureCode_3  ClmProcedureCode_4  ClmProcedureCode_5  \\\n",
       "count            4.000000            2.000000                 0.0   \n",
       "mean          2959.000000         4075.500000                 NaN   \n",
       "std           1863.455393         5323.806956                 NaN   \n",
       "min            412.000000          311.000000                 NaN   \n",
       "25%           2146.000000         2193.250000                 NaN   \n",
       "50%           3511.500000         4075.500000                 NaN   \n",
       "75%           4324.500000         5957.750000                 NaN   \n",
       "max           4401.000000         7840.000000                 NaN   \n",
       "\n",
       "       ClmProcedureCode_6  DeductibleAmtPaid  \n",
       "count                 0.0      517737.000000  \n",
       "mean                  NaN           2.779233  \n",
       "std                   NaN          15.785839  \n",
       "min                   NaN           0.000000  \n",
       "25%                   NaN           0.000000  \n",
       "50%                   NaN           0.000000  \n",
       "75%                   NaN           0.000000  \n",
       "max                   NaN         897.000000  "
      ]
     },
     "execution_count": 8,
     "metadata": {},
     "output_type": "execute_result"
    }
   ],
   "source": [
    "outpatient.describe()"
   ]
  },
  {
   "cell_type": "code",
   "execution_count": 9,
   "metadata": {
    "execution": {
     "iopub.execute_input": "2022-06-02T10:28:50.696778Z",
     "iopub.status.busy": "2022-06-02T10:28:50.696461Z",
     "iopub.status.idle": "2022-06-02T10:28:50.991474Z",
     "shell.execute_reply": "2022-06-02T10:28:50.990569Z",
     "shell.execute_reply.started": "2022-06-02T10:28:50.69675Z"
    }
   },
   "outputs": [
    {
     "data": {
      "text/html": [
       "<div>\n",
       "<style scoped>\n",
       "    .dataframe tbody tr th:only-of-type {\n",
       "        vertical-align: middle;\n",
       "    }\n",
       "\n",
       "    .dataframe tbody tr th {\n",
       "        vertical-align: top;\n",
       "    }\n",
       "\n",
       "    .dataframe thead th {\n",
       "        text-align: right;\n",
       "    }\n",
       "</style>\n",
       "<table border=\"1\" class=\"dataframe\">\n",
       "  <thead>\n",
       "    <tr style=\"text-align: right;\">\n",
       "      <th></th>\n",
       "      <th>BeneID</th>\n",
       "      <th>ClaimID</th>\n",
       "      <th>ClaimStartDt</th>\n",
       "      <th>ClaimEndDt</th>\n",
       "      <th>Provider</th>\n",
       "      <th>InscClaimAmtReimbursed</th>\n",
       "      <th>AttendingPhysician</th>\n",
       "      <th>OperatingPhysician</th>\n",
       "      <th>OtherPhysician</th>\n",
       "      <th>AdmissionDt</th>\n",
       "      <th>...</th>\n",
       "      <th>ClmDiagnosisCode_7</th>\n",
       "      <th>ClmDiagnosisCode_8</th>\n",
       "      <th>ClmDiagnosisCode_9</th>\n",
       "      <th>ClmDiagnosisCode_10</th>\n",
       "      <th>ClmProcedureCode_1</th>\n",
       "      <th>ClmProcedureCode_2</th>\n",
       "      <th>ClmProcedureCode_3</th>\n",
       "      <th>ClmProcedureCode_4</th>\n",
       "      <th>ClmProcedureCode_5</th>\n",
       "      <th>ClmProcedureCode_6</th>\n",
       "    </tr>\n",
       "  </thead>\n",
       "  <tbody>\n",
       "    <tr>\n",
       "      <th>0</th>\n",
       "      <td>BENE11001</td>\n",
       "      <td>CLM46614</td>\n",
       "      <td>2009-04-12</td>\n",
       "      <td>2009-04-18</td>\n",
       "      <td>PRV55912</td>\n",
       "      <td>26000</td>\n",
       "      <td>PHY390922</td>\n",
       "      <td>NaN</td>\n",
       "      <td>NaN</td>\n",
       "      <td>2009-04-12</td>\n",
       "      <td>...</td>\n",
       "      <td>2724</td>\n",
       "      <td>19889</td>\n",
       "      <td>5849</td>\n",
       "      <td>NaN</td>\n",
       "      <td>NaN</td>\n",
       "      <td>NaN</td>\n",
       "      <td>NaN</td>\n",
       "      <td>NaN</td>\n",
       "      <td>NaN</td>\n",
       "      <td>NaN</td>\n",
       "    </tr>\n",
       "    <tr>\n",
       "      <th>1</th>\n",
       "      <td>BENE11001</td>\n",
       "      <td>CLM66048</td>\n",
       "      <td>2009-08-31</td>\n",
       "      <td>2009-09-02</td>\n",
       "      <td>PRV55907</td>\n",
       "      <td>5000</td>\n",
       "      <td>PHY318495</td>\n",
       "      <td>PHY318495</td>\n",
       "      <td>NaN</td>\n",
       "      <td>2009-08-31</td>\n",
       "      <td>...</td>\n",
       "      <td>NaN</td>\n",
       "      <td>NaN</td>\n",
       "      <td>NaN</td>\n",
       "      <td>NaN</td>\n",
       "      <td>7092.0</td>\n",
       "      <td>NaN</td>\n",
       "      <td>NaN</td>\n",
       "      <td>NaN</td>\n",
       "      <td>NaN</td>\n",
       "      <td>NaN</td>\n",
       "    </tr>\n",
       "    <tr>\n",
       "      <th>2</th>\n",
       "      <td>BENE11001</td>\n",
       "      <td>CLM68358</td>\n",
       "      <td>2009-09-17</td>\n",
       "      <td>2009-09-20</td>\n",
       "      <td>PRV56046</td>\n",
       "      <td>5000</td>\n",
       "      <td>PHY372395</td>\n",
       "      <td>NaN</td>\n",
       "      <td>PHY324689</td>\n",
       "      <td>2009-09-17</td>\n",
       "      <td>...</td>\n",
       "      <td>NaN</td>\n",
       "      <td>NaN</td>\n",
       "      <td>NaN</td>\n",
       "      <td>NaN</td>\n",
       "      <td>NaN</td>\n",
       "      <td>NaN</td>\n",
       "      <td>NaN</td>\n",
       "      <td>NaN</td>\n",
       "      <td>NaN</td>\n",
       "      <td>NaN</td>\n",
       "    </tr>\n",
       "    <tr>\n",
       "      <th>3</th>\n",
       "      <td>BENE11011</td>\n",
       "      <td>CLM38412</td>\n",
       "      <td>2009-02-14</td>\n",
       "      <td>2009-02-22</td>\n",
       "      <td>PRV52405</td>\n",
       "      <td>5000</td>\n",
       "      <td>PHY369659</td>\n",
       "      <td>PHY392961</td>\n",
       "      <td>PHY349768</td>\n",
       "      <td>2009-02-14</td>\n",
       "      <td>...</td>\n",
       "      <td>25062</td>\n",
       "      <td>40390</td>\n",
       "      <td>4019</td>\n",
       "      <td>NaN</td>\n",
       "      <td>331.0</td>\n",
       "      <td>NaN</td>\n",
       "      <td>NaN</td>\n",
       "      <td>NaN</td>\n",
       "      <td>NaN</td>\n",
       "      <td>NaN</td>\n",
       "    </tr>\n",
       "    <tr>\n",
       "      <th>4</th>\n",
       "      <td>BENE11014</td>\n",
       "      <td>CLM63689</td>\n",
       "      <td>2009-08-13</td>\n",
       "      <td>2009-08-30</td>\n",
       "      <td>PRV56614</td>\n",
       "      <td>10000</td>\n",
       "      <td>PHY379376</td>\n",
       "      <td>PHY398258</td>\n",
       "      <td>NaN</td>\n",
       "      <td>2009-08-13</td>\n",
       "      <td>...</td>\n",
       "      <td>5119</td>\n",
       "      <td>29620</td>\n",
       "      <td>20300</td>\n",
       "      <td>NaN</td>\n",
       "      <td>3893.0</td>\n",
       "      <td>NaN</td>\n",
       "      <td>NaN</td>\n",
       "      <td>NaN</td>\n",
       "      <td>NaN</td>\n",
       "      <td>NaN</td>\n",
       "    </tr>\n",
       "  </tbody>\n",
       "</table>\n",
       "<p>5 rows × 30 columns</p>\n",
       "</div>"
      ],
      "text/plain": [
       "      BeneID   ClaimID ClaimStartDt  ClaimEndDt  Provider  \\\n",
       "0  BENE11001  CLM46614   2009-04-12  2009-04-18  PRV55912   \n",
       "1  BENE11001  CLM66048   2009-08-31  2009-09-02  PRV55907   \n",
       "2  BENE11001  CLM68358   2009-09-17  2009-09-20  PRV56046   \n",
       "3  BENE11011  CLM38412   2009-02-14  2009-02-22  PRV52405   \n",
       "4  BENE11014  CLM63689   2009-08-13  2009-08-30  PRV56614   \n",
       "\n",
       "   InscClaimAmtReimbursed AttendingPhysician OperatingPhysician  \\\n",
       "0                   26000          PHY390922                NaN   \n",
       "1                    5000          PHY318495          PHY318495   \n",
       "2                    5000          PHY372395                NaN   \n",
       "3                    5000          PHY369659          PHY392961   \n",
       "4                   10000          PHY379376          PHY398258   \n",
       "\n",
       "  OtherPhysician AdmissionDt  ... ClmDiagnosisCode_7  ClmDiagnosisCode_8  \\\n",
       "0            NaN  2009-04-12  ...               2724               19889   \n",
       "1            NaN  2009-08-31  ...                NaN                 NaN   \n",
       "2      PHY324689  2009-09-17  ...                NaN                 NaN   \n",
       "3      PHY349768  2009-02-14  ...              25062               40390   \n",
       "4            NaN  2009-08-13  ...               5119               29620   \n",
       "\n",
       "  ClmDiagnosisCode_9 ClmDiagnosisCode_10 ClmProcedureCode_1  \\\n",
       "0               5849                 NaN                NaN   \n",
       "1                NaN                 NaN             7092.0   \n",
       "2                NaN                 NaN                NaN   \n",
       "3               4019                 NaN              331.0   \n",
       "4              20300                 NaN             3893.0   \n",
       "\n",
       "  ClmProcedureCode_2 ClmProcedureCode_3 ClmProcedureCode_4 ClmProcedureCode_5  \\\n",
       "0                NaN                NaN                NaN                NaN   \n",
       "1                NaN                NaN                NaN                NaN   \n",
       "2                NaN                NaN                NaN                NaN   \n",
       "3                NaN                NaN                NaN                NaN   \n",
       "4                NaN                NaN                NaN                NaN   \n",
       "\n",
       "  ClmProcedureCode_6  \n",
       "0                NaN  \n",
       "1                NaN  \n",
       "2                NaN  \n",
       "3                NaN  \n",
       "4                NaN  \n",
       "\n",
       "[5 rows x 30 columns]"
      ]
     },
     "execution_count": 9,
     "metadata": {},
     "output_type": "execute_result"
    }
   ],
   "source": [
    "inpatient= pd.read_csv(\"Train_Inpatientdata-1542865627584.csv\")\n",
    "inpatient.head()"
   ]
  },
  {
   "cell_type": "code",
   "execution_count": 10,
   "metadata": {
    "execution": {
     "iopub.execute_input": "2022-06-02T10:28:53.315617Z",
     "iopub.status.busy": "2022-06-02T10:28:53.315245Z",
     "iopub.status.idle": "2022-06-02T10:28:53.324081Z",
     "shell.execute_reply": "2022-06-02T10:28:53.323373Z",
     "shell.execute_reply.started": "2022-06-02T10:28:53.315586Z"
    }
   },
   "outputs": [],
   "source": [
    "\n",
    "def isCategorical(col):\n",
    "    unis = np.unique(col)\n",
    "    if len(unis)<0.02*len(col):\n",
    "        return True\n",
    "    return False\n",
    "\n",
    "\n",
    "def getColumnTypes(cols):\n",
    "    Categorical=[]\n",
    "    Numerical = []\n",
    "    Object = []\n",
    "    for i in range(len(cols)):\n",
    "        if cols[\"type\"][i]=='categorical':\n",
    "            Categorical.append(cols['column_name'][i])\n",
    "        elif cols[\"type\"][i]=='numerical':\n",
    "            Numerical.append(cols['column_name'][i])\n",
    "        else:\n",
    "            Object.append(cols['column_name'][i])\n",
    "    return Categorical, Numerical, Object\n",
    "\n",
    "def isNumerical(col):\n",
    "    return is_numeric_dtype(col)\n",
    "\n",
    "def genMetaData(df):\n",
    "    col = df.columns\n",
    "    ColumnType = [] \n",
    "    Categorical = []\n",
    "    Object = []\n",
    "    Numerical = []\n",
    "    for i in range(len(col)):\n",
    "        if isCategorical(df[col[i]]):\n",
    "            ColumnType.append((col[i],\"categorical\"))\n",
    "            Categorical.append(col[i])\n",
    "        \n",
    "        elif is_numeric_dtype(df[col[i]]):\n",
    "            ColumnType.append((col[i],\"numerical\"))\n",
    "            Numerical.append(col[i])\n",
    "        \n",
    "        else:\n",
    "            ColumnType.append((col[i],\"object\"))\n",
    "            Object.append(col[i])\n",
    "\n",
    "    return ColumnType\n",
    "\n",
    "def makeMapDict(col): \n",
    "    uniqueVals = list(np.unique(col))\n",
    "    uniqueVals.sort()\n",
    "    dict_ = {uniqueVals[i]: i for i in range(len(uniqueVals))}\n",
    "    return dict_\n",
    "\n",
    "def mapunique(df, colName):\n",
    "    dict_ = makeMapDict(df[colName])\n",
    "    cat = np.unique(df[colName])\n",
    "    df[colName] =  df[colName].map(dict_)\n",
    "    return cat \n",
    "\n",
    "\n",
    "def newDF(df, columns2Drop):\n",
    "    newDF = df.drop(columns2Drop, axis = 'columns')\n",
    "    return newDF\n",
    "\n",
    "def convert_df(df):\n",
    "    return df.to_csv().encode('utf-8')\n",
    "\n"
   ]
  },
  {
   "cell_type": "code",
   "execution_count": 11,
   "metadata": {},
   "outputs": [
    {
     "data": {
      "text/plain": [
       "True"
      ]
     },
     "execution_count": 11,
     "metadata": {},
     "output_type": "execute_result"
    }
   ],
   "source": [
    "isCategorical(outpatient[\"InscClaimAmtReimbursed\"])"
   ]
  },
  {
   "cell_type": "code",
   "execution_count": 12,
   "metadata": {},
   "outputs": [
    {
     "data": {
      "text/plain": [
       "103547.40000000001"
      ]
     },
     "execution_count": 12,
     "metadata": {},
     "output_type": "execute_result"
    }
   ],
   "source": [
    "len(outpatient[\"InscClaimAmtReimbursed\"]) * 0.2"
   ]
  },
  {
   "cell_type": "code",
   "execution_count": 13,
   "metadata": {},
   "outputs": [
    {
     "data": {
      "text/plain": [
       "342"
      ]
     },
     "execution_count": 13,
     "metadata": {},
     "output_type": "execute_result"
    }
   ],
   "source": [
    "unis = np.unique(outpatient[\"InscClaimAmtReimbursed\"])\n",
    "len(unis)"
   ]
  },
  {
   "cell_type": "code",
   "execution_count": 14,
   "metadata": {},
   "outputs": [
    {
     "ename": "FileNotFoundError",
     "evalue": "[Errno 2] No such file or directory: 'main_data.csv'",
     "output_type": "error",
     "traceback": [
      "\u001b[1;31m---------------------------------------------------------------------------\u001b[0m",
      "\u001b[1;31mFileNotFoundError\u001b[0m                         Traceback (most recent call last)",
      "\u001b[1;32m~\\AppData\\Local\\Temp/ipykernel_5172/1377770012.py\u001b[0m in \u001b[0;36m<module>\u001b[1;34m\u001b[0m\n\u001b[1;32m----> 1\u001b[1;33m \u001b[0mdf_analysis\u001b[0m \u001b[1;33m=\u001b[0m \u001b[0mpd\u001b[0m\u001b[1;33m.\u001b[0m\u001b[0mread_csv\u001b[0m\u001b[1;33m(\u001b[0m\u001b[1;34m'main_data.csv'\u001b[0m\u001b[1;33m)\u001b[0m\u001b[1;33m\u001b[0m\u001b[1;33m\u001b[0m\u001b[0m\n\u001b[0m\u001b[0;32m      2\u001b[0m \u001b[0mdf_visual\u001b[0m \u001b[1;33m=\u001b[0m \u001b[0mdf_analysis\u001b[0m\u001b[1;33m.\u001b[0m\u001b[0mcopy\u001b[0m\u001b[1;33m(\u001b[0m\u001b[1;33m)\u001b[0m\u001b[1;33m\u001b[0m\u001b[1;33m\u001b[0m\u001b[0m\n\u001b[0;32m      3\u001b[0m \u001b[0mcols\u001b[0m \u001b[1;33m=\u001b[0m \u001b[0mpd\u001b[0m\u001b[1;33m.\u001b[0m\u001b[0mread_csv\u001b[0m\u001b[1;33m(\u001b[0m\u001b[1;34m'column_type_desc.csv'\u001b[0m\u001b[1;33m)\u001b[0m\u001b[1;33m\u001b[0m\u001b[1;33m\u001b[0m\u001b[0m\n\u001b[0;32m      4\u001b[0m \u001b[0mCategorical\u001b[0m\u001b[1;33m,\u001b[0m\u001b[0mNumerical\u001b[0m\u001b[1;33m,\u001b[0m\u001b[0mObject\u001b[0m \u001b[1;33m=\u001b[0m \u001b[0mgetColumnTypes\u001b[0m\u001b[1;33m(\u001b[0m\u001b[0mcols\u001b[0m\u001b[1;33m)\u001b[0m\u001b[1;33m\u001b[0m\u001b[1;33m\u001b[0m\u001b[0m\n\u001b[0;32m      5\u001b[0m \u001b[0mcat_groups\u001b[0m \u001b[1;33m=\u001b[0m \u001b[1;33m{\u001b[0m\u001b[1;33m}\u001b[0m\u001b[1;33m\u001b[0m\u001b[1;33m\u001b[0m\u001b[0m\n",
      "\u001b[1;32m~\\Anaconda3\\lib\\site-packages\\pandas\\util\\_decorators.py\u001b[0m in \u001b[0;36mwrapper\u001b[1;34m(*args, **kwargs)\u001b[0m\n\u001b[0;32m    309\u001b[0m                     \u001b[0mstacklevel\u001b[0m\u001b[1;33m=\u001b[0m\u001b[0mstacklevel\u001b[0m\u001b[1;33m,\u001b[0m\u001b[1;33m\u001b[0m\u001b[1;33m\u001b[0m\u001b[0m\n\u001b[0;32m    310\u001b[0m                 )\n\u001b[1;32m--> 311\u001b[1;33m             \u001b[1;32mreturn\u001b[0m \u001b[0mfunc\u001b[0m\u001b[1;33m(\u001b[0m\u001b[1;33m*\u001b[0m\u001b[0margs\u001b[0m\u001b[1;33m,\u001b[0m \u001b[1;33m**\u001b[0m\u001b[0mkwargs\u001b[0m\u001b[1;33m)\u001b[0m\u001b[1;33m\u001b[0m\u001b[1;33m\u001b[0m\u001b[0m\n\u001b[0m\u001b[0;32m    312\u001b[0m \u001b[1;33m\u001b[0m\u001b[0m\n\u001b[0;32m    313\u001b[0m         \u001b[1;32mreturn\u001b[0m \u001b[0mwrapper\u001b[0m\u001b[1;33m\u001b[0m\u001b[1;33m\u001b[0m\u001b[0m\n",
      "\u001b[1;32m~\\Anaconda3\\lib\\site-packages\\pandas\\io\\parsers\\readers.py\u001b[0m in \u001b[0;36mread_csv\u001b[1;34m(filepath_or_buffer, sep, delimiter, header, names, index_col, usecols, squeeze, prefix, mangle_dupe_cols, dtype, engine, converters, true_values, false_values, skipinitialspace, skiprows, skipfooter, nrows, na_values, keep_default_na, na_filter, verbose, skip_blank_lines, parse_dates, infer_datetime_format, keep_date_col, date_parser, dayfirst, cache_dates, iterator, chunksize, compression, thousands, decimal, lineterminator, quotechar, quoting, doublequote, escapechar, comment, encoding, encoding_errors, dialect, error_bad_lines, warn_bad_lines, on_bad_lines, delim_whitespace, low_memory, memory_map, float_precision, storage_options)\u001b[0m\n\u001b[0;32m    584\u001b[0m     \u001b[0mkwds\u001b[0m\u001b[1;33m.\u001b[0m\u001b[0mupdate\u001b[0m\u001b[1;33m(\u001b[0m\u001b[0mkwds_defaults\u001b[0m\u001b[1;33m)\u001b[0m\u001b[1;33m\u001b[0m\u001b[1;33m\u001b[0m\u001b[0m\n\u001b[0;32m    585\u001b[0m \u001b[1;33m\u001b[0m\u001b[0m\n\u001b[1;32m--> 586\u001b[1;33m     \u001b[1;32mreturn\u001b[0m \u001b[0m_read\u001b[0m\u001b[1;33m(\u001b[0m\u001b[0mfilepath_or_buffer\u001b[0m\u001b[1;33m,\u001b[0m \u001b[0mkwds\u001b[0m\u001b[1;33m)\u001b[0m\u001b[1;33m\u001b[0m\u001b[1;33m\u001b[0m\u001b[0m\n\u001b[0m\u001b[0;32m    587\u001b[0m \u001b[1;33m\u001b[0m\u001b[0m\n\u001b[0;32m    588\u001b[0m \u001b[1;33m\u001b[0m\u001b[0m\n",
      "\u001b[1;32m~\\Anaconda3\\lib\\site-packages\\pandas\\io\\parsers\\readers.py\u001b[0m in \u001b[0;36m_read\u001b[1;34m(filepath_or_buffer, kwds)\u001b[0m\n\u001b[0;32m    480\u001b[0m \u001b[1;33m\u001b[0m\u001b[0m\n\u001b[0;32m    481\u001b[0m     \u001b[1;31m# Create the parser.\u001b[0m\u001b[1;33m\u001b[0m\u001b[1;33m\u001b[0m\u001b[0m\n\u001b[1;32m--> 482\u001b[1;33m     \u001b[0mparser\u001b[0m \u001b[1;33m=\u001b[0m \u001b[0mTextFileReader\u001b[0m\u001b[1;33m(\u001b[0m\u001b[0mfilepath_or_buffer\u001b[0m\u001b[1;33m,\u001b[0m \u001b[1;33m**\u001b[0m\u001b[0mkwds\u001b[0m\u001b[1;33m)\u001b[0m\u001b[1;33m\u001b[0m\u001b[1;33m\u001b[0m\u001b[0m\n\u001b[0m\u001b[0;32m    483\u001b[0m \u001b[1;33m\u001b[0m\u001b[0m\n\u001b[0;32m    484\u001b[0m     \u001b[1;32mif\u001b[0m \u001b[0mchunksize\u001b[0m \u001b[1;32mor\u001b[0m \u001b[0miterator\u001b[0m\u001b[1;33m:\u001b[0m\u001b[1;33m\u001b[0m\u001b[1;33m\u001b[0m\u001b[0m\n",
      "\u001b[1;32m~\\Anaconda3\\lib\\site-packages\\pandas\\io\\parsers\\readers.py\u001b[0m in \u001b[0;36m__init__\u001b[1;34m(self, f, engine, **kwds)\u001b[0m\n\u001b[0;32m    809\u001b[0m             \u001b[0mself\u001b[0m\u001b[1;33m.\u001b[0m\u001b[0moptions\u001b[0m\u001b[1;33m[\u001b[0m\u001b[1;34m\"has_index_names\"\u001b[0m\u001b[1;33m]\u001b[0m \u001b[1;33m=\u001b[0m \u001b[0mkwds\u001b[0m\u001b[1;33m[\u001b[0m\u001b[1;34m\"has_index_names\"\u001b[0m\u001b[1;33m]\u001b[0m\u001b[1;33m\u001b[0m\u001b[1;33m\u001b[0m\u001b[0m\n\u001b[0;32m    810\u001b[0m \u001b[1;33m\u001b[0m\u001b[0m\n\u001b[1;32m--> 811\u001b[1;33m         \u001b[0mself\u001b[0m\u001b[1;33m.\u001b[0m\u001b[0m_engine\u001b[0m \u001b[1;33m=\u001b[0m \u001b[0mself\u001b[0m\u001b[1;33m.\u001b[0m\u001b[0m_make_engine\u001b[0m\u001b[1;33m(\u001b[0m\u001b[0mself\u001b[0m\u001b[1;33m.\u001b[0m\u001b[0mengine\u001b[0m\u001b[1;33m)\u001b[0m\u001b[1;33m\u001b[0m\u001b[1;33m\u001b[0m\u001b[0m\n\u001b[0m\u001b[0;32m    812\u001b[0m \u001b[1;33m\u001b[0m\u001b[0m\n\u001b[0;32m    813\u001b[0m     \u001b[1;32mdef\u001b[0m \u001b[0mclose\u001b[0m\u001b[1;33m(\u001b[0m\u001b[0mself\u001b[0m\u001b[1;33m)\u001b[0m\u001b[1;33m:\u001b[0m\u001b[1;33m\u001b[0m\u001b[1;33m\u001b[0m\u001b[0m\n",
      "\u001b[1;32m~\\Anaconda3\\lib\\site-packages\\pandas\\io\\parsers\\readers.py\u001b[0m in \u001b[0;36m_make_engine\u001b[1;34m(self, engine)\u001b[0m\n\u001b[0;32m   1038\u001b[0m             )\n\u001b[0;32m   1039\u001b[0m         \u001b[1;31m# error: Too many arguments for \"ParserBase\"\u001b[0m\u001b[1;33m\u001b[0m\u001b[1;33m\u001b[0m\u001b[0m\n\u001b[1;32m-> 1040\u001b[1;33m         \u001b[1;32mreturn\u001b[0m \u001b[0mmapping\u001b[0m\u001b[1;33m[\u001b[0m\u001b[0mengine\u001b[0m\u001b[1;33m]\u001b[0m\u001b[1;33m(\u001b[0m\u001b[0mself\u001b[0m\u001b[1;33m.\u001b[0m\u001b[0mf\u001b[0m\u001b[1;33m,\u001b[0m \u001b[1;33m**\u001b[0m\u001b[0mself\u001b[0m\u001b[1;33m.\u001b[0m\u001b[0moptions\u001b[0m\u001b[1;33m)\u001b[0m  \u001b[1;31m# type: ignore[call-arg]\u001b[0m\u001b[1;33m\u001b[0m\u001b[1;33m\u001b[0m\u001b[0m\n\u001b[0m\u001b[0;32m   1041\u001b[0m \u001b[1;33m\u001b[0m\u001b[0m\n\u001b[0;32m   1042\u001b[0m     \u001b[1;32mdef\u001b[0m \u001b[0m_failover_to_python\u001b[0m\u001b[1;33m(\u001b[0m\u001b[0mself\u001b[0m\u001b[1;33m)\u001b[0m\u001b[1;33m:\u001b[0m\u001b[1;33m\u001b[0m\u001b[1;33m\u001b[0m\u001b[0m\n",
      "\u001b[1;32m~\\Anaconda3\\lib\\site-packages\\pandas\\io\\parsers\\c_parser_wrapper.py\u001b[0m in \u001b[0;36m__init__\u001b[1;34m(self, src, **kwds)\u001b[0m\n\u001b[0;32m     49\u001b[0m \u001b[1;33m\u001b[0m\u001b[0m\n\u001b[0;32m     50\u001b[0m         \u001b[1;31m# open handles\u001b[0m\u001b[1;33m\u001b[0m\u001b[1;33m\u001b[0m\u001b[0m\n\u001b[1;32m---> 51\u001b[1;33m         \u001b[0mself\u001b[0m\u001b[1;33m.\u001b[0m\u001b[0m_open_handles\u001b[0m\u001b[1;33m(\u001b[0m\u001b[0msrc\u001b[0m\u001b[1;33m,\u001b[0m \u001b[0mkwds\u001b[0m\u001b[1;33m)\u001b[0m\u001b[1;33m\u001b[0m\u001b[1;33m\u001b[0m\u001b[0m\n\u001b[0m\u001b[0;32m     52\u001b[0m         \u001b[1;32massert\u001b[0m \u001b[0mself\u001b[0m\u001b[1;33m.\u001b[0m\u001b[0mhandles\u001b[0m \u001b[1;32mis\u001b[0m \u001b[1;32mnot\u001b[0m \u001b[1;32mNone\u001b[0m\u001b[1;33m\u001b[0m\u001b[1;33m\u001b[0m\u001b[0m\n\u001b[0;32m     53\u001b[0m \u001b[1;33m\u001b[0m\u001b[0m\n",
      "\u001b[1;32m~\\Anaconda3\\lib\\site-packages\\pandas\\io\\parsers\\base_parser.py\u001b[0m in \u001b[0;36m_open_handles\u001b[1;34m(self, src, kwds)\u001b[0m\n\u001b[0;32m    220\u001b[0m         \u001b[0mLet\u001b[0m \u001b[0mthe\u001b[0m \u001b[0mreaders\u001b[0m \u001b[0mopen\u001b[0m \u001b[0mIOHandles\u001b[0m \u001b[0mafter\u001b[0m \u001b[0mthey\u001b[0m \u001b[0mare\u001b[0m \u001b[0mdone\u001b[0m \u001b[1;32mwith\u001b[0m \u001b[0mtheir\u001b[0m \u001b[0mpotential\u001b[0m \u001b[0mraises\u001b[0m\u001b[1;33m.\u001b[0m\u001b[1;33m\u001b[0m\u001b[1;33m\u001b[0m\u001b[0m\n\u001b[0;32m    221\u001b[0m         \"\"\"\n\u001b[1;32m--> 222\u001b[1;33m         self.handles = get_handle(\n\u001b[0m\u001b[0;32m    223\u001b[0m             \u001b[0msrc\u001b[0m\u001b[1;33m,\u001b[0m\u001b[1;33m\u001b[0m\u001b[1;33m\u001b[0m\u001b[0m\n\u001b[0;32m    224\u001b[0m             \u001b[1;34m\"r\"\u001b[0m\u001b[1;33m,\u001b[0m\u001b[1;33m\u001b[0m\u001b[1;33m\u001b[0m\u001b[0m\n",
      "\u001b[1;32m~\\Anaconda3\\lib\\site-packages\\pandas\\io\\common.py\u001b[0m in \u001b[0;36mget_handle\u001b[1;34m(path_or_buf, mode, encoding, compression, memory_map, is_text, errors, storage_options)\u001b[0m\n\u001b[0;32m    700\u001b[0m         \u001b[1;32mif\u001b[0m \u001b[0mioargs\u001b[0m\u001b[1;33m.\u001b[0m\u001b[0mencoding\u001b[0m \u001b[1;32mand\u001b[0m \u001b[1;34m\"b\"\u001b[0m \u001b[1;32mnot\u001b[0m \u001b[1;32min\u001b[0m \u001b[0mioargs\u001b[0m\u001b[1;33m.\u001b[0m\u001b[0mmode\u001b[0m\u001b[1;33m:\u001b[0m\u001b[1;33m\u001b[0m\u001b[1;33m\u001b[0m\u001b[0m\n\u001b[0;32m    701\u001b[0m             \u001b[1;31m# Encoding\u001b[0m\u001b[1;33m\u001b[0m\u001b[1;33m\u001b[0m\u001b[0m\n\u001b[1;32m--> 702\u001b[1;33m             handle = open(\n\u001b[0m\u001b[0;32m    703\u001b[0m                 \u001b[0mhandle\u001b[0m\u001b[1;33m,\u001b[0m\u001b[1;33m\u001b[0m\u001b[1;33m\u001b[0m\u001b[0m\n\u001b[0;32m    704\u001b[0m                 \u001b[0mioargs\u001b[0m\u001b[1;33m.\u001b[0m\u001b[0mmode\u001b[0m\u001b[1;33m,\u001b[0m\u001b[1;33m\u001b[0m\u001b[1;33m\u001b[0m\u001b[0m\n",
      "\u001b[1;31mFileNotFoundError\u001b[0m: [Errno 2] No such file or directory: 'main_data.csv'"
     ]
    }
   ],
   "source": [
    "df_analysis = pd.read_csv('main_data.csv')\n",
    "df_visual = df_analysis.copy()\n",
    "cols = pd.read_csv('column_type_desc.csv')\n",
    "Categorical,Numerical,Object = getColumnTypes(cols)\n",
    "cat_groups = {}\n",
    "unique_Category_val={}\n",
    "\n",
    "for i in range(len(Categorical)):\n",
    "        unique_Category_val = {Categorical[i]: mapunique(df_analysis, Categorical[i])}\n",
    "        cat_groups = {Categorical[i]: df_visual.groupby(Categorical[i])}"
   ]
  },
  {
   "cell_type": "code",
   "execution_count": 15,
   "metadata": {},
   "outputs": [
    {
     "ename": "NameError",
     "evalue": "name 'Categorical' is not defined",
     "output_type": "error",
     "traceback": [
      "\u001b[1;31m---------------------------------------------------------------------------\u001b[0m",
      "\u001b[1;31mNameError\u001b[0m                                 Traceback (most recent call last)",
      "\u001b[1;32m~\\AppData\\Local\\Temp/ipykernel_5172/2154385861.py\u001b[0m in \u001b[0;36m<module>\u001b[1;34m\u001b[0m\n\u001b[1;32m----> 1\u001b[1;33m \u001b[0mCategorical\u001b[0m\u001b[1;33m\u001b[0m\u001b[1;33m\u001b[0m\u001b[0m\n\u001b[0m",
      "\u001b[1;31mNameError\u001b[0m: name 'Categorical' is not defined"
     ]
    }
   ],
   "source": [
    "Categorical"
   ]
  },
  {
   "cell_type": "code",
   "execution_count": null,
   "metadata": {},
   "outputs": [],
   "source": [
    "unique_Category_val1 = {Categorical[1]: mapunique(df_analysis, Categorical[1])}"
   ]
  },
  {
   "cell_type": "code",
   "execution_count": 16,
   "metadata": {},
   "outputs": [
    {
     "data": {
      "text/plain": [
       "{'PRV51001': 0,\n",
       " 'PRV51003': 1,\n",
       " 'PRV51004': 2,\n",
       " 'PRV51005': 3,\n",
       " 'PRV51007': 4,\n",
       " 'PRV51008': 5,\n",
       " 'PRV51011': 6,\n",
       " 'PRV51012': 7,\n",
       " 'PRV51013': 8,\n",
       " 'PRV51014': 9,\n",
       " 'PRV51015': 10,\n",
       " 'PRV51016': 11,\n",
       " 'PRV51017': 12,\n",
       " 'PRV51021': 13,\n",
       " 'PRV51023': 14,\n",
       " 'PRV51024': 15,\n",
       " 'PRV51025': 16,\n",
       " 'PRV51026': 17,\n",
       " 'PRV51027': 18,\n",
       " 'PRV51029': 19,\n",
       " 'PRV51030': 20,\n",
       " 'PRV51031': 21,\n",
       " 'PRV51032': 22,\n",
       " 'PRV51035': 23,\n",
       " 'PRV51036': 24,\n",
       " 'PRV51037': 25,\n",
       " 'PRV51038': 26,\n",
       " 'PRV51040': 27,\n",
       " 'PRV51041': 28,\n",
       " 'PRV51042': 29,\n",
       " 'PRV51043': 30,\n",
       " 'PRV51044': 31,\n",
       " 'PRV51045': 32,\n",
       " 'PRV51046': 33,\n",
       " 'PRV51047': 34,\n",
       " 'PRV51048': 35,\n",
       " 'PRV51049': 36,\n",
       " 'PRV51052': 37,\n",
       " 'PRV51054': 38,\n",
       " 'PRV51055': 39,\n",
       " 'PRV51056': 40,\n",
       " 'PRV51057': 41,\n",
       " 'PRV51058': 42,\n",
       " 'PRV51059': 43,\n",
       " 'PRV51060': 44,\n",
       " 'PRV51061': 45,\n",
       " 'PRV51062': 46,\n",
       " 'PRV51063': 47,\n",
       " 'PRV51064': 48,\n",
       " 'PRV51065': 49,\n",
       " 'PRV51066': 50,\n",
       " 'PRV51067': 51,\n",
       " 'PRV51068': 52,\n",
       " 'PRV51070': 53,\n",
       " 'PRV51071': 54,\n",
       " 'PRV51072': 55,\n",
       " 'PRV51074': 56,\n",
       " 'PRV51075': 57,\n",
       " 'PRV51076': 58,\n",
       " 'PRV51077': 59,\n",
       " 'PRV51078': 60,\n",
       " 'PRV51081': 61,\n",
       " 'PRV51082': 62,\n",
       " 'PRV51083': 63,\n",
       " 'PRV51084': 64,\n",
       " 'PRV51086': 65,\n",
       " 'PRV51089': 66,\n",
       " 'PRV51090': 67,\n",
       " 'PRV51091': 68,\n",
       " 'PRV51093': 69,\n",
       " 'PRV51096': 70,\n",
       " 'PRV51097': 71,\n",
       " 'PRV51098': 72,\n",
       " 'PRV51103': 73,\n",
       " 'PRV51104': 74,\n",
       " 'PRV51105': 75,\n",
       " 'PRV51111': 76,\n",
       " 'PRV51112': 77,\n",
       " 'PRV51113': 78,\n",
       " 'PRV51114': 79,\n",
       " 'PRV51115': 80,\n",
       " 'PRV51117': 81,\n",
       " 'PRV51119': 82,\n",
       " 'PRV51121': 83,\n",
       " 'PRV51122': 84,\n",
       " 'PRV51123': 85,\n",
       " 'PRV51125': 86,\n",
       " 'PRV51128': 87,\n",
       " 'PRV51129': 88,\n",
       " 'PRV51130': 89,\n",
       " 'PRV51131': 90,\n",
       " 'PRV51132': 91,\n",
       " 'PRV51134': 92,\n",
       " 'PRV51135': 93,\n",
       " 'PRV51137': 94,\n",
       " 'PRV51138': 95,\n",
       " 'PRV51139': 96,\n",
       " 'PRV51140': 97,\n",
       " 'PRV51141': 98,\n",
       " 'PRV51142': 99,\n",
       " 'PRV51143': 100,\n",
       " 'PRV51144': 101,\n",
       " 'PRV51145': 102,\n",
       " 'PRV51146': 103,\n",
       " 'PRV51147': 104,\n",
       " 'PRV51148': 105,\n",
       " 'PRV51149': 106,\n",
       " 'PRV51151': 107,\n",
       " 'PRV51152': 108,\n",
       " 'PRV51153': 109,\n",
       " 'PRV51154': 110,\n",
       " 'PRV51155': 111,\n",
       " 'PRV51156': 112,\n",
       " 'PRV51159': 113,\n",
       " 'PRV51160': 114,\n",
       " 'PRV51164': 115,\n",
       " 'PRV51165': 116,\n",
       " 'PRV51166': 117,\n",
       " 'PRV51167': 118,\n",
       " 'PRV51168': 119,\n",
       " 'PRV51169': 120,\n",
       " 'PRV51170': 121,\n",
       " 'PRV51171': 122,\n",
       " 'PRV51173': 123,\n",
       " 'PRV51175': 124,\n",
       " 'PRV51176': 125,\n",
       " 'PRV51178': 126,\n",
       " 'PRV51179': 127,\n",
       " 'PRV51180': 128,\n",
       " 'PRV51181': 129,\n",
       " 'PRV51183': 130,\n",
       " 'PRV51185': 131,\n",
       " 'PRV51186': 132,\n",
       " 'PRV51189': 133,\n",
       " 'PRV51190': 134,\n",
       " 'PRV51191': 135,\n",
       " 'PRV51194': 136,\n",
       " 'PRV51196': 137,\n",
       " 'PRV51198': 138,\n",
       " 'PRV51200': 139,\n",
       " 'PRV51201': 140,\n",
       " 'PRV51202': 141,\n",
       " 'PRV51203': 142,\n",
       " 'PRV51204': 143,\n",
       " 'PRV51205': 144,\n",
       " 'PRV51206': 145,\n",
       " 'PRV51209': 146,\n",
       " 'PRV51210': 147,\n",
       " 'PRV51211': 148,\n",
       " 'PRV51212': 149,\n",
       " 'PRV51213': 150,\n",
       " 'PRV51214': 151,\n",
       " 'PRV51215': 152,\n",
       " 'PRV51216': 153,\n",
       " 'PRV51217': 154,\n",
       " 'PRV51218': 155,\n",
       " 'PRV51219': 156,\n",
       " 'PRV51221': 157,\n",
       " 'PRV51222': 158,\n",
       " 'PRV51224': 159,\n",
       " 'PRV51225': 160,\n",
       " 'PRV51226': 161,\n",
       " 'PRV51228': 162,\n",
       " 'PRV51229': 163,\n",
       " 'PRV51230': 164,\n",
       " 'PRV51240': 165,\n",
       " 'PRV51241': 166,\n",
       " 'PRV51242': 167,\n",
       " 'PRV51243': 168,\n",
       " 'PRV51244': 169,\n",
       " 'PRV51245': 170,\n",
       " 'PRV51247': 171,\n",
       " 'PRV51248': 172,\n",
       " 'PRV51249': 173,\n",
       " 'PRV51250': 174,\n",
       " 'PRV51251': 175,\n",
       " 'PRV51252': 176,\n",
       " 'PRV51253': 177,\n",
       " 'PRV51255': 178,\n",
       " 'PRV51256': 179,\n",
       " 'PRV51258': 180,\n",
       " 'PRV51259': 181,\n",
       " 'PRV51260': 182,\n",
       " 'PRV51261': 183,\n",
       " 'PRV51262': 184,\n",
       " 'PRV51263': 185,\n",
       " 'PRV51264': 186,\n",
       " 'PRV51265': 187,\n",
       " 'PRV51266': 188,\n",
       " 'PRV51267': 189,\n",
       " 'PRV51271': 190,\n",
       " 'PRV51272': 191,\n",
       " 'PRV51273': 192,\n",
       " 'PRV51274': 193,\n",
       " 'PRV51276': 194,\n",
       " 'PRV51277': 195,\n",
       " 'PRV51279': 196,\n",
       " 'PRV51280': 197,\n",
       " 'PRV51281': 198,\n",
       " 'PRV51282': 199,\n",
       " 'PRV51284': 200,\n",
       " 'PRV51285': 201,\n",
       " 'PRV51286': 202,\n",
       " 'PRV51287': 203,\n",
       " 'PRV51288': 204,\n",
       " 'PRV51289': 205,\n",
       " 'PRV51290': 206,\n",
       " 'PRV51292': 207,\n",
       " 'PRV51293': 208,\n",
       " 'PRV51295': 209,\n",
       " 'PRV51296': 210,\n",
       " 'PRV51297': 211,\n",
       " 'PRV51298': 212,\n",
       " 'PRV51299': 213,\n",
       " 'PRV51300': 214,\n",
       " 'PRV51301': 215,\n",
       " 'PRV51302': 216,\n",
       " 'PRV51303': 217,\n",
       " 'PRV51304': 218,\n",
       " 'PRV51305': 219,\n",
       " 'PRV51306': 220,\n",
       " 'PRV51307': 221,\n",
       " 'PRV51308': 222,\n",
       " 'PRV51309': 223,\n",
       " 'PRV51311': 224,\n",
       " 'PRV51312': 225,\n",
       " 'PRV51313': 226,\n",
       " 'PRV51314': 227,\n",
       " 'PRV51315': 228,\n",
       " 'PRV51322': 229,\n",
       " 'PRV51323': 230,\n",
       " 'PRV51324': 231,\n",
       " 'PRV51325': 232,\n",
       " 'PRV51326': 233,\n",
       " 'PRV51327': 234,\n",
       " 'PRV51328': 235,\n",
       " 'PRV51329': 236,\n",
       " 'PRV51330': 237,\n",
       " 'PRV51331': 238,\n",
       " 'PRV51335': 239,\n",
       " 'PRV51336': 240,\n",
       " 'PRV51337': 241,\n",
       " 'PRV51338': 242,\n",
       " 'PRV51340': 243,\n",
       " 'PRV51341': 244,\n",
       " 'PRV51342': 245,\n",
       " 'PRV51344': 246,\n",
       " 'PRV51345': 247,\n",
       " 'PRV51346': 248,\n",
       " 'PRV51347': 249,\n",
       " 'PRV51348': 250,\n",
       " 'PRV51349': 251,\n",
       " 'PRV51350': 252,\n",
       " 'PRV51351': 253,\n",
       " 'PRV51352': 254,\n",
       " 'PRV51353': 255,\n",
       " 'PRV51354': 256,\n",
       " 'PRV51355': 257,\n",
       " 'PRV51356': 258,\n",
       " 'PRV51357': 259,\n",
       " 'PRV51358': 260,\n",
       " 'PRV51360': 261,\n",
       " 'PRV51361': 262,\n",
       " 'PRV51362': 263,\n",
       " 'PRV51363': 264,\n",
       " 'PRV51364': 265,\n",
       " 'PRV51366': 266,\n",
       " 'PRV51368': 267,\n",
       " 'PRV51369': 268,\n",
       " 'PRV51371': 269,\n",
       " 'PRV51376': 270,\n",
       " 'PRV51377': 271,\n",
       " 'PRV51378': 272,\n",
       " 'PRV51379': 273,\n",
       " 'PRV51380': 274,\n",
       " 'PRV51382': 275,\n",
       " 'PRV51383': 276,\n",
       " 'PRV51386': 277,\n",
       " 'PRV51387': 278,\n",
       " 'PRV51388': 279,\n",
       " 'PRV51389': 280,\n",
       " 'PRV51390': 281,\n",
       " 'PRV51391': 282,\n",
       " 'PRV51392': 283,\n",
       " 'PRV51393': 284,\n",
       " 'PRV51394': 285,\n",
       " 'PRV51395': 286,\n",
       " 'PRV51396': 287,\n",
       " 'PRV51397': 288,\n",
       " 'PRV51398': 289,\n",
       " 'PRV51399': 290,\n",
       " 'PRV51401': 291,\n",
       " 'PRV51403': 292,\n",
       " 'PRV51404': 293,\n",
       " 'PRV51405': 294,\n",
       " 'PRV51406': 295,\n",
       " 'PRV51408': 296,\n",
       " 'PRV51409': 297,\n",
       " 'PRV51410': 298,\n",
       " 'PRV51412': 299,\n",
       " 'PRV51414': 300,\n",
       " 'PRV51415': 301,\n",
       " 'PRV51416': 302,\n",
       " 'PRV51418': 303,\n",
       " 'PRV51419': 304,\n",
       " 'PRV51421': 305,\n",
       " 'PRV51422': 306,\n",
       " 'PRV51423': 307,\n",
       " 'PRV51424': 308,\n",
       " 'PRV51425': 309,\n",
       " 'PRV51426': 310,\n",
       " 'PRV51427': 311,\n",
       " 'PRV51428': 312,\n",
       " 'PRV51429': 313,\n",
       " 'PRV51430': 314,\n",
       " 'PRV51431': 315,\n",
       " 'PRV51432': 316,\n",
       " 'PRV51433': 317,\n",
       " 'PRV51434': 318,\n",
       " 'PRV51435': 319,\n",
       " 'PRV51436': 320,\n",
       " 'PRV51437': 321,\n",
       " 'PRV51438': 322,\n",
       " 'PRV51439': 323,\n",
       " 'PRV51440': 324,\n",
       " 'PRV51441': 325,\n",
       " 'PRV51442': 326,\n",
       " 'PRV51443': 327,\n",
       " 'PRV51444': 328,\n",
       " 'PRV51446': 329,\n",
       " 'PRV51447': 330,\n",
       " 'PRV51448': 331,\n",
       " 'PRV51449': 332,\n",
       " 'PRV51451': 333,\n",
       " 'PRV51453': 334,\n",
       " 'PRV51454': 335,\n",
       " 'PRV51455': 336,\n",
       " 'PRV51456': 337,\n",
       " 'PRV51458': 338,\n",
       " 'PRV51459': 339,\n",
       " 'PRV51460': 340,\n",
       " 'PRV51462': 341,\n",
       " 'PRV51464': 342,\n",
       " 'PRV51465': 343,\n",
       " 'PRV51466': 344,\n",
       " 'PRV51467': 345,\n",
       " 'PRV51468': 346,\n",
       " 'PRV51469': 347,\n",
       " 'PRV51470': 348,\n",
       " 'PRV51471': 349,\n",
       " 'PRV51472': 350,\n",
       " 'PRV51474': 351,\n",
       " 'PRV51475': 352,\n",
       " 'PRV51476': 353,\n",
       " 'PRV51477': 354,\n",
       " 'PRV51478': 355,\n",
       " 'PRV51479': 356,\n",
       " 'PRV51480': 357,\n",
       " 'PRV51482': 358,\n",
       " 'PRV51483': 359,\n",
       " 'PRV51484': 360,\n",
       " 'PRV51486': 361,\n",
       " 'PRV51487': 362,\n",
       " 'PRV51488': 363,\n",
       " 'PRV51490': 364,\n",
       " 'PRV51491': 365,\n",
       " 'PRV51492': 366,\n",
       " 'PRV51494': 367,\n",
       " 'PRV51495': 368,\n",
       " 'PRV51496': 369,\n",
       " 'PRV51497': 370,\n",
       " 'PRV51499': 371,\n",
       " 'PRV51500': 372,\n",
       " 'PRV51501': 373,\n",
       " 'PRV51502': 374,\n",
       " 'PRV51503': 375,\n",
       " 'PRV51504': 376,\n",
       " 'PRV51505': 377,\n",
       " 'PRV51507': 378,\n",
       " 'PRV51508': 379,\n",
       " 'PRV51509': 380,\n",
       " 'PRV51510': 381,\n",
       " 'PRV51511': 382,\n",
       " 'PRV51514': 383,\n",
       " 'PRV51515': 384,\n",
       " 'PRV51516': 385,\n",
       " 'PRV51517': 386,\n",
       " 'PRV51518': 387,\n",
       " 'PRV51521': 388,\n",
       " 'PRV51522': 389,\n",
       " 'PRV51523': 390,\n",
       " 'PRV51525': 391,\n",
       " 'PRV51526': 392,\n",
       " 'PRV51527': 393,\n",
       " 'PRV51528': 394,\n",
       " 'PRV51529': 395,\n",
       " 'PRV51531': 396,\n",
       " 'PRV51532': 397,\n",
       " 'PRV51533': 398,\n",
       " 'PRV51534': 399,\n",
       " 'PRV51535': 400,\n",
       " 'PRV51536': 401,\n",
       " 'PRV51539': 402,\n",
       " 'PRV51540': 403,\n",
       " 'PRV51541': 404,\n",
       " 'PRV51542': 405,\n",
       " 'PRV51544': 406,\n",
       " 'PRV51546': 407,\n",
       " 'PRV51547': 408,\n",
       " 'PRV51549': 409,\n",
       " 'PRV51550': 410,\n",
       " 'PRV51551': 411,\n",
       " 'PRV51552': 412,\n",
       " 'PRV51553': 413,\n",
       " 'PRV51554': 414,\n",
       " 'PRV51555': 415,\n",
       " 'PRV51556': 416,\n",
       " 'PRV51557': 417,\n",
       " 'PRV51558': 418,\n",
       " 'PRV51560': 419,\n",
       " 'PRV51562': 420,\n",
       " 'PRV51563': 421,\n",
       " 'PRV51564': 422,\n",
       " 'PRV51566': 423,\n",
       " 'PRV51567': 424,\n",
       " 'PRV51568': 425,\n",
       " 'PRV51569': 426,\n",
       " 'PRV51570': 427,\n",
       " 'PRV51571': 428,\n",
       " 'PRV51572': 429,\n",
       " 'PRV51573': 430,\n",
       " 'PRV51574': 431,\n",
       " 'PRV51576': 432,\n",
       " 'PRV51577': 433,\n",
       " 'PRV51578': 434,\n",
       " 'PRV51579': 435,\n",
       " 'PRV51580': 436,\n",
       " 'PRV51582': 437,\n",
       " 'PRV51583': 438,\n",
       " 'PRV51584': 439,\n",
       " 'PRV51585': 440,\n",
       " 'PRV51586': 441,\n",
       " 'PRV51587': 442,\n",
       " 'PRV51588': 443,\n",
       " 'PRV51590': 444,\n",
       " 'PRV51592': 445,\n",
       " 'PRV51593': 446,\n",
       " 'PRV51595': 447,\n",
       " 'PRV51596': 448,\n",
       " 'PRV51598': 449,\n",
       " 'PRV51599': 450,\n",
       " 'PRV51600': 451,\n",
       " 'PRV51601': 452,\n",
       " 'PRV51602': 453,\n",
       " 'PRV51604': 454,\n",
       " 'PRV51605': 455,\n",
       " 'PRV51606': 456,\n",
       " 'PRV51607': 457,\n",
       " 'PRV51608': 458,\n",
       " 'PRV51609': 459,\n",
       " 'PRV51610': 460,\n",
       " 'PRV51611': 461,\n",
       " 'PRV51612': 462,\n",
       " 'PRV51613': 463,\n",
       " 'PRV51614': 464,\n",
       " 'PRV51616': 465,\n",
       " 'PRV51617': 466,\n",
       " 'PRV51619': 467,\n",
       " 'PRV51620': 468,\n",
       " 'PRV51621': 469,\n",
       " 'PRV51622': 470,\n",
       " 'PRV51623': 471,\n",
       " 'PRV51624': 472,\n",
       " 'PRV51625': 473,\n",
       " 'PRV51626': 474,\n",
       " 'PRV51627': 475,\n",
       " 'PRV51628': 476,\n",
       " 'PRV51630': 477,\n",
       " 'PRV51631': 478,\n",
       " 'PRV51632': 479,\n",
       " 'PRV51634': 480,\n",
       " 'PRV51635': 481,\n",
       " 'PRV51636': 482,\n",
       " 'PRV51637': 483,\n",
       " 'PRV51638': 484,\n",
       " 'PRV51639': 485,\n",
       " 'PRV51640': 486,\n",
       " 'PRV51641': 487,\n",
       " 'PRV51642': 488,\n",
       " 'PRV51644': 489,\n",
       " 'PRV51645': 490,\n",
       " 'PRV51647': 491,\n",
       " 'PRV51650': 492,\n",
       " 'PRV51652': 493,\n",
       " 'PRV51653': 494,\n",
       " 'PRV51654': 495,\n",
       " 'PRV51655': 496,\n",
       " 'PRV51656': 497,\n",
       " 'PRV51657': 498,\n",
       " 'PRV51658': 499,\n",
       " 'PRV51660': 500,\n",
       " 'PRV51661': 501,\n",
       " 'PRV51664': 502,\n",
       " 'PRV51665': 503,\n",
       " 'PRV51666': 504,\n",
       " 'PRV51668': 505,\n",
       " 'PRV51669': 506,\n",
       " 'PRV51670': 507,\n",
       " 'PRV51671': 508,\n",
       " 'PRV51672': 509,\n",
       " 'PRV51673': 510,\n",
       " 'PRV51674': 511,\n",
       " 'PRV51675': 512,\n",
       " 'PRV51676': 513,\n",
       " 'PRV51678': 514,\n",
       " 'PRV51679': 515,\n",
       " 'PRV51681': 516,\n",
       " 'PRV51682': 517,\n",
       " 'PRV51685': 518,\n",
       " 'PRV51687': 519,\n",
       " 'PRV51688': 520,\n",
       " 'PRV51689': 521,\n",
       " 'PRV51690': 522,\n",
       " 'PRV51691': 523,\n",
       " 'PRV51692': 524,\n",
       " 'PRV51693': 525,\n",
       " 'PRV51694': 526,\n",
       " 'PRV51695': 527,\n",
       " 'PRV51696': 528,\n",
       " 'PRV51697': 529,\n",
       " 'PRV51698': 530,\n",
       " 'PRV51699': 531,\n",
       " 'PRV51702': 532,\n",
       " 'PRV51703': 533,\n",
       " 'PRV51704': 534,\n",
       " 'PRV51705': 535,\n",
       " 'PRV51706': 536,\n",
       " 'PRV51707': 537,\n",
       " 'PRV51708': 538,\n",
       " 'PRV51709': 539,\n",
       " 'PRV51710': 540,\n",
       " 'PRV51712': 541,\n",
       " 'PRV51713': 542,\n",
       " 'PRV51715': 543,\n",
       " 'PRV51716': 544,\n",
       " 'PRV51718': 545,\n",
       " 'PRV51719': 546,\n",
       " 'PRV51720': 547,\n",
       " 'PRV51721': 548,\n",
       " 'PRV51722': 549,\n",
       " 'PRV51723': 550,\n",
       " 'PRV51724': 551,\n",
       " 'PRV51725': 552,\n",
       " 'PRV51726': 553,\n",
       " 'PRV51727': 554,\n",
       " 'PRV51729': 555,\n",
       " 'PRV51731': 556,\n",
       " 'PRV51732': 557,\n",
       " 'PRV51733': 558,\n",
       " 'PRV51734': 559,\n",
       " 'PRV51735': 560,\n",
       " 'PRV51736': 561,\n",
       " 'PRV51737': 562,\n",
       " 'PRV51738': 563,\n",
       " 'PRV51739': 564,\n",
       " 'PRV51740': 565,\n",
       " 'PRV51741': 566,\n",
       " 'PRV51742': 567,\n",
       " 'PRV51743': 568,\n",
       " 'PRV51744': 569,\n",
       " 'PRV51745': 570,\n",
       " 'PRV51746': 571,\n",
       " 'PRV51747': 572,\n",
       " 'PRV51748': 573,\n",
       " 'PRV51749': 574,\n",
       " 'PRV51750': 575,\n",
       " 'PRV51751': 576,\n",
       " 'PRV51752': 577,\n",
       " 'PRV51753': 578,\n",
       " 'PRV51754': 579,\n",
       " 'PRV51755': 580,\n",
       " 'PRV51758': 581,\n",
       " 'PRV51759': 582,\n",
       " 'PRV51761': 583,\n",
       " 'PRV51762': 584,\n",
       " 'PRV51763': 585,\n",
       " 'PRV51764': 586,\n",
       " 'PRV51765': 587,\n",
       " 'PRV51766': 588,\n",
       " 'PRV51767': 589,\n",
       " 'PRV51769': 590,\n",
       " 'PRV51770': 591,\n",
       " 'PRV51771': 592,\n",
       " 'PRV51773': 593,\n",
       " 'PRV51774': 594,\n",
       " 'PRV51775': 595,\n",
       " 'PRV51776': 596,\n",
       " 'PRV51778': 597,\n",
       " 'PRV51779': 598,\n",
       " 'PRV51780': 599,\n",
       " 'PRV51781': 600,\n",
       " 'PRV51784': 601,\n",
       " 'PRV51786': 602,\n",
       " 'PRV51787': 603,\n",
       " 'PRV51788': 604,\n",
       " 'PRV51789': 605,\n",
       " 'PRV51790': 606,\n",
       " 'PRV51792': 607,\n",
       " 'PRV51793': 608,\n",
       " 'PRV51794': 609,\n",
       " 'PRV51795': 610,\n",
       " 'PRV51796': 611,\n",
       " 'PRV51797': 612,\n",
       " 'PRV51798': 613,\n",
       " 'PRV51799': 614,\n",
       " 'PRV51801': 615,\n",
       " 'PRV51802': 616,\n",
       " 'PRV51803': 617,\n",
       " 'PRV51815': 618,\n",
       " 'PRV51819': 619,\n",
       " 'PRV51823': 620,\n",
       " 'PRV51836': 621,\n",
       " 'PRV51837': 622,\n",
       " 'PRV51838': 623,\n",
       " 'PRV51840': 624,\n",
       " 'PRV51841': 625,\n",
       " 'PRV51842': 626,\n",
       " 'PRV51843': 627,\n",
       " 'PRV51845': 628,\n",
       " 'PRV51846': 629,\n",
       " 'PRV51847': 630,\n",
       " 'PRV51848': 631,\n",
       " 'PRV51849': 632,\n",
       " 'PRV51851': 633,\n",
       " 'PRV51852': 634,\n",
       " 'PRV51855': 635,\n",
       " 'PRV51856': 636,\n",
       " 'PRV51857': 637,\n",
       " 'PRV51858': 638,\n",
       " 'PRV51859': 639,\n",
       " 'PRV51860': 640,\n",
       " 'PRV51861': 641,\n",
       " 'PRV51862': 642,\n",
       " 'PRV51863': 643,\n",
       " 'PRV51864': 644,\n",
       " 'PRV51865': 645,\n",
       " 'PRV51867': 646,\n",
       " 'PRV51868': 647,\n",
       " 'PRV51869': 648,\n",
       " 'PRV51870': 649,\n",
       " 'PRV51871': 650,\n",
       " 'PRV51872': 651,\n",
       " 'PRV51873': 652,\n",
       " 'PRV51874': 653,\n",
       " 'PRV51875': 654,\n",
       " 'PRV51876': 655,\n",
       " 'PRV51877': 656,\n",
       " 'PRV51878': 657,\n",
       " 'PRV51879': 658,\n",
       " 'PRV51884': 659,\n",
       " 'PRV51885': 660,\n",
       " 'PRV51886': 661,\n",
       " 'PRV51887': 662,\n",
       " 'PRV51888': 663,\n",
       " 'PRV51889': 664,\n",
       " 'PRV51890': 665,\n",
       " 'PRV51891': 666,\n",
       " 'PRV51892': 667,\n",
       " 'PRV51894': 668,\n",
       " 'PRV51895': 669,\n",
       " 'PRV51896': 670,\n",
       " 'PRV51897': 671,\n",
       " 'PRV51898': 672,\n",
       " 'PRV51899': 673,\n",
       " 'PRV51901': 674,\n",
       " 'PRV51902': 675,\n",
       " 'PRV51905': 676,\n",
       " 'PRV51906': 677,\n",
       " 'PRV51908': 678,\n",
       " 'PRV51909': 679,\n",
       " 'PRV51910': 680,\n",
       " 'PRV51911': 681,\n",
       " 'PRV51913': 682,\n",
       " 'PRV51914': 683,\n",
       " 'PRV51915': 684,\n",
       " 'PRV51916': 685,\n",
       " 'PRV51917': 686,\n",
       " 'PRV51918': 687,\n",
       " 'PRV51920': 688,\n",
       " 'PRV51921': 689,\n",
       " 'PRV51922': 690,\n",
       " 'PRV51923': 691,\n",
       " 'PRV51924': 692,\n",
       " 'PRV51925': 693,\n",
       " 'PRV51926': 694,\n",
       " 'PRV51927': 695,\n",
       " 'PRV51928': 696,\n",
       " 'PRV51929': 697,\n",
       " 'PRV51930': 698,\n",
       " 'PRV51931': 699,\n",
       " 'PRV51932': 700,\n",
       " 'PRV51933': 701,\n",
       " 'PRV51934': 702,\n",
       " 'PRV51935': 703,\n",
       " 'PRV51936': 704,\n",
       " 'PRV51937': 705,\n",
       " 'PRV51938': 706,\n",
       " 'PRV51940': 707,\n",
       " 'PRV51941': 708,\n",
       " 'PRV51942': 709,\n",
       " 'PRV51943': 710,\n",
       " 'PRV51944': 711,\n",
       " 'PRV51946': 712,\n",
       " 'PRV51947': 713,\n",
       " 'PRV51948': 714,\n",
       " 'PRV51949': 715,\n",
       " 'PRV51950': 716,\n",
       " 'PRV51951': 717,\n",
       " 'PRV51952': 718,\n",
       " 'PRV51954': 719,\n",
       " 'PRV51956': 720,\n",
       " 'PRV51957': 721,\n",
       " 'PRV51958': 722,\n",
       " 'PRV51959': 723,\n",
       " 'PRV51960': 724,\n",
       " 'PRV51961': 725,\n",
       " 'PRV51963': 726,\n",
       " 'PRV51964': 727,\n",
       " 'PRV51965': 728,\n",
       " 'PRV51966': 729,\n",
       " 'PRV51967': 730,\n",
       " 'PRV51968': 731,\n",
       " 'PRV51969': 732,\n",
       " 'PRV51970': 733,\n",
       " 'PRV51972': 734,\n",
       " 'PRV51973': 735,\n",
       " 'PRV51974': 736,\n",
       " 'PRV51983': 737,\n",
       " 'PRV51984': 738,\n",
       " 'PRV51987': 739,\n",
       " 'PRV51988': 740,\n",
       " 'PRV51989': 741,\n",
       " 'PRV51990': 742,\n",
       " 'PRV51991': 743,\n",
       " 'PRV51992': 744,\n",
       " 'PRV51993': 745,\n",
       " 'PRV51994': 746,\n",
       " 'PRV51995': 747,\n",
       " 'PRV51996': 748,\n",
       " 'PRV51998': 749,\n",
       " 'PRV51999': 750,\n",
       " 'PRV52001': 751,\n",
       " 'PRV52002': 752,\n",
       " 'PRV52003': 753,\n",
       " 'PRV52004': 754,\n",
       " 'PRV52007': 755,\n",
       " 'PRV52008': 756,\n",
       " 'PRV52009': 757,\n",
       " 'PRV52010': 758,\n",
       " 'PRV52011': 759,\n",
       " 'PRV52013': 760,\n",
       " 'PRV52014': 761,\n",
       " 'PRV52017': 762,\n",
       " 'PRV52019': 763,\n",
       " 'PRV52020': 764,\n",
       " 'PRV52021': 765,\n",
       " 'PRV52022': 766,\n",
       " 'PRV52024': 767,\n",
       " 'PRV52025': 768,\n",
       " 'PRV52026': 769,\n",
       " 'PRV52027': 770,\n",
       " 'PRV52028': 771,\n",
       " 'PRV52029': 772,\n",
       " 'PRV52030': 773,\n",
       " 'PRV52031': 774,\n",
       " 'PRV52032': 775,\n",
       " 'PRV52037': 776,\n",
       " 'PRV52038': 777,\n",
       " 'PRV52039': 778,\n",
       " 'PRV52041': 779,\n",
       " 'PRV52042': 780,\n",
       " 'PRV52044': 781,\n",
       " 'PRV52045': 782,\n",
       " 'PRV52046': 783,\n",
       " 'PRV52047': 784,\n",
       " 'PRV52048': 785,\n",
       " 'PRV52049': 786,\n",
       " 'PRV52051': 787,\n",
       " 'PRV52052': 788,\n",
       " 'PRV52054': 789,\n",
       " 'PRV52055': 790,\n",
       " 'PRV52056': 791,\n",
       " 'PRV52057': 792,\n",
       " 'PRV52058': 793,\n",
       " 'PRV52059': 794,\n",
       " 'PRV52061': 795,\n",
       " 'PRV52062': 796,\n",
       " 'PRV52063': 797,\n",
       " 'PRV52064': 798,\n",
       " 'PRV52065': 799,\n",
       " 'PRV52066': 800,\n",
       " 'PRV52068': 801,\n",
       " 'PRV52069': 802,\n",
       " 'PRV52071': 803,\n",
       " 'PRV52072': 804,\n",
       " 'PRV52073': 805,\n",
       " 'PRV52074': 806,\n",
       " 'PRV52075': 807,\n",
       " 'PRV52076': 808,\n",
       " 'PRV52077': 809,\n",
       " 'PRV52079': 810,\n",
       " 'PRV52081': 811,\n",
       " 'PRV52082': 812,\n",
       " 'PRV52084': 813,\n",
       " 'PRV52085': 814,\n",
       " 'PRV52087': 815,\n",
       " 'PRV52088': 816,\n",
       " 'PRV52089': 817,\n",
       " 'PRV52090': 818,\n",
       " 'PRV52092': 819,\n",
       " 'PRV52094': 820,\n",
       " 'PRV52095': 821,\n",
       " 'PRV52097': 822,\n",
       " 'PRV52098': 823,\n",
       " 'PRV52099': 824,\n",
       " 'PRV52100': 825,\n",
       " 'PRV52101': 826,\n",
       " 'PRV52102': 827,\n",
       " 'PRV52104': 828,\n",
       " 'PRV52105': 829,\n",
       " 'PRV52107': 830,\n",
       " 'PRV52109': 831,\n",
       " 'PRV52111': 832,\n",
       " 'PRV52112': 833,\n",
       " 'PRV52113': 834,\n",
       " 'PRV52114': 835,\n",
       " 'PRV52115': 836,\n",
       " 'PRV52118': 837,\n",
       " 'PRV52119': 838,\n",
       " 'PRV52120': 839,\n",
       " 'PRV52121': 840,\n",
       " 'PRV52122': 841,\n",
       " 'PRV52123': 842,\n",
       " 'PRV52124': 843,\n",
       " 'PRV52126': 844,\n",
       " 'PRV52127': 845,\n",
       " 'PRV52128': 846,\n",
       " 'PRV52129': 847,\n",
       " 'PRV52130': 848,\n",
       " 'PRV52131': 849,\n",
       " 'PRV52133': 850,\n",
       " 'PRV52135': 851,\n",
       " 'PRV52136': 852,\n",
       " 'PRV52138': 853,\n",
       " 'PRV52140': 854,\n",
       " 'PRV52141': 855,\n",
       " 'PRV52142': 856,\n",
       " 'PRV52143': 857,\n",
       " 'PRV52144': 858,\n",
       " 'PRV52145': 859,\n",
       " 'PRV52146': 860,\n",
       " 'PRV52147': 861,\n",
       " 'PRV52148': 862,\n",
       " 'PRV52149': 863,\n",
       " 'PRV52150': 864,\n",
       " 'PRV52151': 865,\n",
       " 'PRV52152': 866,\n",
       " 'PRV52154': 867,\n",
       " 'PRV52155': 868,\n",
       " 'PRV52156': 869,\n",
       " 'PRV52157': 870,\n",
       " 'PRV52159': 871,\n",
       " 'PRV52160': 872,\n",
       " 'PRV52161': 873,\n",
       " 'PRV52162': 874,\n",
       " 'PRV52163': 875,\n",
       " 'PRV52165': 876,\n",
       " 'PRV52166': 877,\n",
       " 'PRV52167': 878,\n",
       " 'PRV52168': 879,\n",
       " 'PRV52169': 880,\n",
       " 'PRV52170': 881,\n",
       " 'PRV52171': 882,\n",
       " 'PRV52174': 883,\n",
       " 'PRV52175': 884,\n",
       " 'PRV52177': 885,\n",
       " 'PRV52178': 886,\n",
       " 'PRV52179': 887,\n",
       " 'PRV52180': 888,\n",
       " 'PRV52181': 889,\n",
       " 'PRV52182': 890,\n",
       " 'PRV52184': 891,\n",
       " 'PRV52185': 892,\n",
       " 'PRV52186': 893,\n",
       " 'PRV52187': 894,\n",
       " 'PRV52188': 895,\n",
       " 'PRV52189': 896,\n",
       " 'PRV52191': 897,\n",
       " 'PRV52192': 898,\n",
       " 'PRV52193': 899,\n",
       " 'PRV52196': 900,\n",
       " 'PRV52199': 901,\n",
       " 'PRV52200': 902,\n",
       " 'PRV52201': 903,\n",
       " 'PRV52202': 904,\n",
       " 'PRV52204': 905,\n",
       " 'PRV52205': 906,\n",
       " 'PRV52206': 907,\n",
       " 'PRV52208': 908,\n",
       " 'PRV52209': 909,\n",
       " 'PRV52211': 910,\n",
       " 'PRV52212': 911,\n",
       " 'PRV52213': 912,\n",
       " 'PRV52214': 913,\n",
       " 'PRV52216': 914,\n",
       " 'PRV52217': 915,\n",
       " 'PRV52218': 916,\n",
       " 'PRV52219': 917,\n",
       " 'PRV52220': 918,\n",
       " 'PRV52221': 919,\n",
       " 'PRV52222': 920,\n",
       " 'PRV52224': 921,\n",
       " 'PRV52225': 922,\n",
       " 'PRV52226': 923,\n",
       " 'PRV52227': 924,\n",
       " 'PRV52228': 925,\n",
       " 'PRV52229': 926,\n",
       " 'PRV52230': 927,\n",
       " 'PRV52231': 928,\n",
       " 'PRV52232': 929,\n",
       " 'PRV52233': 930,\n",
       " 'PRV52235': 931,\n",
       " 'PRV52236': 932,\n",
       " 'PRV52237': 933,\n",
       " 'PRV52238': 934,\n",
       " 'PRV52240': 935,\n",
       " 'PRV52241': 936,\n",
       " 'PRV52242': 937,\n",
       " 'PRV52246': 938,\n",
       " 'PRV52247': 939,\n",
       " 'PRV52248': 940,\n",
       " 'PRV52249': 941,\n",
       " 'PRV52251': 942,\n",
       " 'PRV52252': 943,\n",
       " 'PRV52253': 944,\n",
       " 'PRV52254': 945,\n",
       " 'PRV52255': 946,\n",
       " 'PRV52256': 947,\n",
       " 'PRV52257': 948,\n",
       " 'PRV52260': 949,\n",
       " 'PRV52261': 950,\n",
       " 'PRV52262': 951,\n",
       " 'PRV52263': 952,\n",
       " 'PRV52264': 953,\n",
       " 'PRV52271': 954,\n",
       " 'PRV52272': 955,\n",
       " 'PRV52273': 956,\n",
       " 'PRV52274': 957,\n",
       " 'PRV52275': 958,\n",
       " 'PRV52276': 959,\n",
       " 'PRV52279': 960,\n",
       " 'PRV52284': 961,\n",
       " 'PRV52288': 962,\n",
       " 'PRV52291': 963,\n",
       " 'PRV52293': 964,\n",
       " 'PRV52298': 965,\n",
       " 'PRV52299': 966,\n",
       " 'PRV52300': 967,\n",
       " 'PRV52302': 968,\n",
       " 'PRV52303': 969,\n",
       " 'PRV52304': 970,\n",
       " 'PRV52306': 971,\n",
       " 'PRV52307': 972,\n",
       " 'PRV52308': 973,\n",
       " 'PRV52309': 974,\n",
       " 'PRV52310': 975,\n",
       " 'PRV52311': 976,\n",
       " 'PRV52312': 977,\n",
       " 'PRV52313': 978,\n",
       " 'PRV52314': 979,\n",
       " 'PRV52315': 980,\n",
       " 'PRV52317': 981,\n",
       " 'PRV52318': 982,\n",
       " 'PRV52319': 983,\n",
       " 'PRV52320': 984,\n",
       " 'PRV52321': 985,\n",
       " 'PRV52323': 986,\n",
       " 'PRV52325': 987,\n",
       " 'PRV52326': 988,\n",
       " 'PRV52328': 989,\n",
       " 'PRV52331': 990,\n",
       " 'PRV52332': 991,\n",
       " 'PRV52334': 992,\n",
       " 'PRV52335': 993,\n",
       " 'PRV52336': 994,\n",
       " 'PRV52337': 995,\n",
       " 'PRV52340': 996,\n",
       " 'PRV52341': 997,\n",
       " 'PRV52342': 998,\n",
       " 'PRV52343': 999,\n",
       " ...}"
      ]
     },
     "execution_count": 16,
     "metadata": {},
     "output_type": "execute_result"
    }
   ],
   "source": [
    "makeMapDict(outpatient[\"Provider\"])"
   ]
  },
  {
   "cell_type": "markdown",
   "metadata": {},
   "source": [
    " category = st.selectbox(\"Select Category \", Categorical + Object)\n",
    "\n",
    "        sizes = (df_visual[category].value_counts()/df_visual[category].count())\n",
    "\n",
    "        labels = sizes.keys()\n",
    "\n",
    "        maxIndex = np.argmax(np.array(sizes))\n",
    "        explode = [0]*len(labels)\n",
    "        explode[int(maxIndex)] = 0.1\n",
    "        explode = tuple(explode)\n",
    "        \n",
    "        fig1, ax1 = plt.subplots()\n",
    "        ax1.pie(sizes,explode = explode, labels=labels, autopct='%1.1f%%',shadow=False, startangle=0)\n",
    "        ax1.axis('equal')  # Equal aspect ratio ensures that pie is drawn as a circle.\n",
    "        ax1.set_title('Distribution for Categorical Column - ' + (str)(category))\n",
    "        st.pyplot(fig1)\n",
    "        \n",
    "        corr = df_analysis.corr(method='pearson')\n",
    "        \n",
    "        fig2, ax2 = plt.subplots()\n",
    "        mask = np.zeros_like(corr, dtype=np.bool)\n",
    "        mask[np.triu_indices_from(mask)] = True\n",
    "        # Colors\n",
    "        cmap = sns.diverging_palette(240, 10, as_cmap=True)\n",
    "        sns.heatmap(corr, mask=mask, linewidths=.5, cmap=cmap, center=0,ax=ax2)\n",
    "        ax2.set_title(\"Correlation Matrix\")\n",
    "        st.pyplot(fig2)\n",
    "        \n",
    "        \n",
    "        categoryObject=st.selectbox(\"Select \" + (str)(category),unique_Category_val[category])\n",
    "        st.write(cat_groups[category].get_group(categoryObject).describe())\n",
    "        colName = st.selectbox(\"Select Column \",Numerical)\n",
    "\n",
    "        st.bar_chart(cat_groups[category].get_group(categoryObject)[colName])"
   ]
  },
  {
   "cell_type": "code",
   "execution_count": 17,
   "metadata": {
    "execution": {
     "iopub.execute_input": "2022-06-02T10:28:55.415643Z",
     "iopub.status.busy": "2022-06-02T10:28:55.415309Z",
     "iopub.status.idle": "2022-06-02T10:28:55.809623Z",
     "shell.execute_reply": "2022-06-02T10:28:55.808605Z",
     "shell.execute_reply.started": "2022-06-02T10:28:55.415613Z"
    }
   },
   "outputs": [
    {
     "data": {
      "text/html": [
       "<div>\n",
       "<style scoped>\n",
       "    .dataframe tbody tr th:only-of-type {\n",
       "        vertical-align: middle;\n",
       "    }\n",
       "\n",
       "    .dataframe tbody tr th {\n",
       "        vertical-align: top;\n",
       "    }\n",
       "\n",
       "    .dataframe thead th {\n",
       "        text-align: right;\n",
       "    }\n",
       "</style>\n",
       "<table border=\"1\" class=\"dataframe\">\n",
       "  <thead>\n",
       "    <tr style=\"text-align: right;\">\n",
       "      <th></th>\n",
       "      <th>BeneID</th>\n",
       "      <th>DOB</th>\n",
       "      <th>DOD</th>\n",
       "      <th>Gender</th>\n",
       "      <th>Race</th>\n",
       "      <th>RenalDiseaseIndicator</th>\n",
       "      <th>State</th>\n",
       "      <th>County</th>\n",
       "      <th>NoOfMonths_PartACov</th>\n",
       "      <th>NoOfMonths_PartBCov</th>\n",
       "      <th>...</th>\n",
       "      <th>ChronicCond_Depression</th>\n",
       "      <th>ChronicCond_Diabetes</th>\n",
       "      <th>ChronicCond_IschemicHeart</th>\n",
       "      <th>ChronicCond_Osteoporasis</th>\n",
       "      <th>ChronicCond_rheumatoidarthritis</th>\n",
       "      <th>ChronicCond_stroke</th>\n",
       "      <th>IPAnnualReimbursementAmt</th>\n",
       "      <th>IPAnnualDeductibleAmt</th>\n",
       "      <th>OPAnnualReimbursementAmt</th>\n",
       "      <th>OPAnnualDeductibleAmt</th>\n",
       "    </tr>\n",
       "  </thead>\n",
       "  <tbody>\n",
       "    <tr>\n",
       "      <th>0</th>\n",
       "      <td>BENE11001</td>\n",
       "      <td>1943-01-01</td>\n",
       "      <td>NaN</td>\n",
       "      <td>1</td>\n",
       "      <td>1</td>\n",
       "      <td>0</td>\n",
       "      <td>39</td>\n",
       "      <td>230</td>\n",
       "      <td>12</td>\n",
       "      <td>12</td>\n",
       "      <td>...</td>\n",
       "      <td>1</td>\n",
       "      <td>1</td>\n",
       "      <td>1</td>\n",
       "      <td>2</td>\n",
       "      <td>1</td>\n",
       "      <td>1</td>\n",
       "      <td>36000</td>\n",
       "      <td>3204</td>\n",
       "      <td>60</td>\n",
       "      <td>70</td>\n",
       "    </tr>\n",
       "    <tr>\n",
       "      <th>1</th>\n",
       "      <td>BENE11002</td>\n",
       "      <td>1936-09-01</td>\n",
       "      <td>NaN</td>\n",
       "      <td>2</td>\n",
       "      <td>1</td>\n",
       "      <td>0</td>\n",
       "      <td>39</td>\n",
       "      <td>280</td>\n",
       "      <td>12</td>\n",
       "      <td>12</td>\n",
       "      <td>...</td>\n",
       "      <td>2</td>\n",
       "      <td>2</td>\n",
       "      <td>2</td>\n",
       "      <td>2</td>\n",
       "      <td>2</td>\n",
       "      <td>2</td>\n",
       "      <td>0</td>\n",
       "      <td>0</td>\n",
       "      <td>30</td>\n",
       "      <td>50</td>\n",
       "    </tr>\n",
       "    <tr>\n",
       "      <th>2</th>\n",
       "      <td>BENE11003</td>\n",
       "      <td>1936-08-01</td>\n",
       "      <td>NaN</td>\n",
       "      <td>1</td>\n",
       "      <td>1</td>\n",
       "      <td>0</td>\n",
       "      <td>52</td>\n",
       "      <td>590</td>\n",
       "      <td>12</td>\n",
       "      <td>12</td>\n",
       "      <td>...</td>\n",
       "      <td>2</td>\n",
       "      <td>2</td>\n",
       "      <td>1</td>\n",
       "      <td>2</td>\n",
       "      <td>2</td>\n",
       "      <td>2</td>\n",
       "      <td>0</td>\n",
       "      <td>0</td>\n",
       "      <td>90</td>\n",
       "      <td>40</td>\n",
       "    </tr>\n",
       "    <tr>\n",
       "      <th>3</th>\n",
       "      <td>BENE11004</td>\n",
       "      <td>1922-07-01</td>\n",
       "      <td>NaN</td>\n",
       "      <td>1</td>\n",
       "      <td>1</td>\n",
       "      <td>0</td>\n",
       "      <td>39</td>\n",
       "      <td>270</td>\n",
       "      <td>12</td>\n",
       "      <td>12</td>\n",
       "      <td>...</td>\n",
       "      <td>2</td>\n",
       "      <td>1</td>\n",
       "      <td>1</td>\n",
       "      <td>1</td>\n",
       "      <td>1</td>\n",
       "      <td>2</td>\n",
       "      <td>0</td>\n",
       "      <td>0</td>\n",
       "      <td>1810</td>\n",
       "      <td>760</td>\n",
       "    </tr>\n",
       "    <tr>\n",
       "      <th>4</th>\n",
       "      <td>BENE11005</td>\n",
       "      <td>1935-09-01</td>\n",
       "      <td>NaN</td>\n",
       "      <td>1</td>\n",
       "      <td>1</td>\n",
       "      <td>0</td>\n",
       "      <td>24</td>\n",
       "      <td>680</td>\n",
       "      <td>12</td>\n",
       "      <td>12</td>\n",
       "      <td>...</td>\n",
       "      <td>2</td>\n",
       "      <td>1</td>\n",
       "      <td>2</td>\n",
       "      <td>2</td>\n",
       "      <td>2</td>\n",
       "      <td>2</td>\n",
       "      <td>0</td>\n",
       "      <td>0</td>\n",
       "      <td>1790</td>\n",
       "      <td>1200</td>\n",
       "    </tr>\n",
       "  </tbody>\n",
       "</table>\n",
       "<p>5 rows × 25 columns</p>\n",
       "</div>"
      ],
      "text/plain": [
       "      BeneID         DOB  DOD  Gender  Race RenalDiseaseIndicator  State  \\\n",
       "0  BENE11001  1943-01-01  NaN       1     1                     0     39   \n",
       "1  BENE11002  1936-09-01  NaN       2     1                     0     39   \n",
       "2  BENE11003  1936-08-01  NaN       1     1                     0     52   \n",
       "3  BENE11004  1922-07-01  NaN       1     1                     0     39   \n",
       "4  BENE11005  1935-09-01  NaN       1     1                     0     24   \n",
       "\n",
       "   County  NoOfMonths_PartACov  NoOfMonths_PartBCov  ...  \\\n",
       "0     230                   12                   12  ...   \n",
       "1     280                   12                   12  ...   \n",
       "2     590                   12                   12  ...   \n",
       "3     270                   12                   12  ...   \n",
       "4     680                   12                   12  ...   \n",
       "\n",
       "   ChronicCond_Depression  ChronicCond_Diabetes  ChronicCond_IschemicHeart  \\\n",
       "0                       1                     1                          1   \n",
       "1                       2                     2                          2   \n",
       "2                       2                     2                          1   \n",
       "3                       2                     1                          1   \n",
       "4                       2                     1                          2   \n",
       "\n",
       "   ChronicCond_Osteoporasis  ChronicCond_rheumatoidarthritis  \\\n",
       "0                         2                                1   \n",
       "1                         2                                2   \n",
       "2                         2                                2   \n",
       "3                         1                                1   \n",
       "4                         2                                2   \n",
       "\n",
       "   ChronicCond_stroke  IPAnnualReimbursementAmt  IPAnnualDeductibleAmt  \\\n",
       "0                   1                     36000                   3204   \n",
       "1                   2                         0                      0   \n",
       "2                   2                         0                      0   \n",
       "3                   2                         0                      0   \n",
       "4                   2                         0                      0   \n",
       "\n",
       "   OPAnnualReimbursementAmt  OPAnnualDeductibleAmt  \n",
       "0                        60                     70  \n",
       "1                        30                     50  \n",
       "2                        90                     40  \n",
       "3                      1810                    760  \n",
       "4                      1790                   1200  \n",
       "\n",
       "[5 rows x 25 columns]"
      ]
     },
     "execution_count": 17,
     "metadata": {},
     "output_type": "execute_result"
    }
   ],
   "source": [
    "beneficiary= pd.read_csv(\"Train_Beneficiarydata-1542865627584.csv\")\n",
    "beneficiary.head()"
   ]
  },
  {
   "cell_type": "markdown",
   "metadata": {},
   "source": [
    "## Exploratory Data Analysis"
   ]
  },
  {
   "cell_type": "markdown",
   "metadata": {},
   "source": [
    "Looking for the most common procedure codes which are applied for the fradulent and non fradulent services to see any specific pattern"
   ]
  },
  {
   "cell_type": "markdown",
   "metadata": {},
   "source": [
    "### Inpatient"
   ]
  },
  {
   "cell_type": "code",
   "execution_count": 18,
   "metadata": {
    "execution": {
     "iopub.execute_input": "2022-06-02T10:29:09.596379Z",
     "iopub.status.busy": "2022-06-02T10:29:09.596062Z",
     "iopub.status.idle": "2022-06-02T10:29:09.625005Z",
     "shell.execute_reply": "2022-06-02T10:29:09.624262Z",
     "shell.execute_reply.started": "2022-06-02T10:29:09.59635Z"
    }
   },
   "outputs": [
    {
     "data": {
      "text/plain": [
       "1     7092.0\n",
       "3      331.0\n",
       "4     3893.0\n",
       "5      863.0\n",
       "6     4576.0\n",
       "7     9904.0\n",
       "9     3612.0\n",
       "10    9672.0\n",
       "12    9904.0\n",
       "14    9671.0\n",
       "Name: Procedures, dtype: float64"
      ]
     },
     "execution_count": 18,
     "metadata": {},
     "output_type": "execute_result"
    }
   ],
   "source": [
    "df_procedures1 =  pd.DataFrame(columns = ['Procedures'])\n",
    "df_procedures1['Procedures'] = pd.concat([inpatient[\"ClmProcedureCode_1\"], inpatient[\"ClmProcedureCode_2\"], inpatient[\"ClmProcedureCode_3\"], inpatient[\"ClmProcedureCode_4\"], inpatient[\"ClmProcedureCode_5\"], inpatient[\"ClmProcedureCode_6\"]], axis=0, sort=True).dropna()\n",
    "df_procedures1['Procedures'].head(10)"
   ]
  },
  {
   "cell_type": "code",
   "execution_count": 19,
   "metadata": {
    "execution": {
     "iopub.execute_input": "2022-06-02T10:30:44.175787Z",
     "iopub.status.busy": "2022-06-02T10:30:44.175133Z",
     "iopub.status.idle": "2022-06-02T10:30:44.187626Z",
     "shell.execute_reply": "2022-06-02T10:30:44.186408Z",
     "shell.execute_reply.started": "2022-06-02T10:30:44.175743Z"
    }
   },
   "outputs": [
    {
     "data": {
      "text/plain": [
       "(29692, 1)"
      ]
     },
     "execution_count": 19,
     "metadata": {},
     "output_type": "execute_result"
    }
   ],
   "source": [
    "df_procedures1.shape"
   ]
  },
  {
   "cell_type": "code",
   "execution_count": 20,
   "metadata": {
    "execution": {
     "iopub.execute_input": "2022-06-02T10:31:54.836136Z",
     "iopub.status.busy": "2022-06-02T10:31:54.835819Z",
     "iopub.status.idle": "2022-06-02T10:31:54.91771Z",
     "shell.execute_reply": "2022-06-02T10:31:54.916862Z",
     "shell.execute_reply.started": "2022-06-02T10:31:54.836109Z"
    }
   },
   "outputs": [
    {
     "data": {
      "text/plain": [
       "BeneID                        0\n",
       "ClaimID                       0\n",
       "ClaimStartDt                  0\n",
       "ClaimEndDt                    0\n",
       "Provider                      0\n",
       "InscClaimAmtReimbursed        0\n",
       "AttendingPhysician          112\n",
       "OperatingPhysician        16644\n",
       "OtherPhysician            35784\n",
       "AdmissionDt                   0\n",
       "ClmAdmitDiagnosisCode         0\n",
       "DeductibleAmtPaid           899\n",
       "DischargeDt                   0\n",
       "DiagnosisGroupCode            0\n",
       "ClmDiagnosisCode_1            0\n",
       "ClmDiagnosisCode_2          226\n",
       "ClmDiagnosisCode_3          676\n",
       "ClmDiagnosisCode_4         1534\n",
       "ClmDiagnosisCode_5         2894\n",
       "ClmDiagnosisCode_6         4838\n",
       "ClmDiagnosisCode_7         7258\n",
       "ClmDiagnosisCode_8         9942\n",
       "ClmDiagnosisCode_9        13497\n",
       "ClmDiagnosisCode_10       36547\n",
       "ClmProcedureCode_1        17326\n",
       "ClmProcedureCode_2        35020\n",
       "ClmProcedureCode_3        39509\n",
       "ClmProcedureCode_4        40358\n",
       "ClmProcedureCode_5        40465\n",
       "ClmProcedureCode_6        40474\n",
       "dtype: int64"
      ]
     },
     "execution_count": 20,
     "metadata": {},
     "output_type": "execute_result"
    }
   ],
   "source": [
    "inpatient.isnull().sum()"
   ]
  },
  {
   "cell_type": "code",
   "execution_count": 21,
   "metadata": {
    "execution": {
     "iopub.execute_input": "2022-06-02T10:32:59.901568Z",
     "iopub.status.busy": "2022-06-02T10:32:59.901193Z",
     "iopub.status.idle": "2022-06-02T10:32:59.913966Z",
     "shell.execute_reply": "2022-06-02T10:32:59.912942Z",
     "shell.execute_reply.started": "2022-06-02T10:32:59.901537Z"
    }
   },
   "outputs": [
    {
     "data": {
      "text/plain": [
       "4019.0    1953\n",
       "9904.0    1137\n",
       "2724.0    1047\n",
       "8154.0    1021\n",
       "66.0       894\n",
       "          ... \n",
       "5689.0       1\n",
       "8853.0       1\n",
       "8134.0       1\n",
       "9031.0       1\n",
       "3343.0       1\n",
       "Name: Procedures, Length: 1321, dtype: int64"
      ]
     },
     "execution_count": 21,
     "metadata": {},
     "output_type": "execute_result"
    }
   ],
   "source": [
    "grouped_procedure_df = df_procedures1['Procedures'].value_counts()\n",
    "grouped_procedure_df"
   ]
  },
  {
   "cell_type": "code",
   "execution_count": 22,
   "metadata": {
    "execution": {
     "iopub.execute_input": "2022-06-02T10:38:02.016521Z",
     "iopub.status.busy": "2022-06-02T10:38:02.016161Z",
     "iopub.status.idle": "2022-06-02T10:38:02.120992Z",
     "shell.execute_reply": "2022-06-02T10:38:02.120309Z",
     "shell.execute_reply.started": "2022-06-02T10:38:02.016489Z"
    }
   },
   "outputs": [
    {
     "data": {
      "text/plain": [
       "0     1970\n",
       "1     6186\n",
       "2    29623\n",
       "3    43491\n",
       "4      042\n",
       "5     1745\n",
       "6     1536\n",
       "7    56212\n",
       "8    42823\n",
       "9    41041\n",
       "Name: Diagnosis, dtype: object"
      ]
     },
     "execution_count": 22,
     "metadata": {},
     "output_type": "execute_result"
    }
   ],
   "source": [
    "df_diagnosis = pd.DataFrame(columns = ['Diagnosis'])\n",
    "df_diagnosis['Diagnosis'] = pd.concat([inpatient[\"ClmDiagnosisCode_1\"], inpatient[\"ClmDiagnosisCode_2\"], inpatient[\"ClmDiagnosisCode_3\"], inpatient[\"ClmDiagnosisCode_4\"], inpatient[\"ClmDiagnosisCode_5\"], inpatient[\"ClmDiagnosisCode_6\"], inpatient[\"ClmDiagnosisCode_7\"], inpatient[\"ClmDiagnosisCode_8\"], inpatient[\"ClmDiagnosisCode_9\"], inpatient[\"ClmDiagnosisCode_10\"]], axis=0, sort=True).dropna()\n",
    "df_diagnosis['Diagnosis'].head(10)"
   ]
  },
  {
   "cell_type": "code",
   "execution_count": 23,
   "metadata": {
    "execution": {
     "iopub.execute_input": "2022-06-02T10:38:27.136205Z",
     "iopub.status.busy": "2022-06-02T10:38:27.13589Z",
     "iopub.status.idle": "2022-06-02T10:38:27.142343Z",
     "shell.execute_reply": "2022-06-02T10:38:27.141503Z",
     "shell.execute_reply.started": "2022-06-02T10:38:27.136177Z"
    }
   },
   "outputs": [
    {
     "data": {
      "text/plain": [
       "(327328, 1)"
      ]
     },
     "execution_count": 23,
     "metadata": {},
     "output_type": "execute_result"
    }
   ],
   "source": [
    "df_diagnosis.shape"
   ]
  },
  {
   "cell_type": "code",
   "execution_count": 24,
   "metadata": {
    "execution": {
     "iopub.execute_input": "2022-06-02T10:38:30.035452Z",
     "iopub.status.busy": "2022-06-02T10:38:30.035103Z",
     "iopub.status.idle": "2022-06-02T10:38:30.119332Z",
     "shell.execute_reply": "2022-06-02T10:38:30.118418Z",
     "shell.execute_reply.started": "2022-06-02T10:38:30.035418Z"
    }
   },
   "outputs": [
    {
     "data": {
      "text/plain": [
       "4019     14153\n",
       "2724      7340\n",
       "25000     7334\n",
       "41401     6442\n",
       "4280      6190\n",
       "         ...  \n",
       "20213        1\n",
       "34710        1\n",
       "37855        1\n",
       "9711         1\n",
       "V6141        1\n",
       "Name: Diagnosis, Length: 4716, dtype: int64"
      ]
     },
     "execution_count": 24,
     "metadata": {},
     "output_type": "execute_result"
    }
   ],
   "source": [
    "grouped_diagnosis_df = df_diagnosis['Diagnosis'].value_counts()\n",
    "grouped_diagnosis_df"
   ]
  },
  {
   "cell_type": "code",
   "execution_count": 25,
   "metadata": {
    "execution": {
     "iopub.execute_input": "2022-06-02T10:40:23.056714Z",
     "iopub.status.busy": "2022-06-02T10:40:23.056366Z",
     "iopub.status.idle": "2022-06-02T10:40:23.06325Z",
     "shell.execute_reply": "2022-06-02T10:40:23.062015Z",
     "shell.execute_reply.started": "2022-06-02T10:40:23.056683Z"
    }
   },
   "outputs": [
    {
     "data": {
      "text/plain": [
       "4019     14153\n",
       "2724      7340\n",
       "25000     7334\n",
       "41401     6442\n",
       "4280      6190\n",
       "Name: Diagnosis, dtype: int64"
      ]
     },
     "execution_count": 25,
     "metadata": {},
     "output_type": "execute_result"
    }
   ],
   "source": [
    "grouped_diagnosis_df.head()"
   ]
  },
  {
   "cell_type": "code",
   "execution_count": 26,
   "metadata": {
    "execution": {
     "iopub.execute_input": "2022-06-02T10:38:33.855815Z",
     "iopub.status.busy": "2022-06-02T10:38:33.855487Z",
     "iopub.status.idle": "2022-06-02T10:38:33.867159Z",
     "shell.execute_reply": "2022-06-02T10:38:33.865835Z",
     "shell.execute_reply.started": "2022-06-02T10:38:33.855787Z"
    }
   },
   "outputs": [
    {
     "data": {
      "text/html": [
       "<div>\n",
       "<style scoped>\n",
       "    .dataframe tbody tr th:only-of-type {\n",
       "        vertical-align: middle;\n",
       "    }\n",
       "\n",
       "    .dataframe tbody tr th {\n",
       "        vertical-align: top;\n",
       "    }\n",
       "\n",
       "    .dataframe thead th {\n",
       "        text-align: right;\n",
       "    }\n",
       "</style>\n",
       "<table border=\"1\" class=\"dataframe\">\n",
       "  <thead>\n",
       "    <tr style=\"text-align: right;\">\n",
       "      <th></th>\n",
       "      <th>Procedures</th>\n",
       "    </tr>\n",
       "  </thead>\n",
       "  <tbody>\n",
       "    <tr>\n",
       "      <th>4019.0</th>\n",
       "      <td>1953</td>\n",
       "    </tr>\n",
       "    <tr>\n",
       "      <th>9904.0</th>\n",
       "      <td>1137</td>\n",
       "    </tr>\n",
       "    <tr>\n",
       "      <th>2724.0</th>\n",
       "      <td>1047</td>\n",
       "    </tr>\n",
       "    <tr>\n",
       "      <th>8154.0</th>\n",
       "      <td>1021</td>\n",
       "    </tr>\n",
       "    <tr>\n",
       "      <th>66.0</th>\n",
       "      <td>894</td>\n",
       "    </tr>\n",
       "    <tr>\n",
       "      <th>...</th>\n",
       "      <td>...</td>\n",
       "    </tr>\n",
       "    <tr>\n",
       "      <th>5689.0</th>\n",
       "      <td>1</td>\n",
       "    </tr>\n",
       "    <tr>\n",
       "      <th>8853.0</th>\n",
       "      <td>1</td>\n",
       "    </tr>\n",
       "    <tr>\n",
       "      <th>8134.0</th>\n",
       "      <td>1</td>\n",
       "    </tr>\n",
       "    <tr>\n",
       "      <th>9031.0</th>\n",
       "      <td>1</td>\n",
       "    </tr>\n",
       "    <tr>\n",
       "      <th>3343.0</th>\n",
       "      <td>1</td>\n",
       "    </tr>\n",
       "  </tbody>\n",
       "</table>\n",
       "<p>1321 rows × 1 columns</p>\n",
       "</div>"
      ],
      "text/plain": [
       "        Procedures\n",
       "4019.0        1953\n",
       "9904.0        1137\n",
       "2724.0        1047\n",
       "8154.0        1021\n",
       "66.0           894\n",
       "...            ...\n",
       "5689.0           1\n",
       "8853.0           1\n",
       "8134.0           1\n",
       "9031.0           1\n",
       "3343.0           1\n",
       "\n",
       "[1321 rows x 1 columns]"
      ]
     },
     "execution_count": 26,
     "metadata": {},
     "output_type": "execute_result"
    }
   ],
   "source": [
    "grouped_procedure_df1 = grouped_procedure_df.to_frame()\n",
    "grouped_procedure_df1"
   ]
  },
  {
   "cell_type": "code",
   "execution_count": 27,
   "metadata": {
    "execution": {
     "iopub.execute_input": "2022-06-02T10:38:37.875743Z",
     "iopub.status.busy": "2022-06-02T10:38:37.875415Z",
     "iopub.status.idle": "2022-06-02T10:38:37.887707Z",
     "shell.execute_reply": "2022-06-02T10:38:37.886598Z",
     "shell.execute_reply.started": "2022-06-02T10:38:37.875715Z"
    }
   },
   "outputs": [
    {
     "data": {
      "text/html": [
       "<div>\n",
       "<style scoped>\n",
       "    .dataframe tbody tr th:only-of-type {\n",
       "        vertical-align: middle;\n",
       "    }\n",
       "\n",
       "    .dataframe tbody tr th {\n",
       "        vertical-align: top;\n",
       "    }\n",
       "\n",
       "    .dataframe thead th {\n",
       "        text-align: right;\n",
       "    }\n",
       "</style>\n",
       "<table border=\"1\" class=\"dataframe\">\n",
       "  <thead>\n",
       "    <tr style=\"text-align: right;\">\n",
       "      <th></th>\n",
       "      <th>count</th>\n",
       "    </tr>\n",
       "  </thead>\n",
       "  <tbody>\n",
       "    <tr>\n",
       "      <th>4019.0</th>\n",
       "      <td>1953</td>\n",
       "    </tr>\n",
       "    <tr>\n",
       "      <th>9904.0</th>\n",
       "      <td>1137</td>\n",
       "    </tr>\n",
       "    <tr>\n",
       "      <th>2724.0</th>\n",
       "      <td>1047</td>\n",
       "    </tr>\n",
       "    <tr>\n",
       "      <th>8154.0</th>\n",
       "      <td>1021</td>\n",
       "    </tr>\n",
       "    <tr>\n",
       "      <th>66.0</th>\n",
       "      <td>894</td>\n",
       "    </tr>\n",
       "    <tr>\n",
       "      <th>...</th>\n",
       "      <td>...</td>\n",
       "    </tr>\n",
       "    <tr>\n",
       "      <th>5689.0</th>\n",
       "      <td>1</td>\n",
       "    </tr>\n",
       "    <tr>\n",
       "      <th>8853.0</th>\n",
       "      <td>1</td>\n",
       "    </tr>\n",
       "    <tr>\n",
       "      <th>8134.0</th>\n",
       "      <td>1</td>\n",
       "    </tr>\n",
       "    <tr>\n",
       "      <th>9031.0</th>\n",
       "      <td>1</td>\n",
       "    </tr>\n",
       "    <tr>\n",
       "      <th>3343.0</th>\n",
       "      <td>1</td>\n",
       "    </tr>\n",
       "  </tbody>\n",
       "</table>\n",
       "<p>1321 rows × 1 columns</p>\n",
       "</div>"
      ],
      "text/plain": [
       "        count\n",
       "4019.0   1953\n",
       "9904.0   1137\n",
       "2724.0   1047\n",
       "8154.0   1021\n",
       "66.0      894\n",
       "...       ...\n",
       "5689.0      1\n",
       "8853.0      1\n",
       "8134.0      1\n",
       "9031.0      1\n",
       "3343.0      1\n",
       "\n",
       "[1321 rows x 1 columns]"
      ]
     },
     "execution_count": 27,
     "metadata": {},
     "output_type": "execute_result"
    }
   ],
   "source": [
    "grouped_procedure_df1.columns = ['count']\n",
    "grouped_procedure_df1"
   ]
  },
  {
   "cell_type": "code",
   "execution_count": 28,
   "metadata": {
    "execution": {
     "iopub.execute_input": "2022-06-02T10:38:42.995827Z",
     "iopub.status.busy": "2022-06-02T10:38:42.99551Z",
     "iopub.status.idle": "2022-06-02T10:38:43.014192Z",
     "shell.execute_reply": "2022-06-02T10:38:43.012977Z",
     "shell.execute_reply.started": "2022-06-02T10:38:42.995799Z"
    }
   },
   "outputs": [
    {
     "data": {
      "text/html": [
       "<div>\n",
       "<style scoped>\n",
       "    .dataframe tbody tr th:only-of-type {\n",
       "        vertical-align: middle;\n",
       "    }\n",
       "\n",
       "    .dataframe tbody tr th {\n",
       "        vertical-align: top;\n",
       "    }\n",
       "\n",
       "    .dataframe thead th {\n",
       "        text-align: right;\n",
       "    }\n",
       "</style>\n",
       "<table border=\"1\" class=\"dataframe\">\n",
       "  <thead>\n",
       "    <tr style=\"text-align: right;\">\n",
       "      <th></th>\n",
       "      <th>count</th>\n",
       "      <th>Procedure</th>\n",
       "    </tr>\n",
       "  </thead>\n",
       "  <tbody>\n",
       "    <tr>\n",
       "      <th>4019.0</th>\n",
       "      <td>1953</td>\n",
       "      <td>4019.0</td>\n",
       "    </tr>\n",
       "    <tr>\n",
       "      <th>9904.0</th>\n",
       "      <td>1137</td>\n",
       "      <td>9904.0</td>\n",
       "    </tr>\n",
       "    <tr>\n",
       "      <th>2724.0</th>\n",
       "      <td>1047</td>\n",
       "      <td>2724.0</td>\n",
       "    </tr>\n",
       "    <tr>\n",
       "      <th>8154.0</th>\n",
       "      <td>1021</td>\n",
       "      <td>8154.0</td>\n",
       "    </tr>\n",
       "    <tr>\n",
       "      <th>66.0</th>\n",
       "      <td>894</td>\n",
       "      <td>66.0</td>\n",
       "    </tr>\n",
       "    <tr>\n",
       "      <th>...</th>\n",
       "      <td>...</td>\n",
       "      <td>...</td>\n",
       "    </tr>\n",
       "    <tr>\n",
       "      <th>5689.0</th>\n",
       "      <td>1</td>\n",
       "      <td>5689.0</td>\n",
       "    </tr>\n",
       "    <tr>\n",
       "      <th>8853.0</th>\n",
       "      <td>1</td>\n",
       "      <td>8853.0</td>\n",
       "    </tr>\n",
       "    <tr>\n",
       "      <th>8134.0</th>\n",
       "      <td>1</td>\n",
       "      <td>8134.0</td>\n",
       "    </tr>\n",
       "    <tr>\n",
       "      <th>9031.0</th>\n",
       "      <td>1</td>\n",
       "      <td>9031.0</td>\n",
       "    </tr>\n",
       "    <tr>\n",
       "      <th>3343.0</th>\n",
       "      <td>1</td>\n",
       "      <td>3343.0</td>\n",
       "    </tr>\n",
       "  </tbody>\n",
       "</table>\n",
       "<p>1321 rows × 2 columns</p>\n",
       "</div>"
      ],
      "text/plain": [
       "        count  Procedure\n",
       "4019.0   1953     4019.0\n",
       "9904.0   1137     9904.0\n",
       "2724.0   1047     2724.0\n",
       "8154.0   1021     8154.0\n",
       "66.0      894       66.0\n",
       "...       ...        ...\n",
       "5689.0      1     5689.0\n",
       "8853.0      1     8853.0\n",
       "8134.0      1     8134.0\n",
       "9031.0      1     9031.0\n",
       "3343.0      1     3343.0\n",
       "\n",
       "[1321 rows x 2 columns]"
      ]
     },
     "execution_count": 28,
     "metadata": {},
     "output_type": "execute_result"
    }
   ],
   "source": [
    "grouped_procedure_df1['Procedure'] = grouped_procedure_df1.index\n",
    "grouped_procedure_df1"
   ]
  },
  {
   "cell_type": "code",
   "execution_count": 29,
   "metadata": {
    "execution": {
     "iopub.execute_input": "2022-06-02T10:39:43.776005Z",
     "iopub.status.busy": "2022-06-02T10:39:43.77565Z",
     "iopub.status.idle": "2022-06-02T10:39:43.802397Z",
     "shell.execute_reply": "2022-06-02T10:39:43.801634Z",
     "shell.execute_reply.started": "2022-06-02T10:39:43.775972Z"
    }
   },
   "outputs": [
    {
     "data": {
      "text/plain": [
       "4019.0    6.577529\n",
       "9904.0    3.829314\n",
       "2724.0    3.526202\n",
       "8154.0    3.438637\n",
       "66.0      3.010912\n",
       "            ...   \n",
       "5689.0    0.003368\n",
       "8853.0    0.003368\n",
       "8134.0    0.003368\n",
       "9031.0    0.003368\n",
       "3343.0    0.003368\n",
       "Name: Percentage, Length: 1321, dtype: float64"
      ]
     },
     "execution_count": 29,
     "metadata": {},
     "output_type": "execute_result"
    }
   ],
   "source": [
    "grouped_procedure_df1['Percentage'] = (grouped_procedure_df1['count']/sum(grouped_procedure_df1['count']))*100\n",
    "grouped_procedure_df1['Percentage']"
   ]
  },
  {
   "cell_type": "code",
   "execution_count": 30,
   "metadata": {
    "execution": {
     "iopub.execute_input": "2022-06-02T10:40:39.016352Z",
     "iopub.status.busy": "2022-06-02T10:40:39.015953Z",
     "iopub.status.idle": "2022-06-02T10:40:39.029585Z",
     "shell.execute_reply": "2022-06-02T10:40:39.02825Z",
     "shell.execute_reply.started": "2022-06-02T10:40:39.01632Z"
    }
   },
   "outputs": [
    {
     "data": {
      "text/plain": [
       "4019     4.323798\n",
       "2724     2.242399\n",
       "25000    2.240566\n",
       "41401    1.968057\n",
       "4280     1.891070\n",
       "           ...   \n",
       "20213    0.000306\n",
       "34710    0.000306\n",
       "37855    0.000306\n",
       "9711     0.000306\n",
       "V6141    0.000306\n",
       "Name: Percentage, Length: 4716, dtype: float64"
      ]
     },
     "execution_count": 30,
     "metadata": {},
     "output_type": "execute_result"
    }
   ],
   "source": [
    "grouped_diagnosis_df = grouped_diagnosis_df.to_frame()\n",
    "grouped_diagnosis_df.columns = ['count']\n",
    "grouped_diagnosis_df['Diagnosis'] = grouped_diagnosis_df.index\n",
    "grouped_diagnosis_df['Percentage'] = (grouped_diagnosis_df['count']/sum(grouped_diagnosis_df['count']))*100\n",
    "grouped_diagnosis_df['Percentage']"
   ]
  },
  {
   "cell_type": "code",
   "execution_count": 31,
   "metadata": {
    "execution": {
     "iopub.execute_input": "2022-06-02T10:40:50.351267Z",
     "iopub.status.busy": "2022-06-02T10:40:50.350916Z",
     "iopub.status.idle": "2022-06-02T10:40:50.356547Z",
     "shell.execute_reply": "2022-06-02T10:40:50.355689Z",
     "shell.execute_reply.started": "2022-06-02T10:40:50.351235Z"
    }
   },
   "outputs": [],
   "source": [
    "# taking only top 20 \n",
    "\n",
    "plot_procedure_df1 = grouped_procedure_df1.head(20)\n",
    "plot_diagnosis_df1 = grouped_diagnosis_df.head(20)"
   ]
  },
  {
   "cell_type": "code",
   "execution_count": 32,
   "metadata": {
    "execution": {
     "iopub.execute_input": "2022-06-02T10:40:53.015609Z",
     "iopub.status.busy": "2022-06-02T10:40:53.015257Z",
     "iopub.status.idle": "2022-06-02T10:40:53.443511Z",
     "shell.execute_reply": "2022-06-02T10:40:53.442509Z",
     "shell.execute_reply.started": "2022-06-02T10:40:53.015579Z"
    }
   },
   "outputs": [
    {
     "name": "stderr",
     "output_type": "stream",
     "text": [
      "C:\\Users\\302201\\AppData\\Local\\Temp/ipykernel_5172/2503671377.py:3: SettingWithCopyWarning: \n",
      "A value is trying to be set on a copy of a slice from a DataFrame.\n",
      "Try using .loc[row_indexer,col_indexer] = value instead\n",
      "\n",
      "See the caveats in the documentation: https://pandas.pydata.org/pandas-docs/stable/user_guide/indexing.html#returning-a-view-versus-a-copy\n",
      "  plot_procedure_df1['Procedure'] = plot_procedure_df1['Procedure'].astype(str)\n"
     ]
    },
    {
     "data": {
      "image/png": "[encoded data removed]",
      "text/plain": [
       "<Figure size 1080x720 with 1 Axes>"
      ]
     },
     "metadata": {
      "needs_background": "light"
     },
     "output_type": "display_data"
    }
   ],
   "source": [
    "# Plotting the most commonly used diagnosis and procedures \n",
    "from matplotlib import pyplot as plt\n",
    "plot_procedure_df1['Procedure'] = plot_procedure_df1['Procedure'].astype(str)\n",
    "plot_procedure_df1.sort_values(by=['Percentage'])\n",
    "plot_procedure_df1.plot(x ='Procedure', y='Percentage', kind='bar', color ='green',\n",
    "                  title='Procedure Distribution- Inpatient', figsize=(15,10));"
   ]
  },
  {
   "cell_type": "code",
   "execution_count": 33,
   "metadata": {
    "execution": {
     "iopub.execute_input": "2022-06-02T10:41:32.256739Z",
     "iopub.status.busy": "2022-06-02T10:41:32.256382Z",
     "iopub.status.idle": "2022-06-02T10:41:32.48318Z",
     "shell.execute_reply": "2022-06-02T10:41:32.48245Z",
     "shell.execute_reply.started": "2022-06-02T10:41:32.256704Z"
    }
   },
   "outputs": [
    {
     "name": "stderr",
     "output_type": "stream",
     "text": [
      "C:\\Users\\302201\\AppData\\Local\\Temp/ipykernel_5172/2313010061.py:1: SettingWithCopyWarning: \n",
      "A value is trying to be set on a copy of a slice from a DataFrame.\n",
      "Try using .loc[row_indexer,col_indexer] = value instead\n",
      "\n",
      "See the caveats in the documentation: https://pandas.pydata.org/pandas-docs/stable/user_guide/indexing.html#returning-a-view-versus-a-copy\n",
      "  plot_diagnosis_df1['Diagnosis'] =  plot_diagnosis_df1['Diagnosis'].astype(str)\n"
     ]
    },
    {
     "data": {
      "image/png": "[encoded data removed]",
      "text/plain": [
       "<Figure size 1080x720 with 1 Axes>"
      ]
     },
     "metadata": {
      "needs_background": "light"
     },
     "output_type": "display_data"
    }
   ],
   "source": [
    "plot_diagnosis_df1['Diagnosis'] =  plot_diagnosis_df1['Diagnosis'].astype(str)\n",
    "plot_diagnosis_df1.sort_values(by=['Percentage'])\n",
    "plot_diagnosis_df1.plot(x ='Diagnosis', y='Percentage', kind='bar', color ='green',\n",
    "                  title='Diagnosis Distribution- Inpatient', figsize=(15,10));"
   ]
  },
  {
   "cell_type": "markdown",
   "metadata": {},
   "source": [
    "We see that for inpatient the most common procedure used is 4019, 9904, 2724 among others\n",
    "\n",
    "We see that for inpatient the most common Diagnosis used is 4019, 2724,25000 among others"
   ]
  },
  {
   "cell_type": "markdown",
   "metadata": {},
   "source": [
    "### Outpatient"
   ]
  },
  {
   "cell_type": "code",
   "execution_count": 34,
   "metadata": {
    "execution": {
     "iopub.execute_input": "2022-06-02T10:42:08.8169Z",
     "iopub.status.busy": "2022-06-02T10:42:08.816478Z",
     "iopub.status.idle": "2022-06-02T10:42:08.857481Z",
     "shell.execute_reply": "2022-06-02T10:42:08.856707Z",
     "shell.execute_reply.started": "2022-06-02T10:42:08.816855Z"
    }
   },
   "outputs": [
    {
     "data": {
      "text/plain": [
       "8167     9672.0\n",
       "9326     4573.0\n",
       "14740      66.0\n",
       "30435      66.0\n",
       "35839    5123.0\n",
       "37710    5123.0\n",
       "50003    9390.0\n",
       "50435     239.0\n",
       "51151    8154.0\n",
       "51463    7939.0\n",
       "Name: Procedures, dtype: float64"
      ]
     },
     "execution_count": 34,
     "metadata": {},
     "output_type": "execute_result"
    }
   ],
   "source": [
    "df_procedures2 =  pd.DataFrame(columns = ['Procedures'])\n",
    "df_procedures2['Procedures'] = pd.concat([outpatient[\"ClmProcedureCode_1\"], outpatient[\"ClmProcedureCode_2\"], outpatient[\"ClmProcedureCode_3\"], outpatient[\"ClmProcedureCode_4\"], outpatient[\"ClmProcedureCode_5\"], outpatient[\"ClmProcedureCode_6\"]], axis=0, sort=True).dropna()\n",
    "df_procedures2['Procedures'].head(10)"
   ]
  },
  {
   "cell_type": "code",
   "execution_count": 35,
   "metadata": {
    "execution": {
     "iopub.execute_input": "2022-06-02T10:42:25.496421Z",
     "iopub.status.busy": "2022-06-02T10:42:25.496089Z",
     "iopub.status.idle": "2022-06-02T10:42:25.502079Z",
     "shell.execute_reply": "2022-06-02T10:42:25.500979Z",
     "shell.execute_reply.started": "2022-06-02T10:42:25.496372Z"
    }
   },
   "outputs": [],
   "source": [
    "grouped_procedure_df2 = df_procedures2['Procedures'].value_counts()"
   ]
  },
  {
   "cell_type": "code",
   "execution_count": 36,
   "metadata": {
    "execution": {
     "iopub.execute_input": "2022-06-02T10:42:34.776792Z",
     "iopub.status.busy": "2022-06-02T10:42:34.776469Z",
     "iopub.status.idle": "2022-06-02T10:42:35.696399Z",
     "shell.execute_reply": "2022-06-02T10:42:35.695324Z",
     "shell.execute_reply.started": "2022-06-02T10:42:34.776761Z"
    }
   },
   "outputs": [],
   "source": [
    "df_diagnosis2 = pd.DataFrame(columns = ['Diagnosis'])\n",
    "df_diagnosis2['Diagnosis'] = pd.concat([outpatient[\"ClmDiagnosisCode_1\"], outpatient[\"ClmDiagnosisCode_2\"], outpatient[\"ClmDiagnosisCode_3\"], outpatient[\"ClmDiagnosisCode_4\"], outpatient[\"ClmDiagnosisCode_5\"], outpatient[\"ClmDiagnosisCode_6\"], outpatient[\"ClmDiagnosisCode_7\"],  outpatient[\"ClmDiagnosisCode_8\"], outpatient[\"ClmDiagnosisCode_9\"], outpatient[\"ClmDiagnosisCode_10\"]], axis=0, sort=True).dropna()\n",
    "df_diagnosis2['Diagnosis'].head(10)\n",
    "grouped_diagnosis_df2 = df_diagnosis2['Diagnosis'].value_counts()"
   ]
  },
  {
   "cell_type": "code",
   "execution_count": 37,
   "metadata": {
    "execution": {
     "iopub.execute_input": "2022-06-02T10:42:35.698224Z",
     "iopub.status.busy": "2022-06-02T10:42:35.69791Z",
     "iopub.status.idle": "2022-06-02T10:42:35.711278Z",
     "shell.execute_reply": "2022-06-02T10:42:35.71018Z",
     "shell.execute_reply.started": "2022-06-02T10:42:35.69819Z"
    }
   },
   "outputs": [
    {
     "data": {
      "text/plain": [
       "9904.0    7.352941\n",
       "4516.0    3.921569\n",
       "3722.0    3.921569\n",
       "66.0      3.431373\n",
       "5123.0    3.431373\n",
       "            ...   \n",
       "5369.0    0.490196\n",
       "7971.0    0.490196\n",
       "4311.0    0.490196\n",
       "4573.0    0.490196\n",
       "4299.0    0.490196\n",
       "Name: Percentage, Length: 104, dtype: float64"
      ]
     },
     "execution_count": 37,
     "metadata": {},
     "output_type": "execute_result"
    }
   ],
   "source": [
    "grouped_procedure_df_op = grouped_procedure_df2.to_frame()\n",
    "grouped_procedure_df_op.columns = ['count']\n",
    "grouped_procedure_df_op['Procedure'] = grouped_procedure_df_op.index\n",
    "grouped_procedure_df_op['Percentage'] = (grouped_procedure_df_op['count']/sum(grouped_procedure_df_op['count']))*100\n",
    "grouped_procedure_df_op['Percentage']"
   ]
  },
  {
   "cell_type": "code",
   "execution_count": 38,
   "metadata": {
    "execution": {
     "iopub.execute_input": "2022-06-02T10:42:38.650487Z",
     "iopub.status.busy": "2022-06-02T10:42:38.650141Z",
     "iopub.status.idle": "2022-06-02T10:42:38.670247Z",
     "shell.execute_reply": "2022-06-02T10:42:38.66948Z",
     "shell.execute_reply.started": "2022-06-02T10:42:38.650455Z"
    }
   },
   "outputs": [
    {
     "data": {
      "text/plain": [
       "4019     4.647817\n",
       "25000    2.218285\n",
       "2724     2.100137\n",
       "V5869    1.799853\n",
       "4011     1.738895\n",
       "           ...   \n",
       "36354    0.000074\n",
       "75558    0.000074\n",
       "85252    0.000074\n",
       "86510    0.000074\n",
       "E8262    0.000074\n",
       "Name: Percentage, Length: 10846, dtype: float64"
      ]
     },
     "execution_count": 38,
     "metadata": {},
     "output_type": "execute_result"
    }
   ],
   "source": [
    "grouped_diagnosis_df_op = grouped_diagnosis_df2.to_frame()\n",
    "grouped_diagnosis_df_op.columns = ['count']\n",
    "grouped_diagnosis_df_op['Diagnosis'] = grouped_diagnosis_df_op.index\n",
    "grouped_diagnosis_df_op['Percentage'] = (grouped_diagnosis_df_op['count']/sum(grouped_diagnosis_df_op['count']))*100\n",
    "grouped_diagnosis_df_op['Percentage']"
   ]
  },
  {
   "cell_type": "code",
   "execution_count": 39,
   "metadata": {
    "execution": {
     "iopub.execute_input": "2022-06-02T10:42:39.097749Z",
     "iopub.status.busy": "2022-06-02T10:42:39.097235Z",
     "iopub.status.idle": "2022-06-02T10:42:39.105247Z",
     "shell.execute_reply": "2022-06-02T10:42:39.104073Z",
     "shell.execute_reply.started": "2022-06-02T10:42:39.097643Z"
    }
   },
   "outputs": [],
   "source": [
    "# taking only top 20 \n",
    "\n",
    "plot_procedure_df2 = grouped_procedure_df_op.head(20)\n",
    "plot_diagnosis_df2 = grouped_diagnosis_df_op.head(20)"
   ]
  },
  {
   "cell_type": "code",
   "execution_count": 40,
   "metadata": {
    "execution": {
     "iopub.execute_input": "2022-06-02T10:42:41.0156Z",
     "iopub.status.busy": "2022-06-02T10:42:41.015237Z",
     "iopub.status.idle": "2022-06-02T10:42:41.24038Z",
     "shell.execute_reply": "2022-06-02T10:42:41.239735Z",
     "shell.execute_reply.started": "2022-06-02T10:42:41.015571Z"
    }
   },
   "outputs": [
    {
     "name": "stderr",
     "output_type": "stream",
     "text": [
      "C:\\Users\\302201\\AppData\\Local\\Temp/ipykernel_5172/4147850852.py:5: SettingWithCopyWarning: \n",
      "A value is trying to be set on a copy of a slice from a DataFrame.\n",
      "Try using .loc[row_indexer,col_indexer] = value instead\n",
      "\n",
      "See the caveats in the documentation: https://pandas.pydata.org/pandas-docs/stable/user_guide/indexing.html#returning-a-view-versus-a-copy\n",
      "  plot_procedure_df2['Procedure'] = plot_procedure_df2['Procedure'].astype(str)\n"
     ]
    },
    {
     "data": {
      "image/png": "[encoded data removed]",
      "text/plain": [
       "<Figure size 1080x504 with 1 Axes>"
      ]
     },
     "metadata": {
      "needs_background": "light"
     },
     "output_type": "display_data"
    }
   ],
   "source": [
    "# Plotting the most commonly used diagnosis and procedures \n",
    "from matplotlib import pyplot as plt\n",
    "\n",
    "\n",
    "plot_procedure_df2['Procedure'] = plot_procedure_df2['Procedure'].astype(str)\n",
    "plot_procedure_df2.sort_values(by=['Percentage'])\n",
    "plot_procedure_df2.plot(x ='Procedure', y='Percentage', kind='bar', color ='yellow',\n",
    "                   title='Procedure Distribution- Outpatient', figsize=(15,7));"
   ]
  },
  {
   "cell_type": "code",
   "execution_count": 41,
   "metadata": {
    "execution": {
     "iopub.execute_input": "2022-06-02T10:42:41.415093Z",
     "iopub.status.busy": "2022-06-02T10:42:41.414819Z",
     "iopub.status.idle": "2022-06-02T10:42:41.63483Z",
     "shell.execute_reply": "2022-06-02T10:42:41.634111Z",
     "shell.execute_reply.started": "2022-06-02T10:42:41.415066Z"
    }
   },
   "outputs": [
    {
     "name": "stderr",
     "output_type": "stream",
     "text": [
      "C:\\Users\\302201\\AppData\\Local\\Temp/ipykernel_5172/198423258.py:1: SettingWithCopyWarning: \n",
      "A value is trying to be set on a copy of a slice from a DataFrame.\n",
      "Try using .loc[row_indexer,col_indexer] = value instead\n",
      "\n",
      "See the caveats in the documentation: https://pandas.pydata.org/pandas-docs/stable/user_guide/indexing.html#returning-a-view-versus-a-copy\n",
      "  plot_diagnosis_df2['Diagnosis'] = plot_diagnosis_df2['Diagnosis'].astype(str)\n"
     ]
    },
    {
     "data": {
      "text/plain": [
       "<AxesSubplot:title={'center':'Diagnosis Distribution- Outpatient'}, xlabel='Diagnosis'>"
      ]
     },
     "execution_count": 41,
     "metadata": {},
     "output_type": "execute_result"
    },
    {
     "data": {
      "image/png": "[encoded data removed]",
      "text/plain": [
       "<Figure size 1080x504 with 1 Axes>"
      ]
     },
     "metadata": {
      "needs_background": "light"
     },
     "output_type": "display_data"
    }
   ],
   "source": [
    "plot_diagnosis_df2['Diagnosis'] = plot_diagnosis_df2['Diagnosis'].astype(str)\n",
    "plot_diagnosis_df2.sort_values(by=['Percentage'])\n",
    "plot_diagnosis_df2.plot(x ='Diagnosis', y='Percentage', kind='bar', color ='yellow',\n",
    "                   title='Diagnosis Distribution- Outpatient', figsize=(15,7))"
   ]
  },
  {
   "cell_type": "markdown",
   "metadata": {},
   "source": [
    "We see a minor difference between the most used diagnosis and procedure codes between inpatient and outpatients\n",
    "\n",
    "We see that for inpatient the most common procedure used is 9904, 3722, 4516 among others\n",
    "\n",
    "We see that for inpatient the most common Diagnosis used is 4019, 25000, 2724 among others"
   ]
  },
  {
   "cell_type": "code",
   "execution_count": 42,
   "metadata": {
    "execution": {
     "iopub.execute_input": "2022-06-02T10:43:14.255585Z",
     "iopub.status.busy": "2022-06-02T10:43:14.255202Z",
     "iopub.status.idle": "2022-06-02T10:43:14.368826Z",
     "shell.execute_reply": "2022-06-02T10:43:14.367674Z",
     "shell.execute_reply.started": "2022-06-02T10:43:14.255549Z"
    }
   },
   "outputs": [
    {
     "data": {
      "text/plain": [
       "<AxesSubplot:title={'center':'Distribution'}>"
      ]
     },
     "execution_count": 42,
     "metadata": {},
     "output_type": "execute_result"
    },
    {
     "data": {
      "image/png": "[encoded data removed]",
      "text/plain": [
       "<Figure size 432x288 with 1 Axes>"
      ]
     },
     "metadata": {
      "needs_background": "light"
     },
     "output_type": "display_data"
    }
   ],
   "source": [
    "T_fraud = train['PotentialFraud'].value_counts()\n",
    "grouped_train_df = T_fraud.to_frame()\n",
    "\n",
    "grouped_train_df.columns = ['count']\n",
    "grouped_train_df['Fraud'] = grouped_train_df.index\n",
    "grouped_train_df['Percentage'] = (grouped_train_df['count']/sum(grouped_train_df['count']))*100\n",
    "grouped_train_df['Percentage'].plot( kind='bar',color = \"blue\", title = 'Distribution')"
   ]
  },
  {
   "cell_type": "markdown",
   "metadata": {},
   "source": [
    "### 2. What are the most common procedures and diagnosis codes performed by the potential fradulent providers"
   ]
  },
  {
   "cell_type": "markdown",
   "metadata": {},
   "source": [
    "### Inpatient"
   ]
  },
  {
   "cell_type": "code",
   "execution_count": 43,
   "metadata": {
    "execution": {
     "iopub.execute_input": "2022-06-02T10:43:38.337192Z",
     "iopub.status.busy": "2022-06-02T10:43:38.336878Z",
     "iopub.status.idle": "2022-06-02T10:43:38.358288Z",
     "shell.execute_reply": "2022-06-02T10:43:38.357445Z",
     "shell.execute_reply.started": "2022-06-02T10:43:38.337161Z"
    }
   },
   "outputs": [
    {
     "data": {
      "text/html": [
       "<div>\n",
       "<style scoped>\n",
       "    .dataframe tbody tr th:only-of-type {\n",
       "        vertical-align: middle;\n",
       "    }\n",
       "\n",
       "    .dataframe tbody tr th {\n",
       "        vertical-align: top;\n",
       "    }\n",
       "\n",
       "    .dataframe thead th {\n",
       "        text-align: right;\n",
       "    }\n",
       "</style>\n",
       "<table border=\"1\" class=\"dataframe\">\n",
       "  <thead>\n",
       "    <tr style=\"text-align: right;\">\n",
       "      <th></th>\n",
       "      <th>Provider</th>\n",
       "      <th>PotentialFraud</th>\n",
       "    </tr>\n",
       "  </thead>\n",
       "  <tbody>\n",
       "    <tr>\n",
       "      <th>1</th>\n",
       "      <td>PRV51003</td>\n",
       "      <td>Yes</td>\n",
       "    </tr>\n",
       "    <tr>\n",
       "      <th>3</th>\n",
       "      <td>PRV51005</td>\n",
       "      <td>Yes</td>\n",
       "    </tr>\n",
       "    <tr>\n",
       "      <th>13</th>\n",
       "      <td>PRV51021</td>\n",
       "      <td>Yes</td>\n",
       "    </tr>\n",
       "    <tr>\n",
       "      <th>25</th>\n",
       "      <td>PRV51037</td>\n",
       "      <td>Yes</td>\n",
       "    </tr>\n",
       "    <tr>\n",
       "      <th>37</th>\n",
       "      <td>PRV51052</td>\n",
       "      <td>Yes</td>\n",
       "    </tr>\n",
       "    <tr>\n",
       "      <th>...</th>\n",
       "      <td>...</td>\n",
       "      <td>...</td>\n",
       "    </tr>\n",
       "    <tr>\n",
       "      <th>5307</th>\n",
       "      <td>PRV57642</td>\n",
       "      <td>Yes</td>\n",
       "    </tr>\n",
       "    <tr>\n",
       "      <th>5324</th>\n",
       "      <td>PRV57667</td>\n",
       "      <td>Yes</td>\n",
       "    </tr>\n",
       "    <tr>\n",
       "      <th>5329</th>\n",
       "      <td>PRV57672</td>\n",
       "      <td>Yes</td>\n",
       "    </tr>\n",
       "    <tr>\n",
       "      <th>5351</th>\n",
       "      <td>PRV57697</td>\n",
       "      <td>Yes</td>\n",
       "    </tr>\n",
       "    <tr>\n",
       "      <th>5360</th>\n",
       "      <td>PRV57709</td>\n",
       "      <td>Yes</td>\n",
       "    </tr>\n",
       "  </tbody>\n",
       "</table>\n",
       "<p>506 rows × 2 columns</p>\n",
       "</div>"
      ],
      "text/plain": [
       "      Provider PotentialFraud\n",
       "1     PRV51003            Yes\n",
       "3     PRV51005            Yes\n",
       "13    PRV51021            Yes\n",
       "25    PRV51037            Yes\n",
       "37    PRV51052            Yes\n",
       "...        ...            ...\n",
       "5307  PRV57642            Yes\n",
       "5324  PRV57667            Yes\n",
       "5329  PRV57672            Yes\n",
       "5351  PRV57697            Yes\n",
       "5360  PRV57709            Yes\n",
       "\n",
       "[506 rows x 2 columns]"
      ]
     },
     "execution_count": 43,
     "metadata": {},
     "output_type": "execute_result"
    }
   ],
   "source": [
    "Train_f =  pd.DataFrame(columns = ['PotentialFraud', 'Provider'])\n",
    "Train_f = train.loc[(train['PotentialFraud'] == 'Yes')]\n",
    "Train_f"
   ]
  },
  {
   "cell_type": "code",
   "execution_count": 44,
   "metadata": {
    "execution": {
     "iopub.execute_input": "2022-06-02T10:44:00.6778Z",
     "iopub.status.busy": "2022-06-02T10:44:00.677484Z",
     "iopub.status.idle": "2022-06-02T10:44:00.77823Z",
     "shell.execute_reply": "2022-06-02T10:44:00.777242Z",
     "shell.execute_reply.started": "2022-06-02T10:44:00.677765Z"
    }
   },
   "outputs": [
    {
     "data": {
      "text/html": [
       "<div>\n",
       "<style scoped>\n",
       "    .dataframe tbody tr th:only-of-type {\n",
       "        vertical-align: middle;\n",
       "    }\n",
       "\n",
       "    .dataframe tbody tr th {\n",
       "        vertical-align: top;\n",
       "    }\n",
       "\n",
       "    .dataframe thead th {\n",
       "        text-align: right;\n",
       "    }\n",
       "</style>\n",
       "<table border=\"1\" class=\"dataframe\">\n",
       "  <thead>\n",
       "    <tr style=\"text-align: right;\">\n",
       "      <th></th>\n",
       "      <th>BeneID</th>\n",
       "      <th>ClaimID</th>\n",
       "      <th>ClaimStartDt</th>\n",
       "      <th>ClaimEndDt</th>\n",
       "      <th>Provider</th>\n",
       "      <th>InscClaimAmtReimbursed</th>\n",
       "      <th>AttendingPhysician</th>\n",
       "      <th>OperatingPhysician</th>\n",
       "      <th>OtherPhysician</th>\n",
       "      <th>AdmissionDt</th>\n",
       "      <th>...</th>\n",
       "      <th>ClmDiagnosisCode_8</th>\n",
       "      <th>ClmDiagnosisCode_9</th>\n",
       "      <th>ClmDiagnosisCode_10</th>\n",
       "      <th>ClmProcedureCode_1</th>\n",
       "      <th>ClmProcedureCode_2</th>\n",
       "      <th>ClmProcedureCode_3</th>\n",
       "      <th>ClmProcedureCode_4</th>\n",
       "      <th>ClmProcedureCode_5</th>\n",
       "      <th>ClmProcedureCode_6</th>\n",
       "      <th>PotentialFraud</th>\n",
       "    </tr>\n",
       "  </thead>\n",
       "  <tbody>\n",
       "    <tr>\n",
       "      <th>0</th>\n",
       "      <td>BENE11001</td>\n",
       "      <td>CLM46614</td>\n",
       "      <td>2009-04-12</td>\n",
       "      <td>2009-04-18</td>\n",
       "      <td>PRV55912</td>\n",
       "      <td>26000</td>\n",
       "      <td>PHY390922</td>\n",
       "      <td>NaN</td>\n",
       "      <td>NaN</td>\n",
       "      <td>2009-04-12</td>\n",
       "      <td>...</td>\n",
       "      <td>19889</td>\n",
       "      <td>5849</td>\n",
       "      <td>NaN</td>\n",
       "      <td>NaN</td>\n",
       "      <td>NaN</td>\n",
       "      <td>NaN</td>\n",
       "      <td>NaN</td>\n",
       "      <td>NaN</td>\n",
       "      <td>NaN</td>\n",
       "      <td>Yes</td>\n",
       "    </tr>\n",
       "    <tr>\n",
       "      <th>1</th>\n",
       "      <td>BENE17521</td>\n",
       "      <td>CLM34721</td>\n",
       "      <td>2009-01-20</td>\n",
       "      <td>2009-02-01</td>\n",
       "      <td>PRV55912</td>\n",
       "      <td>19000</td>\n",
       "      <td>PHY349293</td>\n",
       "      <td>PHY370861</td>\n",
       "      <td>PHY363291</td>\n",
       "      <td>2009-01-20</td>\n",
       "      <td>...</td>\n",
       "      <td>2753</td>\n",
       "      <td>E9305</td>\n",
       "      <td>NaN</td>\n",
       "      <td>7769.0</td>\n",
       "      <td>5849.0</td>\n",
       "      <td>NaN</td>\n",
       "      <td>NaN</td>\n",
       "      <td>NaN</td>\n",
       "      <td>NaN</td>\n",
       "      <td>Yes</td>\n",
       "    </tr>\n",
       "    <tr>\n",
       "      <th>2</th>\n",
       "      <td>BENE21718</td>\n",
       "      <td>CLM72336</td>\n",
       "      <td>2009-10-17</td>\n",
       "      <td>2009-11-04</td>\n",
       "      <td>PRV55912</td>\n",
       "      <td>17000</td>\n",
       "      <td>PHY334706</td>\n",
       "      <td>PHY334706</td>\n",
       "      <td>NaN</td>\n",
       "      <td>2009-10-17</td>\n",
       "      <td>...</td>\n",
       "      <td>43812</td>\n",
       "      <td>4019</td>\n",
       "      <td>NaN</td>\n",
       "      <td>9338.0</td>\n",
       "      <td>NaN</td>\n",
       "      <td>NaN</td>\n",
       "      <td>NaN</td>\n",
       "      <td>NaN</td>\n",
       "      <td>NaN</td>\n",
       "      <td>Yes</td>\n",
       "    </tr>\n",
       "    <tr>\n",
       "      <th>3</th>\n",
       "      <td>BENE22934</td>\n",
       "      <td>CLM73394</td>\n",
       "      <td>2009-10-25</td>\n",
       "      <td>2009-10-29</td>\n",
       "      <td>PRV55912</td>\n",
       "      <td>13000</td>\n",
       "      <td>PHY390614</td>\n",
       "      <td>PHY323689</td>\n",
       "      <td>PHY363291</td>\n",
       "      <td>2009-10-25</td>\n",
       "      <td>...</td>\n",
       "      <td>NaN</td>\n",
       "      <td>NaN</td>\n",
       "      <td>NaN</td>\n",
       "      <td>8154.0</td>\n",
       "      <td>NaN</td>\n",
       "      <td>NaN</td>\n",
       "      <td>NaN</td>\n",
       "      <td>NaN</td>\n",
       "      <td>NaN</td>\n",
       "      <td>Yes</td>\n",
       "    </tr>\n",
       "    <tr>\n",
       "      <th>4</th>\n",
       "      <td>BENE24402</td>\n",
       "      <td>CLM32911</td>\n",
       "      <td>2009-01-08</td>\n",
       "      <td>2009-01-12</td>\n",
       "      <td>PRV55912</td>\n",
       "      <td>3000</td>\n",
       "      <td>PHY380413</td>\n",
       "      <td>PHY432598</td>\n",
       "      <td>NaN</td>\n",
       "      <td>2009-01-08</td>\n",
       "      <td>...</td>\n",
       "      <td>NaN</td>\n",
       "      <td>NaN</td>\n",
       "      <td>NaN</td>\n",
       "      <td>8543.0</td>\n",
       "      <td>NaN</td>\n",
       "      <td>NaN</td>\n",
       "      <td>NaN</td>\n",
       "      <td>NaN</td>\n",
       "      <td>NaN</td>\n",
       "      <td>Yes</td>\n",
       "    </tr>\n",
       "    <tr>\n",
       "      <th>...</th>\n",
       "      <td>...</td>\n",
       "      <td>...</td>\n",
       "      <td>...</td>\n",
       "      <td>...</td>\n",
       "      <td>...</td>\n",
       "      <td>...</td>\n",
       "      <td>...</td>\n",
       "      <td>...</td>\n",
       "      <td>...</td>\n",
       "      <td>...</td>\n",
       "      <td>...</td>\n",
       "      <td>...</td>\n",
       "      <td>...</td>\n",
       "      <td>...</td>\n",
       "      <td>...</td>\n",
       "      <td>...</td>\n",
       "      <td>...</td>\n",
       "      <td>...</td>\n",
       "      <td>...</td>\n",
       "      <td>...</td>\n",
       "      <td>...</td>\n",
       "    </tr>\n",
       "    <tr>\n",
       "      <th>23397</th>\n",
       "      <td>BENE142565</td>\n",
       "      <td>CLM37075</td>\n",
       "      <td>2009-02-05</td>\n",
       "      <td>2009-02-09</td>\n",
       "      <td>PRV55514</td>\n",
       "      <td>18000</td>\n",
       "      <td>PHY380221</td>\n",
       "      <td>PHY392672</td>\n",
       "      <td>NaN</td>\n",
       "      <td>2009-02-05</td>\n",
       "      <td>...</td>\n",
       "      <td>7265</td>\n",
       "      <td>7140</td>\n",
       "      <td>V1582</td>\n",
       "      <td>8151.0</td>\n",
       "      <td>NaN</td>\n",
       "      <td>NaN</td>\n",
       "      <td>NaN</td>\n",
       "      <td>NaN</td>\n",
       "      <td>NaN</td>\n",
       "      <td>Yes</td>\n",
       "    </tr>\n",
       "    <tr>\n",
       "      <th>23398</th>\n",
       "      <td>BENE105735</td>\n",
       "      <td>CLM52218</td>\n",
       "      <td>2009-05-22</td>\n",
       "      <td>2009-05-30</td>\n",
       "      <td>PRV56566</td>\n",
       "      <td>12000</td>\n",
       "      <td>PHY344703</td>\n",
       "      <td>PHY344703</td>\n",
       "      <td>NaN</td>\n",
       "      <td>2009-05-22</td>\n",
       "      <td>...</td>\n",
       "      <td>42789</td>\n",
       "      <td>2948</td>\n",
       "      <td>NaN</td>\n",
       "      <td>9671.0</td>\n",
       "      <td>NaN</td>\n",
       "      <td>NaN</td>\n",
       "      <td>NaN</td>\n",
       "      <td>NaN</td>\n",
       "      <td>NaN</td>\n",
       "      <td>Yes</td>\n",
       "    </tr>\n",
       "    <tr>\n",
       "      <th>23399</th>\n",
       "      <td>BENE135136</td>\n",
       "      <td>CLM60037</td>\n",
       "      <td>2009-07-17</td>\n",
       "      <td>2009-07-19</td>\n",
       "      <td>PRV55852</td>\n",
       "      <td>5000</td>\n",
       "      <td>PHY336944</td>\n",
       "      <td>NaN</td>\n",
       "      <td>NaN</td>\n",
       "      <td>2009-07-17</td>\n",
       "      <td>...</td>\n",
       "      <td>51889</td>\n",
       "      <td>0413</td>\n",
       "      <td>NaN</td>\n",
       "      <td>NaN</td>\n",
       "      <td>NaN</td>\n",
       "      <td>NaN</td>\n",
       "      <td>NaN</td>\n",
       "      <td>NaN</td>\n",
       "      <td>NaN</td>\n",
       "      <td>Yes</td>\n",
       "    </tr>\n",
       "    <tr>\n",
       "      <th>23400</th>\n",
       "      <td>BENE135136</td>\n",
       "      <td>CLM70804</td>\n",
       "      <td>2009-10-05</td>\n",
       "      <td>2009-10-11</td>\n",
       "      <td>PRV55852</td>\n",
       "      <td>5000</td>\n",
       "      <td>PHY356585</td>\n",
       "      <td>PHY356585</td>\n",
       "      <td>NaN</td>\n",
       "      <td>2009-10-05</td>\n",
       "      <td>...</td>\n",
       "      <td>NaN</td>\n",
       "      <td>NaN</td>\n",
       "      <td>NaN</td>\n",
       "      <td>NaN</td>\n",
       "      <td>NaN</td>\n",
       "      <td>NaN</td>\n",
       "      <td>NaN</td>\n",
       "      <td>NaN</td>\n",
       "      <td>NaN</td>\n",
       "      <td>Yes</td>\n",
       "    </tr>\n",
       "    <tr>\n",
       "      <th>23401</th>\n",
       "      <td>BENE145679</td>\n",
       "      <td>CLM41028</td>\n",
       "      <td>2009-03-03</td>\n",
       "      <td>2009-03-12</td>\n",
       "      <td>PRV55852</td>\n",
       "      <td>12000</td>\n",
       "      <td>PHY336944</td>\n",
       "      <td>NaN</td>\n",
       "      <td>NaN</td>\n",
       "      <td>2009-03-03</td>\n",
       "      <td>...</td>\n",
       "      <td>1977</td>\n",
       "      <td>78900</td>\n",
       "      <td>42842</td>\n",
       "      <td>NaN</td>\n",
       "      <td>NaN</td>\n",
       "      <td>NaN</td>\n",
       "      <td>NaN</td>\n",
       "      <td>NaN</td>\n",
       "      <td>NaN</td>\n",
       "      <td>Yes</td>\n",
       "    </tr>\n",
       "  </tbody>\n",
       "</table>\n",
       "<p>23402 rows × 31 columns</p>\n",
       "</div>"
      ],
      "text/plain": [
       "           BeneID   ClaimID ClaimStartDt  ClaimEndDt  Provider  \\\n",
       "0       BENE11001  CLM46614   2009-04-12  2009-04-18  PRV55912   \n",
       "1       BENE17521  CLM34721   2009-01-20  2009-02-01  PRV55912   \n",
       "2       BENE21718  CLM72336   2009-10-17  2009-11-04  PRV55912   \n",
       "3       BENE22934  CLM73394   2009-10-25  2009-10-29  PRV55912   \n",
       "4       BENE24402  CLM32911   2009-01-08  2009-01-12  PRV55912   \n",
       "...           ...       ...          ...         ...       ...   \n",
       "23397  BENE142565  CLM37075   2009-02-05  2009-02-09  PRV55514   \n",
       "23398  BENE105735  CLM52218   2009-05-22  2009-05-30  PRV56566   \n",
       "23399  BENE135136  CLM60037   2009-07-17  2009-07-19  PRV55852   \n",
       "23400  BENE135136  CLM70804   2009-10-05  2009-10-11  PRV55852   \n",
       "23401  BENE145679  CLM41028   2009-03-03  2009-03-12  PRV55852   \n",
       "\n",
       "       InscClaimAmtReimbursed AttendingPhysician OperatingPhysician  \\\n",
       "0                       26000          PHY390922                NaN   \n",
       "1                       19000          PHY349293          PHY370861   \n",
       "2                       17000          PHY334706          PHY334706   \n",
       "3                       13000          PHY390614          PHY323689   \n",
       "4                        3000          PHY380413          PHY432598   \n",
       "...                       ...                ...                ...   \n",
       "23397                   18000          PHY380221          PHY392672   \n",
       "23398                   12000          PHY344703          PHY344703   \n",
       "23399                    5000          PHY336944                NaN   \n",
       "23400                    5000          PHY356585          PHY356585   \n",
       "23401                   12000          PHY336944                NaN   \n",
       "\n",
       "      OtherPhysician AdmissionDt  ... ClmDiagnosisCode_8  ClmDiagnosisCode_9  \\\n",
       "0                NaN  2009-04-12  ...              19889                5849   \n",
       "1          PHY363291  2009-01-20  ...               2753               E9305   \n",
       "2                NaN  2009-10-17  ...              43812                4019   \n",
       "3          PHY363291  2009-10-25  ...                NaN                 NaN   \n",
       "4                NaN  2009-01-08  ...                NaN                 NaN   \n",
       "...              ...         ...  ...                ...                 ...   \n",
       "23397            NaN  2009-02-05  ...               7265                7140   \n",
       "23398            NaN  2009-05-22  ...              42789                2948   \n",
       "23399            NaN  2009-07-17  ...              51889                0413   \n",
       "23400            NaN  2009-10-05  ...                NaN                 NaN   \n",
       "23401            NaN  2009-03-03  ...               1977               78900   \n",
       "\n",
       "      ClmDiagnosisCode_10 ClmProcedureCode_1 ClmProcedureCode_2  \\\n",
       "0                     NaN                NaN                NaN   \n",
       "1                     NaN             7769.0             5849.0   \n",
       "2                     NaN             9338.0                NaN   \n",
       "3                     NaN             8154.0                NaN   \n",
       "4                     NaN             8543.0                NaN   \n",
       "...                   ...                ...                ...   \n",
       "23397               V1582             8151.0                NaN   \n",
       "23398                 NaN             9671.0                NaN   \n",
       "23399                 NaN                NaN                NaN   \n",
       "23400                 NaN                NaN                NaN   \n",
       "23401               42842                NaN                NaN   \n",
       "\n",
       "      ClmProcedureCode_3 ClmProcedureCode_4 ClmProcedureCode_5  \\\n",
       "0                    NaN                NaN                NaN   \n",
       "1                    NaN                NaN                NaN   \n",
       "2                    NaN                NaN                NaN   \n",
       "3                    NaN                NaN                NaN   \n",
       "4                    NaN                NaN                NaN   \n",
       "...                  ...                ...                ...   \n",
       "23397                NaN                NaN                NaN   \n",
       "23398                NaN                NaN                NaN   \n",
       "23399                NaN                NaN                NaN   \n",
       "23400                NaN                NaN                NaN   \n",
       "23401                NaN                NaN                NaN   \n",
       "\n",
       "      ClmProcedureCode_6 PotentialFraud  \n",
       "0                    NaN            Yes  \n",
       "1                    NaN            Yes  \n",
       "2                    NaN            Yes  \n",
       "3                    NaN            Yes  \n",
       "4                    NaN            Yes  \n",
       "...                  ...            ...  \n",
       "23397                NaN            Yes  \n",
       "23398                NaN            Yes  \n",
       "23399                NaN            Yes  \n",
       "23400                NaN            Yes  \n",
       "23401                NaN            Yes  \n",
       "\n",
       "[23402 rows x 31 columns]"
      ]
     },
     "execution_count": 44,
     "metadata": {},
     "output_type": "execute_result"
    }
   ],
   "source": [
    "fraud_provider_ip_df = pd.merge(inpatient, Train_f, how='inner', on='Provider')\n",
    "fraud_provider_ip_df"
   ]
  },
  {
   "cell_type": "code",
   "execution_count": 45,
   "metadata": {
    "execution": {
     "iopub.execute_input": "2022-06-02T10:44:05.740507Z",
     "iopub.status.busy": "2022-06-02T10:44:05.740175Z",
     "iopub.status.idle": "2022-06-02T10:44:05.745844Z",
     "shell.execute_reply": "2022-06-02T10:44:05.744998Z",
     "shell.execute_reply.started": "2022-06-02T10:44:05.740477Z"
    }
   },
   "outputs": [
    {
     "data": {
      "text/plain": [
       "23402"
      ]
     },
     "execution_count": 45,
     "metadata": {},
     "output_type": "execute_result"
    }
   ],
   "source": [
    "len(fraud_provider_ip_df)"
   ]
  },
  {
   "cell_type": "code",
   "execution_count": 46,
   "metadata": {
    "execution": {
     "iopub.execute_input": "2022-06-02T10:44:14.165273Z",
     "iopub.status.busy": "2022-06-02T10:44:14.164968Z",
     "iopub.status.idle": "2022-06-02T10:44:14.173255Z",
     "shell.execute_reply": "2022-06-02T10:44:14.172176Z",
     "shell.execute_reply.started": "2022-06-02T10:44:14.165245Z"
    }
   },
   "outputs": [
    {
     "data": {
      "text/plain": [
       "57.81983495577408"
      ]
     },
     "execution_count": 46,
     "metadata": {},
     "output_type": "execute_result"
    }
   ],
   "source": [
    "(len(fraud_provider_ip_df)/len(inpatient)) * 100"
   ]
  },
  {
   "cell_type": "markdown",
   "metadata": {},
   "source": [
    "So we see there are 23402 admitted(inpatients) cases that the potential fradulent providers have interacted with at one point or the other during their services at the hospital. This is around 58% of the cases which we have in our inpatient data."
   ]
  },
  {
   "cell_type": "markdown",
   "metadata": {},
   "source": [
    "This means from our inpatient dataset for training we can have fradulent activities on more than half of them - 58% are potential fradulent encounters"
   ]
  },
  {
   "cell_type": "markdown",
   "metadata": {},
   "source": [
    "### Outpatient"
   ]
  },
  {
   "cell_type": "code",
   "execution_count": 47,
   "metadata": {
    "execution": {
     "iopub.execute_input": "2022-06-02T10:44:50.276312Z",
     "iopub.status.busy": "2022-06-02T10:44:50.275983Z",
     "iopub.status.idle": "2022-06-02T10:44:51.374685Z",
     "shell.execute_reply": "2022-06-02T10:44:51.373668Z",
     "shell.execute_reply.started": "2022-06-02T10:44:50.276282Z"
    }
   },
   "outputs": [
    {
     "data": {
      "text/html": [
       "<div>\n",
       "<style scoped>\n",
       "    .dataframe tbody tr th:only-of-type {\n",
       "        vertical-align: middle;\n",
       "    }\n",
       "\n",
       "    .dataframe tbody tr th {\n",
       "        vertical-align: top;\n",
       "    }\n",
       "\n",
       "    .dataframe thead th {\n",
       "        text-align: right;\n",
       "    }\n",
       "</style>\n",
       "<table border=\"1\" class=\"dataframe\">\n",
       "  <thead>\n",
       "    <tr style=\"text-align: right;\">\n",
       "      <th></th>\n",
       "      <th>BeneID</th>\n",
       "      <th>ClaimID</th>\n",
       "      <th>ClaimStartDt</th>\n",
       "      <th>ClaimEndDt</th>\n",
       "      <th>Provider</th>\n",
       "      <th>InscClaimAmtReimbursed</th>\n",
       "      <th>AttendingPhysician</th>\n",
       "      <th>OperatingPhysician</th>\n",
       "      <th>OtherPhysician</th>\n",
       "      <th>ClmDiagnosisCode_1</th>\n",
       "      <th>...</th>\n",
       "      <th>ClmDiagnosisCode_10</th>\n",
       "      <th>ClmProcedureCode_1</th>\n",
       "      <th>ClmProcedureCode_2</th>\n",
       "      <th>ClmProcedureCode_3</th>\n",
       "      <th>ClmProcedureCode_4</th>\n",
       "      <th>ClmProcedureCode_5</th>\n",
       "      <th>ClmProcedureCode_6</th>\n",
       "      <th>DeductibleAmtPaid</th>\n",
       "      <th>ClmAdmitDiagnosisCode</th>\n",
       "      <th>PotentialFraud</th>\n",
       "    </tr>\n",
       "  </thead>\n",
       "  <tbody>\n",
       "    <tr>\n",
       "      <th>0</th>\n",
       "      <td>BENE11002</td>\n",
       "      <td>CLM624349</td>\n",
       "      <td>2009-10-11</td>\n",
       "      <td>2009-10-11</td>\n",
       "      <td>PRV56011</td>\n",
       "      <td>30</td>\n",
       "      <td>PHY326117</td>\n",
       "      <td>NaN</td>\n",
       "      <td>NaN</td>\n",
       "      <td>78943</td>\n",
       "      <td>...</td>\n",
       "      <td>NaN</td>\n",
       "      <td>NaN</td>\n",
       "      <td>NaN</td>\n",
       "      <td>NaN</td>\n",
       "      <td>NaN</td>\n",
       "      <td>NaN</td>\n",
       "      <td>NaN</td>\n",
       "      <td>0</td>\n",
       "      <td>56409</td>\n",
       "      <td>Yes</td>\n",
       "    </tr>\n",
       "    <tr>\n",
       "      <th>1</th>\n",
       "      <td>BENE11004</td>\n",
       "      <td>CLM121801</td>\n",
       "      <td>2009-01-06</td>\n",
       "      <td>2009-01-06</td>\n",
       "      <td>PRV56011</td>\n",
       "      <td>40</td>\n",
       "      <td>PHY334319</td>\n",
       "      <td>NaN</td>\n",
       "      <td>NaN</td>\n",
       "      <td>71988</td>\n",
       "      <td>...</td>\n",
       "      <td>NaN</td>\n",
       "      <td>NaN</td>\n",
       "      <td>NaN</td>\n",
       "      <td>NaN</td>\n",
       "      <td>NaN</td>\n",
       "      <td>NaN</td>\n",
       "      <td>NaN</td>\n",
       "      <td>0</td>\n",
       "      <td>NaN</td>\n",
       "      <td>Yes</td>\n",
       "    </tr>\n",
       "    <tr>\n",
       "      <th>2</th>\n",
       "      <td>BENE11004</td>\n",
       "      <td>CLM150998</td>\n",
       "      <td>2009-01-22</td>\n",
       "      <td>2009-01-22</td>\n",
       "      <td>PRV56011</td>\n",
       "      <td>200</td>\n",
       "      <td>PHY403831</td>\n",
       "      <td>NaN</td>\n",
       "      <td>NaN</td>\n",
       "      <td>82382</td>\n",
       "      <td>...</td>\n",
       "      <td>NaN</td>\n",
       "      <td>NaN</td>\n",
       "      <td>NaN</td>\n",
       "      <td>NaN</td>\n",
       "      <td>NaN</td>\n",
       "      <td>NaN</td>\n",
       "      <td>NaN</td>\n",
       "      <td>0</td>\n",
       "      <td>71947</td>\n",
       "      <td>Yes</td>\n",
       "    </tr>\n",
       "    <tr>\n",
       "      <th>3</th>\n",
       "      <td>BENE11004</td>\n",
       "      <td>CLM173224</td>\n",
       "      <td>2009-02-03</td>\n",
       "      <td>2009-02-03</td>\n",
       "      <td>PRV56011</td>\n",
       "      <td>20</td>\n",
       "      <td>PHY339887</td>\n",
       "      <td>NaN</td>\n",
       "      <td>NaN</td>\n",
       "      <td>20381</td>\n",
       "      <td>...</td>\n",
       "      <td>NaN</td>\n",
       "      <td>NaN</td>\n",
       "      <td>NaN</td>\n",
       "      <td>NaN</td>\n",
       "      <td>NaN</td>\n",
       "      <td>NaN</td>\n",
       "      <td>NaN</td>\n",
       "      <td>0</td>\n",
       "      <td>NaN</td>\n",
       "      <td>Yes</td>\n",
       "    </tr>\n",
       "    <tr>\n",
       "      <th>4</th>\n",
       "      <td>BENE11004</td>\n",
       "      <td>CLM224741</td>\n",
       "      <td>2009-03-03</td>\n",
       "      <td>2009-03-03</td>\n",
       "      <td>PRV56011</td>\n",
       "      <td>40</td>\n",
       "      <td>PHY345721</td>\n",
       "      <td>NaN</td>\n",
       "      <td>NaN</td>\n",
       "      <td>V6546</td>\n",
       "      <td>...</td>\n",
       "      <td>NaN</td>\n",
       "      <td>NaN</td>\n",
       "      <td>NaN</td>\n",
       "      <td>NaN</td>\n",
       "      <td>NaN</td>\n",
       "      <td>NaN</td>\n",
       "      <td>NaN</td>\n",
       "      <td>0</td>\n",
       "      <td>NaN</td>\n",
       "      <td>Yes</td>\n",
       "    </tr>\n",
       "    <tr>\n",
       "      <th>...</th>\n",
       "      <td>...</td>\n",
       "      <td>...</td>\n",
       "      <td>...</td>\n",
       "      <td>...</td>\n",
       "      <td>...</td>\n",
       "      <td>...</td>\n",
       "      <td>...</td>\n",
       "      <td>...</td>\n",
       "      <td>...</td>\n",
       "      <td>...</td>\n",
       "      <td>...</td>\n",
       "      <td>...</td>\n",
       "      <td>...</td>\n",
       "      <td>...</td>\n",
       "      <td>...</td>\n",
       "      <td>...</td>\n",
       "      <td>...</td>\n",
       "      <td>...</td>\n",
       "      <td>...</td>\n",
       "      <td>...</td>\n",
       "      <td>...</td>\n",
       "    </tr>\n",
       "    <tr>\n",
       "      <th>189389</th>\n",
       "      <td>BENE144674</td>\n",
       "      <td>CLM478399</td>\n",
       "      <td>2009-07-19</td>\n",
       "      <td>2009-07-19</td>\n",
       "      <td>PRV56012</td>\n",
       "      <td>200</td>\n",
       "      <td>PHY349406</td>\n",
       "      <td>NaN</td>\n",
       "      <td>NaN</td>\n",
       "      <td>72401</td>\n",
       "      <td>...</td>\n",
       "      <td>NaN</td>\n",
       "      <td>NaN</td>\n",
       "      <td>NaN</td>\n",
       "      <td>NaN</td>\n",
       "      <td>NaN</td>\n",
       "      <td>NaN</td>\n",
       "      <td>NaN</td>\n",
       "      <td>0</td>\n",
       "      <td>7242</td>\n",
       "      <td>Yes</td>\n",
       "    </tr>\n",
       "    <tr>\n",
       "      <th>189390</th>\n",
       "      <td>BENE158989</td>\n",
       "      <td>CLM204673</td>\n",
       "      <td>2009-02-19</td>\n",
       "      <td>2009-02-20</td>\n",
       "      <td>PRV56012</td>\n",
       "      <td>90</td>\n",
       "      <td>PHY427933</td>\n",
       "      <td>NaN</td>\n",
       "      <td>NaN</td>\n",
       "      <td>29590</td>\n",
       "      <td>...</td>\n",
       "      <td>NaN</td>\n",
       "      <td>NaN</td>\n",
       "      <td>NaN</td>\n",
       "      <td>NaN</td>\n",
       "      <td>NaN</td>\n",
       "      <td>NaN</td>\n",
       "      <td>NaN</td>\n",
       "      <td>0</td>\n",
       "      <td>NaN</td>\n",
       "      <td>Yes</td>\n",
       "    </tr>\n",
       "    <tr>\n",
       "      <th>189391</th>\n",
       "      <td>BENE111157</td>\n",
       "      <td>CLM82006</td>\n",
       "      <td>2008-12-15</td>\n",
       "      <td>2008-12-28</td>\n",
       "      <td>PRV51119</td>\n",
       "      <td>95580</td>\n",
       "      <td>PHY409901</td>\n",
       "      <td>PHY396304</td>\n",
       "      <td>PHY396304</td>\n",
       "      <td>0389</td>\n",
       "      <td>...</td>\n",
       "      <td>2762</td>\n",
       "      <td>9672.0</td>\n",
       "      <td>5119.0</td>\n",
       "      <td>NaN</td>\n",
       "      <td>NaN</td>\n",
       "      <td>NaN</td>\n",
       "      <td>NaN</td>\n",
       "      <td>865</td>\n",
       "      <td>51881</td>\n",
       "      <td>Yes</td>\n",
       "    </tr>\n",
       "    <tr>\n",
       "      <th>189392</th>\n",
       "      <td>BENE119614</td>\n",
       "      <td>CLM738809</td>\n",
       "      <td>2009-12-21</td>\n",
       "      <td>2009-12-21</td>\n",
       "      <td>PRV55472</td>\n",
       "      <td>90</td>\n",
       "      <td>PHY358448</td>\n",
       "      <td>NaN</td>\n",
       "      <td>NaN</td>\n",
       "      <td>V187</td>\n",
       "      <td>...</td>\n",
       "      <td>NaN</td>\n",
       "      <td>NaN</td>\n",
       "      <td>NaN</td>\n",
       "      <td>NaN</td>\n",
       "      <td>NaN</td>\n",
       "      <td>NaN</td>\n",
       "      <td>NaN</td>\n",
       "      <td>0</td>\n",
       "      <td>NaN</td>\n",
       "      <td>Yes</td>\n",
       "    </tr>\n",
       "    <tr>\n",
       "      <th>189393</th>\n",
       "      <td>BENE130881</td>\n",
       "      <td>CLM165585</td>\n",
       "      <td>2009-01-29</td>\n",
       "      <td>2009-01-29</td>\n",
       "      <td>PRV55472</td>\n",
       "      <td>0</td>\n",
       "      <td>PHY413698</td>\n",
       "      <td>NaN</td>\n",
       "      <td>NaN</td>\n",
       "      <td>78900</td>\n",
       "      <td>...</td>\n",
       "      <td>NaN</td>\n",
       "      <td>NaN</td>\n",
       "      <td>NaN</td>\n",
       "      <td>NaN</td>\n",
       "      <td>NaN</td>\n",
       "      <td>NaN</td>\n",
       "      <td>NaN</td>\n",
       "      <td>0</td>\n",
       "      <td>78900</td>\n",
       "      <td>Yes</td>\n",
       "    </tr>\n",
       "  </tbody>\n",
       "</table>\n",
       "<p>189394 rows × 28 columns</p>\n",
       "</div>"
      ],
      "text/plain": [
       "            BeneID    ClaimID ClaimStartDt  ClaimEndDt  Provider  \\\n",
       "0        BENE11002  CLM624349   2009-10-11  2009-10-11  PRV56011   \n",
       "1        BENE11004  CLM121801   2009-01-06  2009-01-06  PRV56011   \n",
       "2        BENE11004  CLM150998   2009-01-22  2009-01-22  PRV56011   \n",
       "3        BENE11004  CLM173224   2009-02-03  2009-02-03  PRV56011   \n",
       "4        BENE11004  CLM224741   2009-03-03  2009-03-03  PRV56011   \n",
       "...            ...        ...          ...         ...       ...   \n",
       "189389  BENE144674  CLM478399   2009-07-19  2009-07-19  PRV56012   \n",
       "189390  BENE158989  CLM204673   2009-02-19  2009-02-20  PRV56012   \n",
       "189391  BENE111157   CLM82006   2008-12-15  2008-12-28  PRV51119   \n",
       "189392  BENE119614  CLM738809   2009-12-21  2009-12-21  PRV55472   \n",
       "189393  BENE130881  CLM165585   2009-01-29  2009-01-29  PRV55472   \n",
       "\n",
       "        InscClaimAmtReimbursed AttendingPhysician OperatingPhysician  \\\n",
       "0                           30          PHY326117                NaN   \n",
       "1                           40          PHY334319                NaN   \n",
       "2                          200          PHY403831                NaN   \n",
       "3                           20          PHY339887                NaN   \n",
       "4                           40          PHY345721                NaN   \n",
       "...                        ...                ...                ...   \n",
       "189389                     200          PHY349406                NaN   \n",
       "189390                      90          PHY427933                NaN   \n",
       "189391                   95580          PHY409901          PHY396304   \n",
       "189392                      90          PHY358448                NaN   \n",
       "189393                       0          PHY413698                NaN   \n",
       "\n",
       "       OtherPhysician ClmDiagnosisCode_1  ... ClmDiagnosisCode_10  \\\n",
       "0                 NaN              78943  ...                 NaN   \n",
       "1                 NaN              71988  ...                 NaN   \n",
       "2                 NaN              82382  ...                 NaN   \n",
       "3                 NaN              20381  ...                 NaN   \n",
       "4                 NaN              V6546  ...                 NaN   \n",
       "...               ...                ...  ...                 ...   \n",
       "189389            NaN              72401  ...                 NaN   \n",
       "189390            NaN              29590  ...                 NaN   \n",
       "189391      PHY396304               0389  ...                2762   \n",
       "189392            NaN               V187  ...                 NaN   \n",
       "189393            NaN              78900  ...                 NaN   \n",
       "\n",
       "       ClmProcedureCode_1 ClmProcedureCode_2 ClmProcedureCode_3  \\\n",
       "0                     NaN                NaN                NaN   \n",
       "1                     NaN                NaN                NaN   \n",
       "2                     NaN                NaN                NaN   \n",
       "3                     NaN                NaN                NaN   \n",
       "4                     NaN                NaN                NaN   \n",
       "...                   ...                ...                ...   \n",
       "189389                NaN                NaN                NaN   \n",
       "189390                NaN                NaN                NaN   \n",
       "189391             9672.0             5119.0                NaN   \n",
       "189392                NaN                NaN                NaN   \n",
       "189393                NaN                NaN                NaN   \n",
       "\n",
       "       ClmProcedureCode_4 ClmProcedureCode_5 ClmProcedureCode_6  \\\n",
       "0                     NaN                NaN                NaN   \n",
       "1                     NaN                NaN                NaN   \n",
       "2                     NaN                NaN                NaN   \n",
       "3                     NaN                NaN                NaN   \n",
       "4                     NaN                NaN                NaN   \n",
       "...                   ...                ...                ...   \n",
       "189389                NaN                NaN                NaN   \n",
       "189390                NaN                NaN                NaN   \n",
       "189391                NaN                NaN                NaN   \n",
       "189392                NaN                NaN                NaN   \n",
       "189393                NaN                NaN                NaN   \n",
       "\n",
       "       DeductibleAmtPaid ClmAdmitDiagnosisCode  PotentialFraud  \n",
       "0                      0                 56409             Yes  \n",
       "1                      0                   NaN             Yes  \n",
       "2                      0                 71947             Yes  \n",
       "3                      0                   NaN             Yes  \n",
       "4                      0                   NaN             Yes  \n",
       "...                  ...                   ...             ...  \n",
       "189389                 0                  7242             Yes  \n",
       "189390                 0                   NaN             Yes  \n",
       "189391               865                 51881             Yes  \n",
       "189392                 0                   NaN             Yes  \n",
       "189393                 0                 78900             Yes  \n",
       "\n",
       "[189394 rows x 28 columns]"
      ]
     },
     "execution_count": 47,
     "metadata": {},
     "output_type": "execute_result"
    }
   ],
   "source": [
    "fraud_provider_op_df = pd.merge(outpatient, Train_f, how='inner', on='Provider')\n",
    "fraud_provider_op_df"
   ]
  },
  {
   "cell_type": "code",
   "execution_count": 48,
   "metadata": {
    "execution": {
     "iopub.execute_input": "2022-06-02T10:44:51.876982Z",
     "iopub.status.busy": "2022-06-02T10:44:51.87653Z",
     "iopub.status.idle": "2022-06-02T10:44:51.885294Z",
     "shell.execute_reply": "2022-06-02T10:44:51.883848Z",
     "shell.execute_reply.started": "2022-06-02T10:44:51.87694Z"
    }
   },
   "outputs": [
    {
     "data": {
      "text/plain": [
       "189394"
      ]
     },
     "execution_count": 48,
     "metadata": {},
     "output_type": "execute_result"
    }
   ],
   "source": [
    "len(fraud_provider_op_df)"
   ]
  },
  {
   "cell_type": "code",
   "execution_count": 49,
   "metadata": {
    "execution": {
     "iopub.execute_input": "2022-06-02T10:45:15.775777Z",
     "iopub.status.busy": "2022-06-02T10:45:15.775374Z",
     "iopub.status.idle": "2022-06-02T10:45:15.781796Z",
     "shell.execute_reply": "2022-06-02T10:45:15.780668Z",
     "shell.execute_reply.started": "2022-06-02T10:45:15.775744Z"
    }
   },
   "outputs": [
    {
     "data": {
      "text/plain": [
       "36.58112130290089"
      ]
     },
     "execution_count": 49,
     "metadata": {},
     "output_type": "execute_result"
    }
   ],
   "source": [
    "(len(fraud_provider_op_df)/len(outpatient))*100"
   ]
  },
  {
   "cell_type": "markdown",
   "metadata": {},
   "source": [
    "So we see there are 189394 outpatient cases that the potential fradulent providers have interacted with at one point or the other during their services at the hospital. This is around 37% of the cases which we have in our inpatient data."
   ]
  },
  {
   "cell_type": "markdown",
   "metadata": {},
   "source": [
    "This means from our outpatient dataset for training we can have fradulent activities on around 38% of encounters"
   ]
  },
  {
   "cell_type": "markdown",
   "metadata": {},
   "source": [
    "### Which were the most used procedure codes and diagnosis codes used by the potential fradulent providers"
   ]
  },
  {
   "cell_type": "markdown",
   "metadata": {},
   "source": [
    "### Inpatient"
   ]
  },
  {
   "cell_type": "code",
   "execution_count": 50,
   "metadata": {
    "execution": {
     "iopub.execute_input": "2022-06-02T10:46:08.701864Z",
     "iopub.status.busy": "2022-06-02T10:46:08.701486Z",
     "iopub.status.idle": "2022-06-02T10:46:08.72268Z",
     "shell.execute_reply": "2022-06-02T10:46:08.72178Z",
     "shell.execute_reply.started": "2022-06-02T10:46:08.701831Z"
    }
   },
   "outputs": [
    {
     "data": {
      "text/plain": [
       "1     7769.0\n",
       "2     9338.0\n",
       "3     8154.0\n",
       "4     8543.0\n",
       "5     3327.0\n",
       "7     3995.0\n",
       "10    8741.0\n",
       "11    4011.0\n",
       "12    2181.0\n",
       "13    3723.0\n",
       "Name: Procedures, dtype: float64"
      ]
     },
     "execution_count": 50,
     "metadata": {},
     "output_type": "execute_result"
    }
   ],
   "source": [
    "df_procedures2 =  pd.DataFrame(columns = ['Procedures'])\n",
    "df_procedures2['Procedures'] = pd.concat([fraud_provider_ip_df[\"ClmProcedureCode_1\"], fraud_provider_ip_df[\"ClmProcedureCode_2\"], fraud_provider_ip_df[\"ClmProcedureCode_3\"], fraud_provider_ip_df[\"ClmProcedureCode_4\"], fraud_provider_ip_df[\"ClmProcedureCode_5\"], fraud_provider_ip_df[\"ClmProcedureCode_6\"]], axis=0, sort=True).dropna()\n",
    "df_procedures2['Procedures'].head(10)"
   ]
  },
  {
   "cell_type": "code",
   "execution_count": 51,
   "metadata": {
    "execution": {
     "iopub.execute_input": "2022-06-02T10:46:11.99555Z",
     "iopub.status.busy": "2022-06-02T10:46:11.995228Z",
     "iopub.status.idle": "2022-06-02T10:46:12.007923Z",
     "shell.execute_reply": "2022-06-02T10:46:12.007095Z",
     "shell.execute_reply.started": "2022-06-02T10:46:11.99552Z"
    }
   },
   "outputs": [
    {
     "data": {
      "text/plain": [
       "4019.0    1137\n",
       "2724.0     641\n",
       "9904.0     629\n",
       "8154.0     614\n",
       "66.0       535\n",
       "          ... \n",
       "5341.0       1\n",
       "8915.0       1\n",
       "8829.0       1\n",
       "4581.0       1\n",
       "3343.0       1\n",
       "Name: Procedures, Length: 1121, dtype: int64"
      ]
     },
     "execution_count": 51,
     "metadata": {},
     "output_type": "execute_result"
    }
   ],
   "source": [
    "grouped_F_procedure_df = df_procedures2['Procedures'].value_counts()\n",
    "grouped_F_procedure_df"
   ]
  },
  {
   "cell_type": "code",
   "execution_count": 52,
   "metadata": {
    "execution": {
     "iopub.execute_input": "2022-06-02T10:46:12.23037Z",
     "iopub.status.busy": "2022-06-02T10:46:12.230074Z",
     "iopub.status.idle": "2022-06-02T10:46:12.241823Z",
     "shell.execute_reply": "2022-06-02T10:46:12.240715Z",
     "shell.execute_reply.started": "2022-06-02T10:46:12.23034Z"
    }
   },
   "outputs": [
    {
     "data": {
      "text/plain": [
       "4019.0    6.562771\n",
       "2724.0    3.699856\n",
       "9904.0    3.630592\n",
       "8154.0    3.544012\n",
       "66.0      3.088023\n",
       "            ...   \n",
       "5341.0    0.005772\n",
       "8915.0    0.005772\n",
       "8829.0    0.005772\n",
       "4581.0    0.005772\n",
       "3343.0    0.005772\n",
       "Name: Percentage, Length: 1121, dtype: float64"
      ]
     },
     "execution_count": 52,
     "metadata": {},
     "output_type": "execute_result"
    }
   ],
   "source": [
    "grouped_F_procedure_df2 = grouped_F_procedure_df.to_frame()\n",
    "grouped_F_procedure_df2.columns = ['count']\n",
    "grouped_F_procedure_df2['Procedure'] = grouped_F_procedure_df2.index\n",
    "grouped_F_procedure_df2['Percentage'] = (grouped_F_procedure_df2['count']/sum(grouped_F_procedure_df2['count']))*100\n",
    "grouped_F_procedure_df2['Percentage']"
   ]
  },
  {
   "cell_type": "code",
   "execution_count": 53,
   "metadata": {
    "execution": {
     "iopub.execute_input": "2022-06-02T10:46:16.615421Z",
     "iopub.status.busy": "2022-06-02T10:46:16.615071Z",
     "iopub.status.idle": "2022-06-02T10:46:16.681143Z",
     "shell.execute_reply": "2022-06-02T10:46:16.680339Z",
     "shell.execute_reply.started": "2022-06-02T10:46:16.615371Z"
    }
   },
   "outputs": [
    {
     "data": {
      "text/plain": [
       "0     1970\n",
       "1     4240\n",
       "2    V5789\n",
       "3    71535\n",
       "4     2330\n",
       "5     1623\n",
       "6     3501\n",
       "7    V5789\n",
       "8     4280\n",
       "9     5579\n",
       "Name: Diagnosis, dtype: object"
      ]
     },
     "execution_count": 53,
     "metadata": {},
     "output_type": "execute_result"
    }
   ],
   "source": [
    "df_diagnosis2 = pd.DataFrame(columns = ['Diagnosis'])\n",
    "df_diagnosis2['Diagnosis'] = pd.concat([fraud_provider_ip_df[\"ClmDiagnosisCode_1\"], fraud_provider_ip_df[\"ClmDiagnosisCode_2\"], fraud_provider_ip_df[\"ClmDiagnosisCode_3\"], fraud_provider_ip_df[\"ClmDiagnosisCode_4\"], fraud_provider_ip_df[\"ClmDiagnosisCode_5\"], fraud_provider_ip_df[\"ClmDiagnosisCode_6\"], fraud_provider_ip_df[\"ClmDiagnosisCode_7\"],  fraud_provider_ip_df[\"ClmDiagnosisCode_8\"], fraud_provider_ip_df[\"ClmDiagnosisCode_9\"], fraud_provider_ip_df[\"ClmDiagnosisCode_10\"]], axis=0, sort=True).dropna()\n",
    "df_diagnosis2['Diagnosis'].head(10)"
   ]
  },
  {
   "cell_type": "code",
   "execution_count": 54,
   "metadata": {
    "execution": {
     "iopub.execute_input": "2022-06-02T10:46:20.936245Z",
     "iopub.status.busy": "2022-06-02T10:46:20.935824Z",
     "iopub.status.idle": "2022-06-02T10:46:21.01598Z",
     "shell.execute_reply": "2022-06-02T10:46:21.010512Z",
     "shell.execute_reply.started": "2022-06-02T10:46:20.936209Z"
    }
   },
   "outputs": [
    {
     "data": {
      "text/plain": [
       "4019     8116\n",
       "25000    4248\n",
       "2724     4245\n",
       "41401    3744\n",
       "4280     3585\n",
       "         ... \n",
       "81101       1\n",
       "9664        1\n",
       "65811       1\n",
       "9802        1\n",
       "7284        1\n",
       "Name: Diagnosis, Length: 4167, dtype: int64"
      ]
     },
     "execution_count": 54,
     "metadata": {},
     "output_type": "execute_result"
    }
   ],
   "source": [
    "grouped_F_diagnosis_df = df_diagnosis2['Diagnosis'].value_counts()\n",
    "grouped_F_diagnosis_df"
   ]
  },
  {
   "cell_type": "code",
   "execution_count": 55,
   "metadata": {
    "execution": {
     "iopub.execute_input": "2022-06-02T10:46:29.161705Z",
     "iopub.status.busy": "2022-06-02T10:46:29.16135Z",
     "iopub.status.idle": "2022-06-02T10:46:29.175125Z",
     "shell.execute_reply": "2022-06-02T10:46:29.173921Z",
     "shell.execute_reply.started": "2022-06-02T10:46:29.161675Z"
    }
   },
   "outputs": [
    {
     "data": {
      "text/plain": [
       "4019     4.286718\n",
       "25000    2.243713\n",
       "2724     2.242129\n",
       "41401    1.977510\n",
       "4280     1.893529\n",
       "           ...   \n",
       "81101    0.000528\n",
       "9664     0.000528\n",
       "65811    0.000528\n",
       "9802     0.000528\n",
       "7284     0.000528\n",
       "Name: Percentage, Length: 4167, dtype: float64"
      ]
     },
     "execution_count": 55,
     "metadata": {},
     "output_type": "execute_result"
    }
   ],
   "source": [
    "grouped_F_diagnosis_df2 = grouped_F_diagnosis_df.to_frame()\n",
    "grouped_F_diagnosis_df2.columns = ['count']\n",
    "grouped_F_diagnosis_df2['Diagnosis'] = grouped_F_diagnosis_df2.index\n",
    "grouped_F_diagnosis_df2['Percentage'] = (grouped_F_diagnosis_df2['count']/sum(grouped_F_diagnosis_df2['count']))*100\n",
    "grouped_F_diagnosis_df2['Percentage']"
   ]
  },
  {
   "cell_type": "code",
   "execution_count": 56,
   "metadata": {
    "execution": {
     "iopub.execute_input": "2022-06-02T10:46:33.515333Z",
     "iopub.status.busy": "2022-06-02T10:46:33.515018Z",
     "iopub.status.idle": "2022-06-02T10:46:33.521636Z",
     "shell.execute_reply": "2022-06-02T10:46:33.520491Z",
     "shell.execute_reply.started": "2022-06-02T10:46:33.515304Z"
    }
   },
   "outputs": [],
   "source": [
    "plot_F_procedure_df1 = grouped_F_procedure_df2.head(20)\n",
    "\n",
    "plot_F_diagnosis_df1 = grouped_F_diagnosis_df2.head(20)"
   ]
  },
  {
   "cell_type": "code",
   "execution_count": 57,
   "metadata": {
    "execution": {
     "iopub.execute_input": "2022-06-02T10:46:36.420569Z",
     "iopub.status.busy": "2022-06-02T10:46:36.420167Z",
     "iopub.status.idle": "2022-06-02T10:46:36.640736Z",
     "shell.execute_reply": "2022-06-02T10:46:36.639894Z",
     "shell.execute_reply.started": "2022-06-02T10:46:36.420529Z"
    }
   },
   "outputs": [
    {
     "data": {
      "text/plain": [
       "<AxesSubplot:xlabel='Procedure'>"
      ]
     },
     "execution_count": 57,
     "metadata": {},
     "output_type": "execute_result"
    },
    {
     "data": {
      "image/png": "[encoded data removed]",
      "text/plain": [
       "<Figure size 1080x504 with 1 Axes>"
      ]
     },
     "metadata": {
      "needs_background": "light"
     },
     "output_type": "display_data"
    }
   ],
   "source": [
    "plot_F_procedure_df1.plot(x ='Procedure', y='Percentage', kind = 'bar', color ='g', figsize=(15,7))"
   ]
  },
  {
   "cell_type": "code",
   "execution_count": 58,
   "metadata": {
    "execution": {
     "iopub.execute_input": "2022-06-02T10:46:43.195544Z",
     "iopub.status.busy": "2022-06-02T10:46:43.195204Z",
     "iopub.status.idle": "2022-06-02T10:46:43.41005Z",
     "shell.execute_reply": "2022-06-02T10:46:43.409319Z",
     "shell.execute_reply.started": "2022-06-02T10:46:43.195512Z"
    }
   },
   "outputs": [
    {
     "data": {
      "text/plain": [
       "<AxesSubplot:xlabel='Diagnosis'>"
      ]
     },
     "execution_count": 58,
     "metadata": {},
     "output_type": "execute_result"
    },
    {
     "data": {
      "image/png": "[encoded data removed]",
      "text/plain": [
       "<Figure size 1080x504 with 1 Axes>"
      ]
     },
     "metadata": {
      "needs_background": "light"
     },
     "output_type": "display_data"
    }
   ],
   "source": [
    "plot_F_diagnosis_df1.plot(x ='Diagnosis', y='Percentage', kind = 'bar', color ='y', figsize=(15,7))"
   ]
  },
  {
   "cell_type": "code",
   "execution_count": 59,
   "metadata": {
    "execution": {
     "iopub.execute_input": "2022-06-02T10:46:46.595565Z",
     "iopub.status.busy": "2022-06-02T10:46:46.595225Z",
     "iopub.status.idle": "2022-06-02T10:46:46.615764Z",
     "shell.execute_reply": "2022-06-02T10:46:46.614843Z",
     "shell.execute_reply.started": "2022-06-02T10:46:46.595536Z"
    }
   },
   "outputs": [
    {
     "data": {
      "text/plain": [
       "2340     3723.0\n",
       "5843     8703.0\n",
       "6666     9904.0\n",
       "6832     4573.0\n",
       "11110    8154.0\n",
       "14060      66.0\n",
       "15283    3772.0\n",
       "18162     966.0\n",
       "19199    4516.0\n",
       "21222    4311.0\n",
       "Name: Procedures, dtype: float64"
      ]
     },
     "execution_count": 59,
     "metadata": {},
     "output_type": "execute_result"
    }
   ],
   "source": [
    "df_procedures_op2 =  pd.DataFrame(columns = ['Procedures'])\n",
    "df_procedures_op2['Procedures'] = pd.concat([fraud_provider_op_df[\"ClmProcedureCode_1\"], fraud_provider_op_df[\"ClmProcedureCode_2\"], fraud_provider_op_df[\"ClmProcedureCode_3\"], fraud_provider_op_df[\"ClmProcedureCode_4\"], fraud_provider_op_df[\"ClmProcedureCode_5\"], fraud_provider_op_df[\"ClmProcedureCode_6\"]], axis=0, sort=True).dropna()\n",
    "df_procedures_op2['Procedures'].head(10)"
   ]
  },
  {
   "cell_type": "code",
   "execution_count": 60,
   "metadata": {
    "execution": {
     "iopub.execute_input": "2022-06-02T10:46:47.035818Z",
     "iopub.status.busy": "2022-06-02T10:46:47.035505Z",
     "iopub.status.idle": "2022-06-02T10:46:47.045819Z",
     "shell.execute_reply": "2022-06-02T10:46:47.043295Z",
     "shell.execute_reply.started": "2022-06-02T10:46:47.035791Z"
    }
   },
   "outputs": [
    {
     "data": {
      "text/plain": [
       "9904.0    5\n",
       "4516.0    5\n",
       "66.0      4\n",
       "9390.0    3\n",
       "5123.0    3\n",
       "Name: Procedures, dtype: int64"
      ]
     },
     "execution_count": 60,
     "metadata": {},
     "output_type": "execute_result"
    }
   ],
   "source": [
    "grouped_F_procedure_op_df = df_procedures_op2['Procedures'].value_counts()\n",
    "grouped_F_procedure_op_df.head()"
   ]
  },
  {
   "cell_type": "code",
   "execution_count": 61,
   "metadata": {
    "execution": {
     "iopub.execute_input": "2022-06-02T10:46:49.795433Z",
     "iopub.status.busy": "2022-06-02T10:46:49.795069Z",
     "iopub.status.idle": "2022-06-02T10:46:49.807785Z",
     "shell.execute_reply": "2022-06-02T10:46:49.806525Z",
     "shell.execute_reply.started": "2022-06-02T10:46:49.79538Z"
    }
   },
   "outputs": [
    {
     "data": {
      "text/plain": [
       "9904.0    5.555556\n",
       "4516.0    5.555556\n",
       "66.0      4.444444\n",
       "9390.0    3.333333\n",
       "5123.0    3.333333\n",
       "Name: Percentage, dtype: float64"
      ]
     },
     "execution_count": 61,
     "metadata": {},
     "output_type": "execute_result"
    }
   ],
   "source": [
    "grouped_F_procedure_opdf2 = grouped_F_procedure_op_df.to_frame()\n",
    "grouped_F_procedure_opdf2.columns = ['count']\n",
    "grouped_F_procedure_opdf2['Procedure'] = grouped_F_procedure_opdf2.index\n",
    "grouped_F_procedure_opdf2['Percentage'] = (grouped_F_procedure_opdf2['count']/sum(grouped_F_procedure_opdf2['count']))*100\n",
    "grouped_F_procedure_opdf2['Percentage'].head()"
   ]
  },
  {
   "cell_type": "code",
   "execution_count": 62,
   "metadata": {
    "execution": {
     "iopub.execute_input": "2022-06-02T10:46:51.896544Z",
     "iopub.status.busy": "2022-06-02T10:46:51.895886Z",
     "iopub.status.idle": "2022-06-02T10:46:52.423361Z",
     "shell.execute_reply": "2022-06-02T10:46:52.422498Z",
     "shell.execute_reply.started": "2022-06-02T10:46:51.8965Z"
    }
   },
   "outputs": [
    {
     "data": {
      "text/plain": [
       "0    78943\n",
       "1    71988\n",
       "2    82382\n",
       "3    20381\n",
       "4    V6546\n",
       "Name: Diagnosis, dtype: object"
      ]
     },
     "execution_count": 62,
     "metadata": {},
     "output_type": "execute_result"
    }
   ],
   "source": [
    "df_diagnosis_op2 = pd.DataFrame(columns = ['Diagnosis'])\n",
    "df_diagnosis_op2['Diagnosis'] = pd.concat([fraud_provider_op_df[\"ClmDiagnosisCode_1\"], fraud_provider_op_df[\"ClmDiagnosisCode_2\"], fraud_provider_op_df[\"ClmDiagnosisCode_3\"], fraud_provider_op_df[\"ClmDiagnosisCode_4\"], fraud_provider_op_df[\"ClmDiagnosisCode_5\"], fraud_provider_op_df[\"ClmDiagnosisCode_6\"], fraud_provider_op_df[\"ClmDiagnosisCode_7\"],  fraud_provider_op_df[\"ClmDiagnosisCode_8\"], fraud_provider_op_df[\"ClmDiagnosisCode_9\"], fraud_provider_op_df[\"ClmDiagnosisCode_10\"]], axis=0, sort=True).dropna()\n",
    "df_diagnosis_op2['Diagnosis'].head()"
   ]
  },
  {
   "cell_type": "code",
   "execution_count": 63,
   "metadata": {
    "execution": {
     "iopub.execute_input": "2022-06-02T10:46:55.140458Z",
     "iopub.status.busy": "2022-06-02T10:46:55.140116Z",
     "iopub.status.idle": "2022-06-02T10:46:55.193446Z",
     "shell.execute_reply": "2022-06-02T10:46:55.192505Z",
     "shell.execute_reply.started": "2022-06-02T10:46:55.140425Z"
    }
   },
   "outputs": [
    {
     "data": {
      "text/plain": [
       "4019     8116\n",
       "25000    4248\n",
       "2724     4245\n",
       "41401    3744\n",
       "4280     3585\n",
       "Name: Diagnosis, dtype: int64"
      ]
     },
     "execution_count": 63,
     "metadata": {},
     "output_type": "execute_result"
    }
   ],
   "source": [
    "grouped_F_diagnosis_op_df = df_diagnosis2['Diagnosis'].value_counts()\n",
    "grouped_F_diagnosis_op_df.head()"
   ]
  },
  {
   "cell_type": "code",
   "execution_count": 64,
   "metadata": {
    "execution": {
     "iopub.execute_input": "2022-06-02T10:46:57.67537Z",
     "iopub.status.busy": "2022-06-02T10:46:57.675051Z",
     "iopub.status.idle": "2022-06-02T10:46:57.687658Z",
     "shell.execute_reply": "2022-06-02T10:46:57.686446Z",
     "shell.execute_reply.started": "2022-06-02T10:46:57.675339Z"
    }
   },
   "outputs": [
    {
     "data": {
      "text/plain": [
       "4019     4.286718\n",
       "25000    2.243713\n",
       "2724     2.242129\n",
       "41401    1.977510\n",
       "4280     1.893529\n",
       "Name: Percentage, dtype: float64"
      ]
     },
     "execution_count": 64,
     "metadata": {},
     "output_type": "execute_result"
    }
   ],
   "source": [
    "grouped_F_diagnosis_opdf2 = grouped_F_diagnosis_op_df.to_frame()\n",
    "grouped_F_diagnosis_opdf2.columns = ['count']\n",
    "grouped_F_diagnosis_opdf2['Diagnosis'] = grouped_F_diagnosis_opdf2.index\n",
    "grouped_F_diagnosis_opdf2['Percentage'] = (grouped_F_diagnosis_opdf2['count']/sum(grouped_F_diagnosis_opdf2['count']))*100\n",
    "grouped_F_diagnosis_opdf2['Percentage'].head()"
   ]
  },
  {
   "cell_type": "code",
   "execution_count": 65,
   "metadata": {
    "execution": {
     "iopub.execute_input": "2022-06-02T10:47:00.115449Z",
     "iopub.status.busy": "2022-06-02T10:47:00.115115Z",
     "iopub.status.idle": "2022-06-02T10:47:00.120589Z",
     "shell.execute_reply": "2022-06-02T10:47:00.119492Z",
     "shell.execute_reply.started": "2022-06-02T10:47:00.115417Z"
    }
   },
   "outputs": [],
   "source": [
    "plot_F_procedure_opdf1 = grouped_F_procedure_opdf2.head(20)\n",
    "\n",
    "plot_F_diagnosis_opdf1 = grouped_F_diagnosis_opdf2.head(20)"
   ]
  },
  {
   "cell_type": "code",
   "execution_count": 66,
   "metadata": {
    "execution": {
     "iopub.execute_input": "2022-06-02T10:47:03.735348Z",
     "iopub.status.busy": "2022-06-02T10:47:03.73503Z",
     "iopub.status.idle": "2022-06-02T10:47:03.955185Z",
     "shell.execute_reply": "2022-06-02T10:47:03.954353Z",
     "shell.execute_reply.started": "2022-06-02T10:47:03.735319Z"
    }
   },
   "outputs": [
    {
     "data": {
      "text/plain": [
       "<AxesSubplot:xlabel='Procedure'>"
      ]
     },
     "execution_count": 66,
     "metadata": {},
     "output_type": "execute_result"
    },
    {
     "data": {
      "image/png": "[encoded data removed]",
      "text/plain": [
       "<Figure size 1080x504 with 1 Axes>"
      ]
     },
     "metadata": {
      "needs_background": "light"
     },
     "output_type": "display_data"
    }
   ],
   "source": [
    "plot_F_procedure_opdf1.plot(x ='Procedure', y='Percentage', kind = 'bar', color ='g', figsize=(15,7))"
   ]
  },
  {
   "cell_type": "code",
   "execution_count": 67,
   "metadata": {
    "execution": {
     "iopub.execute_input": "2022-06-02T10:47:06.915439Z",
     "iopub.status.busy": "2022-06-02T10:47:06.915104Z",
     "iopub.status.idle": "2022-06-02T10:47:07.126227Z",
     "shell.execute_reply": "2022-06-02T10:47:07.125318Z",
     "shell.execute_reply.started": "2022-06-02T10:47:06.915403Z"
    }
   },
   "outputs": [
    {
     "data": {
      "text/plain": [
       "<AxesSubplot:xlabel='Diagnosis'>"
      ]
     },
     "execution_count": 67,
     "metadata": {},
     "output_type": "execute_result"
    },
    {
     "data": {
      "image/png": "[encoded data removed]",
      "text/plain": [
       "<Figure size 1080x504 with 1 Axes>"
      ]
     },
     "metadata": {
      "needs_background": "light"
     },
     "output_type": "display_data"
    }
   ],
   "source": [
    "plot_F_diagnosis_opdf1.plot(x ='Diagnosis', y='Percentage', kind = 'bar', color ='y', figsize=(15,7))"
   ]
  },
  {
   "cell_type": "markdown",
   "metadata": {},
   "source": [
    "### 4.Which states/localities have the highest number of potential frauds"
   ]
  },
  {
   "cell_type": "code",
   "execution_count": 68,
   "metadata": {
    "execution": {
     "iopub.execute_input": "2022-06-02T10:47:12.055742Z",
     "iopub.status.busy": "2022-06-02T10:47:12.055419Z",
     "iopub.status.idle": "2022-06-02T10:47:12.083065Z",
     "shell.execute_reply": "2022-06-02T10:47:12.082326Z",
     "shell.execute_reply.started": "2022-06-02T10:47:12.055714Z"
    }
   },
   "outputs": [
    {
     "data": {
      "text/html": [
       "<div>\n",
       "<style scoped>\n",
       "    .dataframe tbody tr th:only-of-type {\n",
       "        vertical-align: middle;\n",
       "    }\n",
       "\n",
       "    .dataframe tbody tr th {\n",
       "        vertical-align: top;\n",
       "    }\n",
       "\n",
       "    .dataframe thead th {\n",
       "        text-align: right;\n",
       "    }\n",
       "</style>\n",
       "<table border=\"1\" class=\"dataframe\">\n",
       "  <thead>\n",
       "    <tr style=\"text-align: right;\">\n",
       "      <th></th>\n",
       "      <th>BeneID</th>\n",
       "      <th>DOB</th>\n",
       "      <th>DOD</th>\n",
       "      <th>Gender</th>\n",
       "      <th>Race</th>\n",
       "      <th>RenalDiseaseIndicator</th>\n",
       "      <th>State</th>\n",
       "      <th>County</th>\n",
       "      <th>NoOfMonths_PartACov</th>\n",
       "      <th>NoOfMonths_PartBCov</th>\n",
       "      <th>...</th>\n",
       "      <th>ChronicCond_Depression</th>\n",
       "      <th>ChronicCond_Diabetes</th>\n",
       "      <th>ChronicCond_IschemicHeart</th>\n",
       "      <th>ChronicCond_Osteoporasis</th>\n",
       "      <th>ChronicCond_rheumatoidarthritis</th>\n",
       "      <th>ChronicCond_stroke</th>\n",
       "      <th>IPAnnualReimbursementAmt</th>\n",
       "      <th>IPAnnualDeductibleAmt</th>\n",
       "      <th>OPAnnualReimbursementAmt</th>\n",
       "      <th>OPAnnualDeductibleAmt</th>\n",
       "    </tr>\n",
       "  </thead>\n",
       "  <tbody>\n",
       "    <tr>\n",
       "      <th>0</th>\n",
       "      <td>BENE11001</td>\n",
       "      <td>1943-01-01</td>\n",
       "      <td>NaN</td>\n",
       "      <td>1</td>\n",
       "      <td>1</td>\n",
       "      <td>0</td>\n",
       "      <td>39</td>\n",
       "      <td>230</td>\n",
       "      <td>12</td>\n",
       "      <td>12</td>\n",
       "      <td>...</td>\n",
       "      <td>1</td>\n",
       "      <td>1</td>\n",
       "      <td>1</td>\n",
       "      <td>2</td>\n",
       "      <td>1</td>\n",
       "      <td>1</td>\n",
       "      <td>36000</td>\n",
       "      <td>3204</td>\n",
       "      <td>60</td>\n",
       "      <td>70</td>\n",
       "    </tr>\n",
       "    <tr>\n",
       "      <th>1</th>\n",
       "      <td>BENE11002</td>\n",
       "      <td>1936-09-01</td>\n",
       "      <td>NaN</td>\n",
       "      <td>2</td>\n",
       "      <td>1</td>\n",
       "      <td>0</td>\n",
       "      <td>39</td>\n",
       "      <td>280</td>\n",
       "      <td>12</td>\n",
       "      <td>12</td>\n",
       "      <td>...</td>\n",
       "      <td>2</td>\n",
       "      <td>2</td>\n",
       "      <td>2</td>\n",
       "      <td>2</td>\n",
       "      <td>2</td>\n",
       "      <td>2</td>\n",
       "      <td>0</td>\n",
       "      <td>0</td>\n",
       "      <td>30</td>\n",
       "      <td>50</td>\n",
       "    </tr>\n",
       "    <tr>\n",
       "      <th>2</th>\n",
       "      <td>BENE11003</td>\n",
       "      <td>1936-08-01</td>\n",
       "      <td>NaN</td>\n",
       "      <td>1</td>\n",
       "      <td>1</td>\n",
       "      <td>0</td>\n",
       "      <td>52</td>\n",
       "      <td>590</td>\n",
       "      <td>12</td>\n",
       "      <td>12</td>\n",
       "      <td>...</td>\n",
       "      <td>2</td>\n",
       "      <td>2</td>\n",
       "      <td>1</td>\n",
       "      <td>2</td>\n",
       "      <td>2</td>\n",
       "      <td>2</td>\n",
       "      <td>0</td>\n",
       "      <td>0</td>\n",
       "      <td>90</td>\n",
       "      <td>40</td>\n",
       "    </tr>\n",
       "    <tr>\n",
       "      <th>3</th>\n",
       "      <td>BENE11004</td>\n",
       "      <td>1922-07-01</td>\n",
       "      <td>NaN</td>\n",
       "      <td>1</td>\n",
       "      <td>1</td>\n",
       "      <td>0</td>\n",
       "      <td>39</td>\n",
       "      <td>270</td>\n",
       "      <td>12</td>\n",
       "      <td>12</td>\n",
       "      <td>...</td>\n",
       "      <td>2</td>\n",
       "      <td>1</td>\n",
       "      <td>1</td>\n",
       "      <td>1</td>\n",
       "      <td>1</td>\n",
       "      <td>2</td>\n",
       "      <td>0</td>\n",
       "      <td>0</td>\n",
       "      <td>1810</td>\n",
       "      <td>760</td>\n",
       "    </tr>\n",
       "    <tr>\n",
       "      <th>4</th>\n",
       "      <td>BENE11005</td>\n",
       "      <td>1935-09-01</td>\n",
       "      <td>NaN</td>\n",
       "      <td>1</td>\n",
       "      <td>1</td>\n",
       "      <td>0</td>\n",
       "      <td>24</td>\n",
       "      <td>680</td>\n",
       "      <td>12</td>\n",
       "      <td>12</td>\n",
       "      <td>...</td>\n",
       "      <td>2</td>\n",
       "      <td>1</td>\n",
       "      <td>2</td>\n",
       "      <td>2</td>\n",
       "      <td>2</td>\n",
       "      <td>2</td>\n",
       "      <td>0</td>\n",
       "      <td>0</td>\n",
       "      <td>1790</td>\n",
       "      <td>1200</td>\n",
       "    </tr>\n",
       "  </tbody>\n",
       "</table>\n",
       "<p>5 rows × 25 columns</p>\n",
       "</div>"
      ],
      "text/plain": [
       "      BeneID         DOB  DOD  Gender  Race RenalDiseaseIndicator  State  \\\n",
       "0  BENE11001  1943-01-01  NaN       1     1                     0     39   \n",
       "1  BENE11002  1936-09-01  NaN       2     1                     0     39   \n",
       "2  BENE11003  1936-08-01  NaN       1     1                     0     52   \n",
       "3  BENE11004  1922-07-01  NaN       1     1                     0     39   \n",
       "4  BENE11005  1935-09-01  NaN       1     1                     0     24   \n",
       "\n",
       "   County  NoOfMonths_PartACov  NoOfMonths_PartBCov  ...  \\\n",
       "0     230                   12                   12  ...   \n",
       "1     280                   12                   12  ...   \n",
       "2     590                   12                   12  ...   \n",
       "3     270                   12                   12  ...   \n",
       "4     680                   12                   12  ...   \n",
       "\n",
       "   ChronicCond_Depression  ChronicCond_Diabetes  ChronicCond_IschemicHeart  \\\n",
       "0                       1                     1                          1   \n",
       "1                       2                     2                          2   \n",
       "2                       2                     2                          1   \n",
       "3                       2                     1                          1   \n",
       "4                       2                     1                          2   \n",
       "\n",
       "   ChronicCond_Osteoporasis  ChronicCond_rheumatoidarthritis  \\\n",
       "0                         2                                1   \n",
       "1                         2                                2   \n",
       "2                         2                                2   \n",
       "3                         1                                1   \n",
       "4                         2                                2   \n",
       "\n",
       "   ChronicCond_stroke  IPAnnualReimbursementAmt  IPAnnualDeductibleAmt  \\\n",
       "0                   1                     36000                   3204   \n",
       "1                   2                         0                      0   \n",
       "2                   2                         0                      0   \n",
       "3                   2                         0                      0   \n",
       "4                   2                         0                      0   \n",
       "\n",
       "   OPAnnualReimbursementAmt  OPAnnualDeductibleAmt  \n",
       "0                        60                     70  \n",
       "1                        30                     50  \n",
       "2                        90                     40  \n",
       "3                      1810                    760  \n",
       "4                      1790                   1200  \n",
       "\n",
       "[5 rows x 25 columns]"
      ]
     },
     "execution_count": 68,
     "metadata": {},
     "output_type": "execute_result"
    }
   ],
   "source": [
    "beneficiary.head()"
   ]
  },
  {
   "cell_type": "code",
   "execution_count": 69,
   "metadata": {
    "execution": {
     "iopub.execute_input": "2022-06-02T10:47:28.546041Z",
     "iopub.status.busy": "2022-06-02T10:47:28.545728Z",
     "iopub.status.idle": "2022-06-02T10:47:28.667606Z",
     "shell.execute_reply": "2022-06-02T10:47:28.666519Z",
     "shell.execute_reply.started": "2022-06-02T10:47:28.546011Z"
    }
   },
   "outputs": [
    {
     "data": {
      "text/html": [
       "<div>\n",
       "<style scoped>\n",
       "    .dataframe tbody tr th:only-of-type {\n",
       "        vertical-align: middle;\n",
       "    }\n",
       "\n",
       "    .dataframe tbody tr th {\n",
       "        vertical-align: top;\n",
       "    }\n",
       "\n",
       "    .dataframe thead th {\n",
       "        text-align: right;\n",
       "    }\n",
       "</style>\n",
       "<table border=\"1\" class=\"dataframe\">\n",
       "  <thead>\n",
       "    <tr style=\"text-align: right;\">\n",
       "      <th></th>\n",
       "      <th>BeneID</th>\n",
       "      <th>DOB</th>\n",
       "      <th>DOD</th>\n",
       "      <th>Gender</th>\n",
       "      <th>Race</th>\n",
       "      <th>RenalDiseaseIndicator</th>\n",
       "      <th>State</th>\n",
       "      <th>County</th>\n",
       "      <th>NoOfMonths_PartACov</th>\n",
       "      <th>NoOfMonths_PartBCov</th>\n",
       "      <th>...</th>\n",
       "      <th>ClmDiagnosisCode_8</th>\n",
       "      <th>ClmDiagnosisCode_9</th>\n",
       "      <th>ClmDiagnosisCode_10</th>\n",
       "      <th>ClmProcedureCode_1</th>\n",
       "      <th>ClmProcedureCode_2</th>\n",
       "      <th>ClmProcedureCode_3</th>\n",
       "      <th>ClmProcedureCode_4</th>\n",
       "      <th>ClmProcedureCode_5</th>\n",
       "      <th>ClmProcedureCode_6</th>\n",
       "      <th>PotentialFraud</th>\n",
       "    </tr>\n",
       "  </thead>\n",
       "  <tbody>\n",
       "    <tr>\n",
       "      <th>0</th>\n",
       "      <td>BENE11001</td>\n",
       "      <td>1943-01-01</td>\n",
       "      <td>NaN</td>\n",
       "      <td>1</td>\n",
       "      <td>1</td>\n",
       "      <td>0</td>\n",
       "      <td>39</td>\n",
       "      <td>230</td>\n",
       "      <td>12</td>\n",
       "      <td>12</td>\n",
       "      <td>...</td>\n",
       "      <td>19889</td>\n",
       "      <td>5849</td>\n",
       "      <td>NaN</td>\n",
       "      <td>NaN</td>\n",
       "      <td>NaN</td>\n",
       "      <td>NaN</td>\n",
       "      <td>NaN</td>\n",
       "      <td>NaN</td>\n",
       "      <td>NaN</td>\n",
       "      <td>Yes</td>\n",
       "    </tr>\n",
       "    <tr>\n",
       "      <th>1</th>\n",
       "      <td>BENE11017</td>\n",
       "      <td>1940-06-01</td>\n",
       "      <td>NaN</td>\n",
       "      <td>2</td>\n",
       "      <td>1</td>\n",
       "      <td>0</td>\n",
       "      <td>31</td>\n",
       "      <td>270</td>\n",
       "      <td>12</td>\n",
       "      <td>12</td>\n",
       "      <td>...</td>\n",
       "      <td>25000</td>\n",
       "      <td>25002</td>\n",
       "      <td>NaN</td>\n",
       "      <td>863.0</td>\n",
       "      <td>NaN</td>\n",
       "      <td>NaN</td>\n",
       "      <td>NaN</td>\n",
       "      <td>NaN</td>\n",
       "      <td>NaN</td>\n",
       "      <td>Yes</td>\n",
       "    </tr>\n",
       "    <tr>\n",
       "      <th>2</th>\n",
       "      <td>BENE11028</td>\n",
       "      <td>1941-12-01</td>\n",
       "      <td>NaN</td>\n",
       "      <td>1</td>\n",
       "      <td>1</td>\n",
       "      <td>0</td>\n",
       "      <td>38</td>\n",
       "      <td>230</td>\n",
       "      <td>12</td>\n",
       "      <td>12</td>\n",
       "      <td>...</td>\n",
       "      <td>4439</td>\n",
       "      <td>41401</td>\n",
       "      <td>NaN</td>\n",
       "      <td>9904.0</td>\n",
       "      <td>NaN</td>\n",
       "      <td>NaN</td>\n",
       "      <td>NaN</td>\n",
       "      <td>NaN</td>\n",
       "      <td>NaN</td>\n",
       "      <td>Yes</td>\n",
       "    </tr>\n",
       "    <tr>\n",
       "      <th>3</th>\n",
       "      <td>BENE11034</td>\n",
       "      <td>1946-03-01</td>\n",
       "      <td>NaN</td>\n",
       "      <td>2</td>\n",
       "      <td>1</td>\n",
       "      <td>0</td>\n",
       "      <td>34</td>\n",
       "      <td>760</td>\n",
       "      <td>12</td>\n",
       "      <td>12</td>\n",
       "      <td>...</td>\n",
       "      <td>4111</td>\n",
       "      <td>4589</td>\n",
       "      <td>NaN</td>\n",
       "      <td>3612.0</td>\n",
       "      <td>4139.0</td>\n",
       "      <td>NaN</td>\n",
       "      <td>NaN</td>\n",
       "      <td>NaN</td>\n",
       "      <td>NaN</td>\n",
       "      <td>Yes</td>\n",
       "    </tr>\n",
       "    <tr>\n",
       "      <th>4</th>\n",
       "      <td>BENE11034</td>\n",
       "      <td>1946-03-01</td>\n",
       "      <td>NaN</td>\n",
       "      <td>2</td>\n",
       "      <td>1</td>\n",
       "      <td>0</td>\n",
       "      <td>34</td>\n",
       "      <td>760</td>\n",
       "      <td>12</td>\n",
       "      <td>12</td>\n",
       "      <td>...</td>\n",
       "      <td>591</td>\n",
       "      <td>51881</td>\n",
       "      <td>NaN</td>\n",
       "      <td>9672.0</td>\n",
       "      <td>NaN</td>\n",
       "      <td>NaN</td>\n",
       "      <td>NaN</td>\n",
       "      <td>NaN</td>\n",
       "      <td>NaN</td>\n",
       "      <td>Yes</td>\n",
       "    </tr>\n",
       "  </tbody>\n",
       "</table>\n",
       "<p>5 rows × 55 columns</p>\n",
       "</div>"
      ],
      "text/plain": [
       "      BeneID         DOB  DOD  Gender  Race RenalDiseaseIndicator  State  \\\n",
       "0  BENE11001  1943-01-01  NaN       1     1                     0     39   \n",
       "1  BENE11017  1940-06-01  NaN       2     1                     0     31   \n",
       "2  BENE11028  1941-12-01  NaN       1     1                     0     38   \n",
       "3  BENE11034  1946-03-01  NaN       2     1                     0     34   \n",
       "4  BENE11034  1946-03-01  NaN       2     1                     0     34   \n",
       "\n",
       "   County  NoOfMonths_PartACov  NoOfMonths_PartBCov  ...  ClmDiagnosisCode_8  \\\n",
       "0     230                   12                   12  ...               19889   \n",
       "1     270                   12                   12  ...               25000   \n",
       "2     230                   12                   12  ...                4439   \n",
       "3     760                   12                   12  ...                4111   \n",
       "4     760                   12                   12  ...                 591   \n",
       "\n",
       "   ClmDiagnosisCode_9  ClmDiagnosisCode_10  ClmProcedureCode_1  \\\n",
       "0                5849                  NaN                 NaN   \n",
       "1               25002                  NaN               863.0   \n",
       "2               41401                  NaN              9904.0   \n",
       "3                4589                  NaN              3612.0   \n",
       "4               51881                  NaN              9672.0   \n",
       "\n",
       "   ClmProcedureCode_2  ClmProcedureCode_3  ClmProcedureCode_4  \\\n",
       "0                 NaN                 NaN                 NaN   \n",
       "1                 NaN                 NaN                 NaN   \n",
       "2                 NaN                 NaN                 NaN   \n",
       "3              4139.0                 NaN                 NaN   \n",
       "4                 NaN                 NaN                 NaN   \n",
       "\n",
       "   ClmProcedureCode_5  ClmProcedureCode_6  PotentialFraud  \n",
       "0                 NaN                 NaN             Yes  \n",
       "1                 NaN                 NaN             Yes  \n",
       "2                 NaN                 NaN             Yes  \n",
       "3                 NaN                 NaN             Yes  \n",
       "4                 NaN                 NaN             Yes  \n",
       "\n",
       "[5 rows x 55 columns]"
      ]
     },
     "execution_count": 69,
     "metadata": {},
     "output_type": "execute_result"
    }
   ],
   "source": [
    "fraud_beneficiary_ip_op_df = pd.merge(beneficiary, fraud_provider_ip_df, how='inner', on='BeneID')\n",
    "fraud_beneficiary_ip_op_df.head()"
   ]
  },
  {
   "cell_type": "code",
   "execution_count": 70,
   "metadata": {
    "execution": {
     "iopub.execute_input": "2022-06-02T10:47:54.816132Z",
     "iopub.status.busy": "2022-06-02T10:47:54.815812Z",
     "iopub.status.idle": "2022-06-02T10:47:54.824465Z",
     "shell.execute_reply": "2022-06-02T10:47:54.823571Z",
     "shell.execute_reply.started": "2022-06-02T10:47:54.816102Z"
    }
   },
   "outputs": [
    {
     "data": {
      "text/plain": [
       "5     1986\n",
       "10    1909\n",
       "33    1706\n",
       "45    1401\n",
       "36    1223\n",
       "Name: State, dtype: int64"
      ]
     },
     "execution_count": 70,
     "metadata": {},
     "output_type": "execute_result"
    }
   ],
   "source": [
    "Train_F_Beneficiary_grouped = fraud_beneficiary_ip_op_df['State'].value_counts()\n",
    "Train_F_Beneficiary_grouped.head()"
   ]
  },
  {
   "cell_type": "code",
   "execution_count": 71,
   "metadata": {
    "execution": {
     "iopub.execute_input": "2022-06-02T10:48:58.436472Z",
     "iopub.status.busy": "2022-06-02T10:48:58.436123Z",
     "iopub.status.idle": "2022-06-02T10:48:58.45308Z",
     "shell.execute_reply": "2022-06-02T10:48:58.451971Z",
     "shell.execute_reply.started": "2022-06-02T10:48:58.43644Z"
    }
   },
   "outputs": [
    {
     "data": {
      "text/html": [
       "<div>\n",
       "<style scoped>\n",
       "    .dataframe tbody tr th:only-of-type {\n",
       "        vertical-align: middle;\n",
       "    }\n",
       "\n",
       "    .dataframe tbody tr th {\n",
       "        vertical-align: top;\n",
       "    }\n",
       "\n",
       "    .dataframe thead th {\n",
       "        text-align: right;\n",
       "    }\n",
       "</style>\n",
       "<table border=\"1\" class=\"dataframe\">\n",
       "  <thead>\n",
       "    <tr style=\"text-align: right;\">\n",
       "      <th></th>\n",
       "      <th>Count</th>\n",
       "      <th>STATE</th>\n",
       "    </tr>\n",
       "  </thead>\n",
       "  <tbody>\n",
       "    <tr>\n",
       "      <th>5</th>\n",
       "      <td>1986</td>\n",
       "      <td>5</td>\n",
       "    </tr>\n",
       "    <tr>\n",
       "      <th>10</th>\n",
       "      <td>1909</td>\n",
       "      <td>10</td>\n",
       "    </tr>\n",
       "    <tr>\n",
       "      <th>33</th>\n",
       "      <td>1706</td>\n",
       "      <td>33</td>\n",
       "    </tr>\n",
       "    <tr>\n",
       "      <th>45</th>\n",
       "      <td>1401</td>\n",
       "      <td>45</td>\n",
       "    </tr>\n",
       "    <tr>\n",
       "      <th>36</th>\n",
       "      <td>1223</td>\n",
       "      <td>36</td>\n",
       "    </tr>\n",
       "    <tr>\n",
       "      <th>14</th>\n",
       "      <td>998</td>\n",
       "      <td>14</td>\n",
       "    </tr>\n",
       "    <tr>\n",
       "      <th>34</th>\n",
       "      <td>924</td>\n",
       "      <td>34</td>\n",
       "    </tr>\n",
       "    <tr>\n",
       "      <th>39</th>\n",
       "      <td>852</td>\n",
       "      <td>39</td>\n",
       "    </tr>\n",
       "    <tr>\n",
       "      <th>31</th>\n",
       "      <td>745</td>\n",
       "      <td>31</td>\n",
       "    </tr>\n",
       "    <tr>\n",
       "      <th>49</th>\n",
       "      <td>702</td>\n",
       "      <td>49</td>\n",
       "    </tr>\n",
       "    <tr>\n",
       "      <th>22</th>\n",
       "      <td>626</td>\n",
       "      <td>22</td>\n",
       "    </tr>\n",
       "    <tr>\n",
       "      <th>21</th>\n",
       "      <td>621</td>\n",
       "      <td>21</td>\n",
       "    </tr>\n",
       "    <tr>\n",
       "      <th>23</th>\n",
       "      <td>614</td>\n",
       "      <td>23</td>\n",
       "    </tr>\n",
       "    <tr>\n",
       "      <th>15</th>\n",
       "      <td>604</td>\n",
       "      <td>15</td>\n",
       "    </tr>\n",
       "    <tr>\n",
       "      <th>11</th>\n",
       "      <td>583</td>\n",
       "      <td>11</td>\n",
       "    </tr>\n",
       "    <tr>\n",
       "      <th>44</th>\n",
       "      <td>562</td>\n",
       "      <td>44</td>\n",
       "    </tr>\n",
       "    <tr>\n",
       "      <th>26</th>\n",
       "      <td>506</td>\n",
       "      <td>26</td>\n",
       "    </tr>\n",
       "    <tr>\n",
       "      <th>3</th>\n",
       "      <td>494</td>\n",
       "      <td>3</td>\n",
       "    </tr>\n",
       "    <tr>\n",
       "      <th>7</th>\n",
       "      <td>479</td>\n",
       "      <td>7</td>\n",
       "    </tr>\n",
       "    <tr>\n",
       "      <th>52</th>\n",
       "      <td>430</td>\n",
       "      <td>52</td>\n",
       "    </tr>\n",
       "  </tbody>\n",
       "</table>\n",
       "</div>"
      ],
      "text/plain": [
       "    Count  STATE\n",
       "5    1986      5\n",
       "10   1909     10\n",
       "33   1706     33\n",
       "45   1401     45\n",
       "36   1223     36\n",
       "14    998     14\n",
       "34    924     34\n",
       "39    852     39\n",
       "31    745     31\n",
       "49    702     49\n",
       "22    626     22\n",
       "21    621     21\n",
       "23    614     23\n",
       "15    604     15\n",
       "11    583     11\n",
       "44    562     44\n",
       "26    506     26\n",
       "3     494      3\n",
       "7     479      7\n",
       "52    430     52"
      ]
     },
     "execution_count": 71,
     "metadata": {},
     "output_type": "execute_result"
    }
   ],
   "source": [
    "Train_F_Beneficiary_grouped1 = Train_F_Beneficiary_grouped.to_frame()\n",
    "Train_F_Beneficiary_grouped1['Count'] =  Train_F_Beneficiary_grouped1['State']\n",
    "Train_F_Beneficiary_grouped1['STATE'] = Train_F_Beneficiary_grouped1.index\n",
    "Train_F_Beneficiary_grouped1 = Train_F_Beneficiary_grouped1.drop(['State'], axis = 1)\n",
    "Train_F_Beneficiary_grouped1 = Train_F_Beneficiary_grouped1.head(20)\n",
    "Train_F_Beneficiary_grouped1"
   ]
  },
  {
   "cell_type": "code",
   "execution_count": 72,
   "metadata": {
    "execution": {
     "iopub.execute_input": "2022-06-02T10:49:06.096169Z",
     "iopub.status.busy": "2022-06-02T10:49:06.095855Z",
     "iopub.status.idle": "2022-06-02T10:49:06.318402Z",
     "shell.execute_reply": "2022-06-02T10:49:06.317496Z",
     "shell.execute_reply.started": "2022-06-02T10:49:06.09614Z"
    }
   },
   "outputs": [
    {
     "data": {
      "image/png": "[encoded data removed]",
      "text/plain": [
       "<Figure size 1080x504 with 1 Axes>"
      ]
     },
     "metadata": {
      "needs_background": "light"
     },
     "output_type": "display_data"
    }
   ],
   "source": [
    "Train_F_Beneficiary_grouped1.plot(x ='STATE', y='Count', kind = 'bar', figsize= (15,7));"
   ]
  },
  {
   "cell_type": "markdown",
   "metadata": {},
   "source": [
    "### Average Age for the data set and as a comparison for the probable fradulent activites applied on what age range"
   ]
  },
  {
   "cell_type": "code",
   "execution_count": 73,
   "metadata": {
    "execution": {
     "iopub.execute_input": "2022-06-02T10:51:19.676327Z",
     "iopub.status.busy": "2022-06-02T10:51:19.67599Z",
     "iopub.status.idle": "2022-06-02T10:51:19.875218Z",
     "shell.execute_reply": "2022-06-02T10:51:19.874271Z",
     "shell.execute_reply.started": "2022-06-02T10:51:19.676294Z"
    }
   },
   "outputs": [
    {
     "data": {
      "image/png": "[encoded data removed]",
      "text/plain": [
       "<Figure size 576x432 with 1 Axes>"
      ]
     },
     "metadata": {
      "needs_background": "light"
     },
     "output_type": "display_data"
    }
   ],
   "source": [
    "fraud_beneficiary_ip_op_df['DOB'] =  pd.to_datetime(fraud_beneficiary_ip_op_df['DOB'], format='%Y-%m-%d')  \n",
    "now = pd.to_datetime('2009-12-01' , format = '%Y-%m-%d') # Assuming this is 2009 data as the last recorded death is for 2009\n",
    "fraud_beneficiary_ip_op_df['DOB'] = fraud_beneficiary_ip_op_df['DOB'].where(fraud_beneficiary_ip_op_df['DOB'] < now) \n",
    "fraud_beneficiary_ip_op_df['age'] = (now - fraud_beneficiary_ip_op_df['DOB']).astype('<m8[Y]')  \n",
    "ax = fraud_beneficiary_ip_op_df['age'].plot.hist(bins=20, alpha=0.5, figsize=(8, 6), edgecolor='b')"
   ]
  },
  {
   "cell_type": "markdown",
   "metadata": {},
   "source": [
    "This seems logical as most of the patients are of an age >65"
   ]
  },
  {
   "cell_type": "markdown",
   "metadata": {},
   "source": [
    "### Inpatient data as a whole not just the fradulent activities"
   ]
  },
  {
   "cell_type": "code",
   "execution_count": 74,
   "metadata": {
    "execution": {
     "iopub.execute_input": "2022-06-02T10:52:11.635412Z",
     "iopub.status.busy": "2022-06-02T10:52:11.635073Z",
     "iopub.status.idle": "2022-06-02T10:52:11.844146Z",
     "shell.execute_reply": "2022-06-02T10:52:11.843328Z",
     "shell.execute_reply.started": "2022-06-02T10:52:11.635362Z"
    }
   },
   "outputs": [
    {
     "data": {
      "image/png": "[encoded data removed]",
      "text/plain": [
       "<Figure size 576x432 with 1 Axes>"
      ]
     },
     "metadata": {
      "needs_background": "light"
     },
     "output_type": "display_data"
    }
   ],
   "source": [
    "beneficiary['DOB'] =  pd.to_datetime(beneficiary['DOB'], format='%Y-%m-%d')  \n",
    "now = pd.to_datetime('2009-12-01' , format = '%Y-%m-%d') # Assuming this is 2009 data as the last recorded death is for 2009\n",
    "beneficiary['DOB'] = beneficiary['DOB'].where(beneficiary['DOB'] < now)\n",
    "beneficiary['age'] = (now - beneficiary['DOB']).astype('<m8[Y]')\n",
    "ax = beneficiary['age'].plot.hist(bins=20, alpha=0.5, figsize=(8, 6), edgecolor='b')"
   ]
  },
  {
   "cell_type": "markdown",
   "metadata": {},
   "source": [
    "Here too we see a similar pattern"
   ]
  },
  {
   "cell_type": "markdown",
   "metadata": {},
   "source": [
    "### What is the average cost of potential fraud claims and also what is the cost as % of whole. Checking the outliers for such claims"
   ]
  },
  {
   "cell_type": "markdown",
   "metadata": {},
   "source": [
    "### Inpatient"
   ]
  },
  {
   "cell_type": "code",
   "execution_count": 75,
   "metadata": {
    "execution": {
     "iopub.execute_input": "2022-06-02T10:52:28.796164Z",
     "iopub.status.busy": "2022-06-02T10:52:28.795831Z",
     "iopub.status.idle": "2022-06-02T10:52:28.971876Z",
     "shell.execute_reply": "2022-06-02T10:52:28.971108Z",
     "shell.execute_reply.started": "2022-06-02T10:52:28.796135Z"
    }
   },
   "outputs": [
    {
     "data": {
      "image/png": "[encoded data removed]",
      "text/plain": [
       "<Figure size 576x432 with 1 Axes>"
      ]
     },
     "metadata": {
      "needs_background": "light"
     },
     "output_type": "display_data"
    }
   ],
   "source": [
    "ax = inpatient['InscClaimAmtReimbursed'].plot.hist(bins=20, alpha=0.5, figsize=(8, 6), facecolor='g', edgecolor='g')\n",
    "# Insurance Claim amount reimbursed."
   ]
  },
  {
   "cell_type": "code",
   "execution_count": 76,
   "metadata": {
    "execution": {
     "iopub.execute_input": "2022-06-02T10:52:38.69624Z",
     "iopub.status.busy": "2022-06-02T10:52:38.695908Z",
     "iopub.status.idle": "2022-06-02T10:52:39.692609Z",
     "shell.execute_reply": "2022-06-02T10:52:39.691449Z",
     "shell.execute_reply.started": "2022-06-02T10:52:38.696204Z"
    }
   },
   "outputs": [
    {
     "data": {
      "text/plain": [
       "<seaborn.axisgrid.FacetGrid at 0x22407edadf0>"
      ]
     },
     "execution_count": 76,
     "metadata": {},
     "output_type": "execute_result"
    },
    {
     "data": {
      "image/png": "[encoded data removed]",
      "text/plain": [
       "<Figure size 1152x576 with 2 Axes>"
      ]
     },
     "metadata": {
      "needs_background": "light"
     },
     "output_type": "display_data"
    }
   ],
   "source": [
    "import seaborn as sns\n",
    "inpatient_1 = pd.merge(inpatient, train, how='inner', on='Provider')\n",
    "g = sns.FacetGrid(inpatient_1, col='PotentialFraud', height=8)\n",
    "g.map(plt.hist, 'InscClaimAmtReimbursed', bins=20, color = 'g')"
   ]
  },
  {
   "cell_type": "markdown",
   "metadata": {},
   "source": [
    "We see that it is a significantly large amount which might be fradulent."
   ]
  },
  {
   "cell_type": "code",
   "execution_count": 77,
   "metadata": {
    "execution": {
     "iopub.execute_input": "2022-06-02T10:53:43.900598Z",
     "iopub.status.busy": "2022-06-02T10:53:43.900239Z",
     "iopub.status.idle": "2022-06-02T10:53:43.924064Z",
     "shell.execute_reply": "2022-06-02T10:53:43.922044Z",
     "shell.execute_reply.started": "2022-06-02T10:53:43.900568Z"
    }
   },
   "outputs": [
    {
     "name": "stdout",
     "output_type": "stream",
     "text": [
      "241288510\n"
     ]
    }
   ],
   "source": [
    "inpatient_1 = inpatient_1.loc[(inpatient_1['PotentialFraud'] == 'Yes')]\n",
    "Total = inpatient_1['InscClaimAmtReimbursed'].sum()\n",
    "print(Total)"
   ]
  },
  {
   "cell_type": "markdown",
   "metadata": {},
   "source": [
    "241288510 - around 240 Million dollars worth of claim might have some fradulent activity. Even if we assume that it has just 10% fradulent activity the amount will be quite huge"
   ]
  },
  {
   "cell_type": "markdown",
   "metadata": {},
   "source": [
    "### Outpatient"
   ]
  },
  {
   "cell_type": "code",
   "execution_count": 78,
   "metadata": {
    "execution": {
     "iopub.execute_input": "2022-06-02T10:54:04.141441Z",
     "iopub.status.busy": "2022-06-02T10:54:04.14108Z",
     "iopub.status.idle": "2022-06-02T10:54:04.488254Z",
     "shell.execute_reply": "2022-06-02T10:54:04.487334Z",
     "shell.execute_reply.started": "2022-06-02T10:54:04.141402Z"
    }
   },
   "outputs": [
    {
     "data": {
      "image/png": "[encoded data removed]",
      "text/plain": [
       "<Figure size 576x432 with 1 Axes>"
      ]
     },
     "metadata": {
      "needs_background": "light"
     },
     "output_type": "display_data"
    }
   ],
   "source": [
    "ax = outpatient['InscClaimAmtReimbursed'].plot.hist(bins=100,range=[0,5000], alpha=0.5, figsize=(8, 6), facecolor='c', edgecolor='k')"
   ]
  },
  {
   "cell_type": "code",
   "execution_count": 79,
   "metadata": {
    "execution": {
     "iopub.execute_input": "2022-06-02T10:54:04.750547Z",
     "iopub.status.busy": "2022-06-02T10:54:04.750204Z",
     "iopub.status.idle": "2022-06-02T10:54:07.838091Z",
     "shell.execute_reply": "2022-06-02T10:54:07.837369Z",
     "shell.execute_reply.started": "2022-06-02T10:54:04.750517Z"
    }
   },
   "outputs": [
    {
     "data": {
      "text/plain": [
       "<seaborn.axisgrid.FacetGrid at 0x2241426df10>"
      ]
     },
     "execution_count": 79,
     "metadata": {},
     "output_type": "execute_result"
    },
    {
     "data": {
      "image/png": "[encoded data removed]",
      "text/plain": [
       "<Figure size 1152x576 with 2 Axes>"
      ]
     },
     "metadata": {
      "needs_background": "light"
     },
     "output_type": "display_data"
    }
   ],
   "source": [
    "outpatient_1 = pd.merge(outpatient, train, how='inner', on='Provider')\n",
    "g = sns.FacetGrid(outpatient_1, col='PotentialFraud', height=8)\n",
    "g.map(plt.hist, 'InscClaimAmtReimbursed', bins=20, range=[0, 5000], color ='c')"
   ]
  },
  {
   "cell_type": "markdown",
   "metadata": {},
   "source": [
    "### Checking for missing values in the data set"
   ]
  },
  {
   "cell_type": "code",
   "execution_count": 80,
   "metadata": {
    "execution": {
     "iopub.execute_input": "2022-06-02T10:54:12.470516Z",
     "iopub.status.busy": "2022-06-02T10:54:12.470186Z",
     "iopub.status.idle": "2022-06-02T10:54:12.516017Z",
     "shell.execute_reply": "2022-06-02T10:54:12.515172Z",
     "shell.execute_reply.started": "2022-06-02T10:54:12.470484Z"
    }
   },
   "outputs": [
    {
     "data": {
      "text/plain": [
       "BeneID                                  0\n",
       "DOB                                     0\n",
       "DOD                                137135\n",
       "Gender                                  0\n",
       "Race                                    0\n",
       "RenalDiseaseIndicator                   0\n",
       "State                                   0\n",
       "County                                  0\n",
       "NoOfMonths_PartACov                     0\n",
       "NoOfMonths_PartBCov                     0\n",
       "ChronicCond_Alzheimer                   0\n",
       "ChronicCond_Heartfailure                0\n",
       "ChronicCond_KidneyDisease               0\n",
       "ChronicCond_Cancer                      0\n",
       "ChronicCond_ObstrPulmonary              0\n",
       "ChronicCond_Depression                  0\n",
       "ChronicCond_Diabetes                    0\n",
       "ChronicCond_IschemicHeart               0\n",
       "ChronicCond_Osteoporasis                0\n",
       "ChronicCond_rheumatoidarthritis         0\n",
       "ChronicCond_stroke                      0\n",
       "IPAnnualReimbursementAmt                0\n",
       "IPAnnualDeductibleAmt                   0\n",
       "OPAnnualReimbursementAmt                0\n",
       "OPAnnualDeductibleAmt                   0\n",
       "age                                     0\n",
       "dtype: int64"
      ]
     },
     "execution_count": 80,
     "metadata": {},
     "output_type": "execute_result"
    }
   ],
   "source": [
    "beneficiary.isna().sum()"
   ]
  },
  {
   "cell_type": "markdown",
   "metadata": {},
   "source": [
    "Only the date of death is empty - makes sense for the people who are alive"
   ]
  },
  {
   "cell_type": "markdown",
   "metadata": {},
   "source": [
    "### Adding Age Column"
   ]
  },
  {
   "cell_type": "code",
   "execution_count": 81,
   "metadata": {
    "execution": {
     "iopub.execute_input": "2022-06-02T10:54:34.01187Z",
     "iopub.status.busy": "2022-06-02T10:54:34.011524Z",
     "iopub.status.idle": "2022-06-02T10:54:34.092942Z",
     "shell.execute_reply": "2022-06-02T10:54:34.091958Z",
     "shell.execute_reply.started": "2022-06-02T10:54:34.011839Z"
    }
   },
   "outputs": [],
   "source": [
    "beneficiary['DOB'] = pd.to_datetime(beneficiary['DOB'] , format = '%Y-%m-%d')\n",
    "beneficiary['DOD'] = pd.to_datetime(beneficiary['DOD'],format = '%Y-%m-%d',errors='ignore')\n",
    "beneficiary['Age'] = round(((beneficiary['DOD'] - beneficiary['DOB']).dt.days)/365)\n",
    "\n",
    "## As we see that last DOD value is 2009-12-01 ,which means Beneficiary Details data is of year 2009.\n",
    "## so we will calculate age of other benficiaries for year 2009."
   ]
  },
  {
   "cell_type": "code",
   "execution_count": 82,
   "metadata": {
    "execution": {
     "iopub.execute_input": "2022-06-02T10:54:39.852026Z",
     "iopub.status.busy": "2022-06-02T10:54:39.851655Z",
     "iopub.status.idle": "2022-06-02T10:54:39.865455Z",
     "shell.execute_reply": "2022-06-02T10:54:39.864721Z",
     "shell.execute_reply.started": "2022-06-02T10:54:39.851997Z"
    }
   },
   "outputs": [],
   "source": [
    "beneficiary.Age.fillna(round(((pd.to_datetime('2009-12-01' , format = '%Y-%m-%d') - beneficiary['DOB']).dt.days)/365),\n",
    "                                 inplace=True)"
   ]
  },
  {
   "cell_type": "code",
   "execution_count": 83,
   "metadata": {
    "execution": {
     "iopub.execute_input": "2022-06-02T10:54:41.110485Z",
     "iopub.status.busy": "2022-06-02T10:54:41.110141Z",
     "iopub.status.idle": "2022-06-02T10:54:41.136606Z",
     "shell.execute_reply": "2022-06-02T10:54:41.135582Z",
     "shell.execute_reply.started": "2022-06-02T10:54:41.110452Z"
    }
   },
   "outputs": [
    {
     "data": {
      "text/html": [
       "<div>\n",
       "<style scoped>\n",
       "    .dataframe tbody tr th:only-of-type {\n",
       "        vertical-align: middle;\n",
       "    }\n",
       "\n",
       "    .dataframe tbody tr th {\n",
       "        vertical-align: top;\n",
       "    }\n",
       "\n",
       "    .dataframe thead th {\n",
       "        text-align: right;\n",
       "    }\n",
       "</style>\n",
       "<table border=\"1\" class=\"dataframe\">\n",
       "  <thead>\n",
       "    <tr style=\"text-align: right;\">\n",
       "      <th></th>\n",
       "      <th>BeneID</th>\n",
       "      <th>DOB</th>\n",
       "      <th>DOD</th>\n",
       "      <th>Gender</th>\n",
       "      <th>Race</th>\n",
       "      <th>RenalDiseaseIndicator</th>\n",
       "      <th>State</th>\n",
       "      <th>County</th>\n",
       "      <th>NoOfMonths_PartACov</th>\n",
       "      <th>NoOfMonths_PartBCov</th>\n",
       "      <th>...</th>\n",
       "      <th>ChronicCond_IschemicHeart</th>\n",
       "      <th>ChronicCond_Osteoporasis</th>\n",
       "      <th>ChronicCond_rheumatoidarthritis</th>\n",
       "      <th>ChronicCond_stroke</th>\n",
       "      <th>IPAnnualReimbursementAmt</th>\n",
       "      <th>IPAnnualDeductibleAmt</th>\n",
       "      <th>OPAnnualReimbursementAmt</th>\n",
       "      <th>OPAnnualDeductibleAmt</th>\n",
       "      <th>age</th>\n",
       "      <th>Age</th>\n",
       "    </tr>\n",
       "  </thead>\n",
       "  <tbody>\n",
       "    <tr>\n",
       "      <th>0</th>\n",
       "      <td>BENE11001</td>\n",
       "      <td>1943-01-01</td>\n",
       "      <td>NaT</td>\n",
       "      <td>1</td>\n",
       "      <td>1</td>\n",
       "      <td>0</td>\n",
       "      <td>39</td>\n",
       "      <td>230</td>\n",
       "      <td>12</td>\n",
       "      <td>12</td>\n",
       "      <td>...</td>\n",
       "      <td>1</td>\n",
       "      <td>2</td>\n",
       "      <td>1</td>\n",
       "      <td>1</td>\n",
       "      <td>36000</td>\n",
       "      <td>3204</td>\n",
       "      <td>60</td>\n",
       "      <td>70</td>\n",
       "      <td>66.0</td>\n",
       "      <td>67.0</td>\n",
       "    </tr>\n",
       "    <tr>\n",
       "      <th>1</th>\n",
       "      <td>BENE11002</td>\n",
       "      <td>1936-09-01</td>\n",
       "      <td>NaT</td>\n",
       "      <td>2</td>\n",
       "      <td>1</td>\n",
       "      <td>0</td>\n",
       "      <td>39</td>\n",
       "      <td>280</td>\n",
       "      <td>12</td>\n",
       "      <td>12</td>\n",
       "      <td>...</td>\n",
       "      <td>2</td>\n",
       "      <td>2</td>\n",
       "      <td>2</td>\n",
       "      <td>2</td>\n",
       "      <td>0</td>\n",
       "      <td>0</td>\n",
       "      <td>30</td>\n",
       "      <td>50</td>\n",
       "      <td>73.0</td>\n",
       "      <td>73.0</td>\n",
       "    </tr>\n",
       "    <tr>\n",
       "      <th>2</th>\n",
       "      <td>BENE11003</td>\n",
       "      <td>1936-08-01</td>\n",
       "      <td>NaT</td>\n",
       "      <td>1</td>\n",
       "      <td>1</td>\n",
       "      <td>0</td>\n",
       "      <td>52</td>\n",
       "      <td>590</td>\n",
       "      <td>12</td>\n",
       "      <td>12</td>\n",
       "      <td>...</td>\n",
       "      <td>1</td>\n",
       "      <td>2</td>\n",
       "      <td>2</td>\n",
       "      <td>2</td>\n",
       "      <td>0</td>\n",
       "      <td>0</td>\n",
       "      <td>90</td>\n",
       "      <td>40</td>\n",
       "      <td>73.0</td>\n",
       "      <td>73.0</td>\n",
       "    </tr>\n",
       "    <tr>\n",
       "      <th>3</th>\n",
       "      <td>BENE11004</td>\n",
       "      <td>1922-07-01</td>\n",
       "      <td>NaT</td>\n",
       "      <td>1</td>\n",
       "      <td>1</td>\n",
       "      <td>0</td>\n",
       "      <td>39</td>\n",
       "      <td>270</td>\n",
       "      <td>12</td>\n",
       "      <td>12</td>\n",
       "      <td>...</td>\n",
       "      <td>1</td>\n",
       "      <td>1</td>\n",
       "      <td>1</td>\n",
       "      <td>2</td>\n",
       "      <td>0</td>\n",
       "      <td>0</td>\n",
       "      <td>1810</td>\n",
       "      <td>760</td>\n",
       "      <td>87.0</td>\n",
       "      <td>87.0</td>\n",
       "    </tr>\n",
       "    <tr>\n",
       "      <th>4</th>\n",
       "      <td>BENE11005</td>\n",
       "      <td>1935-09-01</td>\n",
       "      <td>NaT</td>\n",
       "      <td>1</td>\n",
       "      <td>1</td>\n",
       "      <td>0</td>\n",
       "      <td>24</td>\n",
       "      <td>680</td>\n",
       "      <td>12</td>\n",
       "      <td>12</td>\n",
       "      <td>...</td>\n",
       "      <td>2</td>\n",
       "      <td>2</td>\n",
       "      <td>2</td>\n",
       "      <td>2</td>\n",
       "      <td>0</td>\n",
       "      <td>0</td>\n",
       "      <td>1790</td>\n",
       "      <td>1200</td>\n",
       "      <td>74.0</td>\n",
       "      <td>74.0</td>\n",
       "    </tr>\n",
       "  </tbody>\n",
       "</table>\n",
       "<p>5 rows × 27 columns</p>\n",
       "</div>"
      ],
      "text/plain": [
       "      BeneID        DOB DOD  Gender  Race RenalDiseaseIndicator  State  \\\n",
       "0  BENE11001 1943-01-01 NaT       1     1                     0     39   \n",
       "1  BENE11002 1936-09-01 NaT       2     1                     0     39   \n",
       "2  BENE11003 1936-08-01 NaT       1     1                     0     52   \n",
       "3  BENE11004 1922-07-01 NaT       1     1                     0     39   \n",
       "4  BENE11005 1935-09-01 NaT       1     1                     0     24   \n",
       "\n",
       "   County  NoOfMonths_PartACov  NoOfMonths_PartBCov  ...  \\\n",
       "0     230                   12                   12  ...   \n",
       "1     280                   12                   12  ...   \n",
       "2     590                   12                   12  ...   \n",
       "3     270                   12                   12  ...   \n",
       "4     680                   12                   12  ...   \n",
       "\n",
       "   ChronicCond_IschemicHeart  ChronicCond_Osteoporasis  \\\n",
       "0                          1                         2   \n",
       "1                          2                         2   \n",
       "2                          1                         2   \n",
       "3                          1                         1   \n",
       "4                          2                         2   \n",
       "\n",
       "   ChronicCond_rheumatoidarthritis  ChronicCond_stroke  \\\n",
       "0                                1                   1   \n",
       "1                                2                   2   \n",
       "2                                2                   2   \n",
       "3                                1                   2   \n",
       "4                                2                   2   \n",
       "\n",
       "   IPAnnualReimbursementAmt  IPAnnualDeductibleAmt  OPAnnualReimbursementAmt  \\\n",
       "0                     36000                   3204                        60   \n",
       "1                         0                      0                        30   \n",
       "2                         0                      0                        90   \n",
       "3                         0                      0                      1810   \n",
       "4                         0                      0                      1790   \n",
       "\n",
       "   OPAnnualDeductibleAmt   age   Age  \n",
       "0                     70  66.0  67.0  \n",
       "1                     50  73.0  73.0  \n",
       "2                     40  73.0  73.0  \n",
       "3                    760  87.0  87.0  \n",
       "4                   1200  74.0  74.0  \n",
       "\n",
       "[5 rows x 27 columns]"
      ]
     },
     "execution_count": 83,
     "metadata": {},
     "output_type": "execute_result"
    }
   ],
   "source": [
    "beneficiary.head()"
   ]
  },
  {
   "cell_type": "code",
   "execution_count": 84,
   "metadata": {
    "execution": {
     "iopub.execute_input": "2022-06-02T10:54:45.101103Z",
     "iopub.status.busy": "2022-06-02T10:54:45.100685Z",
     "iopub.status.idle": "2022-06-02T10:54:46.515265Z",
     "shell.execute_reply": "2022-06-02T10:54:46.514482Z",
     "shell.execute_reply.started": "2022-06-02T10:54:45.101066Z"
    }
   },
   "outputs": [],
   "source": [
    "## Creating the master DF\n",
    "inpatient['EncounterType'] = 0\n",
    "outpatient['EncounterType'] = 1\n",
    "frames = [inpatient, outpatient]\n",
    "TrainInAndOut = pd.concat(frames)\n",
    "TrainInAndOutBenf = pd.merge(TrainInAndOut, beneficiary, how='inner', on='BeneID')\n",
    "Master_df = pd.merge(TrainInAndOutBenf, train, how='inner', on='Provider')"
   ]
  },
  {
   "cell_type": "code",
   "execution_count": 85,
   "metadata": {
    "execution": {
     "iopub.execute_input": "2022-06-02T10:57:38.961048Z",
     "iopub.status.busy": "2022-06-02T10:57:38.960726Z",
     "iopub.status.idle": "2022-06-02T10:57:38.990825Z",
     "shell.execute_reply": "2022-06-02T10:57:38.990016Z",
     "shell.execute_reply.started": "2022-06-02T10:57:38.961018Z"
    }
   },
   "outputs": [
    {
     "data": {
      "text/html": [
       "<div>\n",
       "<style scoped>\n",
       "    .dataframe tbody tr th:only-of-type {\n",
       "        vertical-align: middle;\n",
       "    }\n",
       "\n",
       "    .dataframe tbody tr th {\n",
       "        vertical-align: top;\n",
       "    }\n",
       "\n",
       "    .dataframe thead th {\n",
       "        text-align: right;\n",
       "    }\n",
       "</style>\n",
       "<table border=\"1\" class=\"dataframe\">\n",
       "  <thead>\n",
       "    <tr style=\"text-align: right;\">\n",
       "      <th></th>\n",
       "      <th>BeneID</th>\n",
       "      <th>ClaimID</th>\n",
       "      <th>ClaimStartDt</th>\n",
       "      <th>ClaimEndDt</th>\n",
       "      <th>Provider</th>\n",
       "      <th>InscClaimAmtReimbursed</th>\n",
       "      <th>AttendingPhysician</th>\n",
       "      <th>OperatingPhysician</th>\n",
       "      <th>OtherPhysician</th>\n",
       "      <th>AdmissionDt</th>\n",
       "      <th>...</th>\n",
       "      <th>ChronicCond_Osteoporasis</th>\n",
       "      <th>ChronicCond_rheumatoidarthritis</th>\n",
       "      <th>ChronicCond_stroke</th>\n",
       "      <th>IPAnnualReimbursementAmt</th>\n",
       "      <th>IPAnnualDeductibleAmt</th>\n",
       "      <th>OPAnnualReimbursementAmt</th>\n",
       "      <th>OPAnnualDeductibleAmt</th>\n",
       "      <th>age</th>\n",
       "      <th>Age</th>\n",
       "      <th>PotentialFraud</th>\n",
       "    </tr>\n",
       "  </thead>\n",
       "  <tbody>\n",
       "    <tr>\n",
       "      <th>0</th>\n",
       "      <td>BENE11001</td>\n",
       "      <td>CLM46614</td>\n",
       "      <td>2009-04-12</td>\n",
       "      <td>2009-04-18</td>\n",
       "      <td>PRV55912</td>\n",
       "      <td>26000</td>\n",
       "      <td>PHY390922</td>\n",
       "      <td>NaN</td>\n",
       "      <td>NaN</td>\n",
       "      <td>2009-04-12</td>\n",
       "      <td>...</td>\n",
       "      <td>2</td>\n",
       "      <td>1</td>\n",
       "      <td>1</td>\n",
       "      <td>36000</td>\n",
       "      <td>3204</td>\n",
       "      <td>60</td>\n",
       "      <td>70</td>\n",
       "      <td>66.0</td>\n",
       "      <td>67.0</td>\n",
       "      <td>Yes</td>\n",
       "    </tr>\n",
       "    <tr>\n",
       "      <th>1</th>\n",
       "      <td>BENE16973</td>\n",
       "      <td>CLM565430</td>\n",
       "      <td>2009-09-06</td>\n",
       "      <td>2009-09-06</td>\n",
       "      <td>PRV55912</td>\n",
       "      <td>50</td>\n",
       "      <td>PHY365867</td>\n",
       "      <td>PHY327147</td>\n",
       "      <td>NaN</td>\n",
       "      <td>NaN</td>\n",
       "      <td>...</td>\n",
       "      <td>2</td>\n",
       "      <td>2</td>\n",
       "      <td>2</td>\n",
       "      <td>24000</td>\n",
       "      <td>2136</td>\n",
       "      <td>450</td>\n",
       "      <td>200</td>\n",
       "      <td>77.0</td>\n",
       "      <td>78.0</td>\n",
       "      <td>Yes</td>\n",
       "    </tr>\n",
       "    <tr>\n",
       "      <th>2</th>\n",
       "      <td>BENE17521</td>\n",
       "      <td>CLM34721</td>\n",
       "      <td>2009-01-20</td>\n",
       "      <td>2009-02-01</td>\n",
       "      <td>PRV55912</td>\n",
       "      <td>19000</td>\n",
       "      <td>PHY349293</td>\n",
       "      <td>PHY370861</td>\n",
       "      <td>PHY363291</td>\n",
       "      <td>2009-01-20</td>\n",
       "      <td>...</td>\n",
       "      <td>2</td>\n",
       "      <td>2</td>\n",
       "      <td>2</td>\n",
       "      <td>19000</td>\n",
       "      <td>1068</td>\n",
       "      <td>100</td>\n",
       "      <td>20</td>\n",
       "      <td>96.0</td>\n",
       "      <td>96.0</td>\n",
       "      <td>Yes</td>\n",
       "    </tr>\n",
       "    <tr>\n",
       "      <th>3</th>\n",
       "      <td>BENE21718</td>\n",
       "      <td>CLM72336</td>\n",
       "      <td>2009-10-17</td>\n",
       "      <td>2009-11-04</td>\n",
       "      <td>PRV55912</td>\n",
       "      <td>17000</td>\n",
       "      <td>PHY334706</td>\n",
       "      <td>PHY334706</td>\n",
       "      <td>NaN</td>\n",
       "      <td>2009-10-17</td>\n",
       "      <td>...</td>\n",
       "      <td>1</td>\n",
       "      <td>2</td>\n",
       "      <td>2</td>\n",
       "      <td>17000</td>\n",
       "      <td>1068</td>\n",
       "      <td>1050</td>\n",
       "      <td>540</td>\n",
       "      <td>87.0</td>\n",
       "      <td>87.0</td>\n",
       "      <td>Yes</td>\n",
       "    </tr>\n",
       "    <tr>\n",
       "      <th>4</th>\n",
       "      <td>BENE22934</td>\n",
       "      <td>CLM73394</td>\n",
       "      <td>2009-10-25</td>\n",
       "      <td>2009-10-29</td>\n",
       "      <td>PRV55912</td>\n",
       "      <td>13000</td>\n",
       "      <td>PHY390614</td>\n",
       "      <td>PHY323689</td>\n",
       "      <td>PHY363291</td>\n",
       "      <td>2009-10-25</td>\n",
       "      <td>...</td>\n",
       "      <td>1</td>\n",
       "      <td>1</td>\n",
       "      <td>2</td>\n",
       "      <td>27000</td>\n",
       "      <td>2136</td>\n",
       "      <td>450</td>\n",
       "      <td>160</td>\n",
       "      <td>79.0</td>\n",
       "      <td>79.0</td>\n",
       "      <td>Yes</td>\n",
       "    </tr>\n",
       "  </tbody>\n",
       "</table>\n",
       "<p>5 rows × 58 columns</p>\n",
       "</div>"
      ],
      "text/plain": [
       "      BeneID    ClaimID ClaimStartDt  ClaimEndDt  Provider  \\\n",
       "0  BENE11001   CLM46614   2009-04-12  2009-04-18  PRV55912   \n",
       "1  BENE16973  CLM565430   2009-09-06  2009-09-06  PRV55912   \n",
       "2  BENE17521   CLM34721   2009-01-20  2009-02-01  PRV55912   \n",
       "3  BENE21718   CLM72336   2009-10-17  2009-11-04  PRV55912   \n",
       "4  BENE22934   CLM73394   2009-10-25  2009-10-29  PRV55912   \n",
       "\n",
       "   InscClaimAmtReimbursed AttendingPhysician OperatingPhysician  \\\n",
       "0                   26000          PHY390922                NaN   \n",
       "1                      50          PHY365867          PHY327147   \n",
       "2                   19000          PHY349293          PHY370861   \n",
       "3                   17000          PHY334706          PHY334706   \n",
       "4                   13000          PHY390614          PHY323689   \n",
       "\n",
       "  OtherPhysician AdmissionDt  ... ChronicCond_Osteoporasis  \\\n",
       "0            NaN  2009-04-12  ...                        2   \n",
       "1            NaN         NaN  ...                        2   \n",
       "2      PHY363291  2009-01-20  ...                        2   \n",
       "3            NaN  2009-10-17  ...                        1   \n",
       "4      PHY363291  2009-10-25  ...                        1   \n",
       "\n",
       "   ChronicCond_rheumatoidarthritis ChronicCond_stroke  \\\n",
       "0                                1                  1   \n",
       "1                                2                  2   \n",
       "2                                2                  2   \n",
       "3                                2                  2   \n",
       "4                                1                  2   \n",
       "\n",
       "  IPAnnualReimbursementAmt IPAnnualDeductibleAmt OPAnnualReimbursementAmt  \\\n",
       "0                    36000                  3204                       60   \n",
       "1                    24000                  2136                      450   \n",
       "2                    19000                  1068                      100   \n",
       "3                    17000                  1068                     1050   \n",
       "4                    27000                  2136                      450   \n",
       "\n",
       "  OPAnnualDeductibleAmt   age   Age PotentialFraud  \n",
       "0                    70  66.0  67.0            Yes  \n",
       "1                   200  77.0  78.0            Yes  \n",
       "2                    20  96.0  96.0            Yes  \n",
       "3                   540  87.0  87.0            Yes  \n",
       "4                   160  79.0  79.0            Yes  \n",
       "\n",
       "[5 rows x 58 columns]"
      ]
     },
     "execution_count": 85,
     "metadata": {},
     "output_type": "execute_result"
    }
   ],
   "source": [
    "Master_df.head()"
   ]
  },
  {
   "cell_type": "code",
   "execution_count": 86,
   "metadata": {
    "execution": {
     "iopub.execute_input": "2022-06-02T10:57:40.590688Z",
     "iopub.status.busy": "2022-06-02T10:57:40.59032Z",
     "iopub.status.idle": "2022-06-02T10:57:40.703245Z",
     "shell.execute_reply": "2022-06-02T10:57:40.702325Z",
     "shell.execute_reply.started": "2022-06-02T10:57:40.590655Z"
    }
   },
   "outputs": [
    {
     "data": {
      "text/plain": [
       "No     345415\n",
       "Yes    212796\n",
       "Name: PotentialFraud, dtype: int64"
      ]
     },
     "execution_count": 86,
     "metadata": {},
     "output_type": "execute_result"
    }
   ],
   "source": [
    "Master_df['PotentialFraud'].value_counts()"
   ]
  },
  {
   "cell_type": "code",
   "execution_count": 87,
   "metadata": {
    "execution": {
     "iopub.execute_input": "2022-06-02T10:57:45.765531Z",
     "iopub.status.busy": "2022-06-02T10:57:45.765179Z",
     "iopub.status.idle": "2022-06-02T10:57:45.771637Z",
     "shell.execute_reply": "2022-06-02T10:57:45.770654Z",
     "shell.execute_reply.started": "2022-06-02T10:57:45.765498Z"
    }
   },
   "outputs": [
    {
     "data": {
      "text/plain": [
       "(558211, 58)"
      ]
     },
     "execution_count": 87,
     "metadata": {},
     "output_type": "execute_result"
    }
   ],
   "source": [
    "Master_df.shape"
   ]
  },
  {
   "cell_type": "code",
   "execution_count": 88,
   "metadata": {
    "execution": {
     "iopub.execute_input": "2022-06-02T10:57:48.5405Z",
     "iopub.status.busy": "2022-06-02T10:57:48.540155Z",
     "iopub.status.idle": "2022-06-02T10:57:50.119553Z",
     "shell.execute_reply": "2022-06-02T10:57:50.118456Z",
     "shell.execute_reply.started": "2022-06-02T10:57:48.540469Z"
    }
   },
   "outputs": [
    {
     "data": {
      "text/plain": [
       "BeneID                                  0\n",
       "ClaimID                                 0\n",
       "ClaimStartDt                            0\n",
       "ClaimEndDt                              0\n",
       "Provider                                0\n",
       "InscClaimAmtReimbursed                  0\n",
       "AttendingPhysician                   1508\n",
       "OperatingPhysician                 443764\n",
       "OtherPhysician                     358475\n",
       "AdmissionDt                        517737\n",
       "ClmAdmitDiagnosisCode              412312\n",
       "DeductibleAmtPaid                     899\n",
       "DischargeDt                        517737\n",
       "DiagnosisGroupCode                 517737\n",
       "ClmDiagnosisCode_1                  10453\n",
       "ClmDiagnosisCode_2                 195606\n",
       "ClmDiagnosisCode_3                 315156\n",
       "ClmDiagnosisCode_4                 393675\n",
       "ClmDiagnosisCode_5                 446287\n",
       "ClmDiagnosisCode_6                 473819\n",
       "ClmDiagnosisCode_7                 492034\n",
       "ClmDiagnosisCode_8                 504767\n",
       "ClmDiagnosisCode_9                 516396\n",
       "ClmDiagnosisCode_10                553201\n",
       "ClmProcedureCode_1                 534901\n",
       "ClmProcedureCode_2                 552721\n",
       "ClmProcedureCode_3                 557242\n",
       "ClmProcedureCode_4                 558093\n",
       "ClmProcedureCode_5                 558202\n",
       "ClmProcedureCode_6                 558211\n",
       "EncounterType                           0\n",
       "DOB                                     0\n",
       "DOD                                554080\n",
       "Gender                                  0\n",
       "Race                                    0\n",
       "RenalDiseaseIndicator                   0\n",
       "State                                   0\n",
       "County                                  0\n",
       "NoOfMonths_PartACov                     0\n",
       "NoOfMonths_PartBCov                     0\n",
       "ChronicCond_Alzheimer                   0\n",
       "ChronicCond_Heartfailure                0\n",
       "ChronicCond_KidneyDisease               0\n",
       "ChronicCond_Cancer                      0\n",
       "ChronicCond_ObstrPulmonary              0\n",
       "ChronicCond_Depression                  0\n",
       "ChronicCond_Diabetes                    0\n",
       "ChronicCond_IschemicHeart               0\n",
       "ChronicCond_Osteoporasis                0\n",
       "ChronicCond_rheumatoidarthritis         0\n",
       "ChronicCond_stroke                      0\n",
       "IPAnnualReimbursementAmt                0\n",
       "IPAnnualDeductibleAmt                   0\n",
       "OPAnnualReimbursementAmt                0\n",
       "OPAnnualDeductibleAmt                   0\n",
       "age                                     0\n",
       "Age                                     0\n",
       "PotentialFraud                          0\n",
       "dtype: int64"
      ]
     },
     "execution_count": 88,
     "metadata": {},
     "output_type": "execute_result"
    }
   ],
   "source": [
    "Master_df.isnull().sum()"
   ]
  },
  {
   "cell_type": "code",
   "execution_count": 89,
   "metadata": {
    "execution": {
     "iopub.execute_input": "2022-06-02T10:59:57.641269Z",
     "iopub.status.busy": "2022-06-02T10:59:57.640927Z",
     "iopub.status.idle": "2022-06-02T10:59:58.735766Z",
     "shell.execute_reply": "2022-06-02T10:59:58.734712Z",
     "shell.execute_reply.started": "2022-06-02T10:59:57.641239Z"
    }
   },
   "outputs": [],
   "source": [
    "## removing the column DOD and DOB also creating a new column IsDead as we already have the age we do not need date of death and date of birth \n",
    "\n",
    "Master_df.loc[Master_df['DOD'].isnull(), 'IsDead'] = '0'\n",
    "Master_df.loc[(Master_df['DOD'].notnull()), 'IsDead'] = '1'\n",
    "Master_df = Master_df.drop(['DOD'], axis = 1)\n",
    "Master_df = Master_df.drop(['DOB'], axis = 1)"
   ]
  },
  {
   "cell_type": "code",
   "execution_count": 90,
   "metadata": {
    "execution": {
     "iopub.execute_input": "2022-06-02T11:00:07.731088Z",
     "iopub.status.busy": "2022-06-02T11:00:07.730768Z",
     "iopub.status.idle": "2022-06-02T11:00:07.995323Z",
     "shell.execute_reply": "2022-06-02T11:00:07.994248Z",
     "shell.execute_reply.started": "2022-06-02T11:00:07.73106Z"
    }
   },
   "outputs": [],
   "source": [
    "Master_df = Master_df.drop(['age'], axis = 1) "
   ]
  },
  {
   "cell_type": "markdown",
   "metadata": {},
   "source": [
    "Calculating the number of days the patient was admitted to the dospital and removing admission and discharge date, For outpatients as they do not get admitted will put number of days admitted = 0"
   ]
  },
  {
   "cell_type": "code",
   "execution_count": 91,
   "metadata": {
    "execution": {
     "iopub.execute_input": "2022-06-02T11:01:44.310233Z",
     "iopub.status.busy": "2022-06-02T11:01:44.309894Z",
     "iopub.status.idle": "2022-06-02T11:01:46.485729Z",
     "shell.execute_reply": "2022-06-02T11:01:46.484905Z",
     "shell.execute_reply.started": "2022-06-02T11:01:44.310203Z"
    }
   },
   "outputs": [],
   "source": [
    "Master_df['AdmissionDt'] = pd.to_datetime(Master_df['AdmissionDt'] , format = '%Y-%m-%d')\n",
    "Master_df['DischargeDt'] = pd.to_datetime(Master_df['DischargeDt'],format = '%Y-%m-%d')\n",
    "Master_df['DaysAdmitted'] = ((Master_df['DischargeDt'] - Master_df['AdmissionDt']).dt.days)+1\n",
    "Master_df.loc[Master_df['EncounterType'] == 1, 'DaysAdmitted'] = '0'\n",
    "Master_df[['EncounterType','DaysAdmitted','DischargeDt','AdmissionDt']].head()\n",
    "Master_df = Master_df.drop(['DischargeDt'], axis = 1)\n",
    "Master_df = Master_df.drop(['AdmissionDt'], axis = 1)"
   ]
  },
  {
   "cell_type": "code",
   "execution_count": 92,
   "metadata": {
    "execution": {
     "iopub.execute_input": "2022-06-02T11:04:06.993174Z",
     "iopub.status.busy": "2022-06-02T11:04:06.99285Z",
     "iopub.status.idle": "2022-06-02T11:04:07.033142Z",
     "shell.execute_reply": "2022-06-02T11:04:07.032342Z",
     "shell.execute_reply.started": "2022-06-02T11:04:06.993144Z"
    }
   },
   "outputs": [],
   "source": [
    "Master_df.loc[Master_df['DeductibleAmtPaid'].isnull(), 'DeductibleAmtPaid'] = '0'"
   ]
  },
  {
   "cell_type": "code",
   "execution_count": 93,
   "metadata": {
    "execution": {
     "iopub.execute_input": "2022-06-02T11:04:19.941309Z",
     "iopub.status.busy": "2022-06-02T11:04:19.940982Z",
     "iopub.status.idle": "2022-06-02T11:04:19.946283Z",
     "shell.execute_reply": "2022-06-02T11:04:19.945355Z",
     "shell.execute_reply.started": "2022-06-02T11:04:19.941272Z"
    }
   },
   "outputs": [],
   "source": [
    "cols= ['ClmAdmitDiagnosisCode', 'ClmDiagnosisCode_1', 'ClmDiagnosisCode_10',\n",
    "       'ClmDiagnosisCode_2', 'ClmDiagnosisCode_3', 'ClmDiagnosisCode_4',\n",
    "       'ClmDiagnosisCode_5', 'ClmDiagnosisCode_6', 'ClmDiagnosisCode_7',\n",
    "       'ClmDiagnosisCode_8', 'ClmDiagnosisCode_9', 'ClmProcedureCode_1',\n",
    "       'ClmProcedureCode_2', 'ClmProcedureCode_3', 'ClmProcedureCode_4',\n",
    "       'ClmProcedureCode_5', 'ClmProcedureCode_6']"
   ]
  },
  {
   "cell_type": "code",
   "execution_count": 94,
   "metadata": {
    "execution": {
     "iopub.execute_input": "2022-06-02T11:04:53.185594Z",
     "iopub.status.busy": "2022-06-02T11:04:53.185216Z",
     "iopub.status.idle": "2022-06-02T11:04:55.935289Z",
     "shell.execute_reply": "2022-06-02T11:04:55.934419Z",
     "shell.execute_reply.started": "2022-06-02T11:04:53.185563Z"
    }
   },
   "outputs": [
    {
     "data": {
      "text/html": [
       "<div>\n",
       "<style scoped>\n",
       "    .dataframe tbody tr th:only-of-type {\n",
       "        vertical-align: middle;\n",
       "    }\n",
       "\n",
       "    .dataframe tbody tr th {\n",
       "        vertical-align: top;\n",
       "    }\n",
       "\n",
       "    .dataframe thead th {\n",
       "        text-align: right;\n",
       "    }\n",
       "</style>\n",
       "<table border=\"1\" class=\"dataframe\">\n",
       "  <thead>\n",
       "    <tr style=\"text-align: right;\">\n",
       "      <th></th>\n",
       "      <th>BeneID</th>\n",
       "      <th>ClaimID</th>\n",
       "      <th>ClaimStartDt</th>\n",
       "      <th>ClaimEndDt</th>\n",
       "      <th>Provider</th>\n",
       "      <th>InscClaimAmtReimbursed</th>\n",
       "      <th>AttendingPhysician</th>\n",
       "      <th>OperatingPhysician</th>\n",
       "      <th>OtherPhysician</th>\n",
       "      <th>ClmAdmitDiagnosisCode</th>\n",
       "      <th>...</th>\n",
       "      <th>ChronicCond_rheumatoidarthritis</th>\n",
       "      <th>ChronicCond_stroke</th>\n",
       "      <th>IPAnnualReimbursementAmt</th>\n",
       "      <th>IPAnnualDeductibleAmt</th>\n",
       "      <th>OPAnnualReimbursementAmt</th>\n",
       "      <th>OPAnnualDeductibleAmt</th>\n",
       "      <th>Age</th>\n",
       "      <th>PotentialFraud</th>\n",
       "      <th>IsDead</th>\n",
       "      <th>DaysAdmitted</th>\n",
       "    </tr>\n",
       "  </thead>\n",
       "  <tbody>\n",
       "    <tr>\n",
       "      <th>0</th>\n",
       "      <td>BENE11001</td>\n",
       "      <td>CLM46614</td>\n",
       "      <td>2009-04-12</td>\n",
       "      <td>2009-04-18</td>\n",
       "      <td>PRV55912</td>\n",
       "      <td>26000</td>\n",
       "      <td>PHY390922</td>\n",
       "      <td>NaN</td>\n",
       "      <td>NaN</td>\n",
       "      <td>7866</td>\n",
       "      <td>...</td>\n",
       "      <td>1</td>\n",
       "      <td>1</td>\n",
       "      <td>36000</td>\n",
       "      <td>3204</td>\n",
       "      <td>60</td>\n",
       "      <td>70</td>\n",
       "      <td>67.0</td>\n",
       "      <td>Yes</td>\n",
       "      <td>0</td>\n",
       "      <td>7.0</td>\n",
       "    </tr>\n",
       "    <tr>\n",
       "      <th>1</th>\n",
       "      <td>BENE16973</td>\n",
       "      <td>CLM565430</td>\n",
       "      <td>2009-09-06</td>\n",
       "      <td>2009-09-06</td>\n",
       "      <td>PRV55912</td>\n",
       "      <td>50</td>\n",
       "      <td>PHY365867</td>\n",
       "      <td>PHY327147</td>\n",
       "      <td>NaN</td>\n",
       "      <td>0</td>\n",
       "      <td>...</td>\n",
       "      <td>2</td>\n",
       "      <td>2</td>\n",
       "      <td>24000</td>\n",
       "      <td>2136</td>\n",
       "      <td>450</td>\n",
       "      <td>200</td>\n",
       "      <td>78.0</td>\n",
       "      <td>Yes</td>\n",
       "      <td>0</td>\n",
       "      <td>0</td>\n",
       "    </tr>\n",
       "    <tr>\n",
       "      <th>2</th>\n",
       "      <td>BENE17521</td>\n",
       "      <td>CLM34721</td>\n",
       "      <td>2009-01-20</td>\n",
       "      <td>2009-02-01</td>\n",
       "      <td>PRV55912</td>\n",
       "      <td>19000</td>\n",
       "      <td>PHY349293</td>\n",
       "      <td>PHY370861</td>\n",
       "      <td>PHY363291</td>\n",
       "      <td>45340</td>\n",
       "      <td>...</td>\n",
       "      <td>2</td>\n",
       "      <td>2</td>\n",
       "      <td>19000</td>\n",
       "      <td>1068</td>\n",
       "      <td>100</td>\n",
       "      <td>20</td>\n",
       "      <td>96.0</td>\n",
       "      <td>Yes</td>\n",
       "      <td>0</td>\n",
       "      <td>13.0</td>\n",
       "    </tr>\n",
       "    <tr>\n",
       "      <th>3</th>\n",
       "      <td>BENE21718</td>\n",
       "      <td>CLM72336</td>\n",
       "      <td>2009-10-17</td>\n",
       "      <td>2009-11-04</td>\n",
       "      <td>PRV55912</td>\n",
       "      <td>17000</td>\n",
       "      <td>PHY334706</td>\n",
       "      <td>PHY334706</td>\n",
       "      <td>NaN</td>\n",
       "      <td>V5789</td>\n",
       "      <td>...</td>\n",
       "      <td>2</td>\n",
       "      <td>2</td>\n",
       "      <td>17000</td>\n",
       "      <td>1068</td>\n",
       "      <td>1050</td>\n",
       "      <td>540</td>\n",
       "      <td>87.0</td>\n",
       "      <td>Yes</td>\n",
       "      <td>0</td>\n",
       "      <td>19.0</td>\n",
       "    </tr>\n",
       "    <tr>\n",
       "      <th>4</th>\n",
       "      <td>BENE22934</td>\n",
       "      <td>CLM73394</td>\n",
       "      <td>2009-10-25</td>\n",
       "      <td>2009-10-29</td>\n",
       "      <td>PRV55912</td>\n",
       "      <td>13000</td>\n",
       "      <td>PHY390614</td>\n",
       "      <td>PHY323689</td>\n",
       "      <td>PHY363291</td>\n",
       "      <td>71946</td>\n",
       "      <td>...</td>\n",
       "      <td>1</td>\n",
       "      <td>2</td>\n",
       "      <td>27000</td>\n",
       "      <td>2136</td>\n",
       "      <td>450</td>\n",
       "      <td>160</td>\n",
       "      <td>79.0</td>\n",
       "      <td>Yes</td>\n",
       "      <td>0</td>\n",
       "      <td>5.0</td>\n",
       "    </tr>\n",
       "    <tr>\n",
       "      <th>...</th>\n",
       "      <td>...</td>\n",
       "      <td>...</td>\n",
       "      <td>...</td>\n",
       "      <td>...</td>\n",
       "      <td>...</td>\n",
       "      <td>...</td>\n",
       "      <td>...</td>\n",
       "      <td>...</td>\n",
       "      <td>...</td>\n",
       "      <td>...</td>\n",
       "      <td>...</td>\n",
       "      <td>...</td>\n",
       "      <td>...</td>\n",
       "      <td>...</td>\n",
       "      <td>...</td>\n",
       "      <td>...</td>\n",
       "      <td>...</td>\n",
       "      <td>...</td>\n",
       "      <td>...</td>\n",
       "      <td>...</td>\n",
       "      <td>...</td>\n",
       "    </tr>\n",
       "    <tr>\n",
       "      <th>558206</th>\n",
       "      <td>BENE154147</td>\n",
       "      <td>CLM394122</td>\n",
       "      <td>2009-06-02</td>\n",
       "      <td>2009-06-04</td>\n",
       "      <td>PRV54050</td>\n",
       "      <td>500</td>\n",
       "      <td>PHY317497</td>\n",
       "      <td>NaN</td>\n",
       "      <td>PHY317497</td>\n",
       "      <td>0</td>\n",
       "      <td>...</td>\n",
       "      <td>2</td>\n",
       "      <td>2</td>\n",
       "      <td>0</td>\n",
       "      <td>0</td>\n",
       "      <td>890</td>\n",
       "      <td>120</td>\n",
       "      <td>85.0</td>\n",
       "      <td>No</td>\n",
       "      <td>0</td>\n",
       "      <td>0</td>\n",
       "    </tr>\n",
       "    <tr>\n",
       "      <th>558207</th>\n",
       "      <td>BENE154687</td>\n",
       "      <td>CLM184358</td>\n",
       "      <td>2009-02-08</td>\n",
       "      <td>2009-02-08</td>\n",
       "      <td>PRV54302</td>\n",
       "      <td>3300</td>\n",
       "      <td>PHY376238</td>\n",
       "      <td>PHY376238</td>\n",
       "      <td>NaN</td>\n",
       "      <td>99639</td>\n",
       "      <td>...</td>\n",
       "      <td>1</td>\n",
       "      <td>2</td>\n",
       "      <td>0</td>\n",
       "      <td>0</td>\n",
       "      <td>4400</td>\n",
       "      <td>220</td>\n",
       "      <td>83.0</td>\n",
       "      <td>No</td>\n",
       "      <td>0</td>\n",
       "      <td>0</td>\n",
       "    </tr>\n",
       "    <tr>\n",
       "      <th>558208</th>\n",
       "      <td>BENE157378</td>\n",
       "      <td>CLM460770</td>\n",
       "      <td>2009-07-09</td>\n",
       "      <td>2009-07-29</td>\n",
       "      <td>PRV51577</td>\n",
       "      <td>2100</td>\n",
       "      <td>PHY338096</td>\n",
       "      <td>NaN</td>\n",
       "      <td>NaN</td>\n",
       "      <td>0</td>\n",
       "      <td>...</td>\n",
       "      <td>2</td>\n",
       "      <td>2</td>\n",
       "      <td>0</td>\n",
       "      <td>0</td>\n",
       "      <td>14240</td>\n",
       "      <td>2810</td>\n",
       "      <td>64.0</td>\n",
       "      <td>No</td>\n",
       "      <td>0</td>\n",
       "      <td>0</td>\n",
       "    </tr>\n",
       "    <tr>\n",
       "      <th>558209</th>\n",
       "      <td>BENE158295</td>\n",
       "      <td>CLM306999</td>\n",
       "      <td>2009-04-16</td>\n",
       "      <td>2009-04-16</td>\n",
       "      <td>PRV53083</td>\n",
       "      <td>10</td>\n",
       "      <td>PHY416646</td>\n",
       "      <td>NaN</td>\n",
       "      <td>NaN</td>\n",
       "      <td>0</td>\n",
       "      <td>...</td>\n",
       "      <td>1</td>\n",
       "      <td>2</td>\n",
       "      <td>0</td>\n",
       "      <td>0</td>\n",
       "      <td>640</td>\n",
       "      <td>350</td>\n",
       "      <td>85.0</td>\n",
       "      <td>No</td>\n",
       "      <td>0</td>\n",
       "      <td>0</td>\n",
       "    </tr>\n",
       "    <tr>\n",
       "      <th>558210</th>\n",
       "      <td>BENE158736</td>\n",
       "      <td>CLM589654</td>\n",
       "      <td>2009-09-20</td>\n",
       "      <td>2009-09-20</td>\n",
       "      <td>PRV56377</td>\n",
       "      <td>60</td>\n",
       "      <td>PHY392440</td>\n",
       "      <td>NaN</td>\n",
       "      <td>PHY392440</td>\n",
       "      <td>0</td>\n",
       "      <td>...</td>\n",
       "      <td>1</td>\n",
       "      <td>1</td>\n",
       "      <td>0</td>\n",
       "      <td>0</td>\n",
       "      <td>3220</td>\n",
       "      <td>1270</td>\n",
       "      <td>66.0</td>\n",
       "      <td>No</td>\n",
       "      <td>0</td>\n",
       "      <td>0</td>\n",
       "    </tr>\n",
       "  </tbody>\n",
       "</table>\n",
       "<p>558211 rows × 55 columns</p>\n",
       "</div>"
      ],
      "text/plain": [
       "            BeneID    ClaimID ClaimStartDt  ClaimEndDt  Provider  \\\n",
       "0        BENE11001   CLM46614   2009-04-12  2009-04-18  PRV55912   \n",
       "1        BENE16973  CLM565430   2009-09-06  2009-09-06  PRV55912   \n",
       "2        BENE17521   CLM34721   2009-01-20  2009-02-01  PRV55912   \n",
       "3        BENE21718   CLM72336   2009-10-17  2009-11-04  PRV55912   \n",
       "4        BENE22934   CLM73394   2009-10-25  2009-10-29  PRV55912   \n",
       "...            ...        ...          ...         ...       ...   \n",
       "558206  BENE154147  CLM394122   2009-06-02  2009-06-04  PRV54050   \n",
       "558207  BENE154687  CLM184358   2009-02-08  2009-02-08  PRV54302   \n",
       "558208  BENE157378  CLM460770   2009-07-09  2009-07-29  PRV51577   \n",
       "558209  BENE158295  CLM306999   2009-04-16  2009-04-16  PRV53083   \n",
       "558210  BENE158736  CLM589654   2009-09-20  2009-09-20  PRV56377   \n",
       "\n",
       "        InscClaimAmtReimbursed AttendingPhysician OperatingPhysician  \\\n",
       "0                        26000          PHY390922                NaN   \n",
       "1                           50          PHY365867          PHY327147   \n",
       "2                        19000          PHY349293          PHY370861   \n",
       "3                        17000          PHY334706          PHY334706   \n",
       "4                        13000          PHY390614          PHY323689   \n",
       "...                        ...                ...                ...   \n",
       "558206                     500          PHY317497                NaN   \n",
       "558207                    3300          PHY376238          PHY376238   \n",
       "558208                    2100          PHY338096                NaN   \n",
       "558209                      10          PHY416646                NaN   \n",
       "558210                      60          PHY392440                NaN   \n",
       "\n",
       "       OtherPhysician ClmAdmitDiagnosisCode  ...  \\\n",
       "0                 NaN                  7866  ...   \n",
       "1                 NaN                     0  ...   \n",
       "2           PHY363291                 45340  ...   \n",
       "3                 NaN                 V5789  ...   \n",
       "4           PHY363291                 71946  ...   \n",
       "...               ...                   ...  ...   \n",
       "558206      PHY317497                     0  ...   \n",
       "558207            NaN                 99639  ...   \n",
       "558208            NaN                     0  ...   \n",
       "558209            NaN                     0  ...   \n",
       "558210      PHY392440                     0  ...   \n",
       "\n",
       "       ChronicCond_rheumatoidarthritis ChronicCond_stroke  \\\n",
       "0                                    1                  1   \n",
       "1                                    2                  2   \n",
       "2                                    2                  2   \n",
       "3                                    2                  2   \n",
       "4                                    1                  2   \n",
       "...                                ...                ...   \n",
       "558206                               2                  2   \n",
       "558207                               1                  2   \n",
       "558208                               2                  2   \n",
       "558209                               1                  2   \n",
       "558210                               1                  1   \n",
       "\n",
       "       IPAnnualReimbursementAmt IPAnnualDeductibleAmt  \\\n",
       "0                         36000                  3204   \n",
       "1                         24000                  2136   \n",
       "2                         19000                  1068   \n",
       "3                         17000                  1068   \n",
       "4                         27000                  2136   \n",
       "...                         ...                   ...   \n",
       "558206                        0                     0   \n",
       "558207                        0                     0   \n",
       "558208                        0                     0   \n",
       "558209                        0                     0   \n",
       "558210                        0                     0   \n",
       "\n",
       "       OPAnnualReimbursementAmt OPAnnualDeductibleAmt   Age PotentialFraud  \\\n",
       "0                            60                    70  67.0            Yes   \n",
       "1                           450                   200  78.0            Yes   \n",
       "2                           100                    20  96.0            Yes   \n",
       "3                          1050                   540  87.0            Yes   \n",
       "4                           450                   160  79.0            Yes   \n",
       "...                         ...                   ...   ...            ...   \n",
       "558206                      890                   120  85.0             No   \n",
       "558207                     4400                   220  83.0             No   \n",
       "558208                    14240                  2810  64.0             No   \n",
       "558209                      640                   350  85.0             No   \n",
       "558210                     3220                  1270  66.0             No   \n",
       "\n",
       "       IsDead DaysAdmitted  \n",
       "0           0          7.0  \n",
       "1           0            0  \n",
       "2           0         13.0  \n",
       "3           0         19.0  \n",
       "4           0          5.0  \n",
       "...       ...          ...  \n",
       "558206      0            0  \n",
       "558207      0            0  \n",
       "558208      0            0  \n",
       "558209      0            0  \n",
       "558210      0            0  \n",
       "\n",
       "[558211 rows x 55 columns]"
      ]
     },
     "execution_count": 94,
     "metadata": {},
     "output_type": "execute_result"
    }
   ],
   "source": [
    "Master_df[cols]= Master_df[cols].replace({np.nan:0})\n",
    "Master_df"
   ]
  },
  {
   "cell_type": "code",
   "execution_count": 95,
   "metadata": {
    "execution": {
     "iopub.execute_input": "2022-06-02T11:07:16.665248Z",
     "iopub.status.busy": "2022-06-02T11:07:16.664921Z",
     "iopub.status.idle": "2022-06-02T11:07:17.50085Z",
     "shell.execute_reply": "2022-06-02T11:07:17.500085Z",
     "shell.execute_reply.started": "2022-06-02T11:07:16.665218Z"
    }
   },
   "outputs": [
    {
     "name": "stderr",
     "output_type": "stream",
     "text": [
      "C:\\Users\\302201\\AppData\\Local\\Temp/ipykernel_5172/1718562570.py:2: SettingWithCopyWarning: \n",
      "A value is trying to be set on a copy of a slice from a DataFrame\n",
      "\n",
      "See the caveats in the documentation: https://pandas.pydata.org/pandas-docs/stable/user_guide/indexing.html#returning-a-view-versus-a-copy\n",
      "  Master_df[i][Master_df[i]!=0]= 1\n"
     ]
    }
   ],
   "source": [
    "for i in cols:\n",
    "    Master_df[i][Master_df[i]!=0]= 1"
   ]
  },
  {
   "cell_type": "code",
   "execution_count": 96,
   "metadata": {
    "execution": {
     "iopub.execute_input": "2022-06-02T11:07:22.369874Z",
     "iopub.status.busy": "2022-06-02T11:07:22.369544Z",
     "iopub.status.idle": "2022-06-02T11:07:25.102465Z",
     "shell.execute_reply": "2022-06-02T11:07:25.101681Z",
     "shell.execute_reply.started": "2022-06-02T11:07:22.369844Z"
    }
   },
   "outputs": [],
   "source": [
    "Master_df[cols]= Master_df[cols].astype(float)"
   ]
  },
  {
   "cell_type": "code",
   "execution_count": 97,
   "metadata": {
    "execution": {
     "iopub.execute_input": "2022-06-02T11:07:41.390712Z",
     "iopub.status.busy": "2022-06-02T11:07:41.390364Z",
     "iopub.status.idle": "2022-06-02T11:07:41.409912Z",
     "shell.execute_reply": "2022-06-02T11:07:41.409007Z",
     "shell.execute_reply.started": "2022-06-02T11:07:41.390682Z"
    }
   },
   "outputs": [],
   "source": [
    "Master_df['TotalDiagnosis']= Master_df['ClmDiagnosisCode_1']+Master_df['ClmDiagnosisCode_10']+Master_df['ClmDiagnosisCode_2']+ Master_df['ClmDiagnosisCode_3']+ Master_df['ClmDiagnosisCode_4']+Master_df['ClmDiagnosisCode_5']+ Master_df['ClmDiagnosisCode_6']+ Master_df['ClmDiagnosisCode_7']+Master_df['ClmDiagnosisCode_8']+ Master_df['ClmDiagnosisCode_9']"
   ]
  },
  {
   "cell_type": "code",
   "execution_count": 98,
   "metadata": {
    "execution": {
     "iopub.execute_input": "2022-06-02T11:07:42.945256Z",
     "iopub.status.busy": "2022-06-02T11:07:42.944923Z",
     "iopub.status.idle": "2022-06-02T11:07:42.959929Z",
     "shell.execute_reply": "2022-06-02T11:07:42.959141Z",
     "shell.execute_reply.started": "2022-06-02T11:07:42.945219Z"
    }
   },
   "outputs": [],
   "source": [
    "Master_df['TotalProcedure']= Master_df['ClmProcedureCode_1']+Master_df['ClmProcedureCode_2']+Master_df['ClmProcedureCode_3']+ Master_df['ClmProcedureCode_4']+ Master_df['ClmProcedureCode_5']+Master_df['ClmProcedureCode_6']"
   ]
  },
  {
   "cell_type": "markdown",
   "metadata": {},
   "source": [
    "Removing coulmns which are not necessary"
   ]
  },
  {
   "cell_type": "code",
   "execution_count": 99,
   "metadata": {
    "execution": {
     "iopub.execute_input": "2022-06-02T11:07:48.680277Z",
     "iopub.status.busy": "2022-06-02T11:07:48.67996Z",
     "iopub.status.idle": "2022-06-02T11:07:48.686786Z",
     "shell.execute_reply": "2022-06-02T11:07:48.685799Z",
     "shell.execute_reply.started": "2022-06-02T11:07:48.680247Z"
    }
   },
   "outputs": [
    {
     "data": {
      "text/plain": [
       "Index(['BeneID', 'ClaimID', 'ClaimStartDt', 'ClaimEndDt', 'Provider',\n",
       "       'InscClaimAmtReimbursed', 'AttendingPhysician', 'OperatingPhysician',\n",
       "       'OtherPhysician', 'ClmAdmitDiagnosisCode', 'DeductibleAmtPaid',\n",
       "       'DiagnosisGroupCode', 'ClmDiagnosisCode_1', 'ClmDiagnosisCode_2',\n",
       "       'ClmDiagnosisCode_3', 'ClmDiagnosisCode_4', 'ClmDiagnosisCode_5',\n",
       "       'ClmDiagnosisCode_6', 'ClmDiagnosisCode_7', 'ClmDiagnosisCode_8',\n",
       "       'ClmDiagnosisCode_9', 'ClmDiagnosisCode_10', 'ClmProcedureCode_1',\n",
       "       'ClmProcedureCode_2', 'ClmProcedureCode_3', 'ClmProcedureCode_4',\n",
       "       'ClmProcedureCode_5', 'ClmProcedureCode_6', 'EncounterType', 'Gender',\n",
       "       'Race', 'RenalDiseaseIndicator', 'State', 'County',\n",
       "       'NoOfMonths_PartACov', 'NoOfMonths_PartBCov', 'ChronicCond_Alzheimer',\n",
       "       'ChronicCond_Heartfailure', 'ChronicCond_KidneyDisease',\n",
       "       'ChronicCond_Cancer', 'ChronicCond_ObstrPulmonary',\n",
       "       'ChronicCond_Depression', 'ChronicCond_Diabetes',\n",
       "       'ChronicCond_IschemicHeart', 'ChronicCond_Osteoporasis',\n",
       "       'ChronicCond_rheumatoidarthritis', 'ChronicCond_stroke',\n",
       "       'IPAnnualReimbursementAmt', 'IPAnnualDeductibleAmt',\n",
       "       'OPAnnualReimbursementAmt', 'OPAnnualDeductibleAmt', 'Age',\n",
       "       'PotentialFraud', 'IsDead', 'DaysAdmitted', 'TotalDiagnosis',\n",
       "       'TotalProcedure'],\n",
       "      dtype='object')"
      ]
     },
     "execution_count": 99,
     "metadata": {},
     "output_type": "execute_result"
    }
   ],
   "source": [
    "Master_df.columns"
   ]
  },
  {
   "cell_type": "code",
   "execution_count": 100,
   "metadata": {
    "execution": {
     "iopub.execute_input": "2022-06-02T11:08:49.870761Z",
     "iopub.status.busy": "2022-06-02T11:08:49.870437Z",
     "iopub.status.idle": "2022-06-02T11:08:49.876695Z",
     "shell.execute_reply": "2022-06-02T11:08:49.875711Z",
     "shell.execute_reply.started": "2022-06-02T11:08:49.87073Z"
    }
   },
   "outputs": [],
   "source": [
    "remove=['Provider','BeneID', 'ClaimID', 'ClaimStartDt','ClaimEndDt','AttendingPhysician',\n",
    "       'OperatingPhysician', 'OtherPhysician', 'ClmDiagnosisCode_1',\n",
    "       'ClmDiagnosisCode_2', 'ClmDiagnosisCode_3', 'ClmDiagnosisCode_4',\n",
    "       'ClmDiagnosisCode_5', 'ClmDiagnosisCode_6', 'ClmDiagnosisCode_7',\n",
    "       'ClmDiagnosisCode_8', 'ClmDiagnosisCode_9', 'ClmDiagnosisCode_10',\n",
    "       'ClmProcedureCode_1', 'ClmProcedureCode_2', 'ClmProcedureCode_3',\n",
    "       'ClmProcedureCode_4', 'ClmProcedureCode_5', 'ClmProcedureCode_6',\n",
    "       'ClmAdmitDiagnosisCode','DeductibleAmtPaid','NoOfMonths_PartACov',\n",
    "        'NoOfMonths_PartBCov','DiagnosisGroupCode',\n",
    "        'State', 'County']"
   ]
  },
  {
   "cell_type": "code",
   "execution_count": 101,
   "metadata": {
    "execution": {
     "iopub.execute_input": "2022-06-02T11:08:56.711293Z",
     "iopub.status.busy": "2022-06-02T11:08:56.710972Z",
     "iopub.status.idle": "2022-06-02T11:08:56.866967Z",
     "shell.execute_reply": "2022-06-02T11:08:56.866164Z",
     "shell.execute_reply.started": "2022-06-02T11:08:56.711256Z"
    }
   },
   "outputs": [],
   "source": [
    "Master_df.drop(columns=remove, axis=1, inplace=True)"
   ]
  },
  {
   "cell_type": "code",
   "execution_count": 102,
   "metadata": {
    "execution": {
     "iopub.execute_input": "2022-06-02T11:09:28.350697Z",
     "iopub.status.busy": "2022-06-02T11:09:28.350329Z",
     "iopub.status.idle": "2022-06-02T11:09:28.374731Z",
     "shell.execute_reply": "2022-06-02T11:09:28.373749Z",
     "shell.execute_reply.started": "2022-06-02T11:09:28.350666Z"
    }
   },
   "outputs": [
    {
     "data": {
      "text/html": [
       "<div>\n",
       "<style scoped>\n",
       "    .dataframe tbody tr th:only-of-type {\n",
       "        vertical-align: middle;\n",
       "    }\n",
       "\n",
       "    .dataframe tbody tr th {\n",
       "        vertical-align: top;\n",
       "    }\n",
       "\n",
       "    .dataframe thead th {\n",
       "        text-align: right;\n",
       "    }\n",
       "</style>\n",
       "<table border=\"1\" class=\"dataframe\">\n",
       "  <thead>\n",
       "    <tr style=\"text-align: right;\">\n",
       "      <th></th>\n",
       "      <th>InscClaimAmtReimbursed</th>\n",
       "      <th>EncounterType</th>\n",
       "      <th>Gender</th>\n",
       "      <th>Race</th>\n",
       "      <th>RenalDiseaseIndicator</th>\n",
       "      <th>ChronicCond_Alzheimer</th>\n",
       "      <th>ChronicCond_Heartfailure</th>\n",
       "      <th>ChronicCond_KidneyDisease</th>\n",
       "      <th>ChronicCond_Cancer</th>\n",
       "      <th>ChronicCond_ObstrPulmonary</th>\n",
       "      <th>...</th>\n",
       "      <th>IPAnnualReimbursementAmt</th>\n",
       "      <th>IPAnnualDeductibleAmt</th>\n",
       "      <th>OPAnnualReimbursementAmt</th>\n",
       "      <th>OPAnnualDeductibleAmt</th>\n",
       "      <th>Age</th>\n",
       "      <th>PotentialFraud</th>\n",
       "      <th>IsDead</th>\n",
       "      <th>DaysAdmitted</th>\n",
       "      <th>TotalDiagnosis</th>\n",
       "      <th>TotalProcedure</th>\n",
       "    </tr>\n",
       "  </thead>\n",
       "  <tbody>\n",
       "    <tr>\n",
       "      <th>0</th>\n",
       "      <td>26000</td>\n",
       "      <td>0</td>\n",
       "      <td>1</td>\n",
       "      <td>1</td>\n",
       "      <td>0</td>\n",
       "      <td>1</td>\n",
       "      <td>2</td>\n",
       "      <td>1</td>\n",
       "      <td>2</td>\n",
       "      <td>2</td>\n",
       "      <td>...</td>\n",
       "      <td>36000</td>\n",
       "      <td>3204</td>\n",
       "      <td>60</td>\n",
       "      <td>70</td>\n",
       "      <td>67.0</td>\n",
       "      <td>Yes</td>\n",
       "      <td>0</td>\n",
       "      <td>7.0</td>\n",
       "      <td>9.0</td>\n",
       "      <td>0.0</td>\n",
       "    </tr>\n",
       "    <tr>\n",
       "      <th>1</th>\n",
       "      <td>50</td>\n",
       "      <td>1</td>\n",
       "      <td>1</td>\n",
       "      <td>1</td>\n",
       "      <td>0</td>\n",
       "      <td>1</td>\n",
       "      <td>1</td>\n",
       "      <td>1</td>\n",
       "      <td>2</td>\n",
       "      <td>2</td>\n",
       "      <td>...</td>\n",
       "      <td>24000</td>\n",
       "      <td>2136</td>\n",
       "      <td>450</td>\n",
       "      <td>200</td>\n",
       "      <td>78.0</td>\n",
       "      <td>Yes</td>\n",
       "      <td>0</td>\n",
       "      <td>0</td>\n",
       "      <td>9.0</td>\n",
       "      <td>0.0</td>\n",
       "    </tr>\n",
       "    <tr>\n",
       "      <th>2</th>\n",
       "      <td>19000</td>\n",
       "      <td>0</td>\n",
       "      <td>2</td>\n",
       "      <td>1</td>\n",
       "      <td>0</td>\n",
       "      <td>1</td>\n",
       "      <td>1</td>\n",
       "      <td>1</td>\n",
       "      <td>2</td>\n",
       "      <td>1</td>\n",
       "      <td>...</td>\n",
       "      <td>19000</td>\n",
       "      <td>1068</td>\n",
       "      <td>100</td>\n",
       "      <td>20</td>\n",
       "      <td>96.0</td>\n",
       "      <td>Yes</td>\n",
       "      <td>0</td>\n",
       "      <td>13.0</td>\n",
       "      <td>9.0</td>\n",
       "      <td>2.0</td>\n",
       "    </tr>\n",
       "    <tr>\n",
       "      <th>3</th>\n",
       "      <td>17000</td>\n",
       "      <td>0</td>\n",
       "      <td>1</td>\n",
       "      <td>1</td>\n",
       "      <td>0</td>\n",
       "      <td>2</td>\n",
       "      <td>2</td>\n",
       "      <td>2</td>\n",
       "      <td>2</td>\n",
       "      <td>2</td>\n",
       "      <td>...</td>\n",
       "      <td>17000</td>\n",
       "      <td>1068</td>\n",
       "      <td>1050</td>\n",
       "      <td>540</td>\n",
       "      <td>87.0</td>\n",
       "      <td>Yes</td>\n",
       "      <td>0</td>\n",
       "      <td>19.0</td>\n",
       "      <td>9.0</td>\n",
       "      <td>1.0</td>\n",
       "    </tr>\n",
       "    <tr>\n",
       "      <th>4</th>\n",
       "      <td>13000</td>\n",
       "      <td>0</td>\n",
       "      <td>2</td>\n",
       "      <td>1</td>\n",
       "      <td>0</td>\n",
       "      <td>2</td>\n",
       "      <td>1</td>\n",
       "      <td>2</td>\n",
       "      <td>2</td>\n",
       "      <td>1</td>\n",
       "      <td>...</td>\n",
       "      <td>27000</td>\n",
       "      <td>2136</td>\n",
       "      <td>450</td>\n",
       "      <td>160</td>\n",
       "      <td>79.0</td>\n",
       "      <td>Yes</td>\n",
       "      <td>0</td>\n",
       "      <td>5.0</td>\n",
       "      <td>7.0</td>\n",
       "      <td>1.0</td>\n",
       "    </tr>\n",
       "  </tbody>\n",
       "</table>\n",
       "<p>5 rows × 26 columns</p>\n",
       "</div>"
      ],
      "text/plain": [
       "   InscClaimAmtReimbursed  EncounterType  Gender  Race RenalDiseaseIndicator  \\\n",
       "0                   26000              0       1     1                     0   \n",
       "1                      50              1       1     1                     0   \n",
       "2                   19000              0       2     1                     0   \n",
       "3                   17000              0       1     1                     0   \n",
       "4                   13000              0       2     1                     0   \n",
       "\n",
       "   ChronicCond_Alzheimer  ChronicCond_Heartfailure  ChronicCond_KidneyDisease  \\\n",
       "0                      1                         2                          1   \n",
       "1                      1                         1                          1   \n",
       "2                      1                         1                          1   \n",
       "3                      2                         2                          2   \n",
       "4                      2                         1                          2   \n",
       "\n",
       "   ChronicCond_Cancer  ChronicCond_ObstrPulmonary  ...  \\\n",
       "0                   2                           2  ...   \n",
       "1                   2                           2  ...   \n",
       "2                   2                           1  ...   \n",
       "3                   2                           2  ...   \n",
       "4                   2                           1  ...   \n",
       "\n",
       "   IPAnnualReimbursementAmt  IPAnnualDeductibleAmt  OPAnnualReimbursementAmt  \\\n",
       "0                     36000                   3204                        60   \n",
       "1                     24000                   2136                       450   \n",
       "2                     19000                   1068                       100   \n",
       "3                     17000                   1068                      1050   \n",
       "4                     27000                   2136                       450   \n",
       "\n",
       "   OPAnnualDeductibleAmt   Age  PotentialFraud  IsDead  DaysAdmitted  \\\n",
       "0                     70  67.0             Yes       0           7.0   \n",
       "1                    200  78.0             Yes       0             0   \n",
       "2                     20  96.0             Yes       0          13.0   \n",
       "3                    540  87.0             Yes       0          19.0   \n",
       "4                    160  79.0             Yes       0           5.0   \n",
       "\n",
       "   TotalDiagnosis  TotalProcedure  \n",
       "0             9.0             0.0  \n",
       "1             9.0             0.0  \n",
       "2             9.0             2.0  \n",
       "3             9.0             1.0  \n",
       "4             7.0             1.0  \n",
       "\n",
       "[5 rows x 26 columns]"
      ]
     },
     "execution_count": 102,
     "metadata": {},
     "output_type": "execute_result"
    }
   ],
   "source": [
    "Master_df.head()"
   ]
  },
  {
   "cell_type": "code",
   "execution_count": 103,
   "metadata": {
    "execution": {
     "iopub.execute_input": "2022-06-02T11:09:30.720355Z",
     "iopub.status.busy": "2022-06-02T11:09:30.720028Z",
     "iopub.status.idle": "2022-06-02T11:09:30.726343Z",
     "shell.execute_reply": "2022-06-02T11:09:30.725272Z",
     "shell.execute_reply.started": "2022-06-02T11:09:30.720326Z"
    }
   },
   "outputs": [
    {
     "data": {
      "text/plain": [
       "(558211, 26)"
      ]
     },
     "execution_count": 103,
     "metadata": {},
     "output_type": "execute_result"
    }
   ],
   "source": [
    "Master_df.shape"
   ]
  },
  {
   "cell_type": "code",
   "execution_count": 104,
   "metadata": {
    "execution": {
     "iopub.execute_input": "2022-06-02T11:09:35.110104Z",
     "iopub.status.busy": "2022-06-02T11:09:35.109775Z",
     "iopub.status.idle": "2022-06-02T11:09:35.22348Z",
     "shell.execute_reply": "2022-06-02T11:09:35.222531Z",
     "shell.execute_reply.started": "2022-06-02T11:09:35.110076Z"
    }
   },
   "outputs": [
    {
     "data": {
      "text/plain": [
       "0    448363\n",
       "Y    109848\n",
       "Name: RenalDiseaseIndicator, dtype: int64"
      ]
     },
     "execution_count": 104,
     "metadata": {},
     "output_type": "execute_result"
    }
   ],
   "source": [
    "Master_df['RenalDiseaseIndicator'].value_counts()"
   ]
  },
  {
   "cell_type": "code",
   "execution_count": 105,
   "metadata": {
    "execution": {
     "iopub.execute_input": "2022-06-02T11:09:45.840111Z",
     "iopub.status.busy": "2022-06-02T11:09:45.839784Z",
     "iopub.status.idle": "2022-06-02T11:09:45.9599Z",
     "shell.execute_reply": "2022-06-02T11:09:45.958977Z",
     "shell.execute_reply.started": "2022-06-02T11:09:45.84008Z"
    }
   },
   "outputs": [],
   "source": [
    "Master_df['RenalDiseaseIndicator']= Master_df['RenalDiseaseIndicator'].replace({'Y':1,'0':0})"
   ]
  },
  {
   "cell_type": "code",
   "execution_count": 106,
   "metadata": {
    "execution": {
     "iopub.execute_input": "2022-06-02T11:09:50.60005Z",
     "iopub.status.busy": "2022-06-02T11:09:50.599719Z",
     "iopub.status.idle": "2022-06-02T11:09:50.607482Z",
     "shell.execute_reply": "2022-06-02T11:09:50.606513Z",
     "shell.execute_reply.started": "2022-06-02T11:09:50.60002Z"
    }
   },
   "outputs": [],
   "source": [
    "Master_df['RenalDiseaseIndicator']=Master_df['RenalDiseaseIndicator'].astype(int)"
   ]
  },
  {
   "cell_type": "code",
   "execution_count": 107,
   "metadata": {
    "execution": {
     "iopub.execute_input": "2022-06-02T11:09:59.171579Z",
     "iopub.status.busy": "2022-06-02T11:09:59.171191Z",
     "iopub.status.idle": "2022-06-02T11:09:59.718654Z",
     "shell.execute_reply": "2022-06-02T11:09:59.717789Z",
     "shell.execute_reply.started": "2022-06-02T11:09:59.171544Z"
    }
   },
   "outputs": [
    {
     "data": {
      "text/html": [
       "<div>\n",
       "<style scoped>\n",
       "    .dataframe tbody tr th:only-of-type {\n",
       "        vertical-align: middle;\n",
       "    }\n",
       "\n",
       "    .dataframe tbody tr th {\n",
       "        vertical-align: top;\n",
       "    }\n",
       "\n",
       "    .dataframe thead th {\n",
       "        text-align: right;\n",
       "    }\n",
       "</style>\n",
       "<table border=\"1\" class=\"dataframe\">\n",
       "  <thead>\n",
       "    <tr style=\"text-align: right;\">\n",
       "      <th></th>\n",
       "      <th>PotentialFraud</th>\n",
       "      <th>IsDead</th>\n",
       "      <th>DaysAdmitted</th>\n",
       "    </tr>\n",
       "  </thead>\n",
       "  <tbody>\n",
       "    <tr>\n",
       "      <th>count</th>\n",
       "      <td>558211</td>\n",
       "      <td>558211</td>\n",
       "      <td>558211</td>\n",
       "    </tr>\n",
       "    <tr>\n",
       "      <th>unique</th>\n",
       "      <td>2</td>\n",
       "      <td>2</td>\n",
       "      <td>37</td>\n",
       "    </tr>\n",
       "    <tr>\n",
       "      <th>top</th>\n",
       "      <td>No</td>\n",
       "      <td>0</td>\n",
       "      <td>0</td>\n",
       "    </tr>\n",
       "    <tr>\n",
       "      <th>freq</th>\n",
       "      <td>345415</td>\n",
       "      <td>554080</td>\n",
       "      <td>517737</td>\n",
       "    </tr>\n",
       "  </tbody>\n",
       "</table>\n",
       "</div>"
      ],
      "text/plain": [
       "       PotentialFraud  IsDead DaysAdmitted\n",
       "count          558211  558211       558211\n",
       "unique              2       2           37\n",
       "top                No       0            0\n",
       "freq           345415  554080       517737"
      ]
     },
     "execution_count": 107,
     "metadata": {},
     "output_type": "execute_result"
    }
   ],
   "source": [
    "Master_df.describe(include='O')"
   ]
  },
  {
   "cell_type": "code",
   "execution_count": 108,
   "metadata": {
    "execution": {
     "iopub.execute_input": "2022-06-02T11:11:00.611612Z",
     "iopub.status.busy": "2022-06-02T11:11:00.611247Z",
     "iopub.status.idle": "2022-06-02T11:11:00.835248Z",
     "shell.execute_reply": "2022-06-02T11:11:00.834322Z",
     "shell.execute_reply.started": "2022-06-02T11:11:00.611581Z"
    }
   },
   "outputs": [],
   "source": [
    "Master_df['IsDead']=Master_df['IsDead'].astype(float)\n",
    "Master_df['DaysAdmitted']=Master_df['DaysAdmitted'].astype(float)"
   ]
  },
  {
   "cell_type": "code",
   "execution_count": 109,
   "metadata": {
    "execution": {
     "iopub.execute_input": "2022-06-02T11:11:04.519996Z",
     "iopub.status.busy": "2022-06-02T11:11:04.519661Z",
     "iopub.status.idle": "2022-06-02T11:11:04.761184Z",
     "shell.execute_reply": "2022-06-02T11:11:04.760437Z",
     "shell.execute_reply.started": "2022-06-02T11:11:04.519966Z"
    }
   },
   "outputs": [],
   "source": [
    "Master_df['PotentialFraud']=Master_df['PotentialFraud'].replace({'Yes':1, 'No':0})"
   ]
  },
  {
   "cell_type": "code",
   "execution_count": 110,
   "metadata": {
    "execution": {
     "iopub.execute_input": "2022-06-02T11:11:06.350208Z",
     "iopub.status.busy": "2022-06-02T11:11:06.349884Z",
     "iopub.status.idle": "2022-06-02T11:11:06.357526Z",
     "shell.execute_reply": "2022-06-02T11:11:06.356407Z",
     "shell.execute_reply.started": "2022-06-02T11:11:06.350178Z"
    }
   },
   "outputs": [],
   "source": [
    " Master_df['PotentialFraud']=Master_df['PotentialFraud'].astype(int)"
   ]
  },
  {
   "cell_type": "code",
   "execution_count": 111,
   "metadata": {
    "execution": {
     "iopub.execute_input": "2022-06-02T11:11:09.900123Z",
     "iopub.status.busy": "2022-06-02T11:11:09.899797Z",
     "iopub.status.idle": "2022-06-02T11:11:09.907195Z",
     "shell.execute_reply": "2022-06-02T11:11:09.906258Z",
     "shell.execute_reply.started": "2022-06-02T11:11:09.900092Z"
    }
   },
   "outputs": [
    {
     "data": {
      "text/plain": [
       "0         1\n",
       "1         1\n",
       "2         1\n",
       "3         1\n",
       "4         1\n",
       "         ..\n",
       "558206    0\n",
       "558207    0\n",
       "558208    0\n",
       "558209    0\n",
       "558210    0\n",
       "Name: PotentialFraud, Length: 558211, dtype: int32"
      ]
     },
     "execution_count": 111,
     "metadata": {},
     "output_type": "execute_result"
    }
   ],
   "source": [
    "Master_df['PotentialFraud']"
   ]
  },
  {
   "cell_type": "markdown",
   "metadata": {
    "execution": {
     "iopub.execute_input": "2022-06-02T11:11:17.591217Z",
     "iopub.status.busy": "2022-06-02T11:11:17.590894Z",
     "iopub.status.idle": "2022-06-02T11:11:17.700196Z",
     "shell.execute_reply": "2022-06-02T11:11:17.699338Z",
     "shell.execute_reply.started": "2022-06-02T11:11:17.591187Z"
    }
   },
   "source": []
  },
  {
   "cell_type": "code",
   "execution_count": 2,
   "metadata": {},
   "outputs": [
    {
     "ename": "NameError",
     "evalue": "name 'Master_df' is not defined",
     "output_type": "error",
     "traceback": [
      "\u001b[1;31m---------------------------------------------------------------------------\u001b[0m",
      "\u001b[1;31mNameError\u001b[0m                                 Traceback (most recent call last)",
      "\u001b[1;32m~\\AppData\\Local\\Temp/ipykernel_20524/420351467.py\u001b[0m in \u001b[0;36m<module>\u001b[1;34m\u001b[0m\n\u001b[1;32m----> 1\u001b[1;33m \u001b[0mdf_5\u001b[0m \u001b[1;33m=\u001b[0m \u001b[0mMaster_df\u001b[0m\u001b[1;33m.\u001b[0m\u001b[0msample\u001b[0m\u001b[1;33m(\u001b[0m\u001b[0mfrac\u001b[0m \u001b[1;33m=\u001b[0m \u001b[1;36m0.05\u001b[0m\u001b[1;33m)\u001b[0m\u001b[1;33m\u001b[0m\u001b[1;33m\u001b[0m\u001b[0m\n\u001b[0m\u001b[0;32m      2\u001b[0m \u001b[1;33m\u001b[0m\u001b[0m\n\u001b[0;32m      3\u001b[0m \u001b[1;31m# Creating dataframe with\u001b[0m\u001b[1;33m\u001b[0m\u001b[1;33m\u001b[0m\u001b[0m\n\u001b[0;32m      4\u001b[0m \u001b[1;31m# rest of the 95% values\u001b[0m\u001b[1;33m\u001b[0m\u001b[1;33m\u001b[0m\u001b[0m\n\u001b[0;32m      5\u001b[0m \u001b[0mdf_95\u001b[0m \u001b[1;33m=\u001b[0m \u001b[0mMaster_df\u001b[0m\u001b[1;33m.\u001b[0m\u001b[0mdrop\u001b[0m\u001b[1;33m(\u001b[0m\u001b[0mdf_5\u001b[0m\u001b[1;33m.\u001b[0m\u001b[0mindex\u001b[0m\u001b[1;33m)\u001b[0m\u001b[1;33m\u001b[0m\u001b[1;33m\u001b[0m\u001b[0m\n",
      "\u001b[1;31mNameError\u001b[0m: name 'Master_df' is not defined"
     ]
    }
   ],
   "source": [
    "df_5 = Master_df.sample(frac = 0.05)\n",
    " \n",
    "# Creating dataframe with\n",
    "# rest of the 95% values\n",
    "df_95 = Master_df.drop(df_5.index)"
   ]
  },
  {
   "cell_type": "code",
   "execution_count": 113,
   "metadata": {},
   "outputs": [],
   "source": [
    "x= df_95.drop('PotentialFraud', axis=1)\n",
    "y= df_95.loc[:,'PotentialFraud']"
   ]
  },
  {
   "cell_type": "code",
   "execution_count": null,
   "metadata": {
    "execution": {
     "iopub.execute_input": "2022-06-02T11:11:20.100022Z",
     "iopub.status.busy": "2022-06-02T11:11:20.099684Z",
     "iopub.status.idle": "2022-06-02T11:11:20.107816Z",
     "shell.execute_reply": "2022-06-02T11:11:20.106652Z",
     "shell.execute_reply.started": "2022-06-02T11:11:20.099991Z"
    }
   },
   "outputs": [],
   "source": []
  },
  {
   "cell_type": "code",
   "execution_count": 1,
   "metadata": {},
   "outputs": [
    {
     "ename": "NameError",
     "evalue": "name 'df_5' is not defined",
     "output_type": "error",
     "traceback": [
      "\u001b[1;31m---------------------------------------------------------------------------\u001b[0m",
      "\u001b[1;31mNameError\u001b[0m                                 Traceback (most recent call last)",
      "\u001b[1;32m~\\AppData\\Local\\Temp/ipykernel_20524/420312317.py\u001b[0m in \u001b[0;36m<module>\u001b[1;34m\u001b[0m\n\u001b[1;32m----> 1\u001b[1;33m \u001b[0mx_unseen\u001b[0m \u001b[1;33m=\u001b[0m \u001b[0mdf_5\u001b[0m\u001b[1;33m.\u001b[0m\u001b[0mdrop\u001b[0m\u001b[1;33m(\u001b[0m\u001b[1;34m\"PotentialFraud\"\u001b[0m\u001b[1;33m,\u001b[0m\u001b[0maxis\u001b[0m\u001b[1;33m=\u001b[0m\u001b[1;36m1\u001b[0m\u001b[1;33m,\u001b[0m\u001b[0mindex\u001b[0m\u001b[1;33m=\u001b[0m\u001b[1;32mFalse\u001b[0m\u001b[1;33m)\u001b[0m\u001b[1;33m\u001b[0m\u001b[1;33m\u001b[0m\u001b[0m\n\u001b[0m\u001b[0;32m      2\u001b[0m \u001b[0mx_unseen\u001b[0m\u001b[1;33m.\u001b[0m\u001b[0mto_csv\u001b[0m\u001b[1;33m(\u001b[0m\u001b[1;34m\"main_data.csv\"\u001b[0m\u001b[1;33m)\u001b[0m\u001b[1;33m\u001b[0m\u001b[1;33m\u001b[0m\u001b[0m\n",
      "\u001b[1;31mNameError\u001b[0m: name 'df_5' is not defined"
     ]
    }
   ],
   "source": []
  },
  {
   "cell_type": "code",
   "execution_count": null,
   "metadata": {
    "execution": {
     "iopub.execute_input": "2022-06-02T11:12:02.550908Z",
     "iopub.status.busy": "2022-06-02T11:12:02.55059Z",
     "iopub.status.idle": "2022-06-02T11:12:02.555087Z",
     "shell.execute_reply": "2022-06-02T11:12:02.554161Z",
     "shell.execute_reply.started": "2022-06-02T11:12:02.550878Z"
    }
   },
   "outputs": [],
   "source": [
    "'''num_col= ['InscClaimAmtReimbursed',\n",
    "       'IPAnnualReimbursementAmt', 'IPAnnualDeductibleAmt',\n",
    "       'OPAnnualReimbursementAmt', 'OPAnnualDeductibleAmt', 'Age',\n",
    "       'DaysAdmitted', 'TotalDiagnosis', 'TotalProcedure']"
   ]
  },
  {
   "cell_type": "code",
   "execution_count": null,
   "metadata": {
    "execution": {
     "iopub.execute_input": "2022-06-02T11:12:08.820999Z",
     "iopub.status.busy": "2022-06-02T11:12:08.82067Z",
     "iopub.status.idle": "2022-06-02T11:12:08.984131Z",
     "shell.execute_reply": "2022-06-02T11:12:08.98325Z",
     "shell.execute_reply.started": "2022-06-02T11:12:08.820969Z"
    }
   },
   "outputs": [],
   "source": [
    "'''numerical_columns= x.loc[:,num_col]\n",
    "numerical_columns.describe()"
   ]
  },
  {
   "cell_type": "code",
   "execution_count": null,
   "metadata": {
    "execution": {
     "iopub.execute_input": "2022-06-02T11:12:15.20003Z",
     "iopub.status.busy": "2022-06-02T11:12:15.199694Z",
     "iopub.status.idle": "2022-06-02T11:12:15.213304Z",
     "shell.execute_reply": "2022-06-02T11:12:15.212309Z",
     "shell.execute_reply.started": "2022-06-02T11:12:15.2Z"
    }
   },
   "outputs": [],
   "source": [
    "'''numerical_columns.head()"
   ]
  },
  {
   "cell_type": "code",
   "execution_count": null,
   "metadata": {
    "execution": {
     "iopub.execute_input": "2022-06-02T11:13:03.482685Z",
     "iopub.status.busy": "2022-06-02T11:13:03.482203Z",
     "iopub.status.idle": "2022-06-02T11:13:03.487977Z",
     "shell.execute_reply": "2022-06-02T11:13:03.486635Z",
     "shell.execute_reply.started": "2022-06-02T11:13:03.48264Z"
    }
   },
   "outputs": [],
   "source": [
    "'''cat_col= ['EncounterType', 'Gender', 'Race',\n",
    "       'RenalDiseaseIndicator', 'ChronicCond_Alzheimer',\n",
    "       'ChronicCond_Heartfailure', 'ChronicCond_KidneyDisease',\n",
    "       'ChronicCond_Cancer', 'ChronicCond_ObstrPulmonary',\n",
    "       'ChronicCond_Depression', 'ChronicCond_Diabetes',\n",
    "       'ChronicCond_IschemicHeart', 'ChronicCond_Osteoporasis',\n",
    "       'ChronicCond_rheumatoidarthritis', 'ChronicCond_stroke','IsDead']"
   ]
  },
  {
   "cell_type": "code",
   "execution_count": null,
   "metadata": {
    "execution": {
     "iopub.execute_input": "2022-06-02T11:13:07.559919Z",
     "iopub.status.busy": "2022-06-02T11:13:07.559586Z",
     "iopub.status.idle": "2022-06-02T11:13:07.605892Z",
     "shell.execute_reply": "2022-06-02T11:13:07.604825Z",
     "shell.execute_reply.started": "2022-06-02T11:13:07.55989Z"
    }
   },
   "outputs": [],
   "source": [
    "'''x_cat= x.loc[:,cat_col]\n",
    "x_cat"
   ]
  },
  {
   "cell_type": "code",
   "execution_count": 115,
   "metadata": {
    "execution": {
     "iopub.execute_input": "2022-06-02T11:13:20.56069Z",
     "iopub.status.busy": "2022-06-02T11:13:20.560332Z",
     "iopub.status.idle": "2022-06-02T11:13:20.606658Z",
     "shell.execute_reply": "2022-06-02T11:13:20.605907Z",
     "shell.execute_reply.started": "2022-06-02T11:13:20.56066Z"
    }
   },
   "outputs": [],
   "source": [
    "from sklearn.preprocessing import StandardScaler"
   ]
  },
  {
   "cell_type": "code",
   "execution_count": null,
   "metadata": {
    "execution": {
     "iopub.execute_input": "2022-06-02T11:13:23.389896Z",
     "iopub.status.busy": "2022-06-02T11:13:23.38958Z",
     "iopub.status.idle": "2022-06-02T11:13:23.531566Z",
     "shell.execute_reply": "2022-06-02T11:13:23.530764Z",
     "shell.execute_reply.started": "2022-06-02T11:13:23.389868Z"
    }
   },
   "outputs": [],
   "source": [
    "scale= StandardScaler()\n",
    "x_num= scale.fit_transform(x[num_col])"
   ]
  },
  {
   "cell_type": "code",
   "execution_count": null,
   "metadata": {
    "execution": {
     "iopub.execute_input": "2022-06-02T11:13:31.6903Z",
     "iopub.status.busy": "2022-06-02T11:13:31.689976Z",
     "iopub.status.idle": "2022-06-02T11:13:31.695511Z",
     "shell.execute_reply": "2022-06-02T11:13:31.694509Z",
     "shell.execute_reply.started": "2022-06-02T11:13:31.69027Z"
    }
   },
   "outputs": [],
   "source": [
    "x_num= pd.DataFrame(x_num, columns=['InscClaimAmtReimbursed','IPAnnualReimbursementAmt', 'IPAnnualDeductibleAmt','OPAnnualReimbursementAmt', 'OPAnnualDeductibleAmt', 'Age','DaysAdmitted', 'TotalDiagnosis', 'TotalProcedure'])"
   ]
  },
  {
   "cell_type": "code",
   "execution_count": null,
   "metadata": {
    "execution": {
     "iopub.execute_input": "2022-06-02T11:13:44.180261Z",
     "iopub.status.busy": "2022-06-02T11:13:44.179941Z",
     "iopub.status.idle": "2022-06-02T11:13:44.37066Z",
     "shell.execute_reply": "2022-06-02T11:13:44.369691Z",
     "shell.execute_reply.started": "2022-06-02T11:13:44.180231Z"
    }
   },
   "outputs": [],
   "source": [
    "x= pd.concat([x_num, x_cat], axis=1)\n",
    "x"
   ]
  },
  {
   "cell_type": "code",
   "execution_count": 116,
   "metadata": {
    "execution": {
     "iopub.execute_input": "2022-06-02T11:14:01.910673Z",
     "iopub.status.busy": "2022-06-02T11:14:01.91031Z",
     "iopub.status.idle": "2022-06-02T11:14:01.916896Z",
     "shell.execute_reply": "2022-06-02T11:14:01.915907Z",
     "shell.execute_reply.started": "2022-06-02T11:14:01.910643Z"
    }
   },
   "outputs": [
    {
     "data": {
      "text/plain": [
       "Index(['InscClaimAmtReimbursed', 'EncounterType', 'Gender', 'Race',\n",
       "       'RenalDiseaseIndicator', 'ChronicCond_Alzheimer',\n",
       "       'ChronicCond_Heartfailure', 'ChronicCond_KidneyDisease',\n",
       "       'ChronicCond_Cancer', 'ChronicCond_ObstrPulmonary',\n",
       "       'ChronicCond_Depression', 'ChronicCond_Diabetes',\n",
       "       'ChronicCond_IschemicHeart', 'ChronicCond_Osteoporasis',\n",
       "       'ChronicCond_rheumatoidarthritis', 'ChronicCond_stroke',\n",
       "       'IPAnnualReimbursementAmt', 'IPAnnualDeductibleAmt',\n",
       "       'OPAnnualReimbursementAmt', 'OPAnnualDeductibleAmt', 'Age', 'IsDead',\n",
       "       'DaysAdmitted', 'TotalDiagnosis', 'TotalProcedure'],\n",
       "      dtype='object')"
      ]
     },
     "execution_count": 116,
     "metadata": {},
     "output_type": "execute_result"
    }
   ],
   "source": [
    "x.columns"
   ]
  },
  {
   "cell_type": "code",
   "execution_count": null,
   "metadata": {
    "execution": {
     "iopub.execute_input": "2022-06-02T11:14:06.85528Z",
     "iopub.status.busy": "2022-06-02T11:14:06.854943Z",
     "iopub.status.idle": "2022-06-02T11:14:06.862697Z",
     "shell.execute_reply": "2022-06-02T11:14:06.861722Z",
     "shell.execute_reply.started": "2022-06-02T11:14:06.855249Z"
    }
   },
   "outputs": [],
   "source": []
  },
  {
   "cell_type": "markdown",
   "metadata": {},
   "source": [
    "# Train- Test Split"
   ]
  },
  {
   "cell_type": "code",
   "execution_count": 117,
   "metadata": {
    "execution": {
     "iopub.execute_input": "2022-06-02T11:14:19.571152Z",
     "iopub.status.busy": "2022-06-02T11:14:19.570824Z",
     "iopub.status.idle": "2022-06-02T11:14:19.613242Z",
     "shell.execute_reply": "2022-06-02T11:14:19.61248Z",
     "shell.execute_reply.started": "2022-06-02T11:14:19.57112Z"
    }
   },
   "outputs": [],
   "source": [
    "from sklearn.model_selection import train_test_split"
   ]
  },
  {
   "cell_type": "code",
   "execution_count": 118,
   "metadata": {
    "execution": {
     "iopub.execute_input": "2022-06-02T11:17:31.821949Z",
     "iopub.status.busy": "2022-06-02T11:17:31.821476Z",
     "iopub.status.idle": "2022-06-02T11:17:31.986924Z",
     "shell.execute_reply": "2022-06-02T11:17:31.986117Z",
     "shell.execute_reply.started": "2022-06-02T11:17:31.821914Z"
    }
   },
   "outputs": [],
   "source": [
    "x_train,x_test, y_train, y_test= train_test_split(x,y, test_size=0.1, random_state=42)"
   ]
  },
  {
   "cell_type": "code",
   "execution_count": 119,
   "metadata": {
    "execution": {
     "iopub.execute_input": "2022-06-02T11:18:34.760903Z",
     "iopub.status.busy": "2022-06-02T11:18:34.760576Z",
     "iopub.status.idle": "2022-06-02T11:18:35.704418Z",
     "shell.execute_reply": "2022-06-02T11:18:35.703487Z",
     "shell.execute_reply.started": "2022-06-02T11:18:34.760874Z"
    }
   },
   "outputs": [],
   "source": [
    "from imblearn.under_sampling import RandomUnderSampler\n",
    "rus = RandomUnderSampler(random_state=0)\n",
    "x_train1,y_train1 = rus.fit_resample(x_train, y_train)"
   ]
  },
  {
   "cell_type": "code",
   "execution_count": 120,
   "metadata": {},
   "outputs": [],
   "source": [
    "x_train1.to_csv(\"x_train.csv\")"
   ]
  },
  {
   "cell_type": "code",
   "execution_count": 121,
   "metadata": {
    "execution": {
     "iopub.execute_input": "2022-06-02T11:18:46.560132Z",
     "iopub.status.busy": "2022-06-02T11:18:46.559809Z",
     "iopub.status.idle": "2022-06-02T11:18:46.565907Z",
     "shell.execute_reply": "2022-06-02T11:18:46.564961Z",
     "shell.execute_reply.started": "2022-06-02T11:18:46.560102Z"
    }
   },
   "outputs": [
    {
     "data": {
      "text/plain": [
       "'from imblearn import over_sampling\\n\\nada = over_sampling.ADASYN(random_state=0)\\nx_train2, y_train2 = ada.fit_resample(x_train, y_train)'"
      ]
     },
     "execution_count": 121,
     "metadata": {},
     "output_type": "execute_result"
    }
   ],
   "source": [
    "'''from imblearn import over_sampling\n",
    "\n",
    "ada = over_sampling.ADASYN(random_state=0)\n",
    "x_train2, y_train2 = ada.fit_resample(x_train, y_train)'''"
   ]
  },
  {
   "cell_type": "code",
   "execution_count": 122,
   "metadata": {
    "execution": {
     "iopub.execute_input": "2022-06-02T11:18:51.699814Z",
     "iopub.status.busy": "2022-06-02T11:18:51.699484Z",
     "iopub.status.idle": "2022-06-02T11:18:51.703895Z",
     "shell.execute_reply": "2022-06-02T11:18:51.702967Z",
     "shell.execute_reply.started": "2022-06-02T11:18:51.699782Z"
    }
   },
   "outputs": [],
   "source": [
    "from sklearn.metrics import confusion_matrix, classification_report, accuracy_score, roc_auc_score, auc, roc_curve"
   ]
  },
  {
   "cell_type": "code",
   "execution_count": 123,
   "metadata": {
    "execution": {
     "iopub.execute_input": "2022-06-02T11:18:56.14016Z",
     "iopub.status.busy": "2022-06-02T11:18:56.139838Z",
     "iopub.status.idle": "2022-06-02T11:19:53.417181Z",
     "shell.execute_reply": "2022-06-02T11:19:53.416346Z",
     "shell.execute_reply.started": "2022-06-02T11:18:56.140131Z"
    }
   },
   "outputs": [
    {
     "name": "stderr",
     "output_type": "stream",
     "text": [
      "C:\\Users\\302201\\Anaconda3\\lib\\site-packages\\xgboost\\sklearn.py:1224: UserWarning: The use of label encoder in XGBClassifier is deprecated and will be removed in a future release. To remove this warning, do the following: 1) Pass option use_label_encoder=False when constructing XGBClassifier object; and 2) Encode your labels (y) as integers starting with 0, i.e. 0, 1, 2, ..., [num_class - 1].\n",
      "  warnings.warn(label_encoder_deprecation_msg, UserWarning)\n"
     ]
    },
    {
     "name": "stdout",
     "output_type": "stream",
     "text": [
      "[21:02:17] WARNING: C:/Users/Administrator/workspace/xgboost-win64_release_1.5.1/src/learner.cc:1115: Starting in XGBoost 1.3.0, the default evaluation metric used with the objective 'binary:logistic' was changed from 'error' to 'logloss'. Explicitly set eval_metric if you'd like to restore the old behavior.\n"
     ]
    },
    {
     "data": {
      "text/plain": [
       "<AxesSubplot:title={'center':'Feature importance'}, xlabel='F score', ylabel='Features'>"
      ]
     },
     "execution_count": 123,
     "metadata": {},
     "output_type": "execute_result"
    },
    {
     "data": {
      "image/png": "[encoded data removed]",
      "text/plain": [
       "<Figure size 432x288 with 1 Axes>"
      ]
     },
     "metadata": {
      "needs_background": "light"
     },
     "output_type": "display_data"
    }
   ],
   "source": [
    "from xgboost import plot_importance\n",
    "from xgboost import XGBClassifier\n",
    "xgb= XGBClassifier()\n",
    "xgb.fit(x_train,y_train)\n",
    "plot_importance(xgb)"
   ]
  },
  {
   "cell_type": "code",
   "execution_count": 124,
   "metadata": {
    "execution": {
     "iopub.execute_input": "2022-06-02T11:20:06.850861Z",
     "iopub.status.busy": "2022-06-02T11:20:06.850465Z",
     "iopub.status.idle": "2022-06-02T11:20:50.580653Z",
     "shell.execute_reply": "2022-06-02T11:20:50.579802Z",
     "shell.execute_reply.started": "2022-06-02T11:20:06.850822Z"
    }
   },
   "outputs": [
    {
     "name": "stdout",
     "output_type": "stream",
     "text": [
      "[21:03:14] WARNING: C:/Users/Administrator/workspace/xgboost-win64_release_1.5.1/src/learner.cc:1115: Starting in XGBoost 1.3.0, the default evaluation metric used with the objective 'binary:logistic' was changed from 'error' to 'logloss'. Explicitly set eval_metric if you'd like to restore the old behavior.\n"
     ]
    },
    {
     "data": {
      "text/plain": [
       "<AxesSubplot:title={'center':'Feature importance'}, xlabel='F score', ylabel='Features'>"
      ]
     },
     "execution_count": 124,
     "metadata": {},
     "output_type": "execute_result"
    },
    {
     "data": {
      "image/png": "[encoded data removed]",
      "text/plain": [
       "<Figure size 432x288 with 1 Axes>"
      ]
     },
     "metadata": {
      "needs_background": "light"
     },
     "output_type": "display_data"
    }
   ],
   "source": [
    "xgb= XGBClassifier()\n",
    "xgb.fit(x_train1,y_train1)\n",
    "plot_importance(xgb)"
   ]
  },
  {
   "cell_type": "code",
   "execution_count": 125,
   "metadata": {},
   "outputs": [],
   "source": [
    "import pickle\n",
    "\n",
    "pickle.dump(xgb,open(\"xgb_classifier.pkl\",'wb'))"
   ]
  },
  {
   "cell_type": "code",
   "execution_count": 143,
   "metadata": {},
   "outputs": [],
   "source": [
    "pickle.dump(xgb,open(\"xgb_classifier.pkl\",'wb'))\n",
    "\n",
    "model = pickle.load(open('xgb_classifier.pkl','rb'))\n",
    "\n",
    "predictions = model.predict(x_unseen)\n",
    "\n",
    "predict_df=pd.DataFrame(predictions)"
   ]
  },
  {
   "cell_type": "code",
   "execution_count": 144,
   "metadata": {},
   "outputs": [
    {
     "data": {
      "text/html": [
       "<div>\n",
       "<style scoped>\n",
       "    .dataframe tbody tr th:only-of-type {\n",
       "        vertical-align: middle;\n",
       "    }\n",
       "\n",
       "    .dataframe tbody tr th {\n",
       "        vertical-align: top;\n",
       "    }\n",
       "\n",
       "    .dataframe thead th {\n",
       "        text-align: right;\n",
       "    }\n",
       "</style>\n",
       "<table border=\"1\" class=\"dataframe\">\n",
       "  <thead>\n",
       "    <tr style=\"text-align: right;\">\n",
       "      <th></th>\n",
       "      <th>0</th>\n",
       "    </tr>\n",
       "  </thead>\n",
       "  <tbody>\n",
       "    <tr>\n",
       "      <th>0</th>\n",
       "      <td>0</td>\n",
       "    </tr>\n",
       "    <tr>\n",
       "      <th>1</th>\n",
       "      <td>1</td>\n",
       "    </tr>\n",
       "    <tr>\n",
       "      <th>2</th>\n",
       "      <td>0</td>\n",
       "    </tr>\n",
       "    <tr>\n",
       "      <th>3</th>\n",
       "      <td>0</td>\n",
       "    </tr>\n",
       "    <tr>\n",
       "      <th>4</th>\n",
       "      <td>1</td>\n",
       "    </tr>\n",
       "    <tr>\n",
       "      <th>...</th>\n",
       "      <td>...</td>\n",
       "    </tr>\n",
       "    <tr>\n",
       "      <th>27906</th>\n",
       "      <td>1</td>\n",
       "    </tr>\n",
       "    <tr>\n",
       "      <th>27907</th>\n",
       "      <td>1</td>\n",
       "    </tr>\n",
       "    <tr>\n",
       "      <th>27908</th>\n",
       "      <td>1</td>\n",
       "    </tr>\n",
       "    <tr>\n",
       "      <th>27909</th>\n",
       "      <td>0</td>\n",
       "    </tr>\n",
       "    <tr>\n",
       "      <th>27910</th>\n",
       "      <td>1</td>\n",
       "    </tr>\n",
       "  </tbody>\n",
       "</table>\n",
       "<p>27911 rows × 1 columns</p>\n",
       "</div>"
      ],
      "text/plain": [
       "       0\n",
       "0      0\n",
       "1      1\n",
       "2      0\n",
       "3      0\n",
       "4      1\n",
       "...   ..\n",
       "27906  1\n",
       "27907  1\n",
       "27908  1\n",
       "27909  0\n",
       "27910  1\n",
       "\n",
       "[27911 rows x 1 columns]"
      ]
     },
     "execution_count": 144,
     "metadata": {},
     "output_type": "execute_result"
    }
   ],
   "source": [
    "predict_df"
   ]
  },
  {
   "cell_type": "code",
   "execution_count": 145,
   "metadata": {
    "execution": {
     "iopub.execute_input": "2022-06-02T11:20:50.582751Z",
     "iopub.status.busy": "2022-06-02T11:20:50.582221Z",
     "iopub.status.idle": "2022-06-02T11:20:50.587138Z",
     "shell.execute_reply": "2022-06-02T11:20:50.586198Z",
     "shell.execute_reply.started": "2022-06-02T11:20:50.582704Z"
    }
   },
   "outputs": [],
   "source": [
    "x_unseen=x_unseen"
   ]
  },
  {
   "cell_type": "markdown",
   "metadata": {},
   "source": [
    "### Decision Tree"
   ]
  },
  {
   "cell_type": "code",
   "execution_count": 126,
   "metadata": {
    "execution": {
     "iopub.execute_input": "2022-06-02T11:21:45.350373Z",
     "iopub.status.busy": "2022-06-02T11:21:45.350039Z",
     "iopub.status.idle": "2022-06-02T11:21:45.354777Z",
     "shell.execute_reply": "2022-06-02T11:21:45.353704Z",
     "shell.execute_reply.started": "2022-06-02T11:21:45.350341Z"
    }
   },
   "outputs": [],
   "source": [
    "from sklearn.model_selection import GridSearchCV"
   ]
  },
  {
   "cell_type": "code",
   "execution_count": 127,
   "metadata": {
    "execution": {
     "iopub.execute_input": "2022-06-02T11:21:56.481101Z",
     "iopub.status.busy": "2022-06-02T11:21:56.480771Z",
     "iopub.status.idle": "2022-06-02T11:22:55.434859Z",
     "shell.execute_reply": "2022-06-02T11:22:55.433905Z",
     "shell.execute_reply.started": "2022-06-02T11:21:56.481072Z"
    }
   },
   "outputs": [
    {
     "name": "stdout",
     "output_type": "stream",
     "text": [
      "0.5362305332845685\n",
      "{'criterion': 'entropy', 'max_depth': 4, 'min_samples_split': 2}\n"
     ]
    }
   ],
   "source": [
    "from sklearn import tree\n",
    "from sklearn.tree import DecisionTreeClassifier\n",
    "estimator=  DecisionTreeClassifier()\n",
    "param_grid= {'criterion':['gini', 'entropy'],\n",
    "             'max_depth':[3,4,5],\n",
    "             'min_samples_split':[2,3,5]\n",
    "             }\n",
    "grid_search = GridSearchCV(estimator = estimator, param_grid = param_grid)\n",
    "grid_search.fit(x_train1, y_train1)\n",
    "print(grid_search.best_score_)\n",
    "print(grid_search.best_params_)"
   ]
  },
  {
   "cell_type": "code",
   "execution_count": 148,
   "metadata": {},
   "outputs": [
    {
     "data": {
      "text/plain": [
       "\"param_grid= {'criterion':['gini', 'entropy'],\\n             'max_depth':[3,4,5],\\n             'min_samples_split':[2,3,5]\\n             }\\ngrid_search = GridSearchCV(estimator = estimator, param_grid = param_grid)\\ngrid_search.fit(x_train2, y_train2)\\nprint(grid_search.best_score_)\\nprint(grid_search.best_params_)\""
      ]
     },
     "execution_count": 148,
     "metadata": {},
     "output_type": "execute_result"
    }
   ],
   "source": [
    "'''param_grid= {'criterion':['gini', 'entropy'],\n",
    "             'max_depth':[3,4,5],\n",
    "             'min_samples_split':[2,3,5]\n",
    "             }\n",
    "grid_search = GridSearchCV(estimator = estimator, param_grid = param_grid)\n",
    "grid_search.fit(x_train2, y_train2)\n",
    "print(grid_search.best_score_)\n",
    "print(grid_search.best_params_)'''"
   ]
  },
  {
   "cell_type": "code",
   "execution_count": 128,
   "metadata": {
    "execution": {
     "iopub.execute_input": "2022-06-02T11:23:04.470609Z",
     "iopub.status.busy": "2022-06-02T11:23:04.470252Z",
     "iopub.status.idle": "2022-06-02T11:24:23.016903Z",
     "shell.execute_reply": "2022-06-02T11:24:23.015958Z",
     "shell.execute_reply.started": "2022-06-02T11:23:04.470578Z"
    }
   },
   "outputs": [
    {
     "name": "stdout",
     "output_type": "stream",
     "text": [
      "0.630368554486978\n",
      "{'criterion': 'gini', 'max_depth': 5, 'min_samples_split': 2}\n"
     ]
    }
   ],
   "source": [
    "grid_search.fit(x_train, y_train)\n",
    "print(grid_search.best_score_)\n",
    "print(grid_search.best_params_)"
   ]
  },
  {
   "cell_type": "code",
   "execution_count": 129,
   "metadata": {},
   "outputs": [],
   "source": [
    "pickle.dump(grid_search,open(\"decision_tree_classifier.pkl\",'wb'))"
   ]
  },
  {
   "cell_type": "markdown",
   "metadata": {},
   "source": [
    "### Logistic regression"
   ]
  },
  {
   "cell_type": "code",
   "execution_count": 137,
   "metadata": {},
   "outputs": [
    {
     "name": "stdout",
     "output_type": "stream",
     "text": [
      "0.5253097072757851\n",
      "0.595662832359042\n"
     ]
    }
   ],
   "source": [
    "from sklearn.linear_model import LogisticRegression\n",
    "lr= LogisticRegression()\n",
    "lr.fit(x_train1, y_train1)\n",
    "model_score= lr.predict(x_train1)\n",
    "accuracy= lr.predict(x_test)\n",
    "print(accuracy_score(y_train1, model_score))\n",
    "print(accuracy_score(y_test, accuracy))"
   ]
  },
  {
   "cell_type": "code",
   "execution_count": 1,
   "metadata": {},
   "outputs": [
    {
     "ename": "NameError",
     "evalue": "name 'pickle' is not defined",
     "output_type": "error",
     "traceback": [
      "\u001b[1;31m---------------------------------------------------------------------------\u001b[0m",
      "\u001b[1;31mNameError\u001b[0m                                 Traceback (most recent call last)",
      "\u001b[1;32m~\\AppData\\Local\\Temp/ipykernel_11032/3554341822.py\u001b[0m in \u001b[0;36m<module>\u001b[1;34m\u001b[0m\n\u001b[1;32m----> 1\u001b[1;33m \u001b[0mpickle\u001b[0m\u001b[1;33m.\u001b[0m\u001b[0mdump\u001b[0m\u001b[1;33m(\u001b[0m\u001b[0mlr\u001b[0m\u001b[1;33m,\u001b[0m\u001b[0mopen\u001b[0m\u001b[1;33m(\u001b[0m\u001b[1;34m\"logistic_regression.pkl\"\u001b[0m\u001b[1;33m,\u001b[0m\u001b[1;34m'wb'\u001b[0m\u001b[1;33m)\u001b[0m\u001b[1;33m)\u001b[0m\u001b[1;33m\u001b[0m\u001b[1;33m\u001b[0m\u001b[0m\n\u001b[0m",
      "\u001b[1;31mNameError\u001b[0m: name 'pickle' is not defined"
     ]
    }
   ],
   "source": [
    "pickle.dump(lr,open(\"logistic_regression.pkl\",'wb'))"
   ]
  },
  {
   "cell_type": "markdown",
   "metadata": {},
   "source": [
    "### Random Forest"
   ]
  },
  {
   "cell_type": "code",
   "execution_count": 130,
   "metadata": {
    "execution": {
     "iopub.execute_input": "2022-06-02T11:24:34.490888Z",
     "iopub.status.busy": "2022-06-02T11:24:34.490534Z",
     "iopub.status.idle": "2022-06-02T11:27:05.656698Z",
     "shell.execute_reply": "2022-06-02T11:27:05.655656Z",
     "shell.execute_reply.started": "2022-06-02T11:24:34.490857Z"
    }
   },
   "outputs": [
    {
     "name": "stdout",
     "output_type": "stream",
     "text": [
      "0.9918033817336099\n",
      "0.6968131246464265\n"
     ]
    }
   ],
   "source": [
    "from sklearn.ensemble import RandomForestClassifier\n",
    "estimator1= RandomForestClassifier()\n",
    "estimator1.fit(x_train, y_train)\n",
    "model_score= estimator1.predict(x_train)\n",
    "accuracy= estimator1.predict(x_test)\n",
    "print(accuracy_score(y_train, model_score))\n",
    "print(accuracy_score(y_test, accuracy))"
   ]
  },
  {
   "cell_type": "code",
   "execution_count": 131,
   "metadata": {},
   "outputs": [
    {
     "data": {
      "image/png": "[encoded data removed]",
      "text/plain": [
       "<Figure size 432x288 with 1 Axes>"
      ]
     },
     "metadata": {
      "needs_background": "light"
     },
     "output_type": "display_data"
    },
    {
     "data": {
      "text/plain": [
       "<Figure size 1440x360 with 0 Axes>"
      ]
     },
     "metadata": {},
     "output_type": "display_data"
    }
   ],
   "source": [
    "importances = estimator1.feature_importances_\n",
    "#\n",
    "# Sort the feature importance in descending order\n",
    "#\n",
    "sorted_indices = np.argsort(importances)[::-1]\n",
    "\n",
    "import matplotlib.pyplot as plt\n",
    "\n",
    "fig2, ax2 = plt.subplots()\n",
    "plt.title('Feature Importance')\n",
    "plt.bar(range(x_train.shape[1]), importances[sorted_indices], align='center')\n",
    "plt.xticks(range(x_train.shape[1]), x_train.columns[sorted_indices], rotation=90)\n",
    "#plt.tight_layout()\n",
    "fig2 =plt.figure(figsize=(20,5))\n",
    "plt.show()"
   ]
  },
  {
   "cell_type": "code",
   "execution_count": 132,
   "metadata": {},
   "outputs": [],
   "source": [
    "import lime\n",
    "import lime.lime_tabular\n",
    "\n",
    "predict_fn_rf = lambda x: estimator1.predict_proba(x).astype(float)\n",
    "X = x_train.values\n",
    "explainer = lime.lime_tabular.LimeTabularExplainer(X,feature_names = x_train.columns,class_names=['True claim','False claim'],kernel_width=5)"
   ]
  },
  {
   "cell_type": "code",
   "execution_count": 133,
   "metadata": {},
   "outputs": [
    {
     "data": {
      "text/html": [
       "<div>\n",
       "<style scoped>\n",
       "    .dataframe tbody tr th:only-of-type {\n",
       "        vertical-align: middle;\n",
       "    }\n",
       "\n",
       "    .dataframe tbody tr th {\n",
       "        vertical-align: top;\n",
       "    }\n",
       "\n",
       "    .dataframe thead th {\n",
       "        text-align: right;\n",
       "    }\n",
       "</style>\n",
       "<table border=\"1\" class=\"dataframe\">\n",
       "  <thead>\n",
       "    <tr style=\"text-align: right;\">\n",
       "      <th></th>\n",
       "      <th>InscClaimAmtReimbursed</th>\n",
       "      <th>EncounterType</th>\n",
       "      <th>Gender</th>\n",
       "      <th>Race</th>\n",
       "      <th>RenalDiseaseIndicator</th>\n",
       "      <th>ChronicCond_Alzheimer</th>\n",
       "      <th>ChronicCond_Heartfailure</th>\n",
       "      <th>ChronicCond_KidneyDisease</th>\n",
       "      <th>ChronicCond_Cancer</th>\n",
       "      <th>ChronicCond_ObstrPulmonary</th>\n",
       "      <th>...</th>\n",
       "      <th>ChronicCond_stroke</th>\n",
       "      <th>IPAnnualReimbursementAmt</th>\n",
       "      <th>IPAnnualDeductibleAmt</th>\n",
       "      <th>OPAnnualReimbursementAmt</th>\n",
       "      <th>OPAnnualDeductibleAmt</th>\n",
       "      <th>Age</th>\n",
       "      <th>IsDead</th>\n",
       "      <th>DaysAdmitted</th>\n",
       "      <th>TotalDiagnosis</th>\n",
       "      <th>TotalProcedure</th>\n",
       "    </tr>\n",
       "  </thead>\n",
       "  <tbody>\n",
       "    <tr>\n",
       "      <th>176067</th>\n",
       "      <td>200</td>\n",
       "      <td>1</td>\n",
       "      <td>2</td>\n",
       "      <td>1</td>\n",
       "      <td>0</td>\n",
       "      <td>1</td>\n",
       "      <td>1</td>\n",
       "      <td>1</td>\n",
       "      <td>2</td>\n",
       "      <td>2</td>\n",
       "      <td>...</td>\n",
       "      <td>2</td>\n",
       "      <td>0</td>\n",
       "      <td>0</td>\n",
       "      <td>270</td>\n",
       "      <td>20</td>\n",
       "      <td>101.0</td>\n",
       "      <td>0.0</td>\n",
       "      <td>0.0</td>\n",
       "      <td>3.0</td>\n",
       "      <td>0.0</td>\n",
       "    </tr>\n",
       "    <tr>\n",
       "      <th>239243</th>\n",
       "      <td>10</td>\n",
       "      <td>1</td>\n",
       "      <td>1</td>\n",
       "      <td>1</td>\n",
       "      <td>1</td>\n",
       "      <td>1</td>\n",
       "      <td>1</td>\n",
       "      <td>1</td>\n",
       "      <td>2</td>\n",
       "      <td>2</td>\n",
       "      <td>...</td>\n",
       "      <td>2</td>\n",
       "      <td>0</td>\n",
       "      <td>0</td>\n",
       "      <td>3940</td>\n",
       "      <td>520</td>\n",
       "      <td>54.0</td>\n",
       "      <td>0.0</td>\n",
       "      <td>0.0</td>\n",
       "      <td>1.0</td>\n",
       "      <td>0.0</td>\n",
       "    </tr>\n",
       "    <tr>\n",
       "      <th>233032</th>\n",
       "      <td>300</td>\n",
       "      <td>1</td>\n",
       "      <td>2</td>\n",
       "      <td>1</td>\n",
       "      <td>0</td>\n",
       "      <td>1</td>\n",
       "      <td>1</td>\n",
       "      <td>2</td>\n",
       "      <td>2</td>\n",
       "      <td>2</td>\n",
       "      <td>...</td>\n",
       "      <td>2</td>\n",
       "      <td>8000</td>\n",
       "      <td>1068</td>\n",
       "      <td>3340</td>\n",
       "      <td>380</td>\n",
       "      <td>72.0</td>\n",
       "      <td>0.0</td>\n",
       "      <td>0.0</td>\n",
       "      <td>1.0</td>\n",
       "      <td>0.0</td>\n",
       "    </tr>\n",
       "    <tr>\n",
       "      <th>533034</th>\n",
       "      <td>200</td>\n",
       "      <td>1</td>\n",
       "      <td>1</td>\n",
       "      <td>1</td>\n",
       "      <td>0</td>\n",
       "      <td>1</td>\n",
       "      <td>2</td>\n",
       "      <td>1</td>\n",
       "      <td>2</td>\n",
       "      <td>2</td>\n",
       "      <td>...</td>\n",
       "      <td>2</td>\n",
       "      <td>0</td>\n",
       "      <td>0</td>\n",
       "      <td>2010</td>\n",
       "      <td>430</td>\n",
       "      <td>81.0</td>\n",
       "      <td>0.0</td>\n",
       "      <td>0.0</td>\n",
       "      <td>1.0</td>\n",
       "      <td>0.0</td>\n",
       "    </tr>\n",
       "    <tr>\n",
       "      <th>330375</th>\n",
       "      <td>20</td>\n",
       "      <td>1</td>\n",
       "      <td>2</td>\n",
       "      <td>1</td>\n",
       "      <td>1</td>\n",
       "      <td>1</td>\n",
       "      <td>1</td>\n",
       "      <td>1</td>\n",
       "      <td>2</td>\n",
       "      <td>2</td>\n",
       "      <td>...</td>\n",
       "      <td>2</td>\n",
       "      <td>0</td>\n",
       "      <td>0</td>\n",
       "      <td>3270</td>\n",
       "      <td>50</td>\n",
       "      <td>84.0</td>\n",
       "      <td>0.0</td>\n",
       "      <td>0.0</td>\n",
       "      <td>5.0</td>\n",
       "      <td>0.0</td>\n",
       "    </tr>\n",
       "    <tr>\n",
       "      <th>...</th>\n",
       "      <td>...</td>\n",
       "      <td>...</td>\n",
       "      <td>...</td>\n",
       "      <td>...</td>\n",
       "      <td>...</td>\n",
       "      <td>...</td>\n",
       "      <td>...</td>\n",
       "      <td>...</td>\n",
       "      <td>...</td>\n",
       "      <td>...</td>\n",
       "      <td>...</td>\n",
       "      <td>...</td>\n",
       "      <td>...</td>\n",
       "      <td>...</td>\n",
       "      <td>...</td>\n",
       "      <td>...</td>\n",
       "      <td>...</td>\n",
       "      <td>...</td>\n",
       "      <td>...</td>\n",
       "      <td>...</td>\n",
       "      <td>...</td>\n",
       "    </tr>\n",
       "    <tr>\n",
       "      <th>461661</th>\n",
       "      <td>400</td>\n",
       "      <td>1</td>\n",
       "      <td>2</td>\n",
       "      <td>1</td>\n",
       "      <td>0</td>\n",
       "      <td>2</td>\n",
       "      <td>1</td>\n",
       "      <td>1</td>\n",
       "      <td>2</td>\n",
       "      <td>1</td>\n",
       "      <td>...</td>\n",
       "      <td>2</td>\n",
       "      <td>0</td>\n",
       "      <td>0</td>\n",
       "      <td>900</td>\n",
       "      <td>300</td>\n",
       "      <td>86.0</td>\n",
       "      <td>0.0</td>\n",
       "      <td>0.0</td>\n",
       "      <td>2.0</td>\n",
       "      <td>0.0</td>\n",
       "    </tr>\n",
       "    <tr>\n",
       "      <th>281000</th>\n",
       "      <td>70</td>\n",
       "      <td>1</td>\n",
       "      <td>2</td>\n",
       "      <td>2</td>\n",
       "      <td>0</td>\n",
       "      <td>2</td>\n",
       "      <td>1</td>\n",
       "      <td>2</td>\n",
       "      <td>2</td>\n",
       "      <td>2</td>\n",
       "      <td>...</td>\n",
       "      <td>2</td>\n",
       "      <td>0</td>\n",
       "      <td>0</td>\n",
       "      <td>420</td>\n",
       "      <td>50</td>\n",
       "      <td>63.0</td>\n",
       "      <td>0.0</td>\n",
       "      <td>0.0</td>\n",
       "      <td>3.0</td>\n",
       "      <td>0.0</td>\n",
       "    </tr>\n",
       "    <tr>\n",
       "      <th>446396</th>\n",
       "      <td>1900</td>\n",
       "      <td>1</td>\n",
       "      <td>2</td>\n",
       "      <td>1</td>\n",
       "      <td>1</td>\n",
       "      <td>2</td>\n",
       "      <td>1</td>\n",
       "      <td>1</td>\n",
       "      <td>2</td>\n",
       "      <td>1</td>\n",
       "      <td>...</td>\n",
       "      <td>2</td>\n",
       "      <td>0</td>\n",
       "      <td>0</td>\n",
       "      <td>30920</td>\n",
       "      <td>8070</td>\n",
       "      <td>52.0</td>\n",
       "      <td>0.0</td>\n",
       "      <td>0.0</td>\n",
       "      <td>4.0</td>\n",
       "      <td>0.0</td>\n",
       "    </tr>\n",
       "    <tr>\n",
       "      <th>515491</th>\n",
       "      <td>500</td>\n",
       "      <td>1</td>\n",
       "      <td>1</td>\n",
       "      <td>1</td>\n",
       "      <td>0</td>\n",
       "      <td>1</td>\n",
       "      <td>1</td>\n",
       "      <td>1</td>\n",
       "      <td>1</td>\n",
       "      <td>1</td>\n",
       "      <td>...</td>\n",
       "      <td>2</td>\n",
       "      <td>0</td>\n",
       "      <td>0</td>\n",
       "      <td>3070</td>\n",
       "      <td>840</td>\n",
       "      <td>88.0</td>\n",
       "      <td>0.0</td>\n",
       "      <td>0.0</td>\n",
       "      <td>6.0</td>\n",
       "      <td>0.0</td>\n",
       "    </tr>\n",
       "    <tr>\n",
       "      <th>204440</th>\n",
       "      <td>20</td>\n",
       "      <td>1</td>\n",
       "      <td>1</td>\n",
       "      <td>1</td>\n",
       "      <td>0</td>\n",
       "      <td>2</td>\n",
       "      <td>2</td>\n",
       "      <td>2</td>\n",
       "      <td>2</td>\n",
       "      <td>2</td>\n",
       "      <td>...</td>\n",
       "      <td>2</td>\n",
       "      <td>0</td>\n",
       "      <td>0</td>\n",
       "      <td>1780</td>\n",
       "      <td>800</td>\n",
       "      <td>81.0</td>\n",
       "      <td>0.0</td>\n",
       "      <td>0.0</td>\n",
       "      <td>2.0</td>\n",
       "      <td>0.0</td>\n",
       "    </tr>\n",
       "  </tbody>\n",
       "</table>\n",
       "<p>53030 rows × 25 columns</p>\n",
       "</div>"
      ],
      "text/plain": [
       "        InscClaimAmtReimbursed  EncounterType  Gender  Race  \\\n",
       "176067                     200              1       2     1   \n",
       "239243                      10              1       1     1   \n",
       "233032                     300              1       2     1   \n",
       "533034                     200              1       1     1   \n",
       "330375                      20              1       2     1   \n",
       "...                        ...            ...     ...   ...   \n",
       "461661                     400              1       2     1   \n",
       "281000                      70              1       2     2   \n",
       "446396                    1900              1       2     1   \n",
       "515491                     500              1       1     1   \n",
       "204440                      20              1       1     1   \n",
       "\n",
       "        RenalDiseaseIndicator  ChronicCond_Alzheimer  \\\n",
       "176067                      0                      1   \n",
       "239243                      1                      1   \n",
       "233032                      0                      1   \n",
       "533034                      0                      1   \n",
       "330375                      1                      1   \n",
       "...                       ...                    ...   \n",
       "461661                      0                      2   \n",
       "281000                      0                      2   \n",
       "446396                      1                      2   \n",
       "515491                      0                      1   \n",
       "204440                      0                      2   \n",
       "\n",
       "        ChronicCond_Heartfailure  ChronicCond_KidneyDisease  \\\n",
       "176067                         1                          1   \n",
       "239243                         1                          1   \n",
       "233032                         1                          2   \n",
       "533034                         2                          1   \n",
       "330375                         1                          1   \n",
       "...                          ...                        ...   \n",
       "461661                         1                          1   \n",
       "281000                         1                          2   \n",
       "446396                         1                          1   \n",
       "515491                         1                          1   \n",
       "204440                         2                          2   \n",
       "\n",
       "        ChronicCond_Cancer  ChronicCond_ObstrPulmonary  ...  \\\n",
       "176067                   2                           2  ...   \n",
       "239243                   2                           2  ...   \n",
       "233032                   2                           2  ...   \n",
       "533034                   2                           2  ...   \n",
       "330375                   2                           2  ...   \n",
       "...                    ...                         ...  ...   \n",
       "461661                   2                           1  ...   \n",
       "281000                   2                           2  ...   \n",
       "446396                   2                           1  ...   \n",
       "515491                   1                           1  ...   \n",
       "204440                   2                           2  ...   \n",
       "\n",
       "        ChronicCond_stroke  IPAnnualReimbursementAmt  IPAnnualDeductibleAmt  \\\n",
       "176067                   2                         0                      0   \n",
       "239243                   2                         0                      0   \n",
       "233032                   2                      8000                   1068   \n",
       "533034                   2                         0                      0   \n",
       "330375                   2                         0                      0   \n",
       "...                    ...                       ...                    ...   \n",
       "461661                   2                         0                      0   \n",
       "281000                   2                         0                      0   \n",
       "446396                   2                         0                      0   \n",
       "515491                   2                         0                      0   \n",
       "204440                   2                         0                      0   \n",
       "\n",
       "        OPAnnualReimbursementAmt  OPAnnualDeductibleAmt    Age  IsDead  \\\n",
       "176067                       270                     20  101.0     0.0   \n",
       "239243                      3940                    520   54.0     0.0   \n",
       "233032                      3340                    380   72.0     0.0   \n",
       "533034                      2010                    430   81.0     0.0   \n",
       "330375                      3270                     50   84.0     0.0   \n",
       "...                          ...                    ...    ...     ...   \n",
       "461661                       900                    300   86.0     0.0   \n",
       "281000                       420                     50   63.0     0.0   \n",
       "446396                     30920                   8070   52.0     0.0   \n",
       "515491                      3070                    840   88.0     0.0   \n",
       "204440                      1780                    800   81.0     0.0   \n",
       "\n",
       "        DaysAdmitted  TotalDiagnosis  TotalProcedure  \n",
       "176067           0.0             3.0             0.0  \n",
       "239243           0.0             1.0             0.0  \n",
       "233032           0.0             1.0             0.0  \n",
       "533034           0.0             1.0             0.0  \n",
       "330375           0.0             5.0             0.0  \n",
       "...              ...             ...             ...  \n",
       "461661           0.0             2.0             0.0  \n",
       "281000           0.0             3.0             0.0  \n",
       "446396           0.0             4.0             0.0  \n",
       "515491           0.0             6.0             0.0  \n",
       "204440           0.0             2.0             0.0  \n",
       "\n",
       "[53030 rows x 25 columns]"
      ]
     },
     "execution_count": 133,
     "metadata": {},
     "output_type": "execute_result"
    }
   ],
   "source": [
    "x_test"
   ]
  },
  {
   "cell_type": "code",
   "execution_count": 134,
   "metadata": {},
   "outputs": [
    {
     "data": {
      "text/html": [
       "<div>\n",
       "<style scoped>\n",
       "    .dataframe tbody tr th:only-of-type {\n",
       "        vertical-align: middle;\n",
       "    }\n",
       "\n",
       "    .dataframe tbody tr th {\n",
       "        vertical-align: top;\n",
       "    }\n",
       "\n",
       "    .dataframe thead th {\n",
       "        text-align: right;\n",
       "    }\n",
       "</style>\n",
       "<table border=\"1\" class=\"dataframe\">\n",
       "  <thead>\n",
       "    <tr style=\"text-align: right;\">\n",
       "      <th></th>\n",
       "      <th>InscClaimAmtReimbursed</th>\n",
       "      <th>EncounterType</th>\n",
       "      <th>Gender</th>\n",
       "      <th>Race</th>\n",
       "      <th>RenalDiseaseIndicator</th>\n",
       "      <th>ChronicCond_Alzheimer</th>\n",
       "      <th>ChronicCond_Heartfailure</th>\n",
       "      <th>ChronicCond_KidneyDisease</th>\n",
       "      <th>ChronicCond_Cancer</th>\n",
       "      <th>ChronicCond_ObstrPulmonary</th>\n",
       "      <th>...</th>\n",
       "      <th>ChronicCond_stroke</th>\n",
       "      <th>IPAnnualReimbursementAmt</th>\n",
       "      <th>IPAnnualDeductibleAmt</th>\n",
       "      <th>OPAnnualReimbursementAmt</th>\n",
       "      <th>OPAnnualDeductibleAmt</th>\n",
       "      <th>Age</th>\n",
       "      <th>IsDead</th>\n",
       "      <th>DaysAdmitted</th>\n",
       "      <th>TotalDiagnosis</th>\n",
       "      <th>TotalProcedure</th>\n",
       "    </tr>\n",
       "  </thead>\n",
       "  <tbody>\n",
       "  </tbody>\n",
       "</table>\n",
       "<p>0 rows × 25 columns</p>\n",
       "</div>"
      ],
      "text/plain": [
       "Empty DataFrame\n",
       "Columns: [InscClaimAmtReimbursed, EncounterType, Gender, Race, RenalDiseaseIndicator, ChronicCond_Alzheimer, ChronicCond_Heartfailure, ChronicCond_KidneyDisease, ChronicCond_Cancer, ChronicCond_ObstrPulmonary, ChronicCond_Depression, ChronicCond_Diabetes, ChronicCond_IschemicHeart, ChronicCond_Osteoporasis, ChronicCond_rheumatoidarthritis, ChronicCond_stroke, IPAnnualReimbursementAmt, IPAnnualDeductibleAmt, OPAnnualReimbursementAmt, OPAnnualDeductibleAmt, Age, IsDead, DaysAdmitted, TotalDiagnosis, TotalProcedure]\n",
       "Index: []\n",
       "\n",
       "[0 rows x 25 columns]"
      ]
     },
     "execution_count": 134,
     "metadata": {},
     "output_type": "execute_result"
    }
   ],
   "source": [
    "x_test.loc[[]]"
   ]
  },
  {
   "cell_type": "code",
   "execution_count": 135,
   "metadata": {},
   "outputs": [],
   "source": [
    "list = x_test.index"
   ]
  },
  {
   "cell_type": "code",
   "execution_count": 136,
   "metadata": {
    "collapsed": true
   },
   "outputs": [
    {
     "ename": "KeyError",
     "evalue": "\"None of [Int64Index([176218], dtype='int64')] are in the [index]\"",
     "output_type": "error",
     "traceback": [
      "\u001b[1;31m---------------------------------------------------------------------------\u001b[0m",
      "\u001b[1;31mKeyError\u001b[0m                                  Traceback (most recent call last)",
      "\u001b[1;32m~\\AppData\\Local\\Temp/ipykernel_5172/269784637.py\u001b[0m in \u001b[0;36m<module>\u001b[1;34m\u001b[0m\n\u001b[1;32m----> 1\u001b[1;33m \u001b[0mchoosen_instance\u001b[0m \u001b[1;33m=\u001b[0m \u001b[0mx_test\u001b[0m\u001b[1;33m.\u001b[0m\u001b[0mloc\u001b[0m\u001b[1;33m[\u001b[0m\u001b[1;33m[\u001b[0m\u001b[1;36m176218\u001b[0m\u001b[1;33m]\u001b[0m\u001b[1;33m]\u001b[0m\u001b[1;33m.\u001b[0m\u001b[0mvalues\u001b[0m\u001b[1;33m[\u001b[0m\u001b[1;36m0\u001b[0m\u001b[1;33m]\u001b[0m\u001b[1;33m\u001b[0m\u001b[1;33m\u001b[0m\u001b[0m\n\u001b[0m\u001b[0;32m      2\u001b[0m \u001b[0mchoosen_instance\u001b[0m\u001b[1;33m\u001b[0m\u001b[1;33m\u001b[0m\u001b[0m\n",
      "\u001b[1;32m~\\Anaconda3\\lib\\site-packages\\pandas\\core\\indexing.py\u001b[0m in \u001b[0;36m__getitem__\u001b[1;34m(self, key)\u001b[0m\n\u001b[0;32m    929\u001b[0m \u001b[1;33m\u001b[0m\u001b[0m\n\u001b[0;32m    930\u001b[0m             \u001b[0mmaybe_callable\u001b[0m \u001b[1;33m=\u001b[0m \u001b[0mcom\u001b[0m\u001b[1;33m.\u001b[0m\u001b[0mapply_if_callable\u001b[0m\u001b[1;33m(\u001b[0m\u001b[0mkey\u001b[0m\u001b[1;33m,\u001b[0m \u001b[0mself\u001b[0m\u001b[1;33m.\u001b[0m\u001b[0mobj\u001b[0m\u001b[1;33m)\u001b[0m\u001b[1;33m\u001b[0m\u001b[1;33m\u001b[0m\u001b[0m\n\u001b[1;32m--> 931\u001b[1;33m             \u001b[1;32mreturn\u001b[0m \u001b[0mself\u001b[0m\u001b[1;33m.\u001b[0m\u001b[0m_getitem_axis\u001b[0m\u001b[1;33m(\u001b[0m\u001b[0mmaybe_callable\u001b[0m\u001b[1;33m,\u001b[0m \u001b[0maxis\u001b[0m\u001b[1;33m=\u001b[0m\u001b[0maxis\u001b[0m\u001b[1;33m)\u001b[0m\u001b[1;33m\u001b[0m\u001b[1;33m\u001b[0m\u001b[0m\n\u001b[0m\u001b[0;32m    932\u001b[0m \u001b[1;33m\u001b[0m\u001b[0m\n\u001b[0;32m    933\u001b[0m     \u001b[1;32mdef\u001b[0m \u001b[0m_is_scalar_access\u001b[0m\u001b[1;33m(\u001b[0m\u001b[0mself\u001b[0m\u001b[1;33m,\u001b[0m \u001b[0mkey\u001b[0m\u001b[1;33m:\u001b[0m \u001b[0mtuple\u001b[0m\u001b[1;33m)\u001b[0m\u001b[1;33m:\u001b[0m\u001b[1;33m\u001b[0m\u001b[1;33m\u001b[0m\u001b[0m\n",
      "\u001b[1;32m~\\Anaconda3\\lib\\site-packages\\pandas\\core\\indexing.py\u001b[0m in \u001b[0;36m_getitem_axis\u001b[1;34m(self, key, axis)\u001b[0m\n\u001b[0;32m   1151\u001b[0m                     \u001b[1;32mraise\u001b[0m \u001b[0mValueError\u001b[0m\u001b[1;33m(\u001b[0m\u001b[1;34m\"Cannot index with multidimensional key\"\u001b[0m\u001b[1;33m)\u001b[0m\u001b[1;33m\u001b[0m\u001b[1;33m\u001b[0m\u001b[0m\n\u001b[0;32m   1152\u001b[0m \u001b[1;33m\u001b[0m\u001b[0m\n\u001b[1;32m-> 1153\u001b[1;33m                 \u001b[1;32mreturn\u001b[0m \u001b[0mself\u001b[0m\u001b[1;33m.\u001b[0m\u001b[0m_getitem_iterable\u001b[0m\u001b[1;33m(\u001b[0m\u001b[0mkey\u001b[0m\u001b[1;33m,\u001b[0m \u001b[0maxis\u001b[0m\u001b[1;33m=\u001b[0m\u001b[0maxis\u001b[0m\u001b[1;33m)\u001b[0m\u001b[1;33m\u001b[0m\u001b[1;33m\u001b[0m\u001b[0m\n\u001b[0m\u001b[0;32m   1154\u001b[0m \u001b[1;33m\u001b[0m\u001b[0m\n\u001b[0;32m   1155\u001b[0m             \u001b[1;31m# nested tuple slicing\u001b[0m\u001b[1;33m\u001b[0m\u001b[1;33m\u001b[0m\u001b[0m\n",
      "\u001b[1;32m~\\Anaconda3\\lib\\site-packages\\pandas\\core\\indexing.py\u001b[0m in \u001b[0;36m_getitem_iterable\u001b[1;34m(self, key, axis)\u001b[0m\n\u001b[0;32m   1091\u001b[0m \u001b[1;33m\u001b[0m\u001b[0m\n\u001b[0;32m   1092\u001b[0m         \u001b[1;31m# A collection of keys\u001b[0m\u001b[1;33m\u001b[0m\u001b[1;33m\u001b[0m\u001b[0m\n\u001b[1;32m-> 1093\u001b[1;33m         \u001b[0mkeyarr\u001b[0m\u001b[1;33m,\u001b[0m \u001b[0mindexer\u001b[0m \u001b[1;33m=\u001b[0m \u001b[0mself\u001b[0m\u001b[1;33m.\u001b[0m\u001b[0m_get_listlike_indexer\u001b[0m\u001b[1;33m(\u001b[0m\u001b[0mkey\u001b[0m\u001b[1;33m,\u001b[0m \u001b[0maxis\u001b[0m\u001b[1;33m)\u001b[0m\u001b[1;33m\u001b[0m\u001b[1;33m\u001b[0m\u001b[0m\n\u001b[0m\u001b[0;32m   1094\u001b[0m         return self.obj._reindex_with_indexers(\n\u001b[0;32m   1095\u001b[0m             \u001b[1;33m{\u001b[0m\u001b[0maxis\u001b[0m\u001b[1;33m:\u001b[0m \u001b[1;33m[\u001b[0m\u001b[0mkeyarr\u001b[0m\u001b[1;33m,\u001b[0m \u001b[0mindexer\u001b[0m\u001b[1;33m]\u001b[0m\u001b[1;33m}\u001b[0m\u001b[1;33m,\u001b[0m \u001b[0mcopy\u001b[0m\u001b[1;33m=\u001b[0m\u001b[1;32mTrue\u001b[0m\u001b[1;33m,\u001b[0m \u001b[0mallow_dups\u001b[0m\u001b[1;33m=\u001b[0m\u001b[1;32mTrue\u001b[0m\u001b[1;33m\u001b[0m\u001b[1;33m\u001b[0m\u001b[0m\n",
      "\u001b[1;32m~\\Anaconda3\\lib\\site-packages\\pandas\\core\\indexing.py\u001b[0m in \u001b[0;36m_get_listlike_indexer\u001b[1;34m(self, key, axis)\u001b[0m\n\u001b[0;32m   1312\u001b[0m             \u001b[0mkeyarr\u001b[0m\u001b[1;33m,\u001b[0m \u001b[0mindexer\u001b[0m\u001b[1;33m,\u001b[0m \u001b[0mnew_indexer\u001b[0m \u001b[1;33m=\u001b[0m \u001b[0max\u001b[0m\u001b[1;33m.\u001b[0m\u001b[0m_reindex_non_unique\u001b[0m\u001b[1;33m(\u001b[0m\u001b[0mkeyarr\u001b[0m\u001b[1;33m)\u001b[0m\u001b[1;33m\u001b[0m\u001b[1;33m\u001b[0m\u001b[0m\n\u001b[0;32m   1313\u001b[0m \u001b[1;33m\u001b[0m\u001b[0m\n\u001b[1;32m-> 1314\u001b[1;33m         \u001b[0mself\u001b[0m\u001b[1;33m.\u001b[0m\u001b[0m_validate_read_indexer\u001b[0m\u001b[1;33m(\u001b[0m\u001b[0mkeyarr\u001b[0m\u001b[1;33m,\u001b[0m \u001b[0mindexer\u001b[0m\u001b[1;33m,\u001b[0m \u001b[0maxis\u001b[0m\u001b[1;33m)\u001b[0m\u001b[1;33m\u001b[0m\u001b[1;33m\u001b[0m\u001b[0m\n\u001b[0m\u001b[0;32m   1315\u001b[0m \u001b[1;33m\u001b[0m\u001b[0m\n\u001b[0;32m   1316\u001b[0m         if needs_i8_conversion(ax.dtype) or isinstance(\n",
      "\u001b[1;32m~\\Anaconda3\\lib\\site-packages\\pandas\\core\\indexing.py\u001b[0m in \u001b[0;36m_validate_read_indexer\u001b[1;34m(self, key, indexer, axis)\u001b[0m\n\u001b[0;32m   1372\u001b[0m                 \u001b[1;32mif\u001b[0m \u001b[0muse_interval_msg\u001b[0m\u001b[1;33m:\u001b[0m\u001b[1;33m\u001b[0m\u001b[1;33m\u001b[0m\u001b[0m\n\u001b[0;32m   1373\u001b[0m                     \u001b[0mkey\u001b[0m \u001b[1;33m=\u001b[0m \u001b[0mlist\u001b[0m\u001b[1;33m(\u001b[0m\u001b[0mkey\u001b[0m\u001b[1;33m)\u001b[0m\u001b[1;33m\u001b[0m\u001b[1;33m\u001b[0m\u001b[0m\n\u001b[1;32m-> 1374\u001b[1;33m                 \u001b[1;32mraise\u001b[0m \u001b[0mKeyError\u001b[0m\u001b[1;33m(\u001b[0m\u001b[1;34mf\"None of [{key}] are in the [{axis_name}]\"\u001b[0m\u001b[1;33m)\u001b[0m\u001b[1;33m\u001b[0m\u001b[1;33m\u001b[0m\u001b[0m\n\u001b[0m\u001b[0;32m   1375\u001b[0m \u001b[1;33m\u001b[0m\u001b[0m\n\u001b[0;32m   1376\u001b[0m             \u001b[0mnot_found\u001b[0m \u001b[1;33m=\u001b[0m \u001b[0mlist\u001b[0m\u001b[1;33m(\u001b[0m\u001b[0mensure_index\u001b[0m\u001b[1;33m(\u001b[0m\u001b[0mkey\u001b[0m\u001b[1;33m)\u001b[0m\u001b[1;33m[\u001b[0m\u001b[0mmissing_mask\u001b[0m\u001b[1;33m.\u001b[0m\u001b[0mnonzero\u001b[0m\u001b[1;33m(\u001b[0m\u001b[1;33m)\u001b[0m\u001b[1;33m[\u001b[0m\u001b[1;36m0\u001b[0m\u001b[1;33m]\u001b[0m\u001b[1;33m]\u001b[0m\u001b[1;33m.\u001b[0m\u001b[0munique\u001b[0m\u001b[1;33m(\u001b[0m\u001b[1;33m)\u001b[0m\u001b[1;33m)\u001b[0m\u001b[1;33m\u001b[0m\u001b[1;33m\u001b[0m\u001b[0m\n",
      "\u001b[1;31mKeyError\u001b[0m: \"None of [Int64Index([176218], dtype='int64')] are in the [index]\""
     ]
    }
   ],
   "source": [
    "choosen_instance = x_test.loc[[176218]].values[0]\n",
    "choosen_instance"
   ]
  },
  {
   "cell_type": "code",
   "execution_count": null,
   "metadata": {},
   "outputs": [],
   "source": [
    "\n",
    "exp = explainer.explain_instance(choosen_instance, predict_fn_rf,num_features=10)\n",
    "exp.show_in_notebook(show_all=False)"
   ]
  },
  {
   "cell_type": "code",
   "execution_count": null,
   "metadata": {},
   "outputs": [],
   "source": [
    "df= exp.show_in_notebook(show_all=False)"
   ]
  },
  {
   "cell_type": "code",
   "execution_count": null,
   "metadata": {},
   "outputs": [],
   "source": [
    "accuracy[accuracy==1].sum()"
   ]
  },
  {
   "cell_type": "code",
   "execution_count": null,
   "metadata": {},
   "outputs": [],
   "source": [
    "len(accuracy)"
   ]
  },
  {
   "cell_type": "code",
   "execution_count": 138,
   "metadata": {},
   "outputs": [],
   "source": [
    "pickle.dump(estimator1,open(\"rf_classifier.pkl\",'wb'))\n"
   ]
  },
  {
   "cell_type": "code",
   "execution_count": null,
   "metadata": {},
   "outputs": [],
   "source": [
    "pickle.dump(estimator1,open(\"rf_classifier.pkl\",'wb'))\n",
    "\n",
    "model = pickle.load(open('rf_classifier.pkl','rb'))\n",
    "\n",
    "predictions = model.predict(x_unseen)\n",
    "\n",
    "predict_df=pd.DataFrame(predictions)"
   ]
  },
  {
   "cell_type": "code",
   "execution_count": 152,
   "metadata": {},
   "outputs": [
    {
     "data": {
      "text/plain": [
       "['rf_classifier.joblib']"
      ]
     },
     "execution_count": 152,
     "metadata": {},
     "output_type": "execute_result"
    }
   ],
   "source": [
    "from joblib import dump, load\n",
    "dump(estimator1, 'rf_classifier.joblib') "
   ]
  },
  {
   "cell_type": "code",
   "execution_count": 175,
   "metadata": {},
   "outputs": [],
   "source": [
    "accuracy = estimator1.predict(x_unseen)"
   ]
  },
  {
   "cell_type": "code",
   "execution_count": null,
   "metadata": {},
   "outputs": [],
   "source": [
    "#for dt \n",
    "dt_predict_df=pd.DataFrame(accuracy)"
   ]
  },
  {
   "cell_type": "code",
   "execution_count": null,
   "metadata": {},
   "outputs": [],
   "source": [
    "df_pred_comb = x_unseen.reset_index(drop=True)\n",
    "df_pred_comb"
   ]
  },
  {
   "cell_type": "code",
   "execution_count": null,
   "metadata": {},
   "outputs": [],
   "source": []
  },
  {
   "cell_type": "code",
   "execution_count": null,
   "metadata": {},
   "outputs": [],
   "source": [
    "df_predicted_combined = pd.concat([df_pred_comb, dt_predict_df],axis=1)\n",
    "df_predicted_combined"
   ]
  },
  {
   "cell_type": "code",
   "execution_count": null,
   "metadata": {},
   "outputs": [],
   "source": [
    "df_predicted_combined.rename(columns ={0 : 'pred'}, inplace=True)"
   ]
  },
  {
   "cell_type": "code",
   "execution_count": null,
   "metadata": {},
   "outputs": [],
   "source": [
    "df_predicted_combined[df_predicted_combined[\"InscClaimAmtReimbursed\"]>5000]"
   ]
  },
  {
   "cell_type": "code",
   "execution_count": null,
   "metadata": {},
   "outputs": [],
   "source": [
    "choosen_instance = df_predicted_combined.loc[[10]].values[0]\n"
   ]
  },
  {
   "cell_type": "code",
   "execution_count": null,
   "metadata": {},
   "outputs": [],
   "source": [
    "choosen_instance[:-1]"
   ]
  },
  {
   "cell_type": "code",
   "execution_count": null,
   "metadata": {},
   "outputs": [],
   "source": [
    "exp = explainer.explain_instance(choosen_instance[:-1], predict_fn_rf,num_features=10)\n",
    "exp.show_in_notebook(show_all=False)"
   ]
  },
  {
   "cell_type": "code",
   "execution_count": null,
   "metadata": {},
   "outputs": [],
   "source": [
    "df_predicted_combined[\"pred\"].value_counts()"
   ]
  },
  {
   "cell_type": "code",
   "execution_count": null,
   "metadata": {},
   "outputs": [],
   "source": [
    "df_predicted_combined.describe()"
   ]
  },
  {
   "cell_type": "code",
   "execution_count": null,
   "metadata": {},
   "outputs": [],
   "source": [
    "fig, ax = plt.subplots()\n",
    "\n",
    "sns.catplot(\"EncounterType\", hue=\"pred\", data=df_predicted_combined, kind=\"count\", \n",
    "            palette={1:\"blue\", 0:\"green\"}, ax=ax)"
   ]
  },
  {
   "cell_type": "code",
   "execution_count": null,
   "metadata": {},
   "outputs": [],
   "source": [
    "import matplotlib.pyplot as plt\n",
    "\n",
    "df_predicted_combined.groupby(['InscClaimAmtReimbursed','pred']).sum().plot(kind='bar')"
   ]
  },
  {
   "cell_type": "code",
   "execution_count": null,
   "metadata": {},
   "outputs": [],
   "source": [
    "pred_true = df_predicted_combined[df_predicted_combined[\"pred\"] ==1]"
   ]
  },
  {
   "cell_type": "code",
   "execution_count": null,
   "metadata": {},
   "outputs": [],
   "source": [
    "pred_true"
   ]
  },
  {
   "cell_type": "code",
   "execution_count": 162,
   "metadata": {},
   "outputs": [],
   "source": [
    "from pandas_profiling import ProfileReport as pp"
   ]
  },
  {
   "cell_type": "code",
   "execution_count": 163,
   "metadata": {},
   "outputs": [],
   "source": [
    "pred_true.to_csv(\"true_predictions.csv\")\n",
    "df_predicted_combined.to_csv(\"all_predictions.csv\")"
   ]
  },
  {
   "cell_type": "code",
   "execution_count": null,
   "metadata": {},
   "outputs": [],
   "source": []
  },
  {
   "cell_type": "markdown",
   "metadata": {},
   "source": [
    "# hold"
   ]
  },
  {
   "cell_type": "markdown",
   "metadata": {},
   "source": [
    "### Naive Bayes"
   ]
  },
  {
   "cell_type": "code",
   "execution_count": null,
   "metadata": {},
   "outputs": [],
   "source": [
    "from sklearn.naive_bayes import GaussianNB\n",
    "bayes= GaussianNB()\n",
    "bayes.fit(x_train, y_train)\n",
    "train_pred= bayes.predict(x_train)\n",
    "test_pred= bayes.predict(x_test)\n",
    "print(accuracy_score(y_train,train_pred))\n",
    "print(accuracy_score(y_test,test_pred))"
   ]
  },
  {
   "cell_type": "code",
   "execution_count": null,
   "metadata": {},
   "outputs": [],
   "source": [
    "bayes.fit(x_train, y_train)\n",
    "train_pred= bayes.predict(x_train1)\n",
    "test_pred= bayes.predict(x_test)\n",
    "print(accuracy_score(y_train1,train_pred))\n",
    "print(accuracy_score(y_test,test_pred))"
   ]
  },
  {
   "cell_type": "code",
   "execution_count": null,
   "metadata": {},
   "outputs": [],
   "source": [
    "'''bayes.fit(x_train, y_train)\n",
    "train_pred= bayes.predict(x_train2)\n",
    "test_pred= bayes.predict(x_test)\n",
    "print(accuracy_score(y_train2,train_pred))\n",
    "print(accuracy_score(y_test,test_pred))'''"
   ]
  },
  {
   "cell_type": "markdown",
   "metadata": {},
   "source": [
    "### Logistic Regression"
   ]
  },
  {
   "cell_type": "code",
   "execution_count": null,
   "metadata": {},
   "outputs": [],
   "source": [
    "from sklearn.linear_model import LogisticRegression\n",
    "lr= LogisticRegression()\n",
    "lr.fit(x_train, y_train)\n",
    "train_pred= lr.predict(x_train)\n",
    "test_pred= lr.predict(x_test)\n",
    "print(accuracy_score(y_train,train_pred))\n",
    "print(accuracy_score(y_test,test_pred))"
   ]
  },
  {
   "cell_type": "code",
   "execution_count": null,
   "metadata": {},
   "outputs": [],
   "source": [
    "lr.fit(x_train1, y_train1)\n",
    "train_pred= lr.predict(x_train1)\n",
    "test_pred= lr.predict(x_test)\n",
    "print(accuracy_score(y_train1,train_pred))\n",
    "print(accuracy_score(y_test,test_pred))"
   ]
  },
  {
   "cell_type": "code",
   "execution_count": null,
   "metadata": {},
   "outputs": [],
   "source": [
    "'''lr.fit(x_train2, y_train2)\n",
    "train_pred= lr.predict(x_train2)\n",
    "test_pred= lr.predict(x_test)\n",
    "print(accuracy_score(y_train2,train_pred))\n",
    "print(accuracy_score(y_test,test_pred))'''"
   ]
  },
  {
   "cell_type": "markdown",
   "metadata": {},
   "source": [
    "### After Evaluation of Various parameters"
   ]
  },
  {
   "cell_type": "markdown",
   "metadata": {},
   "source": [
    "### Decision Tree"
   ]
  },
  {
   "cell_type": "code",
   "execution_count": null,
   "metadata": {
    "execution": {
     "iopub.execute_input": "2022-06-02T11:27:33.560856Z",
     "iopub.status.busy": "2022-06-02T11:27:33.560528Z",
     "iopub.status.idle": "2022-06-02T11:27:35.326739Z",
     "shell.execute_reply": "2022-06-02T11:27:35.325857Z",
     "shell.execute_reply.started": "2022-06-02T11:27:33.560825Z"
    }
   },
   "outputs": [],
   "source": [
    "import time\n",
    "from sklearn.metrics import f1_score\n",
    "from sklearn.metrics import fbeta_score\n",
    "estimator=  DecisionTreeClassifier(criterion= 'gini', max_depth=5, min_samples_split= 2)\n",
    "estimator.fit(x_train, y_train)\n",
    "model_score= estimator.predict(x_train)\n",
    "accuracy= estimator.predict(x_test)\n",
    "start = time.time()\n",
    "estimator.score(x_train, y_train)\n",
    "acc_random_forest = round(accuracy_score(y_test,accuracy)*100, 2)\n",
    "f1_random_forest = round(f1_score(y_test,accuracy,average = \"binary\")*100, 2)\n",
    "f_beta_random_forest = round(fbeta_score(y_test,accuracy,average = \"binary\",beta=0.5)*100, 2)\n",
    "\n",
    "end = time.time()\n",
    "\n",
    "acc_score.append({'Model':'Decision Tree', 'Score': accuracy_score(y_train, model_score), 'Accuracy': accuracy_score(y_test, accuracy), 'Time_Taken':end - start})"
   ]
  },
  {
   "cell_type": "code",
   "execution_count": null,
   "metadata": {
    "execution": {
     "iopub.execute_input": "2022-06-02T11:27:50.831096Z",
     "iopub.status.busy": "2022-06-02T11:27:50.830775Z",
     "iopub.status.idle": "2022-06-02T11:27:50.836813Z",
     "shell.execute_reply": "2022-06-02T11:27:50.835658Z",
     "shell.execute_reply.started": "2022-06-02T11:27:50.831067Z"
    }
   },
   "outputs": [],
   "source": [
    "fn= ['InscClaimAmtReimbursed', 'IPAnnualReimbursementAmt',\n",
    "    'IPAnnualDeductibleAmt', 'OPAnnualReimbursementAmt',\n",
    "    'OPAnnualDeductibleAmt', 'Age', 'DaysAdmitted',\n",
    "    'TotalDiagnosis', 'TotalProcedure', 'EncounterType', 'Gender', 'Race',\n",
    "    'RenalDiseaseIndicator', 'ChronicCond_Alzheimer',\n",
    "    'ChronicCond_Heartfailure', 'ChronicCond_KidneyDisease',\n",
    "    'ChronicCond_Cancer', 'ChronicCond_ObstrPulmonary',\n",
    "    'ChronicCond_Depression', 'ChronicCond_Diabetes',\n",
    "    'ChronicCond_IschemicHeart', 'ChronicCond_Osteoporasis',\n",
    "    'ChronicCond_rheumatoidarthritis', 'ChronicCond_stroke', 'IsDead']"
   ]
  },
  {
   "cell_type": "code",
   "execution_count": null,
   "metadata": {
    "execution": {
     "iopub.execute_input": "2022-06-02T11:27:55.479958Z",
     "iopub.status.busy": "2022-06-02T11:27:55.479627Z",
     "iopub.status.idle": "2022-06-02T11:27:55.484568Z",
     "shell.execute_reply": "2022-06-02T11:27:55.483603Z",
     "shell.execute_reply.started": "2022-06-02T11:27:55.479928Z"
    }
   },
   "outputs": [],
   "source": [
    "cl=['No','Yes']"
   ]
  },
  {
   "cell_type": "code",
   "execution_count": null,
   "metadata": {
    "execution": {
     "iopub.execute_input": "2022-06-02T11:27:59.06494Z",
     "iopub.status.busy": "2022-06-02T11:27:59.06461Z",
     "iopub.status.idle": "2022-06-02T11:28:01.123745Z",
     "shell.execute_reply": "2022-06-02T11:28:01.119511Z",
     "shell.execute_reply.started": "2022-06-02T11:27:59.06491Z"
    }
   },
   "outputs": [],
   "source": [
    "fig, axes = plt.subplots(nrows = 1,ncols = 1,figsize = (15,10), dpi=300)\n",
    "tree.plot_tree(estimator, feature_names= fn, class_names=cl);"
   ]
  },
  {
   "cell_type": "markdown",
   "metadata": {},
   "source": [
    "### Destandardizing Values"
   ]
  },
  {
   "cell_type": "code",
   "execution_count": null,
   "metadata": {
    "execution": {
     "iopub.execute_input": "2022-06-02T11:28:32.531176Z",
     "iopub.status.busy": "2022-06-02T11:28:32.530667Z",
     "iopub.status.idle": "2022-06-02T11:28:32.542236Z",
     "shell.execute_reply": "2022-06-02T11:28:32.54106Z",
     "shell.execute_reply.started": "2022-06-02T11:28:32.531138Z"
    }
   },
   "outputs": [],
   "source": [
    "m1= Master_df['DaysAdmitted'].mean()\n",
    "s1= Master_df['DaysAdmitted'].std()\n",
    "print((0.007*s1)+m1)\n",
    "print((9.57*s1)+m1)\n",
    "print((9.135*s1)+m1)"
   ]
  },
  {
   "cell_type": "code",
   "execution_count": null,
   "metadata": {
    "execution": {
     "iopub.execute_input": "2022-06-02T11:28:54.031253Z",
     "iopub.status.busy": "2022-06-02T11:28:54.030891Z",
     "iopub.status.idle": "2022-06-02T11:28:54.040598Z",
     "shell.execute_reply": "2022-06-02T11:28:54.039297Z",
     "shell.execute_reply.started": "2022-06-02T11:28:54.031222Z"
    }
   },
   "outputs": [],
   "source": [
    "m2= Master_df['OPAnnualDeductibleAmt'].mean()\n",
    "s2= Master_df['OPAnnualDeductibleAmt'].std()\n",
    "print((10.514*s2)+m2)"
   ]
  },
  {
   "cell_type": "code",
   "execution_count": null,
   "metadata": {
    "execution": {
     "iopub.execute_input": "2022-06-02T11:28:57.960206Z",
     "iopub.status.busy": "2022-06-02T11:28:57.959709Z",
     "iopub.status.idle": "2022-06-02T11:28:57.969236Z",
     "shell.execute_reply": "2022-06-02T11:28:57.96807Z",
     "shell.execute_reply.started": "2022-06-02T11:28:57.96017Z"
    }
   },
   "outputs": [],
   "source": [
    "m3= Master_df['Age'].mean()\n",
    "s3= Master_df['Age'].std()\n",
    "print((-0.481*s3)+m3)"
   ]
  },
  {
   "cell_type": "code",
   "execution_count": null,
   "metadata": {
    "execution": {
     "iopub.execute_input": "2022-06-02T11:29:12.27026Z",
     "iopub.status.busy": "2022-06-02T11:29:12.269899Z",
     "iopub.status.idle": "2022-06-02T11:29:12.279132Z",
     "shell.execute_reply": "2022-06-02T11:29:12.278025Z",
     "shell.execute_reply.started": "2022-06-02T11:29:12.270222Z"
    }
   },
   "outputs": [],
   "source": [
    "m4= Master_df['InscClaimAmtReimbursed'].mean()\n",
    "s4= Master_df['InscClaimAmtReimbursed'].std()\n",
    "print((10.075*s4)+m4)"
   ]
  },
  {
   "cell_type": "code",
   "execution_count": null,
   "metadata": {
    "execution": {
     "iopub.execute_input": "2022-06-02T11:29:18.040655Z",
     "iopub.status.busy": "2022-06-02T11:29:18.040292Z",
     "iopub.status.idle": "2022-06-02T11:29:18.118557Z",
     "shell.execute_reply": "2022-06-02T11:29:18.117649Z",
     "shell.execute_reply.started": "2022-06-02T11:29:18.040626Z"
    }
   },
   "outputs": [],
   "source": [
    "confusion_matrix(y_test,accuracy)"
   ]
  },
  {
   "cell_type": "code",
   "execution_count": null,
   "metadata": {
    "execution": {
     "iopub.execute_input": "2022-06-02T11:29:22.169999Z",
     "iopub.status.busy": "2022-06-02T11:29:22.169668Z",
     "iopub.status.idle": "2022-06-02T11:29:22.248157Z",
     "shell.execute_reply": "2022-06-02T11:29:22.247428Z",
     "shell.execute_reply.started": "2022-06-02T11:29:22.16997Z"
    }
   },
   "outputs": [],
   "source": [
    "tn, fp, fn, tp = confusion_matrix(y_test,accuracy).ravel()\n",
    "(tn, fp, fn, tp)  "
   ]
  },
  {
   "cell_type": "code",
   "execution_count": null,
   "metadata": {
    "execution": {
     "iopub.execute_input": "2022-06-02T11:33:49.001216Z",
     "iopub.status.busy": "2022-06-02T11:33:49.00088Z",
     "iopub.status.idle": "2022-06-02T11:33:49.304468Z",
     "shell.execute_reply": "2022-06-02T11:33:49.30371Z",
     "shell.execute_reply.started": "2022-06-02T11:33:49.001187Z"
    }
   },
   "outputs": [],
   "source": [
    "train_fpr, train_tpr, thresholds = roc_curve(y_train, estimator.predict_proba(x_train)[:,1])\n",
    "test_fpr, test_tpr, thresholds = roc_curve(y_test, estimator.predict_proba(x_test)[:,1])\n",
    "plt.plot(train_fpr, train_tpr, label=\"train AUC =\"+str(auc(train_fpr, train_tpr)))\n",
    "plt.plot(test_fpr, test_tpr, label=\"test AUC =\"+str(auc(test_fpr, test_tpr)))\n",
    "plt.legend()\n",
    "plt.xlabel(\"FPR\")\n",
    "plt.ylabel(\"TPR\")\n",
    "plt.title(\"ROC CURVE\")\n",
    "plt.show()"
   ]
  },
  {
   "cell_type": "markdown",
   "metadata": {},
   "source": [
    "### Random Forest"
   ]
  },
  {
   "cell_type": "code",
   "execution_count": null,
   "metadata": {
    "execution": {
     "iopub.execute_input": "2022-06-02T11:33:55.646187Z",
     "iopub.status.busy": "2022-06-02T11:33:55.645861Z",
     "iopub.status.idle": "2022-06-02T11:37:04.57538Z",
     "shell.execute_reply": "2022-06-02T11:37:04.57458Z",
     "shell.execute_reply.started": "2022-06-02T11:33:55.646156Z"
    }
   },
   "outputs": [],
   "source": [
    "from sklearn.ensemble import RandomForestClassifier\n",
    "estimator1= RandomForestClassifier()\n",
    "estimator1.fit(x_train, y_train)\n",
    "model_score= estimator1.predict(x_train)\n",
    "accuracy= estimator1.predict(x_test)\n",
    "start = time.time()\n",
    "estimator1.score(x_train, y_train)\n",
    "acc_random_forest = round(accuracy_score(y_test,accuracy)*100, 2)\n",
    "f1_random_forest = round(f1_score(y_test,accuracy,average = \"binary\")*100, 2)\n",
    "f_beta_random_forest = round(fbeta_score(y_test,accuracy,average = \"binary\",beta=0.5)*100, 2)\n",
    "end = time.time()\n",
    "acc_score.append({'Model':'Random Forest', 'Score': accuracy_score(y_train, model_score), 'Accuracy': accuracy_score(y_test, accuracy),'Time_Taken':end - start})"
   ]
  },
  {
   "cell_type": "code",
   "execution_count": null,
   "metadata": {
    "execution": {
     "iopub.execute_input": "2022-06-02T11:38:35.735693Z",
     "iopub.status.busy": "2022-06-02T11:38:35.735326Z",
     "iopub.status.idle": "2022-06-02T11:38:35.817381Z",
     "shell.execute_reply": "2022-06-02T11:38:35.816452Z",
     "shell.execute_reply.started": "2022-06-02T11:38:35.735663Z"
    }
   },
   "outputs": [],
   "source": [
    "confusion_matrix(y_test,accuracy)"
   ]
  },
  {
   "cell_type": "code",
   "execution_count": null,
   "metadata": {
    "execution": {
     "iopub.execute_input": "2022-06-02T11:52:31.790771Z",
     "iopub.status.busy": "2022-06-02T11:52:31.790433Z",
     "iopub.status.idle": "2022-06-02T11:52:31.870145Z",
     "shell.execute_reply": "2022-06-02T11:52:31.869331Z",
     "shell.execute_reply.started": "2022-06-02T11:52:31.790734Z"
    }
   },
   "outputs": [],
   "source": [
    "tn, fp, fn, tp = confusion_matrix(y_test,accuracy).ravel()\n",
    "(tn, fp, fn, tp)"
   ]
  },
  {
   "cell_type": "code",
   "execution_count": null,
   "metadata": {
    "execution": {
     "iopub.execute_input": "2022-06-02T11:52:33.625075Z",
     "iopub.status.busy": "2022-06-02T11:52:33.624755Z",
     "iopub.status.idle": "2022-06-02T11:53:01.34252Z",
     "shell.execute_reply": "2022-06-02T11:53:01.341437Z",
     "shell.execute_reply.started": "2022-06-02T11:52:33.625044Z"
    }
   },
   "outputs": [],
   "source": [
    "train_fpr, train_tpr, thresholds = roc_curve(y_train, estimator1.predict_proba(x_train)[:,1])\n",
    "test_fpr, test_tpr, thresholds = roc_curve(y_test, estimator1.predict_proba(x_test)[:,1])\n",
    "\n",
    "plt.plot(train_fpr, train_tpr, label=\"train AUC =\"+str(auc(train_fpr, train_tpr)))\n",
    "plt.plot(test_fpr, test_tpr, label=\"test AUC =\"+str(auc(test_fpr, test_tpr)))\n",
    "plt.legend()\n",
    "plt.xlabel(\"FPR\")\n",
    "plt.ylabel(\"TPR\")\n",
    "plt.title(\"ROC CURVE\")\n",
    "plt.show()"
   ]
  },
  {
   "cell_type": "code",
   "execution_count": null,
   "metadata": {
    "execution": {
     "iopub.execute_input": "2022-06-02T12:31:31.526107Z",
     "iopub.status.busy": "2022-06-02T12:31:31.525793Z",
     "iopub.status.idle": "2022-06-02T12:31:31.536592Z",
     "shell.execute_reply": "2022-06-02T12:31:31.535532Z",
     "shell.execute_reply.started": "2022-06-02T12:31:31.526078Z"
    }
   },
   "outputs": [],
   "source": [
    "y_test_rf= y_test.reset_index()\n",
    "y_test.head()"
   ]
  },
  {
   "cell_type": "code",
   "execution_count": null,
   "metadata": {
    "execution": {
     "iopub.execute_input": "2022-06-02T12:31:32.891767Z",
     "iopub.status.busy": "2022-06-02T12:31:32.891097Z",
     "iopub.status.idle": "2022-06-02T12:31:32.933135Z",
     "shell.execute_reply": "2022-06-02T12:31:32.931957Z",
     "shell.execute_reply.started": "2022-06-02T12:31:32.89172Z"
    }
   },
   "outputs": [],
   "source": [
    "x_test_rf=  x_test.reset_index()\n",
    "x_test.head()"
   ]
  },
  {
   "cell_type": "code",
   "execution_count": null,
   "metadata": {
    "execution": {
     "iopub.execute_input": "2022-06-02T12:31:47.921333Z",
     "iopub.status.busy": "2022-06-02T12:31:47.920941Z",
     "iopub.status.idle": "2022-06-02T12:31:47.926862Z",
     "shell.execute_reply": "2022-06-02T12:31:47.926025Z",
     "shell.execute_reply.started": "2022-06-02T12:31:47.921302Z"
    }
   },
   "outputs": [],
   "source": [
    "y_test_rf.shape"
   ]
  },
  {
   "cell_type": "code",
   "execution_count": null,
   "metadata": {
    "execution": {
     "iopub.execute_input": "2022-06-02T12:31:50.990321Z",
     "iopub.status.busy": "2022-06-02T12:31:50.99Z",
     "iopub.status.idle": "2022-06-02T12:31:50.994583Z",
     "shell.execute_reply": "2022-06-02T12:31:50.993667Z",
     "shell.execute_reply.started": "2022-06-02T12:31:50.990291Z"
    }
   },
   "outputs": [],
   "source": [
    "accuracy= accuracy.reshape(55822,1)"
   ]
  },
  {
   "cell_type": "code",
   "execution_count": null,
   "metadata": {
    "execution": {
     "iopub.execute_input": "2022-06-02T12:31:58.006533Z",
     "iopub.status.busy": "2022-06-02T12:31:58.006179Z",
     "iopub.status.idle": "2022-06-02T12:31:58.011706Z",
     "shell.execute_reply": "2022-06-02T12:31:58.010493Z",
     "shell.execute_reply.started": "2022-06-02T12:31:58.006501Z"
    }
   },
   "outputs": [],
   "source": [
    "accuracy.shape"
   ]
  },
  {
   "cell_type": "code",
   "execution_count": null,
   "metadata": {
    "execution": {
     "iopub.execute_input": "2022-06-02T12:32:00.790892Z",
     "iopub.status.busy": "2022-06-02T12:32:00.790556Z",
     "iopub.status.idle": "2022-06-02T12:32:00.812605Z",
     "shell.execute_reply": "2022-06-02T12:32:00.81175Z",
     "shell.execute_reply.started": "2022-06-02T12:32:00.790862Z"
    }
   },
   "outputs": [],
   "source": [
    "accuracy= pd.DataFrame(accuracy, columns= ['Predict'])\n",
    "accuracy"
   ]
  },
  {
   "cell_type": "code",
   "execution_count": null,
   "metadata": {
    "execution": {
     "iopub.execute_input": "2022-06-02T12:32:08.256773Z",
     "iopub.status.busy": "2022-06-02T12:32:08.256355Z",
     "iopub.status.idle": "2022-06-02T12:32:08.272312Z",
     "shell.execute_reply": "2022-06-02T12:32:08.271298Z",
     "shell.execute_reply.started": "2022-06-02T12:32:08.256742Z"
    }
   },
   "outputs": [],
   "source": [
    "predictor= pd.concat([y_test_rf,accuracy], axis=1)\n",
    "predictor"
   ]
  },
  {
   "cell_type": "code",
   "execution_count": null,
   "metadata": {
    "execution": {
     "iopub.execute_input": "2022-06-02T12:32:44.825531Z",
     "iopub.status.busy": "2022-06-02T12:32:44.825175Z",
     "iopub.status.idle": "2022-06-02T12:32:44.836538Z",
     "shell.execute_reply": "2022-06-02T12:32:44.835463Z",
     "shell.execute_reply.started": "2022-06-02T12:32:44.825491Z"
    }
   },
   "outputs": [],
   "source": [
    "Index_label = predictor[(predictor['PotentialFraud'] ==1) & (predictor['Predict']==1)]\n",
    "indicies= Index_label['index']"
   ]
  },
  {
   "cell_type": "code",
   "execution_count": null,
   "metadata": {
    "execution": {
     "iopub.execute_input": "2022-06-02T12:32:54.036537Z",
     "iopub.status.busy": "2022-06-02T12:32:54.036196Z",
     "iopub.status.idle": "2022-06-02T12:32:54.04761Z",
     "shell.execute_reply": "2022-06-02T12:32:54.046738Z",
     "shell.execute_reply.started": "2022-06-02T12:32:54.036506Z"
    }
   },
   "outputs": [],
   "source": [
    "Index_label"
   ]
  },
  {
   "cell_type": "code",
   "execution_count": null,
   "metadata": {
    "execution": {
     "iopub.execute_input": "2022-06-02T12:33:34.102202Z",
     "iopub.status.busy": "2022-06-02T12:33:34.101769Z",
     "iopub.status.idle": "2022-06-02T12:33:34.156722Z",
     "shell.execute_reply": "2022-06-02T12:33:34.155779Z",
     "shell.execute_reply.started": "2022-06-02T12:33:34.102164Z"
    }
   },
   "outputs": [],
   "source": [
    "wrong_predictions= Master_df.iloc[indicies,:]\n",
    "wrong_predictions"
   ]
  },
  {
   "cell_type": "code",
   "execution_count": null,
   "metadata": {
    "execution": {
     "iopub.execute_input": "2022-06-02T12:35:26.651211Z",
     "iopub.status.busy": "2022-06-02T12:35:26.650871Z",
     "iopub.status.idle": "2022-06-02T12:35:26.659161Z",
     "shell.execute_reply": "2022-06-02T12:35:26.6583Z",
     "shell.execute_reply.started": "2022-06-02T12:35:26.651182Z"
    }
   },
   "outputs": [],
   "source": [
    "print('Fraud Insurance Claims detected - ',wrong_predictions['InscClaimAmtReimbursed'].sum())\n",
    "print('Fraud Insurance Claims for Inpatients detected - ',wrong_predictions['IPAnnualReimbursementAmt'].sum())\n",
    "print('Fraud Insurance Claims for Outpatients detected - ',wrong_predictions['OPAnnualReimbursementAmt'].sum())"
   ]
  },
  {
   "cell_type": "code",
   "execution_count": null,
   "metadata": {
    "execution": {
     "iopub.execute_input": "2022-06-02T12:35:29.665155Z",
     "iopub.status.busy": "2022-06-02T12:35:29.664833Z",
     "iopub.status.idle": "2022-06-02T12:35:29.672305Z",
     "shell.execute_reply": "2022-06-02T12:35:29.671176Z",
     "shell.execute_reply.started": "2022-06-02T12:35:29.665126Z"
    }
   },
   "outputs": [],
   "source": [
    "fraud_index= y_test_rf[y_test_rf['PotentialFraud']==1]\n",
    "indicies1= fraud_index['index']"
   ]
  },
  {
   "cell_type": "code",
   "execution_count": null,
   "metadata": {
    "execution": {
     "iopub.execute_input": "2022-06-02T12:35:30.840051Z",
     "iopub.status.busy": "2022-06-02T12:35:30.839734Z",
     "iopub.status.idle": "2022-06-02T12:35:30.884171Z",
     "shell.execute_reply": "2022-06-02T12:35:30.883352Z",
     "shell.execute_reply.started": "2022-06-02T12:35:30.840022Z"
    }
   },
   "outputs": [],
   "source": [
    "frauds= Master_df.iloc[indicies1,:]\n",
    "frauds"
   ]
  },
  {
   "cell_type": "code",
   "execution_count": null,
   "metadata": {},
   "outputs": [],
   "source": [
    "print('Fraud Insurance Claims without model - ',frauds['InscClaimAmtReimbursed'].sum())\n",
    "print('Fraud Insurance Claims for Inpatients without model - ',frauds['IPAnnualReimbursementAmt'].sum())\n",
    "print('Fraud Insurance Claims for Outpatients without model - ',frauds['OPAnnualReimbursementAmt'].sum())"
   ]
  },
  {
   "cell_type": "code",
   "execution_count": null,
   "metadata": {},
   "outputs": [],
   "source": [
    "print('Insurance Claim Amount Saved - $', 30673230- 23525520)\n",
    "print('Inpatient Insurance Claim Amount Saved - $',122946970- 78254980)\n",
    "print('Outpatient insurance Claim Amount Saved - $',48642580- 27754480)"
   ]
  },
  {
   "cell_type": "markdown",
   "metadata": {},
   "source": [
    "### Naive Bayes"
   ]
  },
  {
   "cell_type": "code",
   "execution_count": null,
   "metadata": {},
   "outputs": [],
   "source": [
    "from sklearn.naive_bayes import GaussianNB\n",
    "bayes= GaussianNB()\n",
    "bayes.fit(x_train, y_train)\n",
    "train_pred= bayes.predict(x_train)\n",
    "test_pred= bayes.predict(x_test)\n",
    "start = time.time()\n",
    "bayes.score(x_train, y_train)\n",
    "acc_random_forest = round(accuracy_score(y_test,test_pred)*100, 2)\n",
    "f1_random_forest = round(f1_score(y_test,test_pred,average = \"binary\")*100, 2)\n",
    "f_beta_random_forest = round(fbeta_score(y_test,test_pred,average = \"binary\",beta=0.5)*100, 2)\n",
    "\n",
    "end = time.time()\n",
    "\n",
    "acc_score.append({'Model':'Naive Bayes', 'Score': accuracy_score(y_train, train_pred), 'Accuracy': accuracy_score(y_test, test_pred),'Time_Taken':end- start})"
   ]
  },
  {
   "cell_type": "code",
   "execution_count": null,
   "metadata": {},
   "outputs": [],
   "source": [
    "confusion_matrix(y_test,test_pred)"
   ]
  },
  {
   "cell_type": "code",
   "execution_count": null,
   "metadata": {},
   "outputs": [],
   "source": [
    "tn, fp, fn, tp = confusion_matrix(y_test,test_pred).ravel()\n",
    "(tn, fp, fn, tp)"
   ]
  },
  {
   "cell_type": "code",
   "execution_count": null,
   "metadata": {},
   "outputs": [],
   "source": [
    "train_fpr, train_tpr, thresholds = roc_curve(y_train, bayes.predict_proba(x_train)[:,1])\n",
    "test_fpr, test_tpr, thresholds = roc_curve(y_test, bayes.predict_proba(x_test)[:,1])\n",
    "\n",
    "plt.plot(train_fpr, train_tpr, label=\"train AUC =\"+str(auc(train_fpr, train_tpr)))\n",
    "plt.plot(test_fpr, test_tpr, label=\"test AUC =\"+str(auc(test_fpr, test_tpr)))\n",
    "plt.legend()\n",
    "plt.xlabel(\"FPR\")\n",
    "plt.ylabel(\"TPR\")\n",
    "plt.title(\"ROC CURVE\")\n",
    "plt.show()"
   ]
  },
  {
   "cell_type": "markdown",
   "metadata": {},
   "source": [
    "### Logistic Regression"
   ]
  },
  {
   "cell_type": "code",
   "execution_count": null,
   "metadata": {},
   "outputs": [],
   "source": [
    "from sklearn.linear_model import LogisticRegression\n",
    "lr= LogisticRegression()\n",
    "lr.fit(x_train, y_train)\n",
    "train_pred= lr.predict(x_train)\n",
    "test_pred= lr.predict(x_test)\n",
    "start = time.time()\n",
    "lr.score(x_train, y_train)\n",
    "acc_random_forest = round(accuracy_score(y_test,test_pred)*100, 2)\n",
    "f1_random_forest = round(f1_score(y_test,test_pred,average = \"binary\")*100, 2)\n",
    "f_beta_random_forest = round(fbeta_score(y_test,test_pred,average = \"binary\",beta=0.5)*100, 2)\n",
    "\n",
    "end = time.time()\n",
    "acc_score.append({'Model': \"Logistic Regression\", 'Score': accuracy_score(y_train,train_pred), 'Accuracy': accuracy_score(y_test,test_pred), 'Time_Taken':end - start})"
   ]
  },
  {
   "cell_type": "code",
   "execution_count": null,
   "metadata": {},
   "outputs": [],
   "source": [
    "confusion_matrix(y_test,test_pred)"
   ]
  },
  {
   "cell_type": "code",
   "execution_count": null,
   "metadata": {},
   "outputs": [],
   "source": [
    "tn, fp, fn, tp = confusion_matrix(y_test,test_pred).ravel()\n",
    "(tn, fp, fn, tp)"
   ]
  },
  {
   "cell_type": "code",
   "execution_count": null,
   "metadata": {},
   "outputs": [],
   "source": [
    "train_fpr, train_tpr, thresholds = roc_curve(y_train, lr.predict_proba(x_train)[:,1])\n",
    "test_fpr, test_tpr, thresholds = roc_curve(y_test, lr.predict_proba(x_test)[:,1])\n",
    "\n",
    "plt.plot(train_fpr, train_tpr, label=\"train AUC =\"+str(auc(train_fpr, train_tpr)))\n",
    "plt.plot(test_fpr, test_tpr, label=\"test AUC =\"+str(auc(test_fpr, test_tpr)))\n",
    "plt.legend()\n",
    "plt.xlabel(\"FPR\")\n",
    "plt.ylabel(\"TPR\")\n",
    "plt.title(\"ROC CURVE\")\n",
    "plt.show()"
   ]
  },
  {
   "cell_type": "markdown",
   "metadata": {},
   "source": [
    "### XG Boost"
   ]
  },
  {
   "cell_type": "code",
   "execution_count": null,
   "metadata": {},
   "outputs": [],
   "source": [
    "xgb= XGBClassifier()\n",
    "xgb.fit(x_train, y_train)\n",
    "model_score= xgb.predict(x_train)\n",
    "accuracy= xgb.predict(x_test)\n",
    "start = time.time()\n",
    "xgb.score(x_train, y_train)\n",
    "acc_random_forest = round(accuracy_score(y_test,accuracy)*100, 2)\n",
    "f1_random_forest = round(f1_score(y_test,accuracy,average = \"binary\")*100, 2)\n",
    "f_beta_random_forest = round(fbeta_score(y_test,accuracy,average = \"binary\",beta=0.5)*100, 2)\n",
    "\n",
    "end = time.time()\n",
    "acc_score.append({'Model':'XG boost', 'Score': accuracy_score(y_train, model_score), 'Accuracy': accuracy_score(y_test, accuracy), 'Time_Taken':end - start})"
   ]
  },
  {
   "cell_type": "code",
   "execution_count": null,
   "metadata": {},
   "outputs": [],
   "source": [
    "confusion_matrix(y_test,accuracy)"
   ]
  },
  {
   "cell_type": "code",
   "execution_count": null,
   "metadata": {},
   "outputs": [],
   "source": [
    "tn, fp, fn, tp = confusion_matrix(y_test,accuracy).ravel()\n",
    "(tn, fp, fn, tp)"
   ]
  },
  {
   "cell_type": "code",
   "execution_count": null,
   "metadata": {},
   "outputs": [],
   "source": [
    "train_fpr, train_tpr, thresholds = roc_curve(y_train, xgb.predict_proba(x_train)[:,1])\n",
    "test_fpr, test_tpr, thresholds = roc_curve(y_test, xgb.predict_proba(x_test)[:,1])\n",
    "\n",
    "plt.plot(train_fpr, train_tpr, label=\"train AUC =\"+str(auc(train_fpr, train_tpr)))\n",
    "plt.plot(test_fpr, test_tpr, label=\"test AUC =\"+str(auc(test_fpr, test_tpr)))\n",
    "plt.legend()\n",
    "plt.xlabel(\"FPR\")\n",
    "plt.ylabel(\"TPR\")\n",
    "plt.title(\"ROC CURVE\")\n",
    "plt.show()"
   ]
  },
  {
   "cell_type": "code",
   "execution_count": null,
   "metadata": {},
   "outputs": [],
   "source": [
    "accuracy= pd.DataFrame(acc_score, columns=['Model','Score','Accuracy','Time_Taken'])\n",
    "accuracy.sort_values(by='Accuracy', ascending= False, inplace= True)\n",
    "accuracy"
   ]
  },
  {
   "cell_type": "code",
   "execution_count": null,
   "metadata": {},
   "outputs": [],
   "source": [
    "plt.figure(figsize=(15,8))\n",
    "sns.barplot(x= accuracy.Model, y=accuracy.Accuracy);"
   ]
  },
  {
   "cell_type": "code",
   "execution_count": null,
   "metadata": {},
   "outputs": [],
   "source": [
    "import pickle"
   ]
  },
  {
   "cell_type": "code",
   "execution_count": null,
   "metadata": {},
   "outputs": [],
   "source": [
    "pickle.dump(estimator1, open('model.pkl','wb'))\n",
    "\n",
    "model = pickle.load(open('model.pkl','rb'))"
   ]
  },
  {
   "cell_type": "code",
   "execution_count": null,
   "metadata": {},
   "outputs": [],
   "source": [
    "print(model.predict([[6.542662,2.610838,2.234826,-0.571436,-0.578530,-0.519851,2.832646,2.446318,-0.190910,0,1,1,0,1,1,1,2,2,1,1,1,2,1,1,0.0]]))"
   ]
  }
 ],
 "metadata": {
  "kernelspec": {
   "display_name": "Python 3 (ipykernel)",
   "language": "python",
   "name": "python3"
  },
  "language_info": {
   "codemirror_mode": {
    "name": "ipython",
    "version": 3
   },
   "file_extension": ".py",
   "mimetype": "text/x-python",
   "name": "python",
   "nbconvert_exporter": "python",
   "pygments_lexer": "ipython3",
   "version": "3.9.7"
  },
  "toc": {
   "base_numbering": 1,
   "nav_menu": {},
   "number_sections": true,
   "sideBar": true,
   "skip_h1_title": false,
   "title_cell": "Table of Contents",
   "title_sidebar": "Contents",
   "toc_cell": false,
   "toc_position": {
    "height": "calc(100% - 180px)",
    "left": "10px",
    "top": "150px",
    "width": "320px"
   },
   "toc_section_display": true,
   "toc_window_display": true
  }
 },
 "nbformat": 4,
 "nbformat_minor": 4
}
