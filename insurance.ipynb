{
 "cells": [
  {
   "cell_type": "code",
   "execution_count": null,
   "metadata": {
    "_cell_guid": "b1076dfc-b9ad-4769-8c92-a6c4dae69d19",
    "_uuid": "8f2839f25d086af736a60e9eeb907d3b93b6e0e5",
    "execution": {
     "iopub.execute_input": "2022-06-02T10:25:42.035618Z",
     "iopub.status.busy": "2022-06-02T10:25:42.035269Z",
     "iopub.status.idle": "2022-06-02T10:25:42.04945Z",
     "shell.execute_reply": "2022-06-02T10:25:42.048234Z",
     "shell.execute_reply.started": "2022-06-02T10:25:42.035582Z"
    }
   },
   "outputs": [],
   "source": [
    "import numpy as np # linear algebra\n",
    "import pandas as pd# data processing, CSV file I/O (e.g. pd.read_csv)\n",
    "import pickle\n",
    "\n",
    "import os\n",
    "for dirname, _, filenames in os.walk('/kaggle/input'):\n",
    "    for filename in filenames:\n",
    "        print(os.path.join(dirname, filename))"
   ]
  },
  {
   "cell_type": "code",
   "execution_count": null,
   "metadata": {
    "_cell_guid": "79c7e3d0-c299-4dcb-8224-4455121ee9b0",
    "_uuid": "d629ff2d2480ee46fbb7e2d37f6b5fab8052498a",
    "execution": {
     "iopub.execute_input": "2022-06-02T10:28:31.462805Z",
     "iopub.status.busy": "2022-06-02T10:28:31.46245Z",
     "iopub.status.idle": "2022-06-02T10:28:31.482397Z",
     "shell.execute_reply": "2022-06-02T10:28:31.481463Z",
     "shell.execute_reply.started": "2022-06-02T10:28:31.462775Z"
    }
   },
   "outputs": [],
   "source": [
    "train = pd.read_csv('Train-1542865627584.csv');"
   ]
  },
  {
   "cell_type": "code",
   "execution_count": null,
   "metadata": {
    "execution": {
     "iopub.execute_input": "2022-06-02T10:28:38.535441Z",
     "iopub.status.busy": "2022-06-02T10:28:38.535057Z",
     "iopub.status.idle": "2022-06-02T10:28:41.166642Z",
     "shell.execute_reply": "2022-06-02T10:28:41.165837Z",
     "shell.execute_reply.started": "2022-06-02T10:28:38.535406Z"
    }
   },
   "outputs": [],
   "source": [
    "outpatient= pd.read_csv(\"Train_Outpatientdata-1542865627584.csv\")\n",
    "inpatient= pd.read_csv(\"Train_Inpatientdata-1542865627584.csv\")\n",
    "beneficiary= pd.read_csv(\"Train_Beneficiarydata-1542865627584.csv\")\n"
   ]
  },
  {
   "cell_type": "code",
   "execution_count": null,
   "metadata": {
    "execution": {
     "iopub.execute_input": "2022-06-02T10:28:53.315617Z",
     "iopub.status.busy": "2022-06-02T10:28:53.315245Z",
     "iopub.status.idle": "2022-06-02T10:28:53.324081Z",
     "shell.execute_reply": "2022-06-02T10:28:53.323373Z",
     "shell.execute_reply.started": "2022-06-02T10:28:53.315586Z"
    }
   },
   "outputs": [],
   "source": [
    "def isCategorical(col):\n",
    "    unis = np.unique(col)\n",
    "    if len(unis)<0.02*len(col):\n",
    "        return True\n",
    "    return False\n",
    "\n",
    "\n",
    "def getColumnTypes(cols):\n",
    "    Categorical=[]\n",
    "    Numerical = []\n",
    "    Object = []\n",
    "    for i in range(len(cols)):\n",
    "        if cols[\"type\"][i]=='categorical':\n",
    "            Categorical.append(cols['column_name'][i])\n",
    "        elif cols[\"type\"][i]=='numerical':\n",
    "            Numerical.append(cols['column_name'][i])\n",
    "        else:\n",
    "            Object.append(cols['column_name'][i])\n",
    "    return Categorical, Numerical, Object\n",
    "\n",
    "def isNumerical(col):\n",
    "    return is_numeric_dtype(col)\n",
    "\n",
    "def genMetaData(df):\n",
    "    col = df.columns\n",
    "    ColumnType = [] \n",
    "    Categorical = []\n",
    "    Object = []\n",
    "    Numerical = []\n",
    "    for i in range(len(col)):\n",
    "        if isCategorical(df[col[i]]):\n",
    "            ColumnType.append((col[i],\"categorical\"))\n",
    "            Categorical.append(col[i])\n",
    "        \n",
    "        elif is_numeric_dtype(df[col[i]]):\n",
    "            ColumnType.append((col[i],\"numerical\"))\n",
    "            Numerical.append(col[i])\n",
    "        \n",
    "        else:\n",
    "            ColumnType.append((col[i],\"object\"))\n",
    "            Object.append(col[i])\n",
    "\n",
    "    return ColumnType\n",
    "\n",
    "def makeMapDict(col): \n",
    "    uniqueVals = list(np.unique(col))\n",
    "    uniqueVals.sort()\n",
    "    dict_ = {uniqueVals[i]: i for i in range(len(uniqueVals))}\n",
    "    return dict_\n",
    "\n",
    "def mapunique(df, colName):\n",
    "    dict_ = makeMapDict(df[colName])\n",
    "    cat = np.unique(df[colName])\n",
    "    df[colName] =  df[colName].map(dict_)\n",
    "    return cat \n",
    "\n",
    "\n",
    "def newDF(df, columns2Drop):\n",
    "    newDF = df.drop(columns2Drop, axis = 'columns')\n",
    "    return newDF\n",
    "\n",
    "def convert_df(df):\n",
    "    return df.to_csv().encode('utf-8')\n",
    "\n"
   ]
  },
  {
   "cell_type": "code",
   "execution_count": null,
   "metadata": {},
   "outputs": [],
   "source": [
    "beneficiary['DOB'] = pd.to_datetime(beneficiary['DOB'] , format = '%Y-%m-%d')\n",
    "beneficiary['DOD'] = pd.to_datetime(beneficiary['DOD'],format = '%Y-%m-%d',errors='ignore')\n",
    "beneficiary['Age'] = round(((beneficiary['DOD'] - beneficiary['DOB']).dt.days)/365)\n",
    "\n",
    "## As we see that last DOD value is 2009-12-01 ,which means Beneficiary Details data is of year 2009.\n",
    "## so we will calculate age of other benficiaries for year 2009."
   ]
  },
  {
   "cell_type": "code",
   "execution_count": null,
   "metadata": {},
   "outputs": [],
   "source": [
    "beneficiary.Age.fillna(round(((pd.to_datetime('2009-12-01' , format = '%Y-%m-%d') - beneficiary['DOB']).dt.days)/365),\n",
    "                                 inplace=True)"
   ]
  },
  {
   "cell_type": "code",
   "execution_count": null,
   "metadata": {
    "execution": {
     "iopub.execute_input": "2022-06-02T10:54:45.101103Z",
     "iopub.status.busy": "2022-06-02T10:54:45.100685Z",
     "iopub.status.idle": "2022-06-02T10:54:46.515265Z",
     "shell.execute_reply": "2022-06-02T10:54:46.514482Z",
     "shell.execute_reply.started": "2022-06-02T10:54:45.101066Z"
    }
   },
   "outputs": [],
   "source": [
    "## Creating the master DF\n",
    "inpatient['EncounterType'] = 0\n",
    "outpatient['EncounterType'] = 1\n",
    "frames = [inpatient, outpatient]\n",
    "TrainInAndOut = pd.concat(frames)\n",
    "TrainInAndOutBenf = pd.merge(TrainInAndOut, beneficiary, how='inner', on='BeneID')\n",
    "Master_df = pd.merge(TrainInAndOutBenf, train, how='inner', on='Provider')"
   ]
  },
  {
   "cell_type": "code",
   "execution_count": null,
   "metadata": {
    "execution": {
     "iopub.execute_input": "2022-06-02T10:57:38.961048Z",
     "iopub.status.busy": "2022-06-02T10:57:38.960726Z",
     "iopub.status.idle": "2022-06-02T10:57:38.990825Z",
     "shell.execute_reply": "2022-06-02T10:57:38.990016Z",
     "shell.execute_reply.started": "2022-06-02T10:57:38.961018Z"
    }
   },
   "outputs": [],
   "source": [
    "Master_df.head()"
   ]
  },
  {
   "cell_type": "code",
   "execution_count": null,
   "metadata": {},
   "outputs": [],
   "source": []
  },
  {
   "cell_type": "code",
   "execution_count": null,
   "metadata": {
    "execution": {
     "iopub.execute_input": "2022-06-02T10:57:40.590688Z",
     "iopub.status.busy": "2022-06-02T10:57:40.59032Z",
     "iopub.status.idle": "2022-06-02T10:57:40.703245Z",
     "shell.execute_reply": "2022-06-02T10:57:40.702325Z",
     "shell.execute_reply.started": "2022-06-02T10:57:40.590655Z"
    }
   },
   "outputs": [],
   "source": [
    "Master_df['PotentialFraud'].value_counts()"
   ]
  },
  {
   "cell_type": "code",
   "execution_count": null,
   "metadata": {
    "execution": {
     "iopub.execute_input": "2022-06-02T10:59:57.641269Z",
     "iopub.status.busy": "2022-06-02T10:59:57.640927Z",
     "iopub.status.idle": "2022-06-02T10:59:58.735766Z",
     "shell.execute_reply": "2022-06-02T10:59:58.734712Z",
     "shell.execute_reply.started": "2022-06-02T10:59:57.641239Z"
    }
   },
   "outputs": [],
   "source": [
    "## removing the column DOD and DOB also creating a new column IsDead as we already have the age we do not need date of death and date of birth \n",
    "\n",
    "Master_df.loc[Master_df['DOD'].isnull(), 'IsDead'] = '0'\n",
    "Master_df.loc[(Master_df['DOD'].notnull()), 'IsDead'] = '1'\n",
    "Master_df = Master_df.drop(['DOD'], axis = 1)\n",
    "Master_df = Master_df.drop(['DOB'], axis = 1)"
   ]
  },
  {
   "cell_type": "markdown",
   "metadata": {},
   "source": [
    "Calculating the number of days the patient was admitted to the dospital and removing admission and discharge date, For outpatients as they do not get admitted will put number of days admitted = 0"
   ]
  },
  {
   "cell_type": "code",
   "execution_count": null,
   "metadata": {
    "execution": {
     "iopub.execute_input": "2022-06-02T11:01:44.310233Z",
     "iopub.status.busy": "2022-06-02T11:01:44.309894Z",
     "iopub.status.idle": "2022-06-02T11:01:46.485729Z",
     "shell.execute_reply": "2022-06-02T11:01:46.484905Z",
     "shell.execute_reply.started": "2022-06-02T11:01:44.310203Z"
    }
   },
   "outputs": [],
   "source": [
    "Master_df['AdmissionDt'] = pd.to_datetime(Master_df['AdmissionDt'] , format = '%Y-%m-%d')\n",
    "Master_df['DischargeDt'] = pd.to_datetime(Master_df['DischargeDt'],format = '%Y-%m-%d')\n",
    "Master_df['DaysAdmitted'] = ((Master_df['DischargeDt'] - Master_df['AdmissionDt']).dt.days)+1\n",
    "Master_df.loc[Master_df['EncounterType'] == 1, 'DaysAdmitted'] = '0'\n",
    "Master_df[['EncounterType','DaysAdmitted','DischargeDt','AdmissionDt']].head()\n",
    "Master_df = Master_df.drop(['DischargeDt'], axis = 1)\n",
    "Master_df = Master_df.drop(['AdmissionDt'], axis = 1)"
   ]
  },
  {
   "cell_type": "code",
   "execution_count": null,
   "metadata": {
    "execution": {
     "iopub.execute_input": "2022-06-02T11:04:06.993174Z",
     "iopub.status.busy": "2022-06-02T11:04:06.99285Z",
     "iopub.status.idle": "2022-06-02T11:04:07.033142Z",
     "shell.execute_reply": "2022-06-02T11:04:07.032342Z",
     "shell.execute_reply.started": "2022-06-02T11:04:06.993144Z"
    }
   },
   "outputs": [],
   "source": [
    "Master_df.loc[Master_df['DeductibleAmtPaid'].isnull(), 'DeductibleAmtPaid'] = '0'"
   ]
  },
  {
   "cell_type": "code",
   "execution_count": null,
   "metadata": {
    "execution": {
     "iopub.execute_input": "2022-06-02T11:04:19.941309Z",
     "iopub.status.busy": "2022-06-02T11:04:19.940982Z",
     "iopub.status.idle": "2022-06-02T11:04:19.946283Z",
     "shell.execute_reply": "2022-06-02T11:04:19.945355Z",
     "shell.execute_reply.started": "2022-06-02T11:04:19.941272Z"
    }
   },
   "outputs": [],
   "source": [
    "cols= ['ClmAdmitDiagnosisCode', 'ClmDiagnosisCode_1', 'ClmDiagnosisCode_10',\n",
    "       'ClmDiagnosisCode_2', 'ClmDiagnosisCode_3', 'ClmDiagnosisCode_4',\n",
    "       'ClmDiagnosisCode_5', 'ClmDiagnosisCode_6', 'ClmDiagnosisCode_7',\n",
    "       'ClmDiagnosisCode_8', 'ClmDiagnosisCode_9', 'ClmProcedureCode_1',\n",
    "       'ClmProcedureCode_2', 'ClmProcedureCode_3', 'ClmProcedureCode_4',\n",
    "       'ClmProcedureCode_5', 'ClmProcedureCode_6']"
   ]
  },
  {
   "cell_type": "code",
   "execution_count": null,
   "metadata": {
    "execution": {
     "iopub.execute_input": "2022-06-02T11:04:53.185594Z",
     "iopub.status.busy": "2022-06-02T11:04:53.185216Z",
     "iopub.status.idle": "2022-06-02T11:04:55.935289Z",
     "shell.execute_reply": "2022-06-02T11:04:55.934419Z",
     "shell.execute_reply.started": "2022-06-02T11:04:53.185563Z"
    }
   },
   "outputs": [],
   "source": [
    "Master_df[cols]= Master_df[cols].replace({np.nan:0})\n",
    "Master_df"
   ]
  },
  {
   "cell_type": "code",
   "execution_count": null,
   "metadata": {
    "execution": {
     "iopub.execute_input": "2022-06-02T11:07:16.665248Z",
     "iopub.status.busy": "2022-06-02T11:07:16.664921Z",
     "iopub.status.idle": "2022-06-02T11:07:17.50085Z",
     "shell.execute_reply": "2022-06-02T11:07:17.500085Z",
     "shell.execute_reply.started": "2022-06-02T11:07:16.665218Z"
    }
   },
   "outputs": [],
   "source": [
    "for i in cols:\n",
    "    Master_df[i][Master_df[i]!=0]= 1"
   ]
  },
  {
   "cell_type": "code",
   "execution_count": null,
   "metadata": {
    "execution": {
     "iopub.execute_input": "2022-06-02T11:07:22.369874Z",
     "iopub.status.busy": "2022-06-02T11:07:22.369544Z",
     "iopub.status.idle": "2022-06-02T11:07:25.102465Z",
     "shell.execute_reply": "2022-06-02T11:07:25.101681Z",
     "shell.execute_reply.started": "2022-06-02T11:07:22.369844Z"
    }
   },
   "outputs": [],
   "source": [
    "Master_df[cols]= Master_df[cols].astype(float)"
   ]
  },
  {
   "cell_type": "code",
   "execution_count": null,
   "metadata": {
    "execution": {
     "iopub.execute_input": "2022-06-02T11:07:41.390712Z",
     "iopub.status.busy": "2022-06-02T11:07:41.390364Z",
     "iopub.status.idle": "2022-06-02T11:07:41.409912Z",
     "shell.execute_reply": "2022-06-02T11:07:41.409007Z",
     "shell.execute_reply.started": "2022-06-02T11:07:41.390682Z"
    }
   },
   "outputs": [],
   "source": [
    "Master_df['TotalDiagnosis']= Master_df['ClmDiagnosisCode_1']+Master_df['ClmDiagnosisCode_10']+Master_df['ClmDiagnosisCode_2']+ Master_df['ClmDiagnosisCode_3']+ Master_df['ClmDiagnosisCode_4']+Master_df['ClmDiagnosisCode_5']+ Master_df['ClmDiagnosisCode_6']+ Master_df['ClmDiagnosisCode_7']+Master_df['ClmDiagnosisCode_8']+ Master_df['ClmDiagnosisCode_9']"
   ]
  },
  {
   "cell_type": "code",
   "execution_count": null,
   "metadata": {
    "execution": {
     "iopub.execute_input": "2022-06-02T11:07:42.945256Z",
     "iopub.status.busy": "2022-06-02T11:07:42.944923Z",
     "iopub.status.idle": "2022-06-02T11:07:42.959929Z",
     "shell.execute_reply": "2022-06-02T11:07:42.959141Z",
     "shell.execute_reply.started": "2022-06-02T11:07:42.945219Z"
    }
   },
   "outputs": [],
   "source": [
    "Master_df['TotalProcedure']= Master_df['ClmProcedureCode_1']+Master_df['ClmProcedureCode_2']+Master_df['ClmProcedureCode_3']+ Master_df['ClmProcedureCode_4']+ Master_df['ClmProcedureCode_5']+Master_df['ClmProcedureCode_6']"
   ]
  },
  {
   "cell_type": "markdown",
   "metadata": {},
   "source": [
    "Removing coulmns which are not necessary"
   ]
  },
  {
   "cell_type": "code",
   "execution_count": null,
   "metadata": {
    "execution": {
     "iopub.execute_input": "2022-06-02T11:07:48.680277Z",
     "iopub.status.busy": "2022-06-02T11:07:48.67996Z",
     "iopub.status.idle": "2022-06-02T11:07:48.686786Z",
     "shell.execute_reply": "2022-06-02T11:07:48.685799Z",
     "shell.execute_reply.started": "2022-06-02T11:07:48.680247Z"
    }
   },
   "outputs": [],
   "source": [
    "Master_df.columns"
   ]
  },
  {
   "cell_type": "code",
   "execution_count": null,
   "metadata": {
    "execution": {
     "iopub.execute_input": "2022-06-02T11:08:49.870761Z",
     "iopub.status.busy": "2022-06-02T11:08:49.870437Z",
     "iopub.status.idle": "2022-06-02T11:08:49.876695Z",
     "shell.execute_reply": "2022-06-02T11:08:49.875711Z",
     "shell.execute_reply.started": "2022-06-02T11:08:49.87073Z"
    }
   },
   "outputs": [],
   "source": [
    "remove=['Provider','BeneID', 'ClaimID', 'ClaimStartDt','ClaimEndDt','AttendingPhysician',\n",
    "       'OperatingPhysician', 'OtherPhysician', 'ClmDiagnosisCode_1',\n",
    "       'ClmDiagnosisCode_2', 'ClmDiagnosisCode_3', 'ClmDiagnosisCode_4',\n",
    "       'ClmDiagnosisCode_5', 'ClmDiagnosisCode_6', 'ClmDiagnosisCode_7',\n",
    "       'ClmDiagnosisCode_8', 'ClmDiagnosisCode_9', 'ClmDiagnosisCode_10',\n",
    "       'ClmProcedureCode_1', 'ClmProcedureCode_2', 'ClmProcedureCode_3',\n",
    "       'ClmProcedureCode_4', 'ClmProcedureCode_5', 'ClmProcedureCode_6',\n",
    "       'ClmAdmitDiagnosisCode','DeductibleAmtPaid','NoOfMonths_PartACov',\n",
    "        'NoOfMonths_PartBCov','DiagnosisGroupCode',\n",
    "        'State', 'County']"
   ]
  },
  {
   "cell_type": "code",
   "execution_count": null,
   "metadata": {
    "execution": {
     "iopub.execute_input": "2022-06-02T11:08:56.711293Z",
     "iopub.status.busy": "2022-06-02T11:08:56.710972Z",
     "iopub.status.idle": "2022-06-02T11:08:56.866967Z",
     "shell.execute_reply": "2022-06-02T11:08:56.866164Z",
     "shell.execute_reply.started": "2022-06-02T11:08:56.711256Z"
    }
   },
   "outputs": [],
   "source": [
    "Master_df.drop(columns=remove, axis=1, inplace=True)"
   ]
  },
  {
   "cell_type": "code",
   "execution_count": null,
   "metadata": {
    "execution": {
     "iopub.execute_input": "2022-06-02T11:09:30.720355Z",
     "iopub.status.busy": "2022-06-02T11:09:30.720028Z",
     "iopub.status.idle": "2022-06-02T11:09:30.726343Z",
     "shell.execute_reply": "2022-06-02T11:09:30.725272Z",
     "shell.execute_reply.started": "2022-06-02T11:09:30.720326Z"
    }
   },
   "outputs": [],
   "source": [
    "Master_df.shape"
   ]
  },
  {
   "cell_type": "code",
   "execution_count": null,
   "metadata": {
    "execution": {
     "iopub.execute_input": "2022-06-02T11:09:35.110104Z",
     "iopub.status.busy": "2022-06-02T11:09:35.109775Z",
     "iopub.status.idle": "2022-06-02T11:09:35.22348Z",
     "shell.execute_reply": "2022-06-02T11:09:35.222531Z",
     "shell.execute_reply.started": "2022-06-02T11:09:35.110076Z"
    }
   },
   "outputs": [],
   "source": [
    "Master_df['RenalDiseaseIndicator'].value_counts()"
   ]
  },
  {
   "cell_type": "code",
   "execution_count": null,
   "metadata": {
    "execution": {
     "iopub.execute_input": "2022-06-02T11:09:45.840111Z",
     "iopub.status.busy": "2022-06-02T11:09:45.839784Z",
     "iopub.status.idle": "2022-06-02T11:09:45.9599Z",
     "shell.execute_reply": "2022-06-02T11:09:45.958977Z",
     "shell.execute_reply.started": "2022-06-02T11:09:45.84008Z"
    }
   },
   "outputs": [],
   "source": [
    "Master_df['RenalDiseaseIndicator']= Master_df['RenalDiseaseIndicator'].replace({'Y':1,'0':0})"
   ]
  },
  {
   "cell_type": "code",
   "execution_count": null,
   "metadata": {
    "execution": {
     "iopub.execute_input": "2022-06-02T11:09:50.60005Z",
     "iopub.status.busy": "2022-06-02T11:09:50.599719Z",
     "iopub.status.idle": "2022-06-02T11:09:50.607482Z",
     "shell.execute_reply": "2022-06-02T11:09:50.606513Z",
     "shell.execute_reply.started": "2022-06-02T11:09:50.60002Z"
    }
   },
   "outputs": [],
   "source": [
    "Master_df['RenalDiseaseIndicator']=Master_df['RenalDiseaseIndicator'].astype(int)"
   ]
  },
  {
   "cell_type": "code",
   "execution_count": null,
   "metadata": {
    "execution": {
     "iopub.execute_input": "2022-06-02T11:09:59.171579Z",
     "iopub.status.busy": "2022-06-02T11:09:59.171191Z",
     "iopub.status.idle": "2022-06-02T11:09:59.718654Z",
     "shell.execute_reply": "2022-06-02T11:09:59.717789Z",
     "shell.execute_reply.started": "2022-06-02T11:09:59.171544Z"
    }
   },
   "outputs": [],
   "source": [
    "Master_df.describe(include='O')"
   ]
  },
  {
   "cell_type": "code",
   "execution_count": null,
   "metadata": {
    "execution": {
     "iopub.execute_input": "2022-06-02T11:11:00.611612Z",
     "iopub.status.busy": "2022-06-02T11:11:00.611247Z",
     "iopub.status.idle": "2022-06-02T11:11:00.835248Z",
     "shell.execute_reply": "2022-06-02T11:11:00.834322Z",
     "shell.execute_reply.started": "2022-06-02T11:11:00.611581Z"
    }
   },
   "outputs": [],
   "source": [
    "Master_df['IsDead']=Master_df['IsDead'].astype(float)\n",
    "Master_df['DaysAdmitted']=Master_df['DaysAdmitted'].astype(float)"
   ]
  },
  {
   "cell_type": "code",
   "execution_count": null,
   "metadata": {
    "execution": {
     "iopub.execute_input": "2022-06-02T11:11:04.519996Z",
     "iopub.status.busy": "2022-06-02T11:11:04.519661Z",
     "iopub.status.idle": "2022-06-02T11:11:04.761184Z",
     "shell.execute_reply": "2022-06-02T11:11:04.760437Z",
     "shell.execute_reply.started": "2022-06-02T11:11:04.519966Z"
    }
   },
   "outputs": [],
   "source": [
    "Master_df['PotentialFraud']=Master_df['PotentialFraud'].replace({'Yes':1, 'No':0})"
   ]
  },
  {
   "cell_type": "code",
   "execution_count": null,
   "metadata": {
    "execution": {
     "iopub.execute_input": "2022-06-02T11:11:06.350208Z",
     "iopub.status.busy": "2022-06-02T11:11:06.349884Z",
     "iopub.status.idle": "2022-06-02T11:11:06.357526Z",
     "shell.execute_reply": "2022-06-02T11:11:06.356407Z",
     "shell.execute_reply.started": "2022-06-02T11:11:06.350178Z"
    }
   },
   "outputs": [],
   "source": [
    " Master_df['PotentialFraud']=Master_df['PotentialFraud'].astype(int)"
   ]
  },
  {
   "cell_type": "code",
   "execution_count": null,
   "metadata": {
    "execution": {
     "iopub.execute_input": "2022-06-02T11:11:09.900123Z",
     "iopub.status.busy": "2022-06-02T11:11:09.899797Z",
     "iopub.status.idle": "2022-06-02T11:11:09.907195Z",
     "shell.execute_reply": "2022-06-02T11:11:09.906258Z",
     "shell.execute_reply.started": "2022-06-02T11:11:09.900092Z"
    }
   },
   "outputs": [],
   "source": [
    "Master_df['PotentialFraud']"
   ]
  },
  {
   "cell_type": "code",
   "execution_count": null,
   "metadata": {},
   "outputs": [],
   "source": [
    "df_5 = Master_df.sample(frac = 0.05)\n",
    " \n",
    "# Creating dataframe with\n",
    "# rest of the 95% values\n",
    "df_95 = Master_df.drop(df_5.index)"
   ]
  },
  {
   "cell_type": "code",
   "execution_count": null,
   "metadata": {},
   "outputs": [],
   "source": [
    "x= df_95.drop('PotentialFraud', axis=1)\n",
    "y= df_95.loc[:,'PotentialFraud']"
   ]
  },
  {
   "cell_type": "code",
   "execution_count": null,
   "metadata": {},
   "outputs": [],
   "source": [
    "Master_df.shape"
   ]
  },
  {
   "cell_type": "code",
   "execution_count": null,
   "metadata": {},
   "outputs": [],
   "source": [
    "x_unseen = df_5.drop(\"PotentialFraud\",axis=1)\n",
    "x_unseen.to_csv(\"main_data.csv\")"
   ]
  },
  {
   "cell_type": "code",
   "execution_count": null,
   "metadata": {},
   "outputs": [],
   "source": [
    "x_unseen = df_5.drop(\"PotentialFraud\",axis=1)\n",
    "x_unseen.to_csv(\"main_data.csv\",index=False)"
   ]
  },
  {
   "cell_type": "code",
   "execution_count": null,
   "metadata": {
    "execution": {
     "iopub.execute_input": "2022-06-02T11:13:20.56069Z",
     "iopub.status.busy": "2022-06-02T11:13:20.560332Z",
     "iopub.status.idle": "2022-06-02T11:13:20.606658Z",
     "shell.execute_reply": "2022-06-02T11:13:20.605907Z",
     "shell.execute_reply.started": "2022-06-02T11:13:20.56066Z"
    }
   },
   "outputs": [],
   "source": [
    "from sklearn.preprocessing import StandardScaler"
   ]
  },
  {
   "cell_type": "code",
   "execution_count": null,
   "metadata": {
    "execution": {
     "iopub.execute_input": "2022-06-02T11:14:01.910673Z",
     "iopub.status.busy": "2022-06-02T11:14:01.91031Z",
     "iopub.status.idle": "2022-06-02T11:14:01.916896Z",
     "shell.execute_reply": "2022-06-02T11:14:01.915907Z",
     "shell.execute_reply.started": "2022-06-02T11:14:01.910643Z"
    }
   },
   "outputs": [],
   "source": [
    "x.columns"
   ]
  },
  {
   "cell_type": "code",
   "execution_count": null,
   "metadata": {
    "execution": {
     "iopub.execute_input": "2022-06-02T11:14:06.85528Z",
     "iopub.status.busy": "2022-06-02T11:14:06.854943Z",
     "iopub.status.idle": "2022-06-02T11:14:06.862697Z",
     "shell.execute_reply": "2022-06-02T11:14:06.861722Z",
     "shell.execute_reply.started": "2022-06-02T11:14:06.855249Z"
    }
   },
   "outputs": [],
   "source": []
  },
  {
   "cell_type": "markdown",
   "metadata": {},
   "source": [
    "# Train- Test Split"
   ]
  },
  {
   "cell_type": "code",
   "execution_count": null,
   "metadata": {
    "execution": {
     "iopub.execute_input": "2022-06-02T11:14:19.571152Z",
     "iopub.status.busy": "2022-06-02T11:14:19.570824Z",
     "iopub.status.idle": "2022-06-02T11:14:19.613242Z",
     "shell.execute_reply": "2022-06-02T11:14:19.61248Z",
     "shell.execute_reply.started": "2022-06-02T11:14:19.57112Z"
    }
   },
   "outputs": [],
   "source": [
    "from sklearn.model_selection import train_test_split"
   ]
  },
  {
   "cell_type": "code",
   "execution_count": null,
   "metadata": {},
   "outputs": [],
   "source": [
    "x.shape"
   ]
  },
  {
   "cell_type": "code",
   "execution_count": null,
   "metadata": {},
   "outputs": [],
   "source": [
    "y.shape"
   ]
  },
  {
   "cell_type": "code",
   "execution_count": 42,
   "metadata": {
    "execution": {
     "iopub.execute_input": "2022-06-02T11:17:31.821949Z",
     "iopub.status.busy": "2022-06-02T11:17:31.821476Z",
     "iopub.status.idle": "2022-06-02T11:17:31.986924Z",
     "shell.execute_reply": "2022-06-02T11:17:31.986117Z",
     "shell.execute_reply.started": "2022-06-02T11:17:31.821914Z"
    }
   },
   "outputs": [],
   "source": [
    "x_train,x_test, y_train, y_test= train_test_split(x,y, test_size=0.1, random_state=42)"
   ]
  },
  {
   "cell_type": "code",
   "execution_count": 43,
   "metadata": {
    "execution": {
     "iopub.execute_input": "2022-06-02T11:18:34.760903Z",
     "iopub.status.busy": "2022-06-02T11:18:34.760576Z",
     "iopub.status.idle": "2022-06-02T11:18:35.704418Z",
     "shell.execute_reply": "2022-06-02T11:18:35.703487Z",
     "shell.execute_reply.started": "2022-06-02T11:18:34.760874Z"
    }
   },
   "outputs": [],
   "source": [
    "from imblearn.under_sampling import RandomUnderSampler\n",
    "rus = RandomUnderSampler(random_state=0)\n",
    "x_train1,y_train1 = rus.fit_resample(x_train, y_train)"
   ]
  },
  {
   "cell_type": "code",
   "execution_count": 44,
   "metadata": {},
   "outputs": [],
   "source": [
    "x_train1.to_csv(\"x_train.csv\")"
   ]
  },
  {
   "cell_type": "code",
   "execution_count": 45,
   "metadata": {
    "execution": {
     "iopub.execute_input": "2022-06-02T11:18:51.699814Z",
     "iopub.status.busy": "2022-06-02T11:18:51.699484Z",
     "iopub.status.idle": "2022-06-02T11:18:51.703895Z",
     "shell.execute_reply": "2022-06-02T11:18:51.702967Z",
     "shell.execute_reply.started": "2022-06-02T11:18:51.699782Z"
    }
   },
   "outputs": [],
   "source": [
    "from sklearn.metrics import confusion_matrix, classification_report, accuracy_score, roc_auc_score, auc, roc_curve"
   ]
  },
  {
   "cell_type": "code",
   "execution_count": 46,
   "metadata": {
    "execution": {
     "iopub.execute_input": "2022-06-02T11:18:56.14016Z",
     "iopub.status.busy": "2022-06-02T11:18:56.139838Z",
     "iopub.status.idle": "2022-06-02T11:19:53.417181Z",
     "shell.execute_reply": "2022-06-02T11:19:53.416346Z",
     "shell.execute_reply.started": "2022-06-02T11:18:56.140131Z"
    }
   },
   "outputs": [
    {
     "name": "stderr",
     "output_type": "stream",
     "text": [
      "C:\\Users\\302201\\Anaconda3\\lib\\site-packages\\xgboost\\sklearn.py:1224: UserWarning: The use of label encoder in XGBClassifier is deprecated and will be removed in a future release. To remove this warning, do the following: 1) Pass option use_label_encoder=False when constructing XGBClassifier object; and 2) Encode your labels (y) as integers starting with 0, i.e. 0, 1, 2, ..., [num_class - 1].\n",
      "  warnings.warn(label_encoder_deprecation_msg, UserWarning)\n"
     ]
    },
    {
     "name": "stdout",
     "output_type": "stream",
     "text": [
      "[11:42:11] WARNING: C:/Users/Administrator/workspace/xgboost-win64_release_1.5.1/src/learner.cc:1115: Starting in XGBoost 1.3.0, the default evaluation metric used with the objective 'binary:logistic' was changed from 'error' to 'logloss'. Explicitly set eval_metric if you'd like to restore the old behavior.\n"
     ]
    },
    {
     "data": {
      "text/plain": [
       "<AxesSubplot:title={'center':'Feature importance'}, xlabel='F score', ylabel='Features'>"
      ]
     },
     "execution_count": 46,
     "metadata": {},
     "output_type": "execute_result"
    },
    {
     "data": {
      "image/png": "[encoded data removed]",
      "text/plain": [
       "<Figure size 432x288 with 1 Axes>"
      ]
     },
     "metadata": {
      "needs_background": "light"
     },
     "output_type": "display_data"
    }
   ],
   "source": [
    "from xgboost import plot_importance\n",
    "from xgboost import XGBClassifier\n",
    "xgb= XGBClassifier()\n",
    "xgb.fit(x_train,y_train)\n",
    "plot_importance(xgb)"
   ]
  },
  {
   "cell_type": "code",
   "execution_count": 47,
   "metadata": {
    "execution": {
     "iopub.execute_input": "2022-06-02T11:20:06.850861Z",
     "iopub.status.busy": "2022-06-02T11:20:06.850465Z",
     "iopub.status.idle": "2022-06-02T11:20:50.580653Z",
     "shell.execute_reply": "2022-06-02T11:20:50.579802Z",
     "shell.execute_reply.started": "2022-06-02T11:20:06.850822Z"
    }
   },
   "outputs": [
    {
     "name": "stderr",
     "output_type": "stream",
     "text": [
      "C:\\Users\\302201\\Anaconda3\\lib\\site-packages\\xgboost\\sklearn.py:1224: UserWarning: The use of label encoder in XGBClassifier is deprecated and will be removed in a future release. To remove this warning, do the following: 1) Pass option use_label_encoder=False when constructing XGBClassifier object; and 2) Encode your labels (y) as integers starting with 0, i.e. 0, 1, 2, ..., [num_class - 1].\n",
      "  warnings.warn(label_encoder_deprecation_msg, UserWarning)\n"
     ]
    },
    {
     "name": "stdout",
     "output_type": "stream",
     "text": [
      "[11:42:33] WARNING: C:/Users/Administrator/workspace/xgboost-win64_release_1.5.1/src/learner.cc:1115: Starting in XGBoost 1.3.0, the default evaluation metric used with the objective 'binary:logistic' was changed from 'error' to 'logloss'. Explicitly set eval_metric if you'd like to restore the old behavior.\n"
     ]
    },
    {
     "data": {
      "text/plain": [
       "<AxesSubplot:title={'center':'Feature importance'}, xlabel='F score', ylabel='Features'>"
      ]
     },
     "execution_count": 47,
     "metadata": {},
     "output_type": "execute_result"
    },
    {
     "data": {
      "image/png": "[encoded data removed]",
      "text/plain": [
       "<Figure size 432x288 with 1 Axes>"
      ]
     },
     "metadata": {
      "needs_background": "light"
     },
     "output_type": "display_data"
    }
   ],
   "source": [
    "xgb= XGBClassifier()\n",
    "xgb.fit(x_train1,y_train1)\n",
    "plot_importance(xgb)"
   ]
  },
  {
   "cell_type": "code",
   "execution_count": 48,
   "metadata": {},
   "outputs": [],
   "source": [
    "\n",
    "pickle.dump(xgb,open(\"xgb_classifier.pkl\",'wb'))"
   ]
  },
  {
   "cell_type": "markdown",
   "metadata": {},
   "source": [
    "### Decision Tree"
   ]
  },
  {
   "cell_type": "code",
   "execution_count": 49,
   "metadata": {
    "execution": {
     "iopub.execute_input": "2022-06-02T11:21:45.350373Z",
     "iopub.status.busy": "2022-06-02T11:21:45.350039Z",
     "iopub.status.idle": "2022-06-02T11:21:45.354777Z",
     "shell.execute_reply": "2022-06-02T11:21:45.353704Z",
     "shell.execute_reply.started": "2022-06-02T11:21:45.350341Z"
    }
   },
   "outputs": [],
   "source": [
    "from sklearn.model_selection import GridSearchCV"
   ]
  },
  {
   "cell_type": "code",
   "execution_count": 50,
   "metadata": {},
   "outputs": [
    {
     "data": {
      "text/plain": [
       "(363822, 25)"
      ]
     },
     "execution_count": 50,
     "metadata": {},
     "output_type": "execute_result"
    }
   ],
   "source": [
    "x_train1.shape"
   ]
  },
  {
   "cell_type": "code",
   "execution_count": 51,
   "metadata": {
    "execution": {
     "iopub.execute_input": "2022-06-02T11:21:56.481101Z",
     "iopub.status.busy": "2022-06-02T11:21:56.480771Z",
     "iopub.status.idle": "2022-06-02T11:22:55.434859Z",
     "shell.execute_reply": "2022-06-02T11:22:55.433905Z",
     "shell.execute_reply.started": "2022-06-02T11:21:56.481072Z"
    }
   },
   "outputs": [
    {
     "name": "stdout",
     "output_type": "stream",
     "text": [
      "0.5369356386589399\n",
      "{'criterion': 'entropy', 'max_depth': 4, 'min_samples_split': 2}\n"
     ]
    }
   ],
   "source": [
    "from sklearn import tree\n",
    "from sklearn.tree import DecisionTreeClassifier\n",
    "estimator=  DecisionTreeClassifier()\n",
    "param_grid= {'criterion':['gini', 'entropy'],\n",
    "             'max_depth':[3,4,5],\n",
    "             'min_samples_split':[2,3,5]\n",
    "             }\n",
    "grid_search = GridSearchCV(estimator = estimator, param_grid = param_grid)\n",
    "grid_search.fit(x_train1, y_train1)\n",
    "print(grid_search.best_score_)\n",
    "print(grid_search.best_params_)"
   ]
  },
  {
   "cell_type": "code",
   "execution_count": 52,
   "metadata": {
    "execution": {
     "iopub.execute_input": "2022-06-02T11:23:04.470609Z",
     "iopub.status.busy": "2022-06-02T11:23:04.470252Z",
     "iopub.status.idle": "2022-06-02T11:24:23.016903Z",
     "shell.execute_reply": "2022-06-02T11:24:23.015958Z",
     "shell.execute_reply.started": "2022-06-02T11:23:04.470578Z"
    }
   },
   "outputs": [
    {
     "name": "stdout",
     "output_type": "stream",
     "text": [
      "0.6303140779852076\n",
      "{'criterion': 'gini', 'max_depth': 5, 'min_samples_split': 2}\n"
     ]
    }
   ],
   "source": [
    "grid_search.fit(x_train, y_train)\n",
    "print(grid_search.best_score_)\n",
    "print(grid_search.best_params_)"
   ]
  },
  {
   "cell_type": "code",
   "execution_count": 53,
   "metadata": {},
   "outputs": [],
   "source": [
    "pickle.dump(grid_search,open(\"decision_tree_classifier.pkl\",'wb'))"
   ]
  },
  {
   "cell_type": "markdown",
   "metadata": {},
   "source": [
    "### Logistic regression"
   ]
  },
  {
   "cell_type": "code",
   "execution_count": 54,
   "metadata": {},
   "outputs": [
    {
     "name": "stdout",
     "output_type": "stream",
     "text": [
      "0.523728636531051\n",
      "0.5792570243258532\n"
     ]
    }
   ],
   "source": [
    "from sklearn.linear_model import LogisticRegression\n",
    "lr= LogisticRegression()\n",
    "lr.fit(x_train1, y_train1)\n",
    "model_score= lr.predict(x_train1)\n",
    "accuracy= lr.predict(x_test)\n",
    "print(accuracy_score(y_train1, model_score))\n",
    "print(accuracy_score(y_test, accuracy))"
   ]
  },
  {
   "cell_type": "code",
   "execution_count": 55,
   "metadata": {},
   "outputs": [],
   "source": [
    "pickle.dump(lr,open(\"logistic_regression.pkl\",'wb'))"
   ]
  },
  {
   "cell_type": "markdown",
   "metadata": {},
   "source": [
    "### Random Forest"
   ]
  },
  {
   "cell_type": "code",
   "execution_count": 56,
   "metadata": {
    "execution": {
     "iopub.execute_input": "2022-06-02T11:24:34.490888Z",
     "iopub.status.busy": "2022-06-02T11:24:34.490534Z",
     "iopub.status.idle": "2022-06-02T11:27:05.656698Z",
     "shell.execute_reply": "2022-06-02T11:27:05.655656Z",
     "shell.execute_reply.started": "2022-06-02T11:24:34.490857Z"
    }
   },
   "outputs": [
    {
     "name": "stdout",
     "output_type": "stream",
     "text": [
      "0.9916231902277537\n",
      "0.7011125777861588\n"
     ]
    }
   ],
   "source": [
    "from sklearn.ensemble import RandomForestClassifier\n",
    "estimator1= RandomForestClassifier()\n",
    "estimator1.fit(x_train, y_train)\n",
    "model_score= estimator1.predict(x_train)\n",
    "accuracy= estimator1.predict(x_test)\n",
    "print(accuracy_score(y_train, model_score))\n",
    "print(accuracy_score(y_test, accuracy))"
   ]
  },
  {
   "cell_type": "code",
   "execution_count": 57,
   "metadata": {},
   "outputs": [],
   "source": [
    "pickle.dump(estimator1,open(\"rf_classifier.pkl\",'wb'))\n"
   ]
  },
  {
   "cell_type": "markdown",
   "metadata": {},
   "source": [
    "## ANN "
   ]
  },
  {
   "cell_type": "code",
   "execution_count": null,
   "metadata": {},
   "outputs": [],
   "source": [
    "from sklearn.model_selection import train_test_split\n",
    "X_train, X_test, y_train, y_test = train_test_split(x, y, test_size=0.3, random_state=42)\n",
    "# We are transforming data to numpy array to implementing with keras\n",
    "X_train = np.array(X_train)\n",
    "X_test = np.array(X_test)\n",
    "y_train = np.array(y_train)\n",
    "y_test = np.array(y_test)"
   ]
  },
  {
   "cell_type": "code",
   "execution_count": 42,
   "metadata": {},
   "outputs": [
    {
     "name": "stdout",
     "output_type": "stream",
     "text": [
      "Model: \"sequential\"\n",
      "_________________________________________________________________\n",
      " Layer (type)                Output Shape              Param #   \n",
      "=================================================================\n",
      " dense (Dense)               (None, 20)                520       \n",
      "                                                                 \n",
      " dense_1 (Dense)             (None, 24)                504       \n",
      "                                                                 \n",
      " dropout (Dropout)           (None, 24)                0         \n",
      "                                                                 \n",
      " dense_2 (Dense)             (None, 20)                500       \n",
      "                                                                 \n",
      " dense_3 (Dense)             (None, 24)                504       \n",
      "                                                                 \n",
      " dense_4 (Dense)             (None, 1)                 25        \n",
      "                                                                 \n",
      "=================================================================\n",
      "Total params: 2,053\n",
      "Trainable params: 2,053\n",
      "Non-trainable params: 0\n",
      "_________________________________________________________________\n"
     ]
    }
   ],
   "source": [
    "from keras.models import Sequential\n",
    "from keras.layers import Dense, Dropout\n",
    "model = Sequential([\n",
    "    Dense(units=20, input_dim = X_train.shape[1], activation='relu'),\n",
    "    Dense(units=24,activation='relu'),\n",
    "    Dropout(0.5),\n",
    "    Dense(units=20,activation='relu'),\n",
    "    Dense(units=24,activation='relu'),\n",
    "    Dense(1, activation='sigmoid')\n",
    "])\n",
    "model.summary()"
   ]
  },
  {
   "cell_type": "code",
   "execution_count": null,
   "metadata": {},
   "outputs": [],
   "source": [
    "model.compile(optimizer='adam', loss='binary_crossentropy', metrics=['accuracy'])\n",
    "model.fit(X_train, y_train, batch_size=30, epochs=1)"
   ]
  },
  {
   "cell_type": "code",
   "execution_count": 46,
   "metadata": {},
   "outputs": [
    {
     "name": "stdout",
     "output_type": "stream",
     "text": [
      "INFO:tensorflow:Assets written to: ram://3e30d168-10cf-42fd-a348-92dbc565f00c/assets\n"
     ]
    }
   ],
   "source": [
    "pickle.dump(model,open(\"ANN.pkl\",'wb'))\n"
   ]
  },
  {
   "cell_type": "code",
   "execution_count": 84,
   "metadata": {},
   "outputs": [
    {
     "name": "stdout",
     "output_type": "stream",
     "text": [
      "4972/4972 [==============================] - 6s 1ms/step - loss: 0.6646 - accuracy: 0.6190\n",
      "Test Accuracy: 61.90%\n",
      "Test Loss: 0.664554238319397\n"
     ]
    }
   ],
   "source": [
    "score = model.evaluate(X_test, y_test)\n",
    "print('Test Accuracy: {:.2f}%\\nTest Loss: {}'.format(score[1]*100,score[0]))"
   ]
  },
  {
   "cell_type": "code",
   "execution_count": 89,
   "metadata": {},
   "outputs": [
    {
     "data": {
      "image/png": "[encoded data removed]",
      "text/plain": [
       "<Figure size 432x288 with 2 Axes>"
      ]
     },
     "metadata": {
      "needs_background": "light"
     },
     "output_type": "display_data"
    }
   ],
   "source": [
    "import matplotlib.pyplot as plt\n",
    "import seaborn as sns\n",
    "from sklearn.metrics import confusion_matrix, classification_report\n",
    "y_pred = model.predict(X_test)\n",
    "y_test = pd.DataFrame(y_test)\n",
    "cm = confusion_matrix(y_test, y_pred.round())\n",
    "sns.heatmap(cm, annot=True, fmt='.0f', cmap='cividis_r')\n",
    "plt.show()"
   ]
  },
  {
   "cell_type": "markdown",
   "metadata": {},
   "source": [
    "## ANN with SMOTE"
   ]
  },
  {
   "cell_type": "code",
   "execution_count": 90,
   "metadata": {},
   "outputs": [
    {
     "data": {
      "text/plain": [
       "1    328163\n",
       "0    328163\n",
       "Name: PotentialFraud, dtype: int64"
      ]
     },
     "execution_count": 90,
     "metadata": {},
     "output_type": "execute_result"
    }
   ],
   "source": [
    "from imblearn.over_sampling import SMOTE\n",
    "X_smote, y_smote = SMOTE().fit_sample(x, y)\n",
    "X_smote = pd.DataFrame(X_smote)\n",
    "y_smote = pd.DataFrame(y_smote)\n",
    "y_smote.iloc[:,0].value_counts()"
   ]
  },
  {
   "cell_type": "code",
   "execution_count": 91,
   "metadata": {},
   "outputs": [
    {
     "name": "stdout",
     "output_type": "stream",
     "text": [
      "Epoch 1/5\n",
      "15315/15315 [==============================] - 23s 1ms/step - loss: 0.6935 - accuracy: 0.4998\n",
      "Epoch 2/5\n",
      "15315/15315 [==============================] - 22s 1ms/step - loss: 0.6932 - accuracy: 0.4988\n",
      "Epoch 3/5\n",
      "15315/15315 [==============================] - 22s 1ms/step - loss: 0.6932 - accuracy: 0.5010\n",
      "Epoch 4/5\n",
      "15315/15315 [==============================] - 22s 1ms/step - loss: 0.6932 - accuracy: 0.4995\n",
      "Epoch 5/5\n",
      "15315/15315 [==============================] - 22s 1ms/step - loss: 0.6932 - accuracy: 0.5004\n"
     ]
    },
    {
     "data": {
      "text/plain": [
       "<keras.callbacks.History at 0x2355ef6cd90>"
      ]
     },
     "execution_count": 91,
     "metadata": {},
     "output_type": "execute_result"
    }
   ],
   "source": [
    "X_train, X_test, y_train, y_test = train_test_split(X_smote, y_smote, test_size=0.3, random_state=0)\n",
    "X_train = np.array(X_train)\n",
    "X_test = np.array(X_test)\n",
    "y_train = np.array(y_train)\n",
    "y_test = np.array(y_test)\n",
    "model.compile(optimizer='adam', loss='binary_crossentropy', metrics=['accuracy'])\n",
    "model.fit(X_train, y_train, batch_size = 30, epochs = 2)"
   ]
  },
  {
   "cell_type": "code",
   "execution_count": 92,
   "metadata": {},
   "outputs": [
    {
     "name": "stdout",
     "output_type": "stream",
     "text": [
      "6154/6154 [==============================] - 7s 1ms/step - loss: 0.6932 - accuracy: 0.4997\n",
      "Test Accuracy: 49.97%\n",
      "Test Loss: 0.6931777596473694\n"
     ]
    }
   ],
   "source": [
    "score = model.evaluate(X_test, y_test)\n",
    "print('Test Accuracy: {:.2f}%\\nTest Loss: {}'.format(score[1]*100,score[0]))"
   ]
  },
  {
   "cell_type": "code",
   "execution_count": 93,
   "metadata": {},
   "outputs": [
    {
     "data": {
      "image/png": "[encoded data removed]",
      "text/plain": [
       "<Figure size 432x288 with 2 Axes>"
      ]
     },
     "metadata": {
      "needs_background": "light"
     },
     "output_type": "display_data"
    }
   ],
   "source": [
    "y_pred = model.predict(X_test)\n",
    "y_test = pd.DataFrame(y_test)\n",
    "cm = confusion_matrix(y_test, y_pred.round())\n",
    "sns.heatmap(cm, annot=True, fmt='.0f')\n",
    "plt.show()\n"
   ]
  },
  {
   "cell_type": "code",
   "execution_count": 95,
   "metadata": {
    "scrolled": true
   },
   "outputs": [
    {
     "data": {
      "image/png": "[encoded data removed]",
      "text/plain": [
       "<Figure size 432x288 with 2 Axes>"
      ]
     },
     "metadata": {
      "needs_background": "light"
     },
     "output_type": "display_data"
    }
   ],
   "source": [
    "y_pred2 = model.predict(x)\n",
    "y_test2 = pd.DataFrame(y)\n",
    "cm2 = confusion_matrix(y_test2, y_pred2.round())\n",
    "sns.heatmap(cm2, annot=True, fmt='.0f', cmap='coolwarm')\n",
    "plt.show()"
   ]
  },
  {
   "cell_type": "code",
   "execution_count": 96,
   "metadata": {},
   "outputs": [
    {
     "name": "stdout",
     "output_type": "stream",
     "text": [
      "16572/16572 [==============================] - 28s 2ms/step - loss: 0.6948 - accuracy: 0.3812\n",
      "Test Accuracy: 38.12%\n",
      "Test Loss: 0.6948111057281494\n"
     ]
    }
   ],
   "source": [
    "scoreNew = model.evaluate(x, y)\n",
    "print('Test Accuracy: {:.2f}%\\nTest Loss: {}'.format(scoreNew[1]*100,scoreNew[0]))"
   ]
  },
  {
   "cell_type": "code",
   "execution_count": 97,
   "metadata": {},
   "outputs": [
    {
     "name": "stdout",
     "output_type": "stream",
     "text": [
      "              precision    recall  f1-score   support\n",
      "\n",
      "           0       1.00      0.00      0.00    328163\n",
      "           1       0.38      1.00      0.55    202137\n",
      "\n",
      "    accuracy                           0.38    530300\n",
      "   macro avg       0.69      0.50      0.28    530300\n",
      "weighted avg       0.76      0.38      0.21    530300\n",
      "\n"
     ]
    }
   ],
   "source": [
    "print(classification_report(y_test2, y_pred2.round()))\n"
   ]
  },
  {
   "cell_type": "markdown",
   "metadata": {},
   "source": [
    "## SVM"
   ]
  },
  {
   "cell_type": "code",
   "execution_count": 45,
   "metadata": {},
   "outputs": [],
   "source": [
    "from sklearn.model_selection import train_test_split\n",
    "\n",
    "X_train, X_test, y_train, y_test = train_test_split(x, y, test_size = 0.3, random_state=42)\n",
    "# Import SVM\n",
    "from sklearn.svm import SVC\n",
    "svm = SVC()"
   ]
  },
  {
   "cell_type": "code",
   "execution_count": null,
   "metadata": {},
   "outputs": [],
   "source": [
    "\n",
    "\n",
    "\n",
    "svm.fit(X_train, y_train)\n",
    "y_pred = svm.predict(X_test)\n",
    "from sklearn.metrics import confusion_matrix, classification_report\n",
    "cm = confusion_matrix(y_test, y_pred)\n",
    "sns.heatmap(cm, annot=True, cmap=\"Paired_r\", linewidth=2, linecolor='w', fmt='.0f')\n",
    "plt.xlabel('Predicted Value')\n",
    "plt.ylabel('True Value')\n",
    "plt.show()"
   ]
  },
  {
   "cell_type": "code",
   "execution_count": 42,
   "metadata": {},
   "outputs": [],
   "source": [
    "# Normalization\n",
    "X = (x - np.min(x)) / (np.max(x) - np.min(x)).values\n",
    "X_train, X_test, y_train, y_test = train_test_split(X, y, test_size = 0.3, random_state = 42)"
   ]
  },
  {
   "cell_type": "code",
   "execution_count": null,
   "metadata": {},
   "outputs": [],
   "source": [
    "svm.fit(X_train, y_train)\n",
    "y_pred = svm.predict(X_test)"
   ]
  },
  {
   "cell_type": "code",
   "execution_count": null,
   "metadata": {},
   "outputs": [],
   "source": [
    "\n",
    "cm = confusion_matrix(y_test,y_pred)\n",
    "sns.heatmap(cm, annot=True, fmt='.0f', cmap='brg_r')\n",
    "plt.xlabel('Predicted Value')\n",
    "plt.ylabel('True Value')\n",
    "plt.show()"
   ]
  },
  {
   "cell_type": "code",
   "execution_count": null,
   "metadata": {},
   "outputs": [],
   "source": [
    "pickle.dump(svm,open(\"svm.pkl\",'wb'))"
   ]
  },
  {
   "cell_type": "code",
   "execution_count": 41,
   "metadata": {},
   "outputs": [
    {
     "ename": "NameError",
     "evalue": "name 'SVC' is not defined",
     "output_type": "error",
     "traceback": [
      "\u001b[1;31m---------------------------------------------------------------------------\u001b[0m",
      "\u001b[1;31mNameError\u001b[0m                                 Traceback (most recent call last)",
      "\u001b[1;32m~\\AppData\\Local\\Temp/ipykernel_20732/4209134136.py\u001b[0m in \u001b[0;36m<module>\u001b[1;34m\u001b[0m\n\u001b[0;32m      1\u001b[0m \u001b[1;32mfrom\u001b[0m \u001b[0msklearn\u001b[0m\u001b[1;33m.\u001b[0m\u001b[0mmodel_selection\u001b[0m \u001b[1;32mimport\u001b[0m \u001b[0mGridSearchCV\u001b[0m\u001b[1;33m\u001b[0m\u001b[1;33m\u001b[0m\u001b[0m\n\u001b[0;32m      2\u001b[0m \u001b[0mparam_grid\u001b[0m \u001b[1;33m=\u001b[0m \u001b[1;33m{\u001b[0m\u001b[1;34m'C'\u001b[0m\u001b[1;33m:\u001b[0m\u001b[1;33m[\u001b[0m\u001b[1;36m0.1\u001b[0m\u001b[1;33m,\u001b[0m \u001b[1;36m1\u001b[0m\u001b[1;33m,\u001b[0m \u001b[1;36m10\u001b[0m\u001b[1;33m,\u001b[0m \u001b[1;36m100\u001b[0m\u001b[1;33m]\u001b[0m\u001b[1;33m,\u001b[0m \u001b[1;34m'gamma'\u001b[0m\u001b[1;33m:\u001b[0m\u001b[1;33m[\u001b[0m\u001b[1;36m1\u001b[0m\u001b[1;33m,\u001b[0m \u001b[1;36m0.1\u001b[0m\u001b[1;33m,\u001b[0m \u001b[1;36m0.01\u001b[0m\u001b[1;33m,\u001b[0m \u001b[1;36m0.001\u001b[0m\u001b[1;33m]\u001b[0m\u001b[1;33m,\u001b[0m \u001b[1;34m'kernel'\u001b[0m \u001b[1;33m:\u001b[0m \u001b[1;33m[\u001b[0m\u001b[1;34m'rbf'\u001b[0m\u001b[1;33m,\u001b[0m \u001b[1;34m'poly'\u001b[0m\u001b[1;33m,\u001b[0m \u001b[1;34m'sigmoid'\u001b[0m\u001b[1;33m,\u001b[0m \u001b[1;34m'linear'\u001b[0m\u001b[1;33m]\u001b[0m\u001b[1;33m}\u001b[0m\u001b[1;33m\u001b[0m\u001b[1;33m\u001b[0m\u001b[0m\n\u001b[1;32m----> 3\u001b[1;33m \u001b[0mgrid\u001b[0m \u001b[1;33m=\u001b[0m \u001b[0mGridSearchCV\u001b[0m\u001b[1;33m(\u001b[0m\u001b[0mSVC\u001b[0m\u001b[1;33m(\u001b[0m\u001b[1;33m)\u001b[0m\u001b[1;33m,\u001b[0m \u001b[0mparam_grid\u001b[0m\u001b[1;33m,\u001b[0m \u001b[0mrefit\u001b[0m\u001b[1;33m=\u001b[0m\u001b[1;32mTrue\u001b[0m\u001b[1;33m,\u001b[0m \u001b[0mverbose\u001b[0m\u001b[1;33m=\u001b[0m\u001b[1;36m4\u001b[0m\u001b[1;33m)\u001b[0m\u001b[1;33m\u001b[0m\u001b[1;33m\u001b[0m\u001b[0m\n\u001b[0m\u001b[0;32m      4\u001b[0m \u001b[0mgrid\u001b[0m\u001b[1;33m.\u001b[0m\u001b[0mfit\u001b[0m\u001b[1;33m(\u001b[0m\u001b[0mX_train\u001b[0m\u001b[1;33m,\u001b[0m \u001b[0my_train\u001b[0m\u001b[1;33m)\u001b[0m\u001b[1;33m\u001b[0m\u001b[1;33m\u001b[0m\u001b[0m\n\u001b[0;32m      5\u001b[0m \u001b[0mprint\u001b[0m\u001b[1;33m(\u001b[0m\u001b[1;34m\"Best Parameters: \"\u001b[0m\u001b[1;33m,\u001b[0m\u001b[0mgrid\u001b[0m\u001b[1;33m.\u001b[0m\u001b[0mbest_params_\u001b[0m\u001b[1;33m)\u001b[0m\u001b[1;33m\u001b[0m\u001b[1;33m\u001b[0m\u001b[0m\n",
      "\u001b[1;31mNameError\u001b[0m: name 'SVC' is not defined"
     ]
    }
   ],
   "source": [
    "from sklearn.model_selection import GridSearchCV\n",
    "param_grid = {'C':[0.1, 1, 10, 100], 'gamma':[1, 0.1, 0.01, 0.001], 'kernel' : ['rbf', 'poly', 'sigmoid', 'linear']}\n",
    "grid = GridSearchCV(SVC(), param_grid, refit=True, verbose=4)\n",
    "grid.fit(X_train, y_train)\n",
    "print(\"Best Parameters: \",grid.best_params_)"
   ]
  },
  {
   "cell_type": "code",
   "execution_count": null,
   "metadata": {},
   "outputs": [],
   "source": [
    "grid_pred = grid.predict(X_test)\n",
    "cmNew = confusion_matrix(y_test, grid_pred)\n",
    "sns.heatmap(cmNew, annot=True, fmt='.0f', cmap='gray_r')\n",
    "plt.xlabel('Predicted Value')\n",
    "plt.ylabel('True Value')\n",
    "plt.show()"
   ]
  },
  {
   "cell_type": "code",
   "execution_count": null,
   "metadata": {},
   "outputs": [],
   "source": [
    "print(classification_report(y_test, grid_pred))\n"
   ]
  },
  {
   "cell_type": "code",
   "execution_count": null,
   "metadata": {},
   "outputs": [],
   "source": []
  }
 ],
 "metadata": {
  "kernelspec": {
   "display_name": "Python 3 (ipykernel)",
   "language": "python",
   "name": "python3"
  },
  "language_info": {
   "codemirror_mode": {
    "name": "ipython",
    "version": 3
   },
   "file_extension": ".py",
   "mimetype": "text/x-python",
   "name": "python",
   "nbconvert_exporter": "python",
   "pygments_lexer": "ipython3",
   "version": "3.9.7"
  },
  "toc": {
   "base_numbering": 1,
   "nav_menu": {},
   "number_sections": true,
   "sideBar": true,
   "skip_h1_title": false,
   "title_cell": "Table of Contents",
   "title_sidebar": "Contents",
   "toc_cell": false,
   "toc_position": {
    "height": "calc(100% - 180px)",
    "left": "10px",
    "top": "150px",
    "width": "320px"
   },
   "toc_section_display": true,
   "toc_window_display": true
  }
 },
 "nbformat": 4,
 "nbformat_minor": 4
}
