{
 "cells": [
  {
   "cell_type": "code",
   "execution_count": 1,
   "id": "c23b6780",
   "metadata": {
    "_cell_guid": "b1076dfc-b9ad-4769-8c92-a6c4dae69d19",
    "_uuid": "8f2839f25d086af736a60e9eeb907d3b93b6e0e5",
    "execution": {
     "iopub.execute_input": "2022-01-21T15:24:57.167519Z",
     "iopub.status.busy": "2022-01-21T15:24:57.166093Z",
     "iopub.status.idle": "2022-01-21T15:24:57.186601Z",
     "shell.execute_reply": "2022-01-21T15:24:57.187344Z",
     "shell.execute_reply.started": "2022-01-21T15:05:31.297898Z"
    },
    "papermill": {
     "duration": 0.103561,
     "end_time": "2022-01-21T15:24:57.187731",
     "exception": false,
     "start_time": "2022-01-21T15:24:57.084170",
     "status": "completed"
    },
    "tags": []
   },
   "outputs": [
    {
     "name": "stdout",
     "output_type": "stream",
     "text": [
      "/kaggle/input/vehicle-claim-fraud-detection/fraud_oracle.csv\n"
     ]
    }
   ],
   "source": [
    "# This Python 3 environment comes with many helpful analytics libraries installed\n",
    "# It is defined by the kaggle/python Docker image: https://github.com/kaggle/docker-python\n",
    "# For example, here's several helpful packages to load\n",
    "\n",
    "import numpy as np # linear algebra\n",
    "import pandas as pd # data processing, CSV file I/O (e.g. pd.read_csv)\n",
    "\n",
    "# Input data files are available in the read-only \"../input/\" directory\n",
    "# For example, running this (by clicking run or pressing Shift+Enter) will list all files under the input directory\n",
    "\n",
    "import os\n",
    "for dirname, _, filenames in os.walk('/kaggle/input'):\n",
    "    for filename in filenames:\n",
    "        print(os.path.join(dirname, filename))\n",
    "\n",
    "# You can write up to 20GB to the current directory (/kaggle/working/) that gets preserved as output when you create a version using \"Save & Run All\" \n",
    "# You can also write temporary files to /kaggle/temp/, but they won't be saved outside of the current session"
   ]
  },
  {
   "cell_type": "code",
   "execution_count": 2,
   "id": "2bb3b616",
   "metadata": {
    "execution": {
     "iopub.execute_input": "2022-01-21T15:24:57.342889Z",
     "iopub.status.busy": "2022-01-21T15:24:57.342214Z",
     "iopub.status.idle": "2022-01-21T15:24:59.303281Z",
     "shell.execute_reply": "2022-01-21T15:24:59.302572Z",
     "shell.execute_reply.started": "2022-01-21T15:05:31.337271Z"
    },
    "papermill": {
     "duration": 2.038957,
     "end_time": "2022-01-21T15:24:59.303421",
     "exception": false,
     "start_time": "2022-01-21T15:24:57.264464",
     "status": "completed"
    },
    "tags": []
   },
   "outputs": [],
   "source": [
    "# import all the tools we need\n",
    "\n",
    "\n",
    "# Regular EDA libraries\n",
    "import numpy as np\n",
    "import pandas as pd\n",
    "import matplotlib.pyplot as plt \n",
    "import seaborn as sns\n",
    "\n",
    "\n",
    "# we want our plots to apear within notebooks\n",
    "%matplotlib inline\n",
    "pd.set_option('display.float_format', lambda x: '%.2f' % x)\n",
    "sns.set_style(\"darkgrid\")\n",
    "\n",
    "\n",
    "# Models from scikit-learn & XGboost\n",
    "from sklearn.ensemble import RandomForestClassifier\n",
    "from sklearn.linear_model import LogisticRegression\n",
    "from sklearn.neighbors import KNeighborsClassifier\n",
    "from xgboost import XGBClassifier\n",
    "from xgboost import plot_importance\n",
    "from sklearn.pipeline import Pipeline\n",
    "from sklearn.feature_selection import SelectKBest, chi2\n",
    "\n",
    "\n",
    "# Model Evaluation libraries\n",
    "from sklearn.model_selection import train_test_split, cross_val_score\n",
    "from sklearn.model_selection import GridSearchCV, RandomizedSearchCV, KFold\n",
    "from sklearn.metrics import classification_report, confusion_matrix\n",
    "from sklearn.metrics import precision_score, recall_score, f1_score, make_scorer, accuracy_score\n",
    "from sklearn.metrics import plot_roc_curve\n",
    "# For Hyperparameter tunning of Xgboost\n",
    "from hyperopt import STATUS_OK, Trials, fmin, hp, tpe"
   ]
  },
  {
   "cell_type": "code",
   "execution_count": 3,
   "id": "533ee963",
   "metadata": {
    "execution": {
     "iopub.execute_input": "2022-01-21T15:24:59.461403Z",
     "iopub.status.busy": "2022-01-21T15:24:59.460618Z",
     "iopub.status.idle": "2022-01-21T15:24:59.643262Z",
     "shell.execute_reply": "2022-01-21T15:24:59.642699Z",
     "shell.execute_reply.started": "2022-01-21T15:05:33.632201Z"
    },
    "papermill": {
     "duration": 0.264477,
     "end_time": "2022-01-21T15:24:59.643400",
     "exception": false,
     "start_time": "2022-01-21T15:24:59.378923",
     "status": "completed"
    },
    "tags": []
   },
   "outputs": [
    {
     "data": {
      "text/html": [
       "<div>\n",
       "<style scoped>\n",
       "    .dataframe tbody tr th:only-of-type {\n",
       "        vertical-align: middle;\n",
       "    }\n",
       "\n",
       "    .dataframe tbody tr th {\n",
       "        vertical-align: top;\n",
       "    }\n",
       "\n",
       "    .dataframe thead th {\n",
       "        text-align: right;\n",
       "    }\n",
       "</style>\n",
       "<table border=\"1\" class=\"dataframe\">\n",
       "  <thead>\n",
       "    <tr style=\"text-align: right;\">\n",
       "      <th></th>\n",
       "      <th>Month</th>\n",
       "      <th>WeekOfMonth</th>\n",
       "      <th>DayOfWeek</th>\n",
       "      <th>Make</th>\n",
       "      <th>AccidentArea</th>\n",
       "      <th>DayOfWeekClaimed</th>\n",
       "      <th>MonthClaimed</th>\n",
       "      <th>WeekOfMonthClaimed</th>\n",
       "      <th>Sex</th>\n",
       "      <th>MaritalStatus</th>\n",
       "      <th>...</th>\n",
       "      <th>AgeOfVehicle</th>\n",
       "      <th>AgeOfPolicyHolder</th>\n",
       "      <th>PoliceReportFiled</th>\n",
       "      <th>WitnessPresent</th>\n",
       "      <th>AgentType</th>\n",
       "      <th>NumberOfSuppliments</th>\n",
       "      <th>AddressChange_Claim</th>\n",
       "      <th>NumberOfCars</th>\n",
       "      <th>Year</th>\n",
       "      <th>BasePolicy</th>\n",
       "    </tr>\n",
       "  </thead>\n",
       "  <tbody>\n",
       "    <tr>\n",
       "      <th>0</th>\n",
       "      <td>Dec</td>\n",
       "      <td>5</td>\n",
       "      <td>Wednesday</td>\n",
       "      <td>Honda</td>\n",
       "      <td>Urban</td>\n",
       "      <td>Tuesday</td>\n",
       "      <td>Jan</td>\n",
       "      <td>1</td>\n",
       "      <td>Female</td>\n",
       "      <td>Single</td>\n",
       "      <td>...</td>\n",
       "      <td>3 years</td>\n",
       "      <td>26 to 30</td>\n",
       "      <td>No</td>\n",
       "      <td>No</td>\n",
       "      <td>External</td>\n",
       "      <td>none</td>\n",
       "      <td>1 year</td>\n",
       "      <td>3 to 4</td>\n",
       "      <td>1994</td>\n",
       "      <td>Liability</td>\n",
       "    </tr>\n",
       "    <tr>\n",
       "      <th>1</th>\n",
       "      <td>Jan</td>\n",
       "      <td>3</td>\n",
       "      <td>Wednesday</td>\n",
       "      <td>Honda</td>\n",
       "      <td>Urban</td>\n",
       "      <td>Monday</td>\n",
       "      <td>Jan</td>\n",
       "      <td>4</td>\n",
       "      <td>Male</td>\n",
       "      <td>Single</td>\n",
       "      <td>...</td>\n",
       "      <td>6 years</td>\n",
       "      <td>31 to 35</td>\n",
       "      <td>Yes</td>\n",
       "      <td>No</td>\n",
       "      <td>External</td>\n",
       "      <td>none</td>\n",
       "      <td>no change</td>\n",
       "      <td>1 vehicle</td>\n",
       "      <td>1994</td>\n",
       "      <td>Collision</td>\n",
       "    </tr>\n",
       "    <tr>\n",
       "      <th>2</th>\n",
       "      <td>Oct</td>\n",
       "      <td>5</td>\n",
       "      <td>Friday</td>\n",
       "      <td>Honda</td>\n",
       "      <td>Urban</td>\n",
       "      <td>Thursday</td>\n",
       "      <td>Nov</td>\n",
       "      <td>2</td>\n",
       "      <td>Male</td>\n",
       "      <td>Married</td>\n",
       "      <td>...</td>\n",
       "      <td>7 years</td>\n",
       "      <td>41 to 50</td>\n",
       "      <td>No</td>\n",
       "      <td>No</td>\n",
       "      <td>External</td>\n",
       "      <td>none</td>\n",
       "      <td>no change</td>\n",
       "      <td>1 vehicle</td>\n",
       "      <td>1994</td>\n",
       "      <td>Collision</td>\n",
       "    </tr>\n",
       "    <tr>\n",
       "      <th>3</th>\n",
       "      <td>Jun</td>\n",
       "      <td>2</td>\n",
       "      <td>Saturday</td>\n",
       "      <td>Toyota</td>\n",
       "      <td>Rural</td>\n",
       "      <td>Friday</td>\n",
       "      <td>Jul</td>\n",
       "      <td>1</td>\n",
       "      <td>Male</td>\n",
       "      <td>Married</td>\n",
       "      <td>...</td>\n",
       "      <td>more than 7</td>\n",
       "      <td>51 to 65</td>\n",
       "      <td>Yes</td>\n",
       "      <td>No</td>\n",
       "      <td>External</td>\n",
       "      <td>more than 5</td>\n",
       "      <td>no change</td>\n",
       "      <td>1 vehicle</td>\n",
       "      <td>1994</td>\n",
       "      <td>Liability</td>\n",
       "    </tr>\n",
       "    <tr>\n",
       "      <th>4</th>\n",
       "      <td>Jan</td>\n",
       "      <td>5</td>\n",
       "      <td>Monday</td>\n",
       "      <td>Honda</td>\n",
       "      <td>Urban</td>\n",
       "      <td>Tuesday</td>\n",
       "      <td>Feb</td>\n",
       "      <td>2</td>\n",
       "      <td>Female</td>\n",
       "      <td>Single</td>\n",
       "      <td>...</td>\n",
       "      <td>5 years</td>\n",
       "      <td>31 to 35</td>\n",
       "      <td>No</td>\n",
       "      <td>No</td>\n",
       "      <td>External</td>\n",
       "      <td>none</td>\n",
       "      <td>no change</td>\n",
       "      <td>1 vehicle</td>\n",
       "      <td>1994</td>\n",
       "      <td>Collision</td>\n",
       "    </tr>\n",
       "  </tbody>\n",
       "</table>\n",
       "<p>5 rows × 33 columns</p>\n",
       "</div>"
      ],
      "text/plain": [
       "  Month  WeekOfMonth  DayOfWeek    Make AccidentArea DayOfWeekClaimed  \\\n",
       "0   Dec            5  Wednesday   Honda        Urban          Tuesday   \n",
       "1   Jan            3  Wednesday   Honda        Urban           Monday   \n",
       "2   Oct            5     Friday   Honda        Urban         Thursday   \n",
       "3   Jun            2   Saturday  Toyota        Rural           Friday   \n",
       "4   Jan            5     Monday   Honda        Urban          Tuesday   \n",
       "\n",
       "  MonthClaimed  WeekOfMonthClaimed     Sex MaritalStatus  ...  AgeOfVehicle  \\\n",
       "0          Jan                   1  Female        Single  ...       3 years   \n",
       "1          Jan                   4    Male        Single  ...       6 years   \n",
       "2          Nov                   2    Male       Married  ...       7 years   \n",
       "3          Jul                   1    Male       Married  ...   more than 7   \n",
       "4          Feb                   2  Female        Single  ...       5 years   \n",
       "\n",
       "  AgeOfPolicyHolder PoliceReportFiled WitnessPresent AgentType  \\\n",
       "0          26 to 30                No             No  External   \n",
       "1          31 to 35               Yes             No  External   \n",
       "2          41 to 50                No             No  External   \n",
       "3          51 to 65               Yes             No  External   \n",
       "4          31 to 35                No             No  External   \n",
       "\n",
       "   NumberOfSuppliments  AddressChange_Claim  NumberOfCars  Year  BasePolicy  \n",
       "0                 none               1 year        3 to 4  1994   Liability  \n",
       "1                 none            no change     1 vehicle  1994   Collision  \n",
       "2                 none            no change     1 vehicle  1994   Collision  \n",
       "3          more than 5            no change     1 vehicle  1994   Liability  \n",
       "4                 none            no change     1 vehicle  1994   Collision  \n",
       "\n",
       "[5 rows x 33 columns]"
      ]
     },
     "execution_count": 3,
     "metadata": {},
     "output_type": "execute_result"
    }
   ],
   "source": [
    "df = pd.read_csv(\"../input/vehicle-claim-fraud-detection/fraud_oracle.csv\")\n",
    "df.head()"
   ]
  },
  {
   "cell_type": "markdown",
   "id": "ab79b9dd",
   "metadata": {
    "papermill": {
     "duration": 0.077398,
     "end_time": "2022-01-21T15:24:59.797756",
     "exception": false,
     "start_time": "2022-01-21T15:24:59.720358",
     "status": "completed"
    },
    "tags": []
   },
   "source": [
    "# EDA (Exploratory Data Analysis)"
   ]
  },
  {
   "cell_type": "code",
   "execution_count": 4,
   "id": "b7a0f5df",
   "metadata": {
    "execution": {
     "iopub.execute_input": "2022-01-21T15:24:59.959107Z",
     "iopub.status.busy": "2022-01-21T15:24:59.958141Z",
     "iopub.status.idle": "2022-01-21T15:25:00.021834Z",
     "shell.execute_reply": "2022-01-21T15:25:00.021202Z",
     "shell.execute_reply.started": "2022-01-21T15:05:33.832916Z"
    },
    "papermill": {
     "duration": 0.147276,
     "end_time": "2022-01-21T15:25:00.021994",
     "exception": false,
     "start_time": "2022-01-21T15:24:59.874718",
     "status": "completed"
    },
    "tags": []
   },
   "outputs": [
    {
     "name": "stdout",
     "output_type": "stream",
     "text": [
      "<class 'pandas.core.frame.DataFrame'>\n",
      "RangeIndex: 15420 entries, 0 to 15419\n",
      "Data columns (total 33 columns):\n",
      " #   Column                Non-Null Count  Dtype \n",
      "---  ------                --------------  ----- \n",
      " 0   Month                 15420 non-null  object\n",
      " 1   WeekOfMonth           15420 non-null  int64 \n",
      " 2   DayOfWeek             15420 non-null  object\n",
      " 3   Make                  15420 non-null  object\n",
      " 4   AccidentArea          15420 non-null  object\n",
      " 5   DayOfWeekClaimed      15420 non-null  object\n",
      " 6   MonthClaimed          15420 non-null  object\n",
      " 7   WeekOfMonthClaimed    15420 non-null  int64 \n",
      " 8   Sex                   15420 non-null  object\n",
      " 9   MaritalStatus         15420 non-null  object\n",
      " 10  Age                   15420 non-null  int64 \n",
      " 11  Fault                 15420 non-null  object\n",
      " 12  PolicyType            15420 non-null  object\n",
      " 13  VehicleCategory       15420 non-null  object\n",
      " 14  VehiclePrice          15420 non-null  object\n",
      " 15  FraudFound_P          15420 non-null  int64 \n",
      " 16  PolicyNumber          15420 non-null  int64 \n",
      " 17  RepNumber             15420 non-null  int64 \n",
      " 18  Deductible            15420 non-null  int64 \n",
      " 19  DriverRating          15420 non-null  int64 \n",
      " 20  Days_Policy_Accident  15420 non-null  object\n",
      " 21  Days_Policy_Claim     15420 non-null  object\n",
      " 22  PastNumberOfClaims    15420 non-null  object\n",
      " 23  AgeOfVehicle          15420 non-null  object\n",
      " 24  AgeOfPolicyHolder     15420 non-null  object\n",
      " 25  PoliceReportFiled     15420 non-null  object\n",
      " 26  WitnessPresent        15420 non-null  object\n",
      " 27  AgentType             15420 non-null  object\n",
      " 28  NumberOfSuppliments   15420 non-null  object\n",
      " 29  AddressChange_Claim   15420 non-null  object\n",
      " 30  NumberOfCars          15420 non-null  object\n",
      " 31  Year                  15420 non-null  int64 \n",
      " 32  BasePolicy            15420 non-null  object\n",
      "dtypes: int64(9), object(24)\n",
      "memory usage: 3.9+ MB\n"
     ]
    }
   ],
   "source": [
    "df.info()"
   ]
  },
  {
   "cell_type": "code",
   "execution_count": 5,
   "id": "0964b2b5",
   "metadata": {
    "execution": {
     "iopub.execute_input": "2022-01-21T15:25:00.178966Z",
     "iopub.status.busy": "2022-01-21T15:25:00.178346Z",
     "iopub.status.idle": "2022-01-21T15:25:00.212977Z",
     "shell.execute_reply": "2022-01-21T15:25:00.213597Z",
     "shell.execute_reply.started": "2022-01-21T15:05:33.905500Z"
    },
    "papermill": {
     "duration": 0.114204,
     "end_time": "2022-01-21T15:25:00.213796",
     "exception": false,
     "start_time": "2022-01-21T15:25:00.099592",
     "status": "completed"
    },
    "tags": []
   },
   "outputs": [
    {
     "data": {
      "text/html": [
       "<div>\n",
       "<style scoped>\n",
       "    .dataframe tbody tr th:only-of-type {\n",
       "        vertical-align: middle;\n",
       "    }\n",
       "\n",
       "    .dataframe tbody tr th {\n",
       "        vertical-align: top;\n",
       "    }\n",
       "\n",
       "    .dataframe thead th {\n",
       "        text-align: right;\n",
       "    }\n",
       "</style>\n",
       "<table border=\"1\" class=\"dataframe\">\n",
       "  <thead>\n",
       "    <tr style=\"text-align: right;\">\n",
       "      <th></th>\n",
       "      <th>count</th>\n",
       "      <th>mean</th>\n",
       "      <th>std</th>\n",
       "      <th>min</th>\n",
       "      <th>25%</th>\n",
       "      <th>50%</th>\n",
       "      <th>75%</th>\n",
       "      <th>max</th>\n",
       "    </tr>\n",
       "  </thead>\n",
       "  <tbody>\n",
       "    <tr>\n",
       "      <th>WeekOfMonth</th>\n",
       "      <td>15420.00</td>\n",
       "      <td>2.79</td>\n",
       "      <td>1.29</td>\n",
       "      <td>1.00</td>\n",
       "      <td>2.00</td>\n",
       "      <td>3.00</td>\n",
       "      <td>4.00</td>\n",
       "      <td>5.00</td>\n",
       "    </tr>\n",
       "    <tr>\n",
       "      <th>WeekOfMonthClaimed</th>\n",
       "      <td>15420.00</td>\n",
       "      <td>2.69</td>\n",
       "      <td>1.26</td>\n",
       "      <td>1.00</td>\n",
       "      <td>2.00</td>\n",
       "      <td>3.00</td>\n",
       "      <td>4.00</td>\n",
       "      <td>5.00</td>\n",
       "    </tr>\n",
       "    <tr>\n",
       "      <th>Age</th>\n",
       "      <td>15420.00</td>\n",
       "      <td>39.86</td>\n",
       "      <td>13.49</td>\n",
       "      <td>0.00</td>\n",
       "      <td>31.00</td>\n",
       "      <td>38.00</td>\n",
       "      <td>48.00</td>\n",
       "      <td>80.00</td>\n",
       "    </tr>\n",
       "    <tr>\n",
       "      <th>FraudFound_P</th>\n",
       "      <td>15420.00</td>\n",
       "      <td>0.06</td>\n",
       "      <td>0.24</td>\n",
       "      <td>0.00</td>\n",
       "      <td>0.00</td>\n",
       "      <td>0.00</td>\n",
       "      <td>0.00</td>\n",
       "      <td>1.00</td>\n",
       "    </tr>\n",
       "    <tr>\n",
       "      <th>PolicyNumber</th>\n",
       "      <td>15420.00</td>\n",
       "      <td>7710.50</td>\n",
       "      <td>4451.51</td>\n",
       "      <td>1.00</td>\n",
       "      <td>3855.75</td>\n",
       "      <td>7710.50</td>\n",
       "      <td>11565.25</td>\n",
       "      <td>15420.00</td>\n",
       "    </tr>\n",
       "    <tr>\n",
       "      <th>RepNumber</th>\n",
       "      <td>15420.00</td>\n",
       "      <td>8.48</td>\n",
       "      <td>4.60</td>\n",
       "      <td>1.00</td>\n",
       "      <td>5.00</td>\n",
       "      <td>8.00</td>\n",
       "      <td>12.00</td>\n",
       "      <td>16.00</td>\n",
       "    </tr>\n",
       "    <tr>\n",
       "      <th>Deductible</th>\n",
       "      <td>15420.00</td>\n",
       "      <td>407.70</td>\n",
       "      <td>43.95</td>\n",
       "      <td>300.00</td>\n",
       "      <td>400.00</td>\n",
       "      <td>400.00</td>\n",
       "      <td>400.00</td>\n",
       "      <td>700.00</td>\n",
       "    </tr>\n",
       "    <tr>\n",
       "      <th>DriverRating</th>\n",
       "      <td>15420.00</td>\n",
       "      <td>2.49</td>\n",
       "      <td>1.12</td>\n",
       "      <td>1.00</td>\n",
       "      <td>1.00</td>\n",
       "      <td>2.00</td>\n",
       "      <td>3.00</td>\n",
       "      <td>4.00</td>\n",
       "    </tr>\n",
       "    <tr>\n",
       "      <th>Year</th>\n",
       "      <td>15420.00</td>\n",
       "      <td>1994.87</td>\n",
       "      <td>0.80</td>\n",
       "      <td>1994.00</td>\n",
       "      <td>1994.00</td>\n",
       "      <td>1995.00</td>\n",
       "      <td>1996.00</td>\n",
       "      <td>1996.00</td>\n",
       "    </tr>\n",
       "  </tbody>\n",
       "</table>\n",
       "</div>"
      ],
      "text/plain": [
       "                      count    mean     std     min     25%     50%      75%  \\\n",
       "WeekOfMonth        15420.00    2.79    1.29    1.00    2.00    3.00     4.00   \n",
       "WeekOfMonthClaimed 15420.00    2.69    1.26    1.00    2.00    3.00     4.00   \n",
       "Age                15420.00   39.86   13.49    0.00   31.00   38.00    48.00   \n",
       "FraudFound_P       15420.00    0.06    0.24    0.00    0.00    0.00     0.00   \n",
       "PolicyNumber       15420.00 7710.50 4451.51    1.00 3855.75 7710.50 11565.25   \n",
       "RepNumber          15420.00    8.48    4.60    1.00    5.00    8.00    12.00   \n",
       "Deductible         15420.00  407.70   43.95  300.00  400.00  400.00   400.00   \n",
       "DriverRating       15420.00    2.49    1.12    1.00    1.00    2.00     3.00   \n",
       "Year               15420.00 1994.87    0.80 1994.00 1994.00 1995.00  1996.00   \n",
       "\n",
       "                        max  \n",
       "WeekOfMonth            5.00  \n",
       "WeekOfMonthClaimed     5.00  \n",
       "Age                   80.00  \n",
       "FraudFound_P           1.00  \n",
       "PolicyNumber       15420.00  \n",
       "RepNumber             16.00  \n",
       "Deductible           700.00  \n",
       "DriverRating           4.00  \n",
       "Year                1996.00  "
      ]
     },
     "execution_count": 5,
     "metadata": {},
     "output_type": "execute_result"
    }
   ],
   "source": [
    "df.describe().T"
   ]
  },
  {
   "cell_type": "code",
   "execution_count": 6,
   "id": "7ccba17d",
   "metadata": {
    "execution": {
     "iopub.execute_input": "2022-01-21T15:25:00.372807Z",
     "iopub.status.busy": "2022-01-21T15:25:00.372124Z",
     "iopub.status.idle": "2022-01-21T15:25:00.378168Z",
     "shell.execute_reply": "2022-01-21T15:25:00.378768Z",
     "shell.execute_reply.started": "2022-01-21T15:05:33.947736Z"
    },
    "papermill": {
     "duration": 0.086645,
     "end_time": "2022-01-21T15:25:00.378950",
     "exception": false,
     "start_time": "2022-01-21T15:25:00.292305",
     "status": "completed"
    },
    "tags": []
   },
   "outputs": [
    {
     "data": {
      "text/plain": [
       "0    14497\n",
       "1      923\n",
       "Name: FraudFound_P, dtype: int64"
      ]
     },
     "execution_count": 6,
     "metadata": {},
     "output_type": "execute_result"
    }
   ],
   "source": [
    "df[\"FraudFound_P\"].value_counts()"
   ]
  },
  {
   "cell_type": "code",
   "execution_count": 7,
   "id": "dc61961c",
   "metadata": {
    "execution": {
     "iopub.execute_input": "2022-01-21T15:25:00.538943Z",
     "iopub.status.busy": "2022-01-21T15:25:00.538225Z",
     "iopub.status.idle": "2022-01-21T15:25:00.790851Z",
     "shell.execute_reply": "2022-01-21T15:25:00.790331Z",
     "shell.execute_reply.started": "2022-01-21T15:05:33.959799Z"
    },
    "papermill": {
     "duration": 0.334473,
     "end_time": "2022-01-21T15:25:00.790994",
     "exception": false,
     "start_time": "2022-01-21T15:25:00.456521",
     "status": "completed"
    },
    "tags": []
   },
   "outputs": [
    {
     "data": {
      "text/plain": [
       "<AxesSubplot:>"
      ]
     },
     "execution_count": 7,
     "metadata": {},
     "output_type": "execute_result"
    },
    {
     "data": {
      "image/png": "[encoded data removed]",
      "text/plain": [
       "<Figure size 720x432 with 1 Axes>"
      ]
     },
     "metadata": {},
     "output_type": "display_data"
    }
   ],
   "source": [
    "plt.figure(figsize=(10,6))\n",
    "df[\"FraudFound_P\"].value_counts().plot(kind=\"bar\", color=['salmon', 'lightblue'])"
   ]
  },
  {
   "cell_type": "code",
   "execution_count": 8,
   "id": "b5055dc0",
   "metadata": {
    "execution": {
     "iopub.execute_input": "2022-01-21T15:25:00.958385Z",
     "iopub.status.busy": "2022-01-21T15:25:00.957401Z",
     "iopub.status.idle": "2022-01-21T15:25:00.961268Z",
     "shell.execute_reply": "2022-01-21T15:25:00.960728Z",
     "shell.execute_reply.started": "2022-01-21T15:05:34.251454Z"
    },
    "papermill": {
     "duration": 0.091115,
     "end_time": "2022-01-21T15:25:00.961404",
     "exception": false,
     "start_time": "2022-01-21T15:25:00.870289",
     "status": "completed"
    },
    "tags": []
   },
   "outputs": [
    {
     "data": {
      "text/plain": [
       "Male      13000\n",
       "Female     2420\n",
       "Name: Sex, dtype: int64"
      ]
     },
     "execution_count": 8,
     "metadata": {},
     "output_type": "execute_result"
    }
   ],
   "source": [
    "df[\"Sex\"].value_counts()"
   ]
  },
  {
   "cell_type": "code",
   "execution_count": 9,
   "id": "a5abe932",
   "metadata": {
    "execution": {
     "iopub.execute_input": "2022-01-21T15:25:01.125209Z",
     "iopub.status.busy": "2022-01-21T15:25:01.124495Z",
     "iopub.status.idle": "2022-01-21T15:25:01.326694Z",
     "shell.execute_reply": "2022-01-21T15:25:01.326002Z",
     "shell.execute_reply.started": "2022-01-21T15:05:34.265390Z"
    },
    "papermill": {
     "duration": 0.285158,
     "end_time": "2022-01-21T15:25:01.326888",
     "exception": false,
     "start_time": "2022-01-21T15:25:01.041730",
     "status": "completed"
    },
    "tags": []
   },
   "outputs": [
    {
     "data": {
      "image/png": "[encoded data removed]",
      "text/plain": [
       "<Figure size 720x432 with 1 Axes>"
      ]
     },
     "metadata": {},
     "output_type": "display_data"
    }
   ],
   "source": [
    "plt.figure(figsize=(10,6))\n",
    "df[\"Fault\"].value_counts().plot(kind=\"bar\")\n",
    "plt.xticks(rotation = 0);"
   ]
  },
  {
   "cell_type": "code",
   "execution_count": 10,
   "id": "5e51c33a",
   "metadata": {
    "execution": {
     "iopub.execute_input": "2022-01-21T15:25:01.498753Z",
     "iopub.status.busy": "2022-01-21T15:25:01.498086Z",
     "iopub.status.idle": "2022-01-21T15:25:01.500587Z",
     "shell.execute_reply": "2022-01-21T15:25:01.501101Z",
     "shell.execute_reply.started": "2022-01-21T15:05:34.493914Z"
    },
    "papermill": {
     "duration": 0.092632,
     "end_time": "2022-01-21T15:25:01.501277",
     "exception": false,
     "start_time": "2022-01-21T15:25:01.408645",
     "status": "completed"
    },
    "tags": []
   },
   "outputs": [
    {
     "data": {
      "text/plain": [
       "Urban    13822\n",
       "Rural     1598\n",
       "Name: AccidentArea, dtype: int64"
      ]
     },
     "execution_count": 10,
     "metadata": {},
     "output_type": "execute_result"
    }
   ],
   "source": [
    "df.AccidentArea.value_counts()"
   ]
  },
  {
   "cell_type": "code",
   "execution_count": 11,
   "id": "b63a753f",
   "metadata": {
    "execution": {
     "iopub.execute_input": "2022-01-21T15:25:01.666868Z",
     "iopub.status.busy": "2022-01-21T15:25:01.666189Z",
     "iopub.status.idle": "2022-01-21T15:25:01.884864Z",
     "shell.execute_reply": "2022-01-21T15:25:01.885453Z",
     "shell.execute_reply.started": "2022-01-21T15:05:34.508225Z"
    },
    "papermill": {
     "duration": 0.303047,
     "end_time": "2022-01-21T15:25:01.885621",
     "exception": false,
     "start_time": "2022-01-21T15:25:01.582574",
     "status": "completed"
    },
    "tags": []
   },
   "outputs": [
    {
     "data": {
      "text/plain": [
       "(array([0, 1]), [Text(0, 0, 'Urban'), Text(1, 0, 'Rural')])"
      ]
     },
     "execution_count": 11,
     "metadata": {},
     "output_type": "execute_result"
    },
    {
     "data": {
      "image/png": "[encoded data removed]",
      "text/plain": [
       "<Figure size 864x432 with 1 Axes>"
      ]
     },
     "metadata": {},
     "output_type": "display_data"
    }
   ],
   "source": [
    "# Let's visualize the AccidentArea\n",
    "plt.figure(figsize=(12,6))\n",
    "df.AccidentArea.value_counts().plot(kind=\"bar\",color=[\"salmon\",\"lightblue\"])\n",
    "plt.xticks(rotation=0)"
   ]
  },
  {
   "cell_type": "code",
   "execution_count": 12,
   "id": "0efb6b78",
   "metadata": {
    "execution": {
     "iopub.execute_input": "2022-01-21T15:25:02.051605Z",
     "iopub.status.busy": "2022-01-21T15:25:02.050973Z",
     "iopub.status.idle": "2022-01-21T15:25:02.392326Z",
     "shell.execute_reply": "2022-01-21T15:25:02.391680Z",
     "shell.execute_reply.started": "2022-01-21T15:05:34.743814Z"
    },
    "papermill": {
     "duration": 0.425998,
     "end_time": "2022-01-21T15:25:02.392467",
     "exception": false,
     "start_time": "2022-01-21T15:25:01.966469",
     "status": "completed"
    },
    "tags": []
   },
   "outputs": [
    {
     "data": {
      "text/plain": [
       "<AxesSubplot:>"
      ]
     },
     "execution_count": 12,
     "metadata": {},
     "output_type": "execute_result"
    },
    {
     "data": {
      "image/png": "[encoded data removed]",
      "text/plain": [
       "<Figure size 720x432 with 1 Axes>"
      ]
     },
     "metadata": {},
     "output_type": "display_data"
    }
   ],
   "source": [
    "# Let's find out VehicleCategory\n",
    "plt.figure(figsize=(10,6))\n",
    "df.VehicleCategory.value_counts().plot(kind=\"bar\",color=[\"green\",\"pink\",\"navy\"])"
   ]
  },
  {
   "cell_type": "code",
   "execution_count": 13,
   "id": "a24a2683",
   "metadata": {
    "execution": {
     "iopub.execute_input": "2022-01-21T15:25:02.570634Z",
     "iopub.status.busy": "2022-01-21T15:25:02.569983Z",
     "iopub.status.idle": "2022-01-21T15:25:02.572424Z",
     "shell.execute_reply": "2022-01-21T15:25:02.573024Z",
     "shell.execute_reply.started": "2022-01-21T15:05:34.979141Z"
    },
    "papermill": {
     "duration": 0.097606,
     "end_time": "2022-01-21T15:25:02.573198",
     "exception": false,
     "start_time": "2022-01-21T15:25:02.475592",
     "status": "completed"
    },
    "tags": []
   },
   "outputs": [
    {
     "data": {
      "text/plain": [
       "7 years        5807\n",
       "more than 7    3981\n",
       "6 years        3448\n",
       "5 years        1357\n",
       "new             373\n",
       "4 years         229\n",
       "3 years         152\n",
       "2 years          73\n",
       "Name: AgeOfVehicle, dtype: int64"
      ]
     },
     "execution_count": 13,
     "metadata": {},
     "output_type": "execute_result"
    }
   ],
   "source": [
    "df.AgeOfVehicle.value_counts()"
   ]
  },
  {
   "cell_type": "code",
   "execution_count": 14,
   "id": "90c4de7f",
   "metadata": {
    "execution": {
     "iopub.execute_input": "2022-01-21T15:25:02.746855Z",
     "iopub.status.busy": "2022-01-21T15:25:02.746132Z",
     "iopub.status.idle": "2022-01-21T15:25:02.985101Z",
     "shell.execute_reply": "2022-01-21T15:25:02.985726Z",
     "shell.execute_reply.started": "2022-01-21T15:05:34.990799Z"
    },
    "papermill": {
     "duration": 0.329676,
     "end_time": "2022-01-21T15:25:02.985933",
     "exception": false,
     "start_time": "2022-01-21T15:25:02.656257",
     "status": "completed"
    },
    "tags": []
   },
   "outputs": [
    {
     "data": {
      "image/png": "[encoded data removed]",
      "text/plain": [
       "<Figure size 864x432 with 1 Axes>"
      ]
     },
     "metadata": {},
     "output_type": "display_data"
    }
   ],
   "source": [
    "# Let's Visualize the age of Vehicle\n",
    "plt.figure(figsize=(12,6))\n",
    "df.AgeOfVehicle.value_counts().plot(kind=\"bar\")\n",
    "plt.xticks(rotation=0);"
   ]
  },
  {
   "cell_type": "code",
   "execution_count": 15,
   "id": "0f20dd82",
   "metadata": {
    "execution": {
     "iopub.execute_input": "2022-01-21T15:25:03.159764Z",
     "iopub.status.busy": "2022-01-21T15:25:03.159112Z",
     "iopub.status.idle": "2022-01-21T15:25:03.167725Z",
     "shell.execute_reply": "2022-01-21T15:25:03.168341Z",
     "shell.execute_reply.started": "2022-01-21T15:05:35.296370Z"
    },
    "papermill": {
     "duration": 0.097225,
     "end_time": "2022-01-21T15:25:03.168514",
     "exception": false,
     "start_time": "2022-01-21T15:25:03.071289",
     "status": "completed"
    },
    "tags": []
   },
   "outputs": [
    {
     "data": {
      "text/plain": [
       "No     15333\n",
       "Yes       87\n",
       "Name: WitnessPresent, dtype: int64"
      ]
     },
     "execution_count": 15,
     "metadata": {},
     "output_type": "execute_result"
    }
   ],
   "source": [
    "df.WitnessPresent.value_counts()"
   ]
  },
  {
   "cell_type": "code",
   "execution_count": 16,
   "id": "0e04270a",
   "metadata": {
    "execution": {
     "iopub.execute_input": "2022-01-21T15:25:03.338285Z",
     "iopub.status.busy": "2022-01-21T15:25:03.337627Z",
     "iopub.status.idle": "2022-01-21T15:25:03.559554Z",
     "shell.execute_reply": "2022-01-21T15:25:03.560050Z",
     "shell.execute_reply.started": "2022-01-21T15:05:35.310288Z"
    },
    "papermill": {
     "duration": 0.308198,
     "end_time": "2022-01-21T15:25:03.560247",
     "exception": false,
     "start_time": "2022-01-21T15:25:03.252049",
     "status": "completed"
    },
    "tags": []
   },
   "outputs": [
    {
     "data": {
      "text/plain": [
       "<AxesSubplot:>"
      ]
     },
     "execution_count": 16,
     "metadata": {},
     "output_type": "execute_result"
    },
    {
     "data": {
      "image/png": "[encoded data removed]",
      "text/plain": [
       "<Figure size 864x504 with 1 Axes>"
      ]
     },
     "metadata": {},
     "output_type": "display_data"
    }
   ],
   "source": [
    "# Let's Visulaize the WitnessPresent On Accident Site\n",
    "plt.figure(figsize=(12,7))\n",
    "df.WitnessPresent.value_counts().plot(kind=\"bar\", color=[\"pink\",\"red\"])"
   ]
  },
  {
   "cell_type": "code",
   "execution_count": 17,
   "id": "52313425",
   "metadata": {
    "execution": {
     "iopub.execute_input": "2022-01-21T15:25:03.758728Z",
     "iopub.status.busy": "2022-01-21T15:25:03.757833Z",
     "iopub.status.idle": "2022-01-21T15:25:03.765575Z",
     "shell.execute_reply": "2022-01-21T15:25:03.766291Z",
     "shell.execute_reply.started": "2022-01-21T15:05:35.560777Z"
    },
    "papermill": {
     "duration": 0.108264,
     "end_time": "2022-01-21T15:25:03.766522",
     "exception": false,
     "start_time": "2022-01-21T15:25:03.658258",
     "status": "completed"
    },
    "tags": []
   },
   "outputs": [
    {
     "data": {
      "text/plain": [
       "No     14992\n",
       "Yes      428\n",
       "Name: PoliceReportFiled, dtype: int64"
      ]
     },
     "execution_count": 17,
     "metadata": {},
     "output_type": "execute_result"
    }
   ],
   "source": [
    "df.PoliceReportFiled.value_counts()"
   ]
  },
  {
   "cell_type": "code",
   "execution_count": 18,
   "id": "33da4334",
   "metadata": {
    "execution": {
     "iopub.execute_input": "2022-01-21T15:25:03.961929Z",
     "iopub.status.busy": "2022-01-21T15:25:03.960873Z",
     "iopub.status.idle": "2022-01-21T15:25:04.183615Z",
     "shell.execute_reply": "2022-01-21T15:25:04.182759Z",
     "shell.execute_reply.started": "2022-01-21T15:05:35.575144Z"
    },
    "papermill": {
     "duration": 0.313682,
     "end_time": "2022-01-21T15:25:04.183761",
     "exception": false,
     "start_time": "2022-01-21T15:25:03.870079",
     "status": "completed"
    },
    "tags": []
   },
   "outputs": [
    {
     "data": {
      "text/plain": [
       "<AxesSubplot:>"
      ]
     },
     "execution_count": 18,
     "metadata": {},
     "output_type": "execute_result"
    },
    {
     "data": {
      "image/png": "[encoded data removed]",
      "text/plain": [
       "<Figure size 864x504 with 1 Axes>"
      ]
     },
     "metadata": {},
     "output_type": "display_data"
    }
   ],
   "source": [
    "# Let's Check out the Police Report Filed with barplot\n",
    "plt.figure(figsize=(12,7))\n",
    "df.PoliceReportFiled.value_counts().plot(kind=\"bar\",color=[\"lightblue\",\"darkred\"])"
   ]
  },
  {
   "cell_type": "code",
   "execution_count": 19,
   "id": "0379dc14",
   "metadata": {
    "execution": {
     "iopub.execute_input": "2022-01-21T15:25:04.365351Z",
     "iopub.status.busy": "2022-01-21T15:25:04.364348Z",
     "iopub.status.idle": "2022-01-21T15:25:04.371741Z",
     "shell.execute_reply": "2022-01-21T15:25:04.372375Z",
     "shell.execute_reply.started": "2022-01-21T15:05:35.815764Z"
    },
    "papermill": {
     "duration": 0.100794,
     "end_time": "2022-01-21T15:25:04.372550",
     "exception": false,
     "start_time": "2022-01-21T15:25:04.271756",
     "status": "completed"
    },
    "tags": []
   },
   "outputs": [
    {
     "data": {
      "text/plain": [
       "1    3944\n",
       "3    3884\n",
       "2    3801\n",
       "4    3791\n",
       "Name: DriverRating, dtype: int64"
      ]
     },
     "execution_count": 19,
     "metadata": {},
     "output_type": "execute_result"
    }
   ],
   "source": [
    "df.DriverRating.value_counts()"
   ]
  },
  {
   "cell_type": "code",
   "execution_count": 20,
   "id": "d0369a55",
   "metadata": {
    "execution": {
     "iopub.execute_input": "2022-01-21T15:25:04.550232Z",
     "iopub.status.busy": "2022-01-21T15:25:04.549222Z",
     "iopub.status.idle": "2022-01-21T15:25:04.558441Z",
     "shell.execute_reply": "2022-01-21T15:25:04.559059Z",
     "shell.execute_reply.started": "2022-01-21T15:05:35.827469Z"
    },
    "papermill": {
     "duration": 0.100359,
     "end_time": "2022-01-21T15:25:04.559271",
     "exception": false,
     "start_time": "2022-01-21T15:25:04.458912",
     "status": "completed"
    },
    "tags": []
   },
   "outputs": [
    {
     "data": {
      "text/plain": [
       "20000 to 29000     8079\n",
       "30000 to 39000     3533\n",
       "more than 69000    2164\n",
       "less than 20000    1096\n",
       "40000 to 59000      461\n",
       "60000 to 69000       87\n",
       "Name: VehiclePrice, dtype: int64"
      ]
     },
     "execution_count": 20,
     "metadata": {},
     "output_type": "execute_result"
    }
   ],
   "source": [
    "df.VehiclePrice.value_counts()"
   ]
  },
  {
   "cell_type": "markdown",
   "id": "d0201c45",
   "metadata": {
    "papermill": {
     "duration": 0.086826,
     "end_time": "2022-01-21T15:25:04.734070",
     "exception": false,
     "start_time": "2022-01-21T15:25:04.647244",
     "status": "completed"
    },
    "tags": []
   },
   "source": [
    "#### we need find corr() between features"
   ]
  },
  {
   "cell_type": "code",
   "execution_count": 21,
   "id": "39d01bfb",
   "metadata": {
    "execution": {
     "iopub.execute_input": "2022-01-21T15:25:04.913179Z",
     "iopub.status.busy": "2022-01-21T15:25:04.912216Z",
     "iopub.status.idle": "2022-01-21T15:25:04.930891Z",
     "shell.execute_reply": "2022-01-21T15:25:04.931475Z",
     "shell.execute_reply.started": "2022-01-21T15:05:35.848745Z"
    },
    "papermill": {
     "duration": 0.109765,
     "end_time": "2022-01-21T15:25:04.931641",
     "exception": false,
     "start_time": "2022-01-21T15:25:04.821876",
     "status": "completed"
    },
    "tags": []
   },
   "outputs": [
    {
     "data": {
      "text/html": [
       "<div>\n",
       "<style scoped>\n",
       "    .dataframe tbody tr th:only-of-type {\n",
       "        vertical-align: middle;\n",
       "    }\n",
       "\n",
       "    .dataframe tbody tr th {\n",
       "        vertical-align: top;\n",
       "    }\n",
       "\n",
       "    .dataframe thead th {\n",
       "        text-align: right;\n",
       "    }\n",
       "</style>\n",
       "<table border=\"1\" class=\"dataframe\">\n",
       "  <thead>\n",
       "    <tr style=\"text-align: right;\">\n",
       "      <th></th>\n",
       "      <th>WeekOfMonth</th>\n",
       "      <th>WeekOfMonthClaimed</th>\n",
       "      <th>Age</th>\n",
       "      <th>FraudFound_P</th>\n",
       "      <th>PolicyNumber</th>\n",
       "      <th>RepNumber</th>\n",
       "      <th>Deductible</th>\n",
       "      <th>DriverRating</th>\n",
       "      <th>Year</th>\n",
       "    </tr>\n",
       "  </thead>\n",
       "  <tbody>\n",
       "    <tr>\n",
       "      <th>WeekOfMonth</th>\n",
       "      <td>1.00</td>\n",
       "      <td>0.28</td>\n",
       "      <td>-0.00</td>\n",
       "      <td>-0.01</td>\n",
       "      <td>-0.01</td>\n",
       "      <td>0.01</td>\n",
       "      <td>-0.00</td>\n",
       "      <td>-0.02</td>\n",
       "      <td>-0.00</td>\n",
       "    </tr>\n",
       "    <tr>\n",
       "      <th>WeekOfMonthClaimed</th>\n",
       "      <td>0.28</td>\n",
       "      <td>1.00</td>\n",
       "      <td>0.00</td>\n",
       "      <td>-0.01</td>\n",
       "      <td>0.01</td>\n",
       "      <td>0.01</td>\n",
       "      <td>0.01</td>\n",
       "      <td>-0.00</td>\n",
       "      <td>0.01</td>\n",
       "    </tr>\n",
       "    <tr>\n",
       "      <th>Age</th>\n",
       "      <td>-0.00</td>\n",
       "      <td>0.00</td>\n",
       "      <td>1.00</td>\n",
       "      <td>-0.03</td>\n",
       "      <td>0.03</td>\n",
       "      <td>-0.01</td>\n",
       "      <td>0.07</td>\n",
       "      <td>0.00</td>\n",
       "      <td>0.03</td>\n",
       "    </tr>\n",
       "    <tr>\n",
       "      <th>FraudFound_P</th>\n",
       "      <td>-0.01</td>\n",
       "      <td>-0.01</td>\n",
       "      <td>-0.03</td>\n",
       "      <td>1.00</td>\n",
       "      <td>-0.02</td>\n",
       "      <td>-0.01</td>\n",
       "      <td>0.02</td>\n",
       "      <td>0.01</td>\n",
       "      <td>-0.02</td>\n",
       "    </tr>\n",
       "    <tr>\n",
       "      <th>PolicyNumber</th>\n",
       "      <td>-0.01</td>\n",
       "      <td>0.01</td>\n",
       "      <td>0.03</td>\n",
       "      <td>-0.02</td>\n",
       "      <td>1.00</td>\n",
       "      <td>0.01</td>\n",
       "      <td>0.00</td>\n",
       "      <td>-0.01</td>\n",
       "      <td>0.94</td>\n",
       "    </tr>\n",
       "    <tr>\n",
       "      <th>RepNumber</th>\n",
       "      <td>0.01</td>\n",
       "      <td>0.01</td>\n",
       "      <td>-0.01</td>\n",
       "      <td>-0.01</td>\n",
       "      <td>0.01</td>\n",
       "      <td>1.00</td>\n",
       "      <td>0.00</td>\n",
       "      <td>0.01</td>\n",
       "      <td>0.01</td>\n",
       "    </tr>\n",
       "    <tr>\n",
       "      <th>Deductible</th>\n",
       "      <td>-0.00</td>\n",
       "      <td>0.01</td>\n",
       "      <td>0.07</td>\n",
       "      <td>0.02</td>\n",
       "      <td>0.00</td>\n",
       "      <td>0.00</td>\n",
       "      <td>1.00</td>\n",
       "      <td>0.00</td>\n",
       "      <td>-0.00</td>\n",
       "    </tr>\n",
       "    <tr>\n",
       "      <th>DriverRating</th>\n",
       "      <td>-0.02</td>\n",
       "      <td>-0.00</td>\n",
       "      <td>0.00</td>\n",
       "      <td>0.01</td>\n",
       "      <td>-0.01</td>\n",
       "      <td>0.01</td>\n",
       "      <td>0.00</td>\n",
       "      <td>1.00</td>\n",
       "      <td>-0.01</td>\n",
       "    </tr>\n",
       "    <tr>\n",
       "      <th>Year</th>\n",
       "      <td>-0.00</td>\n",
       "      <td>0.01</td>\n",
       "      <td>0.03</td>\n",
       "      <td>-0.02</td>\n",
       "      <td>0.94</td>\n",
       "      <td>0.01</td>\n",
       "      <td>-0.00</td>\n",
       "      <td>-0.01</td>\n",
       "      <td>1.00</td>\n",
       "    </tr>\n",
       "  </tbody>\n",
       "</table>\n",
       "</div>"
      ],
      "text/plain": [
       "                    WeekOfMonth  WeekOfMonthClaimed   Age  FraudFound_P  \\\n",
       "WeekOfMonth                1.00                0.28 -0.00         -0.01   \n",
       "WeekOfMonthClaimed         0.28                1.00  0.00         -0.01   \n",
       "Age                       -0.00                0.00  1.00         -0.03   \n",
       "FraudFound_P              -0.01               -0.01 -0.03          1.00   \n",
       "PolicyNumber              -0.01                0.01  0.03         -0.02   \n",
       "RepNumber                  0.01                0.01 -0.01         -0.01   \n",
       "Deductible                -0.00                0.01  0.07          0.02   \n",
       "DriverRating              -0.02               -0.00  0.00          0.01   \n",
       "Year                      -0.00                0.01  0.03         -0.02   \n",
       "\n",
       "                    PolicyNumber  RepNumber  Deductible  DriverRating  Year  \n",
       "WeekOfMonth                -0.01       0.01       -0.00         -0.02 -0.00  \n",
       "WeekOfMonthClaimed          0.01       0.01        0.01         -0.00  0.01  \n",
       "Age                         0.03      -0.01        0.07          0.00  0.03  \n",
       "FraudFound_P               -0.02      -0.01        0.02          0.01 -0.02  \n",
       "PolicyNumber                1.00       0.01        0.00         -0.01  0.94  \n",
       "RepNumber                   0.01       1.00        0.00          0.01  0.01  \n",
       "Deductible                  0.00       0.00        1.00          0.00 -0.00  \n",
       "DriverRating               -0.01       0.01        0.00          1.00 -0.01  \n",
       "Year                        0.94       0.01       -0.00         -0.01  1.00  "
      ]
     },
     "execution_count": 21,
     "metadata": {},
     "output_type": "execute_result"
    }
   ],
   "source": [
    "df.corr()"
   ]
  },
  {
   "cell_type": "code",
   "execution_count": 22,
   "id": "81d676b4",
   "metadata": {
    "execution": {
     "iopub.execute_input": "2022-01-21T15:25:05.109615Z",
     "iopub.status.busy": "2022-01-21T15:25:05.108964Z",
     "iopub.status.idle": "2022-01-21T15:25:05.928179Z",
     "shell.execute_reply": "2022-01-21T15:25:05.928654Z",
     "shell.execute_reply.started": "2022-01-21T15:05:35.878466Z"
    },
    "papermill": {
     "duration": 0.909456,
     "end_time": "2022-01-21T15:25:05.928837",
     "exception": false,
     "start_time": "2022-01-21T15:25:05.019381",
     "status": "completed"
    },
    "tags": []
   },
   "outputs": [
    {
     "data": {
      "text/plain": [
       "<AxesSubplot:>"
      ]
     },
     "execution_count": 22,
     "metadata": {},
     "output_type": "execute_result"
    },
    {
     "data": {
      "image/png": "[encoded data removed]",
      "text/plain": [
       "<Figure size 864x504 with 2 Axes>"
      ]
     },
     "metadata": {},
     "output_type": "display_data"
    }
   ],
   "source": [
    "# Let's viualize the corr between independent variables and with dependant (target variable)\n",
    "plt.figure(figsize=(12,7))\n",
    "sns.heatmap(df.corr(), annot=True, cmap=\"plasma_r\")"
   ]
  },
  {
   "cell_type": "code",
   "execution_count": 23,
   "id": "d0d569eb",
   "metadata": {
    "execution": {
     "iopub.execute_input": "2022-01-21T15:25:06.119083Z",
     "iopub.status.busy": "2022-01-21T15:25:06.118377Z",
     "iopub.status.idle": "2022-01-21T15:25:06.145675Z",
     "shell.execute_reply": "2022-01-21T15:25:06.146295Z",
     "shell.execute_reply.started": "2022-01-21T15:05:36.747061Z"
    },
    "papermill": {
     "duration": 0.12657,
     "end_time": "2022-01-21T15:25:06.146464",
     "exception": false,
     "start_time": "2022-01-21T15:25:06.019894",
     "status": "completed"
    },
    "tags": []
   },
   "outputs": [
    {
     "data": {
      "text/html": [
       "<div>\n",
       "<style scoped>\n",
       "    .dataframe tbody tr th:only-of-type {\n",
       "        vertical-align: middle;\n",
       "    }\n",
       "\n",
       "    .dataframe tbody tr th {\n",
       "        vertical-align: top;\n",
       "    }\n",
       "\n",
       "    .dataframe thead th {\n",
       "        text-align: right;\n",
       "    }\n",
       "</style>\n",
       "<table border=\"1\" class=\"dataframe\">\n",
       "  <thead>\n",
       "    <tr style=\"text-align: right;\">\n",
       "      <th>Sex</th>\n",
       "      <th>Female</th>\n",
       "      <th>Male</th>\n",
       "    </tr>\n",
       "    <tr>\n",
       "      <th>FraudFound_P</th>\n",
       "      <th></th>\n",
       "      <th></th>\n",
       "    </tr>\n",
       "  </thead>\n",
       "  <tbody>\n",
       "    <tr>\n",
       "      <th>0</th>\n",
       "      <td>2315</td>\n",
       "      <td>12182</td>\n",
       "    </tr>\n",
       "    <tr>\n",
       "      <th>1</th>\n",
       "      <td>105</td>\n",
       "      <td>818</td>\n",
       "    </tr>\n",
       "  </tbody>\n",
       "</table>\n",
       "</div>"
      ],
      "text/plain": [
       "Sex           Female   Male\n",
       "FraudFound_P               \n",
       "0               2315  12182\n",
       "1                105    818"
      ]
     },
     "execution_count": 23,
     "metadata": {},
     "output_type": "execute_result"
    }
   ],
   "source": [
    "# Let's check it with crosstab \n",
    "#(crosstab() function takes two or more lists, pandas series or dataframe columns and returns a frequency of each combination by default)\n",
    "\n",
    "pd.crosstab(df.FraudFound_P, df.Sex)"
   ]
  },
  {
   "cell_type": "code",
   "execution_count": 24,
   "id": "986e8984",
   "metadata": {
    "execution": {
     "iopub.execute_input": "2022-01-21T15:25:06.328313Z",
     "iopub.status.busy": "2022-01-21T15:25:06.327550Z",
     "iopub.status.idle": "2022-01-21T15:25:06.592727Z",
     "shell.execute_reply": "2022-01-21T15:25:06.592188Z",
     "shell.execute_reply.started": "2022-01-21T15:05:36.782932Z"
    },
    "papermill": {
     "duration": 0.356995,
     "end_time": "2022-01-21T15:25:06.592909",
     "exception": false,
     "start_time": "2022-01-21T15:25:06.235914",
     "status": "completed"
    },
    "tags": []
   },
   "outputs": [
    {
     "data": {
      "image/png": "[encoded data removed]",
      "text/plain": [
       "<Figure size 864x432 with 1 Axes>"
      ]
     },
     "metadata": {},
     "output_type": "display_data"
    }
   ],
   "source": [
    "# Create a plot of crosstab for FraudFound and Sex Columns\n",
    "pd.crosstab(df.FraudFound_P, df.Sex).plot(kind=\"bar\",\n",
    "                                          color=[\"salmon\",\"lightblue\"],\n",
    "                                          figsize=(12,6))\n",
    "\n",
    "plt.title(\"Fraud Frequency For Gender\")\n",
    "plt.xlabel(\"Sex = Male & Female\")\n",
    "plt.ylabel(\"Amount\")\n",
    "plt.legend([\"Female\",\"Male\"])\n",
    "plt.xticks(rotation = 0);"
   ]
  },
  {
   "cell_type": "code",
   "execution_count": 25,
   "id": "4d0985c2",
   "metadata": {
    "execution": {
     "iopub.execute_input": "2022-01-21T15:25:06.782823Z",
     "iopub.status.busy": "2022-01-21T15:25:06.782134Z",
     "iopub.status.idle": "2022-01-21T15:25:07.042567Z",
     "shell.execute_reply": "2022-01-21T15:25:07.041204Z",
     "shell.execute_reply.started": "2022-01-21T15:05:37.077991Z"
    },
    "papermill": {
     "duration": 0.358904,
     "end_time": "2022-01-21T15:25:07.042737",
     "exception": false,
     "start_time": "2022-01-21T15:25:06.683833",
     "status": "completed"
    },
    "tags": []
   },
   "outputs": [
    {
     "data": {
      "image/png": "[encoded data removed]",
      "text/plain": [
       "<Figure size 864x504 with 1 Axes>"
      ]
     },
     "metadata": {},
     "output_type": "display_data"
    }
   ],
   "source": [
    "# let's plot \n",
    "pd.crosstab(df.FraudFound_P, df.Fault).plot(kind=\"bar\",\n",
    "                                            color = [\"salmon\",\"lightblue\"],\n",
    "                                            figsize=(12,7))\n",
    "plt.xticks(rotation = 0);"
   ]
  },
  {
   "cell_type": "code",
   "execution_count": 26,
   "id": "69c25605",
   "metadata": {
    "execution": {
     "iopub.execute_input": "2022-01-21T15:25:07.251276Z",
     "iopub.status.busy": "2022-01-21T15:25:07.250572Z",
     "iopub.status.idle": "2022-01-21T15:25:09.177137Z",
     "shell.execute_reply": "2022-01-21T15:25:09.176561Z",
     "shell.execute_reply.started": "2022-01-21T15:05:37.361105Z"
    },
    "papermill": {
     "duration": 2.024187,
     "end_time": "2022-01-21T15:25:09.177275",
     "exception": false,
     "start_time": "2022-01-21T15:25:07.153088",
     "status": "completed"
    },
    "tags": []
   },
   "outputs": [
    {
     "data": {
      "image/png": "[encoded data removed]",
      "text/plain": [
       "<Figure size 1584x432 with 1 Axes>"
      ]
     },
     "metadata": {},
     "output_type": "display_data"
    }
   ],
   "source": [
    "# Let's check FraudFound with Age using barplot\n",
    "gpd_by_val=df.groupby('Age').agg({'FraudFound_P':'sum'}).reset_index()\n",
    "\n",
    "fig, (ax1) = plt.subplots(1,1,figsize=(22, 6))\n",
    "grph =sns.barplot(x='Age', y='FraudFound_P', data = gpd_by_val, ax=ax1)\n",
    "\n",
    "grph.set_xticklabels(grph.get_xticklabels(),\n",
    "                    rotation=0,\n",
    "                    horizontalalignment='right'\n",
    "                    );"
   ]
  },
  {
   "cell_type": "code",
   "execution_count": 27,
   "id": "1f6071ff",
   "metadata": {
    "execution": {
     "iopub.execute_input": "2022-01-21T15:25:09.364634Z",
     "iopub.status.busy": "2022-01-21T15:25:09.364036Z",
     "iopub.status.idle": "2022-01-21T15:25:09.878409Z",
     "shell.execute_reply": "2022-01-21T15:25:09.877709Z",
     "shell.execute_reply.started": "2022-01-21T15:05:39.619233Z"
    },
    "papermill": {
     "duration": 0.609367,
     "end_time": "2022-01-21T15:25:09.878550",
     "exception": false,
     "start_time": "2022-01-21T15:25:09.269183",
     "status": "completed"
    },
    "tags": []
   },
   "outputs": [
    {
     "data": {
      "text/plain": [
       "<AxesSubplot:xlabel='Days_Policy_Accident', ylabel='FraudFound_P'>"
      ]
     },
     "execution_count": 27,
     "metadata": {},
     "output_type": "execute_result"
    },
    {
     "data": {
      "image/png": "[encoded data removed]",
      "text/plain": [
       "<Figure size 1584x432 with 3 Axes>"
      ]
     },
     "metadata": {},
     "output_type": "display_data"
    }
   ],
   "source": [
    "# Let's Check the AgentType, Year, and daysPolicy with FraudFound using barplot\n",
    "gpd_val1=df.groupby('AgentType').agg({'FraudFound_P':'sum'}).reset_index()\n",
    "gpd_val2=df.groupby('Year').agg({'FraudFound_P':'sum'}).reset_index()\n",
    "gpd_val3=df.groupby('Days_Policy_Accident').agg({'FraudFound_P':'sum'}).reset_index()\n",
    "\n",
    "\n",
    "fig, (ax1,ax2,ax3) = plt.subplots(1,3,figsize=(22, 6))\n",
    "sns.barplot(x='AgentType', y='FraudFound_P', data = gpd_val1, ax=ax1)\n",
    "sns.barplot(x='Year', y='FraudFound_P', data = gpd_val2, ax=ax2)\n",
    "sns.barplot(x='Days_Policy_Accident', y='FraudFound_P', data = gpd_val3, ax=ax3)"
   ]
  },
  {
   "cell_type": "code",
   "execution_count": 28,
   "id": "f9f5d15f",
   "metadata": {
    "execution": {
     "iopub.execute_input": "2022-01-21T15:25:10.074947Z",
     "iopub.status.busy": "2022-01-21T15:25:10.073945Z",
     "iopub.status.idle": "2022-01-21T15:25:10.430885Z",
     "shell.execute_reply": "2022-01-21T15:25:10.431424Z",
     "shell.execute_reply.started": "2022-01-21T15:05:40.124298Z"
    },
    "papermill": {
     "duration": 0.458663,
     "end_time": "2022-01-21T15:25:10.431602",
     "exception": false,
     "start_time": "2022-01-21T15:25:09.972939",
     "status": "completed"
    },
    "tags": []
   },
   "outputs": [
    {
     "data": {
      "text/plain": [
       "<AxesSubplot:xlabel='Days_Policy_Claim', ylabel='FraudFound_P'>"
      ]
     },
     "execution_count": 28,
     "metadata": {},
     "output_type": "execute_result"
    },
    {
     "data": {
      "image/png": "[encoded data removed]",
      "text/plain": [
       "<Figure size 1440x504 with 2 Axes>"
      ]
     },
     "metadata": {},
     "output_type": "display_data"
    }
   ],
   "source": [
    "#Let's Plot the PoliceReportFiled, Days_Policy_Claim & DayOfWeek with FraudFound using Barplot\n",
    "gpd_val4=df.groupby('PoliceReportFiled').agg({'FraudFound_P':'sum'}).reset_index()\n",
    "gpd_val5=df.groupby('Days_Policy_Claim').agg({'FraudFound_P':'sum'}).reset_index()\n",
    "\n",
    "fig, (ax1,ax2) = plt.subplots(1,2,figsize=(20, 7))\n",
    "sns.barplot(x='PoliceReportFiled', y='FraudFound_P', data = gpd_val4, ax=ax1)\n",
    "sns.barplot(x='Days_Policy_Claim', y='FraudFound_P', data = gpd_val5, ax=ax2)"
   ]
  },
  {
   "cell_type": "code",
   "execution_count": 29,
   "id": "db494c31",
   "metadata": {
    "execution": {
     "iopub.execute_input": "2022-01-21T15:25:10.630975Z",
     "iopub.status.busy": "2022-01-21T15:25:10.630271Z",
     "iopub.status.idle": "2022-01-21T15:25:11.090254Z",
     "shell.execute_reply": "2022-01-21T15:25:11.089677Z",
     "shell.execute_reply.started": "2022-01-21T15:05:40.463462Z"
    },
    "papermill": {
     "duration": 0.562204,
     "end_time": "2022-01-21T15:25:11.090406",
     "exception": false,
     "start_time": "2022-01-21T15:25:10.528202",
     "status": "completed"
    },
    "tags": []
   },
   "outputs": [
    {
     "data": {
      "image/png": "[encoded data removed]",
      "text/plain": [
       "<Figure size 1584x432 with 2 Axes>"
      ]
     },
     "metadata": {},
     "output_type": "display_data"
    }
   ],
   "source": [
    "# Let's plot the WitnessPresent, WeekOfMonthClaimed & DayOFWeekClaimed with FraudFound using barplot\n",
    "gpd_val8=df.groupby('WeekOfMonthClaimed').agg({'FraudFound_P':'sum'}).reset_index()\n",
    "gpd_val9=df.groupby('DayOfWeekClaimed').agg({'FraudFound_P':'sum'}).reset_index()\n",
    "\n",
    "\n",
    "fig, (ax1,ax2) = plt.subplots(1,2,figsize=(22, 6))\n",
    "sns.barplot(x='WeekOfMonthClaimed', y='FraudFound_P', data = gpd_val8, ax=ax1)\n",
    "sns.barplot(x='DayOfWeekClaimed', y='FraudFound_P', data = gpd_val9, ax=ax2)\n",
    "plt.xticks(rotation=45);"
   ]
  },
  {
   "cell_type": "code",
   "execution_count": 30,
   "id": "3d476ec8",
   "metadata": {
    "execution": {
     "iopub.execute_input": "2022-01-21T15:25:11.288060Z",
     "iopub.status.busy": "2022-01-21T15:25:11.287439Z",
     "iopub.status.idle": "2022-01-21T15:25:11.987769Z",
     "shell.execute_reply": "2022-01-21T15:25:11.987193Z",
     "shell.execute_reply.started": "2022-01-21T15:05:40.908665Z"
    },
    "papermill": {
     "duration": 0.799403,
     "end_time": "2022-01-21T15:25:11.987943",
     "exception": false,
     "start_time": "2022-01-21T15:25:11.188540",
     "status": "completed"
    },
    "tags": []
   },
   "outputs": [
    {
     "data": {
      "text/plain": [
       "<AxesSubplot:xlabel='WitnessPresent', ylabel='FraudFound_P'>"
      ]
     },
     "execution_count": 30,
     "metadata": {},
     "output_type": "execute_result"
    },
    {
     "data": {
      "image/png": "[encoded data removed]",
      "text/plain": [
       "<Figure size 1728x504 with 3 Axes>"
      ]
     },
     "metadata": {},
     "output_type": "display_data"
    }
   ],
   "source": [
    "# Let's plot DriverRating, NumberOfCars & WinessPresent with barplot\n",
    "gpd_val_10 = df.groupby(\"DriverRating\").agg({\"FraudFound_P\":\"sum\"}).reset_index()\n",
    "gpd_val_11 = df.groupby(\"NumberOfCars\").agg({\"FraudFound_P\":\"sum\"}).reset_index()\n",
    "gpd_val_12 = df.groupby(\"WitnessPresent\").agg({\"FraudFound_P\":\"sum\"}).reset_index()\n",
    "fig, (ax1, ax2, ax3) = plt.subplots(1,3, figsize=(24,7))\n",
    "\n",
    "sns.barplot(x=\"DriverRating\", y=\"FraudFound_P\", data = gpd_val_10, ax= ax1)\n",
    "sns.barplot(x=\"NumberOfCars\", y=\"FraudFound_P\", data = gpd_val_11, ax= ax2)\n",
    "sns.barplot(x='WitnessPresent', y='FraudFound_P', data = gpd_val_12, ax= ax3)     \n"
   ]
  },
  {
   "cell_type": "code",
   "execution_count": 31,
   "id": "e21f9443",
   "metadata": {
    "execution": {
     "iopub.execute_input": "2022-01-21T15:25:12.187144Z",
     "iopub.status.busy": "2022-01-21T15:25:12.186402Z",
     "iopub.status.idle": "2022-01-21T15:25:12.623622Z",
     "shell.execute_reply": "2022-01-21T15:25:12.623089Z",
     "shell.execute_reply.started": "2022-01-21T15:05:41.450127Z"
    },
    "papermill": {
     "duration": 0.537947,
     "end_time": "2022-01-21T15:25:12.623781",
     "exception": false,
     "start_time": "2022-01-21T15:25:12.085834",
     "status": "completed"
    },
    "tags": []
   },
   "outputs": [
    {
     "data": {
      "text/plain": [
       "<AxesSubplot:xlabel='PastNumberOfClaims', ylabel='FraudFound_P'>"
      ]
     },
     "execution_count": 31,
     "metadata": {},
     "output_type": "execute_result"
    },
    {
     "data": {
      "image/png": "[encoded data removed]",
      "text/plain": [
       "<Figure size 1440x504 with 2 Axes>"
      ]
     },
     "metadata": {},
     "output_type": "display_data"
    }
   ],
   "source": [
    "# Let's Plot the AddressChangeClaim & PastNumberOfClaims using Barplot\n",
    "gpd_val_12 = df.groupby(\"AddressChange_Claim\").agg({\"FraudFound_P\": \"sum\"}).reset_index()\n",
    "gpd_val_13 = df.groupby(\"PastNumberOfClaims\").agg({\"FraudFound_P\": \"sum\"}).reset_index()\n",
    "\n",
    "fig , (ax1, ax2) = plt.subplots(1,2, figsize=(20,7))\n",
    "\n",
    "sns.barplot(x=\"AddressChange_Claim\", y=\"FraudFound_P\", data=gpd_val_12, ax=ax1)\n",
    "sns.barplot(x=\"PastNumberOfClaims\", y=\"FraudFound_P\", data=gpd_val_13, ax=ax2)\n"
   ]
  },
  {
   "cell_type": "code",
   "execution_count": 32,
   "id": "8d0cf19f",
   "metadata": {
    "execution": {
     "iopub.execute_input": "2022-01-21T15:25:12.827377Z",
     "iopub.status.busy": "2022-01-21T15:25:12.826706Z",
     "iopub.status.idle": "2022-01-21T15:25:12.879773Z",
     "shell.execute_reply": "2022-01-21T15:25:12.880254Z",
     "shell.execute_reply.started": "2022-01-21T15:05:41.868344Z"
    },
    "papermill": {
     "duration": 0.156135,
     "end_time": "2022-01-21T15:25:12.880443",
     "exception": false,
     "start_time": "2022-01-21T15:25:12.724308",
     "status": "completed"
    },
    "tags": []
   },
   "outputs": [
    {
     "name": "stdout",
     "output_type": "stream",
     "text": [
      "<class 'pandas.core.frame.DataFrame'>\n",
      "RangeIndex: 15420 entries, 0 to 15419\n",
      "Data columns (total 33 columns):\n",
      " #   Column                Non-Null Count  Dtype \n",
      "---  ------                --------------  ----- \n",
      " 0   Month                 15420 non-null  object\n",
      " 1   WeekOfMonth           15420 non-null  int64 \n",
      " 2   DayOfWeek             15420 non-null  object\n",
      " 3   Make                  15420 non-null  object\n",
      " 4   AccidentArea          15420 non-null  object\n",
      " 5   DayOfWeekClaimed      15420 non-null  object\n",
      " 6   MonthClaimed          15420 non-null  object\n",
      " 7   WeekOfMonthClaimed    15420 non-null  int64 \n",
      " 8   Sex                   15420 non-null  object\n",
      " 9   MaritalStatus         15420 non-null  object\n",
      " 10  Age                   15420 non-null  int64 \n",
      " 11  Fault                 15420 non-null  object\n",
      " 12  PolicyType            15420 non-null  object\n",
      " 13  VehicleCategory       15420 non-null  object\n",
      " 14  VehiclePrice          15420 non-null  object\n",
      " 15  FraudFound_P          15420 non-null  int64 \n",
      " 16  PolicyNumber          15420 non-null  int64 \n",
      " 17  RepNumber             15420 non-null  int64 \n",
      " 18  Deductible            15420 non-null  int64 \n",
      " 19  DriverRating          15420 non-null  int64 \n",
      " 20  Days_Policy_Accident  15420 non-null  object\n",
      " 21  Days_Policy_Claim     15420 non-null  object\n",
      " 22  PastNumberOfClaims    15420 non-null  object\n",
      " 23  AgeOfVehicle          15420 non-null  object\n",
      " 24  AgeOfPolicyHolder     15420 non-null  object\n",
      " 25  PoliceReportFiled     15420 non-null  object\n",
      " 26  WitnessPresent        15420 non-null  object\n",
      " 27  AgentType             15420 non-null  object\n",
      " 28  NumberOfSuppliments   15420 non-null  object\n",
      " 29  AddressChange_Claim   15420 non-null  object\n",
      " 30  NumberOfCars          15420 non-null  object\n",
      " 31  Year                  15420 non-null  int64 \n",
      " 32  BasePolicy            15420 non-null  object\n",
      "dtypes: int64(9), object(24)\n",
      "memory usage: 3.9+ MB\n"
     ]
    }
   ],
   "source": [
    "df.info()"
   ]
  },
  {
   "cell_type": "markdown",
   "id": "3259aad5",
   "metadata": {
    "papermill": {
     "duration": 0.100921,
     "end_time": "2022-01-21T15:25:13.082132",
     "exception": false,
     "start_time": "2022-01-21T15:25:12.981211",
     "status": "completed"
    },
    "tags": []
   },
   "source": [
    "# Build Model"
   ]
  },
  {
   "cell_type": "markdown",
   "id": "6a1e09e3",
   "metadata": {
    "papermill": {
     "duration": 0.100076,
     "end_time": "2022-01-21T15:25:13.283359",
     "exception": false,
     "start_time": "2022-01-21T15:25:13.183283",
     "status": "completed"
    },
    "tags": []
   },
   "source": [
    "* First We Need To Remove The 0 Values in Dataset"
   ]
  },
  {
   "cell_type": "code",
   "execution_count": 33,
   "id": "6c94ec52",
   "metadata": {
    "execution": {
     "iopub.execute_input": "2022-01-21T15:25:13.485467Z",
     "iopub.status.busy": "2022-01-21T15:25:13.484812Z",
     "iopub.status.idle": "2022-01-21T15:25:13.494127Z",
     "shell.execute_reply": "2022-01-21T15:25:13.493580Z",
     "shell.execute_reply.started": "2022-01-21T15:05:41.925889Z"
    },
    "papermill": {
     "duration": 0.111704,
     "end_time": "2022-01-21T15:25:13.494274",
     "exception": false,
     "start_time": "2022-01-21T15:25:13.382570",
     "status": "completed"
    },
    "tags": []
   },
   "outputs": [
    {
     "name": "stdout",
     "output_type": "stream",
     "text": [
      "[False False False False False False False  True False False False False\n",
      " False False False False False False False False False False False False\n",
      " False False False False False False False False False False False False\n",
      " False False False False False False False False False False False False\n",
      " False False False False False False False False False False False False\n",
      " False False False False False False]\n"
     ]
    },
    {
     "data": {
      "text/plain": [
       "320"
      ]
     },
     "execution_count": 33,
     "metadata": {},
     "output_type": "execute_result"
    }
   ],
   "source": [
    "# We have 0 values only in Age column\n",
    "print(df['Age'].unique()==0)\n",
    "len(df[df['Age']==0])"
   ]
  },
  {
   "cell_type": "code",
   "execution_count": 34,
   "id": "09869d16",
   "metadata": {
    "execution": {
     "iopub.execute_input": "2022-01-21T15:25:13.708134Z",
     "iopub.status.busy": "2022-01-21T15:25:13.705482Z",
     "iopub.status.idle": "2022-01-21T15:25:13.721419Z",
     "shell.execute_reply": "2022-01-21T15:25:13.720842Z",
     "shell.execute_reply.started": "2022-01-21T15:05:41.938130Z"
    },
    "papermill": {
     "duration": 0.119843,
     "end_time": "2022-01-21T15:25:13.721560",
     "exception": false,
     "start_time": "2022-01-21T15:25:13.601717",
     "status": "completed"
    },
    "tags": []
   },
   "outputs": [
    {
     "name": "stdout",
     "output_type": "stream",
     "text": [
      "Month\n",
      "DayOfWeek\n",
      "Make\n",
      "AccidentArea\n",
      "DayOfWeekClaimed\n",
      "MonthClaimed\n",
      "Sex\n",
      "MaritalStatus\n",
      "Fault\n",
      "PolicyType\n",
      "VehicleCategory\n",
      "VehiclePrice\n",
      "Days_Policy_Accident\n",
      "Days_Policy_Claim\n",
      "PastNumberOfClaims\n",
      "AgeOfVehicle\n",
      "AgeOfPolicyHolder\n",
      "PoliceReportFiled\n",
      "WitnessPresent\n",
      "AgentType\n",
      "NumberOfSuppliments\n",
      "AddressChange_Claim\n",
      "NumberOfCars\n",
      "BasePolicy\n"
     ]
    }
   ],
   "source": [
    "# Make a copy of original dataframe for preprocessing\n",
    "df_temp = df.copy()\n",
    "# Finding columns which contains strings\n",
    "for labels, content in df_temp.items():\n",
    "    if pd.api.types.is_string_dtype(content):\n",
    "        print(labels)"
   ]
  },
  {
   "cell_type": "code",
   "execution_count": 35,
   "id": "b12b06a9",
   "metadata": {
    "execution": {
     "iopub.execute_input": "2022-01-21T15:25:13.928989Z",
     "iopub.status.busy": "2022-01-21T15:25:13.928252Z",
     "iopub.status.idle": "2022-01-21T15:25:13.932456Z",
     "shell.execute_reply": "2022-01-21T15:25:13.931806Z",
     "shell.execute_reply.started": "2022-01-21T15:05:41.962867Z"
    },
    "papermill": {
     "duration": 0.110422,
     "end_time": "2022-01-21T15:25:13.932593",
     "exception": false,
     "start_time": "2022-01-21T15:25:13.822171",
     "status": "completed"
    },
    "tags": []
   },
   "outputs": [],
   "source": [
    "# Now Let's Fill 0 value with median of the column\n",
    "df_temp[\"Age\"] = df_temp[\"Age\"].replace(0,df[\"Age\"].median())"
   ]
  },
  {
   "cell_type": "code",
   "execution_count": 36,
   "id": "c3d18652",
   "metadata": {
    "execution": {
     "iopub.execute_input": "2022-01-21T15:25:14.140305Z",
     "iopub.status.busy": "2022-01-21T15:25:14.139544Z",
     "iopub.status.idle": "2022-01-21T15:25:14.147181Z",
     "shell.execute_reply": "2022-01-21T15:25:14.146425Z",
     "shell.execute_reply.started": "2022-01-21T15:05:41.972831Z"
    },
    "papermill": {
     "duration": 0.113081,
     "end_time": "2022-01-21T15:25:14.147373",
     "exception": false,
     "start_time": "2022-01-21T15:25:14.034292",
     "status": "completed"
    },
    "tags": []
   },
   "outputs": [
    {
     "name": "stdout",
     "output_type": "stream",
     "text": [
      "[False False False False False False False False False False False False\n",
      " False False False False False False False False False False False False\n",
      " False False False False False False False False False False False False\n",
      " False False False False False False False False False False False False\n",
      " False False False False False False False False False False False False\n",
      " False False False False False]\n"
     ]
    },
    {
     "data": {
      "text/plain": [
       "0"
      ]
     },
     "execution_count": 36,
     "metadata": {},
     "output_type": "execute_result"
    }
   ],
   "source": [
    "# Let's Check if we have 0 in Age\n",
    "print(df_temp['Age'].unique()==0)\n",
    "len(df_temp[df_temp['Age']==0])"
   ]
  },
  {
   "cell_type": "markdown",
   "id": "2dcf824b",
   "metadata": {
    "papermill": {
     "duration": 0.100982,
     "end_time": "2022-01-21T15:25:14.350244",
     "exception": false,
     "start_time": "2022-01-21T15:25:14.249262",
     "status": "completed"
    },
    "tags": []
   },
   "source": [
    "* Now We Need To Turn All Strings Into Numerical Values For Machine Learning Model"
   ]
  },
  {
   "cell_type": "code",
   "execution_count": 37,
   "id": "e2b1dde8",
   "metadata": {
    "execution": {
     "iopub.execute_input": "2022-01-21T15:25:14.560168Z",
     "iopub.status.busy": "2022-01-21T15:25:14.559148Z",
     "iopub.status.idle": "2022-01-21T15:25:14.642893Z",
     "shell.execute_reply": "2022-01-21T15:25:14.642274Z",
     "shell.execute_reply.started": "2022-01-21T15:05:41.991819Z"
    },
    "papermill": {
     "duration": 0.189454,
     "end_time": "2022-01-21T15:25:14.643052",
     "exception": false,
     "start_time": "2022-01-21T15:25:14.453598",
     "status": "completed"
    },
    "tags": []
   },
   "outputs": [],
   "source": [
    "# Now turn all string into categorical features\n",
    "for labels, content in df_temp.items():\n",
    "    if pd.api.types.is_string_dtype(content):\n",
    "        df_temp[labels] = content.astype(\"category\").cat.as_ordered()"
   ]
  },
  {
   "cell_type": "code",
   "execution_count": 38,
   "id": "f15d2249",
   "metadata": {
    "execution": {
     "iopub.execute_input": "2022-01-21T15:25:14.854607Z",
     "iopub.status.busy": "2022-01-21T15:25:14.853468Z",
     "iopub.status.idle": "2022-01-21T15:25:14.877160Z",
     "shell.execute_reply": "2022-01-21T15:25:14.877830Z",
     "shell.execute_reply.started": "2022-01-21T15:05:42.084144Z"
    },
    "papermill": {
     "duration": 0.131814,
     "end_time": "2022-01-21T15:25:14.878017",
     "exception": false,
     "start_time": "2022-01-21T15:25:14.746203",
     "status": "completed"
    },
    "tags": []
   },
   "outputs": [
    {
     "name": "stdout",
     "output_type": "stream",
     "text": [
      "<class 'pandas.core.frame.DataFrame'>\n",
      "RangeIndex: 15420 entries, 0 to 15419\n",
      "Data columns (total 33 columns):\n",
      " #   Column                Non-Null Count  Dtype   \n",
      "---  ------                --------------  -----   \n",
      " 0   Month                 15420 non-null  category\n",
      " 1   WeekOfMonth           15420 non-null  int64   \n",
      " 2   DayOfWeek             15420 non-null  category\n",
      " 3   Make                  15420 non-null  category\n",
      " 4   AccidentArea          15420 non-null  category\n",
      " 5   DayOfWeekClaimed      15420 non-null  category\n",
      " 6   MonthClaimed          15420 non-null  category\n",
      " 7   WeekOfMonthClaimed    15420 non-null  int64   \n",
      " 8   Sex                   15420 non-null  category\n",
      " 9   MaritalStatus         15420 non-null  category\n",
      " 10  Age                   15420 non-null  int64   \n",
      " 11  Fault                 15420 non-null  category\n",
      " 12  PolicyType            15420 non-null  category\n",
      " 13  VehicleCategory       15420 non-null  category\n",
      " 14  VehiclePrice          15420 non-null  category\n",
      " 15  FraudFound_P          15420 non-null  int64   \n",
      " 16  PolicyNumber          15420 non-null  int64   \n",
      " 17  RepNumber             15420 non-null  int64   \n",
      " 18  Deductible            15420 non-null  int64   \n",
      " 19  DriverRating          15420 non-null  int64   \n",
      " 20  Days_Policy_Accident  15420 non-null  category\n",
      " 21  Days_Policy_Claim     15420 non-null  category\n",
      " 22  PastNumberOfClaims    15420 non-null  category\n",
      " 23  AgeOfVehicle          15420 non-null  category\n",
      " 24  AgeOfPolicyHolder     15420 non-null  category\n",
      " 25  PoliceReportFiled     15420 non-null  category\n",
      " 26  WitnessPresent        15420 non-null  category\n",
      " 27  AgentType             15420 non-null  category\n",
      " 28  NumberOfSuppliments   15420 non-null  category\n",
      " 29  AddressChange_Claim   15420 non-null  category\n",
      " 30  NumberOfCars          15420 non-null  category\n",
      " 31  Year                  15420 non-null  int64   \n",
      " 32  BasePolicy            15420 non-null  category\n",
      "dtypes: category(24), int64(9)\n",
      "memory usage: 1.4 MB\n"
     ]
    }
   ],
   "source": [
    "# Let's Check how many columns changed into Category\n",
    "df_temp.info()"
   ]
  },
  {
   "cell_type": "code",
   "execution_count": 39,
   "id": "c8015928",
   "metadata": {
    "execution": {
     "iopub.execute_input": "2022-01-21T15:25:15.088842Z",
     "iopub.status.busy": "2022-01-21T15:25:15.087744Z",
     "iopub.status.idle": "2022-01-21T15:25:15.104298Z",
     "shell.execute_reply": "2022-01-21T15:25:15.104862Z",
     "shell.execute_reply.started": "2022-01-21T15:05:42.116097Z"
    },
    "papermill": {
     "duration": 0.124489,
     "end_time": "2022-01-21T15:25:15.105040",
     "exception": false,
     "start_time": "2022-01-21T15:25:14.980551",
     "status": "completed"
    },
    "tags": []
   },
   "outputs": [],
   "source": [
    "# Turn Categorical Features values into numeric\n",
    "for labels, content in df_temp.items():\n",
    "    if not pd.api.types.is_numeric_dtype(content):\n",
    "        # Add binary column to indicate whether sample had missing values \n",
    "       #df_temp[labels+\"_is_missing\"] = pd.isnull(content) # Though we don't have but we could've used if we had missing values\n",
    "        df_temp[labels] = pd.Categorical(content).codes"
   ]
  },
  {
   "cell_type": "code",
   "execution_count": 40,
   "id": "4533abf2",
   "metadata": {
    "execution": {
     "iopub.execute_input": "2022-01-21T15:25:15.325903Z",
     "iopub.status.busy": "2022-01-21T15:25:15.324531Z",
     "iopub.status.idle": "2022-01-21T15:25:15.335295Z",
     "shell.execute_reply": "2022-01-21T15:25:15.334740Z",
     "shell.execute_reply.started": "2022-01-21T15:05:42.140927Z"
    },
    "papermill": {
     "duration": 0.127398,
     "end_time": "2022-01-21T15:25:15.335432",
     "exception": false,
     "start_time": "2022-01-21T15:25:15.208034",
     "status": "completed"
    },
    "tags": []
   },
   "outputs": [
    {
     "data": {
      "text/html": [
       "<div>\n",
       "<style scoped>\n",
       "    .dataframe tbody tr th:only-of-type {\n",
       "        vertical-align: middle;\n",
       "    }\n",
       "\n",
       "    .dataframe tbody tr th {\n",
       "        vertical-align: top;\n",
       "    }\n",
       "\n",
       "    .dataframe thead th {\n",
       "        text-align: right;\n",
       "    }\n",
       "</style>\n",
       "<table border=\"1\" class=\"dataframe\">\n",
       "  <thead>\n",
       "    <tr style=\"text-align: right;\">\n",
       "      <th></th>\n",
       "      <th>Month</th>\n",
       "      <th>WeekOfMonth</th>\n",
       "      <th>DayOfWeek</th>\n",
       "      <th>Make</th>\n",
       "      <th>AccidentArea</th>\n",
       "      <th>DayOfWeekClaimed</th>\n",
       "      <th>MonthClaimed</th>\n",
       "      <th>WeekOfMonthClaimed</th>\n",
       "      <th>Sex</th>\n",
       "      <th>MaritalStatus</th>\n",
       "      <th>...</th>\n",
       "      <th>AgeOfVehicle</th>\n",
       "      <th>AgeOfPolicyHolder</th>\n",
       "      <th>PoliceReportFiled</th>\n",
       "      <th>WitnessPresent</th>\n",
       "      <th>AgentType</th>\n",
       "      <th>NumberOfSuppliments</th>\n",
       "      <th>AddressChange_Claim</th>\n",
       "      <th>NumberOfCars</th>\n",
       "      <th>Year</th>\n",
       "      <th>BasePolicy</th>\n",
       "    </tr>\n",
       "  </thead>\n",
       "  <tbody>\n",
       "    <tr>\n",
       "      <th>0</th>\n",
       "      <td>2</td>\n",
       "      <td>5</td>\n",
       "      <td>6</td>\n",
       "      <td>6</td>\n",
       "      <td>1</td>\n",
       "      <td>6</td>\n",
       "      <td>5</td>\n",
       "      <td>1</td>\n",
       "      <td>0</td>\n",
       "      <td>2</td>\n",
       "      <td>...</td>\n",
       "      <td>1</td>\n",
       "      <td>3</td>\n",
       "      <td>0</td>\n",
       "      <td>0</td>\n",
       "      <td>0</td>\n",
       "      <td>3</td>\n",
       "      <td>0</td>\n",
       "      <td>2</td>\n",
       "      <td>1994</td>\n",
       "      <td>2</td>\n",
       "    </tr>\n",
       "    <tr>\n",
       "      <th>1</th>\n",
       "      <td>4</td>\n",
       "      <td>3</td>\n",
       "      <td>6</td>\n",
       "      <td>6</td>\n",
       "      <td>1</td>\n",
       "      <td>2</td>\n",
       "      <td>5</td>\n",
       "      <td>4</td>\n",
       "      <td>1</td>\n",
       "      <td>2</td>\n",
       "      <td>...</td>\n",
       "      <td>4</td>\n",
       "      <td>4</td>\n",
       "      <td>1</td>\n",
       "      <td>0</td>\n",
       "      <td>0</td>\n",
       "      <td>3</td>\n",
       "      <td>3</td>\n",
       "      <td>0</td>\n",
       "      <td>1994</td>\n",
       "      <td>1</td>\n",
       "    </tr>\n",
       "    <tr>\n",
       "      <th>2</th>\n",
       "      <td>10</td>\n",
       "      <td>5</td>\n",
       "      <td>0</td>\n",
       "      <td>6</td>\n",
       "      <td>1</td>\n",
       "      <td>5</td>\n",
       "      <td>10</td>\n",
       "      <td>2</td>\n",
       "      <td>1</td>\n",
       "      <td>1</td>\n",
       "      <td>...</td>\n",
       "      <td>5</td>\n",
       "      <td>6</td>\n",
       "      <td>0</td>\n",
       "      <td>0</td>\n",
       "      <td>0</td>\n",
       "      <td>3</td>\n",
       "      <td>3</td>\n",
       "      <td>0</td>\n",
       "      <td>1994</td>\n",
       "      <td>1</td>\n",
       "    </tr>\n",
       "    <tr>\n",
       "      <th>3</th>\n",
       "      <td>6</td>\n",
       "      <td>2</td>\n",
       "      <td>2</td>\n",
       "      <td>17</td>\n",
       "      <td>0</td>\n",
       "      <td>1</td>\n",
       "      <td>6</td>\n",
       "      <td>1</td>\n",
       "      <td>1</td>\n",
       "      <td>1</td>\n",
       "      <td>...</td>\n",
       "      <td>6</td>\n",
       "      <td>7</td>\n",
       "      <td>1</td>\n",
       "      <td>0</td>\n",
       "      <td>0</td>\n",
       "      <td>2</td>\n",
       "      <td>3</td>\n",
       "      <td>0</td>\n",
       "      <td>1994</td>\n",
       "      <td>2</td>\n",
       "    </tr>\n",
       "    <tr>\n",
       "      <th>4</th>\n",
       "      <td>4</td>\n",
       "      <td>5</td>\n",
       "      <td>1</td>\n",
       "      <td>6</td>\n",
       "      <td>1</td>\n",
       "      <td>6</td>\n",
       "      <td>4</td>\n",
       "      <td>2</td>\n",
       "      <td>0</td>\n",
       "      <td>2</td>\n",
       "      <td>...</td>\n",
       "      <td>3</td>\n",
       "      <td>4</td>\n",
       "      <td>0</td>\n",
       "      <td>0</td>\n",
       "      <td>0</td>\n",
       "      <td>3</td>\n",
       "      <td>3</td>\n",
       "      <td>0</td>\n",
       "      <td>1994</td>\n",
       "      <td>1</td>\n",
       "    </tr>\n",
       "  </tbody>\n",
       "</table>\n",
       "<p>5 rows × 33 columns</p>\n",
       "</div>"
      ],
      "text/plain": [
       "   Month  WeekOfMonth  DayOfWeek  Make  AccidentArea  DayOfWeekClaimed  \\\n",
       "0      2            5          6     6             1                 6   \n",
       "1      4            3          6     6             1                 2   \n",
       "2     10            5          0     6             1                 5   \n",
       "3      6            2          2    17             0                 1   \n",
       "4      4            5          1     6             1                 6   \n",
       "\n",
       "   MonthClaimed  WeekOfMonthClaimed  Sex  MaritalStatus  ...  AgeOfVehicle  \\\n",
       "0             5                   1    0              2  ...             1   \n",
       "1             5                   4    1              2  ...             4   \n",
       "2            10                   2    1              1  ...             5   \n",
       "3             6                   1    1              1  ...             6   \n",
       "4             4                   2    0              2  ...             3   \n",
       "\n",
       "   AgeOfPolicyHolder  PoliceReportFiled  WitnessPresent  AgentType  \\\n",
       "0                  3                  0               0          0   \n",
       "1                  4                  1               0          0   \n",
       "2                  6                  0               0          0   \n",
       "3                  7                  1               0          0   \n",
       "4                  4                  0               0          0   \n",
       "\n",
       "   NumberOfSuppliments  AddressChange_Claim  NumberOfCars  Year  BasePolicy  \n",
       "0                    3                    0             2  1994           2  \n",
       "1                    3                    3             0  1994           1  \n",
       "2                    3                    3             0  1994           1  \n",
       "3                    2                    3             0  1994           2  \n",
       "4                    3                    3             0  1994           1  \n",
       "\n",
       "[5 rows x 33 columns]"
      ]
     },
     "execution_count": 40,
     "metadata": {},
     "output_type": "execute_result"
    }
   ],
   "source": [
    "df_temp.head()"
   ]
  },
  {
   "cell_type": "markdown",
   "id": "529583de",
   "metadata": {
    "papermill": {
     "duration": 0.102196,
     "end_time": "2022-01-21T15:25:15.539763",
     "exception": false,
     "start_time": "2022-01-21T15:25:15.437567",
     "status": "completed"
    },
    "tags": []
   },
   "source": [
    "### Now Out Dataset is Ready For Algorithms "
   ]
  },
  {
   "cell_type": "code",
   "execution_count": 41,
   "id": "8fe7fdb7",
   "metadata": {
    "execution": {
     "iopub.execute_input": "2022-01-21T15:25:15.750425Z",
     "iopub.status.busy": "2022-01-21T15:25:15.749377Z",
     "iopub.status.idle": "2022-01-21T15:25:15.842444Z",
     "shell.execute_reply": "2022-01-21T15:25:15.841813Z",
     "shell.execute_reply.started": "2022-01-21T15:05:42.171451Z"
    },
    "papermill": {
     "duration": 0.196956,
     "end_time": "2022-01-21T15:25:15.842614",
     "exception": false,
     "start_time": "2022-01-21T15:25:15.645658",
     "status": "completed"
    },
    "tags": []
   },
   "outputs": [
    {
     "data": {
      "text/html": [
       "<div>\n",
       "<style scoped>\n",
       "    .dataframe tbody tr th:only-of-type {\n",
       "        vertical-align: middle;\n",
       "    }\n",
       "\n",
       "    .dataframe tbody tr th {\n",
       "        vertical-align: top;\n",
       "    }\n",
       "\n",
       "    .dataframe thead th {\n",
       "        text-align: right;\n",
       "    }\n",
       "</style>\n",
       "<table border=\"1\" class=\"dataframe\">\n",
       "  <thead>\n",
       "    <tr style=\"text-align: right;\">\n",
       "      <th></th>\n",
       "      <th>Month</th>\n",
       "      <th>WeekOfMonth</th>\n",
       "      <th>DayOfWeek</th>\n",
       "      <th>Make</th>\n",
       "      <th>AccidentArea</th>\n",
       "      <th>DayOfWeekClaimed</th>\n",
       "      <th>MonthClaimed</th>\n",
       "      <th>WeekOfMonthClaimed</th>\n",
       "      <th>Sex</th>\n",
       "      <th>MaritalStatus</th>\n",
       "      <th>...</th>\n",
       "      <th>AgeOfVehicle</th>\n",
       "      <th>AgeOfPolicyHolder</th>\n",
       "      <th>PoliceReportFiled</th>\n",
       "      <th>WitnessPresent</th>\n",
       "      <th>AgentType</th>\n",
       "      <th>NumberOfSuppliments</th>\n",
       "      <th>AddressChange_Claim</th>\n",
       "      <th>NumberOfCars</th>\n",
       "      <th>Year</th>\n",
       "      <th>BasePolicy</th>\n",
       "    </tr>\n",
       "  </thead>\n",
       "  <tbody>\n",
       "    <tr>\n",
       "      <th>count</th>\n",
       "      <td>15420.00</td>\n",
       "      <td>15420.00</td>\n",
       "      <td>15420.00</td>\n",
       "      <td>15420.00</td>\n",
       "      <td>15420.00</td>\n",
       "      <td>15420.00</td>\n",
       "      <td>15420.00</td>\n",
       "      <td>15420.00</td>\n",
       "      <td>15420.00</td>\n",
       "      <td>15420.00</td>\n",
       "      <td>...</td>\n",
       "      <td>15420.00</td>\n",
       "      <td>15420.00</td>\n",
       "      <td>15420.00</td>\n",
       "      <td>15420.00</td>\n",
       "      <td>15420.00</td>\n",
       "      <td>15420.00</td>\n",
       "      <td>15420.00</td>\n",
       "      <td>15420.00</td>\n",
       "      <td>15420.00</td>\n",
       "      <td>15420.00</td>\n",
       "    </tr>\n",
       "    <tr>\n",
       "      <th>mean</th>\n",
       "      <td>5.53</td>\n",
       "      <td>2.79</td>\n",
       "      <td>2.92</td>\n",
       "      <td>10.11</td>\n",
       "      <td>0.90</td>\n",
       "      <td>4.20</td>\n",
       "      <td>6.60</td>\n",
       "      <td>2.69</td>\n",
       "      <td>0.84</td>\n",
       "      <td>1.30</td>\n",
       "      <td>...</td>\n",
       "      <td>4.80</td>\n",
       "      <td>4.89</td>\n",
       "      <td>0.03</td>\n",
       "      <td>0.01</td>\n",
       "      <td>0.02</td>\n",
       "      <td>2.00</td>\n",
       "      <td>2.89</td>\n",
       "      <td>0.10</td>\n",
       "      <td>1994.87</td>\n",
       "      <td>1.04</td>\n",
       "    </tr>\n",
       "    <tr>\n",
       "      <th>std</th>\n",
       "      <td>3.41</td>\n",
       "      <td>1.29</td>\n",
       "      <td>2.06</td>\n",
       "      <td>5.28</td>\n",
       "      <td>0.30</td>\n",
       "      <td>2.27</td>\n",
       "      <td>3.41</td>\n",
       "      <td>1.26</td>\n",
       "      <td>0.36</td>\n",
       "      <td>0.48</td>\n",
       "      <td>...</td>\n",
       "      <td>1.14</td>\n",
       "      <td>1.40</td>\n",
       "      <td>0.16</td>\n",
       "      <td>0.07</td>\n",
       "      <td>0.12</td>\n",
       "      <td>1.11</td>\n",
       "      <td>0.45</td>\n",
       "      <td>0.38</td>\n",
       "      <td>0.80</td>\n",
       "      <td>0.78</td>\n",
       "    </tr>\n",
       "    <tr>\n",
       "      <th>min</th>\n",
       "      <td>0.00</td>\n",
       "      <td>1.00</td>\n",
       "      <td>0.00</td>\n",
       "      <td>0.00</td>\n",
       "      <td>0.00</td>\n",
       "      <td>0.00</td>\n",
       "      <td>0.00</td>\n",
       "      <td>1.00</td>\n",
       "      <td>0.00</td>\n",
       "      <td>0.00</td>\n",
       "      <td>...</td>\n",
       "      <td>0.00</td>\n",
       "      <td>0.00</td>\n",
       "      <td>0.00</td>\n",
       "      <td>0.00</td>\n",
       "      <td>0.00</td>\n",
       "      <td>0.00</td>\n",
       "      <td>0.00</td>\n",
       "      <td>0.00</td>\n",
       "      <td>1994.00</td>\n",
       "      <td>0.00</td>\n",
       "    </tr>\n",
       "    <tr>\n",
       "      <th>25%</th>\n",
       "      <td>3.00</td>\n",
       "      <td>2.00</td>\n",
       "      <td>1.00</td>\n",
       "      <td>6.00</td>\n",
       "      <td>1.00</td>\n",
       "      <td>2.00</td>\n",
       "      <td>4.00</td>\n",
       "      <td>2.00</td>\n",
       "      <td>1.00</td>\n",
       "      <td>1.00</td>\n",
       "      <td>...</td>\n",
       "      <td>4.00</td>\n",
       "      <td>4.00</td>\n",
       "      <td>0.00</td>\n",
       "      <td>0.00</td>\n",
       "      <td>0.00</td>\n",
       "      <td>1.00</td>\n",
       "      <td>3.00</td>\n",
       "      <td>0.00</td>\n",
       "      <td>1994.00</td>\n",
       "      <td>0.00</td>\n",
       "    </tr>\n",
       "    <tr>\n",
       "      <th>50%</th>\n",
       "      <td>6.00</td>\n",
       "      <td>3.00</td>\n",
       "      <td>3.00</td>\n",
       "      <td>9.00</td>\n",
       "      <td>1.00</td>\n",
       "      <td>5.00</td>\n",
       "      <td>7.00</td>\n",
       "      <td>3.00</td>\n",
       "      <td>1.00</td>\n",
       "      <td>1.00</td>\n",
       "      <td>...</td>\n",
       "      <td>5.00</td>\n",
       "      <td>5.00</td>\n",
       "      <td>0.00</td>\n",
       "      <td>0.00</td>\n",
       "      <td>0.00</td>\n",
       "      <td>2.00</td>\n",
       "      <td>3.00</td>\n",
       "      <td>0.00</td>\n",
       "      <td>1995.00</td>\n",
       "      <td>1.00</td>\n",
       "    </tr>\n",
       "    <tr>\n",
       "      <th>75%</th>\n",
       "      <td>8.00</td>\n",
       "      <td>4.00</td>\n",
       "      <td>5.00</td>\n",
       "      <td>13.00</td>\n",
       "      <td>1.00</td>\n",
       "      <td>6.00</td>\n",
       "      <td>10.00</td>\n",
       "      <td>4.00</td>\n",
       "      <td>1.00</td>\n",
       "      <td>2.00</td>\n",
       "      <td>...</td>\n",
       "      <td>6.00</td>\n",
       "      <td>6.00</td>\n",
       "      <td>0.00</td>\n",
       "      <td>0.00</td>\n",
       "      <td>0.00</td>\n",
       "      <td>3.00</td>\n",
       "      <td>3.00</td>\n",
       "      <td>0.00</td>\n",
       "      <td>1996.00</td>\n",
       "      <td>2.00</td>\n",
       "    </tr>\n",
       "    <tr>\n",
       "      <th>max</th>\n",
       "      <td>11.00</td>\n",
       "      <td>5.00</td>\n",
       "      <td>6.00</td>\n",
       "      <td>18.00</td>\n",
       "      <td>1.00</td>\n",
       "      <td>7.00</td>\n",
       "      <td>12.00</td>\n",
       "      <td>5.00</td>\n",
       "      <td>1.00</td>\n",
       "      <td>3.00</td>\n",
       "      <td>...</td>\n",
       "      <td>7.00</td>\n",
       "      <td>8.00</td>\n",
       "      <td>1.00</td>\n",
       "      <td>1.00</td>\n",
       "      <td>1.00</td>\n",
       "      <td>3.00</td>\n",
       "      <td>4.00</td>\n",
       "      <td>4.00</td>\n",
       "      <td>1996.00</td>\n",
       "      <td>2.00</td>\n",
       "    </tr>\n",
       "  </tbody>\n",
       "</table>\n",
       "<p>8 rows × 33 columns</p>\n",
       "</div>"
      ],
      "text/plain": [
       "         Month  WeekOfMonth  DayOfWeek     Make  AccidentArea  \\\n",
       "count 15420.00     15420.00   15420.00 15420.00      15420.00   \n",
       "mean      5.53         2.79       2.92    10.11          0.90   \n",
       "std       3.41         1.29       2.06     5.28          0.30   \n",
       "min       0.00         1.00       0.00     0.00          0.00   \n",
       "25%       3.00         2.00       1.00     6.00          1.00   \n",
       "50%       6.00         3.00       3.00     9.00          1.00   \n",
       "75%       8.00         4.00       5.00    13.00          1.00   \n",
       "max      11.00         5.00       6.00    18.00          1.00   \n",
       "\n",
       "       DayOfWeekClaimed  MonthClaimed  WeekOfMonthClaimed      Sex  \\\n",
       "count          15420.00      15420.00            15420.00 15420.00   \n",
       "mean               4.20          6.60                2.69     0.84   \n",
       "std                2.27          3.41                1.26     0.36   \n",
       "min                0.00          0.00                1.00     0.00   \n",
       "25%                2.00          4.00                2.00     1.00   \n",
       "50%                5.00          7.00                3.00     1.00   \n",
       "75%                6.00         10.00                4.00     1.00   \n",
       "max                7.00         12.00                5.00     1.00   \n",
       "\n",
       "       MaritalStatus  ...  AgeOfVehicle  AgeOfPolicyHolder  PoliceReportFiled  \\\n",
       "count       15420.00  ...      15420.00           15420.00           15420.00   \n",
       "mean            1.30  ...          4.80               4.89               0.03   \n",
       "std             0.48  ...          1.14               1.40               0.16   \n",
       "min             0.00  ...          0.00               0.00               0.00   \n",
       "25%             1.00  ...          4.00               4.00               0.00   \n",
       "50%             1.00  ...          5.00               5.00               0.00   \n",
       "75%             2.00  ...          6.00               6.00               0.00   \n",
       "max             3.00  ...          7.00               8.00               1.00   \n",
       "\n",
       "       WitnessPresent  AgentType  NumberOfSuppliments  AddressChange_Claim  \\\n",
       "count        15420.00   15420.00             15420.00             15420.00   \n",
       "mean             0.01       0.02                 2.00                 2.89   \n",
       "std              0.07       0.12                 1.11                 0.45   \n",
       "min              0.00       0.00                 0.00                 0.00   \n",
       "25%              0.00       0.00                 1.00                 3.00   \n",
       "50%              0.00       0.00                 2.00                 3.00   \n",
       "75%              0.00       0.00                 3.00                 3.00   \n",
       "max              1.00       1.00                 3.00                 4.00   \n",
       "\n",
       "       NumberOfCars     Year  BasePolicy  \n",
       "count      15420.00 15420.00    15420.00  \n",
       "mean           0.10  1994.87        1.04  \n",
       "std            0.38     0.80        0.78  \n",
       "min            0.00  1994.00        0.00  \n",
       "25%            0.00  1994.00        0.00  \n",
       "50%            0.00  1995.00        1.00  \n",
       "75%            0.00  1996.00        2.00  \n",
       "max            4.00  1996.00        2.00  \n",
       "\n",
       "[8 rows x 33 columns]"
      ]
     },
     "execution_count": 41,
     "metadata": {},
     "output_type": "execute_result"
    }
   ],
   "source": [
    "df_temp.describe()"
   ]
  },
  {
   "cell_type": "markdown",
   "id": "f0512d35",
   "metadata": {
    "papermill": {
     "duration": 0.104121,
     "end_time": "2022-01-21T15:25:16.050751",
     "exception": false,
     "start_time": "2022-01-21T15:25:15.946630",
     "status": "completed"
    },
    "tags": []
   },
   "source": [
    "### Splitting Data"
   ]
  },
  {
   "cell_type": "code",
   "execution_count": 42,
   "id": "e0321b55",
   "metadata": {
    "execution": {
     "iopub.execute_input": "2022-01-21T15:25:16.261880Z",
     "iopub.status.busy": "2022-01-21T15:25:16.261170Z",
     "iopub.status.idle": "2022-01-21T15:25:16.266494Z",
     "shell.execute_reply": "2022-01-21T15:25:16.267047Z",
     "shell.execute_reply.started": "2022-01-21T15:05:42.278056Z"
    },
    "papermill": {
     "duration": 0.11239,
     "end_time": "2022-01-21T15:25:16.267223",
     "exception": false,
     "start_time": "2022-01-21T15:25:16.154833",
     "status": "completed"
    },
    "tags": []
   },
   "outputs": [],
   "source": [
    "# Split data into X & y\n",
    "X = df_temp.drop(\"FraudFound_P\",axis = 1)\n",
    "y = df_temp[\"FraudFound_P\"]"
   ]
  },
  {
   "cell_type": "code",
   "execution_count": 43,
   "id": "4fdaed6b",
   "metadata": {
    "execution": {
     "iopub.execute_input": "2022-01-21T15:25:16.482141Z",
     "iopub.status.busy": "2022-01-21T15:25:16.479813Z",
     "iopub.status.idle": "2022-01-21T15:25:16.502746Z",
     "shell.execute_reply": "2022-01-21T15:25:16.503314Z",
     "shell.execute_reply.started": "2022-01-21T15:05:42.286844Z"
    },
    "papermill": {
     "duration": 0.132312,
     "end_time": "2022-01-21T15:25:16.503486",
     "exception": false,
     "start_time": "2022-01-21T15:25:16.371174",
     "status": "completed"
    },
    "tags": []
   },
   "outputs": [
    {
     "data": {
      "text/html": [
       "<div>\n",
       "<style scoped>\n",
       "    .dataframe tbody tr th:only-of-type {\n",
       "        vertical-align: middle;\n",
       "    }\n",
       "\n",
       "    .dataframe tbody tr th {\n",
       "        vertical-align: top;\n",
       "    }\n",
       "\n",
       "    .dataframe thead th {\n",
       "        text-align: right;\n",
       "    }\n",
       "</style>\n",
       "<table border=\"1\" class=\"dataframe\">\n",
       "  <thead>\n",
       "    <tr style=\"text-align: right;\">\n",
       "      <th></th>\n",
       "      <th>Month</th>\n",
       "      <th>WeekOfMonth</th>\n",
       "      <th>DayOfWeek</th>\n",
       "      <th>Make</th>\n",
       "      <th>AccidentArea</th>\n",
       "      <th>DayOfWeekClaimed</th>\n",
       "      <th>MonthClaimed</th>\n",
       "      <th>WeekOfMonthClaimed</th>\n",
       "      <th>Sex</th>\n",
       "      <th>MaritalStatus</th>\n",
       "      <th>...</th>\n",
       "      <th>AgeOfVehicle</th>\n",
       "      <th>AgeOfPolicyHolder</th>\n",
       "      <th>PoliceReportFiled</th>\n",
       "      <th>WitnessPresent</th>\n",
       "      <th>AgentType</th>\n",
       "      <th>NumberOfSuppliments</th>\n",
       "      <th>AddressChange_Claim</th>\n",
       "      <th>NumberOfCars</th>\n",
       "      <th>Year</th>\n",
       "      <th>BasePolicy</th>\n",
       "    </tr>\n",
       "  </thead>\n",
       "  <tbody>\n",
       "    <tr>\n",
       "      <th>0</th>\n",
       "      <td>2</td>\n",
       "      <td>5</td>\n",
       "      <td>6</td>\n",
       "      <td>6</td>\n",
       "      <td>1</td>\n",
       "      <td>6</td>\n",
       "      <td>5</td>\n",
       "      <td>1</td>\n",
       "      <td>0</td>\n",
       "      <td>2</td>\n",
       "      <td>...</td>\n",
       "      <td>1</td>\n",
       "      <td>3</td>\n",
       "      <td>0</td>\n",
       "      <td>0</td>\n",
       "      <td>0</td>\n",
       "      <td>3</td>\n",
       "      <td>0</td>\n",
       "      <td>2</td>\n",
       "      <td>1994</td>\n",
       "      <td>2</td>\n",
       "    </tr>\n",
       "    <tr>\n",
       "      <th>1</th>\n",
       "      <td>4</td>\n",
       "      <td>3</td>\n",
       "      <td>6</td>\n",
       "      <td>6</td>\n",
       "      <td>1</td>\n",
       "      <td>2</td>\n",
       "      <td>5</td>\n",
       "      <td>4</td>\n",
       "      <td>1</td>\n",
       "      <td>2</td>\n",
       "      <td>...</td>\n",
       "      <td>4</td>\n",
       "      <td>4</td>\n",
       "      <td>1</td>\n",
       "      <td>0</td>\n",
       "      <td>0</td>\n",
       "      <td>3</td>\n",
       "      <td>3</td>\n",
       "      <td>0</td>\n",
       "      <td>1994</td>\n",
       "      <td>1</td>\n",
       "    </tr>\n",
       "    <tr>\n",
       "      <th>2</th>\n",
       "      <td>10</td>\n",
       "      <td>5</td>\n",
       "      <td>0</td>\n",
       "      <td>6</td>\n",
       "      <td>1</td>\n",
       "      <td>5</td>\n",
       "      <td>10</td>\n",
       "      <td>2</td>\n",
       "      <td>1</td>\n",
       "      <td>1</td>\n",
       "      <td>...</td>\n",
       "      <td>5</td>\n",
       "      <td>6</td>\n",
       "      <td>0</td>\n",
       "      <td>0</td>\n",
       "      <td>0</td>\n",
       "      <td>3</td>\n",
       "      <td>3</td>\n",
       "      <td>0</td>\n",
       "      <td>1994</td>\n",
       "      <td>1</td>\n",
       "    </tr>\n",
       "    <tr>\n",
       "      <th>3</th>\n",
       "      <td>6</td>\n",
       "      <td>2</td>\n",
       "      <td>2</td>\n",
       "      <td>17</td>\n",
       "      <td>0</td>\n",
       "      <td>1</td>\n",
       "      <td>6</td>\n",
       "      <td>1</td>\n",
       "      <td>1</td>\n",
       "      <td>1</td>\n",
       "      <td>...</td>\n",
       "      <td>6</td>\n",
       "      <td>7</td>\n",
       "      <td>1</td>\n",
       "      <td>0</td>\n",
       "      <td>0</td>\n",
       "      <td>2</td>\n",
       "      <td>3</td>\n",
       "      <td>0</td>\n",
       "      <td>1994</td>\n",
       "      <td>2</td>\n",
       "    </tr>\n",
       "    <tr>\n",
       "      <th>4</th>\n",
       "      <td>4</td>\n",
       "      <td>5</td>\n",
       "      <td>1</td>\n",
       "      <td>6</td>\n",
       "      <td>1</td>\n",
       "      <td>6</td>\n",
       "      <td>4</td>\n",
       "      <td>2</td>\n",
       "      <td>0</td>\n",
       "      <td>2</td>\n",
       "      <td>...</td>\n",
       "      <td>3</td>\n",
       "      <td>4</td>\n",
       "      <td>0</td>\n",
       "      <td>0</td>\n",
       "      <td>0</td>\n",
       "      <td>3</td>\n",
       "      <td>3</td>\n",
       "      <td>0</td>\n",
       "      <td>1994</td>\n",
       "      <td>1</td>\n",
       "    </tr>\n",
       "    <tr>\n",
       "      <th>...</th>\n",
       "      <td>...</td>\n",
       "      <td>...</td>\n",
       "      <td>...</td>\n",
       "      <td>...</td>\n",
       "      <td>...</td>\n",
       "      <td>...</td>\n",
       "      <td>...</td>\n",
       "      <td>...</td>\n",
       "      <td>...</td>\n",
       "      <td>...</td>\n",
       "      <td>...</td>\n",
       "      <td>...</td>\n",
       "      <td>...</td>\n",
       "      <td>...</td>\n",
       "      <td>...</td>\n",
       "      <td>...</td>\n",
       "      <td>...</td>\n",
       "      <td>...</td>\n",
       "      <td>...</td>\n",
       "      <td>...</td>\n",
       "      <td>...</td>\n",
       "    </tr>\n",
       "    <tr>\n",
       "      <th>15415</th>\n",
       "      <td>9</td>\n",
       "      <td>4</td>\n",
       "      <td>0</td>\n",
       "      <td>17</td>\n",
       "      <td>1</td>\n",
       "      <td>6</td>\n",
       "      <td>10</td>\n",
       "      <td>5</td>\n",
       "      <td>1</td>\n",
       "      <td>1</td>\n",
       "      <td>...</td>\n",
       "      <td>4</td>\n",
       "      <td>4</td>\n",
       "      <td>0</td>\n",
       "      <td>0</td>\n",
       "      <td>0</td>\n",
       "      <td>3</td>\n",
       "      <td>3</td>\n",
       "      <td>0</td>\n",
       "      <td>1996</td>\n",
       "      <td>1</td>\n",
       "    </tr>\n",
       "    <tr>\n",
       "      <th>15416</th>\n",
       "      <td>9</td>\n",
       "      <td>5</td>\n",
       "      <td>4</td>\n",
       "      <td>13</td>\n",
       "      <td>1</td>\n",
       "      <td>1</td>\n",
       "      <td>3</td>\n",
       "      <td>1</td>\n",
       "      <td>1</td>\n",
       "      <td>1</td>\n",
       "      <td>...</td>\n",
       "      <td>4</td>\n",
       "      <td>4</td>\n",
       "      <td>0</td>\n",
       "      <td>0</td>\n",
       "      <td>0</td>\n",
       "      <td>2</td>\n",
       "      <td>3</td>\n",
       "      <td>2</td>\n",
       "      <td>1996</td>\n",
       "      <td>2</td>\n",
       "    </tr>\n",
       "    <tr>\n",
       "      <th>15417</th>\n",
       "      <td>9</td>\n",
       "      <td>5</td>\n",
       "      <td>4</td>\n",
       "      <td>17</td>\n",
       "      <td>0</td>\n",
       "      <td>1</td>\n",
       "      <td>3</td>\n",
       "      <td>1</td>\n",
       "      <td>1</td>\n",
       "      <td>2</td>\n",
       "      <td>...</td>\n",
       "      <td>3</td>\n",
       "      <td>3</td>\n",
       "      <td>0</td>\n",
       "      <td>0</td>\n",
       "      <td>0</td>\n",
       "      <td>0</td>\n",
       "      <td>3</td>\n",
       "      <td>0</td>\n",
       "      <td>1996</td>\n",
       "      <td>1</td>\n",
       "    </tr>\n",
       "    <tr>\n",
       "      <th>15418</th>\n",
       "      <td>2</td>\n",
       "      <td>1</td>\n",
       "      <td>1</td>\n",
       "      <td>17</td>\n",
       "      <td>1</td>\n",
       "      <td>5</td>\n",
       "      <td>3</td>\n",
       "      <td>2</td>\n",
       "      <td>0</td>\n",
       "      <td>1</td>\n",
       "      <td>...</td>\n",
       "      <td>0</td>\n",
       "      <td>4</td>\n",
       "      <td>0</td>\n",
       "      <td>0</td>\n",
       "      <td>0</td>\n",
       "      <td>2</td>\n",
       "      <td>3</td>\n",
       "      <td>0</td>\n",
       "      <td>1996</td>\n",
       "      <td>0</td>\n",
       "    </tr>\n",
       "    <tr>\n",
       "      <th>15419</th>\n",
       "      <td>2</td>\n",
       "      <td>2</td>\n",
       "      <td>6</td>\n",
       "      <td>17</td>\n",
       "      <td>1</td>\n",
       "      <td>5</td>\n",
       "      <td>3</td>\n",
       "      <td>3</td>\n",
       "      <td>1</td>\n",
       "      <td>2</td>\n",
       "      <td>...</td>\n",
       "      <td>3</td>\n",
       "      <td>3</td>\n",
       "      <td>0</td>\n",
       "      <td>0</td>\n",
       "      <td>0</td>\n",
       "      <td>0</td>\n",
       "      <td>3</td>\n",
       "      <td>0</td>\n",
       "      <td>1996</td>\n",
       "      <td>1</td>\n",
       "    </tr>\n",
       "  </tbody>\n",
       "</table>\n",
       "<p>15420 rows × 32 columns</p>\n",
       "</div>"
      ],
      "text/plain": [
       "       Month  WeekOfMonth  DayOfWeek  Make  AccidentArea  DayOfWeekClaimed  \\\n",
       "0          2            5          6     6             1                 6   \n",
       "1          4            3          6     6             1                 2   \n",
       "2         10            5          0     6             1                 5   \n",
       "3          6            2          2    17             0                 1   \n",
       "4          4            5          1     6             1                 6   \n",
       "...      ...          ...        ...   ...           ...               ...   \n",
       "15415      9            4          0    17             1                 6   \n",
       "15416      9            5          4    13             1                 1   \n",
       "15417      9            5          4    17             0                 1   \n",
       "15418      2            1          1    17             1                 5   \n",
       "15419      2            2          6    17             1                 5   \n",
       "\n",
       "       MonthClaimed  WeekOfMonthClaimed  Sex  MaritalStatus  ...  \\\n",
       "0                 5                   1    0              2  ...   \n",
       "1                 5                   4    1              2  ...   \n",
       "2                10                   2    1              1  ...   \n",
       "3                 6                   1    1              1  ...   \n",
       "4                 4                   2    0              2  ...   \n",
       "...             ...                 ...  ...            ...  ...   \n",
       "15415            10                   5    1              1  ...   \n",
       "15416             3                   1    1              1  ...   \n",
       "15417             3                   1    1              2  ...   \n",
       "15418             3                   2    0              1  ...   \n",
       "15419             3                   3    1              2  ...   \n",
       "\n",
       "       AgeOfVehicle  AgeOfPolicyHolder  PoliceReportFiled  WitnessPresent  \\\n",
       "0                 1                  3                  0               0   \n",
       "1                 4                  4                  1               0   \n",
       "2                 5                  6                  0               0   \n",
       "3                 6                  7                  1               0   \n",
       "4                 3                  4                  0               0   \n",
       "...             ...                ...                ...             ...   \n",
       "15415             4                  4                  0               0   \n",
       "15416             4                  4                  0               0   \n",
       "15417             3                  3                  0               0   \n",
       "15418             0                  4                  0               0   \n",
       "15419             3                  3                  0               0   \n",
       "\n",
       "       AgentType  NumberOfSuppliments  AddressChange_Claim  NumberOfCars  \\\n",
       "0              0                    3                    0             2   \n",
       "1              0                    3                    3             0   \n",
       "2              0                    3                    3             0   \n",
       "3              0                    2                    3             0   \n",
       "4              0                    3                    3             0   \n",
       "...          ...                  ...                  ...           ...   \n",
       "15415          0                    3                    3             0   \n",
       "15416          0                    2                    3             2   \n",
       "15417          0                    0                    3             0   \n",
       "15418          0                    2                    3             0   \n",
       "15419          0                    0                    3             0   \n",
       "\n",
       "       Year  BasePolicy  \n",
       "0      1994           2  \n",
       "1      1994           1  \n",
       "2      1994           1  \n",
       "3      1994           2  \n",
       "4      1994           1  \n",
       "...     ...         ...  \n",
       "15415  1996           1  \n",
       "15416  1996           2  \n",
       "15417  1996           1  \n",
       "15418  1996           0  \n",
       "15419  1996           1  \n",
       "\n",
       "[15420 rows x 32 columns]"
      ]
     },
     "execution_count": 43,
     "metadata": {},
     "output_type": "execute_result"
    }
   ],
   "source": [
    "X"
   ]
  },
  {
   "cell_type": "code",
   "execution_count": 44,
   "id": "a6a09edb",
   "metadata": {
    "execution": {
     "iopub.execute_input": "2022-01-21T15:25:16.719046Z",
     "iopub.status.busy": "2022-01-21T15:25:16.718313Z",
     "iopub.status.idle": "2022-01-21T15:25:16.724026Z",
     "shell.execute_reply": "2022-01-21T15:25:16.724531Z",
     "shell.execute_reply.started": "2022-01-21T15:05:42.326643Z"
    },
    "papermill": {
     "duration": 0.114259,
     "end_time": "2022-01-21T15:25:16.724729",
     "exception": false,
     "start_time": "2022-01-21T15:25:16.610470",
     "status": "completed"
    },
    "tags": []
   },
   "outputs": [
    {
     "data": {
      "text/plain": [
       "0        0\n",
       "1        0\n",
       "2        0\n",
       "3        0\n",
       "4        0\n",
       "        ..\n",
       "15415    1\n",
       "15416    0\n",
       "15417    1\n",
       "15418    0\n",
       "15419    1\n",
       "Name: FraudFound_P, Length: 15420, dtype: int64"
      ]
     },
     "execution_count": 44,
     "metadata": {},
     "output_type": "execute_result"
    }
   ],
   "source": [
    "y"
   ]
  },
  {
   "cell_type": "code",
   "execution_count": 45,
   "id": "7146ec69",
   "metadata": {
    "execution": {
     "iopub.execute_input": "2022-01-21T15:25:16.938065Z",
     "iopub.status.busy": "2022-01-21T15:25:16.937410Z",
     "iopub.status.idle": "2022-01-21T15:25:16.947119Z",
     "shell.execute_reply": "2022-01-21T15:25:16.946526Z",
     "shell.execute_reply.started": "2022-01-21T15:05:42.336937Z"
    },
    "papermill": {
     "duration": 0.118344,
     "end_time": "2022-01-21T15:25:16.947271",
     "exception": false,
     "start_time": "2022-01-21T15:25:16.828927",
     "status": "completed"
    },
    "tags": []
   },
   "outputs": [],
   "source": [
    "# Setup random seed for reproduction\n",
    "np.random.seed(42)\n",
    "\n",
    "# Split data into train and test dataset\n",
    "X_train, X_test, y_train, y_test = train_test_split(X,y,\n",
    "                                                    test_size=0.2)\n"
   ]
  },
  {
   "cell_type": "code",
   "execution_count": 46,
   "id": "6038b631",
   "metadata": {
    "execution": {
     "iopub.execute_input": "2022-01-21T15:25:17.170220Z",
     "iopub.status.busy": "2022-01-21T15:25:17.169346Z",
     "iopub.status.idle": "2022-01-21T15:25:17.173183Z",
     "shell.execute_reply": "2022-01-21T15:25:17.173695Z",
     "shell.execute_reply.started": "2022-01-21T15:05:42.354900Z"
    },
    "papermill": {
     "duration": 0.119651,
     "end_time": "2022-01-21T15:25:17.173883",
     "exception": false,
     "start_time": "2022-01-21T15:25:17.054232",
     "status": "completed"
    },
    "tags": []
   },
   "outputs": [
    {
     "name": "stdout",
     "output_type": "stream",
     "text": [
      "Training target statistics: Counter({0: 11610, 1: 726})\n",
      "Testing target statistics: Counter({0: 2887, 1: 197})\n"
     ]
    },
    {
     "data": {
      "text/plain": [
       "((12336, 32), (3084, 32), (12336,), (3084,))"
      ]
     },
     "execution_count": 46,
     "metadata": {},
     "output_type": "execute_result"
    }
   ],
   "source": [
    "# Let's Check our Train and Test Split\n",
    "from collections import Counter\n",
    "print(f\"Training target statistics: {Counter(y_train)}\")\n",
    "print(f\"Testing target statistics: {Counter(y_test)}\")\n",
    "X_train.shape, X_test.shape, y_train.shape, y_test.shape"
   ]
  },
  {
   "cell_type": "markdown",
   "id": "bdf22099",
   "metadata": {
    "papermill": {
     "duration": 0.104463,
     "end_time": "2022-01-21T15:25:17.383651",
     "exception": false,
     "start_time": "2022-01-21T15:25:17.279188",
     "status": "completed"
    },
    "tags": []
   },
   "source": [
    "## As we can see our Target Feature is totally unbalanced so we would apply scikit-learn function to balance the weight of classes"
   ]
  },
  {
   "cell_type": "code",
   "execution_count": 47,
   "id": "96a46052",
   "metadata": {
    "execution": {
     "iopub.execute_input": "2022-01-21T15:25:17.601070Z",
     "iopub.status.busy": "2022-01-21T15:25:17.600367Z",
     "iopub.status.idle": "2022-01-21T15:25:17.608476Z",
     "shell.execute_reply": "2022-01-21T15:25:17.607942Z",
     "shell.execute_reply.started": "2022-01-21T15:05:42.370132Z"
    },
    "papermill": {
     "duration": 0.119724,
     "end_time": "2022-01-21T15:25:17.608729",
     "exception": false,
     "start_time": "2022-01-21T15:25:17.489005",
     "status": "completed"
    },
    "tags": []
   },
   "outputs": [
    {
     "data": {
      "text/plain": [
       "{0: 0.531266149870801, 1: 8.49586776859504}"
      ]
     },
     "execution_count": 47,
     "metadata": {},
     "output_type": "execute_result"
    }
   ],
   "source": [
    "# Let's import the function\n",
    "from sklearn.utils import class_weight\n",
    "class_weights = dict(zip(np.unique(y_train), class_weight.compute_class_weight(\n",
    "                                                                        class_weight='balanced',\n",
    "                                                                        classes= np.unique(y_train), \n",
    "                                                                        y = y_train)))\n",
    "class_weights"
   ]
  },
  {
   "cell_type": "code",
   "execution_count": 48,
   "id": "fc6cfea3",
   "metadata": {
    "execution": {
     "iopub.execute_input": "2022-01-21T15:25:17.829872Z",
     "iopub.status.busy": "2022-01-21T15:25:17.828907Z",
     "iopub.status.idle": "2022-01-21T15:25:17.830632Z",
     "shell.execute_reply": "2022-01-21T15:25:17.831169Z",
     "shell.execute_reply.started": "2022-01-21T15:05:42.387282Z"
    },
    "papermill": {
     "duration": 0.115975,
     "end_time": "2022-01-21T15:25:17.831340",
     "exception": false,
     "start_time": "2022-01-21T15:25:17.715365",
     "status": "completed"
    },
    "tags": []
   },
   "outputs": [],
   "source": [
    "# Let's put our models into dictionary \n",
    "models = {\"Logistic Regression\": LogisticRegression(class_weight=class_weights,solver = 'liblinear'),\n",
    "          \"KNN\": KNeighborsClassifier(),\n",
    "          \"Random Forest Classifier\": RandomForestClassifier(class_weight=class_weights),\n",
    "          \"XGboost\": XGBClassifier()}\n",
    "\n",
    "# Let's create a function to fit and later score our models\n",
    "def fit_score(models, X_train, X_test, y_train, y_test):\n",
    "    \"\"\"\n",
    "    Fits and evaluates the given machine learning models\n",
    "    \"\"\"\n",
    "    # random seed for reproduction\n",
    "    np.random.seed(42)\n",
    "    \n",
    "    # Let's create a empty dictionary to keep model score\n",
    "    model_score = {}\n",
    "    \n",
    "    # Let's loop through the models dictionary\n",
    "    for name, model in models.items():\n",
    "        # Fit the model\n",
    "        model.fit(X_train, y_train)\n",
    "        # Evaluate the score and append it\n",
    "        model_score[name] = model.score(X_test,y_test)\n",
    "    return model_score"
   ]
  },
  {
   "cell_type": "code",
   "execution_count": 49,
   "id": "83e2752e",
   "metadata": {
    "execution": {
     "iopub.execute_input": "2022-01-21T15:25:18.049500Z",
     "iopub.status.busy": "2022-01-21T15:25:18.048474Z",
     "iopub.status.idle": "2022-01-21T15:25:21.375807Z",
     "shell.execute_reply": "2022-01-21T15:25:21.376387Z",
     "shell.execute_reply.started": "2022-01-21T15:05:42.396790Z"
    },
    "papermill": {
     "duration": 3.439853,
     "end_time": "2022-01-21T15:25:21.376590",
     "exception": false,
     "start_time": "2022-01-21T15:25:17.936737",
     "status": "completed"
    },
    "tags": []
   },
   "outputs": [
    {
     "name": "stderr",
     "output_type": "stream",
     "text": [
      "/opt/conda/lib/python3.7/site-packages/xgboost/sklearn.py:1224: UserWarning: The use of label encoder in XGBClassifier is deprecated and will be removed in a future release. To remove this warning, do the following: 1) Pass option use_label_encoder=False when constructing XGBClassifier object; and 2) Encode your labels (y) as integers starting with 0, i.e. 0, 1, 2, ..., [num_class - 1].\n",
      "  warnings.warn(label_encoder_deprecation_msg, UserWarning)\n"
     ]
    },
    {
     "name": "stdout",
     "output_type": "stream",
     "text": [
      "[15:25:20] WARNING: ../src/learner.cc:1115: Starting in XGBoost 1.3.0, the default evaluation metric used with the objective 'binary:logistic' was changed from 'error' to 'logloss'. Explicitly set eval_metric if you'd like to restore the old behavior.\n"
     ]
    },
    {
     "data": {
      "text/plain": [
       "{'Logistic Regression': 0.6076523994811932,\n",
       " 'KNN': 0.9315823605706874,\n",
       " 'Random Forest Classifier': 0.937094682230869,\n",
       " 'XGboost': 0.9536316472114138}"
      ]
     },
     "execution_count": 49,
     "metadata": {},
     "output_type": "execute_result"
    }
   ],
   "source": [
    "model_score = fit_score(models=models,\n",
    "                        X_train=X_train,\n",
    "                        X_test=X_test,\n",
    "                        y_train=y_train,\n",
    "                        y_test=y_test)\n",
    "model_score"
   ]
  },
  {
   "cell_type": "code",
   "execution_count": 50,
   "id": "c53ae9b7",
   "metadata": {
    "execution": {
     "iopub.execute_input": "2022-01-21T15:25:21.596505Z",
     "iopub.status.busy": "2022-01-21T15:25:21.595864Z",
     "iopub.status.idle": "2022-01-21T15:25:21.606363Z",
     "shell.execute_reply": "2022-01-21T15:25:21.605817Z",
     "shell.execute_reply.started": "2022-01-21T15:05:45.984145Z"
    },
    "papermill": {
     "duration": 0.120791,
     "end_time": "2022-01-21T15:25:21.606496",
     "exception": false,
     "start_time": "2022-01-21T15:25:21.485705",
     "status": "completed"
    },
    "tags": []
   },
   "outputs": [
    {
     "data": {
      "text/html": [
       "<div>\n",
       "<style scoped>\n",
       "    .dataframe tbody tr th:only-of-type {\n",
       "        vertical-align: middle;\n",
       "    }\n",
       "\n",
       "    .dataframe tbody tr th {\n",
       "        vertical-align: top;\n",
       "    }\n",
       "\n",
       "    .dataframe thead th {\n",
       "        text-align: right;\n",
       "    }\n",
       "</style>\n",
       "<table border=\"1\" class=\"dataframe\">\n",
       "  <thead>\n",
       "    <tr style=\"text-align: right;\">\n",
       "      <th></th>\n",
       "      <th>Logistic Regression</th>\n",
       "      <th>KNN</th>\n",
       "      <th>Random Forest Classifier</th>\n",
       "      <th>XGboost</th>\n",
       "    </tr>\n",
       "  </thead>\n",
       "  <tbody>\n",
       "    <tr>\n",
       "      <th>Accuracy</th>\n",
       "      <td>0.61</td>\n",
       "      <td>0.93</td>\n",
       "      <td>0.94</td>\n",
       "      <td>0.95</td>\n",
       "    </tr>\n",
       "  </tbody>\n",
       "</table>\n",
       "</div>"
      ],
      "text/plain": [
       "          Logistic Regression  KNN  Random Forest Classifier  XGboost\n",
       "Accuracy                 0.61 0.93                      0.94     0.95"
      ]
     },
     "execution_count": 50,
     "metadata": {},
     "output_type": "execute_result"
    }
   ],
   "source": [
    "# Save into DataFrame\n",
    "model_compare = pd.DataFrame(model_score,index=[\"Accuracy\"])\n",
    "model_compare"
   ]
  },
  {
   "cell_type": "code",
   "execution_count": 51,
   "id": "a12960e7",
   "metadata": {
    "execution": {
     "iopub.execute_input": "2022-01-21T15:25:21.822224Z",
     "iopub.status.busy": "2022-01-21T15:25:21.821403Z",
     "iopub.status.idle": "2022-01-21T15:25:22.064462Z",
     "shell.execute_reply": "2022-01-21T15:25:22.063818Z",
     "shell.execute_reply.started": "2022-01-21T15:05:46.005332Z"
    },
    "papermill": {
     "duration": 0.351146,
     "end_time": "2022-01-21T15:25:22.064634",
     "exception": false,
     "start_time": "2022-01-21T15:25:21.713488",
     "status": "completed"
    },
    "tags": []
   },
   "outputs": [
    {
     "data": {
      "text/plain": [
       "<AxesSubplot:>"
      ]
     },
     "execution_count": 51,
     "metadata": {},
     "output_type": "execute_result"
    },
    {
     "data": {
      "image/png": "[encoded data removed]",
      "text/plain": [
       "<Figure size 432x288 with 1 Axes>"
      ]
     },
     "metadata": {},
     "output_type": "display_data"
    }
   ],
   "source": [
    "# Let's Plot The Models and Compare\n",
    "model_compare.T.plot(kind=\"bar\")"
   ]
  },
  {
   "cell_type": "markdown",
   "id": "f84d4015",
   "metadata": {
    "papermill": {
     "duration": 0.106119,
     "end_time": "2022-01-21T15:25:22.278620",
     "exception": false,
     "start_time": "2022-01-21T15:25:22.172501",
     "status": "completed"
    },
    "tags": []
   },
   "source": [
    "### So far three algorithms performed pretty well \n",
    "\n",
    "* The first model is not the best model.\n",
    "Let's tune all the algorithms if we can get more accuracy"
   ]
  },
  {
   "cell_type": "code",
   "execution_count": 52,
   "id": "1d077cc9",
   "metadata": {
    "execution": {
     "iopub.execute_input": "2022-01-21T15:25:22.506129Z",
     "iopub.status.busy": "2022-01-21T15:25:22.505394Z",
     "iopub.status.idle": "2022-01-21T15:25:39.783542Z",
     "shell.execute_reply": "2022-01-21T15:25:39.782970Z",
     "shell.execute_reply.started": "2022-01-21T15:05:46.279468Z"
    },
    "papermill": {
     "duration": 17.396918,
     "end_time": "2022-01-21T15:25:39.783718",
     "exception": false,
     "start_time": "2022-01-21T15:25:22.386800",
     "status": "completed"
    },
    "tags": []
   },
   "outputs": [],
   "source": [
    "# First Let's tune KNN\n",
    "train_score = []\n",
    "test_score  = []\n",
    "\n",
    "# Let's create a list for different neighbors\n",
    "neighbors = range(1, 21)\n",
    "\n",
    "# Setup knn instance\n",
    "knn = KNeighborsClassifier()\n",
    "\n",
    "# loop through different neighbors\n",
    "for i in neighbors:\n",
    "    knn.set_params(n_neighbors = i)\n",
    "    \n",
    "    # Fit the model\n",
    "    knn.fit(X_train, y_train)\n",
    "    \n",
    "    # Update the training score list\n",
    "    train_score.append(knn.score(X_train, y_train))\n",
    "    \n",
    "    # Update the test score list\n",
    "    test_score.append(knn.score(X_test, y_test))"
   ]
  },
  {
   "cell_type": "code",
   "execution_count": 53,
   "id": "c9a87e36",
   "metadata": {
    "execution": {
     "iopub.execute_input": "2022-01-21T15:25:40.005647Z",
     "iopub.status.busy": "2022-01-21T15:25:40.004965Z",
     "iopub.status.idle": "2022-01-21T15:25:40.330263Z",
     "shell.execute_reply": "2022-01-21T15:25:40.330868Z",
     "shell.execute_reply.started": "2022-01-21T15:06:04.996189Z"
    },
    "papermill": {
     "duration": 0.440357,
     "end_time": "2022-01-21T15:25:40.331054",
     "exception": false,
     "start_time": "2022-01-21T15:25:39.890697",
     "status": "completed"
    },
    "tags": []
   },
   "outputs": [
    {
     "name": "stdout",
     "output_type": "stream",
     "text": [
      "Maximum KNN score on Test data: 93.61%\n"
     ]
    },
    {
     "data": {
      "image/png": "[encoded data removed]",
      "text/plain": [
       "<Figure size 432x288 with 1 Axes>"
      ]
     },
     "metadata": {},
     "output_type": "display_data"
    }
   ],
   "source": [
    "# Let's Plot And Viusalize The KNN Tunned Model\n",
    "plt.plot(neighbors, train_score, label= \"Train score\")\n",
    "plt.plot(neighbors, test_score, label= \"Test score\")\n",
    "plt.xlabel(\"Neighbors\")\n",
    "plt.ylabel(\"Model Accuracy\")\n",
    "plt.legend()\n",
    "\n",
    "print(f\"Maximum KNN score on Test data: {max(test_score)*100 :.2f}%\")"
   ]
  },
  {
   "cell_type": "markdown",
   "id": "a47f7fe5",
   "metadata": {
    "papermill": {
     "duration": 0.109836,
     "end_time": "2022-01-21T15:25:40.552285",
     "exception": false,
     "start_time": "2022-01-21T15:25:40.442449",
     "status": "completed"
    },
    "tags": []
   },
   "source": [
    "> So far K-nn has not improved so let's jump into another algorithm tunning\n",
    "\n",
    "> This time we will tune hyperparameter with Scikit-learn libraries `RandomizedSearchCV` & `GridSearchCV`"
   ]
  },
  {
   "cell_type": "markdown",
   "id": "cf8c9d4b",
   "metadata": {
    "papermill": {
     "duration": 0.108983,
     "end_time": "2022-01-21T15:25:40.772394",
     "exception": false,
     "start_time": "2022-01-21T15:25:40.663411",
     "status": "completed"
    },
    "tags": []
   },
   "source": [
    "## Hyperparameter with RandomizedSearchCV"
   ]
  },
  {
   "cell_type": "code",
   "execution_count": 54,
   "id": "07438e77",
   "metadata": {
    "execution": {
     "iopub.execute_input": "2022-01-21T15:25:40.996012Z",
     "iopub.status.busy": "2022-01-21T15:25:40.995223Z",
     "iopub.status.idle": "2022-01-21T15:25:41.000833Z",
     "shell.execute_reply": "2022-01-21T15:25:41.001363Z",
     "shell.execute_reply.started": "2022-01-21T15:06:05.350108Z"
    },
    "papermill": {
     "duration": 0.118526,
     "end_time": "2022-01-21T15:25:41.001545",
     "exception": false,
     "start_time": "2022-01-21T15:25:40.883019",
     "status": "completed"
    },
    "tags": []
   },
   "outputs": [],
   "source": [
    "# Create hyperparametergrid for LogisticRegression\n",
    "\n",
    "log_reg_grid = {\"C\": np.logspace(-4, 4, 20),\n",
    "                \"solver\": [\"liblinear\"]}\n",
    "\n",
    "# Create hyperparameterGrid for RandomForestClassifier\n",
    "rf_random_grid = {\"n_estimators\": np.arange(10,1000,50),\n",
    "                  \"max_depth\": [None, 3, 5, 10],\n",
    "                  \"min_samples_split\": np.arange(2, 20, 2),\n",
    "                  \"min_samples_leaf\": np.arange(1, 20, 2)} "
   ]
  },
  {
   "cell_type": "code",
   "execution_count": 55,
   "id": "5ddfcf5d",
   "metadata": {
    "execution": {
     "iopub.execute_input": "2022-01-21T15:25:41.223917Z",
     "iopub.status.busy": "2022-01-21T15:25:41.223226Z",
     "iopub.status.idle": "2022-01-21T15:26:06.789569Z",
     "shell.execute_reply": "2022-01-21T15:26:06.790276Z",
     "shell.execute_reply.started": "2022-01-21T15:06:05.360152Z"
    },
    "papermill": {
     "duration": 25.677925,
     "end_time": "2022-01-21T15:26:06.790478",
     "exception": false,
     "start_time": "2022-01-21T15:25:41.112553",
     "status": "completed"
    },
    "tags": []
   },
   "outputs": [
    {
     "name": "stdout",
     "output_type": "stream",
     "text": [
      "Fitting 5 folds for each of 20 candidates, totalling 100 fits\n"
     ]
    },
    {
     "name": "stderr",
     "output_type": "stream",
     "text": [
      "[Parallel(n_jobs=1)]: Using backend SequentialBackend with 1 concurrent workers.\n",
      "[Parallel(n_jobs=1)]: Done 100 out of 100 | elapsed:   25.3s finished\n"
     ]
    },
    {
     "data": {
      "text/plain": [
       "RandomizedSearchCV(cv=5,\n",
       "                   estimator=LogisticRegression(class_weight={0: 0.531266149870801,\n",
       "                                                              1: 8.49586776859504}),\n",
       "                   n_iter=20,\n",
       "                   param_distributions={'C': array([1.00000000e-04, 2.63665090e-04, 6.95192796e-04, 1.83298071e-03,\n",
       "       4.83293024e-03, 1.27427499e-02, 3.35981829e-02, 8.85866790e-02,\n",
       "       2.33572147e-01, 6.15848211e-01, 1.62377674e+00, 4.28133240e+00,\n",
       "       1.12883789e+01, 2.97635144e+01, 7.84759970e+01, 2.06913808e+02,\n",
       "       5.45559478e+02, 1.43844989e+03, 3.79269019e+03, 1.00000000e+04]),\n",
       "                                        'solver': ['liblinear']},\n",
       "                   verbose=True)"
      ]
     },
     "execution_count": 55,
     "metadata": {},
     "output_type": "execute_result"
    }
   ],
   "source": [
    "# Let's Tune LogisticRegression\n",
    "np.random.seed(42)\n",
    "\n",
    "# Setup Random Hyperparameter search for LogisticRegression\n",
    "rs_log_reg = RandomizedSearchCV(LogisticRegression(class_weight=class_weights),\n",
    "                                param_distributions=log_reg_grid,\n",
    "                                cv=5,\n",
    "                                n_iter=20,\n",
    "                                verbose=True)\n",
    "\n",
    "# Fit random hyperparameter search\n",
    "rs_log_reg.fit(X_train, y_train)"
   ]
  },
  {
   "cell_type": "markdown",
   "id": "718c3a07",
   "metadata": {
    "papermill": {
     "duration": 0.109897,
     "end_time": "2022-01-21T15:26:07.010143",
     "exception": false,
     "start_time": "2022-01-21T15:26:06.900246",
     "status": "completed"
    },
    "tags": []
   },
   "source": []
  },
  {
   "cell_type": "code",
   "execution_count": 56,
   "id": "ac17dba6",
   "metadata": {
    "execution": {
     "iopub.execute_input": "2022-01-21T15:26:07.235898Z",
     "iopub.status.busy": "2022-01-21T15:26:07.234889Z",
     "iopub.status.idle": "2022-01-21T15:26:07.240355Z",
     "shell.execute_reply": "2022-01-21T15:26:07.240944Z",
     "shell.execute_reply.started": "2022-01-21T15:06:32.133919Z"
    },
    "papermill": {
     "duration": 0.119358,
     "end_time": "2022-01-21T15:26:07.241116",
     "exception": false,
     "start_time": "2022-01-21T15:26:07.121758",
     "status": "completed"
    },
    "tags": []
   },
   "outputs": [
    {
     "data": {
      "text/plain": [
       "{'solver': 'liblinear', 'C': 0.0018329807108324356}"
      ]
     },
     "execution_count": 56,
     "metadata": {},
     "output_type": "execute_result"
    }
   ],
   "source": [
    "# Let's Check The Best Parmeters\n",
    "rs_log_reg.best_params_"
   ]
  },
  {
   "cell_type": "code",
   "execution_count": 57,
   "id": "1cb983b5",
   "metadata": {
    "execution": {
     "iopub.execute_input": "2022-01-21T15:26:07.468647Z",
     "iopub.status.busy": "2022-01-21T15:26:07.468007Z",
     "iopub.status.idle": "2022-01-21T15:26:07.480679Z",
     "shell.execute_reply": "2022-01-21T15:26:07.481684Z",
     "shell.execute_reply.started": "2022-01-21T15:06:32.143182Z"
    },
    "papermill": {
     "duration": 0.129926,
     "end_time": "2022-01-21T15:26:07.481979",
     "exception": false,
     "start_time": "2022-01-21T15:26:07.352053",
     "status": "completed"
    },
    "tags": []
   },
   "outputs": [
    {
     "data": {
      "text/plain": [
       "0.6809338521400778"
      ]
     },
     "execution_count": 57,
     "metadata": {},
     "output_type": "execute_result"
    }
   ],
   "source": [
    "# Let's Score the Tunned model\n",
    "rs_log_reg.score(X_test, y_test)"
   ]
  },
  {
   "cell_type": "markdown",
   "id": "9f5bfef7",
   "metadata": {
    "papermill": {
     "duration": 0.111745,
     "end_time": "2022-01-21T15:26:07.756130",
     "exception": false,
     "start_time": "2022-01-21T15:26:07.644385",
     "status": "completed"
    },
    "tags": []
   },
   "source": [
    "* So far Logistic Regression has not improved that much "
   ]
  },
  {
   "cell_type": "code",
   "execution_count": 58,
   "id": "2e7fc07e",
   "metadata": {
    "execution": {
     "iopub.execute_input": "2022-01-21T15:26:07.986615Z",
     "iopub.status.busy": "2022-01-21T15:26:07.985321Z",
     "iopub.status.idle": "2022-01-21T15:28:51.007409Z",
     "shell.execute_reply": "2022-01-21T15:28:51.006725Z",
     "shell.execute_reply.started": "2022-01-21T15:06:32.169377Z"
    },
    "papermill": {
     "duration": 163.139537,
     "end_time": "2022-01-21T15:28:51.007564",
     "exception": false,
     "start_time": "2022-01-21T15:26:07.868027",
     "status": "completed"
    },
    "tags": []
   },
   "outputs": [
    {
     "name": "stdout",
     "output_type": "stream",
     "text": [
      "Fitting 5 folds for each of 10 candidates, totalling 50 fits\n"
     ]
    },
    {
     "name": "stderr",
     "output_type": "stream",
     "text": [
      "[Parallel(n_jobs=1)]: Using backend SequentialBackend with 1 concurrent workers.\n",
      "[Parallel(n_jobs=1)]: Done  50 out of  50 | elapsed:  2.7min finished\n"
     ]
    },
    {
     "data": {
      "text/plain": [
       "RandomizedSearchCV(cv=5,\n",
       "                   estimator=RandomForestClassifier(class_weight={0: 0.531266149870801,\n",
       "                                                                  1: 8.49586776859504}),\n",
       "                   param_distributions={'max_depth': [None, 3, 5, 10],\n",
       "                                        'min_samples_leaf': array([ 1,  3,  5,  7,  9, 11, 13, 15, 17, 19]),\n",
       "                                        'min_samples_split': array([ 2,  4,  6,  8, 10, 12, 14, 16, 18]),\n",
       "                                        'n_estimators': array([ 10,  60, 110, 160, 210, 260, 310, 360, 410, 460, 510, 560, 610,\n",
       "       660, 710, 760, 810, 860, 910, 960])},\n",
       "                   verbose=True)"
      ]
     },
     "execution_count": 58,
     "metadata": {},
     "output_type": "execute_result"
    }
   ],
   "source": [
    "# Setup random seed\n",
    "np.random.seed(42)\n",
    "\n",
    "# Setup random hyperparameter search for RandomForestClassifer\n",
    "rf_rs = RandomizedSearchCV(RandomForestClassifier(class_weight=class_weights),\n",
    "                           param_distributions=rf_random_grid,\n",
    "                           cv=5,\n",
    "                           verbose=True,\n",
    "                           n_iter=10)\n",
    "\n",
    "# Fitting random hyperparamter search\n",
    "rf_rs.fit(X_train, y_train)"
   ]
  },
  {
   "cell_type": "code",
   "execution_count": 59,
   "id": "4cc9ca71",
   "metadata": {
    "execution": {
     "iopub.execute_input": "2022-01-21T15:28:51.237208Z",
     "iopub.status.busy": "2022-01-21T15:28:51.236550Z",
     "iopub.status.idle": "2022-01-21T15:28:51.241347Z",
     "shell.execute_reply": "2022-01-21T15:28:51.241955Z",
     "shell.execute_reply.started": "2022-01-21T15:09:27.633703Z"
    },
    "papermill": {
     "duration": 0.120222,
     "end_time": "2022-01-21T15:28:51.242125",
     "exception": false,
     "start_time": "2022-01-21T15:28:51.121903",
     "status": "completed"
    },
    "tags": []
   },
   "outputs": [
    {
     "data": {
      "text/plain": [
       "{'n_estimators': 310,\n",
       " 'min_samples_split': 12,\n",
       " 'min_samples_leaf': 5,\n",
       " 'max_depth': None}"
      ]
     },
     "execution_count": 59,
     "metadata": {},
     "output_type": "execute_result"
    }
   ],
   "source": [
    "# Let's Check The Best Parmeters\n",
    "rf_rs.best_params_"
   ]
  },
  {
   "cell_type": "code",
   "execution_count": 60,
   "id": "1a466219",
   "metadata": {
    "execution": {
     "iopub.execute_input": "2022-01-21T15:28:51.468727Z",
     "iopub.status.busy": "2022-01-21T15:28:51.468134Z",
     "iopub.status.idle": "2022-01-21T15:28:51.641476Z",
     "shell.execute_reply": "2022-01-21T15:28:51.640918Z",
     "shell.execute_reply.started": "2022-01-21T15:09:27.641613Z"
    },
    "papermill": {
     "duration": 0.287779,
     "end_time": "2022-01-21T15:28:51.641611",
     "exception": false,
     "start_time": "2022-01-21T15:28:51.353832",
     "status": "completed"
    },
    "tags": []
   },
   "outputs": [
    {
     "data": {
      "text/plain": [
       "0.9341763942931258"
      ]
     },
     "execution_count": 60,
     "metadata": {},
     "output_type": "execute_result"
    }
   ],
   "source": [
    "# Let's Score the Tunned model\n",
    "rf_rs.score(X_test, y_test)"
   ]
  },
  {
   "cell_type": "code",
   "execution_count": 61,
   "id": "55c1d928",
   "metadata": {
    "execution": {
     "iopub.execute_input": "2022-01-21T15:28:51.870830Z",
     "iopub.status.busy": "2022-01-21T15:28:51.870175Z",
     "iopub.status.idle": "2022-01-21T15:28:51.874736Z",
     "shell.execute_reply": "2022-01-21T15:28:51.875240Z",
     "shell.execute_reply.started": "2022-01-21T15:09:27.833914Z"
    },
    "papermill": {
     "duration": 0.119878,
     "end_time": "2022-01-21T15:28:51.875405",
     "exception": false,
     "start_time": "2022-01-21T15:28:51.755527",
     "status": "completed"
    },
    "tags": []
   },
   "outputs": [
    {
     "data": {
      "text/plain": [
       "{'Logistic Regression': 0.6076523994811932,\n",
       " 'KNN': 0.9315823605706874,\n",
       " 'Random Forest Classifier': 0.937094682230869,\n",
       " 'XGboost': 0.9536316472114138}"
      ]
     },
     "execution_count": 61,
     "metadata": {},
     "output_type": "execute_result"
    }
   ],
   "source": [
    "# Let's compare it default Models score\n",
    "model_score"
   ]
  },
  {
   "cell_type": "markdown",
   "id": "3d6bd40f",
   "metadata": {
    "papermill": {
     "duration": 0.111162,
     "end_time": "2022-01-21T15:28:52.098054",
     "exception": false,
     "start_time": "2022-01-21T15:28:51.986892",
     "status": "completed"
    },
    "tags": []
   },
   "source": [
    "## Let's use GridSearchCV for hyperparameter tunning"
   ]
  },
  {
   "cell_type": "code",
   "execution_count": 62,
   "id": "e21285f3",
   "metadata": {
    "execution": {
     "iopub.execute_input": "2022-01-21T15:28:52.326279Z",
     "iopub.status.busy": "2022-01-21T15:28:52.325644Z",
     "iopub.status.idle": "2022-01-21T15:29:14.115028Z",
     "shell.execute_reply": "2022-01-21T15:29:14.115503Z",
     "shell.execute_reply.started": "2022-01-21T15:09:27.844764Z"
    },
    "papermill": {
     "duration": 21.904615,
     "end_time": "2022-01-21T15:29:14.115685",
     "exception": false,
     "start_time": "2022-01-21T15:28:52.211070",
     "status": "completed"
    },
    "tags": []
   },
   "outputs": [
    {
     "name": "stdout",
     "output_type": "stream",
     "text": [
      "Fitting 20 folds for each of 30 candidates, totalling 600 fits\n"
     ]
    },
    {
     "name": "stderr",
     "output_type": "stream",
     "text": [
      "[Parallel(n_jobs=-1)]: Using backend LokyBackend with 4 concurrent workers.\n",
      "[Parallel(n_jobs=-1)]: Done  48 tasks      | elapsed:    3.7s\n",
      "[Parallel(n_jobs=-1)]: Done 593 out of 600 | elapsed:   21.4s remaining:    0.3s\n",
      "[Parallel(n_jobs=-1)]: Done 600 out of 600 | elapsed:   21.7s finished\n"
     ]
    },
    {
     "data": {
      "text/plain": [
       "GridSearchCV(cv=20,\n",
       "             estimator=LogisticRegression(class_weight={0: 0.531266149870801,\n",
       "                                                        1: 8.49586776859504}),\n",
       "             n_jobs=-1,\n",
       "             param_grid={'C': array([1.00000000e-04, 1.88739182e-04, 3.56224789e-04, 6.72335754e-04,\n",
       "       1.26896100e-03, 2.39502662e-03, 4.52035366e-03, 8.53167852e-03,\n",
       "       1.61026203e-02, 3.03919538e-02, 5.73615251e-02, 1.08263673e-01,\n",
       "       2.04335972e-01, 3.85662042e-01, 7.27895384e-01, 1.37382380e+00,\n",
       "       2.59294380e+00, 4.89390092e+00, 9.23670857e+00, 1.74332882e+01,\n",
       "       3.29034456e+01, 6.21016942e+01, 1.17210230e+02, 2.21221629e+02,\n",
       "       4.17531894e+02, 7.88046282e+02, 1.48735211e+03, 2.80721620e+03,\n",
       "       5.29831691e+03, 1.00000000e+04]),\n",
       "                         'solver': ['liblinear']},\n",
       "             verbose=True)"
      ]
     },
     "execution_count": 62,
     "metadata": {},
     "output_type": "execute_result"
    }
   ],
   "source": [
    "# Setup random seed\n",
    "np.random.seed(42)\n",
    "\n",
    "# Different  LogisticRegression Hyperparameter\n",
    "log_reg_grid = {\"C\": np.logspace(-4,4,30),\n",
    "              \"solver\": [\"liblinear\"]}\n",
    "\n",
    "# Setup Grid Search for LogisticRegression\n",
    "gs_log_reg = GridSearchCV(LogisticRegression(class_weight=class_weights),\n",
    "                          param_grid=log_reg_grid,\n",
    "                          cv = 20,\n",
    "                          n_jobs=-1,\n",
    "                          verbose=True)\n",
    "\n",
    "# Fit the GridSearch instance\n",
    "gs_log_reg.fit(X_test, y_test)"
   ]
  },
  {
   "cell_type": "code",
   "execution_count": 63,
   "id": "20bff10b",
   "metadata": {
    "execution": {
     "iopub.execute_input": "2022-01-21T15:29:14.349683Z",
     "iopub.status.busy": "2022-01-21T15:29:14.348864Z",
     "iopub.status.idle": "2022-01-21T15:29:14.352083Z",
     "shell.execute_reply": "2022-01-21T15:29:14.352556Z",
     "shell.execute_reply.started": "2022-01-21T15:09:50.859974Z"
    },
    "papermill": {
     "duration": 0.124406,
     "end_time": "2022-01-21T15:29:14.352722",
     "exception": false,
     "start_time": "2022-01-21T15:29:14.228316",
     "status": "completed"
    },
    "tags": []
   },
   "outputs": [
    {
     "data": {
      "text/plain": [
       "{'C': 0.01610262027560939, 'solver': 'liblinear'}"
      ]
     },
     "execution_count": 63,
     "metadata": {},
     "output_type": "execute_result"
    }
   ],
   "source": [
    "# Let's Check The Best Parameters\n",
    "gs_log_reg.best_params_"
   ]
  },
  {
   "cell_type": "code",
   "execution_count": 64,
   "id": "27d4ca30",
   "metadata": {
    "execution": {
     "iopub.execute_input": "2022-01-21T15:29:14.593505Z",
     "iopub.status.busy": "2022-01-21T15:29:14.592332Z",
     "iopub.status.idle": "2022-01-21T15:29:14.601201Z",
     "shell.execute_reply": "2022-01-21T15:29:14.602199Z",
     "shell.execute_reply.started": "2022-01-21T15:09:50.873869Z"
    },
    "papermill": {
     "duration": 0.132098,
     "end_time": "2022-01-21T15:29:14.602464",
     "exception": false,
     "start_time": "2022-01-21T15:29:14.470366",
     "status": "completed"
    },
    "tags": []
   },
   "outputs": [
    {
     "data": {
      "text/plain": [
       "0.688715953307393"
      ]
     },
     "execution_count": 64,
     "metadata": {},
     "output_type": "execute_result"
    }
   ],
   "source": [
    "# Let's score the grid search model of logistic Regression\n",
    "gs_log_reg.score(X_test,y_test)"
   ]
  },
  {
   "cell_type": "markdown",
   "id": "46007e7d",
   "metadata": {
    "papermill": {
     "duration": 0.115424,
     "end_time": "2022-01-21T15:29:14.885912",
     "exception": false,
     "start_time": "2022-01-21T15:29:14.770488",
     "status": "completed"
    },
    "tags": []
   },
   "source": [
    "> Now we can say that Logistic Regression is not the best model for our dataset"
   ]
  },
  {
   "cell_type": "markdown",
   "id": "5ef2753a",
   "metadata": {
    "papermill": {
     "duration": 0.114155,
     "end_time": "2022-01-21T15:29:15.114720",
     "exception": false,
     "start_time": "2022-01-21T15:29:15.000565",
     "status": "completed"
    },
    "tags": []
   },
   "source": [
    "## Let's work with XGboost Classifier and see if we can get overall best score"
   ]
  },
  {
   "cell_type": "code",
   "execution_count": 65,
   "id": "8bf2afdd",
   "metadata": {
    "execution": {
     "iopub.execute_input": "2022-01-21T15:29:15.347586Z",
     "iopub.status.busy": "2022-01-21T15:29:15.346849Z",
     "iopub.status.idle": "2022-01-21T15:29:15.350277Z",
     "shell.execute_reply": "2022-01-21T15:29:15.350740Z",
     "shell.execute_reply.started": "2022-01-21T15:09:50.895617Z"
    },
    "papermill": {
     "duration": 0.123795,
     "end_time": "2022-01-21T15:29:15.350933",
     "exception": false,
     "start_time": "2022-01-21T15:29:15.227138",
     "status": "completed"
    },
    "tags": []
   },
   "outputs": [],
   "source": [
    "# Let's Create  a dictionary with random Parameters for all XGBoostClassifier parameters\n",
    "space={\n",
    "    'objective': 'binary:logistic', \n",
    "    'use_label_encoder': False, \n",
    "    'base_score': 0.5,\n",
    "    'booster': 'gbtree',\n",
    "    'colsample_bylevel' : 1,\n",
    "    'colsample_bynode' : 1,\n",
    "    'colsample_bytree' : 1,\n",
    "    'enable_categorical': False,\n",
    "    'gamma': hp.uniform('gamma', 0,10),\n",
    "    'gpu_id': -1,\n",
    "    'importance_type': None,\n",
    "    'interaction_constraints': '', \n",
    "    'learning_rate': 0.300000012, \n",
    "    'max_delta_step': 0,\n",
    "    'max_depth': hp.randint(\"max_depth\", 10)+3,\n",
    "    'min_child_weight' : hp.randint('min_child_weight', 4)+1,\n",
    "    'monotone_constraints': '()',\n",
    "    'n_estimators': hp.randint('n_estimators', 150)+50,\n",
    "    'n_jobs': -1,\n",
    "    'num_parallel_tree':1, \n",
    "    'predictor':'auto', \n",
    "    'random_state': 0,\n",
    "    'reg_alpha' : hp.randint('reg_alpha', 10),\n",
    "    'reg_lambda' : hp.randint('reg_lambda', 10),\n",
    "    'scale_pos_weight': 1,\n",
    "    'subsample': 1,\n",
    "    'tree_method': 'exact',\n",
    "    'validate_parameters':1,\n",
    "    'verbosity': None,\n",
    "    'eval_metric': 'aucpr'\n",
    "    }"
   ]
  },
  {
   "cell_type": "code",
   "execution_count": 66,
   "id": "f185cd1d",
   "metadata": {
    "execution": {
     "iopub.execute_input": "2022-01-21T15:29:15.587038Z",
     "iopub.status.busy": "2022-01-21T15:29:15.586291Z",
     "iopub.status.idle": "2022-01-21T15:29:15.591658Z",
     "shell.execute_reply": "2022-01-21T15:29:15.592188Z",
     "shell.execute_reply.started": "2022-01-21T15:09:50.915994Z"
    },
    "papermill": {
     "duration": 0.127017,
     "end_time": "2022-01-21T15:29:15.592359",
     "exception": false,
     "start_time": "2022-01-21T15:29:15.465342",
     "status": "completed"
    },
    "tags": []
   },
   "outputs": [],
   "source": [
    "# Let's Define a function for our Space Dictionary and train our model\n",
    "def objective(space):\n",
    "    clf_model= XGBClassifier(**space)\n",
    "    \n",
    "    evaluation = [( X_train, y_train), ( X_test, y_test)]\n",
    "    \n",
    "    clf_model.fit(X_train, y_train,\n",
    "            eval_set=evaluation, eval_metric=\"auc\",\n",
    "            early_stopping_rounds=10,verbose=False)\n",
    "    \n",
    "\n",
    "    pred = clf_model.predict(X_test)\n",
    "    accuracy = accuracy_score(y_test, pred>0.5)\n",
    "    print (\"SCORE:\", accuracy)\n",
    "    return {'loss': -accuracy, 'status': STATUS_OK }"
   ]
  },
  {
   "cell_type": "code",
   "execution_count": 67,
   "id": "6af0fc54",
   "metadata": {
    "execution": {
     "iopub.execute_input": "2022-01-21T15:29:15.838241Z",
     "iopub.status.busy": "2022-01-21T15:29:15.835148Z",
     "iopub.status.idle": "2022-01-21T15:30:59.672051Z",
     "shell.execute_reply": "2022-01-21T15:30:59.672555Z",
     "shell.execute_reply.started": "2022-01-21T15:09:50.932807Z"
    },
    "papermill": {
     "duration": 103.962282,
     "end_time": "2022-01-21T15:30:59.672761",
     "exception": false,
     "start_time": "2022-01-21T15:29:15.710479",
     "status": "completed"
    },
    "tags": []
   },
   "outputs": [
    {
     "name": "stdout",
     "output_type": "stream",
     "text": [
      "SCORE:\n",
      "0.9390402075226978\n",
      "SCORE:\n",
      "0.9361219195849546\n",
      "SCORE:\n",
      "0.9461738002594033\n",
      "SCORE:\n",
      "0.9390402075226978\n",
      "SCORE:\n",
      "0.9361219195849546\n",
      "SCORE:\n",
      "0.945201037613489\n",
      "SCORE:\n",
      "0.9390402075226978\n",
      "SCORE:\n",
      "0.9361219195849546\n",
      "SCORE:\n",
      "0.9416342412451362\n",
      "SCORE:\n",
      "0.9377431906614786\n",
      "SCORE:\n",
      "0.9361219195849546\n",
      "SCORE:\n",
      "0.9396887159533074\n",
      "SCORE:\n",
      "0.9390402075226978\n",
      "SCORE:\n",
      "0.9361219195849546\n",
      "SCORE:\n",
      "0.941958495460441\n",
      "SCORE:\n",
      "0.9361219195849546\n",
      "SCORE:\n",
      "0.9377431906614786\n",
      "SCORE:\n",
      "0.9361219195849546\n",
      "SCORE:\n",
      "0.9507133592736705\n",
      "SCORE:\n",
      "0.9361219195849546\n",
      "SCORE:\n",
      "0.9552529182879378\n",
      "SCORE:\n",
      "0.9503891050583657\n",
      "SCORE:\n",
      "0.9445525291828794\n",
      "SCORE:\n",
      "0.9523346303501945\n",
      "SCORE:\n",
      "0.9494163424124513\n",
      "SCORE:\n",
      "0.9474708171206225\n",
      "SCORE:\n",
      "0.9442282749675746\n",
      "SCORE:\n",
      "0.9520103761348897\n",
      "SCORE:\n",
      "0.9374189364461738\n",
      "SCORE:\n",
      "0.9361219195849546\n",
      "SCORE:\n",
      "0.954928664072633\n",
      "SCORE:\n",
      "0.9490920881971465\n",
      "SCORE:\n",
      "0.9390402075226978\n",
      "SCORE:\n",
      "0.9542801556420234\n",
      "SCORE:\n",
      "0.9390402075226978\n",
      "SCORE:\n",
      "0.943579766536965\n",
      "SCORE:\n",
      "0.9390402075226978\n",
      "SCORE:\n",
      "0.9422827496757458\n",
      "SCORE:\n",
      "0.9361219195849546\n",
      "SCORE:\n",
      "0.9526588845654993\n",
      "SCORE:\n",
      "0.9487678339818417\n",
      "SCORE:\n",
      "0.9487678339818417\n",
      "SCORE:\n",
      "0.937094682230869\n",
      "SCORE:\n",
      "0.9439040207522698\n",
      "SCORE:\n",
      "0.9390402075226978\n",
      "SCORE:\n",
      "0.9390402075226978\n",
      "SCORE:\n",
      "0.9520103761348897\n",
      "SCORE:\n",
      "0.9361219195849546\n",
      "SCORE:\n",
      "0.9361219195849546\n",
      "SCORE:\n",
      "0.9516861219195849\n",
      "SCORE:\n",
      "0.9383916990920882\n",
      "SCORE:\n",
      "0.9455252918287937\n",
      "SCORE:\n",
      "0.9361219195849546\n",
      "SCORE:\n",
      "0.9442282749675746\n",
      "SCORE:\n",
      "0.9507133592736705\n",
      "SCORE:\n",
      "0.9481193255512321\n",
      "SCORE:\n",
      "0.9390402075226978\n",
      "SCORE:\n",
      "0.954928664072633\n",
      "SCORE:\n",
      "0.9432555123216602\n",
      "SCORE:\n",
      "0.9439040207522698\n",
      "SCORE:\n",
      "0.9396887159533074\n",
      "SCORE:\n",
      "0.9361219195849546\n",
      "SCORE:\n",
      "0.9390402075226978\n",
      "SCORE:\n",
      "0.9507133592736705\n",
      "SCORE:\n",
      "0.9390402075226978\n",
      "SCORE:\n",
      "0.9477950713359273\n",
      "SCORE:\n",
      "0.9520103761348897\n",
      "SCORE:\n",
      "0.9520103761348897\n",
      "SCORE:\n",
      "0.9520103761348897\n",
      "SCORE:\n",
      "0.9416342412451362\n",
      "SCORE:\n",
      "0.9510376134889753\n",
      "SCORE:\n",
      "0.9458495460440985\n",
      "SCORE:\n",
      "0.9396887159533074\n",
      "SCORE:\n",
      "0.9377431906614786\n",
      "SCORE:\n",
      "0.9481193255512321\n",
      "SCORE:\n",
      "0.9497405966277561\n",
      "SCORE:\n",
      "0.9413099870298314\n",
      "SCORE:\n",
      "0.9513618677042801\n",
      "SCORE:\n",
      "0.9390402075226978\n",
      "SCORE:\n",
      "0.9409857328145266\n",
      "SCORE:\n",
      "0.9455252918287937\n",
      "SCORE:\n",
      "0.9393644617380026\n",
      "SCORE:\n",
      "0.9442282749675746\n",
      "SCORE:\n",
      "0.9429312581063554\n",
      "SCORE:\n",
      "0.9390402075226978\n",
      "SCORE:\n",
      "0.9507133592736705\n",
      "SCORE:\n",
      "0.9487678339818417\n",
      "SCORE:\n",
      "0.9461738002594033\n",
      "SCORE:\n",
      "0.945201037613489\n",
      "SCORE:\n",
      "0.9400129701686122\n",
      "SCORE:\n",
      "0.9507133592736705\n",
      "SCORE:\n",
      "0.9367704280155642\n",
      "SCORE:\n",
      "0.9500648508430609\n",
      "SCORE:\n",
      "0.9413099870298314\n",
      "SCORE:\n",
      "0.9390402075226978\n",
      "SCORE:\n",
      "0.9503891050583657\n",
      "SCORE:\n",
      "0.9390402075226978\n",
      "SCORE:\n",
      "0.9361219195849546\n",
      "SCORE:\n",
      "0.9468223086900129\n",
      "SCORE:\n",
      "0.9477950713359273\n",
      "100%|██████████| 100/100 [01:43<00:00,  1.04s/trial, best loss: -0.9552529182879378]\n"
     ]
    }
   ],
   "source": [
    "trials = Trials()\n",
    "best_hyperparams = fmin(fn = objective,\n",
    "                        space = space,\n",
    "                        algo = tpe.suggest,\n",
    "                        max_evals = 100,\n",
    "                        trials = trials)"
   ]
  },
  {
   "cell_type": "code",
   "execution_count": 68,
   "id": "2df62efc",
   "metadata": {
    "execution": {
     "iopub.execute_input": "2022-01-21T15:31:00.320838Z",
     "iopub.status.busy": "2022-01-21T15:31:00.319983Z",
     "iopub.status.idle": "2022-01-21T15:31:00.323282Z",
     "shell.execute_reply": "2022-01-21T15:31:00.323767Z",
     "shell.execute_reply.started": "2022-01-21T15:11:50.221249Z"
    },
    "papermill": {
     "duration": 0.33264,
     "end_time": "2022-01-21T15:31:00.323946",
     "exception": false,
     "start_time": "2022-01-21T15:30:59.991306",
     "status": "completed"
    },
    "tags": []
   },
   "outputs": [
    {
     "data": {
      "text/plain": [
       "{'gamma': 1.3119030461351664,\n",
       " 'max_depth': 7,\n",
       " 'min_child_weight': 1,\n",
       " 'n_estimators': 58,\n",
       " 'reg_alpha': 2,\n",
       " 'reg_lambda': 0}"
      ]
     },
     "execution_count": 68,
     "metadata": {},
     "output_type": "execute_result"
    }
   ],
   "source": [
    "# Let's Check the best hyperparameters\n",
    "best_hyperparams"
   ]
  },
  {
   "cell_type": "code",
   "execution_count": 69,
   "id": "aa5d156f",
   "metadata": {
    "execution": {
     "iopub.execute_input": "2022-01-21T15:31:00.975766Z",
     "iopub.status.busy": "2022-01-21T15:31:00.974710Z",
     "iopub.status.idle": "2022-01-21T15:31:00.985630Z",
     "shell.execute_reply": "2022-01-21T15:31:00.984994Z",
     "shell.execute_reply.started": "2022-01-21T15:11:50.229756Z"
    },
    "papermill": {
     "duration": 0.340066,
     "end_time": "2022-01-21T15:31:00.985808",
     "exception": false,
     "start_time": "2022-01-21T15:31:00.645742",
     "status": "completed"
    },
    "tags": []
   },
   "outputs": [
    {
     "name": "stdout",
     "output_type": "stream",
     "text": [
      "{'objective': 'binary:logistic', 'use_label_encoder': False, 'base_score': 0.5, 'booster': 'gbtree', 'colsample_bylevel': 1, 'colsample_bynode': 1, 'colsample_bytree': 1, 'enable_categorical': False, 'gamma': 1.3119030461351664, 'gpu_id': -1, 'importance_type': None, 'interaction_constraints': '', 'learning_rate': 0.300000012, 'max_delta_step': 0, 'max_depth': 7, 'min_child_weight': 1, 'missing': nan, 'monotone_constraints': '()', 'n_estimators': 58, 'n_jobs': 4, 'num_parallel_tree': 1, 'predictor': 'auto', 'random_state': 0, 'reg_alpha': 2, 'reg_lambda': 0, 'scale_pos_weight': 1, 'subsample': 1, 'tree_method': 'exact', 'validate_parameters': 1, 'verbosity': None, 'eval_metric': 'aucpr'}\n"
     ]
    }
   ],
   "source": [
    "# Let's Create The optimized model with best hyperparameters of XGboost Classifier\n",
    "clf_model_optimizied = XGBClassifier(\n",
    "    objective= 'binary:logistic', \n",
    "    use_label_encoder= False, \n",
    "    base_score= 0.5, \n",
    "    booster= 'gbtree', \n",
    "    colsample_bylevel= 1, \n",
    "    colsample_bynode= 1, \n",
    "    colsample_bytree= 1, \n",
    "    enable_categorical= False, \n",
    "    gamma= best_hyperparams['gamma'], \n",
    "    gpu_id= -1, \n",
    "    importance_type= None, \n",
    "    interaction_constraints= '', \n",
    "    learning_rate= 0.300000012, \n",
    "    max_delta_step= 0, \n",
    "    max_depth= best_hyperparams['max_depth'], \n",
    "    min_child_weight= best_hyperparams['min_child_weight'], \n",
    "    monotone_constraints= '()',\n",
    "    n_estimators= best_hyperparams['n_estimators'], \n",
    "    n_jobs= 4, \n",
    "    num_parallel_tree= 1, \n",
    "    predictor= 'auto', \n",
    "    random_state= 0, \n",
    "    reg_alpha= best_hyperparams['reg_alpha'], \n",
    "    reg_lambda= best_hyperparams['reg_lambda'], \n",
    "    scale_pos_weight= 1, \n",
    "    subsample= 1, \n",
    "    tree_method= 'exact', \n",
    "    validate_parameters= 1, \n",
    "    verbosity= None, \n",
    "    eval_metric= 'aucpr'\n",
    ")\n",
    "print(clf_model_optimizied.get_params())"
   ]
  },
  {
   "cell_type": "code",
   "execution_count": 70,
   "id": "7537c0a7",
   "metadata": {
    "execution": {
     "iopub.execute_input": "2022-01-21T15:31:01.630382Z",
     "iopub.status.busy": "2022-01-21T15:31:01.629665Z",
     "iopub.status.idle": "2022-01-21T15:31:02.496700Z",
     "shell.execute_reply": "2022-01-21T15:31:02.496098Z",
     "shell.execute_reply.started": "2022-01-21T15:11:50.246173Z"
    },
    "papermill": {
     "duration": 1.190956,
     "end_time": "2022-01-21T15:31:02.496861",
     "exception": false,
     "start_time": "2022-01-21T15:31:01.305905",
     "status": "completed"
    },
    "tags": []
   },
   "outputs": [],
   "source": [
    "# Let's Fit our optimized model\n",
    "xgb_model = clf_model_optimizied.fit(X_train, y_train)"
   ]
  },
  {
   "cell_type": "code",
   "execution_count": 71,
   "id": "87246abb",
   "metadata": {
    "execution": {
     "iopub.execute_input": "2022-01-21T15:31:03.147854Z",
     "iopub.status.busy": "2022-01-21T15:31:03.147187Z",
     "iopub.status.idle": "2022-01-21T15:31:03.172282Z",
     "shell.execute_reply": "2022-01-21T15:31:03.172803Z",
     "shell.execute_reply.started": "2022-01-21T15:11:54.267955Z"
    },
    "papermill": {
     "duration": 0.355393,
     "end_time": "2022-01-21T15:31:03.172976",
     "exception": false,
     "start_time": "2022-01-21T15:31:02.817583",
     "status": "completed"
    },
    "tags": []
   },
   "outputs": [
    {
     "data": {
      "text/plain": [
       "array([0, 0, 0, ..., 0, 0, 0])"
      ]
     },
     "execution_count": 71,
     "metadata": {},
     "output_type": "execute_result"
    }
   ],
   "source": [
    "# Let's Predict on our Optimized model\n",
    "y_preds = xgb_model.predict(X_test)\n",
    "y_preds"
   ]
  },
  {
   "cell_type": "markdown",
   "id": "6eccfbe2",
   "metadata": {
    "papermill": {
     "duration": 0.320807,
     "end_time": "2022-01-21T15:31:03.814825",
     "exception": false,
     "start_time": "2022-01-21T15:31:03.494018",
     "status": "completed"
    },
    "tags": []
   },
   "source": [
    "## Evaluating our tunned machine learning classifier, beyond accuracy \n",
    "\n",
    "* ROC curve and AUC Score\n",
    "* Confusion matrix\n",
    "* Classification report \n",
    "* Precision \n",
    "* Recall\n",
    "* F1-Score\n",
    "\n",
    "and it would be great if Cross-validation used if possible"
   ]
  },
  {
   "cell_type": "code",
   "execution_count": 72,
   "id": "caad9ff4",
   "metadata": {
    "execution": {
     "iopub.execute_input": "2022-01-21T15:31:04.469171Z",
     "iopub.status.busy": "2022-01-21T15:31:04.467295Z",
     "iopub.status.idle": "2022-01-21T15:31:04.908988Z",
     "shell.execute_reply": "2022-01-21T15:31:04.908366Z",
     "shell.execute_reply.started": "2022-01-21T15:11:54.295430Z"
    },
    "papermill": {
     "duration": 0.767846,
     "end_time": "2022-01-21T15:31:04.909145",
     "exception": false,
     "start_time": "2022-01-21T15:31:04.141299",
     "status": "completed"
    },
    "tags": []
   },
   "outputs": [
    {
     "data": {
      "image/png": "[encoded data removed]",
      "text/plain": [
       "<Figure size 432x288 with 1 Axes>"
      ]
     },
     "metadata": {},
     "output_type": "display_data"
    }
   ],
   "source": [
    "# Let's plot ROC Curve and calculate the AUC metric\n",
    "plot_roc_curve(xgb_model, X_test,y_test);"
   ]
  },
  {
   "cell_type": "code",
   "execution_count": 73,
   "id": "96b3a882",
   "metadata": {
    "execution": {
     "iopub.execute_input": "2022-01-21T15:31:05.628226Z",
     "iopub.status.busy": "2022-01-21T15:31:05.627588Z",
     "iopub.status.idle": "2022-01-21T15:31:05.637260Z",
     "shell.execute_reply": "2022-01-21T15:31:05.638138Z",
     "shell.execute_reply.started": "2022-01-21T15:11:54.621604Z"
    },
    "papermill": {
     "duration": 0.338965,
     "end_time": "2022-01-21T15:31:05.638313",
     "exception": false,
     "start_time": "2022-01-21T15:31:05.299348",
     "status": "completed"
    },
    "tags": []
   },
   "outputs": [
    {
     "name": "stdout",
     "output_type": "stream",
     "text": [
      "[[2870   17]\n",
      " [ 131   66]]\n"
     ]
    }
   ],
   "source": [
    "print(confusion_matrix(y_test,y_preds))"
   ]
  },
  {
   "cell_type": "code",
   "execution_count": 74,
   "id": "f3ba2d5b",
   "metadata": {
    "execution": {
     "iopub.execute_input": "2022-01-21T15:31:06.349249Z",
     "iopub.status.busy": "2022-01-21T15:31:06.348213Z",
     "iopub.status.idle": "2022-01-21T15:31:06.360064Z",
     "shell.execute_reply": "2022-01-21T15:31:06.360752Z",
     "shell.execute_reply.started": "2022-01-21T15:11:54.638369Z"
    },
    "papermill": {
     "duration": 0.352991,
     "end_time": "2022-01-21T15:31:06.360991",
     "exception": false,
     "start_time": "2022-01-21T15:31:06.008000",
     "status": "completed"
    },
    "tags": []
   },
   "outputs": [
    {
     "name": "stdout",
     "output_type": "stream",
     "text": [
      "              precision    recall  f1-score   support\n",
      "\n",
      "           0       0.96      0.99      0.97      2887\n",
      "           1       0.80      0.34      0.47       197\n",
      "\n",
      "    accuracy                           0.95      3084\n",
      "   macro avg       0.88      0.66      0.72      3084\n",
      "weighted avg       0.95      0.95      0.94      3084\n",
      "\n"
     ]
    }
   ],
   "source": [
    "print(classification_report(y_test,y_preds));"
   ]
  },
  {
   "cell_type": "code",
   "execution_count": 75,
   "id": "24f61437",
   "metadata": {
    "execution": {
     "iopub.execute_input": "2022-01-21T15:31:07.025510Z",
     "iopub.status.busy": "2022-01-21T15:31:07.024527Z",
     "iopub.status.idle": "2022-01-21T15:31:07.250091Z",
     "shell.execute_reply": "2022-01-21T15:31:07.250593Z",
     "shell.execute_reply.started": "2022-01-21T15:11:54.654493Z"
    },
    "papermill": {
     "duration": 0.561511,
     "end_time": "2022-01-21T15:31:07.250761",
     "exception": false,
     "start_time": "2022-01-21T15:31:06.689250",
     "status": "completed"
    },
    "tags": []
   },
   "outputs": [
    {
     "data": {
      "image/png": "[encoded data removed]",
      "text/plain": [
       "<Figure size 720x432 with 2 Axes>"
      ]
     },
     "metadata": {},
     "output_type": "display_data"
    }
   ],
   "source": [
    "# Let's visualize the confusion matrix\n",
    "\n",
    "def conf_plot(y_test, y_preds):\n",
    "    \"\"\"\n",
    "    Plots a nice looking heatmap on seaborn\n",
    "    \"\"\"\n",
    "    fix, ax = plt.subplots(figsize=(10,6))\n",
    "    ax = sns.heatmap(confusion_matrix(y_test, y_preds),\n",
    "                     annot=True,\n",
    "                     cbar=True,\n",
    "                     fmt=\"g\");\n",
    "    plt.xlabel(\"Predicted Labels\")\n",
    "    plt.ylabel(\"True Labels\")\n",
    "\n",
    "conf_plot(y_test, y_preds)  "
   ]
  },
  {
   "cell_type": "markdown",
   "id": "47a3c792",
   "metadata": {
    "papermill": {
     "duration": 0.333774,
     "end_time": "2022-01-21T15:31:07.915214",
     "exception": false,
     "start_time": "2022-01-21T15:31:07.581440",
     "status": "completed"
    },
    "tags": []
   },
   "source": [
    "## Let's calculate the evaluation matrix using cross-validation\n",
    "\n",
    "#### We're going to calculate Accuracy, precision, recall, and f1-score of our model using cross-validattion and to do so we'll \n",
    "\n",
    "#### be using `cross_val_score()`"
   ]
  },
  {
   "cell_type": "code",
   "execution_count": 76,
   "id": "05ce4a51",
   "metadata": {
    "execution": {
     "iopub.execute_input": "2022-01-21T15:31:08.580431Z",
     "iopub.status.busy": "2022-01-21T15:31:08.579754Z",
     "iopub.status.idle": "2022-01-21T15:31:08.586129Z",
     "shell.execute_reply": "2022-01-21T15:31:08.586676Z",
     "shell.execute_reply.started": "2022-01-21T15:11:54.950636Z"
    },
    "papermill": {
     "duration": 0.340394,
     "end_time": "2022-01-21T15:31:08.586860",
     "exception": false,
     "start_time": "2022-01-21T15:31:08.246466",
     "status": "completed"
    },
    "tags": []
   },
   "outputs": [
    {
     "data": {
      "text/plain": [
       "{'objective': 'binary:logistic',\n",
       " 'use_label_encoder': False,\n",
       " 'base_score': 0.5,\n",
       " 'booster': 'gbtree',\n",
       " 'colsample_bylevel': 1,\n",
       " 'colsample_bynode': 1,\n",
       " 'colsample_bytree': 1,\n",
       " 'enable_categorical': False,\n",
       " 'gamma': 1.3119030461351664,\n",
       " 'gpu_id': -1,\n",
       " 'importance_type': None,\n",
       " 'interaction_constraints': '',\n",
       " 'learning_rate': 0.300000012,\n",
       " 'max_delta_step': 0,\n",
       " 'max_depth': 7,\n",
       " 'min_child_weight': 1,\n",
       " 'missing': nan,\n",
       " 'monotone_constraints': '()',\n",
       " 'n_estimators': 58,\n",
       " 'n_jobs': 4,\n",
       " 'num_parallel_tree': 1,\n",
       " 'predictor': 'auto',\n",
       " 'random_state': 0,\n",
       " 'reg_alpha': 2,\n",
       " 'reg_lambda': 0,\n",
       " 'scale_pos_weight': 1,\n",
       " 'subsample': 1,\n",
       " 'tree_method': 'exact',\n",
       " 'validate_parameters': 1,\n",
       " 'verbosity': None,\n",
       " 'eval_metric': 'aucpr'}"
      ]
     },
     "execution_count": 76,
     "metadata": {},
     "output_type": "execute_result"
    }
   ],
   "source": [
    "# Checking the best_parameters\n",
    "xgb_model.get_params()"
   ]
  },
  {
   "cell_type": "code",
   "execution_count": 77,
   "id": "11ecf55b",
   "metadata": {
    "execution": {
     "iopub.execute_input": "2022-01-21T15:31:09.253291Z",
     "iopub.status.busy": "2022-01-21T15:31:09.247551Z",
     "iopub.status.idle": "2022-01-21T15:31:09.256305Z",
     "shell.execute_reply": "2022-01-21T15:31:09.255672Z",
     "shell.execute_reply.started": "2022-01-21T15:11:54.964996Z"
    },
    "papermill": {
     "duration": 0.342209,
     "end_time": "2022-01-21T15:31:09.256465",
     "exception": false,
     "start_time": "2022-01-21T15:31:08.914256",
     "status": "completed"
    },
    "tags": []
   },
   "outputs": [],
   "source": [
    "# Creating a new classifier with best parameters\n",
    "\n",
    "final_clf_xgb = XGBClassifier(objective= 'binary:logistic', \n",
    "                              use_label_encoder= False, \n",
    "                              base_score= 0.5, \n",
    "                              booster= 'gbtree', \n",
    "                              colsample_bylevel= 1, \n",
    "                              colsample_bynode= 1, \n",
    "                              colsample_bytree= 1, \n",
    "                              enable_categorical= False, \n",
    "                              gamma= best_hyperparams['gamma'], \n",
    "                              gpu_id= -1, \n",
    "                              importance_type= None, \n",
    "                              interaction_constraints= '', \n",
    "                              learning_rate= 0.300000012, \n",
    "                              max_delta_step= 0, \n",
    "                              max_depth= 8, \n",
    "                              min_child_weight= 0, \n",
    "                              monotone_constraints= '()',\n",
    "                              n_estimators= 41, \n",
    "                              n_jobs= 4, \n",
    "                              num_parallel_tree= 1, \n",
    "                              predictor= 'auto', \n",
    "                              random_state= 0, \n",
    "                              reg_alpha= 2, \n",
    "                              reg_lambda= 1, \n",
    "                              scale_pos_weight= 1, \n",
    "                              subsample= 1, \n",
    "                              tree_method= 'exact', \n",
    "                              validate_parameters= 1, \n",
    "                              verbosity= None, \n",
    "                              eval_metric= 'aucpr')"
   ]
  },
  {
   "cell_type": "code",
   "execution_count": 78,
   "id": "3a57e4ab",
   "metadata": {
    "execution": {
     "iopub.execute_input": "2022-01-21T15:31:09.908914Z",
     "iopub.status.busy": "2022-01-21T15:31:09.907907Z",
     "iopub.status.idle": "2022-01-21T15:37:25.741589Z",
     "shell.execute_reply": "2022-01-21T15:37:25.742396Z",
     "shell.execute_reply.started": "2022-01-21T15:11:54.977665Z"
    },
    "papermill": {
     "duration": 376.163514,
     "end_time": "2022-01-21T15:37:25.742693",
     "exception": false,
     "start_time": "2022-01-21T15:31:09.579179",
     "status": "completed"
    },
    "tags": []
   },
   "outputs": [
    {
     "name": "stdout",
     "output_type": "stream",
     "text": [
      "The Accuracy for our XGboost Classifier is:  0.94%\n",
      "The Precision for our XGboost Classifier is:  0.43%\n",
      "The Recall for our XGboost Classifier is:  0.17%\n",
      "The f1-score for our XGboost Classifier is:0.22%\n"
     ]
    }
   ],
   "source": [
    "import warnings\n",
    "warnings.filterwarnings(\"ignore\")\n",
    "\n",
    "# Cross-validated accuracy\n",
    "cv_acc = cross_val_score(final_clf_xgb,\n",
    "                         X,\n",
    "                         y,\n",
    "                         cv=100,\n",
    "                         scoring=\"accuracy\")\n",
    "# Let's take over all mean of the accuracy\n",
    "cv_acc = np.mean(cv_acc)\n",
    "print(f\"The Accuracy for our XGboost Classifier is: {cv_acc : .2f}%\")\n",
    "\n",
    "\n",
    "# Cross-validated Precision\n",
    "cv_precision = cross_val_score(final_clf_xgb,\n",
    "                         X,\n",
    "                         y,\n",
    "                         cv = 100,\n",
    "                         scoring=\"precision\")\n",
    "# Let's take over all mean of the Precision\n",
    "cv_precision = np.mean(cv_precision)\n",
    "print(f\"The Precision for our XGboost Classifier is: {cv_precision : .2f}%\")\n",
    "\n",
    "\n",
    "# Cross-validated Recall\n",
    "cv_recall = cross_val_score(final_clf_xgb,\n",
    "                         X,\n",
    "                         y,\n",
    "                         cv = 100,\n",
    "                         scoring=\"recall\")\n",
    "# Let's take over all mean of the Recall\n",
    "cv_recall = np.mean(cv_recall)\n",
    "print(f\"The Recall for our XGboost Classifier is: {cv_recall : .2f}%\")\n",
    "\n",
    "\n",
    "# Cross-validated f1-score\n",
    "cv_f1 = cross_val_score(final_clf_xgb,\n",
    "                         X,\n",
    "                         y,\n",
    "                         cv = 100,\n",
    "                         scoring=\"f1\")\n",
    "# Let's take over all mean of the Precision\n",
    "cv_f1 = np.mean(cv_f1)\n",
    "print(f\"The f1-score for our XGboost Classifier is:{cv_f1 :.2f}%\")"
   ]
  },
  {
   "cell_type": "code",
   "execution_count": 79,
   "id": "e1089893",
   "metadata": {
    "execution": {
     "iopub.execute_input": "2022-01-21T15:37:26.452956Z",
     "iopub.status.busy": "2022-01-21T15:37:26.452108Z",
     "iopub.status.idle": "2022-01-21T15:37:26.467878Z",
     "shell.execute_reply": "2022-01-21T15:37:26.468502Z",
     "shell.execute_reply.started": "2022-01-21T15:19:17.022832Z"
    },
    "papermill": {
     "duration": 0.373695,
     "end_time": "2022-01-21T15:37:26.468744",
     "exception": false,
     "start_time": "2022-01-21T15:37:26.095049",
     "status": "completed"
    },
    "tags": []
   },
   "outputs": [
    {
     "name": "stdout",
     "output_type": "stream",
     "text": [
      "              precision    recall  f1-score   support\n",
      "\n",
      "           0       0.96      0.99      0.97      2887\n",
      "           1       0.80      0.34      0.47       197\n",
      "\n",
      "    accuracy                           0.95      3084\n",
      "   macro avg       0.88      0.66      0.72      3084\n",
      "weighted avg       0.95      0.95      0.94      3084\n",
      "\n"
     ]
    }
   ],
   "source": [
    "print(classification_report(y_test,y_preds));"
   ]
  },
  {
   "cell_type": "markdown",
   "id": "ed851862",
   "metadata": {
    "papermill": {
     "duration": 0.353997,
     "end_time": "2022-01-21T15:37:27.178205",
     "exception": false,
     "start_time": "2022-01-21T15:37:26.824208",
     "status": "completed"
    },
    "tags": []
   },
   "source": [
    "### The reason Why we have less Accuracy, Precsion, Recall, and f1-score is because we have used cv=100 we can gain more if we increase the number of cv(cross-validation)."
   ]
  },
  {
   "cell_type": "code",
   "execution_count": 80,
   "id": "c8ec063f",
   "metadata": {
    "execution": {
     "iopub.execute_input": "2022-01-21T15:37:27.891132Z",
     "iopub.status.busy": "2022-01-21T15:37:27.889605Z",
     "iopub.status.idle": "2022-01-21T15:37:28.715474Z",
     "shell.execute_reply": "2022-01-21T15:37:28.714344Z",
     "shell.execute_reply.started": "2022-01-21T15:18:38.409053Z"
    },
    "papermill": {
     "duration": 1.187431,
     "end_time": "2022-01-21T15:37:28.715659",
     "exception": false,
     "start_time": "2022-01-21T15:37:27.528228",
     "status": "completed"
    },
    "tags": []
   },
   "outputs": [
    {
     "data": {
      "text/plain": [
       "XGBClassifier(base_score=0.5, booster='gbtree', colsample_bylevel=1,\n",
       "              colsample_bynode=1, colsample_bytree=1, enable_categorical=False,\n",
       "              eval_metric='aucpr', gamma=1.3119030461351664, gpu_id=-1,\n",
       "              importance_type=None, interaction_constraints='',\n",
       "              learning_rate=0.300000012, max_delta_step=0, max_depth=8,\n",
       "              min_child_weight=0, missing=nan, monotone_constraints='()',\n",
       "              n_estimators=41, n_jobs=4, num_parallel_tree=1, predictor='auto',\n",
       "              random_state=0, reg_alpha=2, reg_lambda=1, scale_pos_weight=1,\n",
       "              subsample=1, tree_method='exact', use_label_encoder=False,\n",
       "              validate_parameters=1, verbosity=None)"
      ]
     },
     "execution_count": 80,
     "metadata": {},
     "output_type": "execute_result"
    }
   ],
   "source": [
    "# Let's Fit the final optimized model\n",
    "final_clf_xgb.fit(X_train, y_train)"
   ]
  },
  {
   "cell_type": "code",
   "execution_count": 81,
   "id": "e21c09f4",
   "metadata": {
    "execution": {
     "iopub.execute_input": "2022-01-21T15:37:29.408216Z",
     "iopub.status.busy": "2022-01-21T15:37:29.407168Z",
     "iopub.status.idle": "2022-01-21T15:37:29.416049Z",
     "shell.execute_reply": "2022-01-21T15:37:29.416548Z",
     "shell.execute_reply.started": "2022-01-21T15:18:39.281342Z"
    },
    "papermill": {
     "duration": 0.352562,
     "end_time": "2022-01-21T15:37:29.416741",
     "exception": false,
     "start_time": "2022-01-21T15:37:29.064179",
     "status": "completed"
    },
    "tags": []
   },
   "outputs": [
    {
     "data": {
      "text/plain": [
       "array([0.04293327, 0.01852248, 0.01982655, 0.01515037, 0.02527835,\n",
       "       0.01665062, 0.03662683, 0.01788182, 0.00853795, 0.01381599,\n",
       "       0.02065297, 0.21514466, 0.02559943, 0.        , 0.02056077,\n",
       "       0.04741647, 0.01354041, 0.02574451, 0.01674747, 0.01633176,\n",
       "       0.01207859, 0.01446822, 0.01947848, 0.04747902, 0.01295713,\n",
       "       0.        , 0.        , 0.01868371, 0.04391021, 0.02033884,\n",
       "       0.        , 0.19364305], dtype=float32)"
      ]
     },
     "execution_count": 81,
     "metadata": {},
     "output_type": "execute_result"
    }
   ],
   "source": [
    "# Check coeffeficient eg.(how the independent variables (X_train) contributes to predict target variable (y))\n",
    "final_clf_xgb.feature_importances_"
   ]
  },
  {
   "cell_type": "code",
   "execution_count": 82,
   "id": "93f7e34d",
   "metadata": {
    "execution": {
     "iopub.execute_input": "2022-01-21T15:37:30.115523Z",
     "iopub.status.busy": "2022-01-21T15:37:30.114159Z",
     "iopub.status.idle": "2022-01-21T15:37:30.545277Z",
     "shell.execute_reply": "2022-01-21T15:37:30.544623Z",
     "shell.execute_reply.started": "2022-01-21T15:18:39.295734Z"
    },
    "papermill": {
     "duration": 0.780596,
     "end_time": "2022-01-21T15:37:30.545453",
     "exception": false,
     "start_time": "2022-01-21T15:37:29.764857",
     "status": "completed"
    },
    "tags": []
   },
   "outputs": [
    {
     "data": {
      "image/png": "[encoded data removed]",
      "text/plain": [
       "<Figure size 432x288 with 1 Axes>"
      ]
     },
     "metadata": {},
     "output_type": "display_data"
    }
   ],
   "source": [
    "# Here we will plot the F-Score with Features using XGboost built-in function\n",
    "plot_importance(final_clf_xgb, max_num_features=20);"
   ]
  },
  {
   "cell_type": "code",
   "execution_count": 83,
   "id": "ab7fc691",
   "metadata": {
    "execution": {
     "iopub.execute_input": "2022-01-21T15:37:31.270415Z",
     "iopub.status.busy": "2022-01-21T15:37:31.269362Z",
     "iopub.status.idle": "2022-01-21T15:37:31.276958Z",
     "shell.execute_reply": "2022-01-21T15:37:31.277803Z",
     "shell.execute_reply.started": "2022-01-21T15:18:39.761208Z"
    },
    "papermill": {
     "duration": 0.378859,
     "end_time": "2022-01-21T15:37:31.278275",
     "exception": false,
     "start_time": "2022-01-21T15:37:30.899416",
     "status": "completed"
    },
    "tags": []
   },
   "outputs": [],
   "source": [
    "# Helper function for plotting feature importance of our XGboost Classifier\n",
    "# We would only plot first top 20 features\n",
    "def plot_features(columns, importances, n=20):\n",
    "    df_feat = (pd.DataFrame({\"features\":columns,\n",
    "                             \"features_importances\": importances})\n",
    "          .sort_values(\"features_importances\",ascending=False)\n",
    "          .reset_index(drop=True))\n",
    "    \n",
    "    # Plot the dataframe we created\n",
    "    fig, ax = plt.subplots(figsize=(12,7))\n",
    "    ax.barh(df_feat[\"features\"][:n], df_feat[\"features_importances\"][:20])\n",
    "    ax.set_ylabel(\"Features\")\n",
    "    ax.set_xlabel(\"Features Importance\")\n",
    "    ax.invert_yaxis()"
   ]
  },
  {
   "cell_type": "code",
   "execution_count": 84,
   "id": "61b694a9",
   "metadata": {
    "execution": {
     "iopub.execute_input": "2022-01-21T15:37:32.013788Z",
     "iopub.status.busy": "2022-01-21T15:37:32.013081Z",
     "iopub.status.idle": "2022-01-21T15:37:32.472690Z",
     "shell.execute_reply": "2022-01-21T15:37:32.471680Z",
     "shell.execute_reply.started": "2022-01-21T15:18:39.771592Z"
    },
    "papermill": {
     "duration": 0.83468,
     "end_time": "2022-01-21T15:37:32.472889",
     "exception": false,
     "start_time": "2022-01-21T15:37:31.638209",
     "status": "completed"
    },
    "tags": []
   },
   "outputs": [
    {
     "data": {
      "image/png": "[encoded data removed]",
      "text/plain": [
       "<Figure size 864x504 with 1 Axes>"
      ]
     },
     "metadata": {},
     "output_type": "display_data"
    }
   ],
   "source": [
    "plot_features(X_train.columns, final_clf_xgb.feature_importances_)"
   ]
  },
  {
   "cell_type": "markdown",
   "id": "a3824434",
   "metadata": {
    "papermill": {
     "duration": 0.35703,
     "end_time": "2022-01-21T15:37:33.184333",
     "exception": false,
     "start_time": "2022-01-21T15:37:32.827303",
     "status": "completed"
    },
    "tags": []
   },
   "source": [
    "* We used many Algorithms but so far XGboost performed pretty well on this dataset though we have un-balanced data(only Target feature).\n"
   ]
  },
  {
   "cell_type": "code",
   "execution_count": null,
   "id": "4575f15d",
   "metadata": {
    "papermill": {
     "duration": 0.344406,
     "end_time": "2022-01-21T15:37:33.895051",
     "exception": false,
     "start_time": "2022-01-21T15:37:33.550645",
     "status": "completed"
    },
    "tags": []
   },
   "outputs": [],
   "source": []
  }
 ],
 "metadata": {
  "kernelspec": {
   "display_name": "Python 3",
   "language": "python",
   "name": "python3"
  },
  "language_info": {
   "codemirror_mode": {
    "name": "ipython",
    "version": 3
   },
   "file_extension": ".py",
   "mimetype": "text/x-python",
   "name": "python",
   "nbconvert_exporter": "python",
   "pygments_lexer": "ipython3",
   "version": "3.7.12"
  },
  "papermill": {
   "default_parameters": {},
   "duration": 768.660952,
   "end_time": "2022-01-21T15:37:35.487218",
   "environment_variables": {},
   "exception": null,
   "input_path": "__notebook__.ipynb",
   "output_path": "__notebook__.ipynb",
   "parameters": {},
   "start_time": "2022-01-21T15:24:46.826266",
   "version": "2.3.3"
  }
 },
 "nbformat": 4,
 "nbformat_minor": 5
}
