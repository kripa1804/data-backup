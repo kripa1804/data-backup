{
 "cells": [
  {
   "cell_type": "code",
   "execution_count": 1,
   "metadata": {
    "_cell_guid": "b1076dfc-b9ad-4769-8c92-a6c4dae69d19",
    "_uuid": "8f2839f25d086af736a60e9eeb907d3b93b6e0e5",
    "execution": {
     "iopub.execute_input": "2022-06-02T10:25:42.035618Z",
     "iopub.status.busy": "2022-06-02T10:25:42.035269Z",
     "iopub.status.idle": "2022-06-02T10:25:42.04945Z",
     "shell.execute_reply": "2022-06-02T10:25:42.048234Z",
     "shell.execute_reply.started": "2022-06-02T10:25:42.035582Z"
    }
   },
   "outputs": [],
   "source": [
    "import numpy as np # linear algebra\n",
    "import pandas as pd# data processing, CSV file I/O (e.g. pd.read_csv)\n",
    "import pickle\n",
    "\n",
    "import os\n",
    "for dirname, _, filenames in os.walk('/kaggle/input'):\n",
    "    for filename in filenames:\n",
    "        print(os.path.join(dirname, filename))"
   ]
  },
  {
   "cell_type": "code",
   "execution_count": 2,
   "metadata": {
    "_cell_guid": "79c7e3d0-c299-4dcb-8224-4455121ee9b0",
    "_uuid": "d629ff2d2480ee46fbb7e2d37f6b5fab8052498a",
    "execution": {
     "iopub.execute_input": "2022-06-02T10:28:31.462805Z",
     "iopub.status.busy": "2022-06-02T10:28:31.46245Z",
     "iopub.status.idle": "2022-06-02T10:28:31.482397Z",
     "shell.execute_reply": "2022-06-02T10:28:31.481463Z",
     "shell.execute_reply.started": "2022-06-02T10:28:31.462775Z"
    }
   },
   "outputs": [],
   "source": [
    "train = pd.read_csv('Train-1542865627584.csv');"
   ]
  },
  {
   "cell_type": "code",
   "execution_count": 3,
   "metadata": {
    "execution": {
     "iopub.execute_input": "2022-06-02T10:28:38.535441Z",
     "iopub.status.busy": "2022-06-02T10:28:38.535057Z",
     "iopub.status.idle": "2022-06-02T10:28:41.166642Z",
     "shell.execute_reply": "2022-06-02T10:28:41.165837Z",
     "shell.execute_reply.started": "2022-06-02T10:28:38.535406Z"
    }
   },
   "outputs": [],
   "source": [
    "outpatient= pd.read_csv(\"Train_Outpatientdata-1542865627584.csv\")\n",
    "inpatient= pd.read_csv(\"Train_Inpatientdata-1542865627584.csv\")\n",
    "beneficiary= pd.read_csv(\"Train_Beneficiarydata-1542865627584.csv\")\n"
   ]
  },
  {
   "cell_type": "code",
   "execution_count": 4,
   "metadata": {
    "execution": {
     "iopub.execute_input": "2022-06-02T10:28:53.315617Z",
     "iopub.status.busy": "2022-06-02T10:28:53.315245Z",
     "iopub.status.idle": "2022-06-02T10:28:53.324081Z",
     "shell.execute_reply": "2022-06-02T10:28:53.323373Z",
     "shell.execute_reply.started": "2022-06-02T10:28:53.315586Z"
    }
   },
   "outputs": [],
   "source": [
    "def isCategorical(col):\n",
    "    unis = np.unique(col)\n",
    "    if len(unis)<0.02*len(col):\n",
    "        return True\n",
    "    return False\n",
    "\n",
    "\n",
    "def getColumnTypes(cols):\n",
    "    Categorical=[]\n",
    "    Numerical = []\n",
    "    Object = []\n",
    "    for i in range(len(cols)):\n",
    "        if cols[\"type\"][i]=='categorical':\n",
    "            Categorical.append(cols['column_name'][i])\n",
    "        elif cols[\"type\"][i]=='numerical':\n",
    "            Numerical.append(cols['column_name'][i])\n",
    "        else:\n",
    "            Object.append(cols['column_name'][i])\n",
    "    return Categorical, Numerical, Object\n",
    "\n",
    "def isNumerical(col):\n",
    "    return is_numeric_dtype(col)\n",
    "\n",
    "def genMetaData(df):\n",
    "    col = df.columns\n",
    "    ColumnType = [] \n",
    "    Categorical = []\n",
    "    Object = []\n",
    "    Numerical = []\n",
    "    for i in range(len(col)):\n",
    "        if isCategorical(df[col[i]]):\n",
    "            ColumnType.append((col[i],\"categorical\"))\n",
    "            Categorical.append(col[i])\n",
    "        \n",
    "        elif is_numeric_dtype(df[col[i]]):\n",
    "            ColumnType.append((col[i],\"numerical\"))\n",
    "            Numerical.append(col[i])\n",
    "        \n",
    "        else:\n",
    "            ColumnType.append((col[i],\"object\"))\n",
    "            Object.append(col[i])\n",
    "\n",
    "    return ColumnType\n",
    "\n",
    "def makeMapDict(col): \n",
    "    uniqueVals = list(np.unique(col))\n",
    "    uniqueVals.sort()\n",
    "    dict_ = {uniqueVals[i]: i for i in range(len(uniqueVals))}\n",
    "    return dict_\n",
    "\n",
    "def mapunique(df, colName):\n",
    "    dict_ = makeMapDict(df[colName])\n",
    "    cat = np.unique(df[colName])\n",
    "    df[colName] =  df[colName].map(dict_)\n",
    "    return cat \n",
    "\n",
    "\n",
    "def newDF(df, columns2Drop):\n",
    "    newDF = df.drop(columns2Drop, axis = 'columns')\n",
    "    return newDF\n",
    "\n",
    "def convert_df(df):\n",
    "    return df.to_csv().encode('utf-8')\n",
    "\n"
   ]
  },
  {
   "cell_type": "code",
   "execution_count": 5,
   "metadata": {},
   "outputs": [],
   "source": [
    "beneficiary['DOB'] = pd.to_datetime(beneficiary['DOB'] , format = '%Y-%m-%d')\n",
    "beneficiary['DOD'] = pd.to_datetime(beneficiary['DOD'],format = '%Y-%m-%d',errors='ignore')\n",
    "beneficiary['Age'] = round(((beneficiary['DOD'] - beneficiary['DOB']).dt.days)/365)\n",
    "\n",
    "## As we see that last DOD value is 2009-12-01 ,which means Beneficiary Details data is of year 2009.\n",
    "## so we will calculate age of other benficiaries for year 2009."
   ]
  },
  {
   "cell_type": "code",
   "execution_count": 6,
   "metadata": {},
   "outputs": [],
   "source": [
    "beneficiary.Age.fillna(round(((pd.to_datetime('2009-12-01' , format = '%Y-%m-%d') - beneficiary['DOB']).dt.days)/365),\n",
    "                                 inplace=True)"
   ]
  },
  {
   "cell_type": "code",
   "execution_count": 7,
   "metadata": {
    "execution": {
     "iopub.execute_input": "2022-06-02T10:54:45.101103Z",
     "iopub.status.busy": "2022-06-02T10:54:45.100685Z",
     "iopub.status.idle": "2022-06-02T10:54:46.515265Z",
     "shell.execute_reply": "2022-06-02T10:54:46.514482Z",
     "shell.execute_reply.started": "2022-06-02T10:54:45.101066Z"
    }
   },
   "outputs": [],
   "source": [
    "## Creating the master DF\n",
    "inpatient['EncounterType'] = 0\n",
    "outpatient['EncounterType'] = 1\n",
    "frames = [inpatient, outpatient]\n",
    "TrainInAndOut = pd.concat(frames)\n",
    "TrainInAndOutBenf = pd.merge(TrainInAndOut, beneficiary, how='inner', on='BeneID')\n",
    "Master_df = pd.merge(TrainInAndOutBenf, train, how='inner', on='Provider')"
   ]
  },
  {
   "cell_type": "code",
   "execution_count": 8,
   "metadata": {
    "execution": {
     "iopub.execute_input": "2022-06-02T10:57:38.961048Z",
     "iopub.status.busy": "2022-06-02T10:57:38.960726Z",
     "iopub.status.idle": "2022-06-02T10:57:38.990825Z",
     "shell.execute_reply": "2022-06-02T10:57:38.990016Z",
     "shell.execute_reply.started": "2022-06-02T10:57:38.961018Z"
    }
   },
   "outputs": [
    {
     "data": {
      "text/html": [
       "<div>\n",
       "<style scoped>\n",
       "    .dataframe tbody tr th:only-of-type {\n",
       "        vertical-align: middle;\n",
       "    }\n",
       "\n",
       "    .dataframe tbody tr th {\n",
       "        vertical-align: top;\n",
       "    }\n",
       "\n",
       "    .dataframe thead th {\n",
       "        text-align: right;\n",
       "    }\n",
       "</style>\n",
       "<table border=\"1\" class=\"dataframe\">\n",
       "  <thead>\n",
       "    <tr style=\"text-align: right;\">\n",
       "      <th></th>\n",
       "      <th>BeneID</th>\n",
       "      <th>ClaimID</th>\n",
       "      <th>ClaimStartDt</th>\n",
       "      <th>ClaimEndDt</th>\n",
       "      <th>Provider</th>\n",
       "      <th>InscClaimAmtReimbursed</th>\n",
       "      <th>AttendingPhysician</th>\n",
       "      <th>OperatingPhysician</th>\n",
       "      <th>OtherPhysician</th>\n",
       "      <th>AdmissionDt</th>\n",
       "      <th>...</th>\n",
       "      <th>ChronicCond_IschemicHeart</th>\n",
       "      <th>ChronicCond_Osteoporasis</th>\n",
       "      <th>ChronicCond_rheumatoidarthritis</th>\n",
       "      <th>ChronicCond_stroke</th>\n",
       "      <th>IPAnnualReimbursementAmt</th>\n",
       "      <th>IPAnnualDeductibleAmt</th>\n",
       "      <th>OPAnnualReimbursementAmt</th>\n",
       "      <th>OPAnnualDeductibleAmt</th>\n",
       "      <th>Age</th>\n",
       "      <th>PotentialFraud</th>\n",
       "    </tr>\n",
       "  </thead>\n",
       "  <tbody>\n",
       "    <tr>\n",
       "      <th>0</th>\n",
       "      <td>BENE11001</td>\n",
       "      <td>CLM46614</td>\n",
       "      <td>2009-04-12</td>\n",
       "      <td>2009-04-18</td>\n",
       "      <td>PRV55912</td>\n",
       "      <td>26000</td>\n",
       "      <td>PHY390922</td>\n",
       "      <td>NaN</td>\n",
       "      <td>NaN</td>\n",
       "      <td>2009-04-12</td>\n",
       "      <td>...</td>\n",
       "      <td>1</td>\n",
       "      <td>2</td>\n",
       "      <td>1</td>\n",
       "      <td>1</td>\n",
       "      <td>36000</td>\n",
       "      <td>3204</td>\n",
       "      <td>60</td>\n",
       "      <td>70</td>\n",
       "      <td>67.0</td>\n",
       "      <td>Yes</td>\n",
       "    </tr>\n",
       "    <tr>\n",
       "      <th>1</th>\n",
       "      <td>BENE16973</td>\n",
       "      <td>CLM565430</td>\n",
       "      <td>2009-09-06</td>\n",
       "      <td>2009-09-06</td>\n",
       "      <td>PRV55912</td>\n",
       "      <td>50</td>\n",
       "      <td>PHY365867</td>\n",
       "      <td>PHY327147</td>\n",
       "      <td>NaN</td>\n",
       "      <td>NaN</td>\n",
       "      <td>...</td>\n",
       "      <td>1</td>\n",
       "      <td>2</td>\n",
       "      <td>2</td>\n",
       "      <td>2</td>\n",
       "      <td>24000</td>\n",
       "      <td>2136</td>\n",
       "      <td>450</td>\n",
       "      <td>200</td>\n",
       "      <td>78.0</td>\n",
       "      <td>Yes</td>\n",
       "    </tr>\n",
       "    <tr>\n",
       "      <th>2</th>\n",
       "      <td>BENE17521</td>\n",
       "      <td>CLM34721</td>\n",
       "      <td>2009-01-20</td>\n",
       "      <td>2009-02-01</td>\n",
       "      <td>PRV55912</td>\n",
       "      <td>19000</td>\n",
       "      <td>PHY349293</td>\n",
       "      <td>PHY370861</td>\n",
       "      <td>PHY363291</td>\n",
       "      <td>2009-01-20</td>\n",
       "      <td>...</td>\n",
       "      <td>1</td>\n",
       "      <td>2</td>\n",
       "      <td>2</td>\n",
       "      <td>2</td>\n",
       "      <td>19000</td>\n",
       "      <td>1068</td>\n",
       "      <td>100</td>\n",
       "      <td>20</td>\n",
       "      <td>96.0</td>\n",
       "      <td>Yes</td>\n",
       "    </tr>\n",
       "    <tr>\n",
       "      <th>3</th>\n",
       "      <td>BENE21718</td>\n",
       "      <td>CLM72336</td>\n",
       "      <td>2009-10-17</td>\n",
       "      <td>2009-11-04</td>\n",
       "      <td>PRV55912</td>\n",
       "      <td>17000</td>\n",
       "      <td>PHY334706</td>\n",
       "      <td>PHY334706</td>\n",
       "      <td>NaN</td>\n",
       "      <td>2009-10-17</td>\n",
       "      <td>...</td>\n",
       "      <td>1</td>\n",
       "      <td>1</td>\n",
       "      <td>2</td>\n",
       "      <td>2</td>\n",
       "      <td>17000</td>\n",
       "      <td>1068</td>\n",
       "      <td>1050</td>\n",
       "      <td>540</td>\n",
       "      <td>87.0</td>\n",
       "      <td>Yes</td>\n",
       "    </tr>\n",
       "    <tr>\n",
       "      <th>4</th>\n",
       "      <td>BENE22934</td>\n",
       "      <td>CLM73394</td>\n",
       "      <td>2009-10-25</td>\n",
       "      <td>2009-10-29</td>\n",
       "      <td>PRV55912</td>\n",
       "      <td>13000</td>\n",
       "      <td>PHY390614</td>\n",
       "      <td>PHY323689</td>\n",
       "      <td>PHY363291</td>\n",
       "      <td>2009-10-25</td>\n",
       "      <td>...</td>\n",
       "      <td>1</td>\n",
       "      <td>1</td>\n",
       "      <td>1</td>\n",
       "      <td>2</td>\n",
       "      <td>27000</td>\n",
       "      <td>2136</td>\n",
       "      <td>450</td>\n",
       "      <td>160</td>\n",
       "      <td>79.0</td>\n",
       "      <td>Yes</td>\n",
       "    </tr>\n",
       "  </tbody>\n",
       "</table>\n",
       "<p>5 rows × 57 columns</p>\n",
       "</div>"
      ],
      "text/plain": [
       "      BeneID    ClaimID ClaimStartDt  ClaimEndDt  Provider  \\\n",
       "0  BENE11001   CLM46614   2009-04-12  2009-04-18  PRV55912   \n",
       "1  BENE16973  CLM565430   2009-09-06  2009-09-06  PRV55912   \n",
       "2  BENE17521   CLM34721   2009-01-20  2009-02-01  PRV55912   \n",
       "3  BENE21718   CLM72336   2009-10-17  2009-11-04  PRV55912   \n",
       "4  BENE22934   CLM73394   2009-10-25  2009-10-29  PRV55912   \n",
       "\n",
       "   InscClaimAmtReimbursed AttendingPhysician OperatingPhysician  \\\n",
       "0                   26000          PHY390922                NaN   \n",
       "1                      50          PHY365867          PHY327147   \n",
       "2                   19000          PHY349293          PHY370861   \n",
       "3                   17000          PHY334706          PHY334706   \n",
       "4                   13000          PHY390614          PHY323689   \n",
       "\n",
       "  OtherPhysician AdmissionDt  ... ChronicCond_IschemicHeart  \\\n",
       "0            NaN  2009-04-12  ...                         1   \n",
       "1            NaN         NaN  ...                         1   \n",
       "2      PHY363291  2009-01-20  ...                         1   \n",
       "3            NaN  2009-10-17  ...                         1   \n",
       "4      PHY363291  2009-10-25  ...                         1   \n",
       "\n",
       "   ChronicCond_Osteoporasis ChronicCond_rheumatoidarthritis  \\\n",
       "0                         2                               1   \n",
       "1                         2                               2   \n",
       "2                         2                               2   \n",
       "3                         1                               2   \n",
       "4                         1                               1   \n",
       "\n",
       "  ChronicCond_stroke IPAnnualReimbursementAmt IPAnnualDeductibleAmt  \\\n",
       "0                  1                    36000                  3204   \n",
       "1                  2                    24000                  2136   \n",
       "2                  2                    19000                  1068   \n",
       "3                  2                    17000                  1068   \n",
       "4                  2                    27000                  2136   \n",
       "\n",
       "  OPAnnualReimbursementAmt OPAnnualDeductibleAmt   Age PotentialFraud  \n",
       "0                       60                    70  67.0            Yes  \n",
       "1                      450                   200  78.0            Yes  \n",
       "2                      100                    20  96.0            Yes  \n",
       "3                     1050                   540  87.0            Yes  \n",
       "4                      450                   160  79.0            Yes  \n",
       "\n",
       "[5 rows x 57 columns]"
      ]
     },
     "execution_count": 8,
     "metadata": {},
     "output_type": "execute_result"
    }
   ],
   "source": [
    "Master_df.head()"
   ]
  },
  {
   "cell_type": "code",
   "execution_count": null,
   "metadata": {},
   "outputs": [],
   "source": []
  },
  {
   "cell_type": "code",
   "execution_count": 9,
   "metadata": {
    "execution": {
     "iopub.execute_input": "2022-06-02T10:57:40.590688Z",
     "iopub.status.busy": "2022-06-02T10:57:40.59032Z",
     "iopub.status.idle": "2022-06-02T10:57:40.703245Z",
     "shell.execute_reply": "2022-06-02T10:57:40.702325Z",
     "shell.execute_reply.started": "2022-06-02T10:57:40.590655Z"
    }
   },
   "outputs": [
    {
     "data": {
      "text/plain": [
       "No     345415\n",
       "Yes    212796\n",
       "Name: PotentialFraud, dtype: int64"
      ]
     },
     "execution_count": 9,
     "metadata": {},
     "output_type": "execute_result"
    }
   ],
   "source": [
    "Master_df['PotentialFraud'].value_counts()"
   ]
  },
  {
   "cell_type": "code",
   "execution_count": 10,
   "metadata": {
    "execution": {
     "iopub.execute_input": "2022-06-02T10:59:57.641269Z",
     "iopub.status.busy": "2022-06-02T10:59:57.640927Z",
     "iopub.status.idle": "2022-06-02T10:59:58.735766Z",
     "shell.execute_reply": "2022-06-02T10:59:58.734712Z",
     "shell.execute_reply.started": "2022-06-02T10:59:57.641239Z"
    }
   },
   "outputs": [],
   "source": [
    "## removing the column DOD and DOB also creating a new column IsDead as we already have the age we do not need date of death and date of birth \n",
    "\n",
    "Master_df.loc[Master_df['DOD'].isnull(), 'IsDead'] = '0'\n",
    "Master_df.loc[(Master_df['DOD'].notnull()), 'IsDead'] = '1'\n",
    "Master_df = Master_df.drop(['DOD'], axis = 1)\n",
    "Master_df = Master_df.drop(['DOB'], axis = 1)"
   ]
  },
  {
   "cell_type": "markdown",
   "metadata": {},
   "source": [
    "Calculating the number of days the patient was admitted to the dospital and removing admission and discharge date, For outpatients as they do not get admitted will put number of days admitted = 0"
   ]
  },
  {
   "cell_type": "code",
   "execution_count": 11,
   "metadata": {
    "execution": {
     "iopub.execute_input": "2022-06-02T11:01:44.310233Z",
     "iopub.status.busy": "2022-06-02T11:01:44.309894Z",
     "iopub.status.idle": "2022-06-02T11:01:46.485729Z",
     "shell.execute_reply": "2022-06-02T11:01:46.484905Z",
     "shell.execute_reply.started": "2022-06-02T11:01:44.310203Z"
    }
   },
   "outputs": [],
   "source": [
    "Master_df['AdmissionDt'] = pd.to_datetime(Master_df['AdmissionDt'] , format = '%Y-%m-%d')\n",
    "Master_df['DischargeDt'] = pd.to_datetime(Master_df['DischargeDt'],format = '%Y-%m-%d')\n",
    "Master_df['DaysAdmitted'] = ((Master_df['DischargeDt'] - Master_df['AdmissionDt']).dt.days)+1\n",
    "Master_df.loc[Master_df['EncounterType'] == 1, 'DaysAdmitted'] = '0'\n",
    "Master_df[['EncounterType','DaysAdmitted','DischargeDt','AdmissionDt']].head()\n",
    "Master_df = Master_df.drop(['DischargeDt'], axis = 1)\n",
    "Master_df = Master_df.drop(['AdmissionDt'], axis = 1)"
   ]
  },
  {
   "cell_type": "code",
   "execution_count": 12,
   "metadata": {
    "execution": {
     "iopub.execute_input": "2022-06-02T11:04:06.993174Z",
     "iopub.status.busy": "2022-06-02T11:04:06.99285Z",
     "iopub.status.idle": "2022-06-02T11:04:07.033142Z",
     "shell.execute_reply": "2022-06-02T11:04:07.032342Z",
     "shell.execute_reply.started": "2022-06-02T11:04:06.993144Z"
    }
   },
   "outputs": [],
   "source": [
    "Master_df.loc[Master_df['DeductibleAmtPaid'].isnull(), 'DeductibleAmtPaid'] = '0'"
   ]
  },
  {
   "cell_type": "code",
   "execution_count": 13,
   "metadata": {
    "execution": {
     "iopub.execute_input": "2022-06-02T11:04:19.941309Z",
     "iopub.status.busy": "2022-06-02T11:04:19.940982Z",
     "iopub.status.idle": "2022-06-02T11:04:19.946283Z",
     "shell.execute_reply": "2022-06-02T11:04:19.945355Z",
     "shell.execute_reply.started": "2022-06-02T11:04:19.941272Z"
    }
   },
   "outputs": [],
   "source": [
    "cols= ['ClmAdmitDiagnosisCode', 'ClmDiagnosisCode_1', 'ClmDiagnosisCode_10',\n",
    "       'ClmDiagnosisCode_2', 'ClmDiagnosisCode_3', 'ClmDiagnosisCode_4',\n",
    "       'ClmDiagnosisCode_5', 'ClmDiagnosisCode_6', 'ClmDiagnosisCode_7',\n",
    "       'ClmDiagnosisCode_8', 'ClmDiagnosisCode_9', 'ClmProcedureCode_1',\n",
    "       'ClmProcedureCode_2', 'ClmProcedureCode_3', 'ClmProcedureCode_4',\n",
    "       'ClmProcedureCode_5', 'ClmProcedureCode_6']"
   ]
  },
  {
   "cell_type": "code",
   "execution_count": 14,
   "metadata": {
    "execution": {
     "iopub.execute_input": "2022-06-02T11:04:53.185594Z",
     "iopub.status.busy": "2022-06-02T11:04:53.185216Z",
     "iopub.status.idle": "2022-06-02T11:04:55.935289Z",
     "shell.execute_reply": "2022-06-02T11:04:55.934419Z",
     "shell.execute_reply.started": "2022-06-02T11:04:53.185563Z"
    }
   },
   "outputs": [
    {
     "data": {
      "text/html": [
       "<div>\n",
       "<style scoped>\n",
       "    .dataframe tbody tr th:only-of-type {\n",
       "        vertical-align: middle;\n",
       "    }\n",
       "\n",
       "    .dataframe tbody tr th {\n",
       "        vertical-align: top;\n",
       "    }\n",
       "\n",
       "    .dataframe thead th {\n",
       "        text-align: right;\n",
       "    }\n",
       "</style>\n",
       "<table border=\"1\" class=\"dataframe\">\n",
       "  <thead>\n",
       "    <tr style=\"text-align: right;\">\n",
       "      <th></th>\n",
       "      <th>BeneID</th>\n",
       "      <th>ClaimID</th>\n",
       "      <th>ClaimStartDt</th>\n",
       "      <th>ClaimEndDt</th>\n",
       "      <th>Provider</th>\n",
       "      <th>InscClaimAmtReimbursed</th>\n",
       "      <th>AttendingPhysician</th>\n",
       "      <th>OperatingPhysician</th>\n",
       "      <th>OtherPhysician</th>\n",
       "      <th>ClmAdmitDiagnosisCode</th>\n",
       "      <th>...</th>\n",
       "      <th>ChronicCond_rheumatoidarthritis</th>\n",
       "      <th>ChronicCond_stroke</th>\n",
       "      <th>IPAnnualReimbursementAmt</th>\n",
       "      <th>IPAnnualDeductibleAmt</th>\n",
       "      <th>OPAnnualReimbursementAmt</th>\n",
       "      <th>OPAnnualDeductibleAmt</th>\n",
       "      <th>Age</th>\n",
       "      <th>PotentialFraud</th>\n",
       "      <th>IsDead</th>\n",
       "      <th>DaysAdmitted</th>\n",
       "    </tr>\n",
       "  </thead>\n",
       "  <tbody>\n",
       "    <tr>\n",
       "      <th>0</th>\n",
       "      <td>BENE11001</td>\n",
       "      <td>CLM46614</td>\n",
       "      <td>2009-04-12</td>\n",
       "      <td>2009-04-18</td>\n",
       "      <td>PRV55912</td>\n",
       "      <td>26000</td>\n",
       "      <td>PHY390922</td>\n",
       "      <td>NaN</td>\n",
       "      <td>NaN</td>\n",
       "      <td>7866</td>\n",
       "      <td>...</td>\n",
       "      <td>1</td>\n",
       "      <td>1</td>\n",
       "      <td>36000</td>\n",
       "      <td>3204</td>\n",
       "      <td>60</td>\n",
       "      <td>70</td>\n",
       "      <td>67.0</td>\n",
       "      <td>Yes</td>\n",
       "      <td>0</td>\n",
       "      <td>7.0</td>\n",
       "    </tr>\n",
       "    <tr>\n",
       "      <th>1</th>\n",
       "      <td>BENE16973</td>\n",
       "      <td>CLM565430</td>\n",
       "      <td>2009-09-06</td>\n",
       "      <td>2009-09-06</td>\n",
       "      <td>PRV55912</td>\n",
       "      <td>50</td>\n",
       "      <td>PHY365867</td>\n",
       "      <td>PHY327147</td>\n",
       "      <td>NaN</td>\n",
       "      <td>0</td>\n",
       "      <td>...</td>\n",
       "      <td>2</td>\n",
       "      <td>2</td>\n",
       "      <td>24000</td>\n",
       "      <td>2136</td>\n",
       "      <td>450</td>\n",
       "      <td>200</td>\n",
       "      <td>78.0</td>\n",
       "      <td>Yes</td>\n",
       "      <td>0</td>\n",
       "      <td>0</td>\n",
       "    </tr>\n",
       "    <tr>\n",
       "      <th>2</th>\n",
       "      <td>BENE17521</td>\n",
       "      <td>CLM34721</td>\n",
       "      <td>2009-01-20</td>\n",
       "      <td>2009-02-01</td>\n",
       "      <td>PRV55912</td>\n",
       "      <td>19000</td>\n",
       "      <td>PHY349293</td>\n",
       "      <td>PHY370861</td>\n",
       "      <td>PHY363291</td>\n",
       "      <td>45340</td>\n",
       "      <td>...</td>\n",
       "      <td>2</td>\n",
       "      <td>2</td>\n",
       "      <td>19000</td>\n",
       "      <td>1068</td>\n",
       "      <td>100</td>\n",
       "      <td>20</td>\n",
       "      <td>96.0</td>\n",
       "      <td>Yes</td>\n",
       "      <td>0</td>\n",
       "      <td>13.0</td>\n",
       "    </tr>\n",
       "    <tr>\n",
       "      <th>3</th>\n",
       "      <td>BENE21718</td>\n",
       "      <td>CLM72336</td>\n",
       "      <td>2009-10-17</td>\n",
       "      <td>2009-11-04</td>\n",
       "      <td>PRV55912</td>\n",
       "      <td>17000</td>\n",
       "      <td>PHY334706</td>\n",
       "      <td>PHY334706</td>\n",
       "      <td>NaN</td>\n",
       "      <td>V5789</td>\n",
       "      <td>...</td>\n",
       "      <td>2</td>\n",
       "      <td>2</td>\n",
       "      <td>17000</td>\n",
       "      <td>1068</td>\n",
       "      <td>1050</td>\n",
       "      <td>540</td>\n",
       "      <td>87.0</td>\n",
       "      <td>Yes</td>\n",
       "      <td>0</td>\n",
       "      <td>19.0</td>\n",
       "    </tr>\n",
       "    <tr>\n",
       "      <th>4</th>\n",
       "      <td>BENE22934</td>\n",
       "      <td>CLM73394</td>\n",
       "      <td>2009-10-25</td>\n",
       "      <td>2009-10-29</td>\n",
       "      <td>PRV55912</td>\n",
       "      <td>13000</td>\n",
       "      <td>PHY390614</td>\n",
       "      <td>PHY323689</td>\n",
       "      <td>PHY363291</td>\n",
       "      <td>71946</td>\n",
       "      <td>...</td>\n",
       "      <td>1</td>\n",
       "      <td>2</td>\n",
       "      <td>27000</td>\n",
       "      <td>2136</td>\n",
       "      <td>450</td>\n",
       "      <td>160</td>\n",
       "      <td>79.0</td>\n",
       "      <td>Yes</td>\n",
       "      <td>0</td>\n",
       "      <td>5.0</td>\n",
       "    </tr>\n",
       "    <tr>\n",
       "      <th>...</th>\n",
       "      <td>...</td>\n",
       "      <td>...</td>\n",
       "      <td>...</td>\n",
       "      <td>...</td>\n",
       "      <td>...</td>\n",
       "      <td>...</td>\n",
       "      <td>...</td>\n",
       "      <td>...</td>\n",
       "      <td>...</td>\n",
       "      <td>...</td>\n",
       "      <td>...</td>\n",
       "      <td>...</td>\n",
       "      <td>...</td>\n",
       "      <td>...</td>\n",
       "      <td>...</td>\n",
       "      <td>...</td>\n",
       "      <td>...</td>\n",
       "      <td>...</td>\n",
       "      <td>...</td>\n",
       "      <td>...</td>\n",
       "      <td>...</td>\n",
       "    </tr>\n",
       "    <tr>\n",
       "      <th>558206</th>\n",
       "      <td>BENE154147</td>\n",
       "      <td>CLM394122</td>\n",
       "      <td>2009-06-02</td>\n",
       "      <td>2009-06-04</td>\n",
       "      <td>PRV54050</td>\n",
       "      <td>500</td>\n",
       "      <td>PHY317497</td>\n",
       "      <td>NaN</td>\n",
       "      <td>PHY317497</td>\n",
       "      <td>0</td>\n",
       "      <td>...</td>\n",
       "      <td>2</td>\n",
       "      <td>2</td>\n",
       "      <td>0</td>\n",
       "      <td>0</td>\n",
       "      <td>890</td>\n",
       "      <td>120</td>\n",
       "      <td>85.0</td>\n",
       "      <td>No</td>\n",
       "      <td>0</td>\n",
       "      <td>0</td>\n",
       "    </tr>\n",
       "    <tr>\n",
       "      <th>558207</th>\n",
       "      <td>BENE154687</td>\n",
       "      <td>CLM184358</td>\n",
       "      <td>2009-02-08</td>\n",
       "      <td>2009-02-08</td>\n",
       "      <td>PRV54302</td>\n",
       "      <td>3300</td>\n",
       "      <td>PHY376238</td>\n",
       "      <td>PHY376238</td>\n",
       "      <td>NaN</td>\n",
       "      <td>99639</td>\n",
       "      <td>...</td>\n",
       "      <td>1</td>\n",
       "      <td>2</td>\n",
       "      <td>0</td>\n",
       "      <td>0</td>\n",
       "      <td>4400</td>\n",
       "      <td>220</td>\n",
       "      <td>83.0</td>\n",
       "      <td>No</td>\n",
       "      <td>0</td>\n",
       "      <td>0</td>\n",
       "    </tr>\n",
       "    <tr>\n",
       "      <th>558208</th>\n",
       "      <td>BENE157378</td>\n",
       "      <td>CLM460770</td>\n",
       "      <td>2009-07-09</td>\n",
       "      <td>2009-07-29</td>\n",
       "      <td>PRV51577</td>\n",
       "      <td>2100</td>\n",
       "      <td>PHY338096</td>\n",
       "      <td>NaN</td>\n",
       "      <td>NaN</td>\n",
       "      <td>0</td>\n",
       "      <td>...</td>\n",
       "      <td>2</td>\n",
       "      <td>2</td>\n",
       "      <td>0</td>\n",
       "      <td>0</td>\n",
       "      <td>14240</td>\n",
       "      <td>2810</td>\n",
       "      <td>64.0</td>\n",
       "      <td>No</td>\n",
       "      <td>0</td>\n",
       "      <td>0</td>\n",
       "    </tr>\n",
       "    <tr>\n",
       "      <th>558209</th>\n",
       "      <td>BENE158295</td>\n",
       "      <td>CLM306999</td>\n",
       "      <td>2009-04-16</td>\n",
       "      <td>2009-04-16</td>\n",
       "      <td>PRV53083</td>\n",
       "      <td>10</td>\n",
       "      <td>PHY416646</td>\n",
       "      <td>NaN</td>\n",
       "      <td>NaN</td>\n",
       "      <td>0</td>\n",
       "      <td>...</td>\n",
       "      <td>1</td>\n",
       "      <td>2</td>\n",
       "      <td>0</td>\n",
       "      <td>0</td>\n",
       "      <td>640</td>\n",
       "      <td>350</td>\n",
       "      <td>85.0</td>\n",
       "      <td>No</td>\n",
       "      <td>0</td>\n",
       "      <td>0</td>\n",
       "    </tr>\n",
       "    <tr>\n",
       "      <th>558210</th>\n",
       "      <td>BENE158736</td>\n",
       "      <td>CLM589654</td>\n",
       "      <td>2009-09-20</td>\n",
       "      <td>2009-09-20</td>\n",
       "      <td>PRV56377</td>\n",
       "      <td>60</td>\n",
       "      <td>PHY392440</td>\n",
       "      <td>NaN</td>\n",
       "      <td>PHY392440</td>\n",
       "      <td>0</td>\n",
       "      <td>...</td>\n",
       "      <td>1</td>\n",
       "      <td>1</td>\n",
       "      <td>0</td>\n",
       "      <td>0</td>\n",
       "      <td>3220</td>\n",
       "      <td>1270</td>\n",
       "      <td>66.0</td>\n",
       "      <td>No</td>\n",
       "      <td>0</td>\n",
       "      <td>0</td>\n",
       "    </tr>\n",
       "  </tbody>\n",
       "</table>\n",
       "<p>558211 rows × 55 columns</p>\n",
       "</div>"
      ],
      "text/plain": [
       "            BeneID    ClaimID ClaimStartDt  ClaimEndDt  Provider  \\\n",
       "0        BENE11001   CLM46614   2009-04-12  2009-04-18  PRV55912   \n",
       "1        BENE16973  CLM565430   2009-09-06  2009-09-06  PRV55912   \n",
       "2        BENE17521   CLM34721   2009-01-20  2009-02-01  PRV55912   \n",
       "3        BENE21718   CLM72336   2009-10-17  2009-11-04  PRV55912   \n",
       "4        BENE22934   CLM73394   2009-10-25  2009-10-29  PRV55912   \n",
       "...            ...        ...          ...         ...       ...   \n",
       "558206  BENE154147  CLM394122   2009-06-02  2009-06-04  PRV54050   \n",
       "558207  BENE154687  CLM184358   2009-02-08  2009-02-08  PRV54302   \n",
       "558208  BENE157378  CLM460770   2009-07-09  2009-07-29  PRV51577   \n",
       "558209  BENE158295  CLM306999   2009-04-16  2009-04-16  PRV53083   \n",
       "558210  BENE158736  CLM589654   2009-09-20  2009-09-20  PRV56377   \n",
       "\n",
       "        InscClaimAmtReimbursed AttendingPhysician OperatingPhysician  \\\n",
       "0                        26000          PHY390922                NaN   \n",
       "1                           50          PHY365867          PHY327147   \n",
       "2                        19000          PHY349293          PHY370861   \n",
       "3                        17000          PHY334706          PHY334706   \n",
       "4                        13000          PHY390614          PHY323689   \n",
       "...                        ...                ...                ...   \n",
       "558206                     500          PHY317497                NaN   \n",
       "558207                    3300          PHY376238          PHY376238   \n",
       "558208                    2100          PHY338096                NaN   \n",
       "558209                      10          PHY416646                NaN   \n",
       "558210                      60          PHY392440                NaN   \n",
       "\n",
       "       OtherPhysician ClmAdmitDiagnosisCode  ...  \\\n",
       "0                 NaN                  7866  ...   \n",
       "1                 NaN                     0  ...   \n",
       "2           PHY363291                 45340  ...   \n",
       "3                 NaN                 V5789  ...   \n",
       "4           PHY363291                 71946  ...   \n",
       "...               ...                   ...  ...   \n",
       "558206      PHY317497                     0  ...   \n",
       "558207            NaN                 99639  ...   \n",
       "558208            NaN                     0  ...   \n",
       "558209            NaN                     0  ...   \n",
       "558210      PHY392440                     0  ...   \n",
       "\n",
       "       ChronicCond_rheumatoidarthritis ChronicCond_stroke  \\\n",
       "0                                    1                  1   \n",
       "1                                    2                  2   \n",
       "2                                    2                  2   \n",
       "3                                    2                  2   \n",
       "4                                    1                  2   \n",
       "...                                ...                ...   \n",
       "558206                               2                  2   \n",
       "558207                               1                  2   \n",
       "558208                               2                  2   \n",
       "558209                               1                  2   \n",
       "558210                               1                  1   \n",
       "\n",
       "       IPAnnualReimbursementAmt IPAnnualDeductibleAmt  \\\n",
       "0                         36000                  3204   \n",
       "1                         24000                  2136   \n",
       "2                         19000                  1068   \n",
       "3                         17000                  1068   \n",
       "4                         27000                  2136   \n",
       "...                         ...                   ...   \n",
       "558206                        0                     0   \n",
       "558207                        0                     0   \n",
       "558208                        0                     0   \n",
       "558209                        0                     0   \n",
       "558210                        0                     0   \n",
       "\n",
       "       OPAnnualReimbursementAmt OPAnnualDeductibleAmt   Age PotentialFraud  \\\n",
       "0                            60                    70  67.0            Yes   \n",
       "1                           450                   200  78.0            Yes   \n",
       "2                           100                    20  96.0            Yes   \n",
       "3                          1050                   540  87.0            Yes   \n",
       "4                           450                   160  79.0            Yes   \n",
       "...                         ...                   ...   ...            ...   \n",
       "558206                      890                   120  85.0             No   \n",
       "558207                     4400                   220  83.0             No   \n",
       "558208                    14240                  2810  64.0             No   \n",
       "558209                      640                   350  85.0             No   \n",
       "558210                     3220                  1270  66.0             No   \n",
       "\n",
       "       IsDead DaysAdmitted  \n",
       "0           0          7.0  \n",
       "1           0            0  \n",
       "2           0         13.0  \n",
       "3           0         19.0  \n",
       "4           0          5.0  \n",
       "...       ...          ...  \n",
       "558206      0            0  \n",
       "558207      0            0  \n",
       "558208      0            0  \n",
       "558209      0            0  \n",
       "558210      0            0  \n",
       "\n",
       "[558211 rows x 55 columns]"
      ]
     },
     "execution_count": 14,
     "metadata": {},
     "output_type": "execute_result"
    }
   ],
   "source": [
    "Master_df[cols]= Master_df[cols].replace({np.nan:0})\n",
    "Master_df"
   ]
  },
  {
   "cell_type": "code",
   "execution_count": 15,
   "metadata": {
    "execution": {
     "iopub.execute_input": "2022-06-02T11:07:16.665248Z",
     "iopub.status.busy": "2022-06-02T11:07:16.664921Z",
     "iopub.status.idle": "2022-06-02T11:07:17.50085Z",
     "shell.execute_reply": "2022-06-02T11:07:17.500085Z",
     "shell.execute_reply.started": "2022-06-02T11:07:16.665218Z"
    }
   },
   "outputs": [
    {
     "name": "stderr",
     "output_type": "stream",
     "text": [
      "C:\\Users\\302201\\AppData\\Local\\Temp/ipykernel_1592/1718562570.py:2: SettingWithCopyWarning: \n",
      "A value is trying to be set on a copy of a slice from a DataFrame\n",
      "\n",
      "See the caveats in the documentation: https://pandas.pydata.org/pandas-docs/stable/user_guide/indexing.html#returning-a-view-versus-a-copy\n",
      "  Master_df[i][Master_df[i]!=0]= 1\n"
     ]
    }
   ],
   "source": [
    "for i in cols:\n",
    "    Master_df[i][Master_df[i]!=0]= 1"
   ]
  },
  {
   "cell_type": "code",
   "execution_count": 16,
   "metadata": {
    "execution": {
     "iopub.execute_input": "2022-06-02T11:07:22.369874Z",
     "iopub.status.busy": "2022-06-02T11:07:22.369544Z",
     "iopub.status.idle": "2022-06-02T11:07:25.102465Z",
     "shell.execute_reply": "2022-06-02T11:07:25.101681Z",
     "shell.execute_reply.started": "2022-06-02T11:07:22.369844Z"
    }
   },
   "outputs": [],
   "source": [
    "Master_df[cols]= Master_df[cols].astype(float)"
   ]
  },
  {
   "cell_type": "code",
   "execution_count": 17,
   "metadata": {
    "execution": {
     "iopub.execute_input": "2022-06-02T11:07:41.390712Z",
     "iopub.status.busy": "2022-06-02T11:07:41.390364Z",
     "iopub.status.idle": "2022-06-02T11:07:41.409912Z",
     "shell.execute_reply": "2022-06-02T11:07:41.409007Z",
     "shell.execute_reply.started": "2022-06-02T11:07:41.390682Z"
    }
   },
   "outputs": [],
   "source": [
    "Master_df['TotalDiagnosis']= Master_df['ClmDiagnosisCode_1']+Master_df['ClmDiagnosisCode_10']+Master_df['ClmDiagnosisCode_2']+ Master_df['ClmDiagnosisCode_3']+ Master_df['ClmDiagnosisCode_4']+Master_df['ClmDiagnosisCode_5']+ Master_df['ClmDiagnosisCode_6']+ Master_df['ClmDiagnosisCode_7']+Master_df['ClmDiagnosisCode_8']+ Master_df['ClmDiagnosisCode_9']"
   ]
  },
  {
   "cell_type": "code",
   "execution_count": 18,
   "metadata": {
    "execution": {
     "iopub.execute_input": "2022-06-02T11:07:42.945256Z",
     "iopub.status.busy": "2022-06-02T11:07:42.944923Z",
     "iopub.status.idle": "2022-06-02T11:07:42.959929Z",
     "shell.execute_reply": "2022-06-02T11:07:42.959141Z",
     "shell.execute_reply.started": "2022-06-02T11:07:42.945219Z"
    }
   },
   "outputs": [],
   "source": [
    "Master_df['TotalProcedure']= Master_df['ClmProcedureCode_1']+Master_df['ClmProcedureCode_2']+Master_df['ClmProcedureCode_3']+ Master_df['ClmProcedureCode_4']+ Master_df['ClmProcedureCode_5']+Master_df['ClmProcedureCode_6']"
   ]
  },
  {
   "cell_type": "markdown",
   "metadata": {},
   "source": [
    "Removing coulmns which are not necessary"
   ]
  },
  {
   "cell_type": "code",
   "execution_count": 19,
   "metadata": {
    "execution": {
     "iopub.execute_input": "2022-06-02T11:07:48.680277Z",
     "iopub.status.busy": "2022-06-02T11:07:48.67996Z",
     "iopub.status.idle": "2022-06-02T11:07:48.686786Z",
     "shell.execute_reply": "2022-06-02T11:07:48.685799Z",
     "shell.execute_reply.started": "2022-06-02T11:07:48.680247Z"
    }
   },
   "outputs": [
    {
     "data": {
      "text/plain": [
       "Index(['BeneID', 'ClaimID', 'ClaimStartDt', 'ClaimEndDt', 'Provider',\n",
       "       'InscClaimAmtReimbursed', 'AttendingPhysician', 'OperatingPhysician',\n",
       "       'OtherPhysician', 'ClmAdmitDiagnosisCode', 'DeductibleAmtPaid',\n",
       "       'DiagnosisGroupCode', 'ClmDiagnosisCode_1', 'ClmDiagnosisCode_2',\n",
       "       'ClmDiagnosisCode_3', 'ClmDiagnosisCode_4', 'ClmDiagnosisCode_5',\n",
       "       'ClmDiagnosisCode_6', 'ClmDiagnosisCode_7', 'ClmDiagnosisCode_8',\n",
       "       'ClmDiagnosisCode_9', 'ClmDiagnosisCode_10', 'ClmProcedureCode_1',\n",
       "       'ClmProcedureCode_2', 'ClmProcedureCode_3', 'ClmProcedureCode_4',\n",
       "       'ClmProcedureCode_5', 'ClmProcedureCode_6', 'EncounterType', 'Gender',\n",
       "       'Race', 'RenalDiseaseIndicator', 'State', 'County',\n",
       "       'NoOfMonths_PartACov', 'NoOfMonths_PartBCov', 'ChronicCond_Alzheimer',\n",
       "       'ChronicCond_Heartfailure', 'ChronicCond_KidneyDisease',\n",
       "       'ChronicCond_Cancer', 'ChronicCond_ObstrPulmonary',\n",
       "       'ChronicCond_Depression', 'ChronicCond_Diabetes',\n",
       "       'ChronicCond_IschemicHeart', 'ChronicCond_Osteoporasis',\n",
       "       'ChronicCond_rheumatoidarthritis', 'ChronicCond_stroke',\n",
       "       'IPAnnualReimbursementAmt', 'IPAnnualDeductibleAmt',\n",
       "       'OPAnnualReimbursementAmt', 'OPAnnualDeductibleAmt', 'Age',\n",
       "       'PotentialFraud', 'IsDead', 'DaysAdmitted', 'TotalDiagnosis',\n",
       "       'TotalProcedure'],\n",
       "      dtype='object')"
      ]
     },
     "execution_count": 19,
     "metadata": {},
     "output_type": "execute_result"
    }
   ],
   "source": [
    "Master_df.columns"
   ]
  },
  {
   "cell_type": "code",
   "execution_count": 20,
   "metadata": {
    "execution": {
     "iopub.execute_input": "2022-06-02T11:08:49.870761Z",
     "iopub.status.busy": "2022-06-02T11:08:49.870437Z",
     "iopub.status.idle": "2022-06-02T11:08:49.876695Z",
     "shell.execute_reply": "2022-06-02T11:08:49.875711Z",
     "shell.execute_reply.started": "2022-06-02T11:08:49.87073Z"
    }
   },
   "outputs": [],
   "source": [
    "remove=['Provider','BeneID', 'ClaimID', 'ClaimStartDt','ClaimEndDt','AttendingPhysician',\n",
    "       'OperatingPhysician', 'OtherPhysician', 'ClmDiagnosisCode_1',\n",
    "       'ClmDiagnosisCode_2', 'ClmDiagnosisCode_3', 'ClmDiagnosisCode_4',\n",
    "       'ClmDiagnosisCode_5', 'ClmDiagnosisCode_6', 'ClmDiagnosisCode_7',\n",
    "       'ClmDiagnosisCode_8', 'ClmDiagnosisCode_9', 'ClmDiagnosisCode_10',\n",
    "       'ClmProcedureCode_1', 'ClmProcedureCode_2', 'ClmProcedureCode_3',\n",
    "       'ClmProcedureCode_4', 'ClmProcedureCode_5', 'ClmProcedureCode_6',\n",
    "       'ClmAdmitDiagnosisCode','DeductibleAmtPaid','NoOfMonths_PartACov',\n",
    "        'NoOfMonths_PartBCov','DiagnosisGroupCode',\n",
    "        'State', 'County']"
   ]
  },
  {
   "cell_type": "code",
   "execution_count": 21,
   "metadata": {
    "execution": {
     "iopub.execute_input": "2022-06-02T11:08:56.711293Z",
     "iopub.status.busy": "2022-06-02T11:08:56.710972Z",
     "iopub.status.idle": "2022-06-02T11:08:56.866967Z",
     "shell.execute_reply": "2022-06-02T11:08:56.866164Z",
     "shell.execute_reply.started": "2022-06-02T11:08:56.711256Z"
    }
   },
   "outputs": [],
   "source": [
    "Master_df.drop(columns=remove, axis=1, inplace=True)"
   ]
  },
  {
   "cell_type": "code",
   "execution_count": 22,
   "metadata": {
    "execution": {
     "iopub.execute_input": "2022-06-02T11:09:30.720355Z",
     "iopub.status.busy": "2022-06-02T11:09:30.720028Z",
     "iopub.status.idle": "2022-06-02T11:09:30.726343Z",
     "shell.execute_reply": "2022-06-02T11:09:30.725272Z",
     "shell.execute_reply.started": "2022-06-02T11:09:30.720326Z"
    }
   },
   "outputs": [
    {
     "data": {
      "text/plain": [
       "(558211, 26)"
      ]
     },
     "execution_count": 22,
     "metadata": {},
     "output_type": "execute_result"
    }
   ],
   "source": [
    "Master_df.shape"
   ]
  },
  {
   "cell_type": "code",
   "execution_count": 23,
   "metadata": {
    "execution": {
     "iopub.execute_input": "2022-06-02T11:09:35.110104Z",
     "iopub.status.busy": "2022-06-02T11:09:35.109775Z",
     "iopub.status.idle": "2022-06-02T11:09:35.22348Z",
     "shell.execute_reply": "2022-06-02T11:09:35.222531Z",
     "shell.execute_reply.started": "2022-06-02T11:09:35.110076Z"
    }
   },
   "outputs": [
    {
     "data": {
      "text/plain": [
       "0    448363\n",
       "Y    109848\n",
       "Name: RenalDiseaseIndicator, dtype: int64"
      ]
     },
     "execution_count": 23,
     "metadata": {},
     "output_type": "execute_result"
    }
   ],
   "source": [
    "Master_df['RenalDiseaseIndicator'].value_counts()"
   ]
  },
  {
   "cell_type": "code",
   "execution_count": 24,
   "metadata": {
    "execution": {
     "iopub.execute_input": "2022-06-02T11:09:45.840111Z",
     "iopub.status.busy": "2022-06-02T11:09:45.839784Z",
     "iopub.status.idle": "2022-06-02T11:09:45.9599Z",
     "shell.execute_reply": "2022-06-02T11:09:45.958977Z",
     "shell.execute_reply.started": "2022-06-02T11:09:45.84008Z"
    }
   },
   "outputs": [],
   "source": [
    "Master_df['RenalDiseaseIndicator']= Master_df['RenalDiseaseIndicator'].replace({'Y':1,'0':0})"
   ]
  },
  {
   "cell_type": "code",
   "execution_count": 25,
   "metadata": {
    "execution": {
     "iopub.execute_input": "2022-06-02T11:09:50.60005Z",
     "iopub.status.busy": "2022-06-02T11:09:50.599719Z",
     "iopub.status.idle": "2022-06-02T11:09:50.607482Z",
     "shell.execute_reply": "2022-06-02T11:09:50.606513Z",
     "shell.execute_reply.started": "2022-06-02T11:09:50.60002Z"
    }
   },
   "outputs": [],
   "source": [
    "Master_df['RenalDiseaseIndicator']=Master_df['RenalDiseaseIndicator'].astype(int)"
   ]
  },
  {
   "cell_type": "code",
   "execution_count": 26,
   "metadata": {
    "execution": {
     "iopub.execute_input": "2022-06-02T11:09:59.171579Z",
     "iopub.status.busy": "2022-06-02T11:09:59.171191Z",
     "iopub.status.idle": "2022-06-02T11:09:59.718654Z",
     "shell.execute_reply": "2022-06-02T11:09:59.717789Z",
     "shell.execute_reply.started": "2022-06-02T11:09:59.171544Z"
    }
   },
   "outputs": [
    {
     "data": {
      "text/html": [
       "<div>\n",
       "<style scoped>\n",
       "    .dataframe tbody tr th:only-of-type {\n",
       "        vertical-align: middle;\n",
       "    }\n",
       "\n",
       "    .dataframe tbody tr th {\n",
       "        vertical-align: top;\n",
       "    }\n",
       "\n",
       "    .dataframe thead th {\n",
       "        text-align: right;\n",
       "    }\n",
       "</style>\n",
       "<table border=\"1\" class=\"dataframe\">\n",
       "  <thead>\n",
       "    <tr style=\"text-align: right;\">\n",
       "      <th></th>\n",
       "      <th>PotentialFraud</th>\n",
       "      <th>IsDead</th>\n",
       "      <th>DaysAdmitted</th>\n",
       "    </tr>\n",
       "  </thead>\n",
       "  <tbody>\n",
       "    <tr>\n",
       "      <th>count</th>\n",
       "      <td>558211</td>\n",
       "      <td>558211</td>\n",
       "      <td>558211</td>\n",
       "    </tr>\n",
       "    <tr>\n",
       "      <th>unique</th>\n",
       "      <td>2</td>\n",
       "      <td>2</td>\n",
       "      <td>37</td>\n",
       "    </tr>\n",
       "    <tr>\n",
       "      <th>top</th>\n",
       "      <td>No</td>\n",
       "      <td>0</td>\n",
       "      <td>0</td>\n",
       "    </tr>\n",
       "    <tr>\n",
       "      <th>freq</th>\n",
       "      <td>345415</td>\n",
       "      <td>554080</td>\n",
       "      <td>517737</td>\n",
       "    </tr>\n",
       "  </tbody>\n",
       "</table>\n",
       "</div>"
      ],
      "text/plain": [
       "       PotentialFraud  IsDead DaysAdmitted\n",
       "count          558211  558211       558211\n",
       "unique              2       2           37\n",
       "top                No       0            0\n",
       "freq           345415  554080       517737"
      ]
     },
     "execution_count": 26,
     "metadata": {},
     "output_type": "execute_result"
    }
   ],
   "source": [
    "Master_df.describe(include='O')"
   ]
  },
  {
   "cell_type": "code",
   "execution_count": 27,
   "metadata": {
    "execution": {
     "iopub.execute_input": "2022-06-02T11:11:00.611612Z",
     "iopub.status.busy": "2022-06-02T11:11:00.611247Z",
     "iopub.status.idle": "2022-06-02T11:11:00.835248Z",
     "shell.execute_reply": "2022-06-02T11:11:00.834322Z",
     "shell.execute_reply.started": "2022-06-02T11:11:00.611581Z"
    }
   },
   "outputs": [],
   "source": [
    "Master_df['IsDead']=Master_df['IsDead'].astype(float)\n",
    "Master_df['DaysAdmitted']=Master_df['DaysAdmitted'].astype(float)"
   ]
  },
  {
   "cell_type": "code",
   "execution_count": 28,
   "metadata": {
    "execution": {
     "iopub.execute_input": "2022-06-02T11:11:04.519996Z",
     "iopub.status.busy": "2022-06-02T11:11:04.519661Z",
     "iopub.status.idle": "2022-06-02T11:11:04.761184Z",
     "shell.execute_reply": "2022-06-02T11:11:04.760437Z",
     "shell.execute_reply.started": "2022-06-02T11:11:04.519966Z"
    }
   },
   "outputs": [],
   "source": [
    "Master_df['PotentialFraud']=Master_df['PotentialFraud'].replace({'Yes':1, 'No':0})"
   ]
  },
  {
   "cell_type": "code",
   "execution_count": 29,
   "metadata": {
    "execution": {
     "iopub.execute_input": "2022-06-02T11:11:06.350208Z",
     "iopub.status.busy": "2022-06-02T11:11:06.349884Z",
     "iopub.status.idle": "2022-06-02T11:11:06.357526Z",
     "shell.execute_reply": "2022-06-02T11:11:06.356407Z",
     "shell.execute_reply.started": "2022-06-02T11:11:06.350178Z"
    }
   },
   "outputs": [],
   "source": [
    " Master_df['PotentialFraud']=Master_df['PotentialFraud'].astype(int)"
   ]
  },
  {
   "cell_type": "code",
   "execution_count": 30,
   "metadata": {
    "execution": {
     "iopub.execute_input": "2022-06-02T11:11:09.900123Z",
     "iopub.status.busy": "2022-06-02T11:11:09.899797Z",
     "iopub.status.idle": "2022-06-02T11:11:09.907195Z",
     "shell.execute_reply": "2022-06-02T11:11:09.906258Z",
     "shell.execute_reply.started": "2022-06-02T11:11:09.900092Z"
    }
   },
   "outputs": [
    {
     "data": {
      "text/plain": [
       "0         1\n",
       "1         1\n",
       "2         1\n",
       "3         1\n",
       "4         1\n",
       "         ..\n",
       "558206    0\n",
       "558207    0\n",
       "558208    0\n",
       "558209    0\n",
       "558210    0\n",
       "Name: PotentialFraud, Length: 558211, dtype: int32"
      ]
     },
     "execution_count": 30,
     "metadata": {},
     "output_type": "execute_result"
    }
   ],
   "source": [
    "Master_df['PotentialFraud']"
   ]
  },
  {
   "cell_type": "code",
   "execution_count": 31,
   "metadata": {},
   "outputs": [],
   "source": [
    "df_5 = Master_df.sample(frac = 0.05)\n",
    " \n",
    "# Creating dataframe with\n",
    "# rest of the 95% values\n",
    "df_95 = Master_df.drop(df_5.index)"
   ]
  },
  {
   "cell_type": "code",
   "execution_count": 32,
   "metadata": {},
   "outputs": [],
   "source": [
    "x= df_95.drop('PotentialFraud', axis=1)\n",
    "y= df_95.loc[:,'PotentialFraud']"
   ]
  },
  {
   "cell_type": "code",
   "execution_count": 33,
   "metadata": {},
   "outputs": [
    {
     "data": {
      "text/plain": [
       "(558211, 26)"
      ]
     },
     "execution_count": 33,
     "metadata": {},
     "output_type": "execute_result"
    }
   ],
   "source": [
    "Master_df.shape"
   ]
  },
  {
   "cell_type": "code",
   "execution_count": 34,
   "metadata": {},
   "outputs": [],
   "source": [
    "x_unseen = df_5.drop(\"PotentialFraud\",axis=1)\n",
    "x_unseen.to_csv(\"main_data.csv\")"
   ]
  },
  {
   "cell_type": "code",
   "execution_count": 35,
   "metadata": {},
   "outputs": [],
   "source": [
    "x_unseen = df_5.drop(\"PotentialFraud\",axis=1)\n",
    "x_unseen.to_csv(\"main_data.csv\",index=False)"
   ]
  },
  {
   "cell_type": "code",
   "execution_count": 36,
   "metadata": {
    "execution": {
     "iopub.execute_input": "2022-06-02T11:13:20.56069Z",
     "iopub.status.busy": "2022-06-02T11:13:20.560332Z",
     "iopub.status.idle": "2022-06-02T11:13:20.606658Z",
     "shell.execute_reply": "2022-06-02T11:13:20.605907Z",
     "shell.execute_reply.started": "2022-06-02T11:13:20.56066Z"
    }
   },
   "outputs": [],
   "source": [
    "from sklearn.preprocessing import StandardScaler"
   ]
  },
  {
   "cell_type": "code",
   "execution_count": 37,
   "metadata": {
    "execution": {
     "iopub.execute_input": "2022-06-02T11:14:01.910673Z",
     "iopub.status.busy": "2022-06-02T11:14:01.91031Z",
     "iopub.status.idle": "2022-06-02T11:14:01.916896Z",
     "shell.execute_reply": "2022-06-02T11:14:01.915907Z",
     "shell.execute_reply.started": "2022-06-02T11:14:01.910643Z"
    }
   },
   "outputs": [
    {
     "data": {
      "text/plain": [
       "Index(['InscClaimAmtReimbursed', 'EncounterType', 'Gender', 'Race',\n",
       "       'RenalDiseaseIndicator', 'ChronicCond_Alzheimer',\n",
       "       'ChronicCond_Heartfailure', 'ChronicCond_KidneyDisease',\n",
       "       'ChronicCond_Cancer', 'ChronicCond_ObstrPulmonary',\n",
       "       'ChronicCond_Depression', 'ChronicCond_Diabetes',\n",
       "       'ChronicCond_IschemicHeart', 'ChronicCond_Osteoporasis',\n",
       "       'ChronicCond_rheumatoidarthritis', 'ChronicCond_stroke',\n",
       "       'IPAnnualReimbursementAmt', 'IPAnnualDeductibleAmt',\n",
       "       'OPAnnualReimbursementAmt', 'OPAnnualDeductibleAmt', 'Age', 'IsDead',\n",
       "       'DaysAdmitted', 'TotalDiagnosis', 'TotalProcedure'],\n",
       "      dtype='object')"
      ]
     },
     "execution_count": 37,
     "metadata": {},
     "output_type": "execute_result"
    }
   ],
   "source": [
    "x.columns"
   ]
  },
  {
   "cell_type": "code",
   "execution_count": null,
   "metadata": {
    "execution": {
     "iopub.execute_input": "2022-06-02T11:14:06.85528Z",
     "iopub.status.busy": "2022-06-02T11:14:06.854943Z",
     "iopub.status.idle": "2022-06-02T11:14:06.862697Z",
     "shell.execute_reply": "2022-06-02T11:14:06.861722Z",
     "shell.execute_reply.started": "2022-06-02T11:14:06.855249Z"
    }
   },
   "outputs": [],
   "source": []
  },
  {
   "cell_type": "markdown",
   "metadata": {},
   "source": [
    "# Train- Test Split"
   ]
  },
  {
   "cell_type": "code",
   "execution_count": 38,
   "metadata": {
    "execution": {
     "iopub.execute_input": "2022-06-02T11:14:19.571152Z",
     "iopub.status.busy": "2022-06-02T11:14:19.570824Z",
     "iopub.status.idle": "2022-06-02T11:14:19.613242Z",
     "shell.execute_reply": "2022-06-02T11:14:19.61248Z",
     "shell.execute_reply.started": "2022-06-02T11:14:19.57112Z"
    }
   },
   "outputs": [],
   "source": [
    "from sklearn.model_selection import train_test_split"
   ]
  },
  {
   "cell_type": "code",
   "execution_count": 39,
   "metadata": {},
   "outputs": [
    {
     "data": {
      "text/plain": [
       "(530300, 25)"
      ]
     },
     "execution_count": 39,
     "metadata": {},
     "output_type": "execute_result"
    }
   ],
   "source": [
    "x.shape"
   ]
  },
  {
   "cell_type": "code",
   "execution_count": 40,
   "metadata": {},
   "outputs": [
    {
     "data": {
      "text/plain": [
       "(530300,)"
      ]
     },
     "execution_count": 40,
     "metadata": {},
     "output_type": "execute_result"
    }
   ],
   "source": [
    "y.shape"
   ]
  },
  {
   "cell_type": "markdown",
   "metadata": {},
   "source": [
    "## ANN "
   ]
  },
  {
   "cell_type": "code",
   "execution_count": 41,
   "metadata": {},
   "outputs": [],
   "source": [
    "from sklearn.model_selection import train_test_split\n",
    "X_train, X_test, y_train, y_test = train_test_split(x, y, test_size=0.3, random_state=42)\n",
    "# We are transforming data to numpy array to implementing with keras\n",
    "X_train = np.array(X_train)\n",
    "X_test = np.array(X_test)\n",
    "y_train = np.array(y_train)\n",
    "y_test = np.array(y_test)"
   ]
  },
  {
   "cell_type": "code",
   "execution_count": 42,
   "metadata": {},
   "outputs": [
    {
     "name": "stdout",
     "output_type": "stream",
     "text": [
      "Model: \"sequential\"\n",
      "_________________________________________________________________\n",
      " Layer (type)                Output Shape              Param #   \n",
      "=================================================================\n",
      " dense (Dense)               (None, 20)                520       \n",
      "                                                                 \n",
      " dense_1 (Dense)             (None, 24)                504       \n",
      "                                                                 \n",
      " dropout (Dropout)           (None, 24)                0         \n",
      "                                                                 \n",
      " dense_2 (Dense)             (None, 20)                500       \n",
      "                                                                 \n",
      " dense_3 (Dense)             (None, 24)                504       \n",
      "                                                                 \n",
      " dense_4 (Dense)             (None, 1)                 25        \n",
      "                                                                 \n",
      "=================================================================\n",
      "Total params: 2,053\n",
      "Trainable params: 2,053\n",
      "Non-trainable params: 0\n",
      "_________________________________________________________________\n"
     ]
    }
   ],
   "source": [
    "from keras.models import Sequential\n",
    "from keras.layers import Dense, Dropout\n",
    "model = Sequential([\n",
    "    Dense(units=20, input_dim = X_train.shape[1], activation='relu'),\n",
    "    Dense(units=24,activation='relu'),\n",
    "    Dropout(0.5),\n",
    "    Dense(units=20,activation='relu'),\n",
    "    Dense(units=24,activation='relu'),\n",
    "    Dense(1, activation='sigmoid')\n",
    "])\n",
    "model.summary()"
   ]
  },
  {
   "cell_type": "code",
   "execution_count": 43,
   "metadata": {},
   "outputs": [
    {
     "name": "stdout",
     "output_type": "stream",
     "text": [
      "12374/12374 [==============================] - 53s 4ms/step - loss: 2.1993 - accuracy: 0.6110\n"
     ]
    },
    {
     "data": {
      "text/plain": [
       "<keras.callbacks.History at 0x233d9e654f0>"
      ]
     },
     "execution_count": 43,
     "metadata": {},
     "output_type": "execute_result"
    }
   ],
   "source": [
    "model.compile(optimizer='adam', loss='binary_crossentropy', metrics=['accuracy'])\n",
    "model.fit(X_train, y_train, batch_size=30, epochs=1)"
   ]
  },
  {
   "cell_type": "code",
   "execution_count": 44,
   "metadata": {},
   "outputs": [
    {
     "name": "stdout",
     "output_type": "stream",
     "text": [
      "INFO:tensorflow:Assets written to: ram://029323e3-6fcf-4a2c-ba88-84f21c79c6a3/assets\n"
     ]
    }
   ],
   "source": [
    "pickle.dump(model,open(\"ANN.pkl\",'wb'))\n"
   ]
  },
  {
   "cell_type": "code",
   "execution_count": 84,
   "metadata": {},
   "outputs": [
    {
     "name": "stdout",
     "output_type": "stream",
     "text": [
      "4972/4972 [==============================] - 6s 1ms/step - loss: 0.6646 - accuracy: 0.6190\n",
      "Test Accuracy: 61.90%\n",
      "Test Loss: 0.664554238319397\n"
     ]
    }
   ],
   "source": [
    "score = model.evaluate(X_test, y_test)\n",
    "print('Test Accuracy: {:.2f}%\\nTest Loss: {}'.format(score[1]*100,score[0]))"
   ]
  },
  {
   "cell_type": "code",
   "execution_count": 68,
   "metadata": {},
   "outputs": [
    {
     "name": "stdout",
     "output_type": "stream",
     "text": [
      "[8, 6, 4]\n",
      "[8, 6, 4]\n"
     ]
    }
   ],
   "source": [
    "a=[1,2,3,4,5,6,7,8]\n",
    "print(a[:-6:-2])\n",
    "print(a[-1:2:-2])"
   ]
  },
  {
   "cell_type": "code",
   "execution_count": 46,
   "metadata": {},
   "outputs": [
    {
     "data": {
      "text/plain": [
       "[]"
      ]
     },
     "execution_count": 46,
     "metadata": {},
     "output_type": "execute_result"
    }
   ],
   "source": []
  },
  {
   "cell_type": "code",
   "execution_count": 56,
   "metadata": {},
   "outputs": [
    {
     "name": "stdout",
     "output_type": "stream",
     "text": [
      "[[35 53 63]\n",
      " [20 30 40]\n",
      " [43 84 56]]\n"
     ]
    }
   ],
   "source": [
    "import numpy as np\n",
    "a = np.array([[35, 53,63],[72, 12, 22],[43, 84, 56]])\n",
    "a[1][:] = [20, 30, 40]\n",
    "print(a)"
   ]
  },
  {
   "cell_type": "code",
   "execution_count": 55,
   "metadata": {},
   "outputs": [
    {
     "name": "stdout",
     "output_type": "stream",
     "text": [
      "[[35 53 63]\n",
      " [20 30 40]\n",
      " [43 84 56]]\n"
     ]
    }
   ],
   "source": [
    "\n"
   ]
  },
  {
   "cell_type": "code",
   "execution_count": 89,
   "metadata": {},
   "outputs": [
    {
     "data": {
      "image/png": "[encoded data removed]",
      "text/plain": [
       "<Figure size 432x288 with 2 Axes>"
      ]
     },
     "metadata": {
      "needs_background": "light"
     },
     "output_type": "display_data"
    }
   ],
   "source": [
    "import matplotlib.pyplot as plt\n",
    "import seaborn as sns\n",
    "from sklearn.metrics import confusion_matrix, classification_report\n",
    "y_pred = model.predict(X_test)\n",
    "y_test = pd.DataFrame(y_test)\n",
    "cm = confusion_matrix(y_test, y_pred.round())\n",
    "sns.heatmap(cm, annot=True, fmt='.0f', cmap='cividis_r')\n",
    "plt.show()"
   ]
  },
  {
   "cell_type": "markdown",
   "metadata": {},
   "source": [
    "## ANN with SMOTE"
   ]
  },
  {
   "cell_type": "code",
   "execution_count": 90,
   "metadata": {},
   "outputs": [
    {
     "data": {
      "text/plain": [
       "1    328163\n",
       "0    328163\n",
       "Name: PotentialFraud, dtype: int64"
      ]
     },
     "execution_count": 90,
     "metadata": {},
     "output_type": "execute_result"
    }
   ],
   "source": [
    "from imblearn.over_sampling import SMOTE\n",
    "X_smote, y_smote = SMOTE().fit_sample(x, y)\n",
    "X_smote = pd.DataFrame(X_smote)\n",
    "y_smote = pd.DataFrame(y_smote)\n",
    "y_smote.iloc[:,0].value_counts()"
   ]
  },
  {
   "cell_type": "code",
   "execution_count": 91,
   "metadata": {},
   "outputs": [
    {
     "name": "stdout",
     "output_type": "stream",
     "text": [
      "Epoch 1/5\n",
      "15315/15315 [==============================] - 23s 1ms/step - loss: 0.6935 - accuracy: 0.4998\n",
      "Epoch 2/5\n",
      "15315/15315 [==============================] - 22s 1ms/step - loss: 0.6932 - accuracy: 0.4988\n",
      "Epoch 3/5\n",
      "15315/15315 [==============================] - 22s 1ms/step - loss: 0.6932 - accuracy: 0.5010\n",
      "Epoch 4/5\n",
      "15315/15315 [==============================] - 22s 1ms/step - loss: 0.6932 - accuracy: 0.4995\n",
      "Epoch 5/5\n",
      "15315/15315 [==============================] - 22s 1ms/step - loss: 0.6932 - accuracy: 0.5004\n"
     ]
    },
    {
     "data": {
      "text/plain": [
       "<keras.callbacks.History at 0x2355ef6cd90>"
      ]
     },
     "execution_count": 91,
     "metadata": {},
     "output_type": "execute_result"
    }
   ],
   "source": [
    "X_train, X_test, y_train, y_test = train_test_split(X_smote, y_smote, test_size=0.3, random_state=0)\n",
    "X_train = np.array(X_train)\n",
    "X_test = np.array(X_test)\n",
    "y_train = np.array(y_train)\n",
    "y_test = np.array(y_test)\n",
    "model.compile(optimizer='adam', loss='binary_crossentropy', metrics=['accuracy'])\n",
    "model.fit(X_train, y_train, batch_size = 30, epochs = 2)"
   ]
  },
  {
   "cell_type": "code",
   "execution_count": 92,
   "metadata": {},
   "outputs": [
    {
     "name": "stdout",
     "output_type": "stream",
     "text": [
      "6154/6154 [==============================] - 7s 1ms/step - loss: 0.6932 - accuracy: 0.4997\n",
      "Test Accuracy: 49.97%\n",
      "Test Loss: 0.6931777596473694\n"
     ]
    }
   ],
   "source": [
    "score = model.evaluate(X_test, y_test)\n",
    "print('Test Accuracy: {:.2f}%\\nTest Loss: {}'.format(score[1]*100,score[0]))"
   ]
  },
  {
   "cell_type": "code",
   "execution_count": 93,
   "metadata": {},
   "outputs": [
    {
     "data": {
      "image/png": "[encoded data removed]",
      "text/plain": [
       "<Figure size 432x288 with 2 Axes>"
      ]
     },
     "metadata": {
      "needs_background": "light"
     },
     "output_type": "display_data"
    }
   ],
   "source": [
    "y_pred = model.predict(X_test)\n",
    "y_test = pd.DataFrame(y_test)\n",
    "cm = confusion_matrix(y_test, y_pred.round())\n",
    "sns.heatmap(cm, annot=True, fmt='.0f')\n",
    "plt.show()\n"
   ]
  },
  {
   "cell_type": "code",
   "execution_count": 95,
   "metadata": {
    "scrolled": true
   },
   "outputs": [
    {
     "data": {
      "image/png": "[encoded data removed]",
      "text/plain": [
       "<Figure size 432x288 with 2 Axes>"
      ]
     },
     "metadata": {
      "needs_background": "light"
     },
     "output_type": "display_data"
    }
   ],
   "source": [
    "y_pred2 = model.predict(x)\n",
    "y_test2 = pd.DataFrame(y)\n",
    "cm2 = confusion_matrix(y_test2, y_pred2.round())\n",
    "sns.heatmap(cm2, annot=True, fmt='.0f', cmap='coolwarm')\n",
    "plt.show()"
   ]
  },
  {
   "cell_type": "code",
   "execution_count": 96,
   "metadata": {},
   "outputs": [
    {
     "name": "stdout",
     "output_type": "stream",
     "text": [
      "16572/16572 [==============================] - 28s 2ms/step - loss: 0.6948 - accuracy: 0.3812\n",
      "Test Accuracy: 38.12%\n",
      "Test Loss: 0.6948111057281494\n"
     ]
    }
   ],
   "source": [
    "scoreNew = model.evaluate(x, y)\n",
    "print('Test Accuracy: {:.2f}%\\nTest Loss: {}'.format(scoreNew[1]*100,scoreNew[0]))"
   ]
  },
  {
   "cell_type": "code",
   "execution_count": 97,
   "metadata": {},
   "outputs": [
    {
     "name": "stdout",
     "output_type": "stream",
     "text": [
      "              precision    recall  f1-score   support\n",
      "\n",
      "           0       1.00      0.00      0.00    328163\n",
      "           1       0.38      1.00      0.55    202137\n",
      "\n",
      "    accuracy                           0.38    530300\n",
      "   macro avg       0.69      0.50      0.28    530300\n",
      "weighted avg       0.76      0.38      0.21    530300\n",
      "\n"
     ]
    }
   ],
   "source": [
    "print(classification_report(y_test2, y_pred2.round()))\n"
   ]
  },
  {
   "cell_type": "markdown",
   "metadata": {},
   "source": [
    "## SVM"
   ]
  },
  {
   "cell_type": "code",
   "execution_count": 45,
   "metadata": {},
   "outputs": [],
   "source": [
    "from sklearn.model_selection import train_test_split\n",
    "\n",
    "X_train, X_test, y_train, y_test = train_test_split(x, y, test_size = 0.3, random_state=42)\n",
    "# Import SVM\n",
    "from sklearn.svm import SVC\n",
    "svm = SVC()"
   ]
  },
  {
   "cell_type": "code",
   "execution_count": null,
   "metadata": {},
   "outputs": [],
   "source": [
    "\n",
    "\n",
    "\n",
    "svm.fit(X_train, y_train)\n",
    "y_pred = svm.predict(X_test)\n",
    "from sklearn.metrics import confusion_matrix, classification_report\n",
    "cm = confusion_matrix(y_test, y_pred)\n",
    "sns.heatmap(cm, annot=True, cmap=\"Paired_r\", linewidth=2, linecolor='w', fmt='.0f')\n",
    "plt.xlabel('Predicted Value')\n",
    "plt.ylabel('True Value')\n",
    "plt.show()"
   ]
  },
  {
   "cell_type": "code",
   "execution_count": 42,
   "metadata": {},
   "outputs": [],
   "source": [
    "# Normalization\n",
    "X = (x - np.min(x)) / (np.max(x) - np.min(x)).values\n",
    "X_train, X_test, y_train, y_test = train_test_split(X, y, test_size = 0.3, random_state = 42)"
   ]
  },
  {
   "cell_type": "code",
   "execution_count": null,
   "metadata": {},
   "outputs": [],
   "source": [
    "svm.fit(X_train, y_train)\n",
    "y_pred = svm.predict(X_test)"
   ]
  },
  {
   "cell_type": "code",
   "execution_count": null,
   "metadata": {},
   "outputs": [],
   "source": [
    "\n",
    "cm = confusion_matrix(y_test,y_pred)\n",
    "sns.heatmap(cm, annot=True, fmt='.0f', cmap='brg_r')\n",
    "plt.xlabel('Predicted Value')\n",
    "plt.ylabel('True Value')\n",
    "plt.show()"
   ]
  },
  {
   "cell_type": "code",
   "execution_count": null,
   "metadata": {},
   "outputs": [],
   "source": [
    "pickle.dump(svm,open(\"svm.pkl\",'wb'))"
   ]
  },
  {
   "cell_type": "code",
   "execution_count": 41,
   "metadata": {},
   "outputs": [
    {
     "ename": "NameError",
     "evalue": "name 'SVC' is not defined",
     "output_type": "error",
     "traceback": [
      "\u001b[1;31m---------------------------------------------------------------------------\u001b[0m",
      "\u001b[1;31mNameError\u001b[0m                                 Traceback (most recent call last)",
      "\u001b[1;32m~\\AppData\\Local\\Temp/ipykernel_20732/4209134136.py\u001b[0m in \u001b[0;36m<module>\u001b[1;34m\u001b[0m\n\u001b[0;32m      1\u001b[0m \u001b[1;32mfrom\u001b[0m \u001b[0msklearn\u001b[0m\u001b[1;33m.\u001b[0m\u001b[0mmodel_selection\u001b[0m \u001b[1;32mimport\u001b[0m \u001b[0mGridSearchCV\u001b[0m\u001b[1;33m\u001b[0m\u001b[1;33m\u001b[0m\u001b[0m\n\u001b[0;32m      2\u001b[0m \u001b[0mparam_grid\u001b[0m \u001b[1;33m=\u001b[0m \u001b[1;33m{\u001b[0m\u001b[1;34m'C'\u001b[0m\u001b[1;33m:\u001b[0m\u001b[1;33m[\u001b[0m\u001b[1;36m0.1\u001b[0m\u001b[1;33m,\u001b[0m \u001b[1;36m1\u001b[0m\u001b[1;33m,\u001b[0m \u001b[1;36m10\u001b[0m\u001b[1;33m,\u001b[0m \u001b[1;36m100\u001b[0m\u001b[1;33m]\u001b[0m\u001b[1;33m,\u001b[0m \u001b[1;34m'gamma'\u001b[0m\u001b[1;33m:\u001b[0m\u001b[1;33m[\u001b[0m\u001b[1;36m1\u001b[0m\u001b[1;33m,\u001b[0m \u001b[1;36m0.1\u001b[0m\u001b[1;33m,\u001b[0m \u001b[1;36m0.01\u001b[0m\u001b[1;33m,\u001b[0m \u001b[1;36m0.001\u001b[0m\u001b[1;33m]\u001b[0m\u001b[1;33m,\u001b[0m \u001b[1;34m'kernel'\u001b[0m \u001b[1;33m:\u001b[0m \u001b[1;33m[\u001b[0m\u001b[1;34m'rbf'\u001b[0m\u001b[1;33m,\u001b[0m \u001b[1;34m'poly'\u001b[0m\u001b[1;33m,\u001b[0m \u001b[1;34m'sigmoid'\u001b[0m\u001b[1;33m,\u001b[0m \u001b[1;34m'linear'\u001b[0m\u001b[1;33m]\u001b[0m\u001b[1;33m}\u001b[0m\u001b[1;33m\u001b[0m\u001b[1;33m\u001b[0m\u001b[0m\n\u001b[1;32m----> 3\u001b[1;33m \u001b[0mgrid\u001b[0m \u001b[1;33m=\u001b[0m \u001b[0mGridSearchCV\u001b[0m\u001b[1;33m(\u001b[0m\u001b[0mSVC\u001b[0m\u001b[1;33m(\u001b[0m\u001b[1;33m)\u001b[0m\u001b[1;33m,\u001b[0m \u001b[0mparam_grid\u001b[0m\u001b[1;33m,\u001b[0m \u001b[0mrefit\u001b[0m\u001b[1;33m=\u001b[0m\u001b[1;32mTrue\u001b[0m\u001b[1;33m,\u001b[0m \u001b[0mverbose\u001b[0m\u001b[1;33m=\u001b[0m\u001b[1;36m4\u001b[0m\u001b[1;33m)\u001b[0m\u001b[1;33m\u001b[0m\u001b[1;33m\u001b[0m\u001b[0m\n\u001b[0m\u001b[0;32m      4\u001b[0m \u001b[0mgrid\u001b[0m\u001b[1;33m.\u001b[0m\u001b[0mfit\u001b[0m\u001b[1;33m(\u001b[0m\u001b[0mX_train\u001b[0m\u001b[1;33m,\u001b[0m \u001b[0my_train\u001b[0m\u001b[1;33m)\u001b[0m\u001b[1;33m\u001b[0m\u001b[1;33m\u001b[0m\u001b[0m\n\u001b[0;32m      5\u001b[0m \u001b[0mprint\u001b[0m\u001b[1;33m(\u001b[0m\u001b[1;34m\"Best Parameters: \"\u001b[0m\u001b[1;33m,\u001b[0m\u001b[0mgrid\u001b[0m\u001b[1;33m.\u001b[0m\u001b[0mbest_params_\u001b[0m\u001b[1;33m)\u001b[0m\u001b[1;33m\u001b[0m\u001b[1;33m\u001b[0m\u001b[0m\n",
      "\u001b[1;31mNameError\u001b[0m: name 'SVC' is not defined"
     ]
    }
   ],
   "source": [
    "from sklearn.model_selection import GridSearchCV\n",
    "param_grid = {'C':[0.1, 1, 10, 100], 'gamma':[1, 0.1, 0.01, 0.001], 'kernel' : ['rbf', 'poly', 'sigmoid', 'linear']}\n",
    "grid = GridSearchCV(SVC(), param_grid, refit=True, verbose=4)\n",
    "grid.fit(X_train, y_train)\n",
    "print(\"Best Parameters: \",grid.best_params_)"
   ]
  },
  {
   "cell_type": "code",
   "execution_count": null,
   "metadata": {},
   "outputs": [],
   "source": [
    "grid_pred = grid.predict(X_test)\n",
    "cmNew = confusion_matrix(y_test, grid_pred)\n",
    "sns.heatmap(cmNew, annot=True, fmt='.0f', cmap='gray_r')\n",
    "plt.xlabel('Predicted Value')\n",
    "plt.ylabel('True Value')\n",
    "plt.show()"
   ]
  },
  {
   "cell_type": "code",
   "execution_count": null,
   "metadata": {},
   "outputs": [],
   "source": [
    "print(classification_report(y_test, grid_pred))\n"
   ]
  },
  {
   "cell_type": "code",
   "execution_count": 3,
   "metadata": {},
   "outputs": [],
   "source": [
    "server = \"database-1.cn5t11g2iaps.us-east-1.rds.amazonaws.com\"\n",
    "database = \"db1\"\n",
    "username = \"admin\"\n",
    "password = \"Digitalit123\"\n",
    "import pyodbc\n",
    "cnxn = pyodbc.connect('Driver={SQL Server};SERVER='+server+';DATABASE='+database+';uid='+username+';pwd='+ password) \n",
    "\n",
    "\n"
   ]
  },
  {
   "cell_type": "code",
   "execution_count": 10,
   "metadata": {},
   "outputs": [
    {
     "name": "stdout",
     "output_type": "stream",
     "text": [
      "Driver={SQL Server};SERVER=database-1.cn5t11g2iaps.us-east-1.rds.amazonaws.com;DATABASE=db1;uid=admin;pwd=Digitalit123\n"
     ]
    }
   ],
   "source": [
    "print('Driver={SQL Server};SERVER='+server+';DATABASE='+database+';uid='+username+';pwd='+ password)"
   ]
  },
  {
   "cell_type": "code",
   "execution_count": 5,
   "metadata": {
    "collapsed": true
   },
   "outputs": [
    {
     "ename": "FileNotFoundError",
     "evalue": "[Errno 2] No such file or directory: 'data/main_data.csv'",
     "output_type": "error",
     "traceback": [
      "\u001b[1;31m---------------------------------------------------------------------------\u001b[0m",
      "\u001b[1;31mFileNotFoundError\u001b[0m                         Traceback (most recent call last)",
      "\u001b[1;32m~\\AppData\\Local\\Temp/ipykernel_24924/61747772.py\u001b[0m in \u001b[0;36m<module>\u001b[1;34m\u001b[0m\n\u001b[0;32m      5\u001b[0m \u001b[0mdata\u001b[0m \u001b[1;33m=\u001b[0m \u001b[0mpd\u001b[0m\u001b[1;33m.\u001b[0m\u001b[0mread_sql\u001b[0m\u001b[1;33m(\u001b[0m\u001b[0mstr\u001b[0m\u001b[1;33m(\u001b[0m\u001b[0mquery_input\u001b[0m\u001b[1;33m)\u001b[0m\u001b[1;33m,\u001b[0m \u001b[0mcnxn\u001b[0m\u001b[1;33m)\u001b[0m\u001b[1;33m\u001b[0m\u001b[1;33m\u001b[0m\u001b[0m\n\u001b[0;32m      6\u001b[0m \u001b[1;33m\u001b[0m\u001b[0m\n\u001b[1;32m----> 7\u001b[1;33m \u001b[0mdata\u001b[0m\u001b[1;33m.\u001b[0m\u001b[0mto_csv\u001b[0m\u001b[1;33m(\u001b[0m\u001b[1;34m'data/main_data.csv'\u001b[0m\u001b[1;33m,\u001b[0m \u001b[0mindex\u001b[0m\u001b[1;33m=\u001b[0m\u001b[1;32mFalse\u001b[0m\u001b[1;33m)\u001b[0m\u001b[1;33m\u001b[0m\u001b[1;33m\u001b[0m\u001b[0m\n\u001b[0m",
      "\u001b[1;32m~\\Anaconda3\\lib\\site-packages\\pandas\\core\\generic.py\u001b[0m in \u001b[0;36mto_csv\u001b[1;34m(self, path_or_buf, sep, na_rep, float_format, columns, header, index, index_label, mode, encoding, compression, quoting, quotechar, line_terminator, chunksize, date_format, doublequote, escapechar, decimal, errors, storage_options)\u001b[0m\n\u001b[0;32m   3464\u001b[0m         )\n\u001b[0;32m   3465\u001b[0m \u001b[1;33m\u001b[0m\u001b[0m\n\u001b[1;32m-> 3466\u001b[1;33m         return DataFrameRenderer(formatter).to_csv(\n\u001b[0m\u001b[0;32m   3467\u001b[0m             \u001b[0mpath_or_buf\u001b[0m\u001b[1;33m,\u001b[0m\u001b[1;33m\u001b[0m\u001b[1;33m\u001b[0m\u001b[0m\n\u001b[0;32m   3468\u001b[0m             \u001b[0mline_terminator\u001b[0m\u001b[1;33m=\u001b[0m\u001b[0mline_terminator\u001b[0m\u001b[1;33m,\u001b[0m\u001b[1;33m\u001b[0m\u001b[1;33m\u001b[0m\u001b[0m\n",
      "\u001b[1;32m~\\Anaconda3\\lib\\site-packages\\pandas\\io\\formats\\format.py\u001b[0m in \u001b[0;36mto_csv\u001b[1;34m(self, path_or_buf, encoding, sep, columns, index_label, mode, compression, quoting, quotechar, line_terminator, chunksize, date_format, doublequote, escapechar, errors, storage_options)\u001b[0m\n\u001b[0;32m   1103\u001b[0m             \u001b[0mformatter\u001b[0m\u001b[1;33m=\u001b[0m\u001b[0mself\u001b[0m\u001b[1;33m.\u001b[0m\u001b[0mfmt\u001b[0m\u001b[1;33m,\u001b[0m\u001b[1;33m\u001b[0m\u001b[1;33m\u001b[0m\u001b[0m\n\u001b[0;32m   1104\u001b[0m         )\n\u001b[1;32m-> 1105\u001b[1;33m         \u001b[0mcsv_formatter\u001b[0m\u001b[1;33m.\u001b[0m\u001b[0msave\u001b[0m\u001b[1;33m(\u001b[0m\u001b[1;33m)\u001b[0m\u001b[1;33m\u001b[0m\u001b[1;33m\u001b[0m\u001b[0m\n\u001b[0m\u001b[0;32m   1106\u001b[0m \u001b[1;33m\u001b[0m\u001b[0m\n\u001b[0;32m   1107\u001b[0m         \u001b[1;32mif\u001b[0m \u001b[0mcreated_buffer\u001b[0m\u001b[1;33m:\u001b[0m\u001b[1;33m\u001b[0m\u001b[1;33m\u001b[0m\u001b[0m\n",
      "\u001b[1;32m~\\Anaconda3\\lib\\site-packages\\pandas\\io\\formats\\csvs.py\u001b[0m in \u001b[0;36msave\u001b[1;34m(self)\u001b[0m\n\u001b[0;32m    235\u001b[0m         \"\"\"\n\u001b[0;32m    236\u001b[0m         \u001b[1;31m# apply compression and byte/text conversion\u001b[0m\u001b[1;33m\u001b[0m\u001b[1;33m\u001b[0m\u001b[0m\n\u001b[1;32m--> 237\u001b[1;33m         with get_handle(\n\u001b[0m\u001b[0;32m    238\u001b[0m             \u001b[0mself\u001b[0m\u001b[1;33m.\u001b[0m\u001b[0mfilepath_or_buffer\u001b[0m\u001b[1;33m,\u001b[0m\u001b[1;33m\u001b[0m\u001b[1;33m\u001b[0m\u001b[0m\n\u001b[0;32m    239\u001b[0m             \u001b[0mself\u001b[0m\u001b[1;33m.\u001b[0m\u001b[0mmode\u001b[0m\u001b[1;33m,\u001b[0m\u001b[1;33m\u001b[0m\u001b[1;33m\u001b[0m\u001b[0m\n",
      "\u001b[1;32m~\\Anaconda3\\lib\\site-packages\\pandas\\io\\common.py\u001b[0m in \u001b[0;36mget_handle\u001b[1;34m(path_or_buf, mode, encoding, compression, memory_map, is_text, errors, storage_options)\u001b[0m\n\u001b[0;32m    700\u001b[0m         \u001b[1;32mif\u001b[0m \u001b[0mioargs\u001b[0m\u001b[1;33m.\u001b[0m\u001b[0mencoding\u001b[0m \u001b[1;32mand\u001b[0m \u001b[1;34m\"b\"\u001b[0m \u001b[1;32mnot\u001b[0m \u001b[1;32min\u001b[0m \u001b[0mioargs\u001b[0m\u001b[1;33m.\u001b[0m\u001b[0mmode\u001b[0m\u001b[1;33m:\u001b[0m\u001b[1;33m\u001b[0m\u001b[1;33m\u001b[0m\u001b[0m\n\u001b[0;32m    701\u001b[0m             \u001b[1;31m# Encoding\u001b[0m\u001b[1;33m\u001b[0m\u001b[1;33m\u001b[0m\u001b[0m\n\u001b[1;32m--> 702\u001b[1;33m             handle = open(\n\u001b[0m\u001b[0;32m    703\u001b[0m                 \u001b[0mhandle\u001b[0m\u001b[1;33m,\u001b[0m\u001b[1;33m\u001b[0m\u001b[1;33m\u001b[0m\u001b[0m\n\u001b[0;32m    704\u001b[0m                 \u001b[0mioargs\u001b[0m\u001b[1;33m.\u001b[0m\u001b[0mmode\u001b[0m\u001b[1;33m,\u001b[0m\u001b[1;33m\u001b[0m\u001b[1;33m\u001b[0m\u001b[0m\n",
      "\u001b[1;31mFileNotFoundError\u001b[0m: [Errno 2] No such file or directory: 'data/main_data.csv'"
     ]
    }
   ],
   "source": [
    "import pandas as pd\n",
    "\n",
    "query_input = \"SELECT * FROM db1.dbo.unseendata\"\n",
    "\n",
    "data = pd.read_sql(str(query_input), cnxn)\n"
   ]
  },
  {
   "cell_type": "code",
   "execution_count": 6,
   "metadata": {},
   "outputs": [
    {
     "data": {
      "text/html": [
       "<div>\n",
       "<style scoped>\n",
       "    .dataframe tbody tr th:only-of-type {\n",
       "        vertical-align: middle;\n",
       "    }\n",
       "\n",
       "    .dataframe tbody tr th {\n",
       "        vertical-align: top;\n",
       "    }\n",
       "\n",
       "    .dataframe thead th {\n",
       "        text-align: right;\n",
       "    }\n",
       "</style>\n",
       "<table border=\"1\" class=\"dataframe\">\n",
       "  <thead>\n",
       "    <tr style=\"text-align: right;\">\n",
       "      <th></th>\n",
       "      <th>InscClaimAmtReimbursed</th>\n",
       "      <th>EncounterType</th>\n",
       "      <th>Gender</th>\n",
       "      <th>Race</th>\n",
       "      <th>RenalDiseaseIndicator</th>\n",
       "      <th>ChronicCond_Alzheimer</th>\n",
       "      <th>ChronicCond_Heartfailure</th>\n",
       "      <th>ChronicCond_KidneyDisease</th>\n",
       "      <th>ChronicCond_Cancer</th>\n",
       "      <th>ChronicCond_ObstrPulmonary</th>\n",
       "      <th>...</th>\n",
       "      <th>ChronicCond_stroke</th>\n",
       "      <th>IPAnnualReimbursementAmt</th>\n",
       "      <th>IPAnnualDeductibleAmt</th>\n",
       "      <th>OPAnnualReimbursementAmt</th>\n",
       "      <th>OPAnnualDeductibleAmt</th>\n",
       "      <th>Age</th>\n",
       "      <th>IsDead</th>\n",
       "      <th>DaysAdmitted</th>\n",
       "      <th>TotalDiagnosis</th>\n",
       "      <th>TotalProcedure</th>\n",
       "    </tr>\n",
       "  </thead>\n",
       "  <tbody>\n",
       "    <tr>\n",
       "      <th>0</th>\n",
       "      <td>0</td>\n",
       "      <td>1</td>\n",
       "      <td>1</td>\n",
       "      <td>1</td>\n",
       "      <td>0</td>\n",
       "      <td>2</td>\n",
       "      <td>1</td>\n",
       "      <td>2</td>\n",
       "      <td>2</td>\n",
       "      <td>1</td>\n",
       "      <td>...</td>\n",
       "      <td>2</td>\n",
       "      <td>0</td>\n",
       "      <td>0</td>\n",
       "      <td>280</td>\n",
       "      <td>70</td>\n",
       "      <td>70</td>\n",
       "      <td>0</td>\n",
       "      <td>0</td>\n",
       "      <td>2</td>\n",
       "      <td>0</td>\n",
       "    </tr>\n",
       "    <tr>\n",
       "      <th>1</th>\n",
       "      <td>1100</td>\n",
       "      <td>1</td>\n",
       "      <td>1</td>\n",
       "      <td>1</td>\n",
       "      <td>0</td>\n",
       "      <td>2</td>\n",
       "      <td>1</td>\n",
       "      <td>1</td>\n",
       "      <td>2</td>\n",
       "      <td>1</td>\n",
       "      <td>...</td>\n",
       "      <td>2</td>\n",
       "      <td>7420</td>\n",
       "      <td>1068</td>\n",
       "      <td>2170</td>\n",
       "      <td>220</td>\n",
       "      <td>67</td>\n",
       "      <td>0</td>\n",
       "      <td>0</td>\n",
       "      <td>2</td>\n",
       "      <td>0</td>\n",
       "    </tr>\n",
       "    <tr>\n",
       "      <th>2</th>\n",
       "      <td>80</td>\n",
       "      <td>1</td>\n",
       "      <td>1</td>\n",
       "      <td>1</td>\n",
       "      <td>1</td>\n",
       "      <td>1</td>\n",
       "      <td>1</td>\n",
       "      <td>1</td>\n",
       "      <td>2</td>\n",
       "      <td>1</td>\n",
       "      <td>...</td>\n",
       "      <td>2</td>\n",
       "      <td>14700</td>\n",
       "      <td>1868</td>\n",
       "      <td>2760</td>\n",
       "      <td>800</td>\n",
       "      <td>95</td>\n",
       "      <td>0</td>\n",
       "      <td>0</td>\n",
       "      <td>4</td>\n",
       "      <td>0</td>\n",
       "    </tr>\n",
       "    <tr>\n",
       "      <th>3</th>\n",
       "      <td>70</td>\n",
       "      <td>1</td>\n",
       "      <td>2</td>\n",
       "      <td>1</td>\n",
       "      <td>0</td>\n",
       "      <td>1</td>\n",
       "      <td>1</td>\n",
       "      <td>1</td>\n",
       "      <td>1</td>\n",
       "      <td>1</td>\n",
       "      <td>...</td>\n",
       "      <td>2</td>\n",
       "      <td>0</td>\n",
       "      <td>0</td>\n",
       "      <td>830</td>\n",
       "      <td>490</td>\n",
       "      <td>90</td>\n",
       "      <td>0</td>\n",
       "      <td>0</td>\n",
       "      <td>4</td>\n",
       "      <td>0</td>\n",
       "    </tr>\n",
       "    <tr>\n",
       "      <th>4</th>\n",
       "      <td>300</td>\n",
       "      <td>1</td>\n",
       "      <td>2</td>\n",
       "      <td>3</td>\n",
       "      <td>1</td>\n",
       "      <td>1</td>\n",
       "      <td>1</td>\n",
       "      <td>1</td>\n",
       "      <td>2</td>\n",
       "      <td>2</td>\n",
       "      <td>...</td>\n",
       "      <td>2</td>\n",
       "      <td>0</td>\n",
       "      <td>0</td>\n",
       "      <td>20550</td>\n",
       "      <td>5040</td>\n",
       "      <td>75</td>\n",
       "      <td>0</td>\n",
       "      <td>0</td>\n",
       "      <td>3</td>\n",
       "      <td>0</td>\n",
       "    </tr>\n",
       "  </tbody>\n",
       "</table>\n",
       "<p>5 rows × 25 columns</p>\n",
       "</div>"
      ],
      "text/plain": [
       "  InscClaimAmtReimbursed EncounterType Gender Race RenalDiseaseIndicator  \\\n",
       "0                      0             1      1    1                     0   \n",
       "1                   1100             1      1    1                     0   \n",
       "2                     80             1      1    1                     1   \n",
       "3                     70             1      2    1                     0   \n",
       "4                    300             1      2    3                     1   \n",
       "\n",
       "  ChronicCond_Alzheimer ChronicCond_Heartfailure ChronicCond_KidneyDisease  \\\n",
       "0                     2                        1                         2   \n",
       "1                     2                        1                         1   \n",
       "2                     1                        1                         1   \n",
       "3                     1                        1                         1   \n",
       "4                     1                        1                         1   \n",
       "\n",
       "  ChronicCond_Cancer ChronicCond_ObstrPulmonary  ... ChronicCond_stroke  \\\n",
       "0                  2                          1  ...                  2   \n",
       "1                  2                          1  ...                  2   \n",
       "2                  2                          1  ...                  2   \n",
       "3                  1                          1  ...                  2   \n",
       "4                  2                          2  ...                  2   \n",
       "\n",
       "  IPAnnualReimbursementAmt IPAnnualDeductibleAmt OPAnnualReimbursementAmt  \\\n",
       "0                        0                     0                      280   \n",
       "1                     7420                  1068                     2170   \n",
       "2                    14700                  1868                     2760   \n",
       "3                        0                     0                      830   \n",
       "4                        0                     0                    20550   \n",
       "\n",
       "  OPAnnualDeductibleAmt Age IsDead DaysAdmitted TotalDiagnosis TotalProcedure  \n",
       "0                    70  70      0            0              2              0  \n",
       "1                   220  67      0            0              2              0  \n",
       "2                   800  95      0            0              4              0  \n",
       "3                   490  90      0            0              4              0  \n",
       "4                  5040  75      0            0              3              0  \n",
       "\n",
       "[5 rows x 25 columns]"
      ]
     },
     "execution_count": 6,
     "metadata": {},
     "output_type": "execute_result"
    }
   ],
   "source": [
    "data.head()"
   ]
  },
  {
   "cell_type": "code",
   "execution_count": 13,
   "metadata": {},
   "outputs": [],
   "source": [
    "str1 = \"Driver={SQL Server};SERVER=\""
   ]
  },
  {
   "cell_type": "code",
   "execution_count": 14,
   "metadata": {},
   "outputs": [
    {
     "data": {
      "text/plain": [
       "27"
      ]
     },
     "execution_count": 14,
     "metadata": {},
     "output_type": "execute_result"
    }
   ],
   "source": [
    "len(str1)"
   ]
  },
  {
   "cell_type": "code",
   "execution_count": 15,
   "metadata": {},
   "outputs": [],
   "source": [
    "str2 = \"Driver={SQL Server};SERVER=database-1.cn5t11g2iaps.us-east-1.rds.amazonaws.com;Database=\""
   ]
  },
  {
   "cell_type": "code",
   "execution_count": 16,
   "metadata": {},
   "outputs": [
    {
     "data": {
      "text/plain": [
       "88"
      ]
     },
     "execution_count": 16,
     "metadata": {},
     "output_type": "execute_result"
    }
   ],
   "source": [
    "len(str2)"
   ]
  },
  {
   "cell_type": "code",
   "execution_count": null,
   "metadata": {},
   "outputs": [],
   "source": []
  }
 ],
 "metadata": {
  "kernelspec": {
   "display_name": "Python 3 (ipykernel)",
   "language": "python",
   "name": "python3"
  },
  "language_info": {
   "codemirror_mode": {
    "name": "ipython",
    "version": 3
   },
   "file_extension": ".py",
   "mimetype": "text/x-python",
   "name": "python",
   "nbconvert_exporter": "python",
   "pygments_lexer": "ipython3",
   "version": "3.9.7"
  },
  "toc": {
   "base_numbering": 1,
   "nav_menu": {},
   "number_sections": true,
   "sideBar": true,
   "skip_h1_title": false,
   "title_cell": "Table of Contents",
   "title_sidebar": "Contents",
   "toc_cell": false,
   "toc_position": {
    "height": "calc(100% - 180px)",
    "left": "10px",
    "top": "150px",
    "width": "320px"
   },
   "toc_section_display": true,
   "toc_window_display": true
  }
 },
 "nbformat": 4,
 "nbformat_minor": 4
}
